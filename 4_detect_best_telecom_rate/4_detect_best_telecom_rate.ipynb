{
 "cells": [
  {
   "cell_type": "markdown",
   "metadata": {},
   "source": [
    "<a name=\"0\"></a>\n",
    "### Оглавление:\n",
    "\n",
    "[1. Файл с данными, общая информация](#1)\n",
    "\n",
    "[2. Подготовка данных](#2)\n",
    "\n",
    "[3. Анализ данных](#3)\n",
    "\n",
    "[4. Проверка гипотез](#4)\n",
    "\n",
    "[5. Вывод](#5)"
   ]
  },
  {
   "cell_type": "markdown",
   "metadata": {},
   "source": [
    "## Определение перспективного тарифа для телеком компании"
   ]
  },
  {
   "cell_type": "markdown",
   "metadata": {},
   "source": [
    "### Цель проекта:\n",
    "\n",
    "Определить какой тариф выгоднее: «smart» и «ultra»?"
   ]
  },
  {
   "cell_type": "markdown",
   "metadata": {},
   "source": [
    "### Описание проекта:\n",
    "\n",
    "Проведен анализ данных тарифных планов «smart» и «ultra» компании «Мегалайн» основываясь выборке клиентов за 2018 год с целью определения наиболее прибыльного\n",
    "\n",
    "Основные этапы проекта:\n",
    "- анализ данных на предмет ошибок и их устранение\n",
    "- приведение данных к требуемым форматам и группировка по признакам\n",
    "- статистический анализ и проверка гипотез\n",
    "- сравнение\n",
    "- вывод о прибыльности\n",
    "\n",
    "\n",
    "Данные для анализа:\n",
    "\n",
    "\n",
    "1. информация о пользователях **df_users** \n",
    "\n",
    "    1.1 user_id — уникальный идентификатор пользователя\n",
    "    \n",
    "    1.2 first_name — имя пользователя\n",
    "    \n",
    "    1.3 last_name — фамилия пользователя\n",
    "    \n",
    "    1.4 age — возраст пользователя (годы)\n",
    "    \n",
    "    1.5 reg_date — дата подключения тарифа (день, месяц, год)\n",
    "    \n",
    "    1.6 churn_date — дата прекращения пользования тарифом\n",
    "    \n",
    "    1.7 city — город проживания пользователя\n",
    "    \n",
    "    1.8 tariff — название тарифного плана\n",
    "    \n",
    "    \n",
    "2. информация о звонках **df_calls**\n",
    "\n",
    "    2.1 id — уникальный номер звонка\n",
    "    \n",
    "    2.2 call_date — дата звонка\n",
    "    \n",
    "    2.3 duration — длительность звонка в минутах\n",
    "    \n",
    "    2.4 user_id — идентификатор пользователя\n",
    "    \n",
    "    \n",
    "3. информация о сообщениях **df_messages**:\n",
    "\n",
    "    3.1 id — уникальный номер сообщения\n",
    "    \n",
    "    3.2 message_date — дата сообщения\n",
    "    \n",
    "    3.3 user_id — идентификатор пользователя, отправившего сообщение\n",
    "    \n",
    "    \n",
    "4. информация об интернет-сессиях **df_internet**:\n",
    "\n",
    "    4.1 id — уникальный номер сессии\n",
    "    \n",
    "    4.2 mb_used — объём потраченного за сессию интернет-трафика (в мегабайтах)\n",
    "    \n",
    "    4.3 session_date — дата интернет-сессии\n",
    "    \n",
    "    4.4 user_id — идентификатор пользователя\n",
    "    \n",
    "    \n",
    "5. информация о тарифах **df_tariffs**:\n",
    "\n",
    "    5.1 tariff_name — название тарифа\n",
    "    \n",
    "    5.2 rub_monthly_fee — ежемесячная абонентская плата в рублях\n",
    "    \n",
    "    5.3 minutes_included — количество минут разговора в месяц, включённых в абонентскую плату\n",
    "    \n",
    "    5.4 messages_included — количество сообщений в месяц, включённых в абонентскую плату\n",
    "    \n",
    "    5.5 mb_per_month_included — объём интернет-трафика, включённого в абонентскую плату (в мегабайтах)\n",
    "    \n",
    "    5.6 rub_per_minute — стоимость минуты разговора сверх тарифного пакета\n",
    "    \n",
    "    5.7 rub_per_message — стоимость отправки сообщения сверх тарифного пакета\n",
    "    \n",
    "    5.8 rub_per_gb — стоимость дополнительного гигабайта интернет-трафика сверх тарифного пакета"
   ]
  },
  {
   "cell_type": "markdown",
   "metadata": {},
   "source": [
    "<a name=\"1\"></a>\n",
    "[Назад к оглавлению](#0)\n",
    "\n",
    "## 1. Файл с данными, общая информация \n"
   ]
  },
  {
   "cell_type": "code",
   "execution_count": 1,
   "metadata": {},
   "outputs": [],
   "source": [
    "import pandas as pd\n",
    "import numpy as np\n",
    "import datetime\n",
    "import matplotlib.pyplot as plt\n",
    "from IPython.display import display\n",
    "from scipy import stats as st\n",
    "pd.set_option('display.max_columns', None)\n",
    "pd.set_option('display.max_rows', None)"
   ]
  },
  {
   "cell_type": "code",
   "execution_count": 2,
   "metadata": {},
   "outputs": [],
   "source": [
    "df_calls = pd.read_csv('/datasets/calls.csv')"
   ]
  },
  {
   "cell_type": "code",
   "execution_count": 3,
   "metadata": {},
   "outputs": [],
   "source": [
    "df_internet = pd.read_csv('/datasets/internet.csv', index_col=0)"
   ]
  },
  {
   "cell_type": "code",
   "execution_count": 4,
   "metadata": {},
   "outputs": [],
   "source": [
    "df_messages = pd.read_csv('/datasets/messages.csv')"
   ]
  },
  {
   "cell_type": "code",
   "execution_count": 5,
   "metadata": {},
   "outputs": [],
   "source": [
    "df_tariffs = pd.read_csv('/datasets/tariffs.csv')"
   ]
  },
  {
   "cell_type": "code",
   "execution_count": 6,
   "metadata": {},
   "outputs": [],
   "source": [
    "df_users = pd.read_csv('/datasets/users.csv')"
   ]
  },
  {
   "cell_type": "code",
   "execution_count": 7,
   "metadata": {},
   "outputs": [
    {
     "data": {
      "text/plain": [
       "0"
      ]
     },
     "execution_count": 7,
     "metadata": {},
     "output_type": "execute_result"
    }
   ],
   "source": [
    "df_calls.duplicated().sum()"
   ]
  },
  {
   "cell_type": "code",
   "execution_count": 8,
   "metadata": {},
   "outputs": [
    {
     "name": "stdout",
     "output_type": "stream",
     "text": [
      "<class 'pandas.core.frame.DataFrame'>\n",
      "RangeIndex: 202607 entries, 0 to 202606\n",
      "Data columns (total 4 columns):\n",
      " #   Column     Non-Null Count   Dtype  \n",
      "---  ------     --------------   -----  \n",
      " 0   id         202607 non-null  object \n",
      " 1   call_date  202607 non-null  object \n",
      " 2   duration   202607 non-null  float64\n",
      " 3   user_id    202607 non-null  int64  \n",
      "dtypes: float64(1), int64(1), object(2)\n",
      "memory usage: 6.2+ MB\n"
     ]
    }
   ],
   "source": [
    "df_calls.info()"
   ]
  },
  {
   "cell_type": "code",
   "execution_count": 9,
   "metadata": {},
   "outputs": [
    {
     "data": {
      "text/html": [
       "<div>\n",
       "<style scoped>\n",
       "    .dataframe tbody tr th:only-of-type {\n",
       "        vertical-align: middle;\n",
       "    }\n",
       "\n",
       "    .dataframe tbody tr th {\n",
       "        vertical-align: top;\n",
       "    }\n",
       "\n",
       "    .dataframe thead th {\n",
       "        text-align: right;\n",
       "    }\n",
       "</style>\n",
       "<table border=\"1\" class=\"dataframe\">\n",
       "  <thead>\n",
       "    <tr style=\"text-align: right;\">\n",
       "      <th></th>\n",
       "      <th>id</th>\n",
       "      <th>call_date</th>\n",
       "      <th>duration</th>\n",
       "      <th>user_id</th>\n",
       "    </tr>\n",
       "  </thead>\n",
       "  <tbody>\n",
       "    <tr>\n",
       "      <th>0</th>\n",
       "      <td>1000_0</td>\n",
       "      <td>2018-07-25</td>\n",
       "      <td>0.00</td>\n",
       "      <td>1000</td>\n",
       "    </tr>\n",
       "    <tr>\n",
       "      <th>1</th>\n",
       "      <td>1000_1</td>\n",
       "      <td>2018-08-17</td>\n",
       "      <td>0.00</td>\n",
       "      <td>1000</td>\n",
       "    </tr>\n",
       "    <tr>\n",
       "      <th>2</th>\n",
       "      <td>1000_2</td>\n",
       "      <td>2018-06-11</td>\n",
       "      <td>2.85</td>\n",
       "      <td>1000</td>\n",
       "    </tr>\n",
       "    <tr>\n",
       "      <th>3</th>\n",
       "      <td>1000_3</td>\n",
       "      <td>2018-09-21</td>\n",
       "      <td>13.80</td>\n",
       "      <td>1000</td>\n",
       "    </tr>\n",
       "    <tr>\n",
       "      <th>4</th>\n",
       "      <td>1000_4</td>\n",
       "      <td>2018-12-15</td>\n",
       "      <td>5.18</td>\n",
       "      <td>1000</td>\n",
       "    </tr>\n",
       "  </tbody>\n",
       "</table>\n",
       "</div>"
      ],
      "text/plain": [
       "       id   call_date  duration  user_id\n",
       "0  1000_0  2018-07-25      0.00     1000\n",
       "1  1000_1  2018-08-17      0.00     1000\n",
       "2  1000_2  2018-06-11      2.85     1000\n",
       "3  1000_3  2018-09-21     13.80     1000\n",
       "4  1000_4  2018-12-15      5.18     1000"
      ]
     },
     "execution_count": 9,
     "metadata": {},
     "output_type": "execute_result"
    }
   ],
   "source": [
    "df_calls.head()"
   ]
  },
  {
   "cell_type": "markdown",
   "metadata": {},
   "source": [
    "Датасет df_calls содержит 202607 записей\n",
    "\n",
    "Типы данных *int64, float64, object*"
   ]
  },
  {
   "cell_type": "code",
   "execution_count": 10,
   "metadata": {},
   "outputs": [
    {
     "data": {
      "text/html": [
       "<div>\n",
       "<style scoped>\n",
       "    .dataframe tbody tr th:only-of-type {\n",
       "        vertical-align: middle;\n",
       "    }\n",
       "\n",
       "    .dataframe tbody tr th {\n",
       "        vertical-align: top;\n",
       "    }\n",
       "\n",
       "    .dataframe thead th {\n",
       "        text-align: right;\n",
       "    }\n",
       "</style>\n",
       "<table border=\"1\" class=\"dataframe\">\n",
       "  <thead>\n",
       "    <tr style=\"text-align: right;\">\n",
       "      <th></th>\n",
       "      <th>id</th>\n",
       "      <th>mb_used</th>\n",
       "      <th>session_date</th>\n",
       "      <th>user_id</th>\n",
       "    </tr>\n",
       "  </thead>\n",
       "  <tbody>\n",
       "    <tr>\n",
       "      <th>0</th>\n",
       "      <td>1000_0</td>\n",
       "      <td>112.95</td>\n",
       "      <td>2018-11-25</td>\n",
       "      <td>1000</td>\n",
       "    </tr>\n",
       "    <tr>\n",
       "      <th>1</th>\n",
       "      <td>1000_1</td>\n",
       "      <td>1052.81</td>\n",
       "      <td>2018-09-07</td>\n",
       "      <td>1000</td>\n",
       "    </tr>\n",
       "    <tr>\n",
       "      <th>2</th>\n",
       "      <td>1000_2</td>\n",
       "      <td>1197.26</td>\n",
       "      <td>2018-06-25</td>\n",
       "      <td>1000</td>\n",
       "    </tr>\n",
       "    <tr>\n",
       "      <th>3</th>\n",
       "      <td>1000_3</td>\n",
       "      <td>550.27</td>\n",
       "      <td>2018-08-22</td>\n",
       "      <td>1000</td>\n",
       "    </tr>\n",
       "    <tr>\n",
       "      <th>4</th>\n",
       "      <td>1000_4</td>\n",
       "      <td>302.56</td>\n",
       "      <td>2018-09-24</td>\n",
       "      <td>1000</td>\n",
       "    </tr>\n",
       "  </tbody>\n",
       "</table>\n",
       "</div>"
      ],
      "text/plain": [
       "       id  mb_used session_date  user_id\n",
       "0  1000_0   112.95   2018-11-25     1000\n",
       "1  1000_1  1052.81   2018-09-07     1000\n",
       "2  1000_2  1197.26   2018-06-25     1000\n",
       "3  1000_3   550.27   2018-08-22     1000\n",
       "4  1000_4   302.56   2018-09-24     1000"
      ]
     },
     "execution_count": 10,
     "metadata": {},
     "output_type": "execute_result"
    }
   ],
   "source": [
    "df_internet.head()"
   ]
  },
  {
   "cell_type": "code",
   "execution_count": 11,
   "metadata": {},
   "outputs": [
    {
     "data": {
      "text/plain": [
       "0"
      ]
     },
     "execution_count": 11,
     "metadata": {},
     "output_type": "execute_result"
    }
   ],
   "source": [
    "df_internet.duplicated().sum()"
   ]
  },
  {
   "cell_type": "code",
   "execution_count": 12,
   "metadata": {},
   "outputs": [
    {
     "name": "stdout",
     "output_type": "stream",
     "text": [
      "<class 'pandas.core.frame.DataFrame'>\n",
      "Int64Index: 149396 entries, 0 to 149395\n",
      "Data columns (total 4 columns):\n",
      " #   Column        Non-Null Count   Dtype  \n",
      "---  ------        --------------   -----  \n",
      " 0   id            149396 non-null  object \n",
      " 1   mb_used       149396 non-null  float64\n",
      " 2   session_date  149396 non-null  object \n",
      " 3   user_id       149396 non-null  int64  \n",
      "dtypes: float64(1), int64(1), object(2)\n",
      "memory usage: 5.7+ MB\n"
     ]
    }
   ],
   "source": [
    "df_internet.info()"
   ]
  },
  {
   "cell_type": "markdown",
   "metadata": {},
   "source": [
    "Датасет df_internet содержит 149396 записей\n",
    "\n",
    "Типы данных *int64, object, float64* (после изменения)"
   ]
  },
  {
   "cell_type": "code",
   "execution_count": 13,
   "metadata": {},
   "outputs": [
    {
     "data": {
      "text/html": [
       "<div>\n",
       "<style scoped>\n",
       "    .dataframe tbody tr th:only-of-type {\n",
       "        vertical-align: middle;\n",
       "    }\n",
       "\n",
       "    .dataframe tbody tr th {\n",
       "        vertical-align: top;\n",
       "    }\n",
       "\n",
       "    .dataframe thead th {\n",
       "        text-align: right;\n",
       "    }\n",
       "</style>\n",
       "<table border=\"1\" class=\"dataframe\">\n",
       "  <thead>\n",
       "    <tr style=\"text-align: right;\">\n",
       "      <th></th>\n",
       "      <th>id</th>\n",
       "      <th>message_date</th>\n",
       "      <th>user_id</th>\n",
       "    </tr>\n",
       "  </thead>\n",
       "  <tbody>\n",
       "    <tr>\n",
       "      <th>0</th>\n",
       "      <td>1000_0</td>\n",
       "      <td>2018-06-27</td>\n",
       "      <td>1000</td>\n",
       "    </tr>\n",
       "    <tr>\n",
       "      <th>1</th>\n",
       "      <td>1000_1</td>\n",
       "      <td>2018-10-08</td>\n",
       "      <td>1000</td>\n",
       "    </tr>\n",
       "    <tr>\n",
       "      <th>2</th>\n",
       "      <td>1000_2</td>\n",
       "      <td>2018-08-04</td>\n",
       "      <td>1000</td>\n",
       "    </tr>\n",
       "    <tr>\n",
       "      <th>3</th>\n",
       "      <td>1000_3</td>\n",
       "      <td>2018-06-16</td>\n",
       "      <td>1000</td>\n",
       "    </tr>\n",
       "    <tr>\n",
       "      <th>4</th>\n",
       "      <td>1000_4</td>\n",
       "      <td>2018-12-05</td>\n",
       "      <td>1000</td>\n",
       "    </tr>\n",
       "  </tbody>\n",
       "</table>\n",
       "</div>"
      ],
      "text/plain": [
       "       id message_date  user_id\n",
       "0  1000_0   2018-06-27     1000\n",
       "1  1000_1   2018-10-08     1000\n",
       "2  1000_2   2018-08-04     1000\n",
       "3  1000_3   2018-06-16     1000\n",
       "4  1000_4   2018-12-05     1000"
      ]
     },
     "execution_count": 13,
     "metadata": {},
     "output_type": "execute_result"
    }
   ],
   "source": [
    "df_messages.head()"
   ]
  },
  {
   "cell_type": "code",
   "execution_count": 14,
   "metadata": {},
   "outputs": [
    {
     "data": {
      "text/plain": [
       "0"
      ]
     },
     "execution_count": 14,
     "metadata": {},
     "output_type": "execute_result"
    }
   ],
   "source": [
    "df_messages.duplicated().sum()"
   ]
  },
  {
   "cell_type": "code",
   "execution_count": 15,
   "metadata": {},
   "outputs": [
    {
     "name": "stdout",
     "output_type": "stream",
     "text": [
      "<class 'pandas.core.frame.DataFrame'>\n",
      "RangeIndex: 123036 entries, 0 to 123035\n",
      "Data columns (total 3 columns):\n",
      " #   Column        Non-Null Count   Dtype \n",
      "---  ------        --------------   ----- \n",
      " 0   id            123036 non-null  object\n",
      " 1   message_date  123036 non-null  object\n",
      " 2   user_id       123036 non-null  int64 \n",
      "dtypes: int64(1), object(2)\n",
      "memory usage: 2.8+ MB\n"
     ]
    }
   ],
   "source": [
    "df_messages.info()"
   ]
  },
  {
   "cell_type": "markdown",
   "metadata": {},
   "source": [
    "Датасет df_messages содержит 123036 записей\n",
    "\n",
    "Типы данных *int64, object* и *datetime* (после изменения)\n",
    "\n",
    "Категориальные и количественные данные"
   ]
  },
  {
   "cell_type": "code",
   "execution_count": 16,
   "metadata": {},
   "outputs": [
    {
     "data": {
      "text/html": [
       "<div>\n",
       "<style scoped>\n",
       "    .dataframe tbody tr th:only-of-type {\n",
       "        vertical-align: middle;\n",
       "    }\n",
       "\n",
       "    .dataframe tbody tr th {\n",
       "        vertical-align: top;\n",
       "    }\n",
       "\n",
       "    .dataframe thead th {\n",
       "        text-align: right;\n",
       "    }\n",
       "</style>\n",
       "<table border=\"1\" class=\"dataframe\">\n",
       "  <thead>\n",
       "    <tr style=\"text-align: right;\">\n",
       "      <th></th>\n",
       "      <th>messages_included</th>\n",
       "      <th>mb_per_month_included</th>\n",
       "      <th>minutes_included</th>\n",
       "      <th>rub_monthly_fee</th>\n",
       "      <th>rub_per_gb</th>\n",
       "      <th>rub_per_message</th>\n",
       "      <th>rub_per_minute</th>\n",
       "      <th>tariff_name</th>\n",
       "    </tr>\n",
       "  </thead>\n",
       "  <tbody>\n",
       "    <tr>\n",
       "      <th>0</th>\n",
       "      <td>50</td>\n",
       "      <td>15360</td>\n",
       "      <td>500</td>\n",
       "      <td>550</td>\n",
       "      <td>200</td>\n",
       "      <td>3</td>\n",
       "      <td>3</td>\n",
       "      <td>smart</td>\n",
       "    </tr>\n",
       "    <tr>\n",
       "      <th>1</th>\n",
       "      <td>1000</td>\n",
       "      <td>30720</td>\n",
       "      <td>3000</td>\n",
       "      <td>1950</td>\n",
       "      <td>150</td>\n",
       "      <td>1</td>\n",
       "      <td>1</td>\n",
       "      <td>ultra</td>\n",
       "    </tr>\n",
       "  </tbody>\n",
       "</table>\n",
       "</div>"
      ],
      "text/plain": [
       "   messages_included  mb_per_month_included  minutes_included  \\\n",
       "0                 50                  15360               500   \n",
       "1               1000                  30720              3000   \n",
       "\n",
       "   rub_monthly_fee  rub_per_gb  rub_per_message  rub_per_minute tariff_name  \n",
       "0              550         200                3               3       smart  \n",
       "1             1950         150                1               1       ultra  "
      ]
     },
     "execution_count": 16,
     "metadata": {},
     "output_type": "execute_result"
    }
   ],
   "source": [
    "df_tariffs"
   ]
  },
  {
   "cell_type": "code",
   "execution_count": 17,
   "metadata": {},
   "outputs": [
    {
     "name": "stdout",
     "output_type": "stream",
     "text": [
      "<class 'pandas.core.frame.DataFrame'>\n",
      "RangeIndex: 2 entries, 0 to 1\n",
      "Data columns (total 8 columns):\n",
      " #   Column                 Non-Null Count  Dtype \n",
      "---  ------                 --------------  ----- \n",
      " 0   messages_included      2 non-null      int64 \n",
      " 1   mb_per_month_included  2 non-null      int64 \n",
      " 2   minutes_included       2 non-null      int64 \n",
      " 3   rub_monthly_fee        2 non-null      int64 \n",
      " 4   rub_per_gb             2 non-null      int64 \n",
      " 5   rub_per_message        2 non-null      int64 \n",
      " 6   rub_per_minute         2 non-null      int64 \n",
      " 7   tariff_name            2 non-null      object\n",
      "dtypes: int64(7), object(1)\n",
      "memory usage: 256.0+ bytes\n"
     ]
    }
   ],
   "source": [
    "df_tariffs.info()"
   ]
  },
  {
   "cell_type": "code",
   "execution_count": 18,
   "metadata": {},
   "outputs": [
    {
     "data": {
      "text/html": [
       "<div>\n",
       "<style scoped>\n",
       "    .dataframe tbody tr th:only-of-type {\n",
       "        vertical-align: middle;\n",
       "    }\n",
       "\n",
       "    .dataframe tbody tr th {\n",
       "        vertical-align: top;\n",
       "    }\n",
       "\n",
       "    .dataframe thead th {\n",
       "        text-align: right;\n",
       "    }\n",
       "</style>\n",
       "<table border=\"1\" class=\"dataframe\">\n",
       "  <thead>\n",
       "    <tr style=\"text-align: right;\">\n",
       "      <th></th>\n",
       "      <th>user_id</th>\n",
       "      <th>age</th>\n",
       "      <th>churn_date</th>\n",
       "      <th>city</th>\n",
       "      <th>first_name</th>\n",
       "      <th>last_name</th>\n",
       "      <th>reg_date</th>\n",
       "      <th>tariff</th>\n",
       "    </tr>\n",
       "  </thead>\n",
       "  <tbody>\n",
       "    <tr>\n",
       "      <th>0</th>\n",
       "      <td>1000</td>\n",
       "      <td>52</td>\n",
       "      <td>NaN</td>\n",
       "      <td>Краснодар</td>\n",
       "      <td>Рафаил</td>\n",
       "      <td>Верещагин</td>\n",
       "      <td>2018-05-25</td>\n",
       "      <td>ultra</td>\n",
       "    </tr>\n",
       "    <tr>\n",
       "      <th>1</th>\n",
       "      <td>1001</td>\n",
       "      <td>41</td>\n",
       "      <td>NaN</td>\n",
       "      <td>Москва</td>\n",
       "      <td>Иван</td>\n",
       "      <td>Ежов</td>\n",
       "      <td>2018-11-01</td>\n",
       "      <td>smart</td>\n",
       "    </tr>\n",
       "    <tr>\n",
       "      <th>2</th>\n",
       "      <td>1002</td>\n",
       "      <td>59</td>\n",
       "      <td>NaN</td>\n",
       "      <td>Стерлитамак</td>\n",
       "      <td>Евгений</td>\n",
       "      <td>Абрамович</td>\n",
       "      <td>2018-06-17</td>\n",
       "      <td>smart</td>\n",
       "    </tr>\n",
       "    <tr>\n",
       "      <th>3</th>\n",
       "      <td>1003</td>\n",
       "      <td>23</td>\n",
       "      <td>NaN</td>\n",
       "      <td>Москва</td>\n",
       "      <td>Белла</td>\n",
       "      <td>Белякова</td>\n",
       "      <td>2018-08-17</td>\n",
       "      <td>ultra</td>\n",
       "    </tr>\n",
       "    <tr>\n",
       "      <th>4</th>\n",
       "      <td>1004</td>\n",
       "      <td>68</td>\n",
       "      <td>NaN</td>\n",
       "      <td>Новокузнецк</td>\n",
       "      <td>Татьяна</td>\n",
       "      <td>Авдеенко</td>\n",
       "      <td>2018-05-14</td>\n",
       "      <td>ultra</td>\n",
       "    </tr>\n",
       "  </tbody>\n",
       "</table>\n",
       "</div>"
      ],
      "text/plain": [
       "   user_id  age churn_date         city first_name  last_name    reg_date  \\\n",
       "0     1000   52        NaN    Краснодар     Рафаил  Верещагин  2018-05-25   \n",
       "1     1001   41        NaN       Москва       Иван       Ежов  2018-11-01   \n",
       "2     1002   59        NaN  Стерлитамак    Евгений  Абрамович  2018-06-17   \n",
       "3     1003   23        NaN       Москва      Белла   Белякова  2018-08-17   \n",
       "4     1004   68        NaN  Новокузнецк    Татьяна   Авдеенко  2018-05-14   \n",
       "\n",
       "  tariff  \n",
       "0  ultra  \n",
       "1  smart  \n",
       "2  smart  \n",
       "3  ultra  \n",
       "4  ultra  "
      ]
     },
     "execution_count": 18,
     "metadata": {},
     "output_type": "execute_result"
    }
   ],
   "source": [
    "df_users.head()"
   ]
  },
  {
   "cell_type": "code",
   "execution_count": 19,
   "metadata": {},
   "outputs": [
    {
     "data": {
      "text/plain": [
       "0"
      ]
     },
     "execution_count": 19,
     "metadata": {},
     "output_type": "execute_result"
    }
   ],
   "source": [
    "df_users.duplicated().sum()"
   ]
  },
  {
   "cell_type": "code",
   "execution_count": 20,
   "metadata": {},
   "outputs": [
    {
     "name": "stdout",
     "output_type": "stream",
     "text": [
      "<class 'pandas.core.frame.DataFrame'>\n",
      "RangeIndex: 500 entries, 0 to 499\n",
      "Data columns (total 8 columns):\n",
      " #   Column      Non-Null Count  Dtype \n",
      "---  ------      --------------  ----- \n",
      " 0   user_id     500 non-null    int64 \n",
      " 1   age         500 non-null    int64 \n",
      " 2   churn_date  38 non-null     object\n",
      " 3   city        500 non-null    object\n",
      " 4   first_name  500 non-null    object\n",
      " 5   last_name   500 non-null    object\n",
      " 6   reg_date    500 non-null    object\n",
      " 7   tariff      500 non-null    object\n",
      "dtypes: int64(2), object(6)\n",
      "memory usage: 31.4+ KB\n"
     ]
    }
   ],
   "source": [
    "df_users.info()"
   ]
  },
  {
   "cell_type": "markdown",
   "metadata": {},
   "source": [
    "###### Вывод\n",
    "\n",
    "1. Данные содержат от 2х до 202607 записей\n",
    "\n",
    "2. Типы данных *int64, float64, object* и *datetime* (после изменения)\n",
    "\n",
    "3. Категориальные и количественные данные\n",
    "\n",
    "4. Полные дубликаты отсутствуют\n",
    "\n",
    "5. **df_calls.call_date**, **df_internet.session_date**, **df_messages.message_date**, **df_users.reg_date** - тип данных object\n",
    "для корректного анализа изменим на тип datetime\n",
    "\n",
    "6. **df_users.churn_date** - пропуски типа NAN 462шт. заменим на \"1970-01-01\" - означает, что абонент пользуется номером. "
   ]
  },
  {
   "cell_type": "markdown",
   "metadata": {},
   "source": [
    "<a name=\"2\"></a>\n",
    "[Назад к оглавлению](#0)\n",
    "\n",
    "## 2. Подготовка данных\n"
   ]
  },
  {
   "cell_type": "markdown",
   "metadata": {},
   "source": [
    "* Приведение данных к нужным типам"
   ]
  },
  {
   "cell_type": "markdown",
   "metadata": {},
   "source": [
    "Округляем время разговора в минутах и трафик интернета в мегабайтах в большую сторону до целого - политика предоставления услуг \"Мегалайн\""
   ]
  },
  {
   "cell_type": "code",
   "execution_count": 21,
   "metadata": {},
   "outputs": [],
   "source": [
    "df_calls.duration = np.ceil(df_calls.duration).astype(int)"
   ]
  },
  {
   "cell_type": "code",
   "execution_count": 22,
   "metadata": {},
   "outputs": [],
   "source": [
    "df_internet.mb_used = np.ceil(df_internet.mb_used).astype(int)"
   ]
  },
  {
   "cell_type": "markdown",
   "metadata": {},
   "source": [
    "тип object для корректного анализа изменяем на тип datetime"
   ]
  },
  {
   "cell_type": "code",
   "execution_count": 23,
   "metadata": {},
   "outputs": [],
   "source": [
    "df_calls.call_date = pd.to_datetime(df_calls.call_date, format='%Y-%m-%dT%H:%M:%S')"
   ]
  },
  {
   "cell_type": "code",
   "execution_count": 24,
   "metadata": {},
   "outputs": [],
   "source": [
    "df_messages.message_date = pd.to_datetime(df_messages.message_date, format='%Y-%m-%dT%H:%M:%S')"
   ]
  },
  {
   "cell_type": "code",
   "execution_count": 25,
   "metadata": {},
   "outputs": [],
   "source": [
    "df_internet.session_date = pd.to_datetime(df_internet.session_date, format='%Y-%m-%dT%H:%M:%S')"
   ]
  },
  {
   "cell_type": "code",
   "execution_count": 26,
   "metadata": {},
   "outputs": [],
   "source": [
    "df_users.reg_date = pd.to_datetime(df_users.reg_date, format='%Y-%m-%dT%H:%M:%S')"
   ]
  },
  {
   "cell_type": "markdown",
   "metadata": {},
   "source": [
    "<a name=\"8\"></a>"
   ]
  },
  {
   "cell_type": "markdown",
   "metadata": {},
   "source": [
    "пропуски типа NaN 462шт. заменяем на \"0\" - отображается в системе Unix-время 1970-01-01 и означает, что абонент пользуется номером"
   ]
  },
  {
   "cell_type": "code",
   "execution_count": 27,
   "metadata": {},
   "outputs": [],
   "source": [
    "df_users.churn_date = df_users.churn_date.fillna(0)"
   ]
  },
  {
   "cell_type": "code",
   "execution_count": 28,
   "metadata": {},
   "outputs": [],
   "source": [
    "df_users.churn_date = pd.to_datetime(df_users.churn_date, format='%Y-%m-%dT%H:%M:%S')"
   ]
  },
  {
   "cell_type": "markdown",
   "metadata": {},
   "source": [
    "* Поиск ошибок в данных"
   ]
  },
  {
   "cell_type": "markdown",
   "metadata": {},
   "source": [
    "**df_calls**"
   ]
  },
  {
   "cell_type": "code",
   "execution_count": 29,
   "metadata": {},
   "outputs": [
    {
     "data": {
      "text/html": [
       "<div>\n",
       "<style scoped>\n",
       "    .dataframe tbody tr th:only-of-type {\n",
       "        vertical-align: middle;\n",
       "    }\n",
       "\n",
       "    .dataframe tbody tr th {\n",
       "        vertical-align: top;\n",
       "    }\n",
       "\n",
       "    .dataframe thead th {\n",
       "        text-align: right;\n",
       "    }\n",
       "</style>\n",
       "<table border=\"1\" class=\"dataframe\">\n",
       "  <thead>\n",
       "    <tr style=\"text-align: right;\">\n",
       "      <th></th>\n",
       "      <th>duration</th>\n",
       "      <th>user_id</th>\n",
       "    </tr>\n",
       "  </thead>\n",
       "  <tbody>\n",
       "    <tr>\n",
       "      <th>count</th>\n",
       "      <td>202607.000000</td>\n",
       "      <td>202607.000000</td>\n",
       "    </tr>\n",
       "    <tr>\n",
       "      <th>mean</th>\n",
       "      <td>7.158198</td>\n",
       "      <td>1253.940619</td>\n",
       "    </tr>\n",
       "    <tr>\n",
       "      <th>std</th>\n",
       "      <td>5.959173</td>\n",
       "      <td>144.722751</td>\n",
       "    </tr>\n",
       "    <tr>\n",
       "      <th>min</th>\n",
       "      <td>0.000000</td>\n",
       "      <td>1000.000000</td>\n",
       "    </tr>\n",
       "    <tr>\n",
       "      <th>25%</th>\n",
       "      <td>2.000000</td>\n",
       "      <td>1126.000000</td>\n",
       "    </tr>\n",
       "    <tr>\n",
       "      <th>50%</th>\n",
       "      <td>6.000000</td>\n",
       "      <td>1260.000000</td>\n",
       "    </tr>\n",
       "    <tr>\n",
       "      <th>75%</th>\n",
       "      <td>11.000000</td>\n",
       "      <td>1379.000000</td>\n",
       "    </tr>\n",
       "    <tr>\n",
       "      <th>max</th>\n",
       "      <td>38.000000</td>\n",
       "      <td>1499.000000</td>\n",
       "    </tr>\n",
       "  </tbody>\n",
       "</table>\n",
       "</div>"
      ],
      "text/plain": [
       "            duration        user_id\n",
       "count  202607.000000  202607.000000\n",
       "mean        7.158198    1253.940619\n",
       "std         5.959173     144.722751\n",
       "min         0.000000    1000.000000\n",
       "25%         2.000000    1126.000000\n",
       "50%         6.000000    1260.000000\n",
       "75%        11.000000    1379.000000\n",
       "max        38.000000    1499.000000"
      ]
     },
     "execution_count": 29,
     "metadata": {},
     "output_type": "execute_result"
    }
   ],
   "source": [
    "df_calls.describe()"
   ]
  },
  {
   "cell_type": "code",
   "execution_count": 30,
   "metadata": {},
   "outputs": [
    {
     "data": {
      "text/plain": [
       "19.551644316336553"
      ]
     },
     "execution_count": 30,
     "metadata": {},
     "output_type": "execute_result"
    }
   ],
   "source": [
    "df_calls.query('duration == 0').duration.count() / len(df_calls) * 100"
   ]
  },
  {
   "cell_type": "markdown",
   "metadata": {},
   "source": [
    "Почти 20% звонков имеют длительность 0 сек. Вероятно, это пропущенные, сброшенные звонки или подобного рода короткие соединения. Не удяляем и оставляем в таком виде для анализа, что бы сохранить данные"
   ]
  },
  {
   "cell_type": "markdown",
   "metadata": {},
   "source": [
    "**df_internet**"
   ]
  },
  {
   "cell_type": "code",
   "execution_count": 31,
   "metadata": {},
   "outputs": [
    {
     "data": {
      "text/html": [
       "<div>\n",
       "<style scoped>\n",
       "    .dataframe tbody tr th:only-of-type {\n",
       "        vertical-align: middle;\n",
       "    }\n",
       "\n",
       "    .dataframe tbody tr th {\n",
       "        vertical-align: top;\n",
       "    }\n",
       "\n",
       "    .dataframe thead th {\n",
       "        text-align: right;\n",
       "    }\n",
       "</style>\n",
       "<table border=\"1\" class=\"dataframe\">\n",
       "  <thead>\n",
       "    <tr style=\"text-align: right;\">\n",
       "      <th></th>\n",
       "      <th>mb_used</th>\n",
       "      <th>user_id</th>\n",
       "    </tr>\n",
       "  </thead>\n",
       "  <tbody>\n",
       "    <tr>\n",
       "      <th>count</th>\n",
       "      <td>149396.000000</td>\n",
       "      <td>149396.000000</td>\n",
       "    </tr>\n",
       "    <tr>\n",
       "      <th>mean</th>\n",
       "      <td>370.622098</td>\n",
       "      <td>1252.099842</td>\n",
       "    </tr>\n",
       "    <tr>\n",
       "      <th>std</th>\n",
       "      <td>278.387019</td>\n",
       "      <td>144.050823</td>\n",
       "    </tr>\n",
       "    <tr>\n",
       "      <th>min</th>\n",
       "      <td>0.000000</td>\n",
       "      <td>1000.000000</td>\n",
       "    </tr>\n",
       "    <tr>\n",
       "      <th>25%</th>\n",
       "      <td>139.000000</td>\n",
       "      <td>1130.000000</td>\n",
       "    </tr>\n",
       "    <tr>\n",
       "      <th>50%</th>\n",
       "      <td>349.000000</td>\n",
       "      <td>1251.000000</td>\n",
       "    </tr>\n",
       "    <tr>\n",
       "      <th>75%</th>\n",
       "      <td>560.000000</td>\n",
       "      <td>1380.000000</td>\n",
       "    </tr>\n",
       "    <tr>\n",
       "      <th>max</th>\n",
       "      <td>1725.000000</td>\n",
       "      <td>1499.000000</td>\n",
       "    </tr>\n",
       "  </tbody>\n",
       "</table>\n",
       "</div>"
      ],
      "text/plain": [
       "             mb_used        user_id\n",
       "count  149396.000000  149396.000000\n",
       "mean      370.622098    1252.099842\n",
       "std       278.387019     144.050823\n",
       "min         0.000000    1000.000000\n",
       "25%       139.000000    1130.000000\n",
       "50%       349.000000    1251.000000\n",
       "75%       560.000000    1380.000000\n",
       "max      1725.000000    1499.000000"
      ]
     },
     "execution_count": 31,
     "metadata": {},
     "output_type": "execute_result"
    }
   ],
   "source": [
    "df_internet.describe()"
   ]
  },
  {
   "cell_type": "markdown",
   "metadata": {},
   "source": [
    "**df_users**"
   ]
  },
  {
   "cell_type": "code",
   "execution_count": 32,
   "metadata": {},
   "outputs": [
    {
     "data": {
      "text/html": [
       "<div>\n",
       "<style scoped>\n",
       "    .dataframe tbody tr th:only-of-type {\n",
       "        vertical-align: middle;\n",
       "    }\n",
       "\n",
       "    .dataframe tbody tr th {\n",
       "        vertical-align: top;\n",
       "    }\n",
       "\n",
       "    .dataframe thead th {\n",
       "        text-align: right;\n",
       "    }\n",
       "</style>\n",
       "<table border=\"1\" class=\"dataframe\">\n",
       "  <thead>\n",
       "    <tr style=\"text-align: right;\">\n",
       "      <th></th>\n",
       "      <th>user_id</th>\n",
       "      <th>age</th>\n",
       "    </tr>\n",
       "  </thead>\n",
       "  <tbody>\n",
       "    <tr>\n",
       "      <th>count</th>\n",
       "      <td>500.000000</td>\n",
       "      <td>500.00000</td>\n",
       "    </tr>\n",
       "    <tr>\n",
       "      <th>mean</th>\n",
       "      <td>1249.500000</td>\n",
       "      <td>46.58800</td>\n",
       "    </tr>\n",
       "    <tr>\n",
       "      <th>std</th>\n",
       "      <td>144.481833</td>\n",
       "      <td>16.66763</td>\n",
       "    </tr>\n",
       "    <tr>\n",
       "      <th>min</th>\n",
       "      <td>1000.000000</td>\n",
       "      <td>18.00000</td>\n",
       "    </tr>\n",
       "    <tr>\n",
       "      <th>25%</th>\n",
       "      <td>1124.750000</td>\n",
       "      <td>32.00000</td>\n",
       "    </tr>\n",
       "    <tr>\n",
       "      <th>50%</th>\n",
       "      <td>1249.500000</td>\n",
       "      <td>46.00000</td>\n",
       "    </tr>\n",
       "    <tr>\n",
       "      <th>75%</th>\n",
       "      <td>1374.250000</td>\n",
       "      <td>62.00000</td>\n",
       "    </tr>\n",
       "    <tr>\n",
       "      <th>max</th>\n",
       "      <td>1499.000000</td>\n",
       "      <td>75.00000</td>\n",
       "    </tr>\n",
       "  </tbody>\n",
       "</table>\n",
       "</div>"
      ],
      "text/plain": [
       "           user_id        age\n",
       "count   500.000000  500.00000\n",
       "mean   1249.500000   46.58800\n",
       "std     144.481833   16.66763\n",
       "min    1000.000000   18.00000\n",
       "25%    1124.750000   32.00000\n",
       "50%    1249.500000   46.00000\n",
       "75%    1374.250000   62.00000\n",
       "max    1499.000000   75.00000"
      ]
     },
     "execution_count": 32,
     "metadata": {},
     "output_type": "execute_result"
    }
   ],
   "source": [
    "df_users.describe()"
   ]
  },
  {
   "cell_type": "markdown",
   "metadata": {},
   "source": [
    "* количество звонков и израсходованных минут разговора по месяцам для каждого абонента"
   ]
  },
  {
   "cell_type": "code",
   "execution_count": 33,
   "metadata": {},
   "outputs": [],
   "source": [
    "df_calls['month_date'] = df_calls.call_date.astype('datetime64[M]')"
   ]
  },
  {
   "cell_type": "code",
   "execution_count": 34,
   "metadata": {},
   "outputs": [],
   "source": [
    "df_calls_total = df_calls.pivot_table(index=['user_id', 'month_date'], values='duration', aggfunc=['count', 'sum']).reset_index()"
   ]
  },
  {
   "cell_type": "code",
   "execution_count": 35,
   "metadata": {},
   "outputs": [],
   "source": [
    "df_calls_total.columns = ['user_id', 'month_date', 'calls_count', 'calls_sum']"
   ]
  },
  {
   "cell_type": "markdown",
   "metadata": {},
   "source": [
    "* количество отправленных сообщений по месяцам для каждого абонента"
   ]
  },
  {
   "cell_type": "code",
   "execution_count": 36,
   "metadata": {},
   "outputs": [],
   "source": [
    "df_messages['month_date'] = df_messages.message_date.astype('datetime64[M]') "
   ]
  },
  {
   "cell_type": "code",
   "execution_count": 37,
   "metadata": {},
   "outputs": [],
   "source": [
    "df_messages_total = df_messages.pivot_table(index = ['user_id', 'month_date'], values = 'id', aggfunc = 'count').reset_index()"
   ]
  },
  {
   "cell_type": "code",
   "execution_count": 38,
   "metadata": {},
   "outputs": [],
   "source": [
    "df_messages_total.columns = ['user_id', 'month_date', 'messages']"
   ]
  },
  {
   "cell_type": "markdown",
   "metadata": {},
   "source": [
    "* объем израсходованного интернет-трафика по месяцам для каждого абонента"
   ]
  },
  {
   "cell_type": "code",
   "execution_count": 39,
   "metadata": {},
   "outputs": [],
   "source": [
    "df_internet['month_date'] = df_internet.session_date.astype('datetime64[M]')"
   ]
  },
  {
   "cell_type": "markdown",
   "metadata": {},
   "source": [
    "<div class=\"alert alert-info\"> \n",
    "\n",
    "v1\n",
    "      \n",
    "* заменил метод df.month на astype('datetime64[M]') в таблицах **df_calls**, **df_messages** и **df_internet**\n",
    "        \n",
    "</div>"
   ]
  },
  {
   "cell_type": "code",
   "execution_count": 40,
   "metadata": {},
   "outputs": [],
   "source": [
    "df_internet_total = df_internet.pivot_table(index = ['user_id', 'month_date'], values = 'mb_used', aggfunc = 'sum').reset_index()"
   ]
  },
  {
   "cell_type": "code",
   "execution_count": 41,
   "metadata": {},
   "outputs": [],
   "source": [
    "df_internet_total.columns = ['user_id', 'month_date', 'mb_used']"
   ]
  },
  {
   "cell_type": "markdown",
   "metadata": {},
   "source": [
    "Для анализа всех тарифов соединим **df_calls_total**, **df_messages_total**, **df_internet_total**"
   ]
  },
  {
   "cell_type": "code",
   "execution_count": 42,
   "metadata": {},
   "outputs": [],
   "source": [
    "df_calls_messages = df_calls_total.merge(df_messages_total, on = ['user_id', 'month_date'], how = 'outer')"
   ]
  },
  {
   "cell_type": "code",
   "execution_count": 43,
   "metadata": {},
   "outputs": [],
   "source": [
    "df_calls_messages_internet = df_calls_messages.merge(df_internet_total, on = ['user_id', 'month_date'], how = 'outer')"
   ]
  },
  {
   "cell_type": "code",
   "execution_count": 44,
   "metadata": {},
   "outputs": [],
   "source": [
    "df = df_users.merge(df_calls_messages_internet, on = 'user_id', how = 'right')"
   ]
  },
  {
   "cell_type": "code",
   "execution_count": 45,
   "metadata": {},
   "outputs": [
    {
     "name": "stdout",
     "output_type": "stream",
     "text": [
      "<class 'pandas.core.frame.DataFrame'>\n",
      "Int64Index: 3214 entries, 0 to 3213\n",
      "Data columns (total 6 columns):\n",
      " #   Column       Non-Null Count  Dtype         \n",
      "---  ------       --------------  -----         \n",
      " 0   user_id      3214 non-null   int64         \n",
      " 1   month_date   3214 non-null   datetime64[ns]\n",
      " 2   calls_count  3174 non-null   float64       \n",
      " 3   calls_sum    3174 non-null   float64       \n",
      " 4   messages     2717 non-null   float64       \n",
      " 5   mb_used      3203 non-null   float64       \n",
      "dtypes: datetime64[ns](1), float64(4), int64(1)\n",
      "memory usage: 175.8 KB\n"
     ]
    }
   ],
   "source": [
    "df_calls_messages_internet.info()"
   ]
  },
  {
   "cell_type": "code",
   "execution_count": 46,
   "metadata": {},
   "outputs": [
    {
     "name": "stdout",
     "output_type": "stream",
     "text": [
      "<class 'pandas.core.frame.DataFrame'>\n",
      "Int64Index: 3214 entries, 0 to 3213\n",
      "Data columns (total 13 columns):\n",
      " #   Column       Non-Null Count  Dtype         \n",
      "---  ------       --------------  -----         \n",
      " 0   user_id      3214 non-null   int64         \n",
      " 1   age          3214 non-null   int64         \n",
      " 2   churn_date   3214 non-null   datetime64[ns]\n",
      " 3   city         3214 non-null   object        \n",
      " 4   first_name   3214 non-null   object        \n",
      " 5   last_name    3214 non-null   object        \n",
      " 6   reg_date     3214 non-null   datetime64[ns]\n",
      " 7   tariff       3214 non-null   object        \n",
      " 8   month_date   3214 non-null   datetime64[ns]\n",
      " 9   calls_count  3174 non-null   float64       \n",
      " 10  calls_sum    3174 non-null   float64       \n",
      " 11  messages     2717 non-null   float64       \n",
      " 12  mb_used      3203 non-null   float64       \n",
      "dtypes: datetime64[ns](3), float64(4), int64(2), object(4)\n",
      "memory usage: 351.5+ KB\n"
     ]
    }
   ],
   "source": [
    "df.info()"
   ]
  },
  {
   "cell_type": "markdown",
   "metadata": {},
   "source": [
    "Записи по пользованию связью в **df_users** учтены все"
   ]
  },
  {
   "cell_type": "markdown",
   "metadata": {},
   "source": [
    "<a name=\"7\"></a>"
   ]
  },
  {
   "cell_type": "markdown",
   "metadata": {},
   "source": [
    "Пропуски типа NaN в звонках, сообщениях и интернете заменим на 0 - это означает, что абонент видом связи в определенный месяц не пользовался. Значения количества и длительности звонков и количества сообщениий округлим до целого числа для лучшего восприятия."
   ]
  },
  {
   "cell_type": "code",
   "execution_count": 47,
   "metadata": {},
   "outputs": [],
   "source": [
    "df = df.fillna(0)"
   ]
  },
  {
   "cell_type": "code",
   "execution_count": 48,
   "metadata": {},
   "outputs": [],
   "source": [
    "df[['calls_count', 'calls_sum', 'messages']] = df[['calls_count', 'calls_sum', 'messages']].astype(int)"
   ]
  },
  {
   "cell_type": "code",
   "execution_count": 49,
   "metadata": {},
   "outputs": [
    {
     "name": "stdout",
     "output_type": "stream",
     "text": [
      "<class 'pandas.core.frame.DataFrame'>\n",
      "Int64Index: 3214 entries, 0 to 3213\n",
      "Data columns (total 13 columns):\n",
      " #   Column       Non-Null Count  Dtype         \n",
      "---  ------       --------------  -----         \n",
      " 0   user_id      3214 non-null   int64         \n",
      " 1   age          3214 non-null   int64         \n",
      " 2   churn_date   3214 non-null   datetime64[ns]\n",
      " 3   city         3214 non-null   object        \n",
      " 4   first_name   3214 non-null   object        \n",
      " 5   last_name    3214 non-null   object        \n",
      " 6   reg_date     3214 non-null   datetime64[ns]\n",
      " 7   tariff       3214 non-null   object        \n",
      " 8   month_date   3214 non-null   datetime64[ns]\n",
      " 9   calls_count  3214 non-null   int64         \n",
      " 10  calls_sum    3214 non-null   int64         \n",
      " 11  messages     3214 non-null   int64         \n",
      " 12  mb_used      3214 non-null   float64       \n",
      "dtypes: datetime64[ns](3), float64(1), int64(5), object(4)\n",
      "memory usage: 351.5+ KB\n"
     ]
    }
   ],
   "source": [
    "df.info()"
   ]
  },
  {
   "cell_type": "code",
   "execution_count": 50,
   "metadata": {},
   "outputs": [
    {
     "data": {
      "text/html": [
       "<div>\n",
       "<style scoped>\n",
       "    .dataframe tbody tr th:only-of-type {\n",
       "        vertical-align: middle;\n",
       "    }\n",
       "\n",
       "    .dataframe tbody tr th {\n",
       "        vertical-align: top;\n",
       "    }\n",
       "\n",
       "    .dataframe thead th {\n",
       "        text-align: right;\n",
       "    }\n",
       "</style>\n",
       "<table border=\"1\" class=\"dataframe\">\n",
       "  <thead>\n",
       "    <tr style=\"text-align: right;\">\n",
       "      <th></th>\n",
       "      <th>messages_included</th>\n",
       "      <th>mb_per_month_included</th>\n",
       "      <th>minutes_included</th>\n",
       "      <th>rub_monthly_fee</th>\n",
       "      <th>rub_per_gb</th>\n",
       "      <th>rub_per_message</th>\n",
       "      <th>rub_per_minute</th>\n",
       "      <th>tariff_name</th>\n",
       "    </tr>\n",
       "  </thead>\n",
       "  <tbody>\n",
       "    <tr>\n",
       "      <th>0</th>\n",
       "      <td>50</td>\n",
       "      <td>15360</td>\n",
       "      <td>500</td>\n",
       "      <td>550</td>\n",
       "      <td>200</td>\n",
       "      <td>3</td>\n",
       "      <td>3</td>\n",
       "      <td>smart</td>\n",
       "    </tr>\n",
       "    <tr>\n",
       "      <th>1</th>\n",
       "      <td>1000</td>\n",
       "      <td>30720</td>\n",
       "      <td>3000</td>\n",
       "      <td>1950</td>\n",
       "      <td>150</td>\n",
       "      <td>1</td>\n",
       "      <td>1</td>\n",
       "      <td>ultra</td>\n",
       "    </tr>\n",
       "  </tbody>\n",
       "</table>\n",
       "</div>"
      ],
      "text/plain": [
       "   messages_included  mb_per_month_included  minutes_included  \\\n",
       "0                 50                  15360               500   \n",
       "1               1000                  30720              3000   \n",
       "\n",
       "   rub_monthly_fee  rub_per_gb  rub_per_message  rub_per_minute tariff_name  \n",
       "0              550         200                3               3       smart  \n",
       "1             1950         150                1               1       ultra  "
      ]
     },
     "execution_count": 50,
     "metadata": {},
     "output_type": "execute_result"
    }
   ],
   "source": [
    "df_tariffs"
   ]
  },
  {
   "cell_type": "code",
   "execution_count": 51,
   "metadata": {},
   "outputs": [
    {
     "data": {
      "text/html": [
       "<div>\n",
       "<style scoped>\n",
       "    .dataframe tbody tr th:only-of-type {\n",
       "        vertical-align: middle;\n",
       "    }\n",
       "\n",
       "    .dataframe tbody tr th {\n",
       "        vertical-align: top;\n",
       "    }\n",
       "\n",
       "    .dataframe thead th {\n",
       "        text-align: right;\n",
       "    }\n",
       "</style>\n",
       "<table border=\"1\" class=\"dataframe\">\n",
       "  <thead>\n",
       "    <tr style=\"text-align: right;\">\n",
       "      <th></th>\n",
       "      <th>user_id</th>\n",
       "      <th>age</th>\n",
       "      <th>churn_date</th>\n",
       "      <th>city</th>\n",
       "      <th>first_name</th>\n",
       "      <th>last_name</th>\n",
       "      <th>reg_date</th>\n",
       "      <th>tariff</th>\n",
       "      <th>month_date</th>\n",
       "      <th>calls_count</th>\n",
       "      <th>calls_sum</th>\n",
       "      <th>messages</th>\n",
       "      <th>mb_used</th>\n",
       "    </tr>\n",
       "  </thead>\n",
       "  <tbody>\n",
       "    <tr>\n",
       "      <th>7</th>\n",
       "      <td>1000</td>\n",
       "      <td>52</td>\n",
       "      <td>1970-01-01</td>\n",
       "      <td>Краснодар</td>\n",
       "      <td>Рафаил</td>\n",
       "      <td>Верещагин</td>\n",
       "      <td>2018-05-25</td>\n",
       "      <td>ultra</td>\n",
       "      <td>2018-12-01</td>\n",
       "      <td>46</td>\n",
       "      <td>333</td>\n",
       "      <td>70</td>\n",
       "      <td>9827.0</td>\n",
       "    </tr>\n",
       "    <tr>\n",
       "      <th>8</th>\n",
       "      <td>1001</td>\n",
       "      <td>41</td>\n",
       "      <td>1970-01-01</td>\n",
       "      <td>Москва</td>\n",
       "      <td>Иван</td>\n",
       "      <td>Ежов</td>\n",
       "      <td>2018-11-01</td>\n",
       "      <td>smart</td>\n",
       "      <td>2018-11-01</td>\n",
       "      <td>59</td>\n",
       "      <td>430</td>\n",
       "      <td>0</td>\n",
       "      <td>18452.0</td>\n",
       "    </tr>\n",
       "    <tr>\n",
       "      <th>9</th>\n",
       "      <td>1001</td>\n",
       "      <td>41</td>\n",
       "      <td>1970-01-01</td>\n",
       "      <td>Москва</td>\n",
       "      <td>Иван</td>\n",
       "      <td>Ежов</td>\n",
       "      <td>2018-11-01</td>\n",
       "      <td>smart</td>\n",
       "      <td>2018-12-01</td>\n",
       "      <td>63</td>\n",
       "      <td>414</td>\n",
       "      <td>0</td>\n",
       "      <td>14053.0</td>\n",
       "    </tr>\n",
       "    <tr>\n",
       "      <th>10</th>\n",
       "      <td>1002</td>\n",
       "      <td>59</td>\n",
       "      <td>1970-01-01</td>\n",
       "      <td>Стерлитамак</td>\n",
       "      <td>Евгений</td>\n",
       "      <td>Абрамович</td>\n",
       "      <td>2018-06-17</td>\n",
       "      <td>smart</td>\n",
       "      <td>2018-06-01</td>\n",
       "      <td>15</td>\n",
       "      <td>117</td>\n",
       "      <td>4</td>\n",
       "      <td>10871.0</td>\n",
       "    </tr>\n",
       "  </tbody>\n",
       "</table>\n",
       "</div>"
      ],
      "text/plain": [
       "    user_id  age churn_date         city first_name  last_name   reg_date  \\\n",
       "7      1000   52 1970-01-01    Краснодар     Рафаил  Верещагин 2018-05-25   \n",
       "8      1001   41 1970-01-01       Москва       Иван       Ежов 2018-11-01   \n",
       "9      1001   41 1970-01-01       Москва       Иван       Ежов 2018-11-01   \n",
       "10     1002   59 1970-01-01  Стерлитамак    Евгений  Абрамович 2018-06-17   \n",
       "\n",
       "   tariff month_date  calls_count  calls_sum  messages  mb_used  \n",
       "7   ultra 2018-12-01           46        333        70   9827.0  \n",
       "8   smart 2018-11-01           59        430         0  18452.0  \n",
       "9   smart 2018-12-01           63        414         0  14053.0  \n",
       "10  smart 2018-06-01           15        117         4  10871.0  "
      ]
     },
     "execution_count": 51,
     "metadata": {},
     "output_type": "execute_result"
    }
   ],
   "source": [
    "df[7:11]"
   ]
  },
  {
   "cell_type": "markdown",
   "metadata": {},
   "source": [
    "* Рассчитаем выручку помесячно для каждого абонента с учетом абонентской платы по тарифу и расходов сверх пакета"
   ]
  },
  {
   "cell_type": "code",
   "execution_count": 52,
   "metadata": {},
   "outputs": [],
   "source": [
    "\"\"\"рассчет ежемесячной выручки с каждого пользователя\"\"\"\n",
    "def revenue_calc(df):\n",
    "    \n",
    "    \"\"\"выбираем тариф 'smart'\"\"\"\n",
    "    if df.tariff == 'smart':\n",
    "        \"\"\"учет абонентской платы\"\"\"\n",
    "        revenue = 550\n",
    "        \"\"\"учет стоимости каждой минуты разговора сверх лимита\"\"\"\n",
    "        if df.calls_sum > df_tariffs.loc[0, 'minutes_included']:\n",
    "            revenue += (df.calls_sum - df_tariffs.loc[0, 'minutes_included']) * 3\n",
    "        \"\"\"учет стоимости каждого сообщения сверх лимита\"\"\"\n",
    "        if df.messages > df_tariffs.loc[0, 'messages_included']:\n",
    "            revenue += (df.messages - df_tariffs.loc[0, 'messages_included']) * 3\n",
    "        \"\"\"учет стоимости интернет-траффика сверх лимита в гБ\"\"\"\n",
    "        if df.mb_used > df_tariffs.loc[0, 'mb_per_month_included']:\n",
    "            revenue += round((df.mb_used - df_tariffs.loc[0, 'mb_per_month_included']) / 1024, 2) * 200    \n",
    "   \n",
    "\n",
    "        \"\"\"аналогичная схема рассчета для тарифа 'ultra'\"\"\"\n",
    "    \n",
    "    else:\n",
    "        revenue = 1950\n",
    "        if df.calls_sum > df_tariffs.loc[1, 'minutes_included']:\n",
    "            revenue += (df.calls_sum - df_tariffs.loc[1, 'minutes_included']) * 1\n",
    "        if df.messages > df_tariffs.loc[1, 'messages_included']:\n",
    "            revenue += (df.messages - df_tariffs.loc[1, 'messages_included']) * 1\n",
    "        if df.mb_used > df_tariffs.loc[1, 'mb_per_month_included']:\n",
    "            revenue += round((df.mb_used - df_tariffs.loc[1, 'mb_per_month_included']) / 1024, 2) * 150\n",
    "            \n",
    "    return revenue"
   ]
  },
  {
   "cell_type": "code",
   "execution_count": 53,
   "metadata": {},
   "outputs": [],
   "source": [
    "df['revenue'] = df.apply(revenue_calc, axis=1)"
   ]
  },
  {
   "cell_type": "code",
   "execution_count": 54,
   "metadata": {},
   "outputs": [
    {
     "name": "stdout",
     "output_type": "stream",
     "text": [
      "<class 'pandas.core.frame.DataFrame'>\n",
      "Int64Index: 3214 entries, 0 to 3213\n",
      "Data columns (total 14 columns):\n",
      " #   Column       Non-Null Count  Dtype         \n",
      "---  ------       --------------  -----         \n",
      " 0   user_id      3214 non-null   int64         \n",
      " 1   age          3214 non-null   int64         \n",
      " 2   churn_date   3214 non-null   datetime64[ns]\n",
      " 3   city         3214 non-null   object        \n",
      " 4   first_name   3214 non-null   object        \n",
      " 5   last_name    3214 non-null   object        \n",
      " 6   reg_date     3214 non-null   datetime64[ns]\n",
      " 7   tariff       3214 non-null   object        \n",
      " 8   month_date   3214 non-null   datetime64[ns]\n",
      " 9   calls_count  3214 non-null   int64         \n",
      " 10  calls_sum    3214 non-null   int64         \n",
      " 11  messages     3214 non-null   int64         \n",
      " 12  mb_used      3214 non-null   float64       \n",
      " 13  revenue      3214 non-null   float64       \n",
      "dtypes: datetime64[ns](3), float64(2), int64(5), object(4)\n",
      "memory usage: 376.6+ KB\n"
     ]
    }
   ],
   "source": [
    "df.info()"
   ]
  },
  {
   "cell_type": "markdown",
   "metadata": {},
   "source": [
    "###### Вывод\n",
    "\n",
    "Проведена подготовка данных:\n",
    "    \n",
    "1. Изменен формат даты для анализа по месяцам\n",
    "\n",
    "2. Изменен формат данных, значения округлены с необходимым подходом (условия, комфорт чтения)\n",
    "\n",
    "3. Обработаны пропуски - удалены или заменены\n",
    "\n",
    "4. Получены необходимые новые данные - сводные и объедененные таблицы\n",
    "\n",
    "5. Рассчитан и добавлен столбец со значениями выручки для каждлго абонента помесячно"
   ]
  },
  {
   "cell_type": "markdown",
   "metadata": {},
   "source": [
    "<div class=\"alert alert-info\"> \n",
    "\n",
    "v1\n",
    "    \n",
    "Изменения:\n",
    "    \n",
    "* Churn_date изменен (в разделе 2. Подготовка данных, Приведение данных к нужным типам) в формат datetime64 - пропущенные значения (абонент активен)  отображаются как 1970-01-01\t\n",
    "    \n",
    "* Не совсем понял комментарий - описания по пропускам добавлены ([здесь](#7) и [здесь](#8)) - недостаточно и не везде?\n",
    "    \n",
    "* Добывил аннотацию PEP в функцию\n",
    "            \n",
    "</div>"
   ]
  },
  {
   "cell_type": "markdown",
   "metadata": {},
   "source": [
    "<a name=\"3\"></a>\n",
    "[Назад к оглавлению](#0)\n",
    "\n",
    "## 3. Анализ данных\n"
   ]
  },
  {
   "cell_type": "markdown",
   "metadata": {},
   "source": [
    "Cреднее количество, дисперсия и стандартное отклонение минут разговора, сообщений и объeма интернет-трафика "
   ]
  },
  {
   "cell_type": "code",
   "execution_count": 55,
   "metadata": {},
   "outputs": [],
   "source": [
    "df_smart = df.query('tariff == \"smart\"')"
   ]
  },
  {
   "cell_type": "code",
   "execution_count": 56,
   "metadata": {},
   "outputs": [],
   "source": [
    "df_ultra = df.query('tariff == \"ultra\"')"
   ]
  },
  {
   "cell_type": "markdown",
   "metadata": {},
   "source": [
    "* общая оценка стат.показателей по тарифным планам **\"smart\"** и **\"ultra\"** "
   ]
  },
  {
   "cell_type": "code",
   "execution_count": 57,
   "metadata": {},
   "outputs": [
    {
     "data": {
      "text/html": [
       "<div>\n",
       "<style scoped>\n",
       "    .dataframe tbody tr th:only-of-type {\n",
       "        vertical-align: middle;\n",
       "    }\n",
       "\n",
       "    .dataframe tbody tr th {\n",
       "        vertical-align: top;\n",
       "    }\n",
       "\n",
       "    .dataframe thead th {\n",
       "        text-align: right;\n",
       "    }\n",
       "</style>\n",
       "<table border=\"1\" class=\"dataframe\">\n",
       "  <thead>\n",
       "    <tr style=\"text-align: right;\">\n",
       "      <th></th>\n",
       "      <th>user_id</th>\n",
       "      <th>age</th>\n",
       "      <th>calls_count</th>\n",
       "      <th>calls_sum</th>\n",
       "      <th>messages</th>\n",
       "      <th>mb_used</th>\n",
       "      <th>revenue</th>\n",
       "    </tr>\n",
       "  </thead>\n",
       "  <tbody>\n",
       "    <tr>\n",
       "      <th>count</th>\n",
       "      <td>2229</td>\n",
       "      <td>2229</td>\n",
       "      <td>2229</td>\n",
       "      <td>2229</td>\n",
       "      <td>2229</td>\n",
       "      <td>2229</td>\n",
       "      <td>2229</td>\n",
       "    </tr>\n",
       "    <tr>\n",
       "      <th>mean</th>\n",
       "      <td>1246</td>\n",
       "      <td>46</td>\n",
       "      <td>58</td>\n",
       "      <td>417</td>\n",
       "      <td>33</td>\n",
       "      <td>16229</td>\n",
       "      <td>1233</td>\n",
       "    </tr>\n",
       "    <tr>\n",
       "      <th>std</th>\n",
       "      <td>146</td>\n",
       "      <td>16</td>\n",
       "      <td>25</td>\n",
       "      <td>190</td>\n",
       "      <td>28</td>\n",
       "      <td>5877</td>\n",
       "      <td>787</td>\n",
       "    </tr>\n",
       "    <tr>\n",
       "      <th>min</th>\n",
       "      <td>1001</td>\n",
       "      <td>18</td>\n",
       "      <td>0</td>\n",
       "      <td>0</td>\n",
       "      <td>0</td>\n",
       "      <td>0</td>\n",
       "      <td>550</td>\n",
       "    </tr>\n",
       "    <tr>\n",
       "      <th>25%</th>\n",
       "      <td>1121</td>\n",
       "      <td>32</td>\n",
       "      <td>40</td>\n",
       "      <td>282</td>\n",
       "      <td>10</td>\n",
       "      <td>12658</td>\n",
       "      <td>550</td>\n",
       "    </tr>\n",
       "    <tr>\n",
       "      <th>50%</th>\n",
       "      <td>1239</td>\n",
       "      <td>47</td>\n",
       "      <td>60</td>\n",
       "      <td>422</td>\n",
       "      <td>28</td>\n",
       "      <td>16531</td>\n",
       "      <td>959</td>\n",
       "    </tr>\n",
       "    <tr>\n",
       "      <th>75%</th>\n",
       "      <td>1376</td>\n",
       "      <td>62</td>\n",
       "      <td>76</td>\n",
       "      <td>545</td>\n",
       "      <td>51</td>\n",
       "      <td>20068</td>\n",
       "      <td>1668</td>\n",
       "    </tr>\n",
       "    <tr>\n",
       "      <th>max</th>\n",
       "      <td>1499</td>\n",
       "      <td>75</td>\n",
       "      <td>198</td>\n",
       "      <td>1435</td>\n",
       "      <td>143</td>\n",
       "      <td>38610</td>\n",
       "      <td>6712</td>\n",
       "    </tr>\n",
       "  </tbody>\n",
       "</table>\n",
       "</div>"
      ],
      "text/plain": [
       "       user_id   age  calls_count  calls_sum  messages  mb_used  revenue\n",
       "count     2229  2229         2229       2229      2229     2229     2229\n",
       "mean      1246    46           58        417        33    16229     1233\n",
       "std        146    16           25        190        28     5877      787\n",
       "min       1001    18            0          0         0        0      550\n",
       "25%       1121    32           40        282        10    12658      550\n",
       "50%       1239    47           60        422        28    16531      959\n",
       "75%       1376    62           76        545        51    20068     1668\n",
       "max       1499    75          198       1435       143    38610     6712"
      ]
     },
     "execution_count": 57,
     "metadata": {},
     "output_type": "execute_result"
    }
   ],
   "source": [
    "df_smart.describe().astype(int)"
   ]
  },
  {
   "cell_type": "code",
   "execution_count": 58,
   "metadata": {},
   "outputs": [
    {
     "data": {
      "text/html": [
       "<div>\n",
       "<style scoped>\n",
       "    .dataframe tbody tr th:only-of-type {\n",
       "        vertical-align: middle;\n",
       "    }\n",
       "\n",
       "    .dataframe tbody tr th {\n",
       "        vertical-align: top;\n",
       "    }\n",
       "\n",
       "    .dataframe thead th {\n",
       "        text-align: right;\n",
       "    }\n",
       "</style>\n",
       "<table border=\"1\" class=\"dataframe\">\n",
       "  <thead>\n",
       "    <tr style=\"text-align: right;\">\n",
       "      <th></th>\n",
       "      <th>user_id</th>\n",
       "      <th>age</th>\n",
       "      <th>calls_count</th>\n",
       "      <th>calls_sum</th>\n",
       "      <th>messages</th>\n",
       "      <th>mb_used</th>\n",
       "      <th>revenue</th>\n",
       "    </tr>\n",
       "  </thead>\n",
       "  <tbody>\n",
       "    <tr>\n",
       "      <th>count</th>\n",
       "      <td>985</td>\n",
       "      <td>985</td>\n",
       "      <td>985</td>\n",
       "      <td>985</td>\n",
       "      <td>985</td>\n",
       "      <td>985</td>\n",
       "      <td>985</td>\n",
       "    </tr>\n",
       "    <tr>\n",
       "      <th>mean</th>\n",
       "      <td>1263</td>\n",
       "      <td>46</td>\n",
       "      <td>73</td>\n",
       "      <td>526</td>\n",
       "      <td>49</td>\n",
       "      <td>19486</td>\n",
       "      <td>2060</td>\n",
       "    </tr>\n",
       "    <tr>\n",
       "      <th>std</th>\n",
       "      <td>140</td>\n",
       "      <td>17</td>\n",
       "      <td>43</td>\n",
       "      <td>317</td>\n",
       "      <td>47</td>\n",
       "      <td>10096</td>\n",
       "      <td>356</td>\n",
       "    </tr>\n",
       "    <tr>\n",
       "      <th>min</th>\n",
       "      <td>1000</td>\n",
       "      <td>18</td>\n",
       "      <td>0</td>\n",
       "      <td>0</td>\n",
       "      <td>0</td>\n",
       "      <td>0</td>\n",
       "      <td>1950</td>\n",
       "    </tr>\n",
       "    <tr>\n",
       "      <th>25%</th>\n",
       "      <td>1143</td>\n",
       "      <td>30</td>\n",
       "      <td>41</td>\n",
       "      <td>284</td>\n",
       "      <td>6</td>\n",
       "      <td>11785</td>\n",
       "      <td>1950</td>\n",
       "    </tr>\n",
       "    <tr>\n",
       "      <th>50%</th>\n",
       "      <td>1277</td>\n",
       "      <td>45</td>\n",
       "      <td>74</td>\n",
       "      <td>518</td>\n",
       "      <td>38</td>\n",
       "      <td>19324</td>\n",
       "      <td>1950</td>\n",
       "    </tr>\n",
       "    <tr>\n",
       "      <th>75%</th>\n",
       "      <td>1381</td>\n",
       "      <td>63</td>\n",
       "      <td>104</td>\n",
       "      <td>752</td>\n",
       "      <td>79</td>\n",
       "      <td>26863</td>\n",
       "      <td>1950</td>\n",
       "    </tr>\n",
       "    <tr>\n",
       "      <th>max</th>\n",
       "      <td>1495</td>\n",
       "      <td>75</td>\n",
       "      <td>244</td>\n",
       "      <td>1673</td>\n",
       "      <td>224</td>\n",
       "      <td>49789</td>\n",
       "      <td>4743</td>\n",
       "    </tr>\n",
       "  </tbody>\n",
       "</table>\n",
       "</div>"
      ],
      "text/plain": [
       "       user_id  age  calls_count  calls_sum  messages  mb_used  revenue\n",
       "count      985  985          985        985       985      985      985\n",
       "mean      1263   46           73        526        49    19486     2060\n",
       "std        140   17           43        317        47    10096      356\n",
       "min       1000   18            0          0         0        0     1950\n",
       "25%       1143   30           41        284         6    11785     1950\n",
       "50%       1277   45           74        518        38    19324     1950\n",
       "75%       1381   63          104        752        79    26863     1950\n",
       "max       1495   75          244       1673       224    49789     4743"
      ]
     },
     "execution_count": 58,
     "metadata": {},
     "output_type": "execute_result"
    }
   ],
   "source": [
    "df_ultra.describe().astype(int)"
   ]
  },
  {
   "cell_type": "markdown",
   "metadata": {},
   "source": [
    "* рассчет дисперсии объема услуг по тарифным планам **\"smart\"** и **\"ultra\"** "
   ]
  },
  {
   "cell_type": "code",
   "execution_count": 59,
   "metadata": {},
   "outputs": [
    {
     "data": {
      "text/plain": [
       "calls_sum       36219\n",
       "messages          796\n",
       "mb_used      34545911\n",
       "dtype: int64"
      ]
     },
     "execution_count": 59,
     "metadata": {},
     "output_type": "execute_result"
    }
   ],
   "source": [
    "df_smart[['calls_sum', 'messages', 'mb_used']].var().astype(int)"
   ]
  },
  {
   "cell_type": "code",
   "execution_count": 60,
   "metadata": {},
   "outputs": [
    {
     "data": {
      "text/plain": [
       "calls_sum       100873\n",
       "messages          2285\n",
       "mb_used      101935621\n",
       "dtype: int64"
      ]
     },
     "execution_count": 60,
     "metadata": {},
     "output_type": "execute_result"
    }
   ],
   "source": [
    "df_ultra[['calls_sum', 'messages', 'mb_used']].var().astype(int)"
   ]
  },
  {
   "cell_type": "code",
   "execution_count": 61,
   "metadata": {},
   "outputs": [
    {
     "data": {
      "text/plain": [
       "Text(0, 0.5, 'общая длительность звонков')"
      ]
     },
     "execution_count": 61,
     "metadata": {},
     "output_type": "execute_result"
    },
    {
     "data": {
      "image/png": "[encoded data removed]",
      "text/plain": [
       "<Figure size 432x288 with 1 Axes>"
      ]
     },
     "metadata": {
      "needs_background": "light"
     },
     "output_type": "display_data"
    }
   ],
   "source": [
    "df_smart.boxplot('calls_sum')\n",
    "plt.ylabel('общая длительность звонков')"
   ]
  },
  {
   "cell_type": "code",
   "execution_count": 62,
   "metadata": {},
   "outputs": [
    {
     "data": {
      "text/plain": [
       "Text(0, 0.5, 'общая длительность звонков')"
      ]
     },
     "execution_count": 62,
     "metadata": {},
     "output_type": "execute_result"
    },
    {
     "data": {
      "image/png": "[encoded data removed]",
      "text/plain": [
       "<Figure size 432x288 with 1 Axes>"
      ]
     },
     "metadata": {
      "needs_background": "light"
     },
     "output_type": "display_data"
    }
   ],
   "source": [
    "df_ultra.boxplot('calls_sum')\n",
    "plt.ylabel('общая длительность звонков')"
   ]
  },
  {
   "cell_type": "code",
   "execution_count": 63,
   "metadata": {},
   "outputs": [
    {
     "data": {
      "text/plain": [
       "<matplotlib.legend.Legend at 0x7f51996b0730>"
      ]
     },
     "execution_count": 63,
     "metadata": {},
     "output_type": "execute_result"
    },
    {
     "data": {
      "image/png": "[encoded data removed]",
      "text/plain": [
       "<Figure size 1152x288 with 1 Axes>"
      ]
     },
     "metadata": {
      "needs_background": "light"
     },
     "output_type": "display_data"
    }
   ],
   "source": [
    "df_smart.calls_sum.hist(bins = 30, figsize = (16, 4))\n",
    "df_ultra.calls_sum.hist(bins = 30, figsize = (16, 4), alpha = 0.8)\n",
    "plt.suptitle('общая длительность звонков', size = 20)\n",
    "plt.legend(['smart', 'ultra'])"
   ]
  },
  {
   "cell_type": "code",
   "execution_count": 64,
   "metadata": {},
   "outputs": [
    {
     "data": {
      "text/plain": [
       "Text(0, 0.5, 'количество сообщений')"
      ]
     },
     "execution_count": 64,
     "metadata": {},
     "output_type": "execute_result"
    },
    {
     "data": {
      "image/png": "[encoded data removed]",
      "text/plain": [
       "<Figure size 432x288 with 1 Axes>"
      ]
     },
     "metadata": {
      "needs_background": "light"
     },
     "output_type": "display_data"
    }
   ],
   "source": [
    "df_smart.boxplot('messages')\n",
    "plt.ylabel('количество сообщений')"
   ]
  },
  {
   "cell_type": "code",
   "execution_count": 65,
   "metadata": {},
   "outputs": [
    {
     "data": {
      "text/plain": [
       "Text(0, 0.5, 'количество сообщений')"
      ]
     },
     "execution_count": 65,
     "metadata": {},
     "output_type": "execute_result"
    },
    {
     "data": {
      "image/png": "[encoded data removed]",
      "text/plain": [
       "<Figure size 432x288 with 1 Axes>"
      ]
     },
     "metadata": {
      "needs_background": "light"
     },
     "output_type": "display_data"
    }
   ],
   "source": [
    "df_ultra.boxplot('messages')\n",
    "plt.ylabel('количество сообщений')"
   ]
  },
  {
   "cell_type": "code",
   "execution_count": 66,
   "metadata": {},
   "outputs": [
    {
     "data": {
      "text/plain": [
       "<matplotlib.legend.Legend at 0x7f5199594dc0>"
      ]
     },
     "execution_count": 66,
     "metadata": {},
     "output_type": "execute_result"
    },
    {
     "data": {
      "image/png": "[encoded data removed]",
      "text/plain": [
       "<Figure size 1152x288 with 1 Axes>"
      ]
     },
     "metadata": {
      "needs_background": "light"
     },
     "output_type": "display_data"
    }
   ],
   "source": [
    "df_smart.messages.hist(bins = 30, figsize = (16, 4))\n",
    "df_ultra.messages.hist(bins = 30, figsize = (16, 4), alpha = 0.8)\n",
    "plt.suptitle('распределение количества сообщений', size = 20)\n",
    "plt.legend(['smart', 'ultra'])"
   ]
  },
  {
   "cell_type": "markdown",
   "metadata": {},
   "source": [
    "<div class=\"alert alert-info\"> \n",
    "\n",
    "v1\n",
    "    \n",
    "* добавлены подписи к осям y на boxplot\n",
    "    \n",
    "* добавлены заголовки гистограмм\n",
    "    \n",
    "* гистограммы объеденены для наглядности\n",
    "</div>"
   ]
  },
  {
   "cell_type": "code",
   "execution_count": 67,
   "metadata": {},
   "outputs": [
    {
     "data": {
      "text/plain": [
       "Text(0, 0.5, 'объём потраченного интернет-трафика')"
      ]
     },
     "execution_count": 67,
     "metadata": {},
     "output_type": "execute_result"
    },
    {
     "data": {
      "image/png": "[encoded data removed]",
      "text/plain": [
       "<Figure size 432x288 with 1 Axes>"
      ]
     },
     "metadata": {
      "needs_background": "light"
     },
     "output_type": "display_data"
    }
   ],
   "source": [
    "df_smart.boxplot('mb_used')\n",
    "plt.ylabel('объём потраченного интернет-трафика')"
   ]
  },
  {
   "cell_type": "code",
   "execution_count": 68,
   "metadata": {},
   "outputs": [
    {
     "data": {
      "text/plain": [
       "Text(0, 0.5, 'объём потраченного интернет-трафика')"
      ]
     },
     "execution_count": 68,
     "metadata": {},
     "output_type": "execute_result"
    },
    {
     "data": {
      "image/png": "[encoded data removed]",
      "text/plain": [
       "<Figure size 432x288 with 1 Axes>"
      ]
     },
     "metadata": {
      "needs_background": "light"
     },
     "output_type": "display_data"
    }
   ],
   "source": [
    "df_ultra.boxplot('mb_used')\n",
    "plt.ylabel('объём потраченного интернет-трафика')"
   ]
  },
  {
   "cell_type": "code",
   "execution_count": 69,
   "metadata": {},
   "outputs": [
    {
     "data": {
      "text/plain": [
       "<matplotlib.legend.Legend at 0x7f5199385ee0>"
      ]
     },
     "execution_count": 69,
     "metadata": {},
     "output_type": "execute_result"
    },
    {
     "data": {
      "image/png": "[encoded data removed]",
      "text/plain": [
       "<Figure size 1152x288 with 1 Axes>"
      ]
     },
     "metadata": {
      "needs_background": "light"
     },
     "output_type": "display_data"
    }
   ],
   "source": [
    "df_smart.mb_used.hist(bins = 50, figsize = (16, 4))\n",
    "df_ultra.mb_used.hist(bins = 50, figsize = (16, 4),alpha = 0.8)\n",
    "plt.suptitle('объём потраченного интернет-трафика', size = 20)\n",
    "plt.legend(['smart', 'ultra'])"
   ]
  },
  {
   "cell_type": "markdown",
   "metadata": {},
   "source": [
    "###### Вывод\n",
    "\n",
    "1. Среднее количество звонков, сообщений и объема трафика на тарифе **«ultra»** больше, чем на тарифе **«smart»** - объясняется тем, что бесплатный лимит больше за счет стоимости тарифа. Абонентам на тарифе **«ultra»** требуется в среднем более 500 минут разговоров, на на тарифе **«smart»** - менее 420, сообщений - 33 и 49, интернет-трафика - 16гБ и 19гБ \n",
    "\n",
    "\n",
    "2. Дисперсия и Стандартное отклонение указывают на бOльший разброс значений на тарифе **«ultra»** по сравнениюс тарифом **«smart»**\n",
    "\n",
    "\n",
    "3. Распределение на гистограмме\n",
    "\n",
    "    3.1 Звонки. Длительность звонков на тарифе **«smart»** ближе к нормальному, смещено влево и большинство значений в районе 400 - 500 минут, тогда как на тарифе **«ultra»** нет четкого фокуса и большинство значений распределено от 0 до 900 минут\n",
    "\n",
    "    3.2 Сообщения. Характер распределения на обоих тарифах однаковый - от пика возле 0 с ростом количества сообщений количество таких случаев падает. Причем на тарифе **«smart»** отправкой сообщений пользуются чаще в 2-3 раза\n",
    "\n",
    "    3.3 Интернет-трафик. По характеру распределения относительно 2х тарифов напоминает распределение по количеству минут звонков. На тарифе **«smart»** большинство вбонентов расходует порядка 10-20гБ, а на тарифе **«ultra»** - 15-25."
   ]
  },
  {
   "cell_type": "markdown",
   "metadata": {},
   "source": [
    "<a name=\"4\"></a>\n",
    "[Назад к оглавлению](#0)\n",
    "\n",
    "## 4. Проверка гипотез"
   ]
  },
  {
   "cell_type": "markdown",
   "metadata": {},
   "source": [
    "### 4.1 Cредняя выручка пользователей тарифов «ultra» и «smart» различается"
   ]
  },
  {
   "cell_type": "markdown",
   "metadata": {},
   "source": [
    "Будем проверять нулевую и альтернативную гипотезы:\n",
    "\n",
    "* нулевая гипотеза H0 - cредняя выручка пользователей тарифов «smart» и «ultra» не отличаются друг от друга\n",
    "\n",
    "* альтернативная гипотеза H1 - cредняя выручка пользователей тарифов «smart» и «ultra» значимо различны"
   ]
  },
  {
   "cell_type": "markdown",
   "metadata": {},
   "source": [
    "Пороговое значение alpha устанавливаем .05% - порог вероятности крайнего, маловероятного события, т.е., если вероятность ниже, то принято считать, что событие маловероятно"
   ]
  },
  {
   "cell_type": "code",
   "execution_count": 70,
   "metadata": {},
   "outputs": [],
   "source": [
    "alpha = .05"
   ]
  },
  {
   "cell_type": "markdown",
   "metadata": {},
   "source": [
    "df_smart.revenue - выручка пользователей тарифа **«smart»**\n",
    "\n",
    "df_ultra.revenue - выручка пользователей тарифа **«ultra»**\n",
    "\n",
    "results_1 - результат проверки"
   ]
  },
  {
   "cell_type": "markdown",
   "metadata": {},
   "source": [
    "Для проверки гипотезы используем метод ttest_ind из пакета scipy.stats. P-value — второе значение в массиве, выдаваемом методом ttest_ind. \n",
    "\n",
    "К нему обратимся по имени: results.pvalue. \n",
    "\n",
    "Если окажется, что значение results_1.pvalue больше alpha, то подтверждаем гипотезу о равенстве средней выручки пользователей тарифов "
   ]
  },
  {
   "cell_type": "code",
   "execution_count": 71,
   "metadata": {},
   "outputs": [
    {
     "data": {
      "text/plain": [
       "Ttest_indResult(statistic=-31.559679271872707, pvalue=1.1875821089086472e-190)"
      ]
     },
     "execution_count": 71,
     "metadata": {},
     "output_type": "execute_result"
    }
   ],
   "source": [
    "results_1 = st.ttest_ind(df_smart.revenue, df_ultra.revenue)\n",
    "results_1"
   ]
  },
  {
   "cell_type": "code",
   "execution_count": 72,
   "metadata": {},
   "outputs": [
    {
     "name": "stdout",
     "output_type": "stream",
     "text": [
      "p-значение: 1.1875821089086472e-190\n",
      "Отвергаем нулевую гипотезу\n"
     ]
    }
   ],
   "source": [
    "print('p-значение:', results_1.pvalue)\n",
    "if results_1.pvalue < alpha: \n",
    "    print(\"Отвергаем нулевую гипотезу\")\n",
    "else:\n",
    "    print(\"Не получилось отвергнуть нулевую гипотезу\")"
   ]
  },
  {
   "cell_type": "markdown",
   "metadata": {},
   "source": [
    "### 4.2 Cредняя выручка пользователей из Москвы отличается от выручки пользователей из других регионов"
   ]
  },
  {
   "cell_type": "markdown",
   "metadata": {},
   "source": [
    "Будем проверять нулевую и альтернативную гипотезы:\n",
    "\n",
    "* нулевая гипотеза H0 - cредняя выручка пользователей из Москвы и пользователей из других регионов не отличаются друг от друга\n",
    "\n",
    "* альтернативная гипотеза H1 - cредняя выручка пользователей из Москвы и пользователей из других регионов значимо различны"
   ]
  },
  {
   "cell_type": "markdown",
   "metadata": {},
   "source": [
    "Методика как в предыдущей проверке"
   ]
  },
  {
   "cell_type": "code",
   "execution_count": 73,
   "metadata": {},
   "outputs": [],
   "source": [
    "alpha = .05"
   ]
  },
  {
   "cell_type": "code",
   "execution_count": 74,
   "metadata": {},
   "outputs": [],
   "source": [
    "df_moscow = df.query('city == \"Москва\"')"
   ]
  },
  {
   "cell_type": "code",
   "execution_count": 75,
   "metadata": {},
   "outputs": [],
   "source": [
    "df_another = df.query('city != \"Москва\"')"
   ]
  },
  {
   "cell_type": "markdown",
   "metadata": {},
   "source": [
    "df_moscow.revenue - средняя выручка пользователей из Москвы \n",
    "\n",
    "df_another.revenue - средняя выручка пользователей из других регионов"
   ]
  },
  {
   "cell_type": "markdown",
   "metadata": {},
   "source": [
    "Если окажется, что значение results_2.pvalue больше alpha, то подтверждаем гипотезу о равенстве выручки пользователей из Москвы и выручки пользователей из других регионов "
   ]
  },
  {
   "cell_type": "code",
   "execution_count": 76,
   "metadata": {},
   "outputs": [
    {
     "data": {
      "text/plain": [
       "Ttest_indResult(statistic=0.7156025264433984, pvalue=0.4742888281951969)"
      ]
     },
     "execution_count": 76,
     "metadata": {},
     "output_type": "execute_result"
    }
   ],
   "source": [
    "results_2 = st.ttest_ind(df_moscow.revenue, df_another.revenue)\n",
    "results_2"
   ]
  },
  {
   "cell_type": "code",
   "execution_count": 77,
   "metadata": {},
   "outputs": [
    {
     "name": "stdout",
     "output_type": "stream",
     "text": [
      "p-значение: 0.4742888281951969\n",
      "Не получилось отвергнуть нулевую гипотезу\n"
     ]
    }
   ],
   "source": [
    "print('p-значение:', results_2.pvalue)\n",
    "if results_2.pvalue < alpha: \n",
    "    print(\"Отвергаем нулевую гипотезу\")\n",
    "else:\n",
    "    print(\"Не получилось отвергнуть нулевую гипотезу\")"
   ]
  },
  {
   "cell_type": "markdown",
   "metadata": {},
   "source": [
    "<div class=\"alert alert-info\"> \n",
    "\n",
    "v1\n",
    "    \n",
    "* нулевая и альтернативная гипотезы сформулированы и вынесены в начало проверки\n",
    "</div>"
   ]
  },
  {
   "cell_type": "markdown",
   "metadata": {},
   "source": [
    "рассчет выручки по месяцам"
   ]
  },
  {
   "cell_type": "code",
   "execution_count": 78,
   "metadata": {},
   "outputs": [],
   "source": [
    "df_smart_revenue = df_smart.pivot_table(index='month_date', values='revenue', aggfunc='sum').reset_index()"
   ]
  },
  {
   "cell_type": "code",
   "execution_count": 79,
   "metadata": {},
   "outputs": [],
   "source": [
    "df_ultra_revenue = df_ultra.pivot_table(index='month_date', values='revenue', aggfunc='sum').reset_index()"
   ]
  },
  {
   "cell_type": "code",
   "execution_count": 80,
   "metadata": {},
   "outputs": [],
   "source": [
    "df_revenue = df_smart_revenue.merge(df_ultra_revenue, on = 'month_date', how = 'outer')"
   ]
  },
  {
   "cell_type": "code",
   "execution_count": 81,
   "metadata": {},
   "outputs": [],
   "source": [
    "df_revenue.columns = ['month_date', 'smart', 'ultra']"
   ]
  },
  {
   "cell_type": "code",
   "execution_count": 82,
   "metadata": {},
   "outputs": [],
   "source": [
    "df_revenue[['smart', 'ultra']] = df_revenue[['smart', 'ultra']].astype(int)"
   ]
  },
  {
   "cell_type": "markdown",
   "metadata": {},
   "source": [
    "<a name=\"5\"></a>\n",
    "[Назад к оглавлению](#0)\n",
    "\n",
    "## 5. Вывод"
   ]
  },
  {
   "cell_type": "code",
   "execution_count": 83,
   "metadata": {},
   "outputs": [
    {
     "data": {
      "text/html": [
       "<div>\n",
       "<style scoped>\n",
       "    .dataframe tbody tr th:only-of-type {\n",
       "        vertical-align: middle;\n",
       "    }\n",
       "\n",
       "    .dataframe tbody tr th {\n",
       "        vertical-align: top;\n",
       "    }\n",
       "\n",
       "    .dataframe thead th {\n",
       "        text-align: right;\n",
       "    }\n",
       "</style>\n",
       "<table border=\"1\" class=\"dataframe\">\n",
       "  <thead>\n",
       "    <tr style=\"text-align: right;\">\n",
       "      <th></th>\n",
       "      <th>month_date</th>\n",
       "      <th>smart</th>\n",
       "      <th>ultra</th>\n",
       "    </tr>\n",
       "  </thead>\n",
       "  <tbody>\n",
       "    <tr>\n",
       "      <th>0</th>\n",
       "      <td>2018-01-01</td>\n",
       "      <td>23887</td>\n",
       "      <td>17550</td>\n",
       "    </tr>\n",
       "    <tr>\n",
       "      <th>1</th>\n",
       "      <td>2018-02-01</td>\n",
       "      <td>46651</td>\n",
       "      <td>47353</td>\n",
       "    </tr>\n",
       "    <tr>\n",
       "      <th>2</th>\n",
       "      <td>2018-03-01</td>\n",
       "      <td>86114</td>\n",
       "      <td>74154</td>\n",
       "    </tr>\n",
       "    <tr>\n",
       "      <th>3</th>\n",
       "      <td>2018-04-01</td>\n",
       "      <td>103300</td>\n",
       "      <td>109747</td>\n",
       "    </tr>\n",
       "    <tr>\n",
       "      <th>4</th>\n",
       "      <td>2018-05-01</td>\n",
       "      <td>161711</td>\n",
       "      <td>137683</td>\n",
       "    </tr>\n",
       "    <tr>\n",
       "      <th>5</th>\n",
       "      <td>2018-06-01</td>\n",
       "      <td>188531</td>\n",
       "      <td>170691</td>\n",
       "    </tr>\n",
       "    <tr>\n",
       "      <th>6</th>\n",
       "      <td>2018-07-01</td>\n",
       "      <td>234780</td>\n",
       "      <td>191872</td>\n",
       "    </tr>\n",
       "    <tr>\n",
       "      <th>7</th>\n",
       "      <td>2018-08-01</td>\n",
       "      <td>295746</td>\n",
       "      <td>221613</td>\n",
       "    </tr>\n",
       "    <tr>\n",
       "      <th>8</th>\n",
       "      <td>2018-09-01</td>\n",
       "      <td>311772</td>\n",
       "      <td>231576</td>\n",
       "    </tr>\n",
       "    <tr>\n",
       "      <th>9</th>\n",
       "      <td>2018-10-01</td>\n",
       "      <td>383625</td>\n",
       "      <td>252999</td>\n",
       "    </tr>\n",
       "    <tr>\n",
       "      <th>10</th>\n",
       "      <td>2018-11-01</td>\n",
       "      <td>405553</td>\n",
       "      <td>278826</td>\n",
       "    </tr>\n",
       "    <tr>\n",
       "      <th>11</th>\n",
       "      <td>2018-12-01</td>\n",
       "      <td>507475</td>\n",
       "      <td>295546</td>\n",
       "    </tr>\n",
       "  </tbody>\n",
       "</table>\n",
       "</div>"
      ],
      "text/plain": [
       "   month_date   smart   ultra\n",
       "0  2018-01-01   23887   17550\n",
       "1  2018-02-01   46651   47353\n",
       "2  2018-03-01   86114   74154\n",
       "3  2018-04-01  103300  109747\n",
       "4  2018-05-01  161711  137683\n",
       "5  2018-06-01  188531  170691\n",
       "6  2018-07-01  234780  191872\n",
       "7  2018-08-01  295746  221613\n",
       "8  2018-09-01  311772  231576\n",
       "9  2018-10-01  383625  252999\n",
       "10 2018-11-01  405553  278826\n",
       "11 2018-12-01  507475  295546"
      ]
     },
     "execution_count": 83,
     "metadata": {},
     "output_type": "execute_result"
    }
   ],
   "source": [
    "df_revenue"
   ]
  },
  {
   "cell_type": "markdown",
   "metadata": {},
   "source": [
    "1. Cредняя выручка пользователей тарифов «smart» и «ultra» различается\n",
    "\n",
    "2. Cредняя выручка пользователей из Москвы не отличается от выручки пользователей из других регионов\n",
    "\n",
    "3. **Сумарная выручка по месяцам показывает, что тарифный «smart» перспективнее и выгоднее, чем «ultra»**"
   ]
  }
 ],
 "metadata": {
  "ExecuteTimeLog": [
   {
    "duration": 4416,
    "start_time": "2022-05-21T12:19:50.542Z"
   },
   {
    "duration": 1211,
    "start_time": "2022-05-21T12:19:54.961Z"
   },
   {
    "duration": 1268,
    "start_time": "2022-05-21T12:19:56.174Z"
   },
   {
    "duration": 701,
    "start_time": "2022-05-21T12:19:57.444Z"
   },
   {
    "duration": 109,
    "start_time": "2022-05-21T12:19:58.150Z"
   },
   {
    "duration": 86,
    "start_time": "2022-05-21T12:19:58.261Z"
   },
   {
    "duration": 416,
    "start_time": "2022-05-21T12:19:58.354Z"
   },
   {
    "duration": 171,
    "start_time": "2022-05-21T12:19:58.773Z"
   },
   {
    "duration": 103,
    "start_time": "2022-05-21T12:19:58.946Z"
   },
   {
    "duration": 13,
    "start_time": "2022-05-21T12:19:59.052Z"
   },
   {
    "duration": 286,
    "start_time": "2022-05-21T12:19:59.067Z"
   },
   {
    "duration": 106,
    "start_time": "2022-05-21T12:19:59.355Z"
   },
   {
    "duration": 82,
    "start_time": "2022-05-21T12:19:59.473Z"
   },
   {
    "duration": 310,
    "start_time": "2022-05-21T12:19:59.561Z"
   },
   {
    "duration": 177,
    "start_time": "2022-05-21T12:19:59.873Z"
   },
   {
    "duration": 13,
    "start_time": "2022-05-21T12:20:00.053Z"
   },
   {
    "duration": 102,
    "start_time": "2022-05-21T12:20:00.068Z"
   },
   {
    "duration": 78,
    "start_time": "2022-05-21T12:20:00.173Z"
   },
   {
    "duration": 114,
    "start_time": "2022-05-21T12:20:00.253Z"
   },
   {
    "duration": 75,
    "start_time": "2022-05-21T12:20:00.369Z"
   },
   {
    "duration": 31,
    "start_time": "2022-05-21T12:20:00.447Z"
   },
   {
    "duration": 86,
    "start_time": "2022-05-21T12:20:00.480Z"
   },
   {
    "duration": 178,
    "start_time": "2022-05-21T12:20:00.568Z"
   },
   {
    "duration": 101,
    "start_time": "2022-05-21T12:20:00.748Z"
   },
   {
    "duration": 106,
    "start_time": "2022-05-21T12:20:00.854Z"
   },
   {
    "duration": 6,
    "start_time": "2022-05-21T12:20:00.962Z"
   },
   {
    "duration": 173,
    "start_time": "2022-05-21T12:20:00.970Z"
   },
   {
    "duration": 98,
    "start_time": "2022-05-21T12:20:01.149Z"
   },
   {
    "duration": 201,
    "start_time": "2022-05-21T12:20:01.249Z"
   },
   {
    "duration": 93,
    "start_time": "2022-05-21T12:20:01.455Z"
   },
   {
    "duration": 102,
    "start_time": "2022-05-21T12:20:01.551Z"
   },
   {
    "duration": 96,
    "start_time": "2022-05-21T12:20:01.662Z"
   },
   {
    "duration": 200,
    "start_time": "2022-05-21T12:20:01.766Z"
   },
   {
    "duration": 313,
    "start_time": "2022-05-21T12:20:02.041Z"
   },
   {
    "duration": 5,
    "start_time": "2022-05-21T12:20:02.356Z"
   },
   {
    "duration": 101,
    "start_time": "2022-05-21T12:20:02.363Z"
   },
   {
    "duration": 212,
    "start_time": "2022-05-21T12:20:02.543Z"
   },
   {
    "duration": 8,
    "start_time": "2022-05-21T12:20:02.757Z"
   },
   {
    "duration": 96,
    "start_time": "2022-05-21T12:20:02.767Z"
   },
   {
    "duration": 36,
    "start_time": "2022-05-21T12:20:02.941Z"
   },
   {
    "duration": 3,
    "start_time": "2022-05-21T12:20:03.042Z"
   },
   {
    "duration": 114,
    "start_time": "2022-05-21T12:20:03.047Z"
   },
   {
    "duration": 187,
    "start_time": "2022-05-21T12:20:03.164Z"
   },
   {
    "duration": 10,
    "start_time": "2022-05-21T12:20:03.353Z"
   },
   {
    "duration": 98,
    "start_time": "2022-05-21T12:20:03.365Z"
   },
   {
    "duration": 91,
    "start_time": "2022-05-21T12:20:03.465Z"
   },
   {
    "duration": 106,
    "start_time": "2022-05-21T12:20:03.564Z"
   },
   {
    "duration": 70,
    "start_time": "2022-05-21T12:20:03.672Z"
   },
   {
    "duration": 111,
    "start_time": "2022-05-21T12:20:03.747Z"
   },
   {
    "duration": 90,
    "start_time": "2022-05-21T12:20:03.862Z"
   },
   {
    "duration": 106,
    "start_time": "2022-05-21T12:20:03.955Z"
   },
   {
    "duration": 87,
    "start_time": "2022-05-21T12:20:04.065Z"
   },
   {
    "duration": 1387,
    "start_time": "2022-05-21T12:20:04.156Z"
   },
   {
    "duration": 14,
    "start_time": "2022-05-21T12:20:05.544Z"
   },
   {
    "duration": 96,
    "start_time": "2022-05-21T12:20:05.559Z"
   },
   {
    "duration": 101,
    "start_time": "2022-05-21T12:20:05.656Z"
   },
   {
    "duration": 186,
    "start_time": "2022-05-21T12:20:05.763Z"
   },
   {
    "duration": 109,
    "start_time": "2022-05-21T12:20:05.952Z"
   },
   {
    "duration": 85,
    "start_time": "2022-05-21T12:20:06.065Z"
   },
   {
    "duration": 91,
    "start_time": "2022-05-21T12:20:06.155Z"
   },
   {
    "duration": 798,
    "start_time": "2022-05-21T12:20:06.249Z"
   },
   {
    "duration": 996,
    "start_time": "2022-05-21T12:20:07.049Z"
   },
   {
    "duration": 1413,
    "start_time": "2022-05-21T12:20:08.048Z"
   },
   {
    "duration": 598,
    "start_time": "2022-05-21T12:20:09.463Z"
   },
   {
    "duration": 688,
    "start_time": "2022-05-21T12:20:10.063Z"
   },
   {
    "duration": 1493,
    "start_time": "2022-05-21T12:20:10.755Z"
   },
   {
    "duration": 606,
    "start_time": "2022-05-21T12:20:12.251Z"
   },
   {
    "duration": 583,
    "start_time": "2022-05-21T12:20:12.862Z"
   },
   {
    "duration": 1701,
    "start_time": "2022-05-21T12:20:13.448Z"
   },
   {
    "duration": 17,
    "start_time": "2022-05-21T12:20:15.152Z"
   },
   {
    "duration": 74,
    "start_time": "2022-05-21T12:20:15.177Z"
   },
   {
    "duration": 13,
    "start_time": "2022-05-21T12:20:15.257Z"
   },
   {
    "duration": 5,
    "start_time": "2022-05-21T12:20:15.342Z"
   },
   {
    "duration": 25,
    "start_time": "2022-05-21T12:20:15.349Z"
   },
   {
    "duration": 8,
    "start_time": "2022-05-21T12:20:15.444Z"
   },
   {
    "duration": 95,
    "start_time": "2022-05-21T12:20:15.453Z"
   },
   {
    "duration": 9,
    "start_time": "2022-05-21T12:20:15.558Z"
   },
   {
    "duration": 86,
    "start_time": "2022-05-21T12:20:15.570Z"
   },
   {
    "duration": 85,
    "start_time": "2022-05-21T12:20:15.660Z"
   },
   {
    "duration": 95,
    "start_time": "2022-05-21T12:20:15.752Z"
   },
   {
    "duration": 22,
    "start_time": "2022-05-21T12:20:15.851Z"
   },
   {
    "duration": 11,
    "start_time": "2022-05-21T12:20:15.944Z"
   },
   {
    "duration": 96,
    "start_time": "2022-05-21T12:20:15.957Z"
   }
  ],
  "kernelspec": {
   "display_name": "Python 3 (ipykernel)",
   "language": "python",
   "name": "python3"
  },
  "language_info": {
   "codemirror_mode": {
    "name": "ipython",
    "version": 3
   },
   "file_extension": ".py",
   "mimetype": "text/x-python",
   "name": "python",
   "nbconvert_exporter": "python",
   "pygments_lexer": "ipython3",
   "version": "3.9.5"
  },
  "toc": {
   "base_numbering": "1",
   "nav_menu": {
    "height": "179px",
    "width": "358px"
   },
   "number_sections": false,
   "sideBar": true,
   "skip_h1_title": false,
   "title_cell": "Содержание",
   "title_sidebar": "Содержание",
   "toc_cell": false,
   "toc_position": {
    "height": "calc(100% - 180px)",
    "left": "10px",
    "top": "150px",
    "width": "204.594px"
   },
   "toc_section_display": true,
   "toc_window_display": false
  }
 },
 "nbformat": 4,
 "nbformat_minor": 2
}
