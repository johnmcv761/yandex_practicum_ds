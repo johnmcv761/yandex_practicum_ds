{
 "cells": [
  {
   "cell_type": "markdown",
   "metadata": {
    "toc": true
   },
   "source": [
    "<h1>Содержание<span class=\"tocSkip\"></span></h1>\n",
    "<div class=\"toc\"><ul class=\"toc-item\"><li><span><a href=\"#Загрузка-данных\" data-toc-modified-id=\"Загрузка-данных-1\"><span class=\"toc-item-num\">1&nbsp;&nbsp;</span>Загрузка данных</a></span></li><li><span><a href=\"#Умножение-матриц\" data-toc-modified-id=\"Умножение-матриц-2\"><span class=\"toc-item-num\">2&nbsp;&nbsp;</span>Умножение матриц</a></span></li><li><span><a href=\"#Алгоритм-преобразования\" data-toc-modified-id=\"Алгоритм-преобразования-3\"><span class=\"toc-item-num\">3&nbsp;&nbsp;</span>Алгоритм преобразования</a></span></li><li><span><a href=\"#Проверка-алгоритма\" data-toc-modified-id=\"Проверка-алгоритма-4\"><span class=\"toc-item-num\">4&nbsp;&nbsp;</span>Проверка алгоритма</a></span></li><li><span><a href=\"#-Комментарий-ревьюера\" data-toc-modified-id=\"-Комментарий-ревьюера-5\"><span class=\"toc-item-num\">5&nbsp;&nbsp;</span> Комментарий ревьюера</a></span></li></ul></div>"
   ]
  },
  {
   "cell_type": "markdown",
   "metadata": {},
   "source": [
    "# Защита персональных данных клиентов"
   ]
  },
  {
   "cell_type": "markdown",
   "metadata": {},
   "source": [
    "Нужно защитить данные клиентов страховой компании «Хоть потоп». Разработайте такой метод преобразования данных, чтобы по ним было сложно восстановить персональную информацию. Обоснуйте корректность его работы.\n",
    "\n",
    "Нужно защитить данные, чтобы при преобразовании качество моделей машинного обучения не ухудшилось. Подбирать наилучшую модель не требуется."
   ]
  },
  {
   "cell_type": "markdown",
   "metadata": {},
   "source": [
    "## Загрузка данных"
   ]
  },
  {
   "cell_type": "code",
   "execution_count": 1,
   "metadata": {},
   "outputs": [],
   "source": [
    "import numpy as np\n",
    "import pandas as pd\n",
    "\n",
    "from sklearn.model_selection import train_test_split\n",
    "from sklearn.linear_model import LinearRegression\n",
    "from sklearn.metrics import r2_score\n",
    "\n",
    "# заранее установим в константу random_state\n",
    "random_state = 42"
   ]
  },
  {
   "cell_type": "code",
   "execution_count": 2,
   "metadata": {},
   "outputs": [],
   "source": [
    "df = pd.read_csv('/datasets/insurance.csv')"
   ]
  },
  {
   "cell_type": "code",
   "execution_count": 3,
   "metadata": {},
   "outputs": [],
   "source": [
    "# функция вывода информации о датасете\n",
    "def data_info(data):\n",
    "    display('общая информация')\n",
    "    display(data.head())\n",
    "    display('_______________________________________________________________')\n",
    "    display('информация о типах данныx')\n",
    "    display()\n",
    "    display(data.info())\n",
    "    display('_______________________________________________________________')\n",
    "    display('описание')\n",
    "    display()\n",
    "    display(data.describe())\n",
    "    display('_______________________________________________________________')\n",
    "    display('пропуски')\n",
    "    display(df.isna().sum())\n",
    "    display()\n",
    "    display('_______________________________________________________________')\n",
    "    display('дубликаты')\n",
    "    display()\n",
    "    display(data.duplicated().sum())\n",
    "    display('_______________________________________________________________')\n",
    "    display('корреляция')\n",
    "    display()\n",
    "    display(pd.DataFrame(data.corr()))"
   ]
  },
  {
   "cell_type": "code",
   "execution_count": 4,
   "metadata": {},
   "outputs": [
    {
     "data": {
      "text/plain": [
       "'общая информация'"
      ]
     },
     "metadata": {},
     "output_type": "display_data"
    },
    {
     "data": {
      "text/html": [
       "<div>\n",
       "<style scoped>\n",
       "    .dataframe tbody tr th:only-of-type {\n",
       "        vertical-align: middle;\n",
       "    }\n",
       "\n",
       "    .dataframe tbody tr th {\n",
       "        vertical-align: top;\n",
       "    }\n",
       "\n",
       "    .dataframe thead th {\n",
       "        text-align: right;\n",
       "    }\n",
       "</style>\n",
       "<table border=\"1\" class=\"dataframe\">\n",
       "  <thead>\n",
       "    <tr style=\"text-align: right;\">\n",
       "      <th></th>\n",
       "      <th>Пол</th>\n",
       "      <th>Возраст</th>\n",
       "      <th>Зарплата</th>\n",
       "      <th>Члены семьи</th>\n",
       "      <th>Страховые выплаты</th>\n",
       "    </tr>\n",
       "  </thead>\n",
       "  <tbody>\n",
       "    <tr>\n",
       "      <th>0</th>\n",
       "      <td>1</td>\n",
       "      <td>41.0</td>\n",
       "      <td>49600.0</td>\n",
       "      <td>1</td>\n",
       "      <td>0</td>\n",
       "    </tr>\n",
       "    <tr>\n",
       "      <th>1</th>\n",
       "      <td>0</td>\n",
       "      <td>46.0</td>\n",
       "      <td>38000.0</td>\n",
       "      <td>1</td>\n",
       "      <td>1</td>\n",
       "    </tr>\n",
       "    <tr>\n",
       "      <th>2</th>\n",
       "      <td>0</td>\n",
       "      <td>29.0</td>\n",
       "      <td>21000.0</td>\n",
       "      <td>0</td>\n",
       "      <td>0</td>\n",
       "    </tr>\n",
       "    <tr>\n",
       "      <th>3</th>\n",
       "      <td>0</td>\n",
       "      <td>21.0</td>\n",
       "      <td>41700.0</td>\n",
       "      <td>2</td>\n",
       "      <td>0</td>\n",
       "    </tr>\n",
       "    <tr>\n",
       "      <th>4</th>\n",
       "      <td>1</td>\n",
       "      <td>28.0</td>\n",
       "      <td>26100.0</td>\n",
       "      <td>0</td>\n",
       "      <td>0</td>\n",
       "    </tr>\n",
       "  </tbody>\n",
       "</table>\n",
       "</div>"
      ],
      "text/plain": [
       "   Пол  Возраст  Зарплата  Члены семьи  Страховые выплаты\n",
       "0    1     41.0   49600.0            1                  0\n",
       "1    0     46.0   38000.0            1                  1\n",
       "2    0     29.0   21000.0            0                  0\n",
       "3    0     21.0   41700.0            2                  0\n",
       "4    1     28.0   26100.0            0                  0"
      ]
     },
     "metadata": {},
     "output_type": "display_data"
    },
    {
     "data": {
      "text/plain": [
       "'_______________________________________________________________'"
      ]
     },
     "metadata": {},
     "output_type": "display_data"
    },
    {
     "data": {
      "text/plain": [
       "'информация о типах данныx'"
      ]
     },
     "metadata": {},
     "output_type": "display_data"
    },
    {
     "name": "stdout",
     "output_type": "stream",
     "text": [
      "<class 'pandas.core.frame.DataFrame'>\n",
      "RangeIndex: 5000 entries, 0 to 4999\n",
      "Data columns (total 5 columns):\n",
      " #   Column             Non-Null Count  Dtype  \n",
      "---  ------             --------------  -----  \n",
      " 0   Пол                5000 non-null   int64  \n",
      " 1   Возраст            5000 non-null   float64\n",
      " 2   Зарплата           5000 non-null   float64\n",
      " 3   Члены семьи        5000 non-null   int64  \n",
      " 4   Страховые выплаты  5000 non-null   int64  \n",
      "dtypes: float64(2), int64(3)\n",
      "memory usage: 195.4 KB\n"
     ]
    },
    {
     "data": {
      "text/plain": [
       "None"
      ]
     },
     "metadata": {},
     "output_type": "display_data"
    },
    {
     "data": {
      "text/plain": [
       "'_______________________________________________________________'"
      ]
     },
     "metadata": {},
     "output_type": "display_data"
    },
    {
     "data": {
      "text/plain": [
       "'описание'"
      ]
     },
     "metadata": {},
     "output_type": "display_data"
    },
    {
     "data": {
      "text/html": [
       "<div>\n",
       "<style scoped>\n",
       "    .dataframe tbody tr th:only-of-type {\n",
       "        vertical-align: middle;\n",
       "    }\n",
       "\n",
       "    .dataframe tbody tr th {\n",
       "        vertical-align: top;\n",
       "    }\n",
       "\n",
       "    .dataframe thead th {\n",
       "        text-align: right;\n",
       "    }\n",
       "</style>\n",
       "<table border=\"1\" class=\"dataframe\">\n",
       "  <thead>\n",
       "    <tr style=\"text-align: right;\">\n",
       "      <th></th>\n",
       "      <th>Пол</th>\n",
       "      <th>Возраст</th>\n",
       "      <th>Зарплата</th>\n",
       "      <th>Члены семьи</th>\n",
       "      <th>Страховые выплаты</th>\n",
       "    </tr>\n",
       "  </thead>\n",
       "  <tbody>\n",
       "    <tr>\n",
       "      <th>count</th>\n",
       "      <td>5000.000000</td>\n",
       "      <td>5000.000000</td>\n",
       "      <td>5000.000000</td>\n",
       "      <td>5000.000000</td>\n",
       "      <td>5000.000000</td>\n",
       "    </tr>\n",
       "    <tr>\n",
       "      <th>mean</th>\n",
       "      <td>0.499000</td>\n",
       "      <td>30.952800</td>\n",
       "      <td>39916.360000</td>\n",
       "      <td>1.194200</td>\n",
       "      <td>0.148000</td>\n",
       "    </tr>\n",
       "    <tr>\n",
       "      <th>std</th>\n",
       "      <td>0.500049</td>\n",
       "      <td>8.440807</td>\n",
       "      <td>9900.083569</td>\n",
       "      <td>1.091387</td>\n",
       "      <td>0.463183</td>\n",
       "    </tr>\n",
       "    <tr>\n",
       "      <th>min</th>\n",
       "      <td>0.000000</td>\n",
       "      <td>18.000000</td>\n",
       "      <td>5300.000000</td>\n",
       "      <td>0.000000</td>\n",
       "      <td>0.000000</td>\n",
       "    </tr>\n",
       "    <tr>\n",
       "      <th>25%</th>\n",
       "      <td>0.000000</td>\n",
       "      <td>24.000000</td>\n",
       "      <td>33300.000000</td>\n",
       "      <td>0.000000</td>\n",
       "      <td>0.000000</td>\n",
       "    </tr>\n",
       "    <tr>\n",
       "      <th>50%</th>\n",
       "      <td>0.000000</td>\n",
       "      <td>30.000000</td>\n",
       "      <td>40200.000000</td>\n",
       "      <td>1.000000</td>\n",
       "      <td>0.000000</td>\n",
       "    </tr>\n",
       "    <tr>\n",
       "      <th>75%</th>\n",
       "      <td>1.000000</td>\n",
       "      <td>37.000000</td>\n",
       "      <td>46600.000000</td>\n",
       "      <td>2.000000</td>\n",
       "      <td>0.000000</td>\n",
       "    </tr>\n",
       "    <tr>\n",
       "      <th>max</th>\n",
       "      <td>1.000000</td>\n",
       "      <td>65.000000</td>\n",
       "      <td>79000.000000</td>\n",
       "      <td>6.000000</td>\n",
       "      <td>5.000000</td>\n",
       "    </tr>\n",
       "  </tbody>\n",
       "</table>\n",
       "</div>"
      ],
      "text/plain": [
       "               Пол      Возраст      Зарплата  Члены семьи  Страховые выплаты\n",
       "count  5000.000000  5000.000000   5000.000000  5000.000000        5000.000000\n",
       "mean      0.499000    30.952800  39916.360000     1.194200           0.148000\n",
       "std       0.500049     8.440807   9900.083569     1.091387           0.463183\n",
       "min       0.000000    18.000000   5300.000000     0.000000           0.000000\n",
       "25%       0.000000    24.000000  33300.000000     0.000000           0.000000\n",
       "50%       0.000000    30.000000  40200.000000     1.000000           0.000000\n",
       "75%       1.000000    37.000000  46600.000000     2.000000           0.000000\n",
       "max       1.000000    65.000000  79000.000000     6.000000           5.000000"
      ]
     },
     "metadata": {},
     "output_type": "display_data"
    },
    {
     "data": {
      "text/plain": [
       "'_______________________________________________________________'"
      ]
     },
     "metadata": {},
     "output_type": "display_data"
    },
    {
     "data": {
      "text/plain": [
       "'пропуски'"
      ]
     },
     "metadata": {},
     "output_type": "display_data"
    },
    {
     "data": {
      "text/plain": [
       "Пол                  0\n",
       "Возраст              0\n",
       "Зарплата             0\n",
       "Члены семьи          0\n",
       "Страховые выплаты    0\n",
       "dtype: int64"
      ]
     },
     "metadata": {},
     "output_type": "display_data"
    },
    {
     "data": {
      "text/plain": [
       "'_______________________________________________________________'"
      ]
     },
     "metadata": {},
     "output_type": "display_data"
    },
    {
     "data": {
      "text/plain": [
       "'дубликаты'"
      ]
     },
     "metadata": {},
     "output_type": "display_data"
    },
    {
     "data": {
      "text/plain": [
       "153"
      ]
     },
     "metadata": {},
     "output_type": "display_data"
    },
    {
     "data": {
      "text/plain": [
       "'_______________________________________________________________'"
      ]
     },
     "metadata": {},
     "output_type": "display_data"
    },
    {
     "data": {
      "text/plain": [
       "'корреляция'"
      ]
     },
     "metadata": {},
     "output_type": "display_data"
    },
    {
     "data": {
      "text/html": [
       "<div>\n",
       "<style scoped>\n",
       "    .dataframe tbody tr th:only-of-type {\n",
       "        vertical-align: middle;\n",
       "    }\n",
       "\n",
       "    .dataframe tbody tr th {\n",
       "        vertical-align: top;\n",
       "    }\n",
       "\n",
       "    .dataframe thead th {\n",
       "        text-align: right;\n",
       "    }\n",
       "</style>\n",
       "<table border=\"1\" class=\"dataframe\">\n",
       "  <thead>\n",
       "    <tr style=\"text-align: right;\">\n",
       "      <th></th>\n",
       "      <th>Пол</th>\n",
       "      <th>Возраст</th>\n",
       "      <th>Зарплата</th>\n",
       "      <th>Члены семьи</th>\n",
       "      <th>Страховые выплаты</th>\n",
       "    </tr>\n",
       "  </thead>\n",
       "  <tbody>\n",
       "    <tr>\n",
       "      <th>Пол</th>\n",
       "      <td>1.000000</td>\n",
       "      <td>0.002074</td>\n",
       "      <td>0.014910</td>\n",
       "      <td>-0.008991</td>\n",
       "      <td>0.010140</td>\n",
       "    </tr>\n",
       "    <tr>\n",
       "      <th>Возраст</th>\n",
       "      <td>0.002074</td>\n",
       "      <td>1.000000</td>\n",
       "      <td>-0.019093</td>\n",
       "      <td>-0.006692</td>\n",
       "      <td>0.651030</td>\n",
       "    </tr>\n",
       "    <tr>\n",
       "      <th>Зарплата</th>\n",
       "      <td>0.014910</td>\n",
       "      <td>-0.019093</td>\n",
       "      <td>1.000000</td>\n",
       "      <td>-0.030296</td>\n",
       "      <td>-0.014963</td>\n",
       "    </tr>\n",
       "    <tr>\n",
       "      <th>Члены семьи</th>\n",
       "      <td>-0.008991</td>\n",
       "      <td>-0.006692</td>\n",
       "      <td>-0.030296</td>\n",
       "      <td>1.000000</td>\n",
       "      <td>-0.036290</td>\n",
       "    </tr>\n",
       "    <tr>\n",
       "      <th>Страховые выплаты</th>\n",
       "      <td>0.010140</td>\n",
       "      <td>0.651030</td>\n",
       "      <td>-0.014963</td>\n",
       "      <td>-0.036290</td>\n",
       "      <td>1.000000</td>\n",
       "    </tr>\n",
       "  </tbody>\n",
       "</table>\n",
       "</div>"
      ],
      "text/plain": [
       "                        Пол   Возраст  Зарплата  Члены семьи  \\\n",
       "Пол                1.000000  0.002074  0.014910    -0.008991   \n",
       "Возраст            0.002074  1.000000 -0.019093    -0.006692   \n",
       "Зарплата           0.014910 -0.019093  1.000000    -0.030296   \n",
       "Члены семьи       -0.008991 -0.006692 -0.030296     1.000000   \n",
       "Страховые выплаты  0.010140  0.651030 -0.014963    -0.036290   \n",
       "\n",
       "                   Страховые выплаты  \n",
       "Пол                         0.010140  \n",
       "Возраст                     0.651030  \n",
       "Зарплата                   -0.014963  \n",
       "Члены семьи                -0.036290  \n",
       "Страховые выплаты           1.000000  "
      ]
     },
     "metadata": {},
     "output_type": "display_data"
    }
   ],
   "source": [
    "data_info(df)"
   ]
  },
  {
   "cell_type": "markdown",
   "metadata": {},
   "source": [
    "переменуем признаки для корректного анализа и обработки данных"
   ]
  },
  {
   "cell_type": "code",
   "execution_count": 5,
   "metadata": {},
   "outputs": [],
   "source": [
    "df.columns = ['sex', 'age', 'salary', 'family_members', 'insurance_payments']"
   ]
  },
  {
   "cell_type": "markdown",
   "metadata": {},
   "source": [
    "**Вывод:**\n",
    "\n",
    "1. Данные представлены в датасете df\n",
    "\n",
    "\n",
    "2. df содержит 5000 объектов и 5 признаков \n",
    "\n",
    "    - 'Пол' - int64 \n",
    "    \n",
    "    - 'Возраст' - float64\n",
    "    \n",
    "    - 'Зарплата' - float64\n",
    "    \n",
    "    - 'Члены семьи' - int64\n",
    "    \n",
    "    - 'Страховые выплаты' - int64\n",
    "    \n",
    "\n",
    "3. Пропуски отсутствуют\n",
    "\n",
    "\n",
    "4. Присутствуют полные дубликаты в количестве 153.\n",
    "\n",
    "\n",
    "5. Присутствует заметная линейная связь 0.65 признаков 'Страховые выплаты' и 'Возраст'"
   ]
  },
  {
   "cell_type": "markdown",
   "metadata": {},
   "source": [
    "анализируем дубликаты - не понятно, почему метод duplicated() выдает 153 объекта, по факту объекты не выглядят как дубликаты???"
   ]
  },
  {
   "cell_type": "code",
   "execution_count": 6,
   "metadata": {},
   "outputs": [],
   "source": [
    "df_dublicate = df[df.duplicated()]"
   ]
  },
  {
   "cell_type": "code",
   "execution_count": 7,
   "metadata": {},
   "outputs": [
    {
     "data": {
      "text/html": [
       "<div>\n",
       "<style scoped>\n",
       "    .dataframe tbody tr th:only-of-type {\n",
       "        vertical-align: middle;\n",
       "    }\n",
       "\n",
       "    .dataframe tbody tr th {\n",
       "        vertical-align: top;\n",
       "    }\n",
       "\n",
       "    .dataframe thead th {\n",
       "        text-align: right;\n",
       "    }\n",
       "</style>\n",
       "<table border=\"1\" class=\"dataframe\">\n",
       "  <thead>\n",
       "    <tr style=\"text-align: right;\">\n",
       "      <th></th>\n",
       "      <th>sex</th>\n",
       "      <th>age</th>\n",
       "      <th>salary</th>\n",
       "      <th>family_members</th>\n",
       "      <th>insurance_payments</th>\n",
       "    </tr>\n",
       "  </thead>\n",
       "  <tbody>\n",
       "    <tr>\n",
       "      <th>281</th>\n",
       "      <td>1</td>\n",
       "      <td>39.0</td>\n",
       "      <td>48100.0</td>\n",
       "      <td>1</td>\n",
       "      <td>0</td>\n",
       "    </tr>\n",
       "    <tr>\n",
       "      <th>488</th>\n",
       "      <td>1</td>\n",
       "      <td>24.0</td>\n",
       "      <td>32900.0</td>\n",
       "      <td>1</td>\n",
       "      <td>0</td>\n",
       "    </tr>\n",
       "    <tr>\n",
       "      <th>513</th>\n",
       "      <td>0</td>\n",
       "      <td>31.0</td>\n",
       "      <td>37400.0</td>\n",
       "      <td>2</td>\n",
       "      <td>0</td>\n",
       "    </tr>\n",
       "    <tr>\n",
       "      <th>718</th>\n",
       "      <td>1</td>\n",
       "      <td>22.0</td>\n",
       "      <td>32600.0</td>\n",
       "      <td>1</td>\n",
       "      <td>0</td>\n",
       "    </tr>\n",
       "    <tr>\n",
       "      <th>785</th>\n",
       "      <td>0</td>\n",
       "      <td>20.0</td>\n",
       "      <td>35800.0</td>\n",
       "      <td>0</td>\n",
       "      <td>0</td>\n",
       "    </tr>\n",
       "    <tr>\n",
       "      <th>...</th>\n",
       "      <td>...</td>\n",
       "      <td>...</td>\n",
       "      <td>...</td>\n",
       "      <td>...</td>\n",
       "      <td>...</td>\n",
       "    </tr>\n",
       "    <tr>\n",
       "      <th>4793</th>\n",
       "      <td>1</td>\n",
       "      <td>24.0</td>\n",
       "      <td>37800.0</td>\n",
       "      <td>0</td>\n",
       "      <td>0</td>\n",
       "    </tr>\n",
       "    <tr>\n",
       "      <th>4902</th>\n",
       "      <td>1</td>\n",
       "      <td>35.0</td>\n",
       "      <td>38700.0</td>\n",
       "      <td>1</td>\n",
       "      <td>0</td>\n",
       "    </tr>\n",
       "    <tr>\n",
       "      <th>4935</th>\n",
       "      <td>1</td>\n",
       "      <td>19.0</td>\n",
       "      <td>32700.0</td>\n",
       "      <td>0</td>\n",
       "      <td>0</td>\n",
       "    </tr>\n",
       "    <tr>\n",
       "      <th>4945</th>\n",
       "      <td>1</td>\n",
       "      <td>21.0</td>\n",
       "      <td>45800.0</td>\n",
       "      <td>0</td>\n",
       "      <td>0</td>\n",
       "    </tr>\n",
       "    <tr>\n",
       "      <th>4965</th>\n",
       "      <td>0</td>\n",
       "      <td>22.0</td>\n",
       "      <td>40100.0</td>\n",
       "      <td>1</td>\n",
       "      <td>0</td>\n",
       "    </tr>\n",
       "  </tbody>\n",
       "</table>\n",
       "<p>153 rows × 5 columns</p>\n",
       "</div>"
      ],
      "text/plain": [
       "      sex   age   salary  family_members  insurance_payments\n",
       "281     1  39.0  48100.0               1                   0\n",
       "488     1  24.0  32900.0               1                   0\n",
       "513     0  31.0  37400.0               2                   0\n",
       "718     1  22.0  32600.0               1                   0\n",
       "785     0  20.0  35800.0               0                   0\n",
       "...   ...   ...      ...             ...                 ...\n",
       "4793    1  24.0  37800.0               0                   0\n",
       "4902    1  35.0  38700.0               1                   0\n",
       "4935    1  19.0  32700.0               0                   0\n",
       "4945    1  21.0  45800.0               0                   0\n",
       "4965    0  22.0  40100.0               1                   0\n",
       "\n",
       "[153 rows x 5 columns]"
      ]
     },
     "execution_count": 7,
     "metadata": {},
     "output_type": "execute_result"
    }
   ],
   "source": [
    "df_dublicate"
   ]
  },
  {
   "cell_type": "markdown",
   "metadata": {},
   "source": [
    "## Умножение матриц"
   ]
  },
  {
   "cell_type": "markdown",
   "metadata": {},
   "source": [
    "В этом задании вы можете записывать формулы в *Jupyter Notebook.*\n",
    "\n",
    "Чтобы записать формулу внутри текста, окружите её символами доллара \\\\$; если снаружи —  двойными символами \\\\$\\\\$. Эти формулы записываются на языке вёрстки *LaTeX.* \n",
    "\n",
    "Для примера мы записали формулы линейной регрессии. Можете их скопировать и отредактировать, чтобы решить задачу.\n",
    "\n",
    "Работать в *LaTeX* необязательно."
   ]
  },
  {
   "cell_type": "markdown",
   "metadata": {},
   "source": [
    "Обозначения:\n",
    "\n",
    "- $X$ — матрица признаков (нулевой столбец состоит из единиц)\n",
    "\n",
    "- $y$ — вектор целевого признака\n",
    "\n",
    "- $P$ — матрица, на которую умножаются признаки\n",
    "\n",
    "- $w$ — вектор весов линейной регрессии (нулевой элемент равен сдвигу)"
   ]
  },
  {
   "cell_type": "markdown",
   "metadata": {},
   "source": [
    "Предсказания:\n",
    "\n",
    "$$\n",
    "a = Xw\n",
    "$$\n",
    "\n",
    "Задача обучения:\n",
    "\n",
    "$$\n",
    "w = \\arg\\min_w MSE(Xw, y)\n",
    "$$\n",
    "\n",
    "Формула обучения:\n",
    "\n",
    "$$\n",
    "w = (X^T X)^{-1} X^T y\n",
    "$$"
   ]
  },
  {
   "cell_type": "markdown",
   "metadata": {},
   "source": [
    "Если $P$ - обратимая квадратная матрица $n$ на $m$, то преобразованная матрица это произведение $X$ на $P$. \n",
    "\n",
    "Получаем предсказание преобразованной матрицы\n",
    "\n",
    "$$\n",
    "a_1 = XPw_1\n",
    "$$\n",
    "\n",
    "Здесь $XP$ прямоугольная матрица $m$ на $n$, а формула обучения:\n",
    "$$\n",
    "w_1 = ((XP)^T\\cdot XP)^{-1}\\cdot (XP)^T y\n",
    "$$"
   ]
  },
  {
   "cell_type": "markdown",
   "metadata": {},
   "source": [
    "Требуется доказать равенство \n",
    "\n",
    "$$\n",
    "a = a_1\n",
    "$$"
   ]
  },
  {
   "cell_type": "markdown",
   "metadata": {},
   "source": [
    "**Доказательство:**\n",
    "\n",
    "Предсказания для исходной матрицы\n",
    "\n",
    "$$\n",
    "a = Xw = X(X^T X)^{-1} X^T y \n",
    "$$\n",
    "\n",
    "Предсказания для преобразованной матрицы $a_1$:\n",
    "\n",
    "$$\n",
    "a_1 = XP \\cdot w_1 = XP \\cdot ((XP)^T\\cdot XP)^{-1}\\cdot (XP)^T y  \n",
    "$$\n",
    "\n",
    "Раскроем транспонирование:\n",
    "$$\n",
    "a_1 = XP \\cdot (P^TX^TXP)^{-1}\\cdot P^TX^Ty = XP \\cdot (P^T(X^TX)P)^{-1}\\cdot P^TX^Ty \n",
    "$$\n",
    "\n",
    "Три матрицы под (-1) квадратные и обратимые, поэтому:\n",
    "$$\n",
    "a_1 = XP \\cdot P^{-1}(X^TX)^{-1}(P^T)^{-1}P^TX^Ty = XE(X^TX)^{-1}EX^Ty = X(X^TX)^{-1}X^Ty = a\n",
    "$$\n",
    "\n",
    "Т.о. доказано, что предсказания не изменяются при умножении исходной матрицы признаков на произвольную обратимую матрицу."
   ]
  },
  {
   "cell_type": "markdown",
   "metadata": {},
   "source": [
    "**Ответ:** при умножении признаков на обратимую матрицу качество линейной регрессии не изменяется\n",
    "\n",
    "**Обоснование:** равенство $a = a_1$ доказывает, что примененный алгоритм преобразования матрицы не ухудшает качество моделей машинного обучения"
   ]
  },
  {
   "cell_type": "markdown",
   "metadata": {},
   "source": [
    "## Алгоритм преобразования"
   ]
  },
  {
   "cell_type": "markdown",
   "metadata": {},
   "source": [
    "**Алгоритм**\n",
    "\n",
    "1. Генерируем рандомную матрицу\n",
    "2. Проверяем на обратимость \n",
    "3. Умножаем на матрицу признаков\n",
    "4. Обучаем модель \n",
    "5. Определяем метрику R2 с помощью линейной регрессии для предобразованных данных и исходных, а затем сравниваем"
   ]
  },
  {
   "cell_type": "markdown",
   "metadata": {},
   "source": [
    "**Обоснование**\n",
    "\n",
    "Качество линейной регрессии не поменяется, это продемонстрировало равенство\n",
    "$$\n",
    "wP = P ^{-1}w\n",
    "$$"
   ]
  },
  {
   "cell_type": "markdown",
   "metadata": {},
   "source": [
    "## Проверка алгоритма"
   ]
  },
  {
   "cell_type": "markdown",
   "metadata": {},
   "source": [
    "Разделим признаки и таргет и приступим к теоретической части."
   ]
  },
  {
   "cell_type": "code",
   "execution_count": 8,
   "metadata": {},
   "outputs": [],
   "source": [
    "features = df.drop('insurance_payments', axis = 1)\n",
    "target = df['insurance_payments']"
   ]
  },
  {
   "cell_type": "markdown",
   "metadata": {},
   "source": [
    "Функция для алгоритма преобразования. Проверять определеитель будет с точностью до эпсилон."
   ]
  },
  {
   "cell_type": "markdown",
   "metadata": {},
   "source": [
    "функция принимает матрицу признаков и точность эпсилон\n",
    "функция выдает преобразованную матрицу признаков"
   ]
  },
  {
   "cell_type": "code",
   "execution_count": 9,
   "metadata": {},
   "outputs": [],
   "source": [
    "def transform(features, eps):\n",
    "    #m = features.shape[0]\n",
    "    n = features.shape[1]\n",
    "    det = 0\n",
    "    while abs(det) < eps:\n",
    "        P = np.random.randint(-50, 50, size=(n, n))\n",
    "        det = np.linalg.det(P)\n",
    "        print('det =', det)\n",
    "    return features.dot(P)"
   ]
  },
  {
   "cell_type": "code",
   "execution_count": 10,
   "metadata": {},
   "outputs": [
    {
     "name": "stdout",
     "output_type": "stream",
     "text": [
      "det = -125639.0000000001\n"
     ]
    }
   ],
   "source": [
    "eps = 10**(-4)\n",
    "features_P = transform(features, eps=eps)"
   ]
  },
  {
   "cell_type": "code",
   "execution_count": 11,
   "metadata": {},
   "outputs": [
    {
     "data": {
      "text/html": [
       "<div>\n",
       "<style scoped>\n",
       "    .dataframe tbody tr th:only-of-type {\n",
       "        vertical-align: middle;\n",
       "    }\n",
       "\n",
       "    .dataframe tbody tr th {\n",
       "        vertical-align: top;\n",
       "    }\n",
       "\n",
       "    .dataframe thead th {\n",
       "        text-align: right;\n",
       "    }\n",
       "</style>\n",
       "<table border=\"1\" class=\"dataframe\">\n",
       "  <thead>\n",
       "    <tr style=\"text-align: right;\">\n",
       "      <th></th>\n",
       "      <th>0</th>\n",
       "      <th>1</th>\n",
       "      <th>2</th>\n",
       "      <th>3</th>\n",
       "    </tr>\n",
       "  </thead>\n",
       "  <tbody>\n",
       "    <tr>\n",
       "      <th>0</th>\n",
       "      <td>1389479.0</td>\n",
       "      <td>-446567.0</td>\n",
       "      <td>1685936.0</td>\n",
       "      <td>-348113.0</td>\n",
       "    </tr>\n",
       "    <tr>\n",
       "      <th>1</th>\n",
       "      <td>1064722.0</td>\n",
       "      <td>-342174.0</td>\n",
       "      <td>1291508.0</td>\n",
       "      <td>-266983.0</td>\n",
       "    </tr>\n",
       "    <tr>\n",
       "      <th>2</th>\n",
       "      <td>588435.0</td>\n",
       "      <td>-189087.0</td>\n",
       "      <td>713681.0</td>\n",
       "      <td>-147638.0</td>\n",
       "    </tr>\n",
       "    <tr>\n",
       "      <th>3</th>\n",
       "      <td>1167979.0</td>\n",
       "      <td>-375435.0</td>\n",
       "      <td>1417597.0</td>\n",
       "      <td>-292304.0</td>\n",
       "    </tr>\n",
       "    <tr>\n",
       "      <th>4</th>\n",
       "      <td>731252.0</td>\n",
       "      <td>-234992.0</td>\n",
       "      <td>887065.0</td>\n",
       "      <td>-183356.0</td>\n",
       "    </tr>\n",
       "  </tbody>\n",
       "</table>\n",
       "</div>"
      ],
      "text/plain": [
       "           0         1          2         3\n",
       "0  1389479.0 -446567.0  1685936.0 -348113.0\n",
       "1  1064722.0 -342174.0  1291508.0 -266983.0\n",
       "2   588435.0 -189087.0   713681.0 -147638.0\n",
       "3  1167979.0 -375435.0  1417597.0 -292304.0\n",
       "4   731252.0 -234992.0   887065.0 -183356.0"
      ]
     },
     "execution_count": 11,
     "metadata": {},
     "output_type": "execute_result"
    }
   ],
   "source": [
    "features_P.head()"
   ]
  },
  {
   "cell_type": "markdown",
   "metadata": {},
   "source": [
    "Получена случайная обратимая матрица - ненулевой определитель. \n",
    "Умножением исходной матрицы на полученную получаем преобразованную."
   ]
  },
  {
   "cell_type": "markdown",
   "metadata": {},
   "source": [
    "Для проверки алгоритма обучим линейную регрессию на исходной и преобразованной матрицах, сравним R2."
   ]
  },
  {
   "cell_type": "markdown",
   "metadata": {},
   "source": [
    "Выделяем валидационную выборку"
   ]
  },
  {
   "cell_type": "code",
   "execution_count": 12,
   "metadata": {},
   "outputs": [],
   "source": [
    "features_train, features_valid, target_train, target_valid = train_test_split(features, target,  \n",
    "                                                                              test_size=0.25, random_state=random_state)\n",
    "features_P_train, features_P_valid = train_test_split(features_P, test_size=0.25, random_state=random_state)"
   ]
  },
  {
   "cell_type": "markdown",
   "metadata": {},
   "source": [
    "Обучение на исходной матрице"
   ]
  },
  {
   "cell_type": "code",
   "execution_count": 13,
   "metadata": {},
   "outputs": [
    {
     "name": "stdout",
     "output_type": "stream",
     "text": [
      "R2 на исходной матрице: 0.4254778540696319\n"
     ]
    }
   ],
   "source": [
    "model1 = LinearRegression()\n",
    "model1.fit(features_train, target_train)\n",
    "score1 = r2_score(target_valid, model1.predict(features_valid))\n",
    "print('R2 на исходной матрице:', score1)"
   ]
  },
  {
   "cell_type": "markdown",
   "metadata": {},
   "source": [
    "Обучение на преобразованной матрице"
   ]
  },
  {
   "cell_type": "code",
   "execution_count": 14,
   "metadata": {},
   "outputs": [
    {
     "name": "stdout",
     "output_type": "stream",
     "text": [
      "R2 на преобразованной матрице: 0.4254778540699664\n"
     ]
    }
   ],
   "source": [
    "model2 = LinearRegression()\n",
    "model2.fit(features_P_train, target_train)\n",
    "score2 = r2_score(target_valid, model2.predict(features_P_valid))\n",
    "print('R2 на преобразованной матрице:', score2)"
   ]
  },
  {
   "cell_type": "markdown",
   "metadata": {},
   "source": [
    "Сравниваем R2"
   ]
  },
  {
   "cell_type": "code",
   "execution_count": 15,
   "metadata": {},
   "outputs": [
    {
     "name": "stdout",
     "output_type": "stream",
     "text": [
      "Разница метрик: 3.3451019731955967e-13\n"
     ]
    }
   ],
   "source": [
    "print('Разница метрик:', abs(score1 - score2))"
   ]
  },
  {
   "cell_type": "markdown",
   "metadata": {},
   "source": [
    "**Вывод:**\n",
    "\n",
    "Решена задача защиты данных клиентов страховой компании «Хоть потоп». Разработан метод преобразования данных, после которого персональная информация защищена. Задача реализована пошаговым алгоритмом. Проверено, что качество моделей на исходных данных и преобразованных не отличается."
   ]
  }
 ],
 "metadata": {
  "ExecuteTimeLog": [
   {
    "duration": 735,
    "start_time": "2021-06-20T06:48:10.663Z"
   },
   {
    "duration": 85,
    "start_time": "2021-06-20T06:48:12.085Z"
   },
   {
    "duration": 44,
    "start_time": "2021-06-20T06:48:22.666Z"
   },
   {
    "duration": 8,
    "start_time": "2021-06-20T06:52:20.453Z"
   },
   {
    "duration": 660,
    "start_time": "2021-06-20T06:52:24.917Z"
   },
   {
    "duration": 7,
    "start_time": "2021-06-20T06:52:43.640Z"
   },
   {
    "duration": 566,
    "start_time": "2021-06-20T06:52:46.077Z"
   },
   {
    "duration": 7,
    "start_time": "2021-06-20T06:57:19.975Z"
   },
   {
    "duration": 649,
    "start_time": "2021-06-20T06:57:20.851Z"
   },
   {
    "duration": 6,
    "start_time": "2021-06-20T06:57:32.956Z"
   },
   {
    "duration": 123,
    "start_time": "2021-06-20T06:57:34.243Z"
   },
   {
    "duration": 7,
    "start_time": "2021-06-20T06:57:56.535Z"
   },
   {
    "duration": 109,
    "start_time": "2021-06-20T06:57:57.264Z"
   },
   {
    "duration": 257,
    "start_time": "2021-06-20T07:01:20.413Z"
   },
   {
    "duration": 6,
    "start_time": "2021-06-20T07:01:29.610Z"
   },
   {
    "duration": 308,
    "start_time": "2021-06-20T17:12:35.242Z"
   },
   {
    "duration": 1367,
    "start_time": "2021-06-20T17:12:41.585Z"
   },
   {
    "duration": 7,
    "start_time": "2021-06-20T17:12:42.957Z"
   },
   {
    "duration": 329,
    "start_time": "2021-06-20T17:12:42.967Z"
   },
   {
    "duration": 431,
    "start_time": "2021-06-20T17:12:42.868Z"
   },
   {
    "duration": 430,
    "start_time": "2021-06-20T17:12:42.871Z"
   },
   {
    "duration": 22,
    "start_time": "2021-06-20T17:14:48.499Z"
   },
   {
    "duration": 7,
    "start_time": "2021-06-20T17:14:49.761Z"
   },
   {
    "duration": 122,
    "start_time": "2021-06-20T17:14:50.747Z"
   },
   {
    "duration": 5,
    "start_time": "2021-06-20T17:14:54.859Z"
   },
   {
    "duration": 9,
    "start_time": "2021-06-20T17:14:58.403Z"
   },
   {
    "duration": 257,
    "start_time": "2021-06-20T17:15:12.897Z"
   },
   {
    "duration": 231,
    "start_time": "2021-06-20T17:16:57.400Z"
   },
   {
    "duration": 6006,
    "start_time": "2021-06-20T17:17:19.092Z"
   },
   {
    "duration": 19,
    "start_time": "2021-06-20T17:18:25.912Z"
   },
   {
    "duration": 1029,
    "start_time": "2021-06-20T17:18:46.354Z"
   },
   {
    "duration": 21,
    "start_time": "2021-06-20T17:19:02.543Z"
   },
   {
    "duration": 8,
    "start_time": "2021-06-20T17:19:58.334Z"
   },
   {
    "duration": 19,
    "start_time": "2021-06-20T17:20:03.099Z"
   },
   {
    "duration": 19,
    "start_time": "2021-06-20T17:32:30.140Z"
   },
   {
    "duration": 19,
    "start_time": "2021-06-20T17:33:29.778Z"
   },
   {
    "duration": 7,
    "start_time": "2021-06-20T17:33:41.467Z"
   },
   {
    "duration": 17,
    "start_time": "2021-06-20T17:33:43.446Z"
   },
   {
    "duration": 85,
    "start_time": "2021-06-20T17:34:12.790Z"
   },
   {
    "duration": 4,
    "start_time": "2021-06-20T17:37:35.551Z"
   },
   {
    "duration": 76,
    "start_time": "2021-06-20T17:38:15.524Z"
   },
   {
    "duration": 19,
    "start_time": "2021-06-20T17:38:37.222Z"
   },
   {
    "duration": 8,
    "start_time": "2021-06-20T17:39:07.962Z"
   },
   {
    "duration": 11,
    "start_time": "2021-06-20T17:39:22.637Z"
   },
   {
    "duration": 22,
    "start_time": "2021-06-20T17:39:31.961Z"
   },
   {
    "duration": 323,
    "start_time": "2021-06-20T17:39:59.269Z"
   },
   {
    "duration": 245,
    "start_time": "2021-06-20T17:40:09.101Z"
   },
   {
    "duration": 242,
    "start_time": "2021-06-20T17:40:53.144Z"
   },
   {
    "duration": 234,
    "start_time": "2021-06-20T17:41:46.591Z"
   },
   {
    "duration": 6,
    "start_time": "2021-06-20T17:42:09.314Z"
   },
   {
    "duration": 6,
    "start_time": "2021-06-20T17:42:27.966Z"
   },
   {
    "duration": 18,
    "start_time": "2021-06-20T17:45:33.435Z"
   },
   {
    "duration": 1336,
    "start_time": "2021-06-22T06:20:29.012Z"
   },
   {
    "duration": 21,
    "start_time": "2021-06-22T06:20:30.350Z"
   },
   {
    "duration": 14,
    "start_time": "2021-06-22T06:20:30.373Z"
   },
   {
    "duration": 113,
    "start_time": "2021-06-22T06:20:30.390Z"
   },
   {
    "duration": 4,
    "start_time": "2021-06-22T06:20:30.506Z"
   },
   {
    "duration": 48,
    "start_time": "2021-06-22T06:20:30.512Z"
   },
   {
    "duration": 34,
    "start_time": "2021-06-22T06:20:30.562Z"
   },
   {
    "duration": 5,
    "start_time": "2021-06-22T06:20:45.825Z"
   },
   {
    "duration": 18,
    "start_time": "2021-06-22T06:22:06.201Z"
   },
   {
    "duration": 6,
    "start_time": "2021-06-22T06:42:40.340Z"
   },
   {
    "duration": 18,
    "start_time": "2021-06-22T06:42:54.337Z"
   },
   {
    "duration": 5,
    "start_time": "2021-06-22T06:44:59.538Z"
   },
   {
    "duration": 23,
    "start_time": "2021-06-22T06:44:59.546Z"
   },
   {
    "duration": 6,
    "start_time": "2021-06-22T06:44:59.573Z"
   },
   {
    "duration": 101,
    "start_time": "2021-06-22T06:44:59.582Z"
   },
   {
    "duration": 3,
    "start_time": "2021-06-22T06:44:59.686Z"
   },
   {
    "duration": 9,
    "start_time": "2021-06-22T06:44:59.692Z"
   },
   {
    "duration": 60,
    "start_time": "2021-06-22T06:44:59.703Z"
   },
   {
    "duration": 17,
    "start_time": "2021-06-22T06:44:59.766Z"
   },
   {
    "duration": 6,
    "start_time": "2021-06-22T06:44:59.786Z"
   },
   {
    "duration": 3,
    "start_time": "2021-06-22T06:45:11.490Z"
   },
   {
    "duration": 19,
    "start_time": "2021-06-22T06:45:12.250Z"
   },
   {
    "duration": 7,
    "start_time": "2021-06-22T06:45:12.578Z"
   },
   {
    "duration": 131,
    "start_time": "2021-06-22T06:45:12.830Z"
   },
   {
    "duration": 4,
    "start_time": "2021-06-22T06:45:13.369Z"
   },
   {
    "duration": 9,
    "start_time": "2021-06-22T06:45:21.899Z"
   },
   {
    "duration": 17,
    "start_time": "2021-06-22T06:45:22.569Z"
   },
   {
    "duration": 16,
    "start_time": "2021-06-22T06:45:32.740Z"
   },
   {
    "duration": 6,
    "start_time": "2021-06-22T06:45:34.069Z"
   },
   {
    "duration": 4,
    "start_time": "2021-06-22T06:47:07.480Z"
   },
   {
    "duration": 25,
    "start_time": "2021-06-22T06:47:07.486Z"
   },
   {
    "duration": 6,
    "start_time": "2021-06-22T06:47:07.514Z"
   },
   {
    "duration": 82,
    "start_time": "2021-06-22T06:47:07.523Z"
   },
   {
    "duration": 4,
    "start_time": "2021-06-22T06:47:07.607Z"
   },
   {
    "duration": 47,
    "start_time": "2021-06-22T06:47:07.613Z"
   },
   {
    "duration": 17,
    "start_time": "2021-06-22T06:47:07.662Z"
   },
   {
    "duration": 16,
    "start_time": "2021-06-22T06:47:07.683Z"
   },
   {
    "duration": 6,
    "start_time": "2021-06-22T06:47:07.702Z"
   },
   {
    "duration": 4,
    "start_time": "2021-06-22T06:47:38.321Z"
   },
   {
    "duration": 24,
    "start_time": "2021-06-22T06:47:38.328Z"
   },
   {
    "duration": 6,
    "start_time": "2021-06-22T06:47:38.355Z"
   },
   {
    "duration": 113,
    "start_time": "2021-06-22T06:47:38.364Z"
   },
   {
    "duration": 3,
    "start_time": "2021-06-22T06:47:38.480Z"
   },
   {
    "duration": 12,
    "start_time": "2021-06-22T06:47:38.485Z"
   },
   {
    "duration": 16,
    "start_time": "2021-06-22T06:47:38.499Z"
   },
   {
    "duration": 52,
    "start_time": "2021-06-22T06:47:38.517Z"
   },
   {
    "duration": 18,
    "start_time": "2021-06-22T06:47:38.572Z"
   },
   {
    "duration": 733,
    "start_time": "2021-06-22T06:47:55.610Z"
   },
   {
    "duration": 1,
    "start_time": "2021-06-22T06:47:56.346Z"
   },
   {
    "duration": 1,
    "start_time": "2021-06-22T06:47:56.348Z"
   },
   {
    "duration": 1,
    "start_time": "2021-06-22T06:47:56.350Z"
   },
   {
    "duration": -6,
    "start_time": "2021-06-22T06:47:56.360Z"
   },
   {
    "duration": -18,
    "start_time": "2021-06-22T06:47:56.374Z"
   },
   {
    "duration": -18,
    "start_time": "2021-06-22T06:47:56.376Z"
   },
   {
    "duration": -23,
    "start_time": "2021-06-22T06:47:56.383Z"
   },
   {
    "duration": -26,
    "start_time": "2021-06-22T06:47:56.389Z"
   },
   {
    "duration": 363,
    "start_time": "2021-06-22T06:48:26.429Z"
   },
   {
    "duration": 446,
    "start_time": "2021-06-22T06:48:30.950Z"
   },
   {
    "duration": 374,
    "start_time": "2021-06-22T06:48:52.728Z"
   },
   {
    "duration": 337,
    "start_time": "2021-06-22T06:49:31.998Z"
   },
   {
    "duration": 3,
    "start_time": "2021-06-22T06:49:32.335Z"
   },
   {
    "duration": -4,
    "start_time": "2021-06-22T06:49:32.344Z"
   },
   {
    "duration": -10,
    "start_time": "2021-06-22T06:49:32.352Z"
   },
   {
    "duration": -16,
    "start_time": "2021-06-22T06:49:32.360Z"
   },
   {
    "duration": -17,
    "start_time": "2021-06-22T06:49:32.362Z"
   },
   {
    "duration": -17,
    "start_time": "2021-06-22T06:49:32.364Z"
   },
   {
    "duration": -17,
    "start_time": "2021-06-22T06:49:32.366Z"
   },
   {
    "duration": -22,
    "start_time": "2021-06-22T06:49:32.372Z"
   },
   {
    "duration": 4,
    "start_time": "2021-06-22T06:50:44.548Z"
   },
   {
    "duration": 22,
    "start_time": "2021-06-22T06:50:45.237Z"
   },
   {
    "duration": 6,
    "start_time": "2021-06-22T06:50:45.574Z"
   },
   {
    "duration": 91,
    "start_time": "2021-06-22T06:50:47.816Z"
   },
   {
    "duration": 4,
    "start_time": "2021-06-22T06:50:58.273Z"
   },
   {
    "duration": 7,
    "start_time": "2021-06-22T06:51:00.508Z"
   },
   {
    "duration": 18,
    "start_time": "2021-06-22T06:51:01.295Z"
   },
   {
    "duration": 17,
    "start_time": "2021-06-22T06:51:05.028Z"
   },
   {
    "duration": 7,
    "start_time": "2021-06-22T06:51:05.857Z"
   },
   {
    "duration": 571,
    "start_time": "2021-06-22T06:52:01.320Z"
   },
   {
    "duration": 266,
    "start_time": "2021-06-22T06:52:17.809Z"
   },
   {
    "duration": 261,
    "start_time": "2021-06-22T06:53:48.109Z"
   },
   {
    "duration": 5,
    "start_time": "2021-06-22T06:55:44.540Z"
   },
   {
    "duration": 6,
    "start_time": "2021-06-22T06:55:47.240Z"
   },
   {
    "duration": 17,
    "start_time": "2021-06-22T06:55:57.551Z"
   },
   {
    "duration": 13,
    "start_time": "2021-06-22T06:56:05.460Z"
   },
   {
    "duration": 5,
    "start_time": "2021-06-22T06:56:08.588Z"
   },
   {
    "duration": 4,
    "start_time": "2021-06-22T06:58:42.673Z"
   },
   {
    "duration": 7,
    "start_time": "2021-06-22T06:58:44.548Z"
   },
   {
    "duration": 466,
    "start_time": "2021-06-22T06:59:00.773Z"
   },
   {
    "duration": 6,
    "start_time": "2021-06-22T06:59:06.294Z"
   },
   {
    "duration": 10,
    "start_time": "2021-06-22T07:19:37.521Z"
   },
   {
    "duration": 8,
    "start_time": "2021-06-22T07:20:12.781Z"
   },
   {
    "duration": 94,
    "start_time": "2021-06-22T12:34:43.490Z"
   },
   {
    "duration": 341,
    "start_time": "2021-06-25T08:36:18.510Z"
   },
   {
    "duration": 1508,
    "start_time": "2021-06-25T08:36:27.199Z"
   },
   {
    "duration": 21,
    "start_time": "2021-06-25T08:36:28.710Z"
   },
   {
    "duration": 6,
    "start_time": "2021-06-25T08:36:28.735Z"
   },
   {
    "duration": 116,
    "start_time": "2021-06-25T08:36:28.744Z"
   },
   {
    "duration": 40,
    "start_time": "2021-06-25T08:36:28.862Z"
   },
   {
    "duration": 16,
    "start_time": "2021-06-25T08:36:28.905Z"
   },
   {
    "duration": 18,
    "start_time": "2021-06-25T08:36:28.923Z"
   },
   {
    "duration": 18,
    "start_time": "2021-06-25T08:36:30.649Z"
   },
   {
    "duration": 360,
    "start_time": "2021-06-25T08:36:31.550Z"
   },
   {
    "duration": 443,
    "start_time": "2021-06-25T08:36:51.839Z"
   },
   {
    "duration": 591,
    "start_time": "2021-06-25T08:37:45.180Z"
   },
   {
    "duration": 471,
    "start_time": "2021-06-26T15:20:57.401Z"
   },
   {
    "duration": 1346,
    "start_time": "2021-06-26T15:21:01.402Z"
   },
   {
    "duration": 21,
    "start_time": "2021-06-26T15:21:02.751Z"
   },
   {
    "duration": 6,
    "start_time": "2021-06-26T15:21:02.776Z"
   },
   {
    "duration": 129,
    "start_time": "2021-06-26T15:21:02.785Z"
   },
   {
    "duration": 4,
    "start_time": "2021-06-26T15:21:02.957Z"
   },
   {
    "duration": 11,
    "start_time": "2021-06-26T15:21:02.963Z"
   },
   {
    "duration": 18,
    "start_time": "2021-06-26T15:21:02.976Z"
   },
   {
    "duration": 481,
    "start_time": "2021-06-26T15:21:02.996Z"
   },
   {
    "duration": 1613,
    "start_time": "2021-06-26T15:21:01.867Z"
   },
   {
    "duration": 1612,
    "start_time": "2021-06-26T15:21:01.870Z"
   },
   {
    "duration": 4,
    "start_time": "2021-06-26T15:21:57.021Z"
   },
   {
    "duration": 6,
    "start_time": "2021-06-26T15:22:06.215Z"
   },
   {
    "duration": 261,
    "start_time": "2021-06-26T15:40:57.452Z"
   },
   {
    "duration": 6,
    "start_time": "2021-06-26T15:41:20.105Z"
   },
   {
    "duration": 7,
    "start_time": "2021-06-26T15:42:27.940Z"
   },
   {
    "duration": 5,
    "start_time": "2021-06-26T15:42:33.857Z"
   },
   {
    "duration": 7,
    "start_time": "2021-06-26T15:42:39.448Z"
   },
   {
    "duration": 6,
    "start_time": "2021-06-26T15:42:48.836Z"
   },
   {
    "duration": 7,
    "start_time": "2021-06-26T15:44:55.458Z"
   },
   {
    "duration": 5,
    "start_time": "2021-06-26T15:44:57.729Z"
   },
   {
    "duration": 6,
    "start_time": "2021-06-26T15:44:58.470Z"
   },
   {
    "duration": 5,
    "start_time": "2021-06-26T16:12:29.745Z"
   },
   {
    "duration": 6,
    "start_time": "2021-06-26T16:12:54.782Z"
   },
   {
    "duration": 5,
    "start_time": "2021-06-26T16:14:14.097Z"
   },
   {
    "duration": 268,
    "start_time": "2021-06-26T16:14:14.748Z"
   },
   {
    "duration": 266,
    "start_time": "2021-06-26T16:15:44.326Z"
   },
   {
    "duration": 5,
    "start_time": "2021-06-26T16:15:56.690Z"
   },
   {
    "duration": 13,
    "start_time": "2021-06-26T16:16:07.424Z"
   },
   {
    "duration": 6,
    "start_time": "2021-06-26T16:16:15.805Z"
   },
   {
    "duration": 5,
    "start_time": "2021-06-26T16:16:21.903Z"
   },
   {
    "duration": 5,
    "start_time": "2021-06-26T16:16:23.059Z"
   },
   {
    "duration": 6,
    "start_time": "2021-06-26T16:16:23.884Z"
   },
   {
    "duration": 12,
    "start_time": "2021-06-26T16:19:45.723Z"
   },
   {
    "duration": 1626,
    "start_time": "2021-06-26T16:20:02.325Z"
   },
   {
    "duration": 10,
    "start_time": "2021-06-26T16:20:13.964Z"
   },
   {
    "duration": 5,
    "start_time": "2021-06-26T16:21:27.264Z"
   },
   {
    "duration": 5,
    "start_time": "2021-06-26T16:21:27.783Z"
   },
   {
    "duration": 10,
    "start_time": "2021-06-26T16:21:29.082Z"
   },
   {
    "duration": 5,
    "start_time": "2021-06-26T16:21:35.181Z"
   },
   {
    "duration": 6,
    "start_time": "2021-06-26T16:21:35.790Z"
   },
   {
    "duration": 10,
    "start_time": "2021-06-26T16:21:37.570Z"
   },
   {
    "duration": 5,
    "start_time": "2021-06-26T16:21:41.169Z"
   },
   {
    "duration": 6,
    "start_time": "2021-06-26T16:21:41.643Z"
   },
   {
    "duration": 9,
    "start_time": "2021-06-26T16:21:42.470Z"
   },
   {
    "duration": 5,
    "start_time": "2021-06-26T16:21:45.803Z"
   },
   {
    "duration": 5,
    "start_time": "2021-06-26T16:21:46.200Z"
   },
   {
    "duration": 10,
    "start_time": "2021-06-26T16:21:46.687Z"
   },
   {
    "duration": 11,
    "start_time": "2021-06-26T16:24:58.282Z"
   },
   {
    "duration": 10,
    "start_time": "2021-06-26T16:25:50.513Z"
   },
   {
    "duration": 86,
    "start_time": "2021-06-26T16:26:19.742Z"
   },
   {
    "duration": 9,
    "start_time": "2021-06-26T16:26:35.574Z"
   },
   {
    "duration": 5,
    "start_time": "2021-06-26T16:27:02.741Z"
   },
   {
    "duration": 4,
    "start_time": "2021-06-26T16:30:58.211Z"
   },
   {
    "duration": 3,
    "start_time": "2021-06-26T16:32:27.156Z"
   },
   {
    "duration": 5,
    "start_time": "2021-06-26T16:32:27.924Z"
   },
   {
    "duration": 252,
    "start_time": "2021-06-26T16:32:51.112Z"
   },
   {
    "duration": 5,
    "start_time": "2021-06-26T16:34:19.421Z"
   },
   {
    "duration": 206,
    "start_time": "2021-06-26T16:58:42.911Z"
   },
   {
    "duration": 1019,
    "start_time": "2021-06-26T16:58:46.987Z"
   },
   {
    "duration": 89,
    "start_time": "2021-06-26T16:58:48.007Z"
   },
   {
    "duration": 5,
    "start_time": "2021-06-26T16:58:48.098Z"
   },
   {
    "duration": 80,
    "start_time": "2021-06-26T16:58:48.105Z"
   },
   {
    "duration": 3,
    "start_time": "2021-06-26T16:58:48.186Z"
   },
   {
    "duration": 9,
    "start_time": "2021-06-26T16:58:48.191Z"
   },
   {
    "duration": 14,
    "start_time": "2021-06-26T16:58:48.201Z"
   },
   {
    "duration": 220,
    "start_time": "2021-06-26T16:58:48.217Z"
   },
   {
    "duration": 172,
    "start_time": "2021-06-26T16:58:51.204Z"
   },
   {
    "duration": 197,
    "start_time": "2021-06-26T16:59:03.875Z"
   },
   {
    "duration": 181,
    "start_time": "2021-06-26T16:59:09.109Z"
   },
   {
    "duration": 4541,
    "start_time": "2021-06-26T16:59:28.886Z"
   },
   {
    "duration": 6,
    "start_time": "2021-06-26T16:59:35.219Z"
   },
   {
    "duration": 7,
    "start_time": "2021-06-26T17:00:09.178Z"
   },
   {
    "duration": 13,
    "start_time": "2021-06-26T17:00:15.737Z"
   },
   {
    "duration": 13,
    "start_time": "2021-06-26T17:00:31.635Z"
   },
   {
    "duration": 1431,
    "start_time": "2021-06-27T18:38:03.957Z"
   },
   {
    "duration": 19,
    "start_time": "2021-06-27T18:38:05.390Z"
   },
   {
    "duration": 7,
    "start_time": "2021-06-27T18:38:05.413Z"
   },
   {
    "duration": 144,
    "start_time": "2021-06-27T18:38:05.423Z"
   },
   {
    "duration": 4,
    "start_time": "2021-06-27T18:38:05.570Z"
   },
   {
    "duration": 13,
    "start_time": "2021-06-27T18:38:05.577Z"
   },
   {
    "duration": 29,
    "start_time": "2021-06-27T18:38:05.594Z"
   },
   {
    "duration": 7,
    "start_time": "2021-06-27T18:38:05.628Z"
   },
   {
    "duration": 4,
    "start_time": "2021-06-27T18:38:05.668Z"
   },
   {
    "duration": 8,
    "start_time": "2021-06-27T18:38:05.675Z"
   },
   {
    "duration": 15,
    "start_time": "2021-06-27T18:38:05.685Z"
   },
   {
    "duration": 9,
    "start_time": "2021-06-27T18:38:05.703Z"
   },
   {
    "duration": 54,
    "start_time": "2021-06-27T18:38:05.714Z"
   },
   {
    "duration": 9,
    "start_time": "2021-06-27T18:38:05.770Z"
   },
   {
    "duration": 4,
    "start_time": "2021-06-27T18:38:05.781Z"
   },
   {
    "duration": 1345,
    "start_time": "2021-06-27T18:40:07.443Z"
   },
   {
    "duration": 19,
    "start_time": "2021-06-27T18:40:08.791Z"
   },
   {
    "duration": 6,
    "start_time": "2021-06-27T18:40:08.814Z"
   },
   {
    "duration": 105,
    "start_time": "2021-06-27T18:40:08.823Z"
   },
   {
    "duration": 38,
    "start_time": "2021-06-27T18:40:08.930Z"
   },
   {
    "duration": 10,
    "start_time": "2021-06-27T18:40:08.970Z"
   },
   {
    "duration": 17,
    "start_time": "2021-06-27T18:40:08.983Z"
   },
   {
    "duration": 5,
    "start_time": "2021-06-27T18:40:09.003Z"
   },
   {
    "duration": 6,
    "start_time": "2021-06-27T18:40:09.011Z"
   },
   {
    "duration": 8,
    "start_time": "2021-06-27T18:40:09.019Z"
   },
   {
    "duration": 11,
    "start_time": "2021-06-27T18:40:09.068Z"
   },
   {
    "duration": 10,
    "start_time": "2021-06-27T18:40:09.082Z"
   },
   {
    "duration": 9,
    "start_time": "2021-06-27T18:40:09.095Z"
   },
   {
    "duration": 9,
    "start_time": "2021-06-27T18:40:09.106Z"
   },
   {
    "duration": 5,
    "start_time": "2021-06-27T18:40:09.117Z"
   },
   {
    "duration": 1058,
    "start_time": "2022-09-06T12:57:11.119Z"
   },
   {
    "duration": 78,
    "start_time": "2022-09-06T12:57:16.398Z"
   },
   {
    "duration": 5,
    "start_time": "2022-09-06T12:57:18.010Z"
   },
   {
    "duration": 59,
    "start_time": "2022-09-06T12:57:31.265Z"
   },
   {
    "duration": 3,
    "start_time": "2022-09-06T13:06:01.517Z"
   },
   {
    "duration": 5,
    "start_time": "2022-09-06T13:06:02.868Z"
   },
   {
    "duration": 13,
    "start_time": "2022-09-06T13:06:03.539Z"
   },
   {
    "duration": 4,
    "start_time": "2022-09-06T13:07:10.565Z"
   },
   {
    "duration": 3,
    "start_time": "2022-09-06T13:08:05.393Z"
   },
   {
    "duration": 5,
    "start_time": "2022-09-06T13:08:12.292Z"
   },
   {
    "duration": 9,
    "start_time": "2022-09-06T13:08:14.057Z"
   },
   {
    "duration": 7,
    "start_time": "2022-09-06T13:08:33.965Z"
   },
   {
    "duration": 9,
    "start_time": "2022-09-06T13:08:37.011Z"
   },
   {
    "duration": 9,
    "start_time": "2022-09-06T13:08:38.617Z"
   },
   {
    "duration": 3,
    "start_time": "2022-09-06T13:08:42.221Z"
   }
  ],
  "kernelspec": {
   "display_name": "Python 3 (ipykernel)",
   "language": "python",
   "name": "python3"
  },
  "language_info": {
   "codemirror_mode": {
    "name": "ipython",
    "version": 3
   },
   "file_extension": ".py",
   "mimetype": "text/x-python",
   "name": "python",
   "nbconvert_exporter": "python",
   "pygments_lexer": "ipython3",
   "version": "3.9.5"
  },
  "toc": {
   "base_numbering": 1,
   "nav_menu": {},
   "number_sections": true,
   "sideBar": true,
   "skip_h1_title": true,
   "title_cell": "Содержание",
   "title_sidebar": "Contents",
   "toc_cell": true,
   "toc_position": {},
   "toc_section_display": true,
   "toc_window_display": false
  }
 },
 "nbformat": 4,
 "nbformat_minor": 2
}
