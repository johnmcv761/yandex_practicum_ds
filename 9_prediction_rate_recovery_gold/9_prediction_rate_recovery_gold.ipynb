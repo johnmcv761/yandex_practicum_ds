{
 "cells": [
  {
   "cell_type": "markdown",
   "metadata": {
    "toc": true
   },
   "source": [
    "<h1>Содержание<span class=\"tocSkip\"></span></h1>\n",
    "<div class=\"toc\"><ul class=\"toc-item\"><li><span><a href=\"#Подготовка-данных\" data-toc-modified-id=\"Подготовка-данных-1\"><span class=\"toc-item-num\">1&nbsp;&nbsp;</span>Подготовка данных</a></span><ul class=\"toc-item\"><li><span><a href=\"#Датасет\" data-toc-modified-id=\"Датасет-1.1\"><span class=\"toc-item-num\">1.1&nbsp;&nbsp;</span>Датасет</a></span></li><li><span><a href=\"#Расчет-эффективности-обогащения\" data-toc-modified-id=\"Расчет-эффективности-обогащения-1.2\"><span class=\"toc-item-num\">1.2&nbsp;&nbsp;</span>Расчет эффективности обогащения</a></span></li><li><span><a href=\"#Анализ-признаков,-недоступных-в-тестовой-выборке\" data-toc-modified-id=\"Анализ-признаков,-недоступных-в-тестовой-выборке-1.3\"><span class=\"toc-item-num\">1.3&nbsp;&nbsp;</span>Анализ признаков, недоступных в тестовой выборке</a></span></li><li><span><a href=\"#Предобработка-данных\" data-toc-modified-id=\"Предобработка-данных-1.4\"><span class=\"toc-item-num\">1.4&nbsp;&nbsp;</span>Предобработка данных</a></span><ul class=\"toc-item\"><li><span><a href=\"#Пропуски\" data-toc-modified-id=\"Пропуски-1.4.1\"><span class=\"toc-item-num\">1.4.1&nbsp;&nbsp;</span>Пропуски</a></span></li></ul></li></ul></li><li><span><a href=\"#Анализ-данных\" data-toc-modified-id=\"Анализ-данных-2\"><span class=\"toc-item-num\">2&nbsp;&nbsp;</span>Анализ данных</a></span><ul class=\"toc-item\"><li><span><a href=\"#Посмотрите,-как-меняется-концентрация-металлов-(Au,-Ag,-Pb)-на-различных-этапах-очистки.-Опишите-выводы.\" data-toc-modified-id=\"Посмотрите,-как-меняется-концентрация-металлов-(Au,-Ag,-Pb)-на-различных-этапах-очистки.-Опишите-выводы.-2.1\"><span class=\"toc-item-num\">2.1&nbsp;&nbsp;</span>Посмотрите, как меняется концентрация металлов (Au, Ag, Pb) на различных этапах очистки. Опишите выводы.</a></span></li><li><span><a href=\"#Сравните-распределения-размеров-гранул-сырья-на-обучающей-и-тестовой-выборках.-Если-распределения-сильно-отличаются-друг-от-друга,-оценка-модели-будет-неправильной.\" data-toc-modified-id=\"Сравните-распределения-размеров-гранул-сырья-на-обучающей-и-тестовой-выборках.-Если-распределения-сильно-отличаются-друг-от-друга,-оценка-модели-будет-неправильной.-2.2\"><span class=\"toc-item-num\">2.2&nbsp;&nbsp;</span>Сравните распределения размеров гранул сырья на обучающей и тестовой выборках. Если распределения сильно отличаются друг от друга, оценка модели будет неправильной.</a></span></li><li><span><a href=\"#Cуммарная-концентрация-всех-веществ-на-разных-стадиях.\" data-toc-modified-id=\"Cуммарная-концентрация-всех-веществ-на-разных-стадиях.-2.3\"><span class=\"toc-item-num\">2.3&nbsp;&nbsp;</span>Cуммарная концентрация всех веществ на разных стадиях.</a></span><ul class=\"toc-item\"><li><span><a href=\"#После-флотации\" data-toc-modified-id=\"После-флотации-2.3.1\"><span class=\"toc-item-num\">2.3.1&nbsp;&nbsp;</span>После флотации</a></span></li><li><span><a href=\"#После-первичной-очистки\" data-toc-modified-id=\"После-первичной-очистки-2.3.2\"><span class=\"toc-item-num\">2.3.2&nbsp;&nbsp;</span>После первичной очистки</a></span></li><li><span><a href=\"#После-финальной-очистки\" data-toc-modified-id=\"После-финальной-очистки-2.3.3\"><span class=\"toc-item-num\">2.3.3&nbsp;&nbsp;</span>После финальной очистки</a></span></li></ul></li></ul></li><li><span><a href=\"#Модель\" data-toc-modified-id=\"Модель-3\"><span class=\"toc-item-num\">3&nbsp;&nbsp;</span>Модель</a></span><ul class=\"toc-item\"><li><span><a href=\"#Выделение-целевого-признака-тренеровочной-выборки\" data-toc-modified-id=\"Выделение-целевого-признака-тренеровочной-выборки-3.1\"><span class=\"toc-item-num\">3.1&nbsp;&nbsp;</span>Выделение целевого признака тренеровочной выборки</a></span></li><li><span><a href=\"#Функция-для-вычисления-итоговой-sMAPE\" data-toc-modified-id=\"Функция-для-вычисления-итоговой-sMAPE-3.2\"><span class=\"toc-item-num\">3.2&nbsp;&nbsp;</span>Функция для вычисления итоговой sMAPE</a></span></li><li><span><a href=\"#Обучение-моделей,-оценка-качества-кросс-валидацией.-Выбор-лучшей-модели-и-проверка-на-тестовой-выборке.\" data-toc-modified-id=\"Обучение-моделей,-оценка-качества-кросс-валидацией.-Выбор-лучшей-модели-и-проверка-на-тестовой-выборке.-3.3\"><span class=\"toc-item-num\">3.3&nbsp;&nbsp;</span>Обучение моделей, оценка качества кросс-валидацией. Выбор лучшей модели и проверка на тестовой выборке.</a></span><ul class=\"toc-item\"><li><span><a href=\"#Масштабирование-признаков\" data-toc-modified-id=\"Масштабирование-признаков-3.3.1\"><span class=\"toc-item-num\">3.3.1&nbsp;&nbsp;</span>Масштабирование признаков</a></span></li><li><span><a href=\"#Обучение-модели.-Линейная-регрессия\" data-toc-modified-id=\"Обучение-модели.-Линейная-регрессия-3.3.2\"><span class=\"toc-item-num\">3.3.2&nbsp;&nbsp;</span>Обучение модели. Линейная регрессия</a></span></li><li><span><a href=\"#Обучение-модели.-Дерево-решений\" data-toc-modified-id=\"Обучение-модели.-Дерево-решений-3.3.3\"><span class=\"toc-item-num\">3.3.3&nbsp;&nbsp;</span>Обучение модели. Дерево решений</a></span></li><li><span><a href=\"#Обучение-модели.-Случайный-лес\" data-toc-modified-id=\"Обучение-модели.-Случайный-лес-3.3.4\"><span class=\"toc-item-num\">3.3.4&nbsp;&nbsp;</span>Обучение модели. Случайный лес</a></span></li><li><span><a href=\"#Проверка-model_Linear_Regression-на-тестовой-выборке\" data-toc-modified-id=\"Проверка-model_Linear_Regression-на-тестовой-выборке-3.3.5\"><span class=\"toc-item-num\">3.3.5&nbsp;&nbsp;</span>Проверка model_Linear_Regression на тестовой выборке</a></span></li></ul></li></ul></li></ul></div>"
   ]
  },
  {
   "cell_type": "markdown",
   "metadata": {},
   "source": [
    "# Восстановление золота из руды"
   ]
  },
  {
   "cell_type": "markdown",
   "metadata": {},
   "source": [
    "**Цель:**\n",
    "\n",
    "Подготовить прототип модели машинного обучения для компании «Цифра», разрабатывающей решения для эффективной работы промышленных предприятий. Модель должна предсказывать коэффициент восстановления золота из золотосодержащей руды и оптимизировать производство, чтобы не запускать предприятие с убыточными характеристиками.\n",
    "\n",
    "**План:**\n",
    "1. Подготовить данные;\n",
    "2. Провести исследовательский анализ данных;\n",
    "3. Построить и обучить модель.\n",
    "\n",
    "**Библиотеки:**\n",
    "\n",
    "*pandas*, *matplotlib* и *sklearn.*\n",
    "\n",
    "**Данные:**\n",
    "\n",
    "- Технологический процесс\n",
    "\n",
    "Rougher feed — исходное сырье\n",
    "Rougher additions (или reagent additions) — флотационные реагенты: Xanthate, Sulphate, Depressant\n",
    "Xanthate — ксантогенат (промотер, или активатор флотации);\n",
    "Sulphate — сульфат (на данном производстве сульфид натрия);\n",
    "Depressant — депрессант (силикат натрия).\n",
    "Rougher process (англ. «грубый процесс») — флотация\n",
    "Rougher tails — отвальные хвосты\n",
    "Float banks — флотационная установка\n",
    "Cleaner process — очистка\n",
    "Rougher Au — черновой концентрат золота\n",
    "Final Au — финальный концентрат золота\n",
    "\n",
    "- Параметры этапов\n",
    "\n",
    "air amount — объём воздуха\n",
    "fluid levels — уровень жидкости\n",
    "feed size — размер гранул сырья\n",
    "feed rate — скорость подачи\n",
    "\n",
    "- Наименование признаков\n",
    "\n",
    "этап \n",
    "\n",
    "rougher — флотация\n",
    "primary_cleaner — первичная очистка\n",
    "secondary_cleaner — вторичная очистка\n",
    "final — финальные характеристики\n",
    "\n",
    "тип параметра\n",
    "\n",
    "input — параметры сырья\n",
    "output — параметры продукта\n",
    "state — параметры, характеризующие текущее состояние этапа\n",
    "calculation — расчётные характеристики"
   ]
  },
  {
   "cell_type": "markdown",
   "metadata": {},
   "source": [
    "## Подготовка данных"
   ]
  },
  {
   "cell_type": "code",
   "execution_count": null,
   "metadata": {},
   "outputs": [],
   "source": [
    "import pandas as pd\n",
    "import numpy as np \n",
    "\n",
    "from IPython.display import display\n",
    "import matplotlib.pyplot as plt\n",
    "\n",
    "import datetime\n",
    "\n",
    "from sklearn.tree import DecisionTreeRegressor\n",
    "from sklearn.ensemble import RandomForestRegressor\n",
    "from sklearn.linear_model import LinearRegression\n",
    "\n",
    "from sklearn.preprocessing import StandardScaler\n",
    "from sklearn.metrics import mean_absolute_error,  make_scorer\n",
    "from sklearn.preprocessing import OrdinalEncoder, StandardScaler\n",
    "from sklearn.model_selection import RandomizedSearchCV, cross_val_score\n",
    "\n",
    "import warnings\n",
    "warnings.filterwarnings(\"ignore\")"
   ]
  },
  {
   "cell_type": "markdown",
   "metadata": {},
   "source": [
    "### Датасет"
   ]
  },
  {
   "cell_type": "markdown",
   "metadata": {},
   "source": [
    "Общая информация"
   ]
  },
  {
   "cell_type": "code",
   "execution_count": null,
   "metadata": {},
   "outputs": [],
   "source": [
    "df_train = pd.read_csv('/datasets/gold_recovery_train.csv')"
   ]
  },
  {
   "cell_type": "code",
   "execution_count": null,
   "metadata": {},
   "outputs": [],
   "source": [
    "df_test = pd.read_csv('/datasets/gold_recovery_test.csv')"
   ]
  },
  {
   "cell_type": "code",
   "execution_count": null,
   "metadata": {},
   "outputs": [],
   "source": [
    "df_full = pd.read_csv('/datasets/gold_recovery_full.csv')"
   ]
  },
  {
   "cell_type": "markdown",
   "metadata": {},
   "source": [
    "функция вывода информации о датасете"
   ]
  },
  {
   "cell_type": "code",
   "execution_count": null,
   "metadata": {},
   "outputs": [],
   "source": [
    "def data_info(data):\n",
    "    display('общая информация с признаками')\n",
    "    display(data.head())\n",
    "    display('_______________________________________________________________')\n",
    "    display('информация о типах данныx')\n",
    "    display()\n",
    "    display(data.info())\n",
    "    display('_______________________________________________________________')\n",
    "    display('описание')\n",
    "    display()\n",
    "    display(data.describe())\n",
    "    display('_______________________________________________________________')\n",
    "    display('пропуски')\n",
    "    df_NaN_part = pd.DataFrame(data = df_train.isna().sum(), columns = ['NaN'])\n",
    "    df_NaN_part['NaN_part'] = round(df_train.isna().sum() / len(df_train) * 100, 2)\n",
    "    df_NaN_part = df_NaN_part.query('NaN != 0')\n",
    "    display(df_NaN_part.NaN_part.sort_values(ascending=False).head(10))\n",
    "    display()\n",
    "    display('_______________________________________________________________')\n",
    "    display('дубликаты')\n",
    "    display()\n",
    "    display(data.duplicated().sum())\n",
    "    display('_______________________________________________________________')\n",
    "    display('корреляция')\n",
    "    display()\n",
    "    display(pd.DataFrame(data.corr()))"
   ]
  },
  {
   "cell_type": "code",
   "execution_count": null,
   "metadata": {},
   "outputs": [],
   "source": [
    "pd.set_option('display.max_columns', 100)"
   ]
  },
  {
   "cell_type": "markdown",
   "metadata": {},
   "source": [
    "Далее следует довольно объемный блок блок различной информации о датасете - в конце вывод."
   ]
  },
  {
   "cell_type": "code",
   "execution_count": null,
   "metadata": {
    "scrolled": false
   },
   "outputs": [],
   "source": [
    "data_info(df_train)"
   ]
  },
  {
   "cell_type": "code",
   "execution_count": null,
   "metadata": {
    "scrolled": false
   },
   "outputs": [],
   "source": [
    "data_info(df_test)"
   ]
  },
  {
   "cell_type": "code",
   "execution_count": null,
   "metadata": {
    "scrolled": false
   },
   "outputs": [],
   "source": [
    "data_info(df_full)"
   ]
  },
  {
   "cell_type": "markdown",
   "metadata": {},
   "source": [
    "функция получения списка столбцов"
   ]
  },
  {
   "cell_type": "code",
   "execution_count": null,
   "metadata": {},
   "outputs": [],
   "source": [
    "def column_list(data):\n",
    "    columns = []\n",
    "    for i in range(len(data.columns)):\n",
    "        columns.append(data.columns[i])\n",
    "    return columns"
   ]
  },
  {
   "cell_type": "markdown",
   "metadata": {},
   "source": [
    "### Расчет эффективности обогащения"
   ]
  },
  {
   "cell_type": "markdown",
   "metadata": {},
   "source": [
    "Oбучающая выборка для признака rougher.output.recovery. Найдите MAE между вашими расчётами и значением признака\n",
    "\n",
    "recovery = c * (f - t) / (f * (c - t)) * 100%\n",
    "\n",
    "c — доля золота в концентрате после флотации/очистки - признак rougher.output.concentrate_au \n",
    "\n",
    "f — доля золота в сырье/концентрате до флотации/очистки - признак rougher.input.feed_au\n",
    "\n",
    "t — доля золота в отвальных хвостах после флотации/очистки - признак rougher.output.tail_au"
   ]
  },
  {
   "cell_type": "markdown",
   "metadata": {},
   "source": [
    "Для расчета среднего абсолютного отклонения MAE необходимо обработать пропуски\n",
    "\n",
    "Среднее и значение медианы отличаются не сильно, возьмем значение среднего для замены пропусков."
   ]
  },
  {
   "cell_type": "code",
   "execution_count": null,
   "metadata": {},
   "outputs": [],
   "source": [
    "df_train[['rougher.output.concentrate_au', 'rougher.input.feed_au', 'rougher.output.tail_au']] = df_train[['rougher.output.concentrate_au', 'rougher.input.feed_au', 'rougher.output.tail_au']].fillna(df_train[['rougher.output.concentrate_au', 'rougher.input.feed_au', 'rougher.output.tail_au']].mean())"
   ]
  },
  {
   "cell_type": "code",
   "execution_count": null,
   "metadata": {},
   "outputs": [],
   "source": [
    "def recovery(f, c, t):\n",
    "    rec = c * (f - t) / (f * (c - t)) * 100\n",
    "    return rec"
   ]
  },
  {
   "cell_type": "code",
   "execution_count": null,
   "metadata": {},
   "outputs": [],
   "source": [
    "c = df_train['rougher.output.concentrate_au']\n",
    "f = df_train['rougher.input.feed_au']\n",
    "t = df_train['rougher.output.tail_au']\n",
    "rougher_output_recovery_calculate = recovery(f, c, t)"
   ]
  },
  {
   "cell_type": "code",
   "execution_count": null,
   "metadata": {},
   "outputs": [],
   "source": [
    "rougher_output_recovery = pd.concat([df_train['rougher.output.recovery'], rougher_output_recovery_calculate], axis=1)\n",
    "rougher_output_recovery.columns = ['rougher.output.recovery', 'rougher_output_recovery_calculate']\n",
    "rougher_output_recovery.head()"
   ]
  },
  {
   "cell_type": "markdown",
   "metadata": {},
   "source": [
    "Cреднее абсолютное отклонение MAE"
   ]
  },
  {
   "cell_type": "code",
   "execution_count": null,
   "metadata": {},
   "outputs": [],
   "source": [
    "mae = abs(rougher_output_recovery['rougher.output.recovery'] - rougher_output_recovery['rougher_output_recovery_calculate']).mean()\n",
    "'{:.20f}'.format(mae)"
   ]
  },
  {
   "cell_type": "markdown",
   "metadata": {},
   "source": [
    "**Вывод:**\n",
    "\n",
    "Cреднее абсолютное отклонение равно 0.00000000000000944489 т.е в среднем между расчётами и значением признака \n",
    "\n",
    "rougher.output.recovery разница незначительная."
   ]
  },
  {
   "cell_type": "markdown",
   "metadata": {},
   "source": [
    "### Анализ признаков, недоступных в тестовой выборке"
   ]
  },
  {
   "cell_type": "code",
   "execution_count": null,
   "metadata": {},
   "outputs": [],
   "source": [
    "columns = []\n",
    "for i in df_full.columns:\n",
    "    if i not in df_test.columns:\n",
    "        columns.append(i)"
   ]
  },
  {
   "cell_type": "code",
   "execution_count": null,
   "metadata": {},
   "outputs": [],
   "source": [
    "columns"
   ]
  },
  {
   "cell_type": "markdown",
   "metadata": {},
   "source": [
    "**Вывод:**\n",
    "\n",
    "Признаки недоступные в df_test представляют собой информацию о сырье и итоговых продуктах: \n",
    "\n",
    "1. Финальные характеристики, параметры продукта, концетрат и отвальные хвосты\n",
    "\n",
    "2. Первичная очистка, параметры продукта, концетрат и отвальные хвосты\n",
    "\n",
    "3. Флотация, расчётные характеристики\n",
    "\n",
    "4. Флотация, параметры продукта, концетрат и отвальные хвосты\n",
    "\n",
    "5. Вторичная очистка, параметры продукта, отвальные хвосты"
   ]
  },
  {
   "cell_type": "markdown",
   "metadata": {},
   "source": [
    "### Предобработка данных"
   ]
  },
  {
   "cell_type": "markdown",
   "metadata": {},
   "source": [
    "#### Пропуски"
   ]
  },
  {
   "cell_type": "markdown",
   "metadata": {},
   "source": [
    "Пропуски для корректного анализа и обработки данных заменим на значения медианы."
   ]
  },
  {
   "cell_type": "code",
   "execution_count": null,
   "metadata": {},
   "outputs": [],
   "source": [
    "df_full = df_full.fillna(df_full.median())"
   ]
  },
  {
   "cell_type": "code",
   "execution_count": null,
   "metadata": {},
   "outputs": [],
   "source": [
    "df_train = df_train.fillna(df_train.median())"
   ]
  },
  {
   "cell_type": "code",
   "execution_count": null,
   "metadata": {},
   "outputs": [],
   "source": [
    "df_test = df_test.fillna(df_test.median())"
   ]
  },
  {
   "cell_type": "markdown",
   "metadata": {},
   "source": [
    "Как альтернатива можно применить метод:\n",
    "\n",
    "df_train = df_train.fillna(method='ffill')\n",
    "\n",
    "df_test = df_test.fillna(method='ffill')"
   ]
  },
  {
   "cell_type": "markdown",
   "metadata": {},
   "source": [
    "**Вывод:**\n",
    "\n",
    "1. Данные представлены датасетом df_full, который разделен на df_train (74%) и df_test (26%) \n",
    "\n",
    "\n",
    "2. Дата сеты включают себя объекты и признаки в количестве:\n",
    "\n",
    "    2.1 df_train (16860, 87)\n",
    "    \n",
    "    2.2 df_test (5856, 53)\n",
    "    \n",
    "    2.3 df_full (22716, 87)\n",
    "    \n",
    "\n",
    "3. Все признаки количественные (float64), кроме одного date - категориальный (object), имеют положительные и отрицательные \n",
    "\n",
    "    значения.\n",
    "    \n",
    "\n",
    "4. Имееются пропуски типа NaN в значителном количестве (до 13% и более)\n",
    "\n",
    "    пропуски типа NaN заменены на значения медианы\n",
    "\n",
    "\n",
    "5. Полные дубликаты отсутствуют\n",
    "\n",
    "\n",
    "6. Существует кореляция между признаками, прямая и обратная, сильная и слабая."
   ]
  },
  {
   "cell_type": "markdown",
   "metadata": {},
   "source": [
    "## Анализ данных"
   ]
  },
  {
   "cell_type": "markdown",
   "metadata": {},
   "source": [
    "### Посмотрите, как меняется концентрация металлов (Au, Ag, Pb) на различных этапах очистки. Опишите выводы."
   ]
  },
  {
   "cell_type": "code",
   "execution_count": null,
   "metadata": {},
   "outputs": [],
   "source": [
    "df_full[[\n",
    "'rougher.output.concentrate_ag',\n",
    "'primary_cleaner.output.concentrate_ag', 'final.output.concentrate_ag']].median().plot(grid = True, figsize = (16, 4))\n",
    "plt.suptitle('Концетрация серебра', size = 20)\n",
    "plt.xlabel('этап очистки')\n",
    "plt.ylabel('концетрация')"
   ]
  },
  {
   "cell_type": "code",
   "execution_count": null,
   "metadata": {},
   "outputs": [],
   "source": [
    "df_full[[\n",
    " 'rougher.output.concentrate_pb',\n",
    " 'primary_cleaner.output.concentrate_pb',\n",
    " 'final.output.concentrate_pb']].median().plot(grid = True, figsize = (16, 4))\n",
    "plt.suptitle('Концетрация свинца', size = 20)\n",
    "plt.xlabel('этап очистки')\n",
    "plt.ylabel('концетрация')"
   ]
  },
  {
   "cell_type": "code",
   "execution_count": null,
   "metadata": {},
   "outputs": [],
   "source": [
    "df_full[[\n",
    " 'rougher.output.concentrate_au',\n",
    " 'primary_cleaner.output.concentrate_au',\n",
    " 'final.output.concentrate_au',]].median().plot(grid = True, figsize = (16, 4))\n",
    "plt.suptitle('Концетрация золота', size = 20)\n",
    "plt.xlabel('этап очистки')\n",
    "plt.ylabel('концетрация')"
   ]
  },
  {
   "cell_type": "markdown",
   "metadata": {},
   "source": [
    "**Вывод:**\n",
    "\n",
    "Анлиз основных стадий очистки руды флотация(сырье) - флотация(продукт) - 1я очистка - 2я :\n",
    "\n",
    "1. Концетрация серебра после флотации уменьшается\n",
    "\n",
    "2. Концетрация свинца растет после флотации, но после первой очистки не изменяется\n",
    "\n",
    "3. Концетрация золота растет значительно от 5 до 45"
   ]
  },
  {
   "cell_type": "markdown",
   "metadata": {},
   "source": [
    "### Сравните распределения размеров гранул сырья на обучающей и тестовой выборках. Если распределения сильно отличаются друг от друга, оценка модели будет неправильной."
   ]
  },
  {
   "cell_type": "markdown",
   "metadata": {},
   "source": [
    "primary_cleaner.input.feed_size -  размер гранул сырья первичной очистки\n",
    "\n",
    "rougher.input.feed_size - размер гранул сырья флотации"
   ]
  },
  {
   "cell_type": "markdown",
   "metadata": {},
   "source": [
    "Отличие основных показателей распределения размеров гранул сырья на обучающей и тестовой выборка"
   ]
  },
  {
   "cell_type": "code",
   "execution_count": null,
   "metadata": {},
   "outputs": [],
   "source": [
    "df_train[['rougher.input.feed_size', 'primary_cleaner.input.feed_size']].describe() - df_test[['rougher.input.feed_size', 'primary_cleaner.input.feed_size']].describe()"
   ]
  },
  {
   "cell_type": "code",
   "execution_count": null,
   "metadata": {},
   "outputs": [],
   "source": [
    "df_train['rougher.input.feed_size'].hist(bins = 20, figsize = (16, 4))\n",
    "df_test['rougher.input.feed_size'].hist(bins = 20, figsize = (16, 4), alpha = 0.7)\n",
    "\n",
    "plt.suptitle('Распределения размеров гранул сырья rougher.input df_train и df_test', size = 20)\n",
    "plt.xlabel('Размер гранул')\n",
    "plt.ylabel('частота')\n"
   ]
  },
  {
   "cell_type": "code",
   "execution_count": null,
   "metadata": {},
   "outputs": [],
   "source": [
    "df_train.boxplot('rougher.input.feed_size', figsize = (12,4),vert=False)\n",
    "plt.ylim()\n",
    "plt.suptitle('Распределение размеров гранул сырья rougher.input df_train', size = 20)"
   ]
  },
  {
   "cell_type": "code",
   "execution_count": null,
   "metadata": {},
   "outputs": [],
   "source": [
    "df_test.boxplot('rougher.input.feed_size', figsize = (12,4), vert=False)\n",
    "plt.ylim()\n",
    "plt.suptitle('Распределение размеров гранул сырья rougher.input df_test', size = 20)\n",
    "plt.ylabel('Размер гранул')"
   ]
  },
  {
   "cell_type": "code",
   "execution_count": null,
   "metadata": {},
   "outputs": [],
   "source": [
    "df_train['primary_cleaner.input.feed_size'].hist(bins = 20, figsize = (16, 4))\n",
    "df_test['primary_cleaner.input.feed_size'].hist(bins = 20, figsize = (16, 4), alpha = 0.7)\n",
    "plt.suptitle('Распределения размеров гранул primary_cleaner.input df_train и df_test', size = 20)\n",
    "plt.xlabel('Размер гранул')\n",
    "plt.ylabel('частота')"
   ]
  },
  {
   "cell_type": "code",
   "execution_count": null,
   "metadata": {},
   "outputs": [],
   "source": [
    "df_train.boxplot('primary_cleaner.input.feed_size', figsize = (12,4), vert=False)\n",
    "plt.ylim()\n",
    "plt.suptitle('Распределение размеров гранул сырья primary_cleaner.input df_train', size = 20)"
   ]
  },
  {
   "cell_type": "code",
   "execution_count": null,
   "metadata": {},
   "outputs": [],
   "source": [
    "df_test.boxplot('primary_cleaner.input.feed_size', figsize = (12,4), vert=False)\n",
    "plt.ylim()\n",
    "plt.suptitle('Распределение размеров гранул сырья primary_cleaner.input df_test', size = 20)"
   ]
  },
  {
   "cell_type": "markdown",
   "metadata": {},
   "source": [
    "**Вывод:**\n",
    "\n",
    "Анализ и оценка разницы значений методом describe и распределение методом hist показывает, что распределение размеров гранул сырья на обучающей и тестовой выборках не имеет значительных отличий, а также форма распределения гистограмм имеют схожую форму.\n",
    "\n",
    "При этом распределение выявило выбросы и аномалии, которые следует исключить:\n",
    "\n",
    "12 > df_train['rougher.input.feed_size'] > 350\n",
    "\n",
    "5 > df_train['primary_cleaner.input.feed_size'] > 10\n",
    "\n",
    "\n",
    "10 > df_test['rougher.input.feed_size'] > 350\n",
    "\n",
    "df_test['primary_cleaner.input.feed_size'] > 10"
   ]
  },
  {
   "cell_type": "markdown",
   "metadata": {},
   "source": [
    "Далее с проверкой длины датасетов (до и после) удаляем выбросы"
   ]
  },
  {
   "cell_type": "code",
   "execution_count": null,
   "metadata": {},
   "outputs": [],
   "source": [
    "len(df_train)"
   ]
  },
  {
   "cell_type": "code",
   "execution_count": null,
   "metadata": {},
   "outputs": [],
   "source": [
    "len(df_test)"
   ]
  },
  {
   "cell_type": "code",
   "execution_count": null,
   "metadata": {},
   "outputs": [],
   "source": [
    "df_train = df_train[(df_train['rougher.input.feed_size'] < 350) & (df_train['rougher.input.feed_size'] >12)]\n",
    "\n",
    "df_train = df_train[(df_train['primary_cleaner.input.feed_size'] < 10) & (df_train['primary_cleaner.input.feed_size'] >5)]\n",
    "\n",
    "df_test = df_test[(df_test['rougher.input.feed_size'] < 350) & (df_test['rougher.input.feed_size'] >10)]\n",
    "\n",
    "df_test = df_test[(df_test['primary_cleaner.input.feed_size'] < 350) & (df_test['primary_cleaner.input.feed_size'] <10)]"
   ]
  },
  {
   "cell_type": "code",
   "execution_count": null,
   "metadata": {},
   "outputs": [],
   "source": [
    "len(df_train)"
   ]
  },
  {
   "cell_type": "code",
   "execution_count": null,
   "metadata": {},
   "outputs": [],
   "source": [
    "len(df_test)"
   ]
  },
  {
   "cell_type": "markdown",
   "metadata": {},
   "source": [
    "### Cуммарная концентрация всех веществ на разных стадиях."
   ]
  },
  {
   "cell_type": "markdown",
   "metadata": {},
   "source": [
    "Исследование суммарной концентрации всех веществ на разных стадиях: в сырье, в черновом и финальном концентратах. Выявление аномальных значения в суммарном распределении. Если они есть, стоит ли их удалять из обеих выборок? Опишите выводы и удалите аномалии."
   ]
  },
  {
   "cell_type": "markdown",
   "metadata": {},
   "source": [
    "#### После флотации"
   ]
  },
  {
   "cell_type": "code",
   "execution_count": null,
   "metadata": {},
   "outputs": [],
   "source": [
    "df_train['rougher.output_sum'] = df_train[['rougher.output.concentrate_ag', 'rougher.output.concentrate_pb', \n",
    "                                           'rougher.output.concentrate_au', 'rougher.output.concentrate_sol']].sum(axis=1)"
   ]
  },
  {
   "cell_type": "code",
   "execution_count": null,
   "metadata": {},
   "outputs": [],
   "source": [
    "df_train.boxplot('rougher.output_sum', figsize = (12,4), vert=False)\n",
    "plt.ylim()\n",
    "plt.suptitle('Распределение суммарной концентрации всех веществ rougher.output', size = 20)"
   ]
  },
  {
   "cell_type": "code",
   "execution_count": null,
   "metadata": {},
   "outputs": [],
   "source": [
    "df_train['rougher.output_sum'].hist(bins = 20, figsize = (16, 4))\n",
    "plt.suptitle('Распределение суммарной концентрации всех веществ rougher_output', size = 20)\n",
    "plt.xlabel('концетрация')\n",
    "plt.ylabel('частота')"
   ]
  },
  {
   "cell_type": "code",
   "execution_count": null,
   "metadata": {},
   "outputs": [],
   "source": [
    "len(df_train[df_train['rougher.output_sum'] <1]) / len(df_train)"
   ]
  },
  {
   "cell_type": "markdown",
   "metadata": {},
   "source": [
    "#### После первичной очистки"
   ]
  },
  {
   "cell_type": "code",
   "execution_count": null,
   "metadata": {},
   "outputs": [],
   "source": [
    "df_train['primary_cleaner.output_sum'] = df_train[\n",
    "    ['primary_cleaner.output.concentrate_ag', 'primary_cleaner.output.concentrate_pb', 'primary_cleaner.output.concentrate_au', 'primary_cleaner.output.concentrate_sol']].sum(axis=1)"
   ]
  },
  {
   "cell_type": "code",
   "execution_count": null,
   "metadata": {},
   "outputs": [],
   "source": [
    "df_train.boxplot('primary_cleaner.output_sum', figsize = (12,4), vert=False)\n",
    "plt.ylim()\n",
    "plt.suptitle('Распределение суммарной концентрации всех веществ primary_cleaner.output', size = 20)\n",
    "plt.ylabel('концетрация')"
   ]
  },
  {
   "cell_type": "code",
   "execution_count": null,
   "metadata": {},
   "outputs": [],
   "source": [
    "df_train['primary_cleaner.output_sum'].hist(bins = 20, figsize = (16, 4))\n",
    "df_train['rougher.output_sum'].hist(bins = 20, figsize = (16, 4), alpha = 0.7)\n",
    "plt.suptitle('Распределение суммарной концентрации всех веществ primary_cleaner.output', size = 20)\n",
    "plt.xlabel('концетрация')\n",
    "plt.ylabel('частота')"
   ]
  },
  {
   "cell_type": "code",
   "execution_count": null,
   "metadata": {},
   "outputs": [],
   "source": [
    "len(df_train[df_train['primary_cleaner.output_sum'] < 1]) / len(df_train)"
   ]
  },
  {
   "cell_type": "markdown",
   "metadata": {},
   "source": [
    "#### После финальной очистки"
   ]
  },
  {
   "cell_type": "code",
   "execution_count": null,
   "metadata": {},
   "outputs": [],
   "source": [
    "df_train['final.output_sum'] = df_train[\n",
    "    ['final.output.concentrate_ag', 'final.output.concentrate_pb', 'final.output.concentrate_au', 'final.output.concentrate_sol']].sum(axis=1)"
   ]
  },
  {
   "cell_type": "code",
   "execution_count": null,
   "metadata": {},
   "outputs": [],
   "source": [
    "df_train.boxplot('final.output_sum', figsize = (12,4), vert=False)\n",
    "plt.ylim()\n",
    "plt.suptitle('Распределение суммарной концентрации всех веществ rougher.output', size = 20)\n",
    "plt.ylabel('концетрация')"
   ]
  },
  {
   "cell_type": "code",
   "execution_count": null,
   "metadata": {},
   "outputs": [],
   "source": [
    "df_train['final.output_sum'].hist(bins = 20, figsize = (16, 4))\n",
    "plt.suptitle('Распределение суммарной концентрации всех веществ final_output', size = 20)\n",
    "plt.xlabel('концетрация')\n",
    "plt.ylabel('частота')"
   ]
  },
  {
   "cell_type": "code",
   "execution_count": null,
   "metadata": {},
   "outputs": [],
   "source": [
    "len(df_train[df_train['final.output_sum'] < 1]) / len(df_train)"
   ]
  },
  {
   "cell_type": "markdown",
   "metadata": {},
   "source": [
    "**Вывод:**\n",
    "\n",
    "Суммарная концетрация всех веществ на стадиях rougher_output, primary_cleaner.output, final.output менее 1 единицы - это аномалия, исключаем из анализа.\n",
    "\n",
    "Удалять будем только из df_train для коррекного обучения модели. Оставим в df_test для симуляции данных \"любого качества\" и более жесткой проверки модели."
   ]
  },
  {
   "cell_type": "code",
   "execution_count": null,
   "metadata": {},
   "outputs": [],
   "source": [
    "len(df_train)"
   ]
  },
  {
   "cell_type": "code",
   "execution_count": null,
   "metadata": {},
   "outputs": [],
   "source": [
    "df_train = df_train[(df_train['rougher.output_sum'] > 0) & \n",
    "                    (df_train['primary_cleaner.output_sum'] > 0) & (df_train['final.output_sum'] > 0)]"
   ]
  },
  {
   "cell_type": "code",
   "execution_count": null,
   "metadata": {},
   "outputs": [],
   "source": [
    "len(df_train)"
   ]
  },
  {
   "cell_type": "markdown",
   "metadata": {},
   "source": [
    "## Модель"
   ]
  },
  {
   "cell_type": "markdown",
   "metadata": {},
   "source": [
    "### Выделение целевого признака тренеровочной выборки"
   ]
  },
  {
   "cell_type": "code",
   "execution_count": null,
   "metadata": {},
   "outputs": [],
   "source": [
    "df_train_features = df_train.drop(['date', 'rougher.output.recovery', 'final.output.recovery'], axis=1)\n",
    "df_train_target = df_train[['rougher.output.recovery', 'final.output.recovery']]"
   ]
  },
  {
   "cell_type": "markdown",
   "metadata": {},
   "source": [
    "Данные для обучения"
   ]
  },
  {
   "cell_type": "code",
   "execution_count": null,
   "metadata": {},
   "outputs": [],
   "source": [
    "len(df_train_features)"
   ]
  },
  {
   "cell_type": "code",
   "execution_count": null,
   "metadata": {},
   "outputs": [],
   "source": [
    "len(df_train_target)"
   ]
  },
  {
   "cell_type": "markdown",
   "metadata": {},
   "source": [
    "### Функция для вычисления итоговой sMAPE"
   ]
  },
  {
   "cell_type": "markdown",
   "metadata": {},
   "source": [
    "sMAPE - Symmetric Mean Absolute Percentage Error, «симметричное среднее абсолютное процентное отклонение»\n",
    "\n",
    "yi - целевой признак выборки\n",
    "\n",
    "ŷi - целевой признак выборки (предсказание)\n",
    "\n",
    "N - количество объектов в выборке\n",
    "\n",
    "smape = (abs(yi - ŷi) / ((abs(yi) + abs(ŷi)) / 2) * 100).mean()\n",
    "\n",
    "smape_total = 0.25 * smape(rougher) + 0.75 * smape (final)"
   ]
  },
  {
   "cell_type": "code",
   "execution_count": null,
   "metadata": {},
   "outputs": [],
   "source": [
    "def smape(y_true, y_pred):\n",
    "    y_calc = abs(y_true - y_pred) / ((abs(y_true) + abs(y_pred)) / 2) * 100\n",
    "    result = y_calc.sum() / len(y_true)\n",
    "    return result\n",
    "\n",
    "def final_smape(sample_true, sample_pred):\n",
    "    rougher = smape(sample_true.iloc[:, 0], sample_pred[:,0])\n",
    "    cleaner = smape(sample_true.iloc[:, 1], sample_pred[:,1])\n",
    "    return 0.25 * rougher + 0.75 * cleaner"
   ]
  },
  {
   "cell_type": "markdown",
   "metadata": {},
   "source": [
    "### Обучение моделей, оценка качества кросс-валидацией. Выбор лучшей модели и проверка на тестовой выборке."
   ]
  },
  {
   "cell_type": "markdown",
   "metadata": {},
   "source": [
    "#### Масштабирование признаков"
   ]
  },
  {
   "cell_type": "code",
   "execution_count": null,
   "metadata": {},
   "outputs": [],
   "source": [
    "scaler = StandardScaler()"
   ]
  },
  {
   "cell_type": "code",
   "execution_count": null,
   "metadata": {},
   "outputs": [],
   "source": [
    "scaler.fit(df_train_features)"
   ]
  },
  {
   "cell_type": "code",
   "execution_count": null,
   "metadata": {},
   "outputs": [],
   "source": [
    "df_train_features[df_train_features.columns] = scaler.transform(df_train_features)"
   ]
  },
  {
   "cell_type": "markdown",
   "metadata": {},
   "source": [
    "#### Обучение модели. Линейная регрессия"
   ]
  },
  {
   "cell_type": "code",
   "execution_count": null,
   "metadata": {},
   "outputs": [],
   "source": [
    "%%time\n",
    "\n",
    "model_Linear_Regression = LinearRegression()\n",
    "\n",
    "scores = cross_val_score(model_Linear_Regression, df_train_features, df_train_target, cv=5, scoring=make_scorer(final_smape))\n",
    "final_score = scores.sum() / len(scores)\n",
    "final_score"
   ]
  },
  {
   "cell_type": "markdown",
   "metadata": {},
   "source": [
    " Модель линейной регрессии показала sMAPE = 4.45"
   ]
  },
  {
   "cell_type": "markdown",
   "metadata": {},
   "source": [
    "#### Обучение модели. Дерево решений"
   ]
  },
  {
   "cell_type": "code",
   "execution_count": null,
   "metadata": {},
   "outputs": [],
   "source": [
    "%%time\n",
    "\n",
    "model_Decision_Tree_Regressor = DecisionTreeRegressor(random_state=42)\n",
    "\n",
    "params = {\n",
    "    'max_depth':[x for x in range(1, 2, 1)], \n",
    "    'min_samples_leaf':[x for x in range(4,6, 1)],\n",
    "    'min_samples_split':[x for x in range(4, 7, 1)],\n",
    "}\n",
    "\n",
    "grid = RandomizedSearchCV(model_Decision_Tree_Regressor, params, scoring=make_scorer(final_smape), n_iter=10, random_state=42, cv=5)\n",
    "grid.fit(df_train_features, df_train_target)\n",
    "\n",
    "print('Лучший результат:')\n",
    "print(grid.best_params_)\n",
    "print('\\nsMAPE:')\n",
    "print(grid.best_score_ )\n",
    "print()"
   ]
  },
  {
   "cell_type": "code",
   "execution_count": null,
   "metadata": {},
   "outputs": [],
   "source": [
    "model_Decision_Tree_Regressor = DecisionTreeRegressor(max_depth=1, min_samples_leaf=5,\n",
    "                      min_samples_split=6, random_state=42)"
   ]
  },
  {
   "cell_type": "markdown",
   "metadata": {},
   "source": [
    " Модель дерева решений показала sMAPE = 9.35"
   ]
  },
  {
   "cell_type": "markdown",
   "metadata": {},
   "source": [
    "#### Обучение модели. Случайный лес"
   ]
  },
  {
   "cell_type": "code",
   "execution_count": null,
   "metadata": {},
   "outputs": [],
   "source": [
    "%%time\n",
    "\n",
    "model_Random_Forest_Regressor = RandomForestRegressor(random_state=42)\n",
    "\n",
    "params = {\n",
    "    'n_estimators':[x for x in range(19, 21, 1)],\n",
    "    'max_depth':[x for x in range(1, 2, 1)], \n",
    "    'min_samples_leaf':[x for x in range(3, 5, 1)],\n",
    "    'min_samples_split':[x for x in range(3, 5, 1)],\n",
    "}\n",
    "\n",
    "grid = RandomizedSearchCV(model_Random_Forest_Regressor, params, scoring=make_scorer(final_smape), random_state=42, cv=5)\n",
    "grid.fit(df_train_features, df_train_target)\n",
    "\n",
    "print('Лучший результат:')\n",
    "print(grid.best_params_)\n",
    "print('\\nsMAPE:')\n",
    "print(grid.best_score_ )\n",
    "print()"
   ]
  },
  {
   "cell_type": "code",
   "execution_count": null,
   "metadata": {},
   "outputs": [],
   "source": [
    "model_Random_Forest_Regressor = RandomForestRegressor(max_depth=19,min_samples_leaf=3, min_samples_split=3,n_estimators=19, random_state=42)"
   ]
  },
  {
   "cell_type": "markdown",
   "metadata": {},
   "source": [
    " Модель случайный лес показала sMAPE = 9.70"
   ]
  },
  {
   "cell_type": "markdown",
   "metadata": {},
   "source": [
    "**Вывод:**\n",
    "\n",
    "Оценка качество обученных моделей: model_Linear_Regression, model_Decision_Tree_Regressor, model_Linear_Regression кросс валидацией определила лучшее значение метрики Symmetric Mean Absolute Percentage Error, «симметричное среднее абсолютное процентное отклонение» у модели model_Linear_Regression sMAPE = 4.45\n",
    "\n",
    "Выбираем model_Linear_Regression для проверки на тестовой выборке"
   ]
  },
  {
   "cell_type": "markdown",
   "metadata": {},
   "source": [
    "#### Проверка model_Linear_Regression на тестовой выборке"
   ]
  },
  {
   "cell_type": "markdown",
   "metadata": {},
   "source": [
    "Выделение целевого признака тестовой выборки - не смог разобраться как таргеты получить"
   ]
  },
  {
   "cell_type": "code",
   "execution_count": null,
   "metadata": {},
   "outputs": [],
   "source": [
    "df_test"
   ]
  },
  {
   "cell_type": "code",
   "execution_count": null,
   "metadata": {},
   "outputs": [],
   "source": [
    "df_full.iloc[df_test.index]"
   ]
  },
  {
   "cell_type": "code",
   "execution_count": null,
   "metadata": {},
   "outputs": [],
   "source": [
    "df_test_features = df_test.drop('date', axis=1)\n",
    "df_test_features[df_test_features.columns] = scaler.transform(df_test_features)\n",
    "\n",
    "df_test_target = test.merge(full, on='date', how='left')[['rougher.output.recovery', 'final.output.recovery']]"
   ]
  },
  {
   "cell_type": "code",
   "execution_count": null,
   "metadata": {},
   "outputs": [],
   "source": [
    "predictions = model_Linear_Regression.predict(df_test_features)\n",
    "final_smape(df_test_target, predictions)"
   ]
  }
 ],
 "metadata": {
  "ExecuteTimeLog": [
   {
    "duration": 407,
    "start_time": "2021-06-08T17:05:56.714Z"
   },
   {
    "duration": 1766,
    "start_time": "2021-06-08T17:06:04.987Z"
   },
   {
    "duration": 388,
    "start_time": "2021-06-08T17:06:06.756Z"
   },
   {
    "duration": 106,
    "start_time": "2021-06-08T17:06:07.147Z"
   },
   {
    "duration": 510,
    "start_time": "2021-06-08T17:06:07.256Z"
   },
   {
    "duration": 9,
    "start_time": "2021-06-08T17:06:07.769Z"
   },
   {
    "duration": 10,
    "start_time": "2021-06-08T17:06:07.781Z"
   },
   {
    "duration": 16,
    "start_time": "2021-06-08T17:06:07.794Z"
   },
   {
    "duration": 5,
    "start_time": "2021-06-08T17:06:07.816Z"
   },
   {
    "duration": 1520,
    "start_time": "2021-06-08T17:06:07.824Z"
   },
   {
    "duration": 4,
    "start_time": "2021-06-08T17:06:09.347Z"
   },
   {
    "duration": 15,
    "start_time": "2021-06-08T17:06:09.354Z"
   },
   {
    "duration": 4,
    "start_time": "2021-06-08T17:06:09.372Z"
   },
   {
    "duration": 8,
    "start_time": "2021-06-08T17:06:09.379Z"
   },
   {
    "duration": 27,
    "start_time": "2021-06-08T17:06:09.390Z"
   },
   {
    "duration": 9,
    "start_time": "2021-06-08T17:06:09.419Z"
   },
   {
    "duration": 4,
    "start_time": "2021-06-08T17:06:09.430Z"
   },
   {
    "duration": 7,
    "start_time": "2021-06-08T17:06:09.436Z"
   },
   {
    "duration": 797,
    "start_time": "2021-06-08T17:06:09.445Z"
   },
   {
    "duration": 663,
    "start_time": "2021-06-08T17:06:10.245Z"
   },
   {
    "duration": 160,
    "start_time": "2021-06-08T17:06:10.911Z"
   },
   {
    "duration": 136,
    "start_time": "2021-06-08T17:06:11.073Z"
   },
   {
    "duration": 380,
    "start_time": "2021-06-08T17:06:11.211Z"
   },
   {
    "duration": 364,
    "start_time": "2021-06-08T17:06:11.595Z"
   },
   {
    "duration": 376,
    "start_time": "2021-06-08T17:06:11.962Z"
   },
   {
    "duration": 24,
    "start_time": "2021-06-08T17:06:20.349Z"
   },
   {
    "duration": 23,
    "start_time": "2021-06-08T17:06:57.960Z"
   },
   {
    "duration": 36,
    "start_time": "2021-06-08T17:07:51.494Z"
   },
   {
    "duration": 23,
    "start_time": "2021-06-08T17:08:50.161Z"
   },
   {
    "duration": 25,
    "start_time": "2021-06-08T17:08:54.973Z"
   },
   {
    "duration": 23,
    "start_time": "2021-06-08T17:10:05.165Z"
   },
   {
    "duration": 22,
    "start_time": "2021-06-08T17:10:06.157Z"
   },
   {
    "duration": 37,
    "start_time": "2021-06-08T17:10:11.624Z"
   },
   {
    "duration": 361,
    "start_time": "2021-06-08T18:06:46.380Z"
   },
   {
    "duration": 358,
    "start_time": "2021-06-08T18:06:55.241Z"
   },
   {
    "duration": 442,
    "start_time": "2021-06-08T18:07:12.584Z"
   },
   {
    "duration": 371,
    "start_time": "2021-06-08T18:07:21.905Z"
   },
   {
    "duration": 457,
    "start_time": "2021-06-08T18:08:25.246Z"
   },
   {
    "duration": 8,
    "start_time": "2021-06-08T18:08:31.622Z"
   },
   {
    "duration": 431,
    "start_time": "2021-06-08T18:08:31.632Z"
   },
   {
    "duration": 107,
    "start_time": "2021-06-08T18:08:32.065Z"
   },
   {
    "duration": 549,
    "start_time": "2021-06-08T18:08:32.174Z"
   },
   {
    "duration": 8,
    "start_time": "2021-06-08T18:08:32.725Z"
   },
   {
    "duration": 21,
    "start_time": "2021-06-08T18:08:32.736Z"
   },
   {
    "duration": 7,
    "start_time": "2021-06-08T18:08:32.760Z"
   },
   {
    "duration": 8,
    "start_time": "2021-06-08T18:08:32.771Z"
   },
   {
    "duration": 1368,
    "start_time": "2021-06-08T18:08:32.782Z"
   },
   {
    "duration": 4,
    "start_time": "2021-06-08T18:08:34.153Z"
   },
   {
    "duration": 15,
    "start_time": "2021-06-08T18:08:34.159Z"
   },
   {
    "duration": 6,
    "start_time": "2021-06-08T18:08:34.176Z"
   },
   {
    "duration": 28,
    "start_time": "2021-06-08T18:08:34.184Z"
   },
   {
    "duration": 19,
    "start_time": "2021-06-08T18:08:34.214Z"
   },
   {
    "duration": 10,
    "start_time": "2021-06-08T18:08:34.235Z"
   },
   {
    "duration": 5,
    "start_time": "2021-06-08T18:08:34.248Z"
   },
   {
    "duration": 15,
    "start_time": "2021-06-08T18:08:34.256Z"
   },
   {
    "duration": 727,
    "start_time": "2021-06-08T18:08:34.273Z"
   },
   {
    "duration": 635,
    "start_time": "2021-06-08T18:08:35.003Z"
   },
   {
    "duration": 159,
    "start_time": "2021-06-08T18:08:35.640Z"
   },
   {
    "duration": 121,
    "start_time": "2021-06-08T18:08:35.801Z"
   },
   {
    "duration": 382,
    "start_time": "2021-06-08T18:08:35.924Z"
   },
   {
    "duration": 351,
    "start_time": "2021-06-08T18:08:36.310Z"
   },
   {
    "duration": 7,
    "start_time": "2021-06-08T18:12:29.591Z"
   },
   {
    "duration": 13,
    "start_time": "2021-06-08T18:12:52.455Z"
   },
   {
    "duration": 11,
    "start_time": "2021-06-08T18:16:42.500Z"
   },
   {
    "duration": 933,
    "start_time": "2021-06-08T18:17:01.838Z"
   },
   {
    "duration": 884,
    "start_time": "2021-06-08T18:17:18.157Z"
   },
   {
    "duration": 379,
    "start_time": "2021-06-08T18:18:25.690Z"
   },
   {
    "duration": 372,
    "start_time": "2021-06-08T18:18:38.552Z"
   },
   {
    "duration": 112,
    "start_time": "2021-06-08T18:19:21.043Z"
   },
   {
    "duration": 359,
    "start_time": "2021-06-08T18:19:33.538Z"
   },
   {
    "duration": 116,
    "start_time": "2021-06-08T18:20:18.203Z"
   },
   {
    "duration": 11,
    "start_time": "2021-06-08T18:20:33.426Z"
   },
   {
    "duration": 8,
    "start_time": "2021-06-08T18:20:43.822Z"
   },
   {
    "duration": 324,
    "start_time": "2021-06-08T18:22:42.298Z"
   },
   {
    "duration": 356,
    "start_time": "2021-06-08T18:23:30.914Z"
   },
   {
    "duration": 24,
    "start_time": "2021-06-08T18:25:45.585Z"
   },
   {
    "duration": 433,
    "start_time": "2021-06-08T18:26:27.698Z"
   },
   {
    "duration": 313,
    "start_time": "2021-06-08T18:26:51.390Z"
   },
   {
    "duration": 349,
    "start_time": "2021-06-08T18:26:57.987Z"
   },
   {
    "duration": 8374,
    "start_time": "2021-06-08T18:27:22.534Z"
   },
   {
    "duration": 8665,
    "start_time": "2021-06-08T18:27:37.129Z"
   },
   {
    "duration": 16,
    "start_time": "2021-06-08T18:28:01.405Z"
   },
   {
    "duration": 5,
    "start_time": "2021-06-08T18:29:13.334Z"
   },
   {
    "duration": 16,
    "start_time": "2021-06-08T18:29:22.378Z"
   },
   {
    "duration": 16,
    "start_time": "2021-06-08T18:30:15.883Z"
   },
   {
    "duration": 9,
    "start_time": "2021-06-08T18:30:54.113Z"
   },
   {
    "duration": 31,
    "start_time": "2021-06-08T18:32:58.333Z"
   },
   {
    "duration": 10,
    "start_time": "2021-06-08T18:34:06.581Z"
   },
   {
    "duration": 116,
    "start_time": "2021-06-08T18:35:44.146Z"
   },
   {
    "duration": 20,
    "start_time": "2021-06-08T18:35:53.148Z"
   },
   {
    "duration": 344,
    "start_time": "2021-06-08T18:36:52.848Z"
   },
   {
    "duration": 386,
    "start_time": "2021-06-08T18:37:15.136Z"
   },
   {
    "duration": 332,
    "start_time": "2021-06-08T18:37:44.328Z"
   },
   {
    "duration": 20,
    "start_time": "2021-06-08T18:39:50.951Z"
   },
   {
    "duration": 22,
    "start_time": "2021-06-08T18:40:20.679Z"
   },
   {
    "duration": 16,
    "start_time": "2021-06-08T18:40:23.045Z"
   },
   {
    "duration": 21,
    "start_time": "2021-06-08T18:40:38.628Z"
   },
   {
    "duration": 28,
    "start_time": "2021-06-08T18:42:54.208Z"
   },
   {
    "duration": 5,
    "start_time": "2021-06-08T18:43:15.574Z"
   },
   {
    "duration": 23,
    "start_time": "2021-06-08T18:43:56.863Z"
   },
   {
    "duration": 5,
    "start_time": "2021-06-08T18:44:26.861Z"
   },
   {
    "duration": 1575,
    "start_time": "2021-06-08T18:45:18.171Z"
   },
   {
    "duration": 377,
    "start_time": "2021-06-08T18:45:19.749Z"
   },
   {
    "duration": 101,
    "start_time": "2021-06-08T18:45:20.129Z"
   },
   {
    "duration": 498,
    "start_time": "2021-06-08T18:45:20.233Z"
   },
   {
    "duration": 8,
    "start_time": "2021-06-08T18:45:20.733Z"
   },
   {
    "duration": 17,
    "start_time": "2021-06-08T18:45:20.743Z"
   },
   {
    "duration": 15,
    "start_time": "2021-06-08T18:45:20.763Z"
   },
   {
    "duration": 12,
    "start_time": "2021-06-08T18:45:20.781Z"
   },
   {
    "duration": 1374,
    "start_time": "2021-06-08T18:45:20.796Z"
   },
   {
    "duration": 5,
    "start_time": "2021-06-08T18:45:22.172Z"
   },
   {
    "duration": 33,
    "start_time": "2021-06-08T18:45:22.179Z"
   },
   {
    "duration": 11,
    "start_time": "2021-06-08T18:45:22.214Z"
   },
   {
    "duration": 12,
    "start_time": "2021-06-08T18:45:22.227Z"
   },
   {
    "duration": 17,
    "start_time": "2021-06-08T18:45:22.242Z"
   },
   {
    "duration": 13,
    "start_time": "2021-06-08T18:45:22.261Z"
   },
   {
    "duration": 6,
    "start_time": "2021-06-08T18:45:22.276Z"
   },
   {
    "duration": 27,
    "start_time": "2021-06-08T18:45:22.284Z"
   },
   {
    "duration": 726,
    "start_time": "2021-06-08T18:45:22.314Z"
   },
   {
    "duration": 640,
    "start_time": "2021-06-08T18:45:23.043Z"
   },
   {
    "duration": 154,
    "start_time": "2021-06-08T18:45:23.686Z"
   },
   {
    "duration": 116,
    "start_time": "2021-06-08T18:45:23.842Z"
   },
   {
    "duration": 377,
    "start_time": "2021-06-08T18:45:23.960Z"
   },
   {
    "duration": 352,
    "start_time": "2021-06-08T18:45:24.342Z"
   },
   {
    "duration": 367,
    "start_time": "2021-06-08T18:45:24.697Z"
   },
   {
    "duration": 25,
    "start_time": "2021-06-08T18:45:25.066Z"
   },
   {
    "duration": 22,
    "start_time": "2021-06-08T18:45:25.109Z"
   },
   {
    "duration": 36,
    "start_time": "2021-06-08T18:45:25.134Z"
   },
   {
    "duration": 700,
    "start_time": "2021-06-08T18:45:25.172Z"
   },
   {
    "duration": 760,
    "start_time": "2021-06-08T18:45:25.875Z"
   },
   {
    "duration": 11,
    "start_time": "2021-06-08T18:45:26.638Z"
   },
   {
    "duration": 17,
    "start_time": "2021-06-08T18:45:26.651Z"
   },
   {
    "duration": 491,
    "start_time": "2021-06-08T18:45:26.670Z"
   },
   {
    "duration": 326,
    "start_time": "2021-06-08T18:45:55.026Z"
   },
   {
    "duration": 11,
    "start_time": "2021-06-08T18:48:26.185Z"
   },
   {
    "duration": 11,
    "start_time": "2021-06-08T19:10:25.357Z"
   },
   {
    "duration": 11,
    "start_time": "2021-06-08T19:10:34.807Z"
   },
   {
    "duration": 11,
    "start_time": "2021-06-08T19:10:40.572Z"
   },
   {
    "duration": 389,
    "start_time": "2021-06-08T19:14:08.869Z"
   },
   {
    "duration": 433,
    "start_time": "2021-06-08T19:21:53.415Z"
   },
   {
    "duration": 22,
    "start_time": "2021-06-08T19:22:08.636Z"
   },
   {
    "duration": 11,
    "start_time": "2021-06-08T19:30:18.694Z"
   },
   {
    "duration": 19,
    "start_time": "2021-06-08T19:30:21.528Z"
   },
   {
    "duration": 15,
    "start_time": "2021-06-08T19:30:22.770Z"
   },
   {
    "duration": 18,
    "start_time": "2021-06-08T19:30:24.007Z"
   },
   {
    "duration": 22,
    "start_time": "2021-06-08T19:30:30.012Z"
   },
   {
    "duration": 17,
    "start_time": "2021-06-08T19:30:30.899Z"
   },
   {
    "duration": 12,
    "start_time": "2021-06-08T19:31:15.596Z"
   },
   {
    "duration": 12,
    "start_time": "2021-06-08T19:32:00.380Z"
   },
   {
    "duration": 12,
    "start_time": "2021-06-08T19:32:01.126Z"
   },
   {
    "duration": 32,
    "start_time": "2021-06-08T19:34:02.817Z"
   },
   {
    "duration": 34,
    "start_time": "2021-06-08T19:34:22.305Z"
   },
   {
    "duration": 38,
    "start_time": "2021-06-08T19:34:22.834Z"
   },
   {
    "duration": 280,
    "start_time": "2021-06-08T19:36:09.776Z"
   },
   {
    "duration": 338,
    "start_time": "2021-06-08T19:36:31.624Z"
   },
   {
    "duration": 242,
    "start_time": "2021-06-08T19:36:47.783Z"
   },
   {
    "duration": 252,
    "start_time": "2021-06-08T19:37:17.962Z"
   },
   {
    "duration": 256,
    "start_time": "2021-06-08T19:37:27.905Z"
   },
   {
    "duration": 261,
    "start_time": "2021-06-08T19:37:37.502Z"
   },
   {
    "duration": 268,
    "start_time": "2021-06-08T19:38:02.305Z"
   },
   {
    "duration": 271,
    "start_time": "2021-06-08T19:38:09.398Z"
   },
   {
    "duration": 252,
    "start_time": "2021-06-08T19:38:33.709Z"
   },
   {
    "duration": 417,
    "start_time": "2021-06-08T19:39:15.349Z"
   },
   {
    "duration": 528,
    "start_time": "2021-06-08T19:41:29.770Z"
   },
   {
    "duration": 418,
    "start_time": "2021-06-08T19:42:01.468Z"
   },
   {
    "duration": 1554,
    "start_time": "2021-06-08T19:43:56.021Z"
   },
   {
    "duration": 475,
    "start_time": "2021-06-08T19:43:57.578Z"
   },
   {
    "duration": 112,
    "start_time": "2021-06-08T19:43:58.056Z"
   },
   {
    "duration": 546,
    "start_time": "2021-06-08T19:43:58.171Z"
   },
   {
    "duration": 8,
    "start_time": "2021-06-08T19:43:58.719Z"
   },
   {
    "duration": 10,
    "start_time": "2021-06-08T19:43:58.730Z"
   },
   {
    "duration": 7,
    "start_time": "2021-06-08T19:43:58.744Z"
   },
   {
    "duration": 4,
    "start_time": "2021-06-08T19:43:58.756Z"
   },
   {
    "duration": 1448,
    "start_time": "2021-06-08T19:43:58.765Z"
   },
   {
    "duration": 5,
    "start_time": "2021-06-08T19:44:00.216Z"
   },
   {
    "duration": 22,
    "start_time": "2021-06-08T19:44:00.223Z"
   },
   {
    "duration": 9,
    "start_time": "2021-06-08T19:44:00.248Z"
   },
   {
    "duration": 14,
    "start_time": "2021-06-08T19:44:00.260Z"
   },
   {
    "duration": 37,
    "start_time": "2021-06-08T19:44:00.277Z"
   },
   {
    "duration": 19,
    "start_time": "2021-06-08T19:44:00.317Z"
   },
   {
    "duration": 24,
    "start_time": "2021-06-08T19:44:00.339Z"
   },
   {
    "duration": 24,
    "start_time": "2021-06-08T19:44:00.366Z"
   },
   {
    "duration": 1186,
    "start_time": "2021-06-08T19:44:00.393Z"
   },
   {
    "duration": 935,
    "start_time": "2021-06-08T19:44:01.583Z"
   },
   {
    "duration": 264,
    "start_time": "2021-06-08T19:44:02.522Z"
   },
   {
    "duration": 151,
    "start_time": "2021-06-08T19:44:02.789Z"
   },
   {
    "duration": 402,
    "start_time": "2021-06-08T19:44:02.942Z"
   },
   {
    "duration": 374,
    "start_time": "2021-06-08T19:44:03.351Z"
   },
   {
    "duration": 381,
    "start_time": "2021-06-08T19:44:03.728Z"
   },
   {
    "duration": 25,
    "start_time": "2021-06-08T19:44:04.111Z"
   },
   {
    "duration": 23,
    "start_time": "2021-06-08T19:44:04.138Z"
   },
   {
    "duration": 69,
    "start_time": "2021-06-08T19:44:04.164Z"
   },
   {
    "duration": 836,
    "start_time": "2021-06-08T19:44:04.236Z"
   },
   {
    "duration": 804,
    "start_time": "2021-06-08T19:44:05.074Z"
   },
   {
    "duration": 28,
    "start_time": "2021-06-08T19:44:05.881Z"
   },
   {
    "duration": 11,
    "start_time": "2021-06-08T19:44:05.912Z"
   },
   {
    "duration": 11,
    "start_time": "2021-06-08T19:44:05.926Z"
   },
   {
    "duration": 71,
    "start_time": "2021-06-08T19:44:05.940Z"
   },
   {
    "duration": 283,
    "start_time": "2021-06-08T19:44:06.014Z"
   },
   {
    "duration": 456,
    "start_time": "2021-06-08T19:44:06.299Z"
   },
   {
    "duration": 75,
    "start_time": "2021-06-08T19:44:06.757Z"
   },
   {
    "duration": 75,
    "start_time": "2021-06-08T19:44:06.836Z"
   },
   {
    "duration": 335,
    "start_time": "2021-06-09T05:11:22.816Z"
   },
   {
    "duration": 1450,
    "start_time": "2021-06-09T05:11:34.320Z"
   },
   {
    "duration": 384,
    "start_time": "2021-06-09T05:11:35.773Z"
   },
   {
    "duration": 105,
    "start_time": "2021-06-09T05:11:36.160Z"
   },
   {
    "duration": 501,
    "start_time": "2021-06-09T05:11:36.268Z"
   },
   {
    "duration": 8,
    "start_time": "2021-06-09T05:11:36.772Z"
   },
   {
    "duration": 20,
    "start_time": "2021-06-09T05:11:36.783Z"
   },
   {
    "duration": 9,
    "start_time": "2021-06-09T05:11:36.806Z"
   },
   {
    "duration": 8,
    "start_time": "2021-06-09T05:11:36.817Z"
   },
   {
    "duration": 1307,
    "start_time": "2021-06-09T05:11:36.829Z"
   },
   {
    "duration": 5,
    "start_time": "2021-06-09T05:11:38.139Z"
   },
   {
    "duration": 15,
    "start_time": "2021-06-09T05:11:38.146Z"
   },
   {
    "duration": 7,
    "start_time": "2021-06-09T05:11:38.163Z"
   },
   {
    "duration": 7,
    "start_time": "2021-06-09T05:11:38.173Z"
   },
   {
    "duration": 49,
    "start_time": "2021-06-09T05:11:38.182Z"
   },
   {
    "duration": 7,
    "start_time": "2021-06-09T05:11:38.234Z"
   },
   {
    "duration": 15,
    "start_time": "2021-06-09T05:11:38.243Z"
   },
   {
    "duration": 17,
    "start_time": "2021-06-09T05:11:38.261Z"
   },
   {
    "duration": 756,
    "start_time": "2021-06-09T05:11:38.280Z"
   },
   {
    "duration": 663,
    "start_time": "2021-06-09T05:11:39.038Z"
   },
   {
    "duration": 164,
    "start_time": "2021-06-09T05:11:39.703Z"
   },
   {
    "duration": 128,
    "start_time": "2021-06-09T05:11:39.869Z"
   },
   {
    "duration": 471,
    "start_time": "2021-06-09T05:11:39.999Z"
   },
   {
    "duration": 348,
    "start_time": "2021-06-09T05:11:40.472Z"
   },
   {
    "duration": 354,
    "start_time": "2021-06-09T05:11:40.824Z"
   },
   {
    "duration": 43,
    "start_time": "2021-06-09T05:11:41.181Z"
   },
   {
    "duration": 24,
    "start_time": "2021-06-09T05:11:41.226Z"
   },
   {
    "duration": 36,
    "start_time": "2021-06-09T05:11:41.254Z"
   },
   {
    "duration": 680,
    "start_time": "2021-06-09T05:11:41.293Z"
   },
   {
    "duration": 704,
    "start_time": "2021-06-09T05:11:55.858Z"
   },
   {
    "duration": 644,
    "start_time": "2021-06-09T05:13:03.100Z"
   },
   {
    "duration": 667,
    "start_time": "2021-06-09T05:13:03.747Z"
   },
   {
    "duration": 10,
    "start_time": "2021-06-09T05:13:41.316Z"
   },
   {
    "duration": 14,
    "start_time": "2021-06-09T05:13:41.827Z"
   },
   {
    "duration": 11,
    "start_time": "2021-06-09T05:13:42.291Z"
   },
   {
    "duration": 33,
    "start_time": "2021-06-09T05:13:48.076Z"
   },
   {
    "duration": 234,
    "start_time": "2021-06-09T05:13:48.992Z"
   },
   {
    "duration": 404,
    "start_time": "2021-06-09T05:13:51.388Z"
   },
   {
    "duration": 272,
    "start_time": "2021-06-09T05:14:46.797Z"
   },
   {
    "duration": 263,
    "start_time": "2021-06-09T05:15:45.014Z"
   },
   {
    "duration": 750,
    "start_time": "2021-06-09T05:16:03.046Z"
   },
   {
    "duration": 648,
    "start_time": "2021-06-09T05:16:33.903Z"
   },
   {
    "duration": 652,
    "start_time": "2021-06-09T05:16:35.840Z"
   },
   {
    "duration": 1408,
    "start_time": "2021-06-09T05:16:59.548Z"
   },
   {
    "duration": 383,
    "start_time": "2021-06-09T05:17:00.959Z"
   },
   {
    "duration": 105,
    "start_time": "2021-06-09T05:17:01.345Z"
   },
   {
    "duration": 495,
    "start_time": "2021-06-09T05:17:01.453Z"
   },
   {
    "duration": 8,
    "start_time": "2021-06-09T05:17:01.951Z"
   },
   {
    "duration": 13,
    "start_time": "2021-06-09T05:17:01.962Z"
   },
   {
    "duration": 14,
    "start_time": "2021-06-09T05:17:01.978Z"
   },
   {
    "duration": 9,
    "start_time": "2021-06-09T05:17:01.995Z"
   },
   {
    "duration": 1295,
    "start_time": "2021-06-09T05:17:02.008Z"
   },
   {
    "duration": 5,
    "start_time": "2021-06-09T05:17:03.306Z"
   },
   {
    "duration": 12,
    "start_time": "2021-06-09T05:17:03.325Z"
   },
   {
    "duration": 6,
    "start_time": "2021-06-09T05:17:03.340Z"
   },
   {
    "duration": 16,
    "start_time": "2021-06-09T05:17:03.348Z"
   },
   {
    "duration": 16,
    "start_time": "2021-06-09T05:17:03.366Z"
   },
   {
    "duration": 45,
    "start_time": "2021-06-09T05:17:03.385Z"
   },
   {
    "duration": 5,
    "start_time": "2021-06-09T05:17:03.433Z"
   },
   {
    "duration": 9,
    "start_time": "2021-06-09T05:17:03.440Z"
   },
   {
    "duration": 752,
    "start_time": "2021-06-09T05:17:03.451Z"
   },
   {
    "duration": 653,
    "start_time": "2021-06-09T05:17:04.206Z"
   },
   {
    "duration": 138,
    "start_time": "2021-06-09T05:17:04.861Z"
   },
   {
    "duration": 112,
    "start_time": "2021-06-09T05:17:05.001Z"
   },
   {
    "duration": 383,
    "start_time": "2021-06-09T05:17:05.115Z"
   },
   {
    "duration": 352,
    "start_time": "2021-06-09T05:17:05.501Z"
   },
   {
    "duration": 368,
    "start_time": "2021-06-09T05:17:05.856Z"
   },
   {
    "duration": 26,
    "start_time": "2021-06-09T05:17:06.226Z"
   },
   {
    "duration": 23,
    "start_time": "2021-06-09T05:17:06.255Z"
   },
   {
    "duration": 74,
    "start_time": "2021-06-09T05:17:06.283Z"
   },
   {
    "duration": 312,
    "start_time": "2021-06-09T05:17:06.360Z"
   },
   {
    "duration": 741,
    "start_time": "2021-06-09T05:17:06.675Z"
   },
   {
    "duration": 810,
    "start_time": "2021-06-09T05:17:07.418Z"
   },
   {
    "duration": 10,
    "start_time": "2021-06-09T05:17:08.230Z"
   },
   {
    "duration": 17,
    "start_time": "2021-06-09T05:17:08.242Z"
   },
   {
    "duration": 13,
    "start_time": "2021-06-09T05:17:08.262Z"
   },
   {
    "duration": 62,
    "start_time": "2021-06-09T05:17:08.277Z"
   },
   {
    "duration": 255,
    "start_time": "2021-06-09T05:17:08.341Z"
   },
   {
    "duration": 417,
    "start_time": "2021-06-09T05:17:08.599Z"
   },
   {
    "duration": 38,
    "start_time": "2021-06-09T05:17:09.018Z"
   },
   {
    "duration": 33,
    "start_time": "2021-06-09T05:17:09.059Z"
   },
   {
    "duration": 394,
    "start_time": "2021-06-09T05:18:29.134Z"
   },
   {
    "duration": 396,
    "start_time": "2021-06-09T05:18:30.595Z"
   },
   {
    "duration": 377,
    "start_time": "2021-06-09T05:20:26.062Z"
   },
   {
    "duration": 394,
    "start_time": "2021-06-09T05:20:29.246Z"
   },
   {
    "duration": 447,
    "start_time": "2021-06-09T05:20:41.686Z"
   },
   {
    "duration": 443,
    "start_time": "2021-06-09T05:21:53.704Z"
   },
   {
    "duration": 575,
    "start_time": "2021-06-09T05:22:19.065Z"
   },
   {
    "duration": 278,
    "start_time": "2021-06-09T05:23:15.129Z"
   },
   {
    "duration": 239,
    "start_time": "2021-06-09T05:23:40.089Z"
   },
   {
    "duration": 236,
    "start_time": "2021-06-09T05:23:41.381Z"
   },
   {
    "duration": 23,
    "start_time": "2021-06-09T05:24:39.203Z"
   },
   {
    "duration": 25,
    "start_time": "2021-06-09T05:24:54.914Z"
   },
   {
    "duration": 25,
    "start_time": "2021-06-09T05:25:27.403Z"
   },
   {
    "duration": 24,
    "start_time": "2021-06-09T05:25:28.131Z"
   },
   {
    "duration": 37,
    "start_time": "2021-06-09T05:25:28.938Z"
   },
   {
    "duration": 210,
    "start_time": "2021-06-09T06:08:21.793Z"
   },
   {
    "duration": 198,
    "start_time": "2021-06-09T06:08:27.384Z"
   },
   {
    "duration": 224,
    "start_time": "2021-06-09T06:09:00.313Z"
   },
   {
    "duration": 216,
    "start_time": "2021-06-09T06:09:00.849Z"
   },
   {
    "duration": 245,
    "start_time": "2021-06-09T06:10:17.987Z"
   },
   {
    "duration": 225,
    "start_time": "2021-06-09T06:10:42.251Z"
   },
   {
    "duration": 228,
    "start_time": "2021-06-09T06:10:51.499Z"
   },
   {
    "duration": 225,
    "start_time": "2021-06-09T06:11:19.628Z"
   },
   {
    "duration": 232,
    "start_time": "2021-06-09T06:11:30.628Z"
   },
   {
    "duration": 220,
    "start_time": "2021-06-09T06:11:41.460Z"
   },
   {
    "duration": 440,
    "start_time": "2021-06-09T06:14:11.301Z"
   },
   {
    "duration": 457,
    "start_time": "2021-06-09T06:14:36.281Z"
   },
   {
    "duration": 583,
    "start_time": "2021-06-09T06:15:01.505Z"
   },
   {
    "duration": 468,
    "start_time": "2021-06-09T06:15:48.323Z"
   },
   {
    "duration": 220,
    "start_time": "2021-06-09T06:15:49.144Z"
   },
   {
    "duration": 462,
    "start_time": "2021-06-09T06:15:50.488Z"
   },
   {
    "duration": 263,
    "start_time": "2021-06-09T06:59:23.030Z"
   },
   {
    "duration": 231,
    "start_time": "2021-06-09T07:00:26.611Z"
   },
   {
    "duration": 215,
    "start_time": "2021-06-09T07:00:27.704Z"
   },
   {
    "duration": 527,
    "start_time": "2021-06-09T07:00:30.305Z"
   },
   {
    "duration": 328,
    "start_time": "2021-06-09T07:01:23.922Z"
   },
   {
    "duration": 213,
    "start_time": "2021-06-09T07:01:47.265Z"
   },
   {
    "duration": 220,
    "start_time": "2021-06-09T07:01:58.704Z"
   },
   {
    "duration": 238,
    "start_time": "2021-06-09T07:02:06.704Z"
   },
   {
    "duration": 244,
    "start_time": "2021-06-09T07:03:33.794Z"
   },
   {
    "duration": 244,
    "start_time": "2021-06-09T07:04:17.403Z"
   },
   {
    "duration": 252,
    "start_time": "2021-06-09T07:04:24.474Z"
   },
   {
    "duration": 258,
    "start_time": "2021-06-09T07:04:52.909Z"
   },
   {
    "duration": 240,
    "start_time": "2021-06-09T07:05:37.172Z"
   },
   {
    "duration": 249,
    "start_time": "2021-06-09T07:06:52.581Z"
   },
   {
    "duration": 399,
    "start_time": "2021-06-09T07:07:11.750Z"
   },
   {
    "duration": 561,
    "start_time": "2021-06-09T07:08:04.543Z"
   },
   {
    "duration": 25,
    "start_time": "2021-06-09T07:08:34.660Z"
   },
   {
    "duration": 21,
    "start_time": "2021-06-09T07:08:35.711Z"
   },
   {
    "duration": 36,
    "start_time": "2021-06-09T07:08:36.359Z"
   },
   {
    "duration": 37,
    "start_time": "2021-06-09T07:09:37.832Z"
   },
   {
    "duration": 275,
    "start_time": "2021-06-09T07:12:47.832Z"
   },
   {
    "duration": 244,
    "start_time": "2021-06-09T07:16:54.546Z"
   },
   {
    "duration": 288,
    "start_time": "2021-06-09T07:17:00.720Z"
   },
   {
    "duration": 257,
    "start_time": "2021-06-09T07:17:11.680Z"
   },
   {
    "duration": 250,
    "start_time": "2021-06-09T07:17:21.346Z"
   },
   {
    "duration": 239,
    "start_time": "2021-06-09T07:19:34.915Z"
   },
   {
    "duration": 237,
    "start_time": "2021-06-09T07:19:45.354Z"
   },
   {
    "duration": 243,
    "start_time": "2021-06-09T07:19:50.499Z"
   },
   {
    "duration": 252,
    "start_time": "2021-06-09T07:19:56.003Z"
   },
   {
    "duration": 244,
    "start_time": "2021-06-09T07:20:35.052Z"
   },
   {
    "duration": 358,
    "start_time": "2021-06-09T07:20:38.531Z"
   },
   {
    "duration": 260,
    "start_time": "2021-06-09T07:20:53.667Z"
   },
   {
    "duration": 252,
    "start_time": "2021-06-09T07:21:57.493Z"
   },
   {
    "duration": 247,
    "start_time": "2021-06-09T07:22:13.046Z"
   },
   {
    "duration": 252,
    "start_time": "2021-06-09T07:22:45.279Z"
   },
   {
    "duration": 257,
    "start_time": "2021-06-09T07:22:50.703Z"
   },
   {
    "duration": 263,
    "start_time": "2021-06-09T07:22:58.103Z"
   },
   {
    "duration": 399,
    "start_time": "2021-06-09T07:25:37.417Z"
   },
   {
    "duration": 1397,
    "start_time": "2021-06-09T07:25:54.943Z"
   },
   {
    "duration": 378,
    "start_time": "2021-06-09T07:25:56.343Z"
   },
   {
    "duration": 100,
    "start_time": "2021-06-09T07:25:56.725Z"
   },
   {
    "duration": 483,
    "start_time": "2021-06-09T07:25:56.828Z"
   },
   {
    "duration": 16,
    "start_time": "2021-06-09T07:25:57.313Z"
   },
   {
    "duration": 8,
    "start_time": "2021-06-09T07:25:57.331Z"
   },
   {
    "duration": 5,
    "start_time": "2021-06-09T07:25:57.342Z"
   },
   {
    "duration": 4,
    "start_time": "2021-06-09T07:25:57.351Z"
   },
   {
    "duration": 1316,
    "start_time": "2021-06-09T07:25:57.358Z"
   },
   {
    "duration": 4,
    "start_time": "2021-06-09T07:25:58.677Z"
   },
   {
    "duration": 17,
    "start_time": "2021-06-09T07:25:58.684Z"
   },
   {
    "duration": 22,
    "start_time": "2021-06-09T07:25:58.703Z"
   },
   {
    "duration": 10,
    "start_time": "2021-06-09T07:25:58.727Z"
   },
   {
    "duration": 14,
    "start_time": "2021-06-09T07:25:58.739Z"
   },
   {
    "duration": 7,
    "start_time": "2021-06-09T07:25:58.755Z"
   },
   {
    "duration": 4,
    "start_time": "2021-06-09T07:25:58.765Z"
   },
   {
    "duration": 36,
    "start_time": "2021-06-09T07:25:58.771Z"
   },
   {
    "duration": 741,
    "start_time": "2021-06-09T07:25:58.809Z"
   },
   {
    "duration": 652,
    "start_time": "2021-06-09T07:25:59.552Z"
   },
   {
    "duration": 169,
    "start_time": "2021-06-09T07:26:00.206Z"
   },
   {
    "duration": 116,
    "start_time": "2021-06-09T07:26:00.378Z"
   },
   {
    "duration": 393,
    "start_time": "2021-06-09T07:26:00.496Z"
   },
   {
    "duration": 348,
    "start_time": "2021-06-09T07:26:00.894Z"
   },
   {
    "duration": 354,
    "start_time": "2021-06-09T07:26:01.245Z"
   },
   {
    "duration": 37,
    "start_time": "2021-06-09T07:26:01.602Z"
   },
   {
    "duration": 29,
    "start_time": "2021-06-09T07:26:01.641Z"
   },
   {
    "duration": 56,
    "start_time": "2021-06-09T07:26:01.672Z"
   },
   {
    "duration": 264,
    "start_time": "2021-06-09T07:26:01.731Z"
   },
   {
    "duration": 270,
    "start_time": "2021-06-09T07:26:01.998Z"
   },
   {
    "duration": 329,
    "start_time": "2021-06-09T07:26:02.270Z"
   },
   {
    "duration": 276,
    "start_time": "2021-06-09T07:26:02.602Z"
   },
   {
    "duration": 570,
    "start_time": "2021-06-09T07:26:02.880Z"
   },
   {
    "duration": 511,
    "start_time": "2021-06-09T07:26:03.453Z"
   },
   {
    "duration": 461,
    "start_time": "2021-06-09T07:38:26.710Z"
   },
   {
    "duration": 1477,
    "start_time": "2021-06-09T07:38:39.172Z"
   },
   {
    "duration": 376,
    "start_time": "2021-06-09T07:38:40.652Z"
   },
   {
    "duration": 101,
    "start_time": "2021-06-09T07:38:41.032Z"
   },
   {
    "duration": 478,
    "start_time": "2021-06-09T07:38:41.136Z"
   },
   {
    "duration": 13,
    "start_time": "2021-06-09T07:38:41.616Z"
   },
   {
    "duration": 9,
    "start_time": "2021-06-09T07:38:41.631Z"
   },
   {
    "duration": 5,
    "start_time": "2021-06-09T07:38:41.642Z"
   },
   {
    "duration": 4,
    "start_time": "2021-06-09T07:38:41.651Z"
   },
   {
    "duration": 1318,
    "start_time": "2021-06-09T07:38:41.658Z"
   },
   {
    "duration": 4,
    "start_time": "2021-06-09T07:38:42.979Z"
   },
   {
    "duration": 14,
    "start_time": "2021-06-09T07:38:42.985Z"
   },
   {
    "duration": 23,
    "start_time": "2021-06-09T07:38:43.001Z"
   },
   {
    "duration": 8,
    "start_time": "2021-06-09T07:38:43.027Z"
   },
   {
    "duration": 15,
    "start_time": "2021-06-09T07:38:43.037Z"
   },
   {
    "duration": 7,
    "start_time": "2021-06-09T07:38:43.054Z"
   },
   {
    "duration": 4,
    "start_time": "2021-06-09T07:38:43.063Z"
   },
   {
    "duration": 10,
    "start_time": "2021-06-09T07:38:43.069Z"
   },
   {
    "duration": 771,
    "start_time": "2021-06-09T07:38:43.081Z"
   },
   {
    "duration": 652,
    "start_time": "2021-06-09T07:38:43.855Z"
   },
   {
    "duration": 141,
    "start_time": "2021-06-09T07:38:44.509Z"
   },
   {
    "duration": 116,
    "start_time": "2021-06-09T07:38:44.652Z"
   },
   {
    "duration": 374,
    "start_time": "2021-06-09T07:38:44.770Z"
   },
   {
    "duration": 350,
    "start_time": "2021-06-09T07:38:45.148Z"
   },
   {
    "duration": 348,
    "start_time": "2021-06-09T07:38:45.501Z"
   },
   {
    "duration": 24,
    "start_time": "2021-06-09T07:38:45.851Z"
   },
   {
    "duration": 25,
    "start_time": "2021-06-09T07:38:45.877Z"
   },
   {
    "duration": 37,
    "start_time": "2021-06-09T07:38:45.925Z"
   },
   {
    "duration": 281,
    "start_time": "2021-06-09T07:38:45.964Z"
   },
   {
    "duration": 270,
    "start_time": "2021-06-09T07:38:46.247Z"
   },
   {
    "duration": 329,
    "start_time": "2021-06-09T07:38:46.519Z"
   },
   {
    "duration": 279,
    "start_time": "2021-06-09T07:38:46.850Z"
   },
   {
    "duration": 470,
    "start_time": "2021-06-09T07:38:47.131Z"
   },
   {
    "duration": 488,
    "start_time": "2021-06-09T07:38:47.604Z"
   },
   {
    "duration": 424,
    "start_time": "2021-06-09T07:38:51.359Z"
   },
   {
    "duration": 399,
    "start_time": "2021-06-09T07:39:39.568Z"
   },
   {
    "duration": 10,
    "start_time": "2021-06-09T07:44:32.513Z"
   },
   {
    "duration": 282,
    "start_time": "2021-06-09T07:48:48.120Z"
   },
   {
    "duration": 88,
    "start_time": "2021-06-09T07:49:18.362Z"
   },
   {
    "duration": 287,
    "start_time": "2021-06-09T07:50:35.540Z"
   },
   {
    "duration": 14,
    "start_time": "2021-06-09T07:51:03.649Z"
   },
   {
    "duration": 19,
    "start_time": "2021-06-09T07:52:37.182Z"
   },
   {
    "duration": 351,
    "start_time": "2021-06-09T07:54:04.903Z"
   },
   {
    "duration": 11,
    "start_time": "2021-06-09T07:54:56.984Z"
   },
   {
    "duration": 12,
    "start_time": "2021-06-09T07:54:57.800Z"
   },
   {
    "duration": 292,
    "start_time": "2021-06-09T07:54:58.695Z"
   },
   {
    "duration": 9,
    "start_time": "2021-06-09T07:55:23.369Z"
   },
   {
    "duration": 8,
    "start_time": "2021-06-09T07:55:24.169Z"
   },
   {
    "duration": 1472,
    "start_time": "2021-06-09T07:56:47.627Z"
   },
   {
    "duration": 481,
    "start_time": "2021-06-09T07:56:49.101Z"
   },
   {
    "duration": 101,
    "start_time": "2021-06-09T07:56:49.584Z"
   },
   {
    "duration": 601,
    "start_time": "2021-06-09T07:56:49.687Z"
   },
   {
    "duration": 8,
    "start_time": "2021-06-09T07:56:50.290Z"
   },
   {
    "duration": 10,
    "start_time": "2021-06-09T07:56:50.301Z"
   },
   {
    "duration": 7,
    "start_time": "2021-06-09T07:56:50.313Z"
   },
   {
    "duration": 5,
    "start_time": "2021-06-09T07:56:50.327Z"
   },
   {
    "duration": 1333,
    "start_time": "2021-06-09T07:56:50.334Z"
   },
   {
    "duration": 5,
    "start_time": "2021-06-09T07:56:51.670Z"
   },
   {
    "duration": 19,
    "start_time": "2021-06-09T07:56:51.677Z"
   },
   {
    "duration": 4,
    "start_time": "2021-06-09T07:56:51.698Z"
   },
   {
    "duration": 10,
    "start_time": "2021-06-09T07:56:51.724Z"
   },
   {
    "duration": 29,
    "start_time": "2021-06-09T07:56:51.737Z"
   },
   {
    "duration": 12,
    "start_time": "2021-06-09T07:56:51.768Z"
   },
   {
    "duration": 10,
    "start_time": "2021-06-09T07:56:51.783Z"
   },
   {
    "duration": 15,
    "start_time": "2021-06-09T07:56:51.795Z"
   },
   {
    "duration": 728,
    "start_time": "2021-06-09T07:56:51.813Z"
   },
   {
    "duration": 663,
    "start_time": "2021-06-09T07:56:52.543Z"
   },
   {
    "duration": 163,
    "start_time": "2021-06-09T07:56:53.208Z"
   },
   {
    "duration": 116,
    "start_time": "2021-06-09T07:56:53.374Z"
   },
   {
    "duration": 488,
    "start_time": "2021-06-09T07:56:53.493Z"
   },
   {
    "duration": 348,
    "start_time": "2021-06-09T07:56:53.985Z"
   },
   {
    "duration": 359,
    "start_time": "2021-06-09T07:56:54.336Z"
   },
   {
    "duration": 25,
    "start_time": "2021-06-09T07:56:58.524Z"
   },
   {
    "duration": 23,
    "start_time": "2021-06-09T07:56:59.604Z"
   },
   {
    "duration": 22,
    "start_time": "2021-06-09T07:57:00.900Z"
   },
   {
    "duration": 36,
    "start_time": "2021-06-09T07:57:14.045Z"
   },
   {
    "duration": 265,
    "start_time": "2021-06-09T07:57:29.997Z"
   },
   {
    "duration": 259,
    "start_time": "2021-06-09T07:57:34.830Z"
   },
   {
    "duration": 329,
    "start_time": "2021-06-09T07:57:37.765Z"
   },
   {
    "duration": 254,
    "start_time": "2021-06-09T07:57:41.277Z"
   },
   {
    "duration": 245,
    "start_time": "2021-06-09T07:57:52.158Z"
   },
   {
    "duration": 465,
    "start_time": "2021-06-09T07:58:08.573Z"
   },
   {
    "duration": 469,
    "start_time": "2021-06-09T07:58:12.109Z"
   },
   {
    "duration": 26,
    "start_time": "2021-06-09T07:58:31.878Z"
   },
   {
    "duration": 25,
    "start_time": "2021-06-09T07:58:37.166Z"
   },
   {
    "duration": 1501,
    "start_time": "2021-06-09T08:16:52.890Z"
   },
   {
    "duration": 377,
    "start_time": "2021-06-09T08:16:54.393Z"
   },
   {
    "duration": 102,
    "start_time": "2021-06-09T08:16:54.774Z"
   },
   {
    "duration": 495,
    "start_time": "2021-06-09T08:16:54.879Z"
   },
   {
    "duration": 10,
    "start_time": "2021-06-09T08:16:55.376Z"
   },
   {
    "duration": 9,
    "start_time": "2021-06-09T08:16:55.389Z"
   },
   {
    "duration": 25,
    "start_time": "2021-06-09T08:16:55.400Z"
   },
   {
    "duration": 5,
    "start_time": "2021-06-09T08:16:55.430Z"
   },
   {
    "duration": 1399,
    "start_time": "2021-06-09T08:16:55.439Z"
   },
   {
    "duration": 3,
    "start_time": "2021-06-09T08:16:56.841Z"
   },
   {
    "duration": 14,
    "start_time": "2021-06-09T08:16:56.846Z"
   },
   {
    "duration": 4,
    "start_time": "2021-06-09T08:16:56.863Z"
   },
   {
    "duration": 9,
    "start_time": "2021-06-09T08:16:56.870Z"
   },
   {
    "duration": 51,
    "start_time": "2021-06-09T08:16:56.881Z"
   },
   {
    "duration": 7,
    "start_time": "2021-06-09T08:16:56.934Z"
   },
   {
    "duration": 5,
    "start_time": "2021-06-09T08:16:56.944Z"
   },
   {
    "duration": 8,
    "start_time": "2021-06-09T08:16:56.951Z"
   },
   {
    "duration": 754,
    "start_time": "2021-06-09T08:16:56.962Z"
   },
   {
    "duration": 660,
    "start_time": "2021-06-09T08:16:57.718Z"
   },
   {
    "duration": 160,
    "start_time": "2021-06-09T08:16:58.380Z"
   },
   {
    "duration": 121,
    "start_time": "2021-06-09T08:16:58.542Z"
   },
   {
    "duration": 378,
    "start_time": "2021-06-09T08:16:58.665Z"
   },
   {
    "duration": 452,
    "start_time": "2021-06-09T08:16:59.047Z"
   },
   {
    "duration": 349,
    "start_time": "2021-06-09T08:16:59.502Z"
   },
   {
    "duration": 25,
    "start_time": "2021-06-09T08:16:59.853Z"
   },
   {
    "duration": 48,
    "start_time": "2021-06-09T08:16:59.880Z"
   },
   {
    "duration": 37,
    "start_time": "2021-06-09T08:16:59.930Z"
   },
   {
    "duration": 294,
    "start_time": "2021-06-09T08:16:59.969Z"
   },
   {
    "duration": 262,
    "start_time": "2021-06-09T08:17:00.266Z"
   },
   {
    "duration": 330,
    "start_time": "2021-06-09T08:17:00.530Z"
   },
   {
    "duration": 274,
    "start_time": "2021-06-09T08:17:00.863Z"
   },
   {
    "duration": 476,
    "start_time": "2021-06-09T08:17:01.139Z"
   },
   {
    "duration": 486,
    "start_time": "2021-06-09T08:17:01.624Z"
   },
   {
    "duration": 14,
    "start_time": "2021-06-09T08:17:02.112Z"
   },
   {
    "duration": 6,
    "start_time": "2021-06-09T08:17:04.257Z"
   },
   {
    "duration": 25,
    "start_time": "2021-06-09T08:17:08.904Z"
   },
   {
    "duration": 26,
    "start_time": "2021-06-09T08:17:25.467Z"
   },
   {
    "duration": 5,
    "start_time": "2021-06-09T08:17:26.371Z"
   },
   {
    "duration": 6,
    "start_time": "2021-06-09T08:17:29.372Z"
   },
   {
    "duration": 14,
    "start_time": "2021-06-09T08:18:17.674Z"
   },
   {
    "duration": 9,
    "start_time": "2021-06-09T08:20:01.709Z"
   },
   {
    "duration": 1412,
    "start_time": "2021-06-09T08:20:11.934Z"
   },
   {
    "duration": 479,
    "start_time": "2021-06-09T08:20:13.349Z"
   },
   {
    "duration": 103,
    "start_time": "2021-06-09T08:20:13.831Z"
   },
   {
    "duration": 487,
    "start_time": "2021-06-09T08:20:13.937Z"
   },
   {
    "duration": 9,
    "start_time": "2021-06-09T08:20:14.427Z"
   },
   {
    "duration": 10,
    "start_time": "2021-06-09T08:20:14.439Z"
   },
   {
    "duration": 14,
    "start_time": "2021-06-09T08:20:14.451Z"
   },
   {
    "duration": 4,
    "start_time": "2021-06-09T08:20:14.470Z"
   },
   {
    "duration": 1429,
    "start_time": "2021-06-09T08:20:14.477Z"
   },
   {
    "duration": 4,
    "start_time": "2021-06-09T08:20:15.908Z"
   },
   {
    "duration": 18,
    "start_time": "2021-06-09T08:20:15.925Z"
   },
   {
    "duration": 4,
    "start_time": "2021-06-09T08:20:15.946Z"
   },
   {
    "duration": 14,
    "start_time": "2021-06-09T08:20:15.952Z"
   },
   {
    "duration": 16,
    "start_time": "2021-06-09T08:20:15.968Z"
   },
   {
    "duration": 21,
    "start_time": "2021-06-09T08:20:15.986Z"
   },
   {
    "duration": 4,
    "start_time": "2021-06-09T08:20:16.024Z"
   },
   {
    "duration": 11,
    "start_time": "2021-06-09T08:20:16.030Z"
   },
   {
    "duration": 741,
    "start_time": "2021-06-09T08:20:16.044Z"
   },
   {
    "duration": 654,
    "start_time": "2021-06-09T08:20:16.788Z"
   },
   {
    "duration": 163,
    "start_time": "2021-06-09T08:20:17.445Z"
   },
   {
    "duration": 123,
    "start_time": "2021-06-09T08:20:17.610Z"
   },
   {
    "duration": 373,
    "start_time": "2021-06-09T08:20:17.736Z"
   },
   {
    "duration": 354,
    "start_time": "2021-06-09T08:20:18.113Z"
   },
   {
    "duration": 399,
    "start_time": "2021-06-09T08:20:18.470Z"
   },
   {
    "duration": 24,
    "start_time": "2021-06-09T08:20:18.871Z"
   },
   {
    "duration": 42,
    "start_time": "2021-06-09T08:20:18.898Z"
   },
   {
    "duration": 36,
    "start_time": "2021-06-09T08:20:18.942Z"
   },
   {
    "duration": 274,
    "start_time": "2021-06-09T08:20:18.981Z"
   },
   {
    "duration": 256,
    "start_time": "2021-06-09T08:20:19.258Z"
   },
   {
    "duration": 328,
    "start_time": "2021-06-09T08:20:19.516Z"
   },
   {
    "duration": 257,
    "start_time": "2021-06-09T08:20:19.847Z"
   },
   {
    "duration": 473,
    "start_time": "2021-06-09T08:20:20.106Z"
   },
   {
    "duration": 492,
    "start_time": "2021-06-09T08:20:20.581Z"
   },
   {
    "duration": 4,
    "start_time": "2021-06-09T08:20:21.076Z"
   },
   {
    "duration": 8,
    "start_time": "2021-06-09T08:20:21.083Z"
   },
   {
    "duration": 32,
    "start_time": "2021-06-09T08:20:21.094Z"
   },
   {
    "duration": 9,
    "start_time": "2021-06-09T08:20:24.077Z"
   },
   {
    "duration": 5,
    "start_time": "2021-06-09T08:20:56.542Z"
   },
   {
    "duration": 5,
    "start_time": "2021-06-09T08:20:57.197Z"
   },
   {
    "duration": 25,
    "start_time": "2021-06-09T08:20:57.962Z"
   },
   {
    "duration": 5,
    "start_time": "2021-06-09T08:20:58.669Z"
   },
   {
    "duration": 5,
    "start_time": "2021-06-09T08:21:01.438Z"
   },
   {
    "duration": 1404,
    "start_time": "2021-06-09T08:21:55.267Z"
   },
   {
    "duration": 381,
    "start_time": "2021-06-09T08:21:56.673Z"
   },
   {
    "duration": 102,
    "start_time": "2021-06-09T08:21:57.056Z"
   },
   {
    "duration": 489,
    "start_time": "2021-06-09T08:21:57.160Z"
   },
   {
    "duration": 8,
    "start_time": "2021-06-09T08:21:57.651Z"
   },
   {
    "duration": 17,
    "start_time": "2021-06-09T08:21:57.661Z"
   },
   {
    "duration": 16,
    "start_time": "2021-06-09T08:21:57.680Z"
   },
   {
    "duration": 18,
    "start_time": "2021-06-09T08:21:57.699Z"
   },
   {
    "duration": 1330,
    "start_time": "2021-06-09T08:21:57.720Z"
   },
   {
    "duration": 5,
    "start_time": "2021-06-09T08:21:59.052Z"
   },
   {
    "duration": 32,
    "start_time": "2021-06-09T08:21:59.060Z"
   },
   {
    "duration": 10,
    "start_time": "2021-06-09T08:21:59.094Z"
   },
   {
    "duration": 23,
    "start_time": "2021-06-09T08:21:59.106Z"
   },
   {
    "duration": 26,
    "start_time": "2021-06-09T08:21:59.131Z"
   },
   {
    "duration": 23,
    "start_time": "2021-06-09T08:21:59.159Z"
   },
   {
    "duration": 13,
    "start_time": "2021-06-09T08:21:59.184Z"
   },
   {
    "duration": 16,
    "start_time": "2021-06-09T08:21:59.199Z"
   },
   {
    "duration": 731,
    "start_time": "2021-06-09T08:21:59.217Z"
   },
   {
    "duration": 656,
    "start_time": "2021-06-09T08:21:59.950Z"
   },
   {
    "duration": 159,
    "start_time": "2021-06-09T08:22:00.608Z"
   },
   {
    "duration": 113,
    "start_time": "2021-06-09T08:22:00.770Z"
   },
   {
    "duration": 405,
    "start_time": "2021-06-09T08:22:00.885Z"
   },
   {
    "duration": 356,
    "start_time": "2021-06-09T08:22:01.295Z"
   },
   {
    "duration": 360,
    "start_time": "2021-06-09T08:22:01.654Z"
   },
   {
    "duration": 28,
    "start_time": "2021-06-09T08:22:02.016Z"
   },
   {
    "duration": 24,
    "start_time": "2021-06-09T08:22:02.046Z"
   },
   {
    "duration": 68,
    "start_time": "2021-06-09T08:22:02.072Z"
   },
   {
    "duration": 252,
    "start_time": "2021-06-09T08:22:02.142Z"
   },
   {
    "duration": 247,
    "start_time": "2021-06-09T08:22:02.396Z"
   },
   {
    "duration": 328,
    "start_time": "2021-06-09T08:22:02.645Z"
   },
   {
    "duration": 264,
    "start_time": "2021-06-09T08:22:02.975Z"
   },
   {
    "duration": 485,
    "start_time": "2021-06-09T08:22:03.242Z"
   },
   {
    "duration": 479,
    "start_time": "2021-06-09T08:22:03.730Z"
   },
   {
    "duration": 16,
    "start_time": "2021-06-09T08:22:04.212Z"
   },
   {
    "duration": 11,
    "start_time": "2021-06-09T08:22:04.231Z"
   },
   {
    "duration": 27,
    "start_time": "2021-06-09T08:22:04.245Z"
   },
   {
    "duration": 6,
    "start_time": "2021-06-09T08:22:04.274Z"
   },
   {
    "duration": 45,
    "start_time": "2021-06-09T08:22:04.283Z"
   },
   {
    "duration": 5,
    "start_time": "2021-06-09T08:22:19.765Z"
   },
   {
    "duration": 5,
    "start_time": "2021-06-09T08:22:24.414Z"
   },
   {
    "duration": 5,
    "start_time": "2021-06-09T08:22:27.286Z"
   },
   {
    "duration": 25,
    "start_time": "2021-06-09T08:22:27.831Z"
   },
   {
    "duration": 5,
    "start_time": "2021-06-09T08:22:28.326Z"
   },
   {
    "duration": 5,
    "start_time": "2021-06-09T08:22:28.783Z"
   },
   {
    "duration": 9,
    "start_time": "2021-06-09T08:22:47.607Z"
   },
   {
    "duration": 14,
    "start_time": "2021-06-09T08:22:48.566Z"
   },
   {
    "duration": 10,
    "start_time": "2021-06-09T08:22:51.479Z"
   },
   {
    "duration": 34,
    "start_time": "2021-06-09T08:22:53.309Z"
   },
   {
    "duration": 249,
    "start_time": "2021-06-09T08:22:55.830Z"
   },
   {
    "duration": 434,
    "start_time": "2021-06-09T08:23:09.598Z"
   },
   {
    "duration": 1511,
    "start_time": "2021-06-09T08:25:30.830Z"
   },
   {
    "duration": 380,
    "start_time": "2021-06-09T08:25:32.344Z"
   },
   {
    "duration": 102,
    "start_time": "2021-06-09T08:25:32.728Z"
   },
   {
    "duration": 499,
    "start_time": "2021-06-09T08:25:32.833Z"
   },
   {
    "duration": 8,
    "start_time": "2021-06-09T08:25:33.335Z"
   },
   {
    "duration": 21,
    "start_time": "2021-06-09T08:25:33.346Z"
   },
   {
    "duration": 22,
    "start_time": "2021-06-09T08:25:33.370Z"
   },
   {
    "duration": 14,
    "start_time": "2021-06-09T08:25:33.395Z"
   },
   {
    "duration": 1326,
    "start_time": "2021-06-09T08:25:33.416Z"
   },
   {
    "duration": 5,
    "start_time": "2021-06-09T08:25:34.746Z"
   },
   {
    "duration": 14,
    "start_time": "2021-06-09T08:25:34.754Z"
   },
   {
    "duration": 5,
    "start_time": "2021-06-09T08:25:34.771Z"
   },
   {
    "duration": 45,
    "start_time": "2021-06-09T08:25:34.779Z"
   },
   {
    "duration": 19,
    "start_time": "2021-06-09T08:25:34.827Z"
   },
   {
    "duration": 11,
    "start_time": "2021-06-09T08:25:34.848Z"
   },
   {
    "duration": 4,
    "start_time": "2021-06-09T08:25:34.861Z"
   },
   {
    "duration": 7,
    "start_time": "2021-06-09T08:25:34.868Z"
   },
   {
    "duration": 757,
    "start_time": "2021-06-09T08:25:34.877Z"
   },
   {
    "duration": 659,
    "start_time": "2021-06-09T08:25:35.636Z"
   },
   {
    "duration": 156,
    "start_time": "2021-06-09T08:25:36.298Z"
   },
   {
    "duration": 116,
    "start_time": "2021-06-09T08:25:36.457Z"
   },
   {
    "duration": 372,
    "start_time": "2021-06-09T08:25:36.575Z"
   },
   {
    "duration": 353,
    "start_time": "2021-06-09T08:25:36.950Z"
   },
   {
    "duration": 385,
    "start_time": "2021-06-09T08:25:37.305Z"
   },
   {
    "duration": 41,
    "start_time": "2021-06-09T08:25:37.693Z"
   },
   {
    "duration": 25,
    "start_time": "2021-06-09T08:25:37.737Z"
   },
   {
    "duration": 60,
    "start_time": "2021-06-09T08:25:37.766Z"
   },
   {
    "duration": 282,
    "start_time": "2021-06-09T08:25:37.829Z"
   },
   {
    "duration": 7,
    "start_time": "2021-06-09T08:29:41.670Z"
   },
   {
    "duration": 406,
    "start_time": "2021-06-09T08:29:41.684Z"
   },
   {
    "duration": 93,
    "start_time": "2021-06-09T08:29:42.093Z"
   },
   {
    "duration": 481,
    "start_time": "2021-06-09T08:29:42.188Z"
   },
   {
    "duration": 8,
    "start_time": "2021-06-09T08:29:42.671Z"
   },
   {
    "duration": 12,
    "start_time": "2021-06-09T08:29:42.681Z"
   },
   {
    "duration": 6,
    "start_time": "2021-06-09T08:29:42.696Z"
   },
   {
    "duration": 20,
    "start_time": "2021-06-09T08:29:42.704Z"
   },
   {
    "duration": 1301,
    "start_time": "2021-06-09T08:29:42.726Z"
   },
   {
    "duration": 5,
    "start_time": "2021-06-09T08:29:44.033Z"
   },
   {
    "duration": 19,
    "start_time": "2021-06-09T08:29:44.042Z"
   },
   {
    "duration": 11,
    "start_time": "2021-06-09T08:29:44.064Z"
   },
   {
    "duration": 14,
    "start_time": "2021-06-09T08:29:44.077Z"
   },
   {
    "duration": 34,
    "start_time": "2021-06-09T08:29:44.094Z"
   },
   {
    "duration": 11,
    "start_time": "2021-06-09T08:29:44.131Z"
   },
   {
    "duration": 12,
    "start_time": "2021-06-09T08:29:44.144Z"
   },
   {
    "duration": 20,
    "start_time": "2021-06-09T08:29:44.158Z"
   },
   {
    "duration": 699,
    "start_time": "2021-06-09T08:29:44.180Z"
   },
   {
    "duration": 655,
    "start_time": "2021-06-09T08:29:44.882Z"
   },
   {
    "duration": 159,
    "start_time": "2021-06-09T08:29:45.539Z"
   },
   {
    "duration": 109,
    "start_time": "2021-06-09T08:29:45.700Z"
   },
   {
    "duration": 443,
    "start_time": "2021-06-09T08:29:45.811Z"
   },
   {
    "duration": 349,
    "start_time": "2021-06-09T08:29:46.257Z"
   },
   {
    "duration": 363,
    "start_time": "2021-06-09T08:29:46.609Z"
   },
   {
    "duration": 25,
    "start_time": "2021-06-09T08:29:46.975Z"
   },
   {
    "duration": 42,
    "start_time": "2021-06-09T08:29:47.003Z"
   },
   {
    "duration": 37,
    "start_time": "2021-06-09T08:29:47.048Z"
   },
   {
    "duration": 293,
    "start_time": "2021-06-09T08:29:47.092Z"
   },
   {
    "duration": 267,
    "start_time": "2021-06-09T08:29:47.389Z"
   },
   {
    "duration": 270,
    "start_time": "2021-06-09T08:29:47.659Z"
   },
   {
    "duration": 260,
    "start_time": "2021-06-09T08:29:47.931Z"
   },
   {
    "duration": 481,
    "start_time": "2021-06-09T08:29:48.194Z"
   },
   {
    "duration": 494,
    "start_time": "2021-06-09T08:29:48.677Z"
   },
   {
    "duration": 6,
    "start_time": "2021-06-09T08:29:49.174Z"
   },
   {
    "duration": 17,
    "start_time": "2021-06-09T08:29:49.183Z"
   },
   {
    "duration": 44,
    "start_time": "2021-06-09T08:29:49.203Z"
   },
   {
    "duration": 6,
    "start_time": "2021-06-09T08:29:49.250Z"
   },
   {
    "duration": 19,
    "start_time": "2021-06-09T08:29:49.259Z"
   },
   {
    "duration": 22,
    "start_time": "2021-06-09T08:29:49.281Z"
   },
   {
    "duration": 9,
    "start_time": "2021-06-09T08:29:49.325Z"
   },
   {
    "duration": 10,
    "start_time": "2021-06-09T08:29:49.337Z"
   },
   {
    "duration": 34,
    "start_time": "2021-06-09T08:29:49.350Z"
   },
   {
    "duration": 284,
    "start_time": "2021-06-09T08:29:49.387Z"
   },
   {
    "duration": 440,
    "start_time": "2021-06-09T08:29:49.674Z"
   },
   {
    "duration": 33,
    "start_time": "2021-06-09T08:29:50.124Z"
   },
   {
    "duration": 32,
    "start_time": "2021-06-09T08:29:50.159Z"
   },
   {
    "duration": 15,
    "start_time": "2021-06-09T08:30:12.643Z"
   },
   {
    "duration": 32,
    "start_time": "2021-06-09T08:30:18.468Z"
   },
   {
    "duration": 6,
    "start_time": "2021-06-09T08:31:50.170Z"
   },
   {
    "duration": 347,
    "start_time": "2021-06-09T08:33:44.287Z"
   },
   {
    "duration": 431,
    "start_time": "2021-06-09T08:33:46.598Z"
   },
   {
    "duration": 332,
    "start_time": "2021-06-09T08:33:52.582Z"
   },
   {
    "duration": 91,
    "start_time": "2021-06-09T08:50:04.236Z"
   },
   {
    "duration": 234,
    "start_time": "2021-06-09T08:50:38.515Z"
   },
   {
    "duration": 324,
    "start_time": "2021-06-09T08:50:49.576Z"
   },
   {
    "duration": 18,
    "start_time": "2021-06-09T08:51:36.106Z"
   },
   {
    "duration": 17,
    "start_time": "2021-06-09T08:51:59.525Z"
   },
   {
    "duration": 8,
    "start_time": "2021-06-09T08:52:09.378Z"
   },
   {
    "duration": 8,
    "start_time": "2021-06-09T08:52:27.905Z"
   },
   {
    "duration": 7,
    "start_time": "2021-06-09T08:52:38.954Z"
   },
   {
    "duration": 7,
    "start_time": "2021-06-09T08:52:45.675Z"
   },
   {
    "duration": 7,
    "start_time": "2021-06-09T08:52:50.538Z"
   },
   {
    "duration": 7,
    "start_time": "2021-06-09T08:52:54.843Z"
   },
   {
    "duration": 7,
    "start_time": "2021-06-09T08:52:59.499Z"
   },
   {
    "duration": 7,
    "start_time": "2021-06-09T08:53:08.508Z"
   },
   {
    "duration": 6,
    "start_time": "2021-06-09T08:53:59.805Z"
   },
   {
    "duration": 11,
    "start_time": "2021-06-09T08:56:18.506Z"
   },
   {
    "duration": 11,
    "start_time": "2021-06-09T08:56:19.158Z"
   },
   {
    "duration": 10,
    "start_time": "2021-06-09T08:56:19.718Z"
   },
   {
    "duration": 40,
    "start_time": "2021-06-09T08:56:23.055Z"
   },
   {
    "duration": 244,
    "start_time": "2021-06-09T08:56:31.422Z"
   },
   {
    "duration": 8,
    "start_time": "2021-06-09T08:56:37.103Z"
   },
   {
    "duration": 402,
    "start_time": "2021-06-09T08:56:47.352Z"
   },
   {
    "duration": 261,
    "start_time": "2021-06-09T08:58:24.075Z"
   },
   {
    "duration": 8,
    "start_time": "2021-06-09T09:01:01.776Z"
   },
   {
    "duration": 285,
    "start_time": "2021-06-09T09:01:20.829Z"
   },
   {
    "duration": 258,
    "start_time": "2021-06-09T09:01:33.068Z"
   },
   {
    "duration": 396,
    "start_time": "2021-06-09T09:01:53.980Z"
   },
   {
    "duration": 419,
    "start_time": "2021-06-09T09:02:02.031Z"
   },
   {
    "duration": 419,
    "start_time": "2021-06-09T09:02:08.117Z"
   },
   {
    "duration": 397,
    "start_time": "2021-06-09T09:02:21.333Z"
   },
   {
    "duration": 6,
    "start_time": "2021-06-09T09:02:42.237Z"
   },
   {
    "duration": 8,
    "start_time": "2021-06-09T09:02:55.639Z"
   },
   {
    "duration": 6,
    "start_time": "2021-06-09T09:03:01.604Z"
   },
   {
    "duration": 7,
    "start_time": "2021-06-09T09:03:08.349Z"
   },
   {
    "duration": 8,
    "start_time": "2021-06-09T09:03:13.038Z"
   },
   {
    "duration": 7,
    "start_time": "2021-06-09T09:03:17.247Z"
   },
   {
    "duration": 7,
    "start_time": "2021-06-09T09:03:32.039Z"
   },
   {
    "duration": 11,
    "start_time": "2021-06-09T09:24:35.152Z"
   },
   {
    "duration": 40,
    "start_time": "2021-06-09T09:24:37.003Z"
   },
   {
    "duration": 10,
    "start_time": "2021-06-09T09:25:56.159Z"
   },
   {
    "duration": 47,
    "start_time": "2021-06-09T09:25:56.888Z"
   },
   {
    "duration": 813,
    "start_time": "2021-06-09T09:25:58.535Z"
   },
   {
    "duration": 491,
    "start_time": "2021-06-09T09:26:25.136Z"
   },
   {
    "duration": 428,
    "start_time": "2021-06-09T09:26:37.736Z"
   },
   {
    "duration": 10,
    "start_time": "2021-06-09T09:27:24.277Z"
   },
   {
    "duration": 37,
    "start_time": "2021-06-09T09:27:24.953Z"
   },
   {
    "duration": 261,
    "start_time": "2021-06-09T09:27:25.594Z"
   },
   {
    "duration": 416,
    "start_time": "2021-06-09T09:27:29.600Z"
   },
   {
    "duration": 8,
    "start_time": "2021-06-09T09:27:31.067Z"
   },
   {
    "duration": 10,
    "start_time": "2021-06-09T09:27:34.970Z"
   },
   {
    "duration": 39,
    "start_time": "2021-06-09T09:27:35.929Z"
   },
   {
    "duration": 284,
    "start_time": "2021-06-09T09:27:36.884Z"
   },
   {
    "duration": 421,
    "start_time": "2021-06-09T09:27:38.514Z"
   },
   {
    "duration": 6468,
    "start_time": "2021-06-09T09:27:39.249Z"
   },
   {
    "duration": 6552,
    "start_time": "2021-06-09T09:28:24.628Z"
   },
   {
    "duration": 8,
    "start_time": "2021-06-09T09:29:08.304Z"
   },
   {
    "duration": 8,
    "start_time": "2021-06-09T09:29:30.178Z"
   },
   {
    "duration": 7,
    "start_time": "2021-06-09T09:29:36.963Z"
   },
   {
    "duration": 10,
    "start_time": "2021-06-09T09:31:41.153Z"
   },
   {
    "duration": 299,
    "start_time": "2021-06-09T09:31:42.525Z"
   },
   {
    "duration": 39,
    "start_time": "2021-06-09T09:31:45.534Z"
   },
   {
    "duration": 438,
    "start_time": "2021-06-09T09:31:46.988Z"
   },
   {
    "duration": 8,
    "start_time": "2021-06-09T09:32:58.550Z"
   },
   {
    "duration": 7,
    "start_time": "2021-06-09T09:33:12.679Z"
   },
   {
    "duration": 7,
    "start_time": "2021-06-09T09:33:21.240Z"
   },
   {
    "duration": 8,
    "start_time": "2021-06-09T09:33:31.447Z"
   },
   {
    "duration": 10,
    "start_time": "2021-06-09T09:34:51.848Z"
   },
   {
    "duration": 37,
    "start_time": "2021-06-09T09:34:52.809Z"
   },
   {
    "duration": 255,
    "start_time": "2021-06-09T09:34:54.763Z"
   },
   {
    "duration": 512,
    "start_time": "2021-06-09T09:34:57.463Z"
   },
   {
    "duration": 9,
    "start_time": "2021-06-09T09:35:03.792Z"
   },
   {
    "duration": 7,
    "start_time": "2021-06-09T09:35:10.519Z"
   },
   {
    "duration": 6,
    "start_time": "2021-06-09T09:35:19.746Z"
   },
   {
    "duration": 10,
    "start_time": "2021-06-09T09:35:24.497Z"
   },
   {
    "duration": 38,
    "start_time": "2021-06-09T09:35:24.972Z"
   },
   {
    "duration": 316,
    "start_time": "2021-06-09T09:35:25.689Z"
   },
   {
    "duration": 421,
    "start_time": "2021-06-09T09:35:27.240Z"
   },
   {
    "duration": 7,
    "start_time": "2021-06-09T09:35:27.907Z"
   },
   {
    "duration": 8,
    "start_time": "2021-06-09T09:35:34.762Z"
   },
   {
    "duration": 428,
    "start_time": "2021-06-09T09:35:38.976Z"
   },
   {
    "duration": 8,
    "start_time": "2021-06-09T09:35:40.608Z"
   },
   {
    "duration": 10,
    "start_time": "2021-06-09T09:35:42.337Z"
   },
   {
    "duration": 281,
    "start_time": "2021-06-09T09:35:42.995Z"
   },
   {
    "duration": 39,
    "start_time": "2021-06-09T09:35:43.879Z"
   },
   {
    "duration": 435,
    "start_time": "2021-06-09T09:35:44.562Z"
   },
   {
    "duration": 7,
    "start_time": "2021-06-09T09:35:45.617Z"
   },
   {
    "duration": 12,
    "start_time": "2021-06-09T09:36:14.674Z"
   },
   {
    "duration": 38,
    "start_time": "2021-06-09T09:36:15.187Z"
   },
   {
    "duration": 286,
    "start_time": "2021-06-09T09:36:16.059Z"
   },
   {
    "duration": 554,
    "start_time": "2021-06-09T09:36:17.442Z"
   },
   {
    "duration": 7,
    "start_time": "2021-06-09T09:36:34.458Z"
   },
   {
    "duration": 10,
    "start_time": "2021-06-09T09:37:56.612Z"
   },
   {
    "duration": 276,
    "start_time": "2021-06-09T09:37:57.411Z"
   },
   {
    "duration": 38,
    "start_time": "2021-06-09T09:38:00.022Z"
   },
   {
    "duration": 454,
    "start_time": "2021-06-09T09:38:01.004Z"
   },
   {
    "duration": 7,
    "start_time": "2021-06-09T09:38:06.709Z"
   },
   {
    "duration": 7,
    "start_time": "2021-06-09T09:38:13.805Z"
   },
   {
    "duration": 8,
    "start_time": "2021-06-09T09:38:21.623Z"
   },
   {
    "duration": 7,
    "start_time": "2021-06-09T09:53:26.896Z"
   },
   {
    "duration": 112,
    "start_time": "2021-06-09T09:53:28.733Z"
   },
   {
    "duration": 19,
    "start_time": "2021-06-09T09:53:47.303Z"
   },
   {
    "duration": 7,
    "start_time": "2021-06-09T09:54:18.693Z"
   },
   {
    "duration": 19,
    "start_time": "2021-06-09T09:54:39.293Z"
   },
   {
    "duration": 13,
    "start_time": "2021-06-09T09:55:53.519Z"
   },
   {
    "duration": 7,
    "start_time": "2021-06-09T09:55:55.519Z"
   },
   {
    "duration": 36,
    "start_time": "2021-06-09T09:55:56.207Z"
   },
   {
    "duration": 253,
    "start_time": "2021-06-09T09:55:56.736Z"
   },
   {
    "duration": 404,
    "start_time": "2021-06-09T09:55:57.271Z"
   },
   {
    "duration": 7,
    "start_time": "2021-06-09T09:55:58.030Z"
   },
   {
    "duration": 7,
    "start_time": "2021-06-09T09:56:00.280Z"
   },
   {
    "duration": 37,
    "start_time": "2021-06-09T09:56:00.750Z"
   },
   {
    "duration": 289,
    "start_time": "2021-06-09T09:56:01.655Z"
   },
   {
    "duration": 429,
    "start_time": "2021-06-09T09:56:02.167Z"
   },
   {
    "duration": 7,
    "start_time": "2021-06-09T09:56:02.766Z"
   },
   {
    "duration": 7,
    "start_time": "2021-06-09T09:56:04.326Z"
   },
   {
    "duration": 276,
    "start_time": "2021-06-09T09:56:04.766Z"
   },
   {
    "duration": 37,
    "start_time": "2021-06-09T09:56:05.239Z"
   },
   {
    "duration": 437,
    "start_time": "2021-06-09T09:56:05.798Z"
   },
   {
    "duration": 7,
    "start_time": "2021-06-09T09:56:06.256Z"
   },
   {
    "duration": 6,
    "start_time": "2021-06-09T10:00:38.718Z"
   },
   {
    "duration": 8,
    "start_time": "2021-06-09T10:01:12.892Z"
   },
   {
    "duration": 428,
    "start_time": "2021-06-09T10:01:13.356Z"
   },
   {
    "duration": 261,
    "start_time": "2021-06-09T10:01:15.901Z"
   },
   {
    "duration": 403,
    "start_time": "2021-06-09T10:01:26.844Z"
   },
   {
    "duration": 8,
    "start_time": "2021-06-09T10:01:59.701Z"
   },
   {
    "duration": 7,
    "start_time": "2021-06-09T10:02:04.230Z"
   },
   {
    "duration": 440,
    "start_time": "2021-06-09T10:02:08.350Z"
   },
   {
    "duration": 293,
    "start_time": "2021-06-09T10:02:14.301Z"
   },
   {
    "duration": 434,
    "start_time": "2021-06-09T10:02:24.493Z"
   },
   {
    "duration": 9,
    "start_time": "2021-06-09T10:02:34.925Z"
   },
   {
    "duration": 8,
    "start_time": "2021-06-09T10:02:42.325Z"
   },
   {
    "duration": 296,
    "start_time": "2021-06-09T10:02:48.198Z"
   },
   {
    "duration": 433,
    "start_time": "2021-06-09T10:02:52.695Z"
   },
   {
    "duration": 435,
    "start_time": "2021-06-09T10:03:00.823Z"
   },
   {
    "duration": 8,
    "start_time": "2021-06-09T10:03:15.327Z"
   },
   {
    "duration": 5,
    "start_time": "2021-06-09T10:03:19.766Z"
   },
   {
    "duration": 7509,
    "start_time": "2021-06-09T10:05:40.990Z"
   },
   {
    "duration": 7241,
    "start_time": "2021-06-09T10:05:56.195Z"
   },
   {
    "duration": 98,
    "start_time": "2021-06-09T10:06:19.970Z"
   },
   {
    "duration": 93,
    "start_time": "2021-06-09T10:06:32.130Z"
   },
   {
    "duration": 8,
    "start_time": "2021-06-09T10:06:45.267Z"
   },
   {
    "duration": 1404,
    "start_time": "2021-06-09T10:07:31.528Z"
   },
   {
    "duration": 445,
    "start_time": "2021-06-09T10:07:32.934Z"
   },
   {
    "duration": 103,
    "start_time": "2021-06-09T10:07:33.382Z"
   },
   {
    "duration": 544,
    "start_time": "2021-06-09T10:07:33.488Z"
   },
   {
    "duration": 7,
    "start_time": "2021-06-09T10:07:34.035Z"
   },
   {
    "duration": 37,
    "start_time": "2021-06-09T10:07:34.045Z"
   },
   {
    "duration": 23,
    "start_time": "2021-06-09T10:07:34.085Z"
   },
   {
    "duration": 21,
    "start_time": "2021-06-09T10:07:34.111Z"
   },
   {
    "duration": 1316,
    "start_time": "2021-06-09T10:07:34.135Z"
   },
   {
    "duration": 3,
    "start_time": "2021-06-09T10:07:35.454Z"
   },
   {
    "duration": 27,
    "start_time": "2021-06-09T10:07:35.459Z"
   },
   {
    "duration": 16,
    "start_time": "2021-06-09T10:07:35.488Z"
   },
   {
    "duration": 17,
    "start_time": "2021-06-09T10:07:35.507Z"
   },
   {
    "duration": 24,
    "start_time": "2021-06-09T10:07:35.527Z"
   },
   {
    "duration": 9,
    "start_time": "2021-06-09T10:07:35.553Z"
   },
   {
    "duration": 4,
    "start_time": "2021-06-09T10:07:35.565Z"
   },
   {
    "duration": 8,
    "start_time": "2021-06-09T10:07:35.571Z"
   },
   {
    "duration": 749,
    "start_time": "2021-06-09T10:07:35.581Z"
   },
   {
    "duration": 650,
    "start_time": "2021-06-09T10:07:36.332Z"
   },
   {
    "duration": 175,
    "start_time": "2021-06-09T10:07:36.985Z"
   },
   {
    "duration": 113,
    "start_time": "2021-06-09T10:07:37.162Z"
   },
   {
    "duration": 375,
    "start_time": "2021-06-09T10:07:37.277Z"
   },
   {
    "duration": 346,
    "start_time": "2021-06-09T10:07:37.657Z"
   },
   {
    "duration": 361,
    "start_time": "2021-06-09T10:07:38.006Z"
   },
   {
    "duration": 26,
    "start_time": "2021-06-09T10:07:38.370Z"
   },
   {
    "duration": 47,
    "start_time": "2021-06-09T10:07:38.399Z"
   },
   {
    "duration": 35,
    "start_time": "2021-06-09T10:07:38.449Z"
   },
   {
    "duration": 290,
    "start_time": "2021-06-09T10:07:38.487Z"
   },
   {
    "duration": 262,
    "start_time": "2021-06-09T10:07:38.780Z"
   },
   {
    "duration": 341,
    "start_time": "2021-06-09T10:07:39.045Z"
   },
   {
    "duration": 262,
    "start_time": "2021-06-09T10:07:39.388Z"
   },
   {
    "duration": 483,
    "start_time": "2021-06-09T10:07:39.652Z"
   },
   {
    "duration": 501,
    "start_time": "2021-06-09T10:07:40.138Z"
   },
   {
    "duration": 5,
    "start_time": "2021-06-09T10:07:40.641Z"
   },
   {
    "duration": 20,
    "start_time": "2021-06-09T10:07:40.649Z"
   },
   {
    "duration": 38,
    "start_time": "2021-06-09T10:07:40.672Z"
   },
   {
    "duration": 14,
    "start_time": "2021-06-09T10:07:40.712Z"
   },
   {
    "duration": 24,
    "start_time": "2021-06-09T10:07:40.729Z"
   },
   {
    "duration": 27,
    "start_time": "2021-06-09T10:07:40.756Z"
   },
   {
    "duration": 447,
    "start_time": "2021-06-09T10:07:40.785Z"
   },
   {
    "duration": 291,
    "start_time": "2021-06-09T10:07:41.235Z"
   },
   {
    "duration": 436,
    "start_time": "2021-06-09T10:07:41.529Z"
   },
   {
    "duration": 10,
    "start_time": "2021-06-09T10:07:41.968Z"
   },
   {
    "duration": 10,
    "start_time": "2021-06-09T10:07:41.980Z"
   },
   {
    "duration": 477,
    "start_time": "2021-06-09T10:07:41.992Z"
   },
   {
    "duration": 313,
    "start_time": "2021-06-09T10:07:42.471Z"
   },
   {
    "duration": 466,
    "start_time": "2021-06-09T10:07:42.787Z"
   },
   {
    "duration": 8,
    "start_time": "2021-06-09T10:07:43.256Z"
   },
   {
    "duration": 25,
    "start_time": "2021-06-09T10:07:43.266Z"
   },
   {
    "duration": 318,
    "start_time": "2021-06-09T10:07:43.293Z"
   },
   {
    "duration": 440,
    "start_time": "2021-06-09T10:07:43.614Z"
   },
   {
    "duration": 450,
    "start_time": "2021-06-09T10:07:44.056Z"
   },
   {
    "duration": 16,
    "start_time": "2021-06-09T10:07:44.509Z"
   },
   {
    "duration": 4,
    "start_time": "2021-06-09T10:07:44.527Z"
   },
   {
    "duration": 7369,
    "start_time": "2021-06-09T10:07:44.533Z"
   },
   {
    "duration": 5,
    "start_time": "2021-06-09T10:07:51.904Z"
   },
   {
    "duration": 9,
    "start_time": "2021-06-09T10:08:53.140Z"
   },
   {
    "duration": 5,
    "start_time": "2021-06-09T10:08:56.370Z"
   },
   {
    "duration": 13,
    "start_time": "2021-06-09T10:09:15.746Z"
   },
   {
    "duration": 5,
    "start_time": "2021-06-09T10:09:17.762Z"
   },
   {
    "duration": 5,
    "start_time": "2021-06-09T10:10:41.523Z"
   },
   {
    "duration": 1485,
    "start_time": "2021-06-09T10:10:54.982Z"
   },
   {
    "duration": 379,
    "start_time": "2021-06-09T10:10:56.470Z"
   },
   {
    "duration": 106,
    "start_time": "2021-06-09T10:10:56.852Z"
   },
   {
    "duration": 478,
    "start_time": "2021-06-09T10:10:56.961Z"
   },
   {
    "duration": 8,
    "start_time": "2021-06-09T10:10:57.441Z"
   },
   {
    "duration": 35,
    "start_time": "2021-06-09T10:10:57.451Z"
   },
   {
    "duration": 31,
    "start_time": "2021-06-09T10:10:57.489Z"
   },
   {
    "duration": 15,
    "start_time": "2021-06-09T10:10:57.523Z"
   },
   {
    "duration": 1349,
    "start_time": "2021-06-09T10:10:57.541Z"
   },
   {
    "duration": 4,
    "start_time": "2021-06-09T10:10:58.893Z"
   },
   {
    "duration": 31,
    "start_time": "2021-06-09T10:10:58.899Z"
   },
   {
    "duration": 11,
    "start_time": "2021-06-09T10:10:58.932Z"
   },
   {
    "duration": 15,
    "start_time": "2021-06-09T10:10:58.945Z"
   },
   {
    "duration": 38,
    "start_time": "2021-06-09T10:10:58.962Z"
   },
   {
    "duration": 11,
    "start_time": "2021-06-09T10:10:59.002Z"
   },
   {
    "duration": 22,
    "start_time": "2021-06-09T10:10:59.015Z"
   },
   {
    "duration": 11,
    "start_time": "2021-06-09T10:10:59.040Z"
   },
   {
    "duration": 725,
    "start_time": "2021-06-09T10:10:59.054Z"
   },
   {
    "duration": 660,
    "start_time": "2021-06-09T10:10:59.781Z"
   },
   {
    "duration": 178,
    "start_time": "2021-06-09T10:11:00.443Z"
   },
   {
    "duration": 126,
    "start_time": "2021-06-09T10:11:00.623Z"
   },
   {
    "duration": 577,
    "start_time": "2021-06-09T10:11:00.752Z"
   },
   {
    "duration": 532,
    "start_time": "2021-06-09T10:11:01.339Z"
   },
   {
    "duration": 621,
    "start_time": "2021-06-09T10:11:01.876Z"
   },
   {
    "duration": 35,
    "start_time": "2021-06-09T10:11:02.499Z"
   },
   {
    "duration": 23,
    "start_time": "2021-06-09T10:11:02.537Z"
   },
   {
    "duration": 35,
    "start_time": "2021-06-09T10:11:02.562Z"
   },
   {
    "duration": 265,
    "start_time": "2021-06-09T10:11:02.624Z"
   },
   {
    "duration": 282,
    "start_time": "2021-06-09T10:11:02.892Z"
   },
   {
    "duration": 450,
    "start_time": "2021-06-09T10:11:03.177Z"
   },
   {
    "duration": 337,
    "start_time": "2021-06-09T10:11:03.630Z"
   },
   {
    "duration": 646,
    "start_time": "2021-06-09T10:11:03.969Z"
   },
   {
    "duration": 745,
    "start_time": "2021-06-09T10:11:04.628Z"
   },
   {
    "duration": 6,
    "start_time": "2021-06-09T10:11:05.377Z"
   },
   {
    "duration": 15,
    "start_time": "2021-06-09T10:11:05.386Z"
   },
   {
    "duration": 55,
    "start_time": "2021-06-09T10:11:05.404Z"
   },
   {
    "duration": 6,
    "start_time": "2021-06-09T10:11:05.462Z"
   },
   {
    "duration": 20,
    "start_time": "2021-06-09T10:11:05.471Z"
   },
   {
    "duration": 34,
    "start_time": "2021-06-09T10:11:05.493Z"
   },
   {
    "duration": 432,
    "start_time": "2021-06-09T10:11:05.530Z"
   },
   {
    "duration": 286,
    "start_time": "2021-06-09T10:11:05.965Z"
   },
   {
    "duration": 428,
    "start_time": "2021-06-09T10:11:06.254Z"
   },
   {
    "duration": 9,
    "start_time": "2021-06-09T10:11:06.684Z"
   },
   {
    "duration": 29,
    "start_time": "2021-06-09T10:11:06.695Z"
   },
   {
    "duration": 455,
    "start_time": "2021-06-09T10:11:06.726Z"
   },
   {
    "duration": 348,
    "start_time": "2021-06-09T10:11:07.183Z"
   },
   {
    "duration": 619,
    "start_time": "2021-06-09T10:11:07.533Z"
   },
   {
    "duration": 8,
    "start_time": "2021-06-09T10:11:08.155Z"
   },
   {
    "duration": 10,
    "start_time": "2021-06-09T10:11:08.165Z"
   },
   {
    "duration": 470,
    "start_time": "2021-06-09T10:11:08.177Z"
   },
   {
    "duration": 591,
    "start_time": "2021-06-09T10:11:08.649Z"
   },
   {
    "duration": 484,
    "start_time": "2021-06-09T10:11:09.243Z"
   },
   {
    "duration": 10,
    "start_time": "2021-06-09T10:11:09.732Z"
   },
   {
    "duration": 8,
    "start_time": "2021-06-09T10:11:09.744Z"
   },
   {
    "duration": 14,
    "start_time": "2021-06-09T10:11:09.754Z"
   },
   {
    "duration": 4,
    "start_time": "2021-06-09T10:11:09.771Z"
   },
   {
    "duration": 423,
    "start_time": "2021-06-09T10:11:30.648Z"
   },
   {
    "duration": 413,
    "start_time": "2021-06-09T10:15:41.507Z"
   },
   {
    "duration": 296,
    "start_time": "2021-06-09T10:16:12.549Z"
   },
   {
    "duration": 14,
    "start_time": "2021-06-09T10:17:08.372Z"
   },
   {
    "duration": 5,
    "start_time": "2021-06-09T10:17:12.637Z"
   },
   {
    "duration": 13,
    "start_time": "2021-06-09T10:17:13.909Z"
   },
   {
    "duration": 6,
    "start_time": "2021-06-09T10:17:14.636Z"
   },
   {
    "duration": 1393,
    "start_time": "2021-06-09T10:17:24.968Z"
   },
   {
    "duration": 364,
    "start_time": "2021-06-09T10:17:26.364Z"
   },
   {
    "duration": 99,
    "start_time": "2021-06-09T10:17:26.730Z"
   },
   {
    "duration": 472,
    "start_time": "2021-06-09T10:17:26.831Z"
   },
   {
    "duration": 8,
    "start_time": "2021-06-09T10:17:27.306Z"
   },
   {
    "duration": 12,
    "start_time": "2021-06-09T10:17:27.316Z"
   },
   {
    "duration": 16,
    "start_time": "2021-06-09T10:17:27.330Z"
   },
   {
    "duration": 12,
    "start_time": "2021-06-09T10:17:27.350Z"
   },
   {
    "duration": 1315,
    "start_time": "2021-06-09T10:17:27.365Z"
   },
   {
    "duration": 4,
    "start_time": "2021-06-09T10:17:28.682Z"
   },
   {
    "duration": 14,
    "start_time": "2021-06-09T10:17:28.688Z"
   },
   {
    "duration": 22,
    "start_time": "2021-06-09T10:17:28.704Z"
   },
   {
    "duration": 8,
    "start_time": "2021-06-09T10:17:28.728Z"
   },
   {
    "duration": 17,
    "start_time": "2021-06-09T10:17:28.738Z"
   },
   {
    "duration": 7,
    "start_time": "2021-06-09T10:17:28.757Z"
   },
   {
    "duration": 4,
    "start_time": "2021-06-09T10:17:28.766Z"
   },
   {
    "duration": 11,
    "start_time": "2021-06-09T10:17:28.772Z"
   },
   {
    "duration": 715,
    "start_time": "2021-06-09T10:17:28.825Z"
   },
   {
    "duration": 635,
    "start_time": "2021-06-09T10:17:29.542Z"
   },
   {
    "duration": 157,
    "start_time": "2021-06-09T10:17:30.179Z"
   },
   {
    "duration": 118,
    "start_time": "2021-06-09T10:17:30.338Z"
   },
   {
    "duration": 374,
    "start_time": "2021-06-09T10:17:30.458Z"
   },
   {
    "duration": 343,
    "start_time": "2021-06-09T10:17:30.837Z"
   },
   {
    "duration": 357,
    "start_time": "2021-06-09T10:17:31.184Z"
   },
   {
    "duration": 24,
    "start_time": "2021-06-09T10:17:31.543Z"
   },
   {
    "duration": 24,
    "start_time": "2021-06-09T10:17:31.569Z"
   },
   {
    "duration": 37,
    "start_time": "2021-06-09T10:17:31.624Z"
   },
   {
    "duration": 274,
    "start_time": "2021-06-09T10:17:31.663Z"
   },
   {
    "duration": 269,
    "start_time": "2021-06-09T10:17:31.939Z"
   },
   {
    "duration": 322,
    "start_time": "2021-06-09T10:17:32.210Z"
   },
   {
    "duration": 267,
    "start_time": "2021-06-09T10:17:32.534Z"
   },
   {
    "duration": 585,
    "start_time": "2021-06-09T10:17:32.803Z"
   },
   {
    "duration": 619,
    "start_time": "2021-06-09T10:17:33.391Z"
   },
   {
    "duration": 13,
    "start_time": "2021-06-09T10:17:34.012Z"
   },
   {
    "duration": 6,
    "start_time": "2021-06-09T10:17:34.028Z"
   },
   {
    "duration": 25,
    "start_time": "2021-06-09T10:17:34.037Z"
   },
   {
    "duration": 5,
    "start_time": "2021-06-09T10:17:34.065Z"
   },
   {
    "duration": 8,
    "start_time": "2021-06-09T10:17:34.072Z"
   },
   {
    "duration": 47,
    "start_time": "2021-06-09T10:17:34.082Z"
   },
   {
    "duration": 435,
    "start_time": "2021-06-09T10:17:34.132Z"
   },
   {
    "duration": 280,
    "start_time": "2021-06-09T10:17:34.569Z"
   },
   {
    "duration": 427,
    "start_time": "2021-06-09T10:17:34.851Z"
   },
   {
    "duration": 8,
    "start_time": "2021-06-09T10:17:35.280Z"
   },
   {
    "duration": 14,
    "start_time": "2021-06-09T10:17:35.290Z"
   },
   {
    "duration": 459,
    "start_time": "2021-06-09T10:17:35.306Z"
   },
   {
    "duration": 310,
    "start_time": "2021-06-09T10:17:35.767Z"
   },
   {
    "duration": 448,
    "start_time": "2021-06-09T10:17:36.080Z"
   },
   {
    "duration": 8,
    "start_time": "2021-06-09T10:17:36.531Z"
   },
   {
    "duration": 14,
    "start_time": "2021-06-09T10:17:36.541Z"
   },
   {
    "duration": 299,
    "start_time": "2021-06-09T10:17:36.557Z"
   },
   {
    "duration": 466,
    "start_time": "2021-06-09T10:17:36.858Z"
   },
   {
    "duration": 441,
    "start_time": "2021-06-09T10:17:37.326Z"
   },
   {
    "duration": 8,
    "start_time": "2021-06-09T10:17:37.769Z"
   },
   {
    "duration": 21,
    "start_time": "2021-06-09T10:17:37.779Z"
   },
   {
    "duration": 27,
    "start_time": "2021-06-09T10:17:37.803Z"
   },
   {
    "duration": 6,
    "start_time": "2021-06-09T10:17:37.832Z"
   },
   {
    "duration": 1375,
    "start_time": "2021-06-09T10:25:42.369Z"
   },
   {
    "duration": 369,
    "start_time": "2021-06-09T10:25:43.747Z"
   },
   {
    "duration": 101,
    "start_time": "2021-06-09T10:25:44.119Z"
   },
   {
    "duration": 472,
    "start_time": "2021-06-09T10:25:44.223Z"
   },
   {
    "duration": 8,
    "start_time": "2021-06-09T10:25:44.697Z"
   },
   {
    "duration": 16,
    "start_time": "2021-06-09T10:25:44.707Z"
   },
   {
    "duration": 3,
    "start_time": "2021-06-09T10:25:44.725Z"
   },
   {
    "duration": 3,
    "start_time": "2021-06-09T10:25:44.732Z"
   },
   {
    "duration": 1322,
    "start_time": "2021-06-09T10:25:44.737Z"
   },
   {
    "duration": 3,
    "start_time": "2021-06-09T10:25:46.062Z"
   },
   {
    "duration": 13,
    "start_time": "2021-06-09T10:25:46.068Z"
   },
   {
    "duration": 4,
    "start_time": "2021-06-09T10:25:46.084Z"
   },
   {
    "duration": 34,
    "start_time": "2021-06-09T10:25:46.090Z"
   },
   {
    "duration": 15,
    "start_time": "2021-06-09T10:25:46.127Z"
   },
   {
    "duration": 7,
    "start_time": "2021-06-09T10:25:46.144Z"
   },
   {
    "duration": 4,
    "start_time": "2021-06-09T10:25:46.154Z"
   },
   {
    "duration": 13,
    "start_time": "2021-06-09T10:25:46.160Z"
   },
   {
    "duration": 755,
    "start_time": "2021-06-09T10:25:46.175Z"
   },
   {
    "duration": 649,
    "start_time": "2021-06-09T10:25:46.932Z"
   },
   {
    "duration": 151,
    "start_time": "2021-06-09T10:25:47.584Z"
   },
   {
    "duration": 118,
    "start_time": "2021-06-09T10:25:47.737Z"
   },
   {
    "duration": 393,
    "start_time": "2021-06-09T10:25:47.857Z"
   },
   {
    "duration": 371,
    "start_time": "2021-06-09T10:25:48.256Z"
   },
   {
    "duration": 432,
    "start_time": "2021-06-09T10:25:48.632Z"
   },
   {
    "duration": 25,
    "start_time": "2021-06-09T10:25:49.066Z"
   },
   {
    "duration": 46,
    "start_time": "2021-06-09T10:25:49.093Z"
   },
   {
    "duration": 36,
    "start_time": "2021-06-09T10:25:49.142Z"
   },
   {
    "duration": 299,
    "start_time": "2021-06-09T10:25:49.181Z"
   },
   {
    "duration": 282,
    "start_time": "2021-06-09T10:25:49.482Z"
   },
   {
    "duration": 334,
    "start_time": "2021-06-09T10:25:49.767Z"
   },
   {
    "duration": 270,
    "start_time": "2021-06-09T10:25:50.103Z"
   },
   {
    "duration": 479,
    "start_time": "2021-06-09T10:25:50.375Z"
   },
   {
    "duration": 505,
    "start_time": "2021-06-09T10:25:50.856Z"
   },
   {
    "duration": 5,
    "start_time": "2021-06-09T10:25:51.363Z"
   },
   {
    "duration": 7,
    "start_time": "2021-06-09T10:25:51.370Z"
   },
   {
    "duration": 52,
    "start_time": "2021-06-09T10:25:51.379Z"
   },
   {
    "duration": 5,
    "start_time": "2021-06-09T10:25:51.433Z"
   },
   {
    "duration": 16,
    "start_time": "2021-06-09T10:25:51.441Z"
   },
   {
    "duration": 8,
    "start_time": "2021-06-09T10:25:51.460Z"
   },
   {
    "duration": 450,
    "start_time": "2021-06-09T10:25:51.470Z"
   },
   {
    "duration": 277,
    "start_time": "2021-06-09T10:25:51.925Z"
   },
   {
    "duration": 446,
    "start_time": "2021-06-09T10:25:52.205Z"
   },
   {
    "duration": 8,
    "start_time": "2021-06-09T10:25:52.653Z"
   },
   {
    "duration": 14,
    "start_time": "2021-06-09T10:25:52.663Z"
   },
   {
    "duration": 447,
    "start_time": "2021-06-09T10:25:52.679Z"
   },
   {
    "duration": 326,
    "start_time": "2021-06-09T10:25:53.128Z"
   },
   {
    "duration": 458,
    "start_time": "2021-06-09T10:25:53.457Z"
   },
   {
    "duration": 10,
    "start_time": "2021-06-09T10:25:53.924Z"
   },
   {
    "duration": 11,
    "start_time": "2021-06-09T10:25:53.937Z"
   },
   {
    "duration": 325,
    "start_time": "2021-06-09T10:25:53.950Z"
   },
   {
    "duration": 453,
    "start_time": "2021-06-09T10:25:54.278Z"
   },
   {
    "duration": 469,
    "start_time": "2021-06-09T10:25:54.734Z"
   },
   {
    "duration": 9,
    "start_time": "2021-06-09T10:25:55.205Z"
   },
   {
    "duration": 17,
    "start_time": "2021-06-09T10:25:55.225Z"
   },
   {
    "duration": 14,
    "start_time": "2021-06-09T10:25:55.245Z"
   },
   {
    "duration": 5,
    "start_time": "2021-06-09T10:25:55.262Z"
   },
   {
    "duration": 468,
    "start_time": "2021-06-09T11:59:29.709Z"
   },
   {
    "duration": 712,
    "start_time": "2021-06-09T11:59:30.475Z"
   },
   {
    "duration": 5,
    "start_time": "2021-06-09T12:04:52.587Z"
   },
   {
    "duration": 6,
    "start_time": "2021-06-09T12:32:22.344Z"
   },
   {
    "duration": 6,
    "start_time": "2021-06-09T12:32:26.147Z"
   },
   {
    "duration": 5,
    "start_time": "2021-06-09T12:32:37.607Z"
   },
   {
    "duration": 1402,
    "start_time": "2021-06-09T12:41:03.445Z"
   },
   {
    "duration": 418,
    "start_time": "2021-06-09T12:41:04.849Z"
   },
   {
    "duration": 106,
    "start_time": "2021-06-09T12:41:05.270Z"
   },
   {
    "duration": 504,
    "start_time": "2021-06-09T12:41:05.380Z"
   },
   {
    "duration": 7,
    "start_time": "2021-06-09T12:41:05.887Z"
   },
   {
    "duration": 22,
    "start_time": "2021-06-09T12:41:05.897Z"
   },
   {
    "duration": 11,
    "start_time": "2021-06-09T12:41:05.921Z"
   },
   {
    "duration": 15,
    "start_time": "2021-06-09T12:41:05.936Z"
   },
   {
    "duration": 1320,
    "start_time": "2021-06-09T12:41:05.954Z"
   },
   {
    "duration": 4,
    "start_time": "2021-06-09T12:41:07.276Z"
   },
   {
    "duration": 26,
    "start_time": "2021-06-09T12:41:07.282Z"
   },
   {
    "duration": 18,
    "start_time": "2021-06-09T12:41:07.310Z"
   },
   {
    "duration": 26,
    "start_time": "2021-06-09T12:41:07.335Z"
   },
   {
    "duration": 39,
    "start_time": "2021-06-09T12:41:07.363Z"
   },
   {
    "duration": 23,
    "start_time": "2021-06-09T12:41:07.405Z"
   },
   {
    "duration": 4,
    "start_time": "2021-06-09T12:41:13.942Z"
   },
   {
    "duration": 5,
    "start_time": "2021-06-09T12:41:15.471Z"
   },
   {
    "duration": 6,
    "start_time": "2021-06-09T12:41:33.414Z"
   },
   {
    "duration": 467,
    "start_time": "2021-06-09T12:41:33.428Z"
   },
   {
    "duration": 102,
    "start_time": "2021-06-09T12:41:33.898Z"
   },
   {
    "duration": 499,
    "start_time": "2021-06-09T12:41:34.002Z"
   },
   {
    "duration": 7,
    "start_time": "2021-06-09T12:41:34.504Z"
   },
   {
    "duration": 23,
    "start_time": "2021-06-09T12:41:34.514Z"
   },
   {
    "duration": 16,
    "start_time": "2021-06-09T12:41:34.540Z"
   },
   {
    "duration": 14,
    "start_time": "2021-06-09T12:41:34.558Z"
   },
   {
    "duration": 1312,
    "start_time": "2021-06-09T12:41:34.574Z"
   },
   {
    "duration": 6,
    "start_time": "2021-06-09T12:41:35.891Z"
   },
   {
    "duration": 29,
    "start_time": "2021-06-09T12:41:35.901Z"
   },
   {
    "duration": 8,
    "start_time": "2021-06-09T12:41:35.933Z"
   },
   {
    "duration": 9,
    "start_time": "2021-06-09T12:41:35.944Z"
   },
   {
    "duration": 16,
    "start_time": "2021-06-09T12:41:35.956Z"
   },
   {
    "duration": 15,
    "start_time": "2021-06-09T12:41:35.976Z"
   },
   {
    "duration": 33,
    "start_time": "2021-06-09T12:41:35.993Z"
   },
   {
    "duration": 11,
    "start_time": "2021-06-09T12:41:36.028Z"
   },
   {
    "duration": 731,
    "start_time": "2021-06-09T12:41:36.042Z"
   },
   {
    "duration": 649,
    "start_time": "2021-06-09T12:41:36.775Z"
   },
   {
    "duration": 144,
    "start_time": "2021-06-09T12:41:37.426Z"
   },
   {
    "duration": 116,
    "start_time": "2021-06-09T12:41:37.572Z"
   },
   {
    "duration": 383,
    "start_time": "2021-06-09T12:41:37.690Z"
   },
   {
    "duration": 351,
    "start_time": "2021-06-09T12:41:38.075Z"
   },
   {
    "duration": 350,
    "start_time": "2021-06-09T12:41:38.429Z"
   },
   {
    "duration": 53,
    "start_time": "2021-06-09T12:41:38.782Z"
   },
   {
    "duration": 254,
    "start_time": "2021-06-09T12:41:38.838Z"
   },
   {
    "duration": 260,
    "start_time": "2021-06-09T12:41:39.095Z"
   },
   {
    "duration": 332,
    "start_time": "2021-06-09T12:41:39.360Z"
   },
   {
    "duration": 261,
    "start_time": "2021-06-09T12:41:39.695Z"
   },
   {
    "duration": 476,
    "start_time": "2021-06-09T12:41:39.959Z"
   },
   {
    "duration": 487,
    "start_time": "2021-06-09T12:41:40.437Z"
   },
   {
    "duration": 5,
    "start_time": "2021-06-09T12:41:40.926Z"
   },
   {
    "duration": 26,
    "start_time": "2021-06-09T12:41:40.933Z"
   },
   {
    "duration": 44,
    "start_time": "2021-06-09T12:41:40.961Z"
   },
   {
    "duration": 17,
    "start_time": "2021-06-09T12:41:41.007Z"
   },
   {
    "duration": 33,
    "start_time": "2021-06-09T12:41:41.026Z"
   },
   {
    "duration": 30,
    "start_time": "2021-06-09T12:41:41.061Z"
   },
   {
    "duration": 273,
    "start_time": "2021-06-09T12:41:41.093Z"
   },
   {
    "duration": 422,
    "start_time": "2021-06-09T12:41:41.369Z"
   },
   {
    "duration": 8,
    "start_time": "2021-06-09T12:41:41.793Z"
   },
   {
    "duration": 24,
    "start_time": "2021-06-09T12:41:41.803Z"
   },
   {
    "duration": 317,
    "start_time": "2021-06-09T12:41:41.829Z"
   },
   {
    "duration": 459,
    "start_time": "2021-06-09T12:41:42.149Z"
   },
   {
    "duration": 16,
    "start_time": "2021-06-09T12:41:42.610Z"
   },
   {
    "duration": 15,
    "start_time": "2021-06-09T12:41:42.629Z"
   },
   {
    "duration": 312,
    "start_time": "2021-06-09T12:41:42.646Z"
   },
   {
    "duration": 463,
    "start_time": "2021-06-09T12:41:42.961Z"
   },
   {
    "duration": 9,
    "start_time": "2021-06-09T12:41:43.426Z"
   },
   {
    "duration": 21,
    "start_time": "2021-06-09T12:41:43.437Z"
   },
   {
    "duration": 26,
    "start_time": "2021-06-09T12:41:43.461Z"
   },
   {
    "duration": 29,
    "start_time": "2021-06-09T12:41:43.489Z"
   },
   {
    "duration": 20,
    "start_time": "2021-06-09T12:41:43.521Z"
   },
   {
    "duration": 385,
    "start_time": "2021-06-09T12:48:02.395Z"
   },
   {
    "duration": 262,
    "start_time": "2021-06-09T12:48:04.303Z"
   },
   {
    "duration": 4,
    "start_time": "2021-06-09T12:51:02.108Z"
   },
   {
    "duration": 107,
    "start_time": "2021-06-09T12:55:01.037Z"
   },
   {
    "duration": 279,
    "start_time": "2021-06-09T12:55:12.966Z"
   },
   {
    "duration": 268,
    "start_time": "2021-06-09T12:55:45.662Z"
   },
   {
    "duration": 284,
    "start_time": "2021-06-09T12:56:03.769Z"
   },
   {
    "duration": 265,
    "start_time": "2021-06-09T12:56:22.578Z"
   },
   {
    "duration": 7,
    "start_time": "2021-06-09T12:56:31.090Z"
   },
   {
    "duration": 385,
    "start_time": "2021-06-09T12:56:31.105Z"
   },
   {
    "duration": 91,
    "start_time": "2021-06-09T12:56:31.492Z"
   },
   {
    "duration": 495,
    "start_time": "2021-06-09T12:56:31.586Z"
   },
   {
    "duration": 8,
    "start_time": "2021-06-09T12:56:32.084Z"
   },
   {
    "duration": 12,
    "start_time": "2021-06-09T12:56:32.094Z"
   },
   {
    "duration": 16,
    "start_time": "2021-06-09T12:56:32.108Z"
   },
   {
    "duration": 7,
    "start_time": "2021-06-09T12:56:32.127Z"
   },
   {
    "duration": 1332,
    "start_time": "2021-06-09T12:56:32.137Z"
   },
   {
    "duration": 5,
    "start_time": "2021-06-09T12:56:33.474Z"
   },
   {
    "duration": 22,
    "start_time": "2021-06-09T12:56:33.483Z"
   },
   {
    "duration": 5,
    "start_time": "2021-06-09T12:56:33.524Z"
   },
   {
    "duration": 9,
    "start_time": "2021-06-09T12:56:33.532Z"
   },
   {
    "duration": 15,
    "start_time": "2021-06-09T12:56:33.543Z"
   },
   {
    "duration": 11,
    "start_time": "2021-06-09T12:56:33.561Z"
   },
   {
    "duration": 5,
    "start_time": "2021-06-09T12:56:33.575Z"
   },
   {
    "duration": 7,
    "start_time": "2021-06-09T12:56:33.625Z"
   },
   {
    "duration": 714,
    "start_time": "2021-06-09T12:56:33.635Z"
   },
   {
    "duration": 639,
    "start_time": "2021-06-09T12:56:34.352Z"
   },
   {
    "duration": 156,
    "start_time": "2021-06-09T12:56:34.994Z"
   },
   {
    "duration": 123,
    "start_time": "2021-06-09T12:56:35.153Z"
   },
   {
    "duration": 9,
    "start_time": "2021-06-09T12:56:38.194Z"
   },
   {
    "duration": 267,
    "start_time": "2021-06-09T12:56:40.721Z"
   },
   {
    "duration": 266,
    "start_time": "2021-06-09T12:57:27.651Z"
   },
   {
    "duration": 6,
    "start_time": "2021-06-09T12:57:34.136Z"
   },
   {
    "duration": 374,
    "start_time": "2021-06-09T12:57:34.150Z"
   },
   {
    "duration": 93,
    "start_time": "2021-06-09T12:57:34.527Z"
   },
   {
    "duration": 472,
    "start_time": "2021-06-09T12:57:34.623Z"
   },
   {
    "duration": 8,
    "start_time": "2021-06-09T12:57:35.098Z"
   },
   {
    "duration": 28,
    "start_time": "2021-06-09T12:57:35.109Z"
   },
   {
    "duration": 15,
    "start_time": "2021-06-09T12:57:35.142Z"
   },
   {
    "duration": 12,
    "start_time": "2021-06-09T12:57:35.160Z"
   },
   {
    "duration": 1493,
    "start_time": "2021-06-09T12:57:35.175Z"
   },
   {
    "duration": 4,
    "start_time": "2021-06-09T12:57:36.671Z"
   },
   {
    "duration": 22,
    "start_time": "2021-06-09T12:57:36.678Z"
   },
   {
    "duration": 19,
    "start_time": "2021-06-09T12:57:36.702Z"
   },
   {
    "duration": 22,
    "start_time": "2021-06-09T12:57:36.724Z"
   },
   {
    "duration": 25,
    "start_time": "2021-06-09T12:57:36.748Z"
   },
   {
    "duration": 16,
    "start_time": "2021-06-09T12:57:36.775Z"
   },
   {
    "duration": 5,
    "start_time": "2021-06-09T12:57:36.794Z"
   },
   {
    "duration": 9,
    "start_time": "2021-06-09T12:57:36.801Z"
   },
   {
    "duration": 681,
    "start_time": "2021-06-09T12:57:36.813Z"
   },
   {
    "duration": 642,
    "start_time": "2021-06-09T12:57:37.497Z"
   },
   {
    "duration": 169,
    "start_time": "2021-06-09T12:57:38.142Z"
   },
   {
    "duration": 125,
    "start_time": "2021-06-09T12:57:38.313Z"
   },
   {
    "duration": 6,
    "start_time": "2021-06-09T12:57:38.440Z"
   },
   {
    "duration": 5,
    "start_time": "2021-06-09T12:57:44.540Z"
   },
   {
    "duration": 9,
    "start_time": "2021-06-09T12:57:45.553Z"
   },
   {
    "duration": 286,
    "start_time": "2021-06-09T12:57:52.658Z"
   },
   {
    "duration": 282,
    "start_time": "2021-06-09T12:58:02.074Z"
   },
   {
    "duration": 639,
    "start_time": "2021-06-09T13:22:41.666Z"
   },
   {
    "duration": 2117,
    "start_time": "2021-06-09T13:23:14.701Z"
   },
   {
    "duration": 422,
    "start_time": "2021-06-09T13:23:16.820Z"
   },
   {
    "duration": 112,
    "start_time": "2021-06-09T13:23:17.245Z"
   },
   {
    "duration": 518,
    "start_time": "2021-06-09T13:23:17.360Z"
   },
   {
    "duration": 8,
    "start_time": "2021-06-09T13:23:17.880Z"
   },
   {
    "duration": 17,
    "start_time": "2021-06-09T13:23:17.890Z"
   },
   {
    "duration": 6,
    "start_time": "2021-06-09T13:23:17.909Z"
   },
   {
    "duration": 3,
    "start_time": "2021-06-09T13:23:17.926Z"
   },
   {
    "duration": 1371,
    "start_time": "2021-06-09T13:23:17.931Z"
   },
   {
    "duration": 6,
    "start_time": "2021-06-09T13:23:19.305Z"
   },
   {
    "duration": 11,
    "start_time": "2021-06-09T13:23:19.324Z"
   },
   {
    "duration": 4,
    "start_time": "2021-06-09T13:23:19.338Z"
   },
   {
    "duration": 8,
    "start_time": "2021-06-09T13:23:19.344Z"
   },
   {
    "duration": 14,
    "start_time": "2021-06-09T13:23:19.354Z"
   },
   {
    "duration": 7,
    "start_time": "2021-06-09T13:23:19.370Z"
   },
   {
    "duration": 46,
    "start_time": "2021-06-09T13:23:19.379Z"
   },
   {
    "duration": 9,
    "start_time": "2021-06-09T13:23:19.427Z"
   },
   {
    "duration": 735,
    "start_time": "2021-06-09T13:23:19.438Z"
   },
   {
    "duration": 649,
    "start_time": "2021-06-09T13:23:20.176Z"
   },
   {
    "duration": 157,
    "start_time": "2021-06-09T13:23:20.828Z"
   },
   {
    "duration": 116,
    "start_time": "2021-06-09T13:23:20.987Z"
   },
   {
    "duration": 4,
    "start_time": "2021-06-09T13:24:38.883Z"
   },
   {
    "duration": 3,
    "start_time": "2021-06-09T13:24:42.914Z"
   },
   {
    "duration": 11,
    "start_time": "2021-06-09T13:24:53.859Z"
   },
   {
    "duration": 7753,
    "start_time": "2021-06-09T13:25:41.238Z"
   },
   {
    "duration": 76,
    "start_time": "2021-06-09T13:26:10.845Z"
   },
   {
    "duration": 7444,
    "start_time": "2021-06-09T13:26:24.781Z"
   },
   {
    "duration": 586,
    "start_time": "2021-06-09T13:27:04.751Z"
   },
   {
    "duration": 7498,
    "start_time": "2021-06-09T13:29:28.253Z"
   },
   {
    "duration": 1568,
    "start_time": "2021-06-09T13:29:49.232Z"
   },
   {
    "duration": 392,
    "start_time": "2021-06-09T13:29:50.802Z"
   },
   {
    "duration": 103,
    "start_time": "2021-06-09T13:29:51.197Z"
   },
   {
    "duration": 497,
    "start_time": "2021-06-09T13:29:51.303Z"
   },
   {
    "duration": 8,
    "start_time": "2021-06-09T13:29:51.803Z"
   },
   {
    "duration": 4,
    "start_time": "2021-06-09T13:29:51.825Z"
   },
   {
    "duration": 12,
    "start_time": "2021-06-09T13:29:51.831Z"
   },
   {
    "duration": 625,
    "start_time": "2021-06-09T13:29:51.847Z"
   },
   {
    "duration": 1352,
    "start_time": "2021-06-09T13:29:52.475Z"
   },
   {
    "duration": 5,
    "start_time": "2021-06-09T13:29:53.829Z"
   },
   {
    "duration": 13,
    "start_time": "2021-06-09T13:29:53.838Z"
   },
   {
    "duration": 5,
    "start_time": "2021-06-09T13:29:53.853Z"
   },
   {
    "duration": 12,
    "start_time": "2021-06-09T13:29:53.861Z"
   },
   {
    "duration": 50,
    "start_time": "2021-06-09T13:29:53.876Z"
   },
   {
    "duration": 10,
    "start_time": "2021-06-09T13:29:53.929Z"
   },
   {
    "duration": 5,
    "start_time": "2021-06-09T13:29:53.942Z"
   },
   {
    "duration": 20,
    "start_time": "2021-06-09T13:29:53.950Z"
   },
   {
    "duration": 1176,
    "start_time": "2021-06-09T13:29:53.973Z"
   },
   {
    "duration": 888,
    "start_time": "2021-06-09T13:29:55.152Z"
   },
   {
    "duration": 213,
    "start_time": "2021-06-09T13:29:56.043Z"
   },
   {
    "duration": 123,
    "start_time": "2021-06-09T13:29:56.258Z"
   },
   {
    "duration": 3,
    "start_time": "2021-06-09T13:29:56.383Z"
   },
   {
    "duration": 3,
    "start_time": "2021-06-09T13:31:26.495Z"
   },
   {
    "duration": 4,
    "start_time": "2021-06-09T13:31:27.237Z"
   },
   {
    "duration": 11,
    "start_time": "2021-06-09T13:31:28.022Z"
   },
   {
    "duration": 7354,
    "start_time": "2021-06-09T13:31:28.696Z"
   },
   {
    "duration": 6,
    "start_time": "2021-06-09T13:32:13.188Z"
   },
   {
    "duration": 459,
    "start_time": "2021-06-09T13:32:13.201Z"
   },
   {
    "duration": 99,
    "start_time": "2021-06-09T13:32:13.662Z"
   },
   {
    "duration": 513,
    "start_time": "2021-06-09T13:32:13.764Z"
   },
   {
    "duration": 8,
    "start_time": "2021-06-09T13:32:14.279Z"
   },
   {
    "duration": 12,
    "start_time": "2021-06-09T13:32:14.290Z"
   },
   {
    "duration": 20,
    "start_time": "2021-06-09T13:32:14.304Z"
   },
   {
    "duration": 614,
    "start_time": "2021-06-09T13:32:14.327Z"
   },
   {
    "duration": 1359,
    "start_time": "2021-06-09T13:32:14.946Z"
   },
   {
    "duration": 4,
    "start_time": "2021-06-09T13:32:16.309Z"
   },
   {
    "duration": 15,
    "start_time": "2021-06-09T13:32:16.324Z"
   },
   {
    "duration": 3,
    "start_time": "2021-06-09T13:32:16.342Z"
   },
   {
    "duration": 7,
    "start_time": "2021-06-09T13:32:16.348Z"
   },
   {
    "duration": 15,
    "start_time": "2021-06-09T13:32:16.358Z"
   },
   {
    "duration": 7,
    "start_time": "2021-06-09T13:32:16.376Z"
   },
   {
    "duration": 41,
    "start_time": "2021-06-09T13:32:16.386Z"
   },
   {
    "duration": 9,
    "start_time": "2021-06-09T13:32:16.429Z"
   },
   {
    "duration": 738,
    "start_time": "2021-06-09T13:32:16.440Z"
   },
   {
    "duration": 649,
    "start_time": "2021-06-09T13:32:17.180Z"
   },
   {
    "duration": 155,
    "start_time": "2021-06-09T13:32:17.832Z"
   },
   {
    "duration": 113,
    "start_time": "2021-06-09T13:32:17.990Z"
   },
   {
    "duration": 4,
    "start_time": "2021-06-09T13:32:18.123Z"
   },
   {
    "duration": 15,
    "start_time": "2021-06-09T13:32:18.130Z"
   },
   {
    "duration": 10,
    "start_time": "2021-06-09T13:32:18.151Z"
   },
   {
    "duration": 583,
    "start_time": "2021-06-09T13:32:18.165Z"
   },
   {
    "duration": 364,
    "start_time": "2021-06-09T13:32:18.752Z"
   },
   {
    "duration": 350,
    "start_time": "2021-06-09T13:32:19.123Z"
   },
   {
    "duration": 54,
    "start_time": "2021-06-09T13:32:19.476Z"
   },
   {
    "duration": 278,
    "start_time": "2021-06-09T13:32:19.532Z"
   },
   {
    "duration": 336,
    "start_time": "2021-06-09T13:32:19.814Z"
   },
   {
    "duration": 272,
    "start_time": "2021-06-09T13:32:20.152Z"
   },
   {
    "duration": 273,
    "start_time": "2021-06-09T13:32:20.426Z"
   },
   {
    "duration": 477,
    "start_time": "2021-06-09T13:32:20.701Z"
   },
   {
    "duration": 510,
    "start_time": "2021-06-09T13:32:21.181Z"
   },
   {
    "duration": 6,
    "start_time": "2021-06-09T13:32:21.694Z"
   },
   {
    "duration": 7,
    "start_time": "2021-06-09T13:32:21.702Z"
   },
   {
    "duration": 27,
    "start_time": "2021-06-09T13:32:21.724Z"
   },
   {
    "duration": 6,
    "start_time": "2021-06-09T13:32:21.753Z"
   },
   {
    "duration": 6,
    "start_time": "2021-06-09T13:32:21.762Z"
   },
   {
    "duration": 10,
    "start_time": "2021-06-09T13:32:21.771Z"
   },
   {
    "duration": 382,
    "start_time": "2021-06-09T13:32:21.825Z"
   },
   {
    "duration": 601,
    "start_time": "2021-06-09T13:32:22.210Z"
   },
   {
    "duration": 14,
    "start_time": "2021-06-09T13:32:22.814Z"
   },
   {
    "duration": 7,
    "start_time": "2021-06-09T13:32:22.831Z"
   },
   {
    "duration": 322,
    "start_time": "2021-06-09T13:32:22.841Z"
   },
   {
    "duration": 461,
    "start_time": "2021-06-09T13:32:23.166Z"
   },
   {
    "duration": 11,
    "start_time": "2021-06-09T13:32:23.630Z"
   },
   {
    "duration": 8,
    "start_time": "2021-06-09T13:32:23.645Z"
   },
   {
    "duration": 438,
    "start_time": "2021-06-09T13:32:23.656Z"
   },
   {
    "duration": 616,
    "start_time": "2021-06-09T13:32:24.097Z"
   },
   {
    "duration": 14,
    "start_time": "2021-06-09T13:32:24.716Z"
   },
   {
    "duration": 7,
    "start_time": "2021-06-09T13:32:24.733Z"
   },
   {
    "duration": 16,
    "start_time": "2021-06-09T13:32:24.743Z"
   },
   {
    "duration": 7,
    "start_time": "2021-06-09T13:32:24.762Z"
   },
   {
    "duration": 6,
    "start_time": "2021-06-09T13:32:24.771Z"
   },
   {
    "duration": 198,
    "start_time": "2021-06-09T13:32:24.825Z"
   },
   {
    "duration": 282,
    "start_time": "2021-06-09T13:32:25.025Z"
   },
   {
    "duration": 6,
    "start_time": "2021-06-09T13:33:13.657Z"
   },
   {
    "duration": 9,
    "start_time": "2021-06-09T13:33:14.865Z"
   },
   {
    "duration": 164,
    "start_time": "2021-06-09T13:33:15.432Z"
   },
   {
    "duration": 8,
    "start_time": "2021-06-09T13:33:41.708Z"
   },
   {
    "duration": 28,
    "start_time": "2021-06-09T13:33:42.487Z"
   },
   {
    "duration": 93,
    "start_time": "2021-06-09T13:33:43.468Z"
   },
   {
    "duration": 8,
    "start_time": "2021-06-09T13:33:59.307Z"
   },
   {
    "duration": 8,
    "start_time": "2021-06-09T13:33:59.809Z"
   },
   {
    "duration": 176,
    "start_time": "2021-06-09T13:34:00.349Z"
   },
   {
    "duration": 279,
    "start_time": "2021-06-09T13:37:25.680Z"
   },
   {
    "duration": 284,
    "start_time": "2021-06-09T13:37:35.862Z"
   },
   {
    "duration": 6,
    "start_time": "2021-06-09T13:38:03.707Z"
   },
   {
    "duration": 5,
    "start_time": "2021-06-09T13:38:22.062Z"
   },
   {
    "duration": 8,
    "start_time": "2021-06-09T13:38:35.121Z"
   },
   {
    "duration": 3726,
    "start_time": "2021-06-09T13:38:37.556Z"
   },
   {
    "duration": 1,
    "start_time": "2021-06-09T13:38:41.285Z"
   },
   {
    "duration": 1414,
    "start_time": "2021-06-09T13:38:54.433Z"
   },
   {
    "duration": 387,
    "start_time": "2021-06-09T13:38:55.849Z"
   },
   {
    "duration": 105,
    "start_time": "2021-06-09T13:38:56.240Z"
   },
   {
    "duration": 505,
    "start_time": "2021-06-09T13:38:56.348Z"
   },
   {
    "duration": 8,
    "start_time": "2021-06-09T13:38:56.856Z"
   },
   {
    "duration": 18,
    "start_time": "2021-06-09T13:38:56.867Z"
   },
   {
    "duration": 20,
    "start_time": "2021-06-09T13:38:56.887Z"
   },
   {
    "duration": 768,
    "start_time": "2021-06-09T13:38:56.911Z"
   },
   {
    "duration": 1967,
    "start_time": "2021-06-09T13:38:57.681Z"
   },
   {
    "duration": 5,
    "start_time": "2021-06-09T13:38:59.651Z"
   },
   {
    "duration": 22,
    "start_time": "2021-06-09T13:38:59.659Z"
   },
   {
    "duration": 10,
    "start_time": "2021-06-09T13:38:59.684Z"
   },
   {
    "duration": 31,
    "start_time": "2021-06-09T13:38:59.696Z"
   },
   {
    "duration": 22,
    "start_time": "2021-06-09T13:38:59.730Z"
   },
   {
    "duration": 19,
    "start_time": "2021-06-09T13:38:59.755Z"
   },
   {
    "duration": 22,
    "start_time": "2021-06-09T13:38:59.777Z"
   },
   {
    "duration": 26,
    "start_time": "2021-06-09T13:38:59.802Z"
   },
   {
    "duration": 728,
    "start_time": "2021-06-09T13:38:59.830Z"
   },
   {
    "duration": 655,
    "start_time": "2021-06-09T13:39:00.561Z"
   },
   {
    "duration": 182,
    "start_time": "2021-06-09T13:39:01.218Z"
   },
   {
    "duration": 37,
    "start_time": "2021-06-09T13:39:01.402Z"
   },
   {
    "duration": 3594,
    "start_time": "2021-06-09T13:39:03.122Z"
   },
   {
    "duration": 8,
    "start_time": "2021-06-09T13:39:09.867Z"
   },
   {
    "duration": 578,
    "start_time": "2021-06-09T13:39:09.882Z"
   },
   {
    "duration": 135,
    "start_time": "2021-06-09T13:39:10.463Z"
   },
   {
    "duration": 725,
    "start_time": "2021-06-09T13:39:10.602Z"
   },
   {
    "duration": 11,
    "start_time": "2021-06-09T13:39:11.331Z"
   },
   {
    "duration": 10,
    "start_time": "2021-06-09T13:39:11.345Z"
   },
   {
    "duration": 7,
    "start_time": "2021-06-09T13:39:11.358Z"
   },
   {
    "duration": 893,
    "start_time": "2021-06-09T13:39:11.367Z"
   },
   {
    "duration": 1392,
    "start_time": "2021-06-09T13:39:12.263Z"
   },
   {
    "duration": 5,
    "start_time": "2021-06-09T13:39:13.660Z"
   },
   {
    "duration": 15,
    "start_time": "2021-06-09T13:39:13.668Z"
   },
   {
    "duration": 5,
    "start_time": "2021-06-09T13:39:13.686Z"
   },
   {
    "duration": 7,
    "start_time": "2021-06-09T13:39:13.725Z"
   },
   {
    "duration": 19,
    "start_time": "2021-06-09T13:39:13.735Z"
   },
   {
    "duration": 8,
    "start_time": "2021-06-09T13:39:13.757Z"
   },
   {
    "duration": 4,
    "start_time": "2021-06-09T13:39:13.775Z"
   },
   {
    "duration": 45,
    "start_time": "2021-06-09T13:39:13.781Z"
   },
   {
    "duration": 812,
    "start_time": "2021-06-09T13:39:13.828Z"
   },
   {
    "duration": 638,
    "start_time": "2021-06-09T13:39:14.642Z"
   },
   {
    "duration": 149,
    "start_time": "2021-06-09T13:39:15.282Z"
   },
   {
    "duration": 31,
    "start_time": "2021-06-09T13:39:17.860Z"
   },
   {
    "duration": 12,
    "start_time": "2021-06-09T13:39:18.780Z"
   },
   {
    "duration": 5033,
    "start_time": "2021-06-09T13:39:36.035Z"
   },
   {
    "duration": 9,
    "start_time": "2021-06-09T13:39:41.064Z"
   },
   {
    "duration": 1,
    "start_time": "2021-06-09T13:39:41.074Z"
   },
   {
    "duration": -2,
    "start_time": "2021-06-09T13:39:41.079Z"
   },
   {
    "duration": -4,
    "start_time": "2021-06-09T13:39:41.082Z"
   },
   {
    "duration": -18,
    "start_time": "2021-06-09T13:39:41.098Z"
   },
   {
    "duration": -23,
    "start_time": "2021-06-09T13:39:41.105Z"
   },
   {
    "duration": -26,
    "start_time": "2021-06-09T13:39:41.109Z"
   },
   {
    "duration": -29,
    "start_time": "2021-06-09T13:39:41.114Z"
   },
   {
    "duration": -31,
    "start_time": "2021-06-09T13:39:41.118Z"
   },
   {
    "duration": -34,
    "start_time": "2021-06-09T13:39:41.123Z"
   },
   {
    "duration": -36,
    "start_time": "2021-06-09T13:39:41.126Z"
   },
   {
    "duration": -39,
    "start_time": "2021-06-09T13:39:41.131Z"
   },
   {
    "duration": -42,
    "start_time": "2021-06-09T13:39:41.135Z"
   },
   {
    "duration": -46,
    "start_time": "2021-06-09T13:39:41.140Z"
   },
   {
    "duration": -54,
    "start_time": "2021-06-09T13:39:41.150Z"
   },
   {
    "duration": -58,
    "start_time": "2021-06-09T13:39:41.155Z"
   },
   {
    "duration": -60,
    "start_time": "2021-06-09T13:39:41.158Z"
   },
   {
    "duration": -62,
    "start_time": "2021-06-09T13:39:41.162Z"
   },
   {
    "duration": -64,
    "start_time": "2021-06-09T13:39:41.165Z"
   },
   {
    "duration": -66,
    "start_time": "2021-06-09T13:39:41.169Z"
   },
   {
    "duration": 4120,
    "start_time": "2021-06-09T13:39:44.414Z"
   },
   {
    "duration": 20,
    "start_time": "2021-06-09T13:39:48.517Z"
   },
   {
    "duration": 1396,
    "start_time": "2021-06-09T13:44:34.947Z"
   },
   {
    "duration": 376,
    "start_time": "2021-06-09T13:44:36.345Z"
   },
   {
    "duration": 102,
    "start_time": "2021-06-09T13:44:36.724Z"
   },
   {
    "duration": 492,
    "start_time": "2021-06-09T13:44:36.828Z"
   },
   {
    "duration": 8,
    "start_time": "2021-06-09T13:44:37.324Z"
   },
   {
    "duration": 25,
    "start_time": "2021-06-09T13:44:37.334Z"
   },
   {
    "duration": 7,
    "start_time": "2021-06-09T13:44:37.362Z"
   },
   {
    "duration": 622,
    "start_time": "2021-06-09T13:44:37.373Z"
   },
   {
    "duration": 1345,
    "start_time": "2021-06-09T13:44:37.997Z"
   },
   {
    "duration": 5,
    "start_time": "2021-06-09T13:44:39.345Z"
   },
   {
    "duration": 14,
    "start_time": "2021-06-09T13:44:39.354Z"
   },
   {
    "duration": 5,
    "start_time": "2021-06-09T13:44:39.371Z"
   },
   {
    "duration": 48,
    "start_time": "2021-06-09T13:44:39.379Z"
   },
   {
    "duration": 14,
    "start_time": "2021-06-09T13:44:39.430Z"
   },
   {
    "duration": 9,
    "start_time": "2021-06-09T13:44:39.447Z"
   },
   {
    "duration": 4,
    "start_time": "2021-06-09T13:44:39.458Z"
   },
   {
    "duration": 10,
    "start_time": "2021-06-09T13:44:39.465Z"
   },
   {
    "duration": 789,
    "start_time": "2021-06-09T13:44:39.478Z"
   },
   {
    "duration": 651,
    "start_time": "2021-06-09T13:44:40.270Z"
   },
   {
    "duration": 154,
    "start_time": "2021-06-09T13:44:40.925Z"
   },
   {
    "duration": 31,
    "start_time": "2021-06-09T13:45:46.694Z"
   },
   {
    "duration": 117,
    "start_time": "2021-06-09T13:45:48.575Z"
   },
   {
    "duration": 6,
    "start_time": "2021-06-09T13:46:15.806Z"
   },
   {
    "duration": 4,
    "start_time": "2021-06-09T13:48:21.388Z"
   },
   {
    "duration": 112,
    "start_time": "2021-06-09T13:48:22.759Z"
   },
   {
    "duration": 1475,
    "start_time": "2021-06-09T13:48:40.375Z"
   },
   {
    "duration": 386,
    "start_time": "2021-06-09T13:48:41.853Z"
   },
   {
    "duration": 103,
    "start_time": "2021-06-09T13:48:42.242Z"
   },
   {
    "duration": 500,
    "start_time": "2021-06-09T13:48:42.348Z"
   },
   {
    "duration": 8,
    "start_time": "2021-06-09T13:48:42.850Z"
   },
   {
    "duration": 6,
    "start_time": "2021-06-09T13:48:42.861Z"
   },
   {
    "duration": 8,
    "start_time": "2021-06-09T13:48:42.869Z"
   },
   {
    "duration": 666,
    "start_time": "2021-06-09T13:48:42.879Z"
   },
   {
    "duration": 1345,
    "start_time": "2021-06-09T13:48:43.548Z"
   },
   {
    "duration": 4,
    "start_time": "2021-06-09T13:48:44.895Z"
   },
   {
    "duration": 27,
    "start_time": "2021-06-09T13:48:44.901Z"
   },
   {
    "duration": 4,
    "start_time": "2021-06-09T13:48:44.930Z"
   },
   {
    "duration": 14,
    "start_time": "2021-06-09T13:48:44.936Z"
   },
   {
    "duration": 15,
    "start_time": "2021-06-09T13:48:44.952Z"
   },
   {
    "duration": 10,
    "start_time": "2021-06-09T13:48:44.969Z"
   },
   {
    "duration": 4,
    "start_time": "2021-06-09T13:48:45.024Z"
   },
   {
    "duration": 15,
    "start_time": "2021-06-09T13:48:45.031Z"
   },
   {
    "duration": 749,
    "start_time": "2021-06-09T13:48:45.049Z"
   },
   {
    "duration": 669,
    "start_time": "2021-06-09T13:48:45.800Z"
   },
   {
    "duration": 152,
    "start_time": "2021-06-09T13:48:46.472Z"
   },
   {
    "duration": 7,
    "start_time": "2021-06-09T13:49:51.563Z"
   },
   {
    "duration": 392,
    "start_time": "2021-06-09T13:49:51.575Z"
   },
   {
    "duration": 97,
    "start_time": "2021-06-09T13:49:51.970Z"
   },
   {
    "duration": 490,
    "start_time": "2021-06-09T13:49:52.070Z"
   },
   {
    "duration": 7,
    "start_time": "2021-06-09T13:49:52.563Z"
   },
   {
    "duration": 10,
    "start_time": "2021-06-09T13:49:52.573Z"
   },
   {
    "duration": 5,
    "start_time": "2021-06-09T13:49:52.586Z"
   },
   {
    "duration": 619,
    "start_time": "2021-06-09T13:49:52.593Z"
   },
   {
    "duration": 1295,
    "start_time": "2021-06-09T13:49:53.216Z"
   },
   {
    "duration": 13,
    "start_time": "2021-06-09T13:49:54.513Z"
   },
   {
    "duration": 14,
    "start_time": "2021-06-09T13:49:54.528Z"
   },
   {
    "duration": 5,
    "start_time": "2021-06-09T13:49:54.544Z"
   },
   {
    "duration": 9,
    "start_time": "2021-06-09T13:49:54.552Z"
   },
   {
    "duration": 15,
    "start_time": "2021-06-09T13:49:54.563Z"
   },
   {
    "duration": 7,
    "start_time": "2021-06-09T13:49:54.580Z"
   },
   {
    "duration": 34,
    "start_time": "2021-06-09T13:49:54.590Z"
   },
   {
    "duration": 7,
    "start_time": "2021-06-09T13:49:54.627Z"
   },
   {
    "duration": 709,
    "start_time": "2021-06-09T13:49:54.637Z"
   },
   {
    "duration": 628,
    "start_time": "2021-06-09T13:49:55.348Z"
   },
   {
    "duration": 159,
    "start_time": "2021-06-09T13:49:55.978Z"
   },
   {
    "duration": 6,
    "start_time": "2021-06-09T13:49:59.164Z"
   },
   {
    "duration": 467,
    "start_time": "2021-06-09T13:50:32.030Z"
   },
   {
    "duration": 273,
    "start_time": "2021-06-09T13:50:46.668Z"
   },
   {
    "duration": 1493,
    "start_time": "2021-06-09T17:39:32.411Z"
   },
   {
    "duration": 365,
    "start_time": "2021-06-09T17:39:33.907Z"
   },
   {
    "duration": 98,
    "start_time": "2021-06-09T17:39:34.275Z"
   },
   {
    "duration": 472,
    "start_time": "2021-06-09T17:39:34.376Z"
   },
   {
    "duration": 8,
    "start_time": "2021-06-09T17:39:34.851Z"
   },
   {
    "duration": 11,
    "start_time": "2021-06-09T17:39:34.861Z"
   },
   {
    "duration": 6,
    "start_time": "2021-06-09T17:39:34.874Z"
   },
   {
    "duration": 608,
    "start_time": "2021-06-09T17:39:34.883Z"
   },
   {
    "duration": 2200,
    "start_time": "2021-06-09T17:39:35.494Z"
   },
   {
    "duration": 1008,
    "start_time": "2021-06-09T17:39:36.694Z"
   },
   {
    "duration": 1004,
    "start_time": "2021-06-09T17:39:36.700Z"
   },
   {
    "duration": 1001,
    "start_time": "2021-06-09T17:39:36.705Z"
   },
   {
    "duration": 997,
    "start_time": "2021-06-09T17:39:36.711Z"
   },
   {
    "duration": 994,
    "start_time": "2021-06-09T17:39:36.716Z"
   },
   {
    "duration": 991,
    "start_time": "2021-06-09T17:39:36.721Z"
   },
   {
    "duration": 989,
    "start_time": "2021-06-09T17:39:36.725Z"
   },
   {
    "duration": 985,
    "start_time": "2021-06-09T17:39:36.731Z"
   },
   {
    "duration": 981,
    "start_time": "2021-06-09T17:39:36.737Z"
   },
   {
    "duration": 977,
    "start_time": "2021-06-09T17:39:36.743Z"
   },
   {
    "duration": 976,
    "start_time": "2021-06-09T17:39:36.746Z"
   },
   {
    "duration": 973,
    "start_time": "2021-06-09T17:39:36.751Z"
   },
   {
    "duration": 971,
    "start_time": "2021-06-09T17:39:36.755Z"
   },
   {
    "duration": 968,
    "start_time": "2021-06-09T17:39:36.760Z"
   },
   {
    "duration": 966,
    "start_time": "2021-06-09T17:39:36.764Z"
   },
   {
    "duration": 963,
    "start_time": "2021-06-09T17:39:36.769Z"
   },
   {
    "duration": 961,
    "start_time": "2021-06-09T17:39:36.773Z"
   },
   {
    "duration": 956,
    "start_time": "2021-06-09T17:39:36.780Z"
   },
   {
    "duration": 944,
    "start_time": "2021-06-09T17:39:36.794Z"
   },
   {
    "duration": 940,
    "start_time": "2021-06-09T17:39:36.801Z"
   },
   {
    "duration": 935,
    "start_time": "2021-06-09T17:39:36.807Z"
   },
   {
    "duration": 931,
    "start_time": "2021-06-09T17:39:36.813Z"
   },
   {
    "duration": 928,
    "start_time": "2021-06-09T17:39:36.818Z"
   },
   {
    "duration": 925,
    "start_time": "2021-06-09T17:39:36.824Z"
   },
   {
    "duration": 923,
    "start_time": "2021-06-09T17:39:36.828Z"
   },
   {
    "duration": 920,
    "start_time": "2021-06-09T17:39:36.833Z"
   },
   {
    "duration": 918,
    "start_time": "2021-06-09T17:39:36.837Z"
   },
   {
    "duration": 915,
    "start_time": "2021-06-09T17:39:36.842Z"
   },
   {
    "duration": 912,
    "start_time": "2021-06-09T17:39:36.846Z"
   },
   {
    "duration": 909,
    "start_time": "2021-06-09T17:39:36.851Z"
   },
   {
    "duration": 906,
    "start_time": "2021-06-09T17:39:36.856Z"
   },
   {
    "duration": 962,
    "start_time": "2021-06-09T17:39:36.861Z"
   },
   {
    "duration": 961,
    "start_time": "2021-06-09T17:39:36.864Z"
   },
   {
    "duration": 932,
    "start_time": "2021-06-09T17:39:36.896Z"
   },
   {
    "duration": 908,
    "start_time": "2021-06-09T17:39:36.922Z"
   },
   {
    "duration": 886,
    "start_time": "2021-06-09T17:39:36.946Z"
   },
   {
    "duration": 869,
    "start_time": "2021-06-09T17:39:36.965Z"
   },
   {
    "duration": 867,
    "start_time": "2021-06-09T17:39:36.969Z"
   },
   {
    "duration": 864,
    "start_time": "2021-06-09T17:39:36.974Z"
   },
   {
    "duration": 862,
    "start_time": "2021-06-09T17:39:36.978Z"
   },
   {
    "duration": 839,
    "start_time": "2021-06-09T17:39:37.003Z"
   },
   {
    "duration": 823,
    "start_time": "2021-06-09T17:39:37.021Z"
   },
   {
    "duration": 820,
    "start_time": "2021-06-09T17:39:37.026Z"
   },
   {
    "duration": 818,
    "start_time": "2021-06-09T17:39:37.031Z"
   },
   {
    "duration": 807,
    "start_time": "2021-06-09T17:39:37.044Z"
   },
   {
    "duration": 805,
    "start_time": "2021-06-09T17:39:37.048Z"
   },
   {
    "duration": 803,
    "start_time": "2021-06-09T17:39:37.052Z"
   },
   {
    "duration": 787,
    "start_time": "2021-06-09T17:39:37.070Z"
   },
   {
    "duration": 785,
    "start_time": "2021-06-09T17:39:37.074Z"
   },
   {
    "duration": 781,
    "start_time": "2021-06-09T17:39:37.080Z"
   },
   {
    "duration": 836,
    "start_time": "2021-06-09T17:39:37.087Z"
   },
   {
    "duration": 833,
    "start_time": "2021-06-09T17:39:37.092Z"
   },
   {
    "duration": 830,
    "start_time": "2021-06-09T17:39:37.096Z"
   },
   {
    "duration": 6,
    "start_time": "2021-06-09T17:39:39.411Z"
   },
   {
    "duration": 412,
    "start_time": "2021-06-09T17:39:39.421Z"
   },
   {
    "duration": 93,
    "start_time": "2021-06-09T17:39:39.836Z"
   },
   {
    "duration": 465,
    "start_time": "2021-06-09T17:39:39.932Z"
   },
   {
    "duration": 7,
    "start_time": "2021-06-09T17:39:40.399Z"
   },
   {
    "duration": 17,
    "start_time": "2021-06-09T17:39:40.408Z"
   },
   {
    "duration": 6,
    "start_time": "2021-06-09T17:39:40.427Z"
   },
   {
    "duration": 610,
    "start_time": "2021-06-09T17:39:40.436Z"
   },
   {
    "duration": 1354,
    "start_time": "2021-06-09T17:39:41.049Z"
   },
   {
    "duration": 4,
    "start_time": "2021-06-09T17:39:42.406Z"
   },
   {
    "duration": 20,
    "start_time": "2021-06-09T17:39:42.413Z"
   },
   {
    "duration": 5,
    "start_time": "2021-06-09T17:39:42.436Z"
   },
   {
    "duration": 8,
    "start_time": "2021-06-09T17:39:42.443Z"
   },
   {
    "duration": 17,
    "start_time": "2021-06-09T17:39:42.453Z"
   },
   {
    "duration": 7,
    "start_time": "2021-06-09T17:39:42.473Z"
   },
   {
    "duration": 44,
    "start_time": "2021-06-09T17:39:42.483Z"
   },
   {
    "duration": 9,
    "start_time": "2021-06-09T17:39:42.530Z"
   },
   {
    "duration": 745,
    "start_time": "2021-06-09T17:39:42.541Z"
   },
   {
    "duration": 645,
    "start_time": "2021-06-09T17:39:43.289Z"
   },
   {
    "duration": 140,
    "start_time": "2021-06-09T17:39:43.936Z"
   },
   {
    "duration": 3,
    "start_time": "2021-06-09T17:39:44.078Z"
   },
   {
    "duration": 281,
    "start_time": "2021-06-09T17:39:44.084Z"
   },
   {
    "duration": 959,
    "start_time": "2021-06-09T17:39:43.409Z"
   },
   {
    "duration": 956,
    "start_time": "2021-06-09T17:39:43.414Z"
   },
   {
    "duration": 954,
    "start_time": "2021-06-09T17:39:43.418Z"
   },
   {
    "duration": 951,
    "start_time": "2021-06-09T17:39:43.422Z"
   },
   {
    "duration": 947,
    "start_time": "2021-06-09T17:39:43.427Z"
   },
   {
    "duration": 946,
    "start_time": "2021-06-09T17:39:43.430Z"
   },
   {
    "duration": 943,
    "start_time": "2021-06-09T17:39:43.434Z"
   },
   {
    "duration": 940,
    "start_time": "2021-06-09T17:39:43.438Z"
   },
   {
    "duration": 938,
    "start_time": "2021-06-09T17:39:43.442Z"
   },
   {
    "duration": 935,
    "start_time": "2021-06-09T17:39:43.446Z"
   },
   {
    "duration": 932,
    "start_time": "2021-06-09T17:39:43.450Z"
   },
   {
    "duration": 923,
    "start_time": "2021-06-09T17:39:43.461Z"
   },
   {
    "duration": 920,
    "start_time": "2021-06-09T17:39:43.465Z"
   },
   {
    "duration": 918,
    "start_time": "2021-06-09T17:39:43.468Z"
   },
   {
    "duration": 914,
    "start_time": "2021-06-09T17:39:43.473Z"
   },
   {
    "duration": 911,
    "start_time": "2021-06-09T17:39:43.478Z"
   },
   {
    "duration": 908,
    "start_time": "2021-06-09T17:39:43.482Z"
   },
   {
    "duration": 906,
    "start_time": "2021-06-09T17:39:43.485Z"
   },
   {
    "duration": 902,
    "start_time": "2021-06-09T17:39:43.490Z"
   },
   {
    "duration": 899,
    "start_time": "2021-06-09T17:39:43.495Z"
   },
   {
    "duration": 895,
    "start_time": "2021-06-09T17:39:43.500Z"
   },
   {
    "duration": 893,
    "start_time": "2021-06-09T17:39:43.503Z"
   },
   {
    "duration": 889,
    "start_time": "2021-06-09T17:39:43.508Z"
   },
   {
    "duration": 888,
    "start_time": "2021-06-09T17:39:43.511Z"
   },
   {
    "duration": 885,
    "start_time": "2021-06-09T17:39:43.515Z"
   },
   {
    "duration": 882,
    "start_time": "2021-06-09T17:39:43.519Z"
   },
   {
    "duration": 879,
    "start_time": "2021-06-09T17:39:43.523Z"
   },
   {
    "duration": 898,
    "start_time": "2021-06-09T17:39:43.526Z"
   },
   {
    "duration": 894,
    "start_time": "2021-06-09T17:39:43.531Z"
   },
   {
    "duration": 893,
    "start_time": "2021-06-09T17:39:43.534Z"
   },
   {
    "duration": 890,
    "start_time": "2021-06-09T17:39:43.538Z"
   },
   {
    "duration": 888,
    "start_time": "2021-06-09T17:39:43.542Z"
   },
   {
    "duration": 885,
    "start_time": "2021-06-09T17:39:43.546Z"
   },
   {
    "duration": 883,
    "start_time": "2021-06-09T17:39:43.550Z"
   },
   {
    "duration": 880,
    "start_time": "2021-06-09T17:39:43.554Z"
   },
   {
    "duration": 6,
    "start_time": "2021-06-09T17:39:54.667Z"
   },
   {
    "duration": 410,
    "start_time": "2021-06-09T17:39:54.676Z"
   },
   {
    "duration": 89,
    "start_time": "2021-06-09T17:39:55.089Z"
   },
   {
    "duration": 462,
    "start_time": "2021-06-09T17:39:55.181Z"
   },
   {
    "duration": 8,
    "start_time": "2021-06-09T17:39:55.645Z"
   },
   {
    "duration": 10,
    "start_time": "2021-06-09T17:39:55.656Z"
   },
   {
    "duration": 6,
    "start_time": "2021-06-09T17:39:55.668Z"
   },
   {
    "duration": 602,
    "start_time": "2021-06-09T17:39:55.677Z"
   },
   {
    "duration": 1273,
    "start_time": "2021-06-09T17:39:56.282Z"
   },
   {
    "duration": 4,
    "start_time": "2021-06-09T17:39:57.558Z"
   },
   {
    "duration": 20,
    "start_time": "2021-06-09T17:39:57.564Z"
   },
   {
    "duration": 5,
    "start_time": "2021-06-09T17:39:57.587Z"
   },
   {
    "duration": 32,
    "start_time": "2021-06-09T17:39:57.595Z"
   },
   {
    "duration": 17,
    "start_time": "2021-06-09T17:39:57.630Z"
   },
   {
    "duration": 12,
    "start_time": "2021-06-09T17:39:57.650Z"
   },
   {
    "duration": 14,
    "start_time": "2021-06-09T17:39:57.664Z"
   },
   {
    "duration": 8,
    "start_time": "2021-06-09T17:39:57.680Z"
   },
   {
    "duration": 752,
    "start_time": "2021-06-09T17:39:57.690Z"
   },
   {
    "duration": 648,
    "start_time": "2021-06-09T17:39:58.445Z"
   },
   {
    "duration": 137,
    "start_time": "2021-06-09T17:39:59.095Z"
   },
   {
    "duration": 3,
    "start_time": "2021-06-09T17:39:59.235Z"
   },
   {
    "duration": 336,
    "start_time": "2021-06-09T17:39:59.240Z"
   },
   {
    "duration": 1012,
    "start_time": "2021-06-09T17:39:58.568Z"
   },
   {
    "duration": 1003,
    "start_time": "2021-06-09T17:39:58.579Z"
   },
   {
    "duration": 1000,
    "start_time": "2021-06-09T17:39:58.583Z"
   },
   {
    "duration": 997,
    "start_time": "2021-06-09T17:39:58.588Z"
   },
   {
    "duration": 990,
    "start_time": "2021-06-09T17:39:58.596Z"
   },
   {
    "duration": 987,
    "start_time": "2021-06-09T17:39:58.600Z"
   },
   {
    "duration": 984,
    "start_time": "2021-06-09T17:39:58.605Z"
   },
   {
    "duration": 979,
    "start_time": "2021-06-09T17:39:58.611Z"
   },
   {
    "duration": 977,
    "start_time": "2021-06-09T17:39:58.615Z"
   },
   {
    "duration": 974,
    "start_time": "2021-06-09T17:39:58.619Z"
   },
   {
    "duration": 971,
    "start_time": "2021-06-09T17:39:58.624Z"
   },
   {
    "duration": 966,
    "start_time": "2021-06-09T17:39:58.630Z"
   },
   {
    "duration": 964,
    "start_time": "2021-06-09T17:39:58.634Z"
   },
   {
    "duration": 953,
    "start_time": "2021-06-09T17:39:58.646Z"
   },
   {
    "duration": 949,
    "start_time": "2021-06-09T17:39:58.651Z"
   },
   {
    "duration": 948,
    "start_time": "2021-06-09T17:39:58.654Z"
   },
   {
    "duration": 941,
    "start_time": "2021-06-09T17:39:58.662Z"
   },
   {
    "duration": 940,
    "start_time": "2021-06-09T17:39:58.665Z"
   },
   {
    "duration": 936,
    "start_time": "2021-06-09T17:39:58.670Z"
   },
   {
    "duration": 930,
    "start_time": "2021-06-09T17:39:58.678Z"
   },
   {
    "duration": 926,
    "start_time": "2021-06-09T17:39:58.683Z"
   },
   {
    "duration": 924,
    "start_time": "2021-06-09T17:39:58.687Z"
   },
   {
    "duration": 918,
    "start_time": "2021-06-09T17:39:58.694Z"
   },
   {
    "duration": 916,
    "start_time": "2021-06-09T17:39:58.698Z"
   },
   {
    "duration": 913,
    "start_time": "2021-06-09T17:39:58.702Z"
   },
   {
    "duration": 917,
    "start_time": "2021-06-09T17:39:58.706Z"
   },
   {
    "duration": 912,
    "start_time": "2021-06-09T17:39:58.713Z"
   },
   {
    "duration": 909,
    "start_time": "2021-06-09T17:39:58.717Z"
   },
   {
    "duration": 905,
    "start_time": "2021-06-09T17:39:58.722Z"
   },
   {
    "duration": 901,
    "start_time": "2021-06-09T17:39:58.727Z"
   },
   {
    "duration": 898,
    "start_time": "2021-06-09T17:39:58.732Z"
   },
   {
    "duration": 895,
    "start_time": "2021-06-09T17:39:58.736Z"
   },
   {
    "duration": 891,
    "start_time": "2021-06-09T17:39:58.741Z"
   },
   {
    "duration": 881,
    "start_time": "2021-06-09T17:39:58.753Z"
   },
   {
    "duration": 878,
    "start_time": "2021-06-09T17:39:58.757Z"
   },
   {
    "duration": 107,
    "start_time": "2021-06-09T17:40:24.462Z"
   },
   {
    "duration": 1363,
    "start_time": "2021-06-09T17:40:35.978Z"
   },
   {
    "duration": 361,
    "start_time": "2021-06-09T17:40:37.344Z"
   },
   {
    "duration": 100,
    "start_time": "2021-06-09T17:40:37.708Z"
   },
   {
    "duration": 486,
    "start_time": "2021-06-09T17:40:37.810Z"
   },
   {
    "duration": 8,
    "start_time": "2021-06-09T17:40:38.298Z"
   },
   {
    "duration": 4,
    "start_time": "2021-06-09T17:40:38.323Z"
   },
   {
    "duration": 5,
    "start_time": "2021-06-09T17:40:38.330Z"
   },
   {
    "duration": 621,
    "start_time": "2021-06-09T17:40:38.340Z"
   },
   {
    "duration": 1303,
    "start_time": "2021-06-09T17:40:38.964Z"
   },
   {
    "duration": 4,
    "start_time": "2021-06-09T17:40:40.270Z"
   },
   {
    "duration": 13,
    "start_time": "2021-06-09T17:40:40.277Z"
   },
   {
    "duration": 4,
    "start_time": "2021-06-09T17:40:40.293Z"
   },
   {
    "duration": 28,
    "start_time": "2021-06-09T17:40:40.299Z"
   },
   {
    "duration": 13,
    "start_time": "2021-06-09T17:40:40.330Z"
   },
   {
    "duration": 7,
    "start_time": "2021-06-09T17:40:40.346Z"
   },
   {
    "duration": 4,
    "start_time": "2021-06-09T17:40:40.355Z"
   },
   {
    "duration": 7,
    "start_time": "2021-06-09T17:40:40.361Z"
   },
   {
    "duration": 754,
    "start_time": "2021-06-09T17:40:40.371Z"
   },
   {
    "duration": 634,
    "start_time": "2021-06-09T17:40:41.128Z"
   },
   {
    "duration": 149,
    "start_time": "2021-06-09T17:40:41.765Z"
   },
   {
    "duration": 34,
    "start_time": "2021-06-09T17:40:41.916Z"
   },
   {
    "duration": 117,
    "start_time": "2021-06-09T17:40:41.952Z"
   },
   {
    "duration": 11,
    "start_time": "2021-06-09T17:56:16.811Z"
   },
   {
    "duration": 90,
    "start_time": "2021-06-09T17:56:17.990Z"
   },
   {
    "duration": 417,
    "start_time": "2021-06-09T17:57:42.617Z"
   },
   {
    "duration": 1354,
    "start_time": "2021-06-09T17:58:26.872Z"
   },
   {
    "duration": 382,
    "start_time": "2021-06-09T17:58:28.228Z"
   },
   {
    "duration": 102,
    "start_time": "2021-06-09T17:58:28.613Z"
   },
   {
    "duration": 477,
    "start_time": "2021-06-09T17:58:28.718Z"
   },
   {
    "duration": 9,
    "start_time": "2021-06-09T17:58:29.197Z"
   },
   {
    "duration": 17,
    "start_time": "2021-06-09T17:58:29.209Z"
   },
   {
    "duration": 1165,
    "start_time": "2021-06-09T17:58:29.229Z"
   },
   {
    "duration": 606,
    "start_time": "2021-06-09T17:58:30.398Z"
   },
   {
    "duration": 3,
    "start_time": "2021-06-09T17:58:31.007Z"
   },
   {
    "duration": 16,
    "start_time": "2021-06-09T17:58:31.012Z"
   },
   {
    "duration": 18,
    "start_time": "2021-06-09T17:58:31.031Z"
   },
   {
    "duration": 6,
    "start_time": "2021-06-09T17:58:31.060Z"
   },
   {
    "duration": 18,
    "start_time": "2021-06-09T17:58:31.068Z"
   },
   {
    "duration": 21,
    "start_time": "2021-06-09T17:58:31.089Z"
   },
   {
    "duration": 8,
    "start_time": "2021-06-09T17:58:31.125Z"
   },
   {
    "duration": 18,
    "start_time": "2021-06-09T17:58:31.135Z"
   },
   {
    "duration": 9,
    "start_time": "2021-06-09T17:58:31.156Z"
   },
   {
    "duration": 919,
    "start_time": "2021-06-09T17:58:31.167Z"
   },
   {
    "duration": 657,
    "start_time": "2021-06-09T17:58:32.088Z"
   },
   {
    "duration": 135,
    "start_time": "2021-06-09T17:58:32.748Z"
   },
   {
    "duration": 13,
    "start_time": "2021-06-09T17:58:35.840Z"
   },
   {
    "duration": 92,
    "start_time": "2021-06-09T17:58:36.778Z"
   },
   {
    "duration": 90,
    "start_time": "2021-06-09T17:58:47.816Z"
   },
   {
    "duration": 417,
    "start_time": "2021-06-09T17:59:12.978Z"
   },
   {
    "duration": 87,
    "start_time": "2021-06-09T17:59:13.520Z"
   },
   {
    "duration": 7,
    "start_time": "2021-06-09T17:59:19.675Z"
   },
   {
    "duration": 366,
    "start_time": "2021-06-09T17:59:19.684Z"
   },
   {
    "duration": 93,
    "start_time": "2021-06-09T17:59:20.053Z"
   },
   {
    "duration": 466,
    "start_time": "2021-06-09T17:59:20.149Z"
   },
   {
    "duration": 11,
    "start_time": "2021-06-09T17:59:20.618Z"
   },
   {
    "duration": 10,
    "start_time": "2021-06-09T17:59:20.632Z"
   },
   {
    "duration": 1130,
    "start_time": "2021-06-09T17:59:20.644Z"
   },
   {
    "duration": 608,
    "start_time": "2021-06-09T17:59:21.776Z"
   },
   {
    "duration": 3,
    "start_time": "2021-06-09T17:59:22.388Z"
   },
   {
    "duration": 6,
    "start_time": "2021-06-09T17:59:22.394Z"
   },
   {
    "duration": 11,
    "start_time": "2021-06-09T17:59:22.423Z"
   },
   {
    "duration": 3,
    "start_time": "2021-06-09T17:59:22.437Z"
   },
   {
    "duration": 10,
    "start_time": "2021-06-09T17:59:22.442Z"
   },
   {
    "duration": 20,
    "start_time": "2021-06-09T17:59:22.454Z"
   },
   {
    "duration": 7,
    "start_time": "2021-06-09T17:59:22.477Z"
   },
   {
    "duration": 41,
    "start_time": "2021-06-09T17:59:22.486Z"
   },
   {
    "duration": 8,
    "start_time": "2021-06-09T17:59:22.529Z"
   },
   {
    "duration": 716,
    "start_time": "2021-06-09T17:59:22.539Z"
   },
   {
    "duration": 626,
    "start_time": "2021-06-09T17:59:23.258Z"
   },
   {
    "duration": 142,
    "start_time": "2021-06-09T17:59:23.886Z"
   },
   {
    "duration": 9,
    "start_time": "2021-06-09T17:59:24.030Z"
   },
   {
    "duration": 104,
    "start_time": "2021-06-09T17:59:24.042Z"
   },
   {
    "duration": 89,
    "start_time": "2021-06-09T17:59:28.601Z"
   },
   {
    "duration": 4,
    "start_time": "2021-06-09T17:59:30.293Z"
   },
   {
    "duration": 4,
    "start_time": "2021-06-09T17:59:31.008Z"
   },
   {
    "duration": 8,
    "start_time": "2021-06-09T17:59:31.528Z"
   },
   {
    "duration": 1395,
    "start_time": "2021-06-09T17:59:55.351Z"
   },
   {
    "duration": 379,
    "start_time": "2021-06-09T17:59:56.748Z"
   },
   {
    "duration": 100,
    "start_time": "2021-06-09T17:59:57.129Z"
   },
   {
    "duration": 480,
    "start_time": "2021-06-09T17:59:57.232Z"
   },
   {
    "duration": 10,
    "start_time": "2021-06-09T17:59:57.714Z"
   },
   {
    "duration": 7,
    "start_time": "2021-06-09T17:59:57.726Z"
   },
   {
    "duration": 1182,
    "start_time": "2021-06-09T17:59:57.735Z"
   },
   {
    "duration": 600,
    "start_time": "2021-06-09T17:59:58.925Z"
   },
   {
    "duration": 3,
    "start_time": "2021-06-09T17:59:59.528Z"
   },
   {
    "duration": 10,
    "start_time": "2021-06-09T17:59:59.533Z"
   },
   {
    "duration": 17,
    "start_time": "2021-06-09T17:59:59.546Z"
   },
   {
    "duration": 10,
    "start_time": "2021-06-09T17:59:59.565Z"
   },
   {
    "duration": 18,
    "start_time": "2021-06-09T17:59:59.577Z"
   },
   {
    "duration": 31,
    "start_time": "2021-06-09T17:59:59.597Z"
   },
   {
    "duration": 16,
    "start_time": "2021-06-09T17:59:59.630Z"
   },
   {
    "duration": 6,
    "start_time": "2021-06-09T17:59:59.648Z"
   },
   {
    "duration": 11,
    "start_time": "2021-06-09T17:59:59.656Z"
   },
   {
    "duration": 766,
    "start_time": "2021-06-09T17:59:59.670Z"
   },
   {
    "duration": 645,
    "start_time": "2021-06-09T18:00:00.438Z"
   },
   {
    "duration": 162,
    "start_time": "2021-06-09T18:00:01.086Z"
   },
   {
    "duration": 11,
    "start_time": "2021-06-09T18:00:01.250Z"
   },
   {
    "duration": 104,
    "start_time": "2021-06-09T18:00:01.263Z"
   },
   {
    "duration": 4,
    "start_time": "2021-06-09T18:00:01.373Z"
   },
   {
    "duration": 22,
    "start_time": "2021-06-09T18:00:01.380Z"
   },
   {
    "duration": 22,
    "start_time": "2021-06-09T18:00:01.405Z"
   },
   {
    "duration": 395,
    "start_time": "2021-06-09T18:00:01.430Z"
   },
   {
    "duration": 354,
    "start_time": "2021-06-09T18:00:01.828Z"
   },
   {
    "duration": 371,
    "start_time": "2021-06-09T18:00:02.184Z"
   },
   {
    "duration": 37,
    "start_time": "2021-06-09T18:00:02.557Z"
   },
   {
    "duration": 292,
    "start_time": "2021-06-09T18:00:02.597Z"
   },
   {
    "duration": 274,
    "start_time": "2021-06-09T18:00:02.892Z"
   },
   {
    "duration": 394,
    "start_time": "2021-06-09T18:00:03.169Z"
   },
   {
    "duration": 298,
    "start_time": "2021-06-09T18:00:03.566Z"
   },
   {
    "duration": 552,
    "start_time": "2021-06-09T18:00:03.867Z"
   },
   {
    "duration": 512,
    "start_time": "2021-06-09T18:00:04.424Z"
   },
   {
    "duration": 5,
    "start_time": "2021-06-09T18:00:04.938Z"
   },
   {
    "duration": 9,
    "start_time": "2021-06-09T18:00:04.945Z"
   },
   {
    "duration": 26,
    "start_time": "2021-06-09T18:00:04.956Z"
   },
   {
    "duration": 4,
    "start_time": "2021-06-09T18:00:04.985Z"
   },
   {
    "duration": 36,
    "start_time": "2021-06-09T18:00:04.991Z"
   },
   {
    "duration": 15,
    "start_time": "2021-06-09T18:00:05.030Z"
   },
   {
    "duration": 309,
    "start_time": "2021-06-09T18:00:05.047Z"
   },
   {
    "duration": 437,
    "start_time": "2021-06-09T18:00:05.358Z"
   },
   {
    "duration": 9,
    "start_time": "2021-06-09T18:00:05.797Z"
   },
   {
    "duration": 9,
    "start_time": "2021-06-09T18:00:05.825Z"
   },
   {
    "duration": 325,
    "start_time": "2021-06-09T18:00:05.836Z"
   },
   {
    "duration": 499,
    "start_time": "2021-06-09T18:00:06.164Z"
   },
   {
    "duration": 8,
    "start_time": "2021-06-09T18:00:06.666Z"
   },
   {
    "duration": 13,
    "start_time": "2021-06-09T18:00:06.677Z"
   },
   {
    "duration": 358,
    "start_time": "2021-06-09T18:00:06.693Z"
   },
   {
    "duration": 502,
    "start_time": "2021-06-09T18:00:07.054Z"
   },
   {
    "duration": 8,
    "start_time": "2021-06-09T18:00:07.558Z"
   },
   {
    "duration": 10,
    "start_time": "2021-06-09T18:00:07.569Z"
   },
   {
    "duration": 43,
    "start_time": "2021-06-09T18:00:07.582Z"
   },
   {
    "duration": 6,
    "start_time": "2021-06-09T18:00:07.628Z"
   },
   {
    "duration": 12,
    "start_time": "2021-06-09T18:00:07.636Z"
   },
   {
    "duration": 18,
    "start_time": "2021-06-09T18:00:07.651Z"
   },
   {
    "duration": 14,
    "start_time": "2021-06-09T18:00:07.672Z"
   },
   {
    "duration": 106,
    "start_time": "2021-06-09T18:00:07.689Z"
   },
   {
    "duration": 361,
    "start_time": "2021-06-09T18:00:07.797Z"
   },
   {
    "duration": 194,
    "start_time": "2021-06-09T18:00:08.160Z"
   },
   {
    "duration": 238,
    "start_time": "2021-06-09T18:18:40.657Z"
   },
   {
    "duration": 1484,
    "start_time": "2021-06-09T18:19:17.471Z"
   },
   {
    "duration": 497,
    "start_time": "2021-06-09T18:19:18.958Z"
   },
   {
    "duration": 100,
    "start_time": "2021-06-09T18:19:19.458Z"
   },
   {
    "duration": 469,
    "start_time": "2021-06-09T18:19:19.560Z"
   },
   {
    "duration": 8,
    "start_time": "2021-06-09T18:19:20.032Z"
   },
   {
    "duration": 13,
    "start_time": "2021-06-09T18:19:20.042Z"
   },
   {
    "duration": 1100,
    "start_time": "2021-06-09T18:19:20.057Z"
   },
   {
    "duration": 571,
    "start_time": "2021-06-09T18:19:21.161Z"
   },
   {
    "duration": 3,
    "start_time": "2021-06-09T18:19:21.735Z"
   },
   {
    "duration": 8,
    "start_time": "2021-06-09T18:19:21.740Z"
   },
   {
    "duration": 14,
    "start_time": "2021-06-09T18:19:21.751Z"
   },
   {
    "duration": 6,
    "start_time": "2021-06-09T18:19:21.767Z"
   },
   {
    "duration": 10,
    "start_time": "2021-06-09T18:19:21.775Z"
   },
   {
    "duration": 15,
    "start_time": "2021-06-09T18:19:21.787Z"
   },
   {
    "duration": 7,
    "start_time": "2021-06-09T18:19:21.804Z"
   },
   {
    "duration": 4,
    "start_time": "2021-06-09T18:19:21.813Z"
   },
   {
    "duration": 7,
    "start_time": "2021-06-09T18:19:21.820Z"
   },
   {
    "duration": 756,
    "start_time": "2021-06-09T18:19:21.829Z"
   },
   {
    "duration": 653,
    "start_time": "2021-06-09T18:19:22.587Z"
   },
   {
    "duration": 202,
    "start_time": "2021-06-09T18:19:23.243Z"
   },
   {
    "duration": 13,
    "start_time": "2021-06-09T18:19:23.448Z"
   },
   {
    "duration": 128,
    "start_time": "2021-06-09T18:19:23.464Z"
   },
   {
    "duration": 3,
    "start_time": "2021-06-09T18:19:23.597Z"
   },
   {
    "duration": 21,
    "start_time": "2021-06-09T18:19:23.603Z"
   },
   {
    "duration": 24,
    "start_time": "2021-06-09T18:19:23.626Z"
   },
   {
    "duration": 359,
    "start_time": "2021-06-09T18:19:23.653Z"
   },
   {
    "duration": 350,
    "start_time": "2021-06-09T18:19:24.014Z"
   },
   {
    "duration": 343,
    "start_time": "2021-06-09T18:19:24.366Z"
   },
   {
    "duration": 36,
    "start_time": "2021-06-09T18:19:24.711Z"
   },
   {
    "duration": 278,
    "start_time": "2021-06-09T18:19:24.749Z"
   },
   {
    "duration": 268,
    "start_time": "2021-06-09T18:19:25.029Z"
   },
   {
    "duration": 313,
    "start_time": "2021-06-09T18:19:25.300Z"
   },
   {
    "duration": 246,
    "start_time": "2021-06-09T18:19:25.615Z"
   },
   {
    "duration": 464,
    "start_time": "2021-06-09T18:19:25.864Z"
   },
   {
    "duration": 472,
    "start_time": "2021-06-09T18:19:26.331Z"
   },
   {
    "duration": 5,
    "start_time": "2021-06-09T18:19:26.805Z"
   },
   {
    "duration": 7,
    "start_time": "2021-06-09T18:19:26.812Z"
   },
   {
    "duration": 28,
    "start_time": "2021-06-09T18:19:26.821Z"
   },
   {
    "duration": 4,
    "start_time": "2021-06-09T18:19:26.851Z"
   },
   {
    "duration": 8,
    "start_time": "2021-06-09T18:19:26.857Z"
   },
   {
    "duration": 10,
    "start_time": "2021-06-09T18:19:26.868Z"
   },
   {
    "duration": 277,
    "start_time": "2021-06-09T18:19:26.880Z"
   },
   {
    "duration": 412,
    "start_time": "2021-06-09T18:19:27.159Z"
   },
   {
    "duration": 8,
    "start_time": "2021-06-09T18:19:27.574Z"
   },
   {
    "duration": 10,
    "start_time": "2021-06-09T18:19:27.585Z"
   },
   {
    "duration": 304,
    "start_time": "2021-06-09T18:19:27.597Z"
   },
   {
    "duration": 447,
    "start_time": "2021-06-09T18:19:27.904Z"
   },
   {
    "duration": 8,
    "start_time": "2021-06-09T18:19:28.353Z"
   },
   {
    "duration": 14,
    "start_time": "2021-06-09T18:19:28.363Z"
   },
   {
    "duration": 291,
    "start_time": "2021-06-09T18:19:28.379Z"
   },
   {
    "duration": 438,
    "start_time": "2021-06-09T18:19:28.672Z"
   },
   {
    "duration": 14,
    "start_time": "2021-06-09T18:19:29.113Z"
   },
   {
    "duration": 15,
    "start_time": "2021-06-09T18:19:29.129Z"
   },
   {
    "duration": 24,
    "start_time": "2021-06-09T18:19:29.146Z"
   },
   {
    "duration": 8,
    "start_time": "2021-06-09T18:19:29.172Z"
   },
   {
    "duration": 18,
    "start_time": "2021-06-09T18:19:29.182Z"
   },
   {
    "duration": 23,
    "start_time": "2021-06-09T18:19:29.202Z"
   },
   {
    "duration": 18,
    "start_time": "2021-06-09T18:19:29.228Z"
   },
   {
    "duration": 85,
    "start_time": "2021-06-09T18:19:29.248Z"
   },
   {
    "duration": 439,
    "start_time": "2021-06-09T18:19:29.335Z"
   },
   {
    "duration": 257,
    "start_time": "2021-06-09T18:19:29.777Z"
   },
   {
    "duration": 6,
    "start_time": "2021-06-09T18:19:56.194Z"
   },
   {
    "duration": 7,
    "start_time": "2021-06-09T18:19:57.076Z"
   },
   {
    "duration": 88,
    "start_time": "2021-06-09T18:19:57.849Z"
   },
   {
    "duration": 207,
    "start_time": "2021-06-09T18:20:05.011Z"
   },
   {
    "duration": 84,
    "start_time": "2021-06-09T18:24:35.196Z"
   },
   {
    "duration": 7,
    "start_time": "2021-06-09T18:25:04.060Z"
   },
   {
    "duration": 6,
    "start_time": "2021-06-09T18:25:25.417Z"
   },
   {
    "duration": 5,
    "start_time": "2021-06-09T18:26:00.497Z"
   },
   {
    "duration": 6,
    "start_time": "2021-06-09T18:26:01.956Z"
   },
   {
    "duration": 324,
    "start_time": "2021-06-09T18:43:53.827Z"
   },
   {
    "duration": 1614,
    "start_time": "2021-06-10T08:00:34.526Z"
   },
   {
    "duration": 450,
    "start_time": "2021-06-10T08:00:36.143Z"
   },
   {
    "duration": 158,
    "start_time": "2021-06-10T08:00:36.601Z"
   },
   {
    "duration": 505,
    "start_time": "2021-06-10T08:00:36.763Z"
   },
   {
    "duration": 14,
    "start_time": "2021-06-10T08:00:37.271Z"
   },
   {
    "duration": 9,
    "start_time": "2021-06-10T08:00:37.288Z"
   },
   {
    "duration": 1215,
    "start_time": "2021-06-10T08:00:37.300Z"
   },
   {
    "duration": 661,
    "start_time": "2021-06-10T08:00:38.517Z"
   },
   {
    "duration": 4,
    "start_time": "2021-06-10T08:00:39.184Z"
   },
   {
    "duration": 8,
    "start_time": "2021-06-10T08:00:39.191Z"
   },
   {
    "duration": 16,
    "start_time": "2021-06-10T08:00:39.201Z"
   },
   {
    "duration": 5,
    "start_time": "2021-06-10T08:00:39.219Z"
   },
   {
    "duration": 10,
    "start_time": "2021-06-10T08:00:39.226Z"
   },
   {
    "duration": 50,
    "start_time": "2021-06-10T08:00:39.239Z"
   },
   {
    "duration": 7,
    "start_time": "2021-06-10T08:00:39.292Z"
   },
   {
    "duration": 4,
    "start_time": "2021-06-10T08:00:39.302Z"
   },
   {
    "duration": 9,
    "start_time": "2021-06-10T08:00:39.311Z"
   },
   {
    "duration": 813,
    "start_time": "2021-06-10T08:00:39.323Z"
   },
   {
    "duration": 808,
    "start_time": "2021-06-10T08:00:40.138Z"
   },
   {
    "duration": 169,
    "start_time": "2021-06-10T08:00:40.949Z"
   },
   {
    "duration": 13,
    "start_time": "2021-06-10T08:00:41.120Z"
   },
   {
    "duration": 123,
    "start_time": "2021-06-10T08:00:41.135Z"
   },
   {
    "duration": 3,
    "start_time": "2021-06-10T08:00:41.261Z"
   },
   {
    "duration": 18,
    "start_time": "2021-06-10T08:00:41.267Z"
   },
   {
    "duration": 15,
    "start_time": "2021-06-10T08:00:41.289Z"
   },
   {
    "duration": 403,
    "start_time": "2021-06-10T08:00:41.307Z"
   },
   {
    "duration": 361,
    "start_time": "2021-06-10T08:00:41.713Z"
   },
   {
    "duration": 358,
    "start_time": "2021-06-10T08:00:42.076Z"
   },
   {
    "duration": 35,
    "start_time": "2021-06-10T08:00:42.436Z"
   },
   {
    "duration": 267,
    "start_time": "2021-06-10T08:00:42.486Z"
   },
   {
    "duration": 277,
    "start_time": "2021-06-10T08:00:42.756Z"
   },
   {
    "duration": 342,
    "start_time": "2021-06-10T08:00:43.036Z"
   },
   {
    "duration": 281,
    "start_time": "2021-06-10T08:00:43.385Z"
   },
   {
    "duration": 497,
    "start_time": "2021-06-10T08:00:43.670Z"
   },
   {
    "duration": 524,
    "start_time": "2021-06-10T08:00:44.169Z"
   },
   {
    "duration": 7,
    "start_time": "2021-06-10T08:00:44.696Z"
   },
   {
    "duration": 8,
    "start_time": "2021-06-10T08:00:44.706Z"
   },
   {
    "duration": 68,
    "start_time": "2021-06-10T08:00:44.717Z"
   },
   {
    "duration": 5,
    "start_time": "2021-06-10T08:00:44.788Z"
   },
   {
    "duration": 7,
    "start_time": "2021-06-10T08:00:44.795Z"
   },
   {
    "duration": 10,
    "start_time": "2021-06-10T08:00:44.804Z"
   },
   {
    "duration": 321,
    "start_time": "2021-06-10T08:00:44.817Z"
   },
   {
    "duration": 456,
    "start_time": "2021-06-10T08:00:45.141Z"
   },
   {
    "duration": 10,
    "start_time": "2021-06-10T08:00:45.601Z"
   },
   {
    "duration": 10,
    "start_time": "2021-06-10T08:00:45.613Z"
   },
   {
    "duration": 344,
    "start_time": "2021-06-10T08:00:45.626Z"
   },
   {
    "duration": 593,
    "start_time": "2021-06-10T08:00:48.543Z"
   },
   {
    "duration": 475,
    "start_time": "2021-06-10T08:01:54.414Z"
   },
   {
    "duration": 581,
    "start_time": "2021-06-10T08:02:00.807Z"
   },
   {
    "duration": 476,
    "start_time": "2021-06-10T08:02:32.680Z"
   },
   {
    "duration": 813,
    "start_time": "2021-06-10T08:02:40.281Z"
   },
   {
    "duration": 464,
    "start_time": "2021-06-10T08:02:49.950Z"
   },
   {
    "duration": 456,
    "start_time": "2021-06-10T08:02:58.895Z"
   },
   {
    "duration": 720,
    "start_time": "2021-06-10T08:04:18.144Z"
   },
   {
    "duration": 716,
    "start_time": "2021-06-10T08:04:29.849Z"
   },
   {
    "duration": 821,
    "start_time": "2021-06-10T08:05:12.304Z"
   },
   {
    "duration": 260,
    "start_time": "2021-06-10T08:06:05.621Z"
   },
   {
    "duration": 251,
    "start_time": "2021-06-10T08:06:26.483Z"
   },
   {
    "duration": 367,
    "start_time": "2021-06-10T08:06:37.547Z"
   },
   {
    "duration": 693,
    "start_time": "2021-06-10T08:06:54.467Z"
   },
   {
    "duration": 453,
    "start_time": "2021-06-10T08:07:21.668Z"
   },
   {
    "duration": 395,
    "start_time": "2021-06-10T08:08:04.861Z"
   },
   {
    "duration": 282,
    "start_time": "2021-06-10T08:08:17.381Z"
   },
   {
    "duration": 303,
    "start_time": "2021-06-10T08:08:23.030Z"
   },
   {
    "duration": 268,
    "start_time": "2021-06-10T08:08:44.989Z"
   },
   {
    "duration": 286,
    "start_time": "2021-06-10T08:08:50.173Z"
   },
   {
    "duration": 294,
    "start_time": "2021-06-10T08:08:56.741Z"
   },
   {
    "duration": 302,
    "start_time": "2021-06-10T08:10:48.048Z"
   },
   {
    "duration": 294,
    "start_time": "2021-06-10T08:11:02.056Z"
   },
   {
    "duration": 355,
    "start_time": "2021-06-10T08:11:45.930Z"
   },
   {
    "duration": 250,
    "start_time": "2021-06-10T08:16:00.227Z"
   },
   {
    "duration": 267,
    "start_time": "2021-06-10T08:16:16.670Z"
   },
   {
    "duration": 263,
    "start_time": "2021-06-10T08:16:43.934Z"
   },
   {
    "duration": 264,
    "start_time": "2021-06-10T08:16:53.070Z"
   },
   {
    "duration": 287,
    "start_time": "2021-06-10T08:17:17.063Z"
   },
   {
    "duration": 302,
    "start_time": "2021-06-10T08:17:26.727Z"
   },
   {
    "duration": 279,
    "start_time": "2021-06-10T08:17:39.527Z"
   },
   {
    "duration": 267,
    "start_time": "2021-06-10T08:17:49.952Z"
   },
   {
    "duration": 240,
    "start_time": "2021-06-10T08:17:55.455Z"
   },
   {
    "duration": 277,
    "start_time": "2021-06-10T08:18:02.966Z"
   },
   {
    "duration": 470,
    "start_time": "2021-06-10T08:18:22.984Z"
   },
   {
    "duration": 8,
    "start_time": "2021-06-10T08:18:48.401Z"
   },
   {
    "duration": 7,
    "start_time": "2021-06-10T08:18:49.721Z"
   },
   {
    "duration": 289,
    "start_time": "2021-06-10T08:18:51.031Z"
   },
   {
    "duration": 305,
    "start_time": "2021-06-10T08:19:00.851Z"
   },
   {
    "duration": 426,
    "start_time": "2021-06-10T08:19:04.816Z"
   },
   {
    "duration": 8,
    "start_time": "2021-06-10T08:19:08.572Z"
   },
   {
    "duration": 5,
    "start_time": "2021-06-10T08:19:11.267Z"
   },
   {
    "duration": 11,
    "start_time": "2021-06-10T08:19:12.046Z"
   },
   {
    "duration": 5,
    "start_time": "2021-06-10T08:19:12.653Z"
   },
   {
    "duration": 6,
    "start_time": "2021-06-10T08:23:38.047Z"
   },
   {
    "duration": 397,
    "start_time": "2021-06-10T08:23:38.055Z"
   },
   {
    "duration": 100,
    "start_time": "2021-06-10T08:23:38.455Z"
   },
   {
    "duration": 476,
    "start_time": "2021-06-10T08:23:38.557Z"
   },
   {
    "duration": 8,
    "start_time": "2021-06-10T08:23:39.035Z"
   },
   {
    "duration": 19,
    "start_time": "2021-06-10T08:23:39.046Z"
   },
   {
    "duration": 1132,
    "start_time": "2021-06-10T08:23:39.067Z"
   },
   {
    "duration": 664,
    "start_time": "2021-06-10T08:23:40.201Z"
   },
   {
    "duration": 3,
    "start_time": "2021-06-10T08:23:40.867Z"
   },
   {
    "duration": 14,
    "start_time": "2021-06-10T08:23:40.872Z"
   },
   {
    "duration": 12,
    "start_time": "2021-06-10T08:23:40.889Z"
   },
   {
    "duration": 8,
    "start_time": "2021-06-10T08:23:40.904Z"
   },
   {
    "duration": 8,
    "start_time": "2021-06-10T08:23:40.914Z"
   },
   {
    "duration": 28,
    "start_time": "2021-06-10T08:23:40.924Z"
   },
   {
    "duration": 32,
    "start_time": "2021-06-10T08:23:40.955Z"
   },
   {
    "duration": 4,
    "start_time": "2021-06-10T08:23:40.990Z"
   },
   {
    "duration": 10,
    "start_time": "2021-06-10T08:23:40.996Z"
   },
   {
    "duration": 719,
    "start_time": "2021-06-10T08:23:41.008Z"
   },
   {
    "duration": 626,
    "start_time": "2021-06-10T08:23:41.730Z"
   },
   {
    "duration": 156,
    "start_time": "2021-06-10T08:23:42.358Z"
   },
   {
    "duration": 8,
    "start_time": "2021-06-10T08:23:42.516Z"
   },
   {
    "duration": 102,
    "start_time": "2021-06-10T08:23:42.526Z"
   },
   {
    "duration": 366,
    "start_time": "2021-06-10T08:23:42.630Z"
   },
   {
    "duration": 355,
    "start_time": "2021-06-10T08:23:42.998Z"
   },
   {
    "duration": 356,
    "start_time": "2021-06-10T08:23:43.356Z"
   },
   {
    "duration": 37,
    "start_time": "2021-06-10T08:23:43.715Z"
   },
   {
    "duration": 573,
    "start_time": "2021-06-10T08:23:43.755Z"
   },
   {
    "duration": 393,
    "start_time": "2021-06-10T08:23:44.331Z"
   },
   {
    "duration": 310,
    "start_time": "2021-06-10T08:23:44.726Z"
   },
   {
    "duration": 493,
    "start_time": "2021-06-10T08:23:45.039Z"
   },
   {
    "duration": 301,
    "start_time": "2021-06-10T08:23:45.534Z"
   },
   {
    "duration": 287,
    "start_time": "2021-06-10T08:23:45.838Z"
   },
   {
    "duration": 5,
    "start_time": "2021-06-10T08:23:46.128Z"
   },
   {
    "duration": 6,
    "start_time": "2021-06-10T08:23:46.136Z"
   },
   {
    "duration": 56,
    "start_time": "2021-06-10T08:23:46.144Z"
   },
   {
    "duration": 5,
    "start_time": "2021-06-10T08:23:46.202Z"
   },
   {
    "duration": 8,
    "start_time": "2021-06-10T08:23:46.209Z"
   },
   {
    "duration": 8,
    "start_time": "2021-06-10T08:23:46.219Z"
   },
   {
    "duration": 313,
    "start_time": "2021-06-10T08:23:46.229Z"
   },
   {
    "duration": 425,
    "start_time": "2021-06-10T08:23:46.544Z"
   },
   {
    "duration": 16,
    "start_time": "2021-06-10T08:23:46.971Z"
   },
   {
    "duration": 9,
    "start_time": "2021-06-10T08:23:46.989Z"
   },
   {
    "duration": 343,
    "start_time": "2021-06-10T08:23:47.000Z"
   },
   {
    "duration": 481,
    "start_time": "2021-06-10T08:23:47.345Z"
   },
   {
    "duration": 7,
    "start_time": "2021-06-10T08:23:47.829Z"
   },
   {
    "duration": 9,
    "start_time": "2021-06-10T08:23:47.838Z"
   },
   {
    "duration": 360,
    "start_time": "2021-06-10T08:23:47.850Z"
   },
   {
    "duration": 551,
    "start_time": "2021-06-10T08:23:48.213Z"
   },
   {
    "duration": 18,
    "start_time": "2021-06-10T08:23:48.766Z"
   },
   {
    "duration": 6,
    "start_time": "2021-06-10T08:23:48.787Z"
   },
   {
    "duration": 27,
    "start_time": "2021-06-10T08:23:48.795Z"
   },
   {
    "duration": 12,
    "start_time": "2021-06-10T08:23:48.825Z"
   },
   {
    "duration": 25,
    "start_time": "2021-06-10T08:23:48.840Z"
   },
   {
    "duration": 21,
    "start_time": "2021-06-10T08:23:48.868Z"
   },
   {
    "duration": 4,
    "start_time": "2021-06-10T08:23:48.909Z"
   },
   {
    "duration": 18,
    "start_time": "2021-06-10T08:23:48.915Z"
   },
   {
    "duration": 19,
    "start_time": "2021-06-10T08:23:48.935Z"
   },
   {
    "duration": 19,
    "start_time": "2021-06-10T08:23:48.957Z"
   },
   {
    "duration": 9,
    "start_time": "2021-06-10T08:23:48.978Z"
   },
   {
    "duration": 8,
    "start_time": "2021-06-10T08:23:48.990Z"
   },
   {
    "duration": 11313,
    "start_time": "2021-06-10T08:23:49.000Z"
   },
   {
    "duration": 12218,
    "start_time": "2021-06-10T08:24:00.316Z"
   },
   {
    "duration": 457,
    "start_time": "2021-06-10T08:37:17.746Z"
   },
   {
    "duration": 325,
    "start_time": "2021-06-10T08:37:30.235Z"
   },
   {
    "duration": 1454,
    "start_time": "2021-06-10T08:41:46.197Z"
   },
   {
    "duration": 375,
    "start_time": "2021-06-10T08:41:47.654Z"
   },
   {
    "duration": 106,
    "start_time": "2021-06-10T08:41:48.032Z"
   },
   {
    "duration": 482,
    "start_time": "2021-06-10T08:41:48.141Z"
   },
   {
    "duration": 7,
    "start_time": "2021-06-10T08:41:48.626Z"
   },
   {
    "duration": 15,
    "start_time": "2021-06-10T08:41:48.636Z"
   },
   {
    "duration": 1192,
    "start_time": "2021-06-10T08:41:48.653Z"
   },
   {
    "duration": 653,
    "start_time": "2021-06-10T08:41:49.849Z"
   },
   {
    "duration": 6,
    "start_time": "2021-06-10T08:41:50.505Z"
   },
   {
    "duration": 14,
    "start_time": "2021-06-10T08:41:50.514Z"
   },
   {
    "duration": 18,
    "start_time": "2021-06-10T08:41:50.530Z"
   },
   {
    "duration": 10,
    "start_time": "2021-06-10T08:41:50.550Z"
   },
   {
    "duration": 34,
    "start_time": "2021-06-10T08:41:50.563Z"
   },
   {
    "duration": 28,
    "start_time": "2021-06-10T08:41:50.599Z"
   },
   {
    "duration": 11,
    "start_time": "2021-06-10T08:41:50.629Z"
   },
   {
    "duration": 8,
    "start_time": "2021-06-10T08:41:50.643Z"
   },
   {
    "duration": 22,
    "start_time": "2021-06-10T08:41:50.653Z"
   },
   {
    "duration": 890,
    "start_time": "2021-06-10T08:41:50.677Z"
   },
   {
    "duration": 666,
    "start_time": "2021-06-10T08:41:51.569Z"
   },
   {
    "duration": 147,
    "start_time": "2021-06-10T08:41:52.238Z"
   },
   {
    "duration": 388,
    "start_time": "2021-06-10T08:41:52.388Z"
   },
   {
    "duration": 350,
    "start_time": "2021-06-10T08:41:52.786Z"
   },
   {
    "duration": 339,
    "start_time": "2021-06-10T08:41:53.141Z"
   },
   {
    "duration": 36,
    "start_time": "2021-06-10T08:41:53.487Z"
   },
   {
    "duration": 494,
    "start_time": "2021-06-10T08:41:53.526Z"
   },
   {
    "duration": 298,
    "start_time": "2021-06-10T08:41:54.022Z"
   },
   {
    "duration": 370,
    "start_time": "2021-06-10T08:41:54.322Z"
   },
   {
    "duration": 486,
    "start_time": "2021-06-10T08:41:54.695Z"
   },
   {
    "duration": 285,
    "start_time": "2021-06-10T08:41:55.186Z"
   },
   {
    "duration": 346,
    "start_time": "2021-06-10T08:41:55.473Z"
   },
   {
    "duration": 6,
    "start_time": "2021-06-10T08:41:55.822Z"
   },
   {
    "duration": 10,
    "start_time": "2021-06-10T08:41:55.830Z"
   },
   {
    "duration": 54,
    "start_time": "2021-06-10T08:41:55.843Z"
   },
   {
    "duration": 6,
    "start_time": "2021-06-10T08:41:55.900Z"
   },
   {
    "duration": 19,
    "start_time": "2021-06-10T08:41:55.908Z"
   },
   {
    "duration": 16,
    "start_time": "2021-06-10T08:41:55.929Z"
   },
   {
    "duration": 301,
    "start_time": "2021-06-10T08:41:55.947Z"
   },
   {
    "duration": 437,
    "start_time": "2021-06-10T08:41:56.251Z"
   },
   {
    "duration": 9,
    "start_time": "2021-06-10T08:41:56.690Z"
   },
   {
    "duration": 23,
    "start_time": "2021-06-10T08:41:56.702Z"
   },
   {
    "duration": 344,
    "start_time": "2021-06-10T08:41:56.727Z"
   },
   {
    "duration": 589,
    "start_time": "2021-06-10T08:41:57.074Z"
   },
   {
    "duration": 21,
    "start_time": "2021-06-10T08:41:57.666Z"
   },
   {
    "duration": 20,
    "start_time": "2021-06-10T08:41:57.690Z"
   },
   {
    "duration": 312,
    "start_time": "2021-06-10T08:41:57.712Z"
   },
   {
    "duration": 452,
    "start_time": "2021-06-10T08:41:58.028Z"
   },
   {
    "duration": 10,
    "start_time": "2021-06-10T08:41:58.486Z"
   },
   {
    "duration": 6,
    "start_time": "2021-06-10T08:41:58.500Z"
   },
   {
    "duration": 15,
    "start_time": "2021-06-10T08:41:58.509Z"
   },
   {
    "duration": 5,
    "start_time": "2021-06-10T08:41:58.527Z"
   },
   {
    "duration": 50,
    "start_time": "2021-06-10T08:41:58.535Z"
   },
   {
    "duration": 7,
    "start_time": "2021-06-10T08:41:58.589Z"
   },
   {
    "duration": 18,
    "start_time": "2021-06-10T08:41:58.598Z"
   },
   {
    "duration": 489,
    "start_time": "2021-06-10T08:41:58.618Z"
   },
   {
    "duration": -26,
    "start_time": "2021-06-10T08:41:59.136Z"
   },
   {
    "duration": -30,
    "start_time": "2021-06-10T08:41:59.142Z"
   },
   {
    "duration": -32,
    "start_time": "2021-06-10T08:41:59.147Z"
   },
   {
    "duration": -36,
    "start_time": "2021-06-10T08:41:59.153Z"
   },
   {
    "duration": 14,
    "start_time": "2021-06-10T08:42:51.176Z"
   },
   {
    "duration": 5,
    "start_time": "2021-06-10T08:42:52.835Z"
   },
   {
    "duration": 6,
    "start_time": "2021-06-10T08:42:53.785Z"
   },
   {
    "duration": 10,
    "start_time": "2021-06-10T08:43:01.035Z"
   },
   {
    "duration": 4,
    "start_time": "2021-06-10T08:43:01.816Z"
   },
   {
    "duration": 5,
    "start_time": "2021-06-10T08:43:02.256Z"
   },
   {
    "duration": 285,
    "start_time": "2021-06-10T08:43:03.439Z"
   },
   {
    "duration": 12411,
    "start_time": "2021-06-10T08:43:25.432Z"
   },
   {
    "duration": 6,
    "start_time": "2021-06-10T08:43:37.846Z"
   },
   {
    "duration": 12214,
    "start_time": "2021-06-10T08:43:41.297Z"
   },
   {
    "duration": 4,
    "start_time": "2021-06-10T08:52:28.108Z"
   },
   {
    "duration": 323,
    "start_time": "2021-06-10T08:52:28.866Z"
   },
   {
    "duration": 112,
    "start_time": "2021-06-10T08:52:54.330Z"
   },
   {
    "duration": 13,
    "start_time": "2021-06-10T08:53:00.083Z"
   },
   {
    "duration": 121,
    "start_time": "2021-06-10T08:53:00.964Z"
   },
   {
    "duration": 1949,
    "start_time": "2021-06-10T08:57:04.569Z"
   },
   {
    "duration": 580,
    "start_time": "2021-06-10T08:57:06.522Z"
   },
   {
    "duration": 152,
    "start_time": "2021-06-10T08:57:07.106Z"
   },
   {
    "duration": 729,
    "start_time": "2021-06-10T08:57:07.261Z"
   },
   {
    "duration": 12,
    "start_time": "2021-06-10T08:57:07.993Z"
   },
   {
    "duration": 17,
    "start_time": "2021-06-10T08:57:08.008Z"
   },
   {
    "duration": 1803,
    "start_time": "2021-06-10T08:57:08.028Z"
   },
   {
    "duration": 782,
    "start_time": "2021-06-10T08:57:09.835Z"
   },
   {
    "duration": 4,
    "start_time": "2021-06-10T08:57:10.621Z"
   },
   {
    "duration": 21,
    "start_time": "2021-06-10T08:57:10.628Z"
   },
   {
    "duration": 46,
    "start_time": "2021-06-10T08:57:10.652Z"
   },
   {
    "duration": 13,
    "start_time": "2021-06-10T08:57:10.700Z"
   },
   {
    "duration": 18,
    "start_time": "2021-06-10T08:57:10.716Z"
   },
   {
    "duration": 35,
    "start_time": "2021-06-10T08:57:10.737Z"
   },
   {
    "duration": 21,
    "start_time": "2021-06-10T08:57:10.775Z"
   },
   {
    "duration": 14,
    "start_time": "2021-06-10T08:57:10.798Z"
   },
   {
    "duration": 22,
    "start_time": "2021-06-10T08:57:10.814Z"
   },
   {
    "duration": 764,
    "start_time": "2021-06-10T08:57:10.839Z"
   },
   {
    "duration": 661,
    "start_time": "2021-06-10T08:57:11.605Z"
   },
   {
    "duration": 159,
    "start_time": "2021-06-10T08:57:12.269Z"
   },
   {
    "duration": 24,
    "start_time": "2021-06-10T08:57:12.430Z"
   },
   {
    "duration": 377,
    "start_time": "2021-06-10T08:57:12.456Z"
   },
   {
    "duration": 353,
    "start_time": "2021-06-10T08:57:12.835Z"
   },
   {
    "duration": 357,
    "start_time": "2021-06-10T08:57:13.191Z"
   },
   {
    "duration": 50,
    "start_time": "2021-06-10T08:57:13.551Z"
   },
   {
    "duration": 499,
    "start_time": "2021-06-10T08:57:13.609Z"
   },
   {
    "duration": 297,
    "start_time": "2021-06-10T08:57:14.111Z"
   },
   {
    "duration": 513,
    "start_time": "2021-06-10T08:57:14.411Z"
   },
   {
    "duration": 714,
    "start_time": "2021-06-10T08:57:14.927Z"
   },
   {
    "duration": 298,
    "start_time": "2021-06-10T08:57:15.643Z"
   },
   {
    "duration": 307,
    "start_time": "2021-06-10T08:57:15.944Z"
   },
   {
    "duration": 4,
    "start_time": "2021-06-10T08:57:16.254Z"
   },
   {
    "duration": 26,
    "start_time": "2021-06-10T08:57:16.261Z"
   },
   {
    "duration": 32,
    "start_time": "2021-06-10T08:57:16.290Z"
   },
   {
    "duration": 10,
    "start_time": "2021-06-10T08:57:16.324Z"
   },
   {
    "duration": 24,
    "start_time": "2021-06-10T08:57:16.337Z"
   },
   {
    "duration": 25,
    "start_time": "2021-06-10T08:57:16.363Z"
   },
   {
    "duration": 305,
    "start_time": "2021-06-10T08:57:16.391Z"
   },
   {
    "duration": 435,
    "start_time": "2021-06-10T08:57:16.698Z"
   },
   {
    "duration": 9,
    "start_time": "2021-06-10T08:57:17.136Z"
   },
   {
    "duration": 12,
    "start_time": "2021-06-10T08:57:17.147Z"
   },
   {
    "duration": 355,
    "start_time": "2021-06-10T08:57:17.162Z"
   },
   {
    "duration": 507,
    "start_time": "2021-06-10T08:57:17.520Z"
   },
   {
    "duration": 9,
    "start_time": "2021-06-10T08:57:18.030Z"
   },
   {
    "duration": 10,
    "start_time": "2021-06-10T08:57:18.042Z"
   },
   {
    "duration": 352,
    "start_time": "2021-06-10T08:57:18.055Z"
   },
   {
    "duration": 627,
    "start_time": "2021-06-10T08:57:18.409Z"
   },
   {
    "duration": 8,
    "start_time": "2021-06-10T08:57:19.039Z"
   },
   {
    "duration": 15,
    "start_time": "2021-06-10T08:57:19.050Z"
   },
   {
    "duration": 13,
    "start_time": "2021-06-10T08:57:19.068Z"
   },
   {
    "duration": 6,
    "start_time": "2021-06-10T08:57:19.084Z"
   },
   {
    "duration": 13,
    "start_time": "2021-06-10T08:57:19.093Z"
   },
   {
    "duration": 9,
    "start_time": "2021-06-10T08:57:19.109Z"
   },
   {
    "duration": 21,
    "start_time": "2021-06-10T08:57:19.121Z"
   },
   {
    "duration": 179,
    "start_time": "2021-06-10T08:57:19.145Z"
   },
   {
    "duration": 6,
    "start_time": "2021-06-10T08:57:19.328Z"
   },
   {
    "duration": 12,
    "start_time": "2021-06-10T08:57:19.337Z"
   },
   {
    "duration": 6,
    "start_time": "2021-06-10T08:57:19.352Z"
   },
   {
    "duration": 715,
    "start_time": "2021-06-10T08:57:19.361Z"
   },
   {
    "duration": -895,
    "start_time": "2021-06-10T08:57:20.975Z"
   },
   {
    "duration": 109,
    "start_time": "2021-06-10T08:57:42.243Z"
   },
   {
    "duration": 22,
    "start_time": "2021-06-10T08:58:06.044Z"
   },
   {
    "duration": 5,
    "start_time": "2021-06-10T08:58:20.274Z"
   },
   {
    "duration": 424,
    "start_time": "2021-06-10T08:58:20.287Z"
   },
   {
    "duration": 96,
    "start_time": "2021-06-10T08:58:20.713Z"
   },
   {
    "duration": 487,
    "start_time": "2021-06-10T08:58:20.812Z"
   },
   {
    "duration": 8,
    "start_time": "2021-06-10T08:58:21.302Z"
   },
   {
    "duration": 14,
    "start_time": "2021-06-10T08:58:21.312Z"
   },
   {
    "duration": 1178,
    "start_time": "2021-06-10T08:58:21.328Z"
   },
   {
    "duration": 747,
    "start_time": "2021-06-10T08:58:22.509Z"
   },
   {
    "duration": 4,
    "start_time": "2021-06-10T08:58:23.259Z"
   },
   {
    "duration": 18,
    "start_time": "2021-06-10T08:58:23.270Z"
   },
   {
    "duration": 19,
    "start_time": "2021-06-10T08:58:23.292Z"
   },
   {
    "duration": 15,
    "start_time": "2021-06-10T08:58:23.314Z"
   },
   {
    "duration": 15,
    "start_time": "2021-06-10T08:58:23.332Z"
   },
   {
    "duration": 40,
    "start_time": "2021-06-10T08:58:23.350Z"
   },
   {
    "duration": 10,
    "start_time": "2021-06-10T08:58:23.393Z"
   },
   {
    "duration": 12,
    "start_time": "2021-06-10T08:58:23.406Z"
   },
   {
    "duration": 12,
    "start_time": "2021-06-10T08:58:23.420Z"
   },
   {
    "duration": 751,
    "start_time": "2021-06-10T08:58:23.435Z"
   },
   {
    "duration": 621,
    "start_time": "2021-06-10T08:58:24.189Z"
   },
   {
    "duration": 150,
    "start_time": "2021-06-10T08:58:24.812Z"
   },
   {
    "duration": 28,
    "start_time": "2021-06-10T08:58:24.964Z"
   },
   {
    "duration": 385,
    "start_time": "2021-06-10T08:58:24.995Z"
   },
   {
    "duration": 412,
    "start_time": "2021-06-10T08:58:25.386Z"
   },
   {
    "duration": 374,
    "start_time": "2021-06-10T08:58:25.801Z"
   },
   {
    "duration": 38,
    "start_time": "2021-06-10T08:58:26.186Z"
   },
   {
    "duration": 504,
    "start_time": "2021-06-10T08:58:26.227Z"
   },
   {
    "duration": 309,
    "start_time": "2021-06-10T08:58:26.734Z"
   },
   {
    "duration": 304,
    "start_time": "2021-06-10T08:58:27.049Z"
   },
   {
    "duration": 505,
    "start_time": "2021-06-10T08:58:27.358Z"
   },
   {
    "duration": 302,
    "start_time": "2021-06-10T08:58:27.866Z"
   },
   {
    "duration": 305,
    "start_time": "2021-06-10T08:58:28.170Z"
   },
   {
    "duration": 10,
    "start_time": "2021-06-10T08:58:28.478Z"
   },
   {
    "duration": 11,
    "start_time": "2021-06-10T08:58:28.491Z"
   },
   {
    "duration": 31,
    "start_time": "2021-06-10T08:58:28.505Z"
   },
   {
    "duration": 5,
    "start_time": "2021-06-10T08:58:28.538Z"
   },
   {
    "duration": 9,
    "start_time": "2021-06-10T08:58:28.545Z"
   },
   {
    "duration": 8,
    "start_time": "2021-06-10T08:58:28.586Z"
   },
   {
    "duration": 310,
    "start_time": "2021-06-10T08:58:28.597Z"
   },
   {
    "duration": 453,
    "start_time": "2021-06-10T08:58:28.910Z"
   },
   {
    "duration": 21,
    "start_time": "2021-06-10T08:58:29.366Z"
   },
   {
    "duration": 56,
    "start_time": "2021-06-10T08:58:29.390Z"
   },
   {
    "duration": 354,
    "start_time": "2021-06-10T08:58:29.449Z"
   },
   {
    "duration": 532,
    "start_time": "2021-06-10T08:58:29.805Z"
   },
   {
    "duration": 9,
    "start_time": "2021-06-10T08:58:30.340Z"
   },
   {
    "duration": 282,
    "start_time": "2021-06-10T08:58:30.352Z"
   },
   {
    "duration": 499,
    "start_time": "2021-06-10T08:58:30.637Z"
   },
   {
    "duration": 545,
    "start_time": "2021-06-10T08:58:31.140Z"
   },
   {
    "duration": 8,
    "start_time": "2021-06-10T08:58:31.688Z"
   },
   {
    "duration": 38,
    "start_time": "2021-06-10T08:58:31.698Z"
   },
   {
    "duration": 25,
    "start_time": "2021-06-10T08:58:31.739Z"
   },
   {
    "duration": 7,
    "start_time": "2021-06-10T08:58:31.767Z"
   },
   {
    "duration": 12,
    "start_time": "2021-06-10T08:58:31.777Z"
   },
   {
    "duration": 13,
    "start_time": "2021-06-10T08:58:31.792Z"
   },
   {
    "duration": 22,
    "start_time": "2021-06-10T08:58:31.808Z"
   },
   {
    "duration": 210,
    "start_time": "2021-06-10T08:58:31.833Z"
   },
   {
    "duration": 6,
    "start_time": "2021-06-10T08:58:32.046Z"
   },
   {
    "duration": 32,
    "start_time": "2021-06-10T08:58:32.055Z"
   },
   {
    "duration": 24,
    "start_time": "2021-06-10T08:58:32.090Z"
   },
   {
    "duration": 444,
    "start_time": "2021-06-10T08:58:32.117Z"
   },
   {
    "duration": -16,
    "start_time": "2021-06-10T08:58:32.579Z"
   },
   {
    "duration": 298,
    "start_time": "2021-06-10T08:59:07.449Z"
   },
   {
    "duration": 8,
    "start_time": "2021-06-10T08:59:16.641Z"
   },
   {
    "duration": 114,
    "start_time": "2021-06-10T08:59:59.894Z"
   },
   {
    "duration": 1555,
    "start_time": "2021-06-10T09:00:48.973Z"
   },
   {
    "duration": 381,
    "start_time": "2021-06-10T09:00:50.531Z"
   },
   {
    "duration": 105,
    "start_time": "2021-06-10T09:00:50.915Z"
   },
   {
    "duration": 635,
    "start_time": "2021-06-10T09:00:51.024Z"
   },
   {
    "duration": 9,
    "start_time": "2021-06-10T09:00:51.662Z"
   },
   {
    "duration": 15,
    "start_time": "2021-06-10T09:00:51.673Z"
   },
   {
    "duration": 1324,
    "start_time": "2021-06-10T09:00:51.691Z"
   },
   {
    "duration": 629,
    "start_time": "2021-06-10T09:00:53.021Z"
   },
   {
    "duration": 3,
    "start_time": "2021-06-10T09:00:53.653Z"
   },
   {
    "duration": 26,
    "start_time": "2021-06-10T09:00:53.659Z"
   },
   {
    "duration": 18,
    "start_time": "2021-06-10T09:00:53.688Z"
   },
   {
    "duration": 9,
    "start_time": "2021-06-10T09:00:53.708Z"
   },
   {
    "duration": 17,
    "start_time": "2021-06-10T09:00:53.719Z"
   },
   {
    "duration": 30,
    "start_time": "2021-06-10T09:00:53.738Z"
   },
   {
    "duration": 15,
    "start_time": "2021-06-10T09:00:53.771Z"
   },
   {
    "duration": 3,
    "start_time": "2021-06-10T09:00:53.789Z"
   },
   {
    "duration": 9,
    "start_time": "2021-06-10T09:00:53.795Z"
   },
   {
    "duration": 784,
    "start_time": "2021-06-10T09:00:53.806Z"
   },
   {
    "duration": 698,
    "start_time": "2021-06-10T09:00:54.593Z"
   },
   {
    "duration": 166,
    "start_time": "2021-06-10T09:00:55.293Z"
   },
   {
    "duration": 387,
    "start_time": "2021-06-10T09:00:55.461Z"
   },
   {
    "duration": 364,
    "start_time": "2021-06-10T09:00:55.850Z"
   },
   {
    "duration": 369,
    "start_time": "2021-06-10T09:00:56.220Z"
   },
   {
    "duration": 35,
    "start_time": "2021-06-10T09:00:56.592Z"
   },
   {
    "duration": 532,
    "start_time": "2021-06-10T09:00:56.630Z"
   },
   {
    "duration": 302,
    "start_time": "2021-06-10T09:00:57.164Z"
   },
   {
    "duration": 383,
    "start_time": "2021-06-10T09:00:57.469Z"
   },
   {
    "duration": 508,
    "start_time": "2021-06-10T09:00:57.855Z"
   },
   {
    "duration": 315,
    "start_time": "2021-06-10T09:00:58.366Z"
   },
   {
    "duration": 302,
    "start_time": "2021-06-10T09:00:58.686Z"
   },
   {
    "duration": 5,
    "start_time": "2021-06-10T09:00:58.990Z"
   },
   {
    "duration": 11,
    "start_time": "2021-06-10T09:00:58.997Z"
   },
   {
    "duration": 27,
    "start_time": "2021-06-10T09:00:59.011Z"
   },
   {
    "duration": 4,
    "start_time": "2021-06-10T09:00:59.041Z"
   },
   {
    "duration": 39,
    "start_time": "2021-06-10T09:00:59.048Z"
   },
   {
    "duration": 17,
    "start_time": "2021-06-10T09:00:59.089Z"
   },
   {
    "duration": 303,
    "start_time": "2021-06-10T09:00:59.109Z"
   },
   {
    "duration": 450,
    "start_time": "2021-06-10T09:00:59.414Z"
   },
   {
    "duration": 20,
    "start_time": "2021-06-10T09:00:59.867Z"
   },
   {
    "duration": 10,
    "start_time": "2021-06-10T09:00:59.889Z"
   },
   {
    "duration": 373,
    "start_time": "2021-06-10T09:00:59.902Z"
   },
   {
    "duration": 528,
    "start_time": "2021-06-10T09:01:00.278Z"
   },
   {
    "duration": 9,
    "start_time": "2021-06-10T09:01:00.809Z"
   },
   {
    "duration": 37,
    "start_time": "2021-06-10T09:01:00.820Z"
   },
   {
    "duration": 328,
    "start_time": "2021-06-10T09:01:00.860Z"
   },
   {
    "duration": 461,
    "start_time": "2021-06-10T09:01:01.191Z"
   },
   {
    "duration": 9,
    "start_time": "2021-06-10T09:01:01.655Z"
   },
   {
    "duration": 22,
    "start_time": "2021-06-10T09:01:01.667Z"
   },
   {
    "duration": 29,
    "start_time": "2021-06-10T09:01:01.691Z"
   },
   {
    "duration": 17,
    "start_time": "2021-06-10T09:01:01.723Z"
   },
   {
    "duration": 29,
    "start_time": "2021-06-10T09:01:01.743Z"
   },
   {
    "duration": 18,
    "start_time": "2021-06-10T09:01:01.775Z"
   },
   {
    "duration": 23,
    "start_time": "2021-06-10T09:01:01.795Z"
   },
   {
    "duration": 30,
    "start_time": "2021-06-10T09:01:01.821Z"
   },
   {
    "duration": 39,
    "start_time": "2021-06-10T09:01:01.854Z"
   },
   {
    "duration": 35,
    "start_time": "2021-06-10T09:01:01.895Z"
   },
   {
    "duration": 569,
    "start_time": "2021-06-10T09:01:01.932Z"
   },
   {
    "duration": -19,
    "start_time": "2021-06-10T09:01:02.523Z"
   },
   {
    "duration": 34,
    "start_time": "2021-06-10T09:01:54.645Z"
   },
   {
    "duration": 4,
    "start_time": "2021-06-10T09:03:16.365Z"
   },
   {
    "duration": 27,
    "start_time": "2021-06-10T09:03:16.917Z"
   },
   {
    "duration": 25,
    "start_time": "2021-06-10T09:03:17.614Z"
   },
   {
    "duration": 118,
    "start_time": "2021-06-10T09:03:22.798Z"
   },
   {
    "duration": 1577,
    "start_time": "2021-06-10T09:03:44.958Z"
   },
   {
    "duration": 423,
    "start_time": "2021-06-10T09:03:46.538Z"
   },
   {
    "duration": 113,
    "start_time": "2021-06-10T09:03:46.965Z"
   },
   {
    "duration": 552,
    "start_time": "2021-06-10T09:03:47.081Z"
   },
   {
    "duration": 8,
    "start_time": "2021-06-10T09:03:47.636Z"
   },
   {
    "duration": 14,
    "start_time": "2021-06-10T09:03:47.646Z"
   },
   {
    "duration": 1255,
    "start_time": "2021-06-10T09:03:47.662Z"
   },
   {
    "duration": 718,
    "start_time": "2021-06-10T09:03:48.923Z"
   },
   {
    "duration": 3,
    "start_time": "2021-06-10T09:03:49.644Z"
   },
   {
    "duration": 26,
    "start_time": "2021-06-10T09:03:49.650Z"
   },
   {
    "duration": 29,
    "start_time": "2021-06-10T09:03:49.678Z"
   },
   {
    "duration": 9,
    "start_time": "2021-06-10T09:03:49.710Z"
   },
   {
    "duration": 15,
    "start_time": "2021-06-10T09:03:49.721Z"
   },
   {
    "duration": 34,
    "start_time": "2021-06-10T09:03:49.739Z"
   },
   {
    "duration": 20,
    "start_time": "2021-06-10T09:03:49.775Z"
   },
   {
    "duration": 16,
    "start_time": "2021-06-10T09:03:49.798Z"
   },
   {
    "duration": 25,
    "start_time": "2021-06-10T09:03:49.817Z"
   },
   {
    "duration": 813,
    "start_time": "2021-06-10T09:03:49.844Z"
   },
   {
    "duration": 682,
    "start_time": "2021-06-10T09:03:50.660Z"
   },
   {
    "duration": 183,
    "start_time": "2021-06-10T09:03:51.344Z"
   },
   {
    "duration": 395,
    "start_time": "2021-06-10T09:03:51.530Z"
   },
   {
    "duration": 370,
    "start_time": "2021-06-10T09:03:51.927Z"
   },
   {
    "duration": 380,
    "start_time": "2021-06-10T09:03:52.303Z"
   },
   {
    "duration": 40,
    "start_time": "2021-06-10T09:03:52.688Z"
   },
   {
    "duration": 637,
    "start_time": "2021-06-10T09:03:52.730Z"
   },
   {
    "duration": 327,
    "start_time": "2021-06-10T09:03:53.369Z"
   },
   {
    "duration": 405,
    "start_time": "2021-06-10T09:03:53.700Z"
   },
   {
    "duration": 652,
    "start_time": "2021-06-10T09:03:54.108Z"
   },
   {
    "duration": 322,
    "start_time": "2021-06-10T09:03:54.763Z"
   },
   {
    "duration": 313,
    "start_time": "2021-06-10T09:03:55.089Z"
   },
   {
    "duration": 5,
    "start_time": "2021-06-10T09:03:55.404Z"
   },
   {
    "duration": 16,
    "start_time": "2021-06-10T09:03:55.412Z"
   },
   {
    "duration": 43,
    "start_time": "2021-06-10T09:03:55.430Z"
   },
   {
    "duration": 13,
    "start_time": "2021-06-10T09:03:55.475Z"
   },
   {
    "duration": 23,
    "start_time": "2021-06-10T09:03:55.491Z"
   },
   {
    "duration": 14,
    "start_time": "2021-06-10T09:03:55.517Z"
   },
   {
    "duration": 459,
    "start_time": "2021-06-10T09:03:55.533Z"
   },
   {
    "duration": 455,
    "start_time": "2021-06-10T09:03:55.995Z"
   },
   {
    "duration": 8,
    "start_time": "2021-06-10T09:03:56.453Z"
   },
   {
    "duration": 28,
    "start_time": "2021-06-10T09:03:56.463Z"
   },
   {
    "duration": 352,
    "start_time": "2021-06-10T09:03:56.495Z"
   },
   {
    "duration": 561,
    "start_time": "2021-06-10T09:03:56.850Z"
   },
   {
    "duration": 10,
    "start_time": "2021-06-10T09:03:57.414Z"
   },
   {
    "duration": 11,
    "start_time": "2021-06-10T09:03:57.426Z"
   },
   {
    "duration": 393,
    "start_time": "2021-06-10T09:03:57.440Z"
   },
   {
    "duration": 506,
    "start_time": "2021-06-10T09:03:57.837Z"
   },
   {
    "duration": 9,
    "start_time": "2021-06-10T09:03:58.346Z"
   },
   {
    "duration": 31,
    "start_time": "2021-06-10T09:03:58.357Z"
   },
   {
    "duration": 15,
    "start_time": "2021-06-10T09:03:58.394Z"
   },
   {
    "duration": 5,
    "start_time": "2021-06-10T09:03:58.412Z"
   },
   {
    "duration": 6,
    "start_time": "2021-06-10T09:03:58.419Z"
   },
   {
    "duration": 7,
    "start_time": "2021-06-10T09:03:58.427Z"
   },
   {
    "duration": 17,
    "start_time": "2021-06-10T09:03:58.437Z"
   },
   {
    "duration": 8,
    "start_time": "2021-06-10T09:03:58.487Z"
   },
   {
    "duration": 8,
    "start_time": "2021-06-10T09:03:58.499Z"
   },
   {
    "duration": 147,
    "start_time": "2021-06-10T09:03:58.509Z"
   },
   {
    "duration": 3,
    "start_time": "2021-06-10T09:03:58.658Z"
   },
   {
    "duration": 53,
    "start_time": "2021-06-10T09:03:58.664Z"
   },
   {
    "duration": 27,
    "start_time": "2021-06-10T09:03:58.719Z"
   },
   {
    "duration": 150,
    "start_time": "2021-06-10T09:03:58.749Z"
   },
   {
    "duration": 13477,
    "start_time": "2021-06-10T09:03:58.902Z"
   },
   {
    "duration": 4,
    "start_time": "2021-06-10T09:13:33.504Z"
   },
   {
    "duration": 48,
    "start_time": "2021-06-10T09:13:34.111Z"
   },
   {
    "duration": 26,
    "start_time": "2021-06-10T09:13:34.808Z"
   },
   {
    "duration": 13951,
    "start_time": "2021-06-10T09:13:36.304Z"
   },
   {
    "duration": 2075,
    "start_time": "2021-06-10T09:20:00.370Z"
   },
   {
    "duration": 456,
    "start_time": "2021-06-10T09:20:02.448Z"
   },
   {
    "duration": 161,
    "start_time": "2021-06-10T09:20:02.909Z"
   },
   {
    "duration": 564,
    "start_time": "2021-06-10T09:20:03.074Z"
   },
   {
    "duration": 8,
    "start_time": "2021-06-10T09:20:03.641Z"
   },
   {
    "duration": 18,
    "start_time": "2021-06-10T09:20:03.651Z"
   },
   {
    "duration": 1255,
    "start_time": "2021-06-10T09:20:03.672Z"
   },
   {
    "duration": 602,
    "start_time": "2021-06-10T09:20:04.930Z"
   },
   {
    "duration": 4,
    "start_time": "2021-06-10T09:20:05.536Z"
   },
   {
    "duration": 27,
    "start_time": "2021-06-10T09:20:05.543Z"
   },
   {
    "duration": 18,
    "start_time": "2021-06-10T09:20:05.572Z"
   },
   {
    "duration": 10,
    "start_time": "2021-06-10T09:20:05.592Z"
   },
   {
    "duration": 14,
    "start_time": "2021-06-10T09:20:05.604Z"
   },
   {
    "duration": 18,
    "start_time": "2021-06-10T09:20:05.621Z"
   },
   {
    "duration": 15,
    "start_time": "2021-06-10T09:20:05.642Z"
   },
   {
    "duration": 5,
    "start_time": "2021-06-10T09:20:05.659Z"
   },
   {
    "duration": 25,
    "start_time": "2021-06-10T09:20:05.667Z"
   },
   {
    "duration": 966,
    "start_time": "2021-06-10T09:20:05.696Z"
   },
   {
    "duration": 667,
    "start_time": "2021-06-10T09:20:06.664Z"
   },
   {
    "duration": 175,
    "start_time": "2021-06-10T09:20:07.333Z"
   },
   {
    "duration": 381,
    "start_time": "2021-06-10T09:20:07.510Z"
   },
   {
    "duration": 368,
    "start_time": "2021-06-10T09:20:07.894Z"
   },
   {
    "duration": 382,
    "start_time": "2021-06-10T09:20:08.264Z"
   },
   {
    "duration": 53,
    "start_time": "2021-06-10T09:20:08.649Z"
   },
   {
    "duration": 505,
    "start_time": "2021-06-10T09:20:08.704Z"
   },
   {
    "duration": 307,
    "start_time": "2021-06-10T09:20:09.212Z"
   },
   {
    "duration": 388,
    "start_time": "2021-06-10T09:20:09.525Z"
   },
   {
    "duration": 521,
    "start_time": "2021-06-10T09:20:09.917Z"
   },
   {
    "duration": 325,
    "start_time": "2021-06-10T09:20:10.440Z"
   },
   {
    "duration": 321,
    "start_time": "2021-06-10T09:20:10.768Z"
   },
   {
    "duration": 7,
    "start_time": "2021-06-10T09:20:11.092Z"
   },
   {
    "duration": 8,
    "start_time": "2021-06-10T09:20:11.101Z"
   },
   {
    "duration": 29,
    "start_time": "2021-06-10T09:20:11.112Z"
   },
   {
    "duration": 43,
    "start_time": "2021-06-10T09:20:11.144Z"
   },
   {
    "duration": 5,
    "start_time": "2021-06-10T09:20:11.192Z"
   },
   {
    "duration": 15,
    "start_time": "2021-06-10T09:20:11.200Z"
   },
   {
    "duration": 314,
    "start_time": "2021-06-10T09:20:11.218Z"
   },
   {
    "duration": 437,
    "start_time": "2021-06-10T09:20:11.535Z"
   },
   {
    "duration": 17,
    "start_time": "2021-06-10T09:20:11.974Z"
   },
   {
    "duration": 13,
    "start_time": "2021-06-10T09:20:11.995Z"
   },
   {
    "duration": 355,
    "start_time": "2021-06-10T09:20:12.010Z"
   },
   {
    "duration": 514,
    "start_time": "2021-06-10T09:20:12.367Z"
   },
   {
    "duration": 11,
    "start_time": "2021-06-10T09:20:12.884Z"
   },
   {
    "duration": 8,
    "start_time": "2021-06-10T09:20:12.902Z"
   },
   {
    "duration": 356,
    "start_time": "2021-06-10T09:20:12.912Z"
   },
   {
    "duration": 469,
    "start_time": "2021-06-10T09:20:13.271Z"
   },
   {
    "duration": 8,
    "start_time": "2021-06-10T09:20:13.742Z"
   },
   {
    "duration": 8,
    "start_time": "2021-06-10T09:20:13.753Z"
   },
   {
    "duration": 37,
    "start_time": "2021-06-10T09:20:13.763Z"
   },
   {
    "duration": 5,
    "start_time": "2021-06-10T09:20:13.802Z"
   },
   {
    "duration": 4,
    "start_time": "2021-06-10T09:20:13.810Z"
   },
   {
    "duration": 7,
    "start_time": "2021-06-10T09:20:13.817Z"
   },
   {
    "duration": 14,
    "start_time": "2021-06-10T09:20:13.826Z"
   },
   {
    "duration": 46,
    "start_time": "2021-06-10T09:20:13.842Z"
   },
   {
    "duration": 15,
    "start_time": "2021-06-10T09:20:13.891Z"
   },
   {
    "duration": 9,
    "start_time": "2021-06-10T09:20:13.909Z"
   },
   {
    "duration": 53,
    "start_time": "2021-06-10T09:20:13.921Z"
   },
   {
    "duration": 41,
    "start_time": "2021-06-10T09:20:13.977Z"
   },
   {
    "duration": 6,
    "start_time": "2021-06-10T09:20:22.122Z"
   },
   {
    "duration": 424,
    "start_time": "2021-06-10T09:20:22.136Z"
   },
   {
    "duration": 98,
    "start_time": "2021-06-10T09:20:22.563Z"
   },
   {
    "duration": 494,
    "start_time": "2021-06-10T09:20:22.664Z"
   },
   {
    "duration": 7,
    "start_time": "2021-06-10T09:20:23.161Z"
   },
   {
    "duration": 18,
    "start_time": "2021-06-10T09:20:23.171Z"
   },
   {
    "duration": 1212,
    "start_time": "2021-06-10T09:20:23.192Z"
   },
   {
    "duration": 634,
    "start_time": "2021-06-10T09:20:24.407Z"
   },
   {
    "duration": 2,
    "start_time": "2021-06-10T09:20:25.044Z"
   },
   {
    "duration": 25,
    "start_time": "2021-06-10T09:20:25.050Z"
   },
   {
    "duration": 23,
    "start_time": "2021-06-10T09:20:25.078Z"
   },
   {
    "duration": 4,
    "start_time": "2021-06-10T09:20:25.103Z"
   },
   {
    "duration": 11,
    "start_time": "2021-06-10T09:20:25.109Z"
   },
   {
    "duration": 21,
    "start_time": "2021-06-10T09:20:25.122Z"
   },
   {
    "duration": 6,
    "start_time": "2021-06-10T09:20:25.146Z"
   },
   {
    "duration": 31,
    "start_time": "2021-06-10T09:20:25.155Z"
   },
   {
    "duration": 8,
    "start_time": "2021-06-10T09:20:25.189Z"
   },
   {
    "duration": 832,
    "start_time": "2021-06-10T09:20:25.201Z"
   },
   {
    "duration": 744,
    "start_time": "2021-06-10T09:20:26.035Z"
   },
   {
    "duration": 163,
    "start_time": "2021-06-10T09:20:26.781Z"
   },
   {
    "duration": 481,
    "start_time": "2021-06-10T09:20:26.947Z"
   },
   {
    "duration": 372,
    "start_time": "2021-06-10T09:20:27.431Z"
   },
   {
    "duration": 361,
    "start_time": "2021-06-10T09:20:27.805Z"
   },
   {
    "duration": 50,
    "start_time": "2021-06-10T09:20:28.169Z"
   },
   {
    "duration": 504,
    "start_time": "2021-06-10T09:20:28.221Z"
   },
   {
    "duration": 303,
    "start_time": "2021-06-10T09:20:28.727Z"
   },
   {
    "duration": 310,
    "start_time": "2021-06-10T09:20:29.033Z"
   },
   {
    "duration": 522,
    "start_time": "2021-06-10T09:20:29.351Z"
   },
   {
    "duration": 301,
    "start_time": "2021-06-10T09:20:29.876Z"
   },
   {
    "duration": 305,
    "start_time": "2021-06-10T09:20:30.180Z"
   },
   {
    "duration": 10,
    "start_time": "2021-06-10T09:20:30.488Z"
   },
   {
    "duration": 21,
    "start_time": "2021-06-10T09:20:30.501Z"
   },
   {
    "duration": 37,
    "start_time": "2021-06-10T09:20:30.525Z"
   },
   {
    "duration": 18,
    "start_time": "2021-06-10T09:20:30.564Z"
   },
   {
    "duration": 44,
    "start_time": "2021-06-10T09:20:30.593Z"
   },
   {
    "duration": 27,
    "start_time": "2021-06-10T09:20:30.639Z"
   },
   {
    "duration": 322,
    "start_time": "2021-06-10T09:20:30.669Z"
   },
   {
    "duration": 549,
    "start_time": "2021-06-10T09:20:30.994Z"
   },
   {
    "duration": 9,
    "start_time": "2021-06-10T09:20:31.545Z"
   },
   {
    "duration": 162,
    "start_time": "2021-06-10T09:20:31.556Z"
   },
   {
    "duration": 356,
    "start_time": "2021-06-10T09:20:31.721Z"
   },
   {
    "duration": 518,
    "start_time": "2021-06-10T09:20:32.080Z"
   },
   {
    "duration": 10,
    "start_time": "2021-06-10T09:20:32.600Z"
   },
   {
    "duration": 24,
    "start_time": "2021-06-10T09:20:32.612Z"
   },
   {
    "duration": 467,
    "start_time": "2021-06-10T09:20:32.639Z"
   },
   {
    "duration": 487,
    "start_time": "2021-06-10T09:20:33.109Z"
   },
   {
    "duration": 11,
    "start_time": "2021-06-10T09:20:33.599Z"
   },
   {
    "duration": 11,
    "start_time": "2021-06-10T09:20:33.613Z"
   },
   {
    "duration": 31,
    "start_time": "2021-06-10T09:20:33.626Z"
   },
   {
    "duration": 7,
    "start_time": "2021-06-10T09:20:33.659Z"
   },
   {
    "duration": 25,
    "start_time": "2021-06-10T09:20:33.669Z"
   },
   {
    "duration": 8,
    "start_time": "2021-06-10T09:20:33.697Z"
   },
   {
    "duration": 23,
    "start_time": "2021-06-10T09:20:33.708Z"
   },
   {
    "duration": 24,
    "start_time": "2021-06-10T09:20:33.734Z"
   },
   {
    "duration": 20,
    "start_time": "2021-06-10T09:20:33.760Z"
   },
   {
    "duration": 10,
    "start_time": "2021-06-10T09:20:33.783Z"
   },
   {
    "duration": 61,
    "start_time": "2021-06-10T09:20:33.796Z"
   },
   {
    "duration": 26,
    "start_time": "2021-06-10T09:20:33.860Z"
   },
   {
    "duration": 13480,
    "start_time": "2021-06-10T09:20:47.334Z"
   },
   {
    "duration": 9,
    "start_time": "2021-06-10T09:36:26.366Z"
   },
   {
    "duration": 547,
    "start_time": "2021-06-10T09:36:26.378Z"
   },
   {
    "duration": 111,
    "start_time": "2021-06-10T09:36:26.927Z"
   },
   {
    "duration": 2270,
    "start_time": "2021-06-10T09:36:27.040Z"
   },
   {
    "duration": 9,
    "start_time": "2021-06-10T09:36:29.313Z"
   },
   {
    "duration": 9,
    "start_time": "2021-06-10T09:36:29.326Z"
   },
   {
    "duration": 1344,
    "start_time": "2021-06-10T09:36:29.338Z"
   },
   {
    "duration": 800,
    "start_time": "2021-06-10T09:36:30.687Z"
   },
   {
    "duration": 4,
    "start_time": "2021-06-10T09:36:31.492Z"
   },
   {
    "duration": 14,
    "start_time": "2021-06-10T09:36:31.500Z"
   },
   {
    "duration": 31,
    "start_time": "2021-06-10T09:36:31.518Z"
   },
   {
    "duration": 8,
    "start_time": "2021-06-10T09:36:31.552Z"
   },
   {
    "duration": 26,
    "start_time": "2021-06-10T09:36:31.563Z"
   },
   {
    "duration": 33,
    "start_time": "2021-06-10T09:36:31.594Z"
   },
   {
    "duration": 15,
    "start_time": "2021-06-10T09:36:31.629Z"
   },
   {
    "duration": 15,
    "start_time": "2021-06-10T09:36:31.647Z"
   },
   {
    "duration": 33,
    "start_time": "2021-06-10T09:36:31.665Z"
   },
   {
    "duration": 786,
    "start_time": "2021-06-10T09:36:31.701Z"
   },
   {
    "duration": 923,
    "start_time": "2021-06-10T09:36:32.490Z"
   },
   {
    "duration": 182,
    "start_time": "2021-06-10T09:36:33.416Z"
   },
   {
    "duration": 398,
    "start_time": "2021-06-10T09:36:33.601Z"
   },
   {
    "duration": 385,
    "start_time": "2021-06-10T09:36:34.002Z"
   },
   {
    "duration": 373,
    "start_time": "2021-06-10T09:36:34.394Z"
   },
   {
    "duration": 50,
    "start_time": "2021-06-10T09:36:34.771Z"
   },
   {
    "duration": 519,
    "start_time": "2021-06-10T09:36:34.824Z"
   },
   {
    "duration": 323,
    "start_time": "2021-06-10T09:36:35.346Z"
   },
   {
    "duration": 325,
    "start_time": "2021-06-10T09:36:35.672Z"
   },
   {
    "duration": 703,
    "start_time": "2021-06-10T09:36:36.001Z"
   },
   {
    "duration": 319,
    "start_time": "2021-06-10T09:36:36.707Z"
   },
   {
    "duration": 459,
    "start_time": "2021-06-10T09:36:37.029Z"
   },
   {
    "duration": 6,
    "start_time": "2021-06-10T09:36:37.491Z"
   },
   {
    "duration": 9,
    "start_time": "2021-06-10T09:36:37.500Z"
   },
   {
    "duration": 39,
    "start_time": "2021-06-10T09:36:37.512Z"
   },
   {
    "duration": 9,
    "start_time": "2021-06-10T09:36:37.588Z"
   },
   {
    "duration": 14,
    "start_time": "2021-06-10T09:36:37.606Z"
   },
   {
    "duration": 10,
    "start_time": "2021-06-10T09:36:37.622Z"
   },
   {
    "duration": 350,
    "start_time": "2021-06-10T09:36:37.635Z"
   },
   {
    "duration": 461,
    "start_time": "2021-06-10T09:36:37.988Z"
   },
   {
    "duration": 9,
    "start_time": "2021-06-10T09:36:38.451Z"
   },
   {
    "duration": 31,
    "start_time": "2021-06-10T09:36:38.462Z"
   },
   {
    "duration": 368,
    "start_time": "2021-06-10T09:36:38.497Z"
   },
   {
    "duration": 802,
    "start_time": "2021-06-10T09:36:38.868Z"
   },
   {
    "duration": 25,
    "start_time": "2021-06-10T09:36:39.673Z"
   },
   {
    "duration": 11,
    "start_time": "2021-06-10T09:36:39.701Z"
   },
   {
    "duration": 532,
    "start_time": "2021-06-10T09:36:39.714Z"
   },
   {
    "duration": 629,
    "start_time": "2021-06-10T09:36:40.249Z"
   },
   {
    "duration": 17,
    "start_time": "2021-06-10T09:36:40.880Z"
   },
   {
    "duration": 6,
    "start_time": "2021-06-10T09:36:40.900Z"
   },
   {
    "duration": 25,
    "start_time": "2021-06-10T09:36:40.910Z"
   },
   {
    "duration": 6,
    "start_time": "2021-06-10T09:36:40.937Z"
   },
   {
    "duration": 42,
    "start_time": "2021-06-10T09:36:40.946Z"
   },
   {
    "duration": 7,
    "start_time": "2021-06-10T09:36:40.991Z"
   },
   {
    "duration": 16,
    "start_time": "2021-06-10T09:36:41.000Z"
   },
   {
    "duration": 16,
    "start_time": "2021-06-10T09:36:41.019Z"
   },
   {
    "duration": 8,
    "start_time": "2021-06-10T09:36:41.039Z"
   },
   {
    "duration": 38,
    "start_time": "2021-06-10T09:36:41.050Z"
   },
   {
    "duration": 32,
    "start_time": "2021-06-10T09:36:41.092Z"
   },
   {
    "duration": 32,
    "start_time": "2021-06-10T09:36:43.892Z"
   },
   {
    "duration": 25,
    "start_time": "2021-06-10T09:36:44.612Z"
   },
   {
    "duration": 365,
    "start_time": "2021-06-10T09:36:50.811Z"
   },
   {
    "duration": 1549,
    "start_time": "2021-06-10T10:27:11.746Z"
   },
   {
    "duration": 423,
    "start_time": "2021-06-10T10:27:13.299Z"
   },
   {
    "duration": 115,
    "start_time": "2021-06-10T10:27:13.729Z"
   },
   {
    "duration": 544,
    "start_time": "2021-06-10T10:27:13.846Z"
   },
   {
    "duration": 12,
    "start_time": "2021-06-10T10:27:14.393Z"
   },
   {
    "duration": 15,
    "start_time": "2021-06-10T10:27:14.408Z"
   },
   {
    "duration": 1262,
    "start_time": "2021-06-10T10:27:14.425Z"
   },
   {
    "duration": 761,
    "start_time": "2021-06-10T10:27:15.692Z"
   },
   {
    "duration": 3,
    "start_time": "2021-06-10T10:27:16.456Z"
   },
   {
    "duration": 23,
    "start_time": "2021-06-10T10:27:16.462Z"
   },
   {
    "duration": 23,
    "start_time": "2021-06-10T10:27:16.489Z"
   },
   {
    "duration": 6,
    "start_time": "2021-06-10T10:27:16.516Z"
   },
   {
    "duration": 14,
    "start_time": "2021-06-10T10:27:16.524Z"
   },
   {
    "duration": 27,
    "start_time": "2021-06-10T10:27:16.541Z"
   },
   {
    "duration": 13,
    "start_time": "2021-06-10T10:27:16.586Z"
   },
   {
    "duration": 8,
    "start_time": "2021-06-10T10:27:16.602Z"
   },
   {
    "duration": 12,
    "start_time": "2021-06-10T10:27:16.613Z"
   },
   {
    "duration": 834,
    "start_time": "2021-06-10T10:27:16.628Z"
   },
   {
    "duration": 688,
    "start_time": "2021-06-10T10:27:17.465Z"
   },
   {
    "duration": 173,
    "start_time": "2021-06-10T10:27:18.155Z"
   },
   {
    "duration": 405,
    "start_time": "2021-06-10T10:27:18.330Z"
   },
   {
    "duration": 485,
    "start_time": "2021-06-10T10:27:18.738Z"
   },
   {
    "duration": 399,
    "start_time": "2021-06-10T10:27:19.225Z"
   },
   {
    "duration": 36,
    "start_time": "2021-06-10T10:27:19.626Z"
   },
   {
    "duration": 572,
    "start_time": "2021-06-10T10:27:19.664Z"
   },
   {
    "duration": 554,
    "start_time": "2021-06-10T10:27:20.242Z"
   },
   {
    "duration": 606,
    "start_time": "2021-06-10T10:27:20.800Z"
   },
   {
    "duration": 518,
    "start_time": "2021-06-10T10:27:21.409Z"
   },
   {
    "duration": 325,
    "start_time": "2021-06-10T10:27:21.929Z"
   },
   {
    "duration": 325,
    "start_time": "2021-06-10T10:27:22.257Z"
   },
   {
    "duration": 9,
    "start_time": "2021-06-10T10:27:22.586Z"
   },
   {
    "duration": 7,
    "start_time": "2021-06-10T10:27:22.599Z"
   },
   {
    "duration": 30,
    "start_time": "2021-06-10T10:27:22.609Z"
   },
   {
    "duration": 5,
    "start_time": "2021-06-10T10:27:22.642Z"
   },
   {
    "duration": 8,
    "start_time": "2021-06-10T10:27:22.685Z"
   },
   {
    "duration": 14,
    "start_time": "2021-06-10T10:27:22.697Z"
   },
   {
    "duration": 345,
    "start_time": "2021-06-10T10:27:22.713Z"
   },
   {
    "duration": 444,
    "start_time": "2021-06-10T10:27:23.061Z"
   },
   {
    "duration": 9,
    "start_time": "2021-06-10T10:27:23.507Z"
   },
   {
    "duration": 11,
    "start_time": "2021-06-10T10:27:23.519Z"
   },
   {
    "duration": 360,
    "start_time": "2021-06-10T10:27:23.532Z"
   },
   {
    "duration": 513,
    "start_time": "2021-06-10T10:27:23.895Z"
   },
   {
    "duration": 10,
    "start_time": "2021-06-10T10:27:24.410Z"
   },
   {
    "duration": 11,
    "start_time": "2021-06-10T10:27:24.423Z"
   },
   {
    "duration": 357,
    "start_time": "2021-06-10T10:27:24.436Z"
   },
   {
    "duration": 484,
    "start_time": "2021-06-10T10:27:24.796Z"
   },
   {
    "duration": 9,
    "start_time": "2021-06-10T10:27:25.286Z"
   },
   {
    "duration": 21,
    "start_time": "2021-06-10T10:27:25.298Z"
   },
   {
    "duration": 27,
    "start_time": "2021-06-10T10:27:25.321Z"
   },
   {
    "duration": 13,
    "start_time": "2021-06-10T10:27:25.350Z"
   },
   {
    "duration": 24,
    "start_time": "2021-06-10T10:27:25.365Z"
   },
   {
    "duration": 6,
    "start_time": "2021-06-10T10:27:28.940Z"
   },
   {
    "duration": 475,
    "start_time": "2021-06-10T10:27:28.954Z"
   },
   {
    "duration": 104,
    "start_time": "2021-06-10T10:27:29.431Z"
   },
   {
    "duration": 509,
    "start_time": "2021-06-10T10:27:29.538Z"
   },
   {
    "duration": 8,
    "start_time": "2021-06-10T10:27:30.050Z"
   },
   {
    "duration": 21,
    "start_time": "2021-06-10T10:27:30.060Z"
   },
   {
    "duration": 1428,
    "start_time": "2021-06-10T10:27:30.083Z"
   },
   {
    "duration": 804,
    "start_time": "2021-06-10T10:27:31.513Z"
   },
   {
    "duration": 3,
    "start_time": "2021-06-10T10:27:32.320Z"
   },
   {
    "duration": 6,
    "start_time": "2021-06-10T10:27:32.328Z"
   },
   {
    "duration": 12,
    "start_time": "2021-06-10T10:27:32.337Z"
   },
   {
    "duration": 38,
    "start_time": "2021-06-10T10:27:32.351Z"
   },
   {
    "duration": 14,
    "start_time": "2021-06-10T10:27:32.391Z"
   },
   {
    "duration": 23,
    "start_time": "2021-06-10T10:27:32.408Z"
   },
   {
    "duration": 10,
    "start_time": "2021-06-10T10:27:32.433Z"
   },
   {
    "duration": 5,
    "start_time": "2021-06-10T10:27:32.445Z"
   },
   {
    "duration": 7,
    "start_time": "2021-06-10T10:27:32.487Z"
   },
   {
    "duration": 784,
    "start_time": "2021-06-10T10:27:32.497Z"
   },
   {
    "duration": 672,
    "start_time": "2021-06-10T10:27:33.286Z"
   },
   {
    "duration": 307,
    "start_time": "2021-06-10T10:27:33.961Z"
   },
   {
    "duration": 420,
    "start_time": "2021-06-10T10:27:34.271Z"
   },
   {
    "duration": 387,
    "start_time": "2021-06-10T10:27:34.693Z"
   },
   {
    "duration": 392,
    "start_time": "2021-06-10T10:27:35.086Z"
   },
   {
    "duration": 47,
    "start_time": "2021-06-10T10:27:35.481Z"
   },
   {
    "duration": 572,
    "start_time": "2021-06-10T10:27:35.530Z"
   },
   {
    "duration": 331,
    "start_time": "2021-06-10T10:27:36.105Z"
   },
   {
    "duration": 335,
    "start_time": "2021-06-10T10:27:36.439Z"
   },
   {
    "duration": 536,
    "start_time": "2021-06-10T10:27:36.785Z"
   },
   {
    "duration": 315,
    "start_time": "2021-06-10T10:27:37.324Z"
   },
   {
    "duration": 338,
    "start_time": "2021-06-10T10:27:37.641Z"
   },
   {
    "duration": 6,
    "start_time": "2021-06-10T10:27:37.981Z"
   },
   {
    "duration": 15,
    "start_time": "2021-06-10T10:27:37.989Z"
   },
   {
    "duration": 42,
    "start_time": "2021-06-10T10:27:38.008Z"
   },
   {
    "duration": 5,
    "start_time": "2021-06-10T10:27:38.052Z"
   },
   {
    "duration": 30,
    "start_time": "2021-06-10T10:27:38.059Z"
   },
   {
    "duration": 21,
    "start_time": "2021-06-10T10:27:38.091Z"
   },
   {
    "duration": 357,
    "start_time": "2021-06-10T10:27:38.116Z"
   },
   {
    "duration": 598,
    "start_time": "2021-06-10T10:27:38.476Z"
   },
   {
    "duration": 14,
    "start_time": "2021-06-10T10:27:39.077Z"
   },
   {
    "duration": 10,
    "start_time": "2021-06-10T10:27:39.095Z"
   },
   {
    "duration": 489,
    "start_time": "2021-06-10T10:27:39.108Z"
   },
   {
    "duration": 704,
    "start_time": "2021-06-10T10:27:39.602Z"
   },
   {
    "duration": 10,
    "start_time": "2021-06-10T10:27:40.309Z"
   },
   {
    "duration": 11,
    "start_time": "2021-06-10T10:27:40.322Z"
   },
   {
    "duration": 618,
    "start_time": "2021-06-10T10:27:40.336Z"
   },
   {
    "duration": 634,
    "start_time": "2021-06-10T10:27:40.957Z"
   },
   {
    "duration": 11,
    "start_time": "2021-06-10T10:27:41.594Z"
   },
   {
    "duration": 12,
    "start_time": "2021-06-10T10:27:41.608Z"
   },
   {
    "duration": 18,
    "start_time": "2021-06-10T10:27:41.623Z"
   },
   {
    "duration": 7,
    "start_time": "2021-06-10T10:27:41.643Z"
   },
   {
    "duration": 10,
    "start_time": "2021-06-10T10:27:43.830Z"
   },
   {
    "duration": 10061,
    "start_time": "2021-06-10T10:27:44.607Z"
   },
   {
    "duration": 8,
    "start_time": "2021-06-10T10:28:19.544Z"
   },
   {
    "duration": 3,
    "start_time": "2021-06-10T10:35:58.180Z"
   },
   {
    "duration": 28,
    "start_time": "2021-06-10T10:35:58.673Z"
   },
   {
    "duration": 23,
    "start_time": "2021-06-10T10:35:59.270Z"
   },
   {
    "duration": 1481,
    "start_time": "2021-06-10T10:37:55.841Z"
   },
   {
    "duration": 394,
    "start_time": "2021-06-10T10:37:57.324Z"
   },
   {
    "duration": 111,
    "start_time": "2021-06-10T10:37:57.721Z"
   },
   {
    "duration": 505,
    "start_time": "2021-06-10T10:37:57.835Z"
   },
   {
    "duration": 7,
    "start_time": "2021-06-10T10:37:58.343Z"
   },
   {
    "duration": 10,
    "start_time": "2021-06-10T10:37:58.353Z"
   },
   {
    "duration": 1176,
    "start_time": "2021-06-10T10:37:58.365Z"
   },
   {
    "duration": 622,
    "start_time": "2021-06-10T10:37:59.546Z"
   },
   {
    "duration": 16,
    "start_time": "2021-06-10T10:38:00.171Z"
   },
   {
    "duration": 13,
    "start_time": "2021-06-10T10:38:00.189Z"
   },
   {
    "duration": 16,
    "start_time": "2021-06-10T10:38:00.204Z"
   },
   {
    "duration": 4,
    "start_time": "2021-06-10T10:38:00.223Z"
   },
   {
    "duration": 15,
    "start_time": "2021-06-10T10:38:00.229Z"
   },
   {
    "duration": 22,
    "start_time": "2021-06-10T10:38:00.247Z"
   },
   {
    "duration": 19,
    "start_time": "2021-06-10T10:38:00.271Z"
   },
   {
    "duration": 10,
    "start_time": "2021-06-10T10:38:00.292Z"
   },
   {
    "duration": 16,
    "start_time": "2021-06-10T10:38:00.305Z"
   },
   {
    "duration": 771,
    "start_time": "2021-06-10T10:38:00.323Z"
   },
   {
    "duration": 668,
    "start_time": "2021-06-10T10:38:01.096Z"
   },
   {
    "duration": 177,
    "start_time": "2021-06-10T10:38:01.766Z"
   },
   {
    "duration": 371,
    "start_time": "2021-06-10T10:38:01.946Z"
   },
   {
    "duration": 346,
    "start_time": "2021-06-10T10:38:02.319Z"
   },
   {
    "duration": 362,
    "start_time": "2021-06-10T10:38:02.671Z"
   },
   {
    "duration": 51,
    "start_time": "2021-06-10T10:38:03.036Z"
   },
   {
    "duration": 499,
    "start_time": "2021-06-10T10:38:03.090Z"
   },
   {
    "duration": 298,
    "start_time": "2021-06-10T10:38:03.591Z"
   },
   {
    "duration": 389,
    "start_time": "2021-06-10T10:38:03.891Z"
   },
   {
    "duration": 500,
    "start_time": "2021-06-10T10:38:04.286Z"
   },
   {
    "duration": 299,
    "start_time": "2021-06-10T10:38:04.788Z"
   },
   {
    "duration": 298,
    "start_time": "2021-06-10T10:38:05.090Z"
   },
   {
    "duration": 7,
    "start_time": "2021-06-10T10:38:05.391Z"
   },
   {
    "duration": 10,
    "start_time": "2021-06-10T10:38:05.401Z"
   },
   {
    "duration": 31,
    "start_time": "2021-06-10T10:38:05.413Z"
   },
   {
    "duration": 41,
    "start_time": "2021-06-10T10:38:05.446Z"
   },
   {
    "duration": 5,
    "start_time": "2021-06-10T10:38:05.490Z"
   },
   {
    "duration": 13,
    "start_time": "2021-06-10T10:38:05.498Z"
   },
   {
    "duration": 325,
    "start_time": "2021-06-10T10:38:05.513Z"
   },
   {
    "duration": 427,
    "start_time": "2021-06-10T10:38:05.841Z"
   },
   {
    "duration": 17,
    "start_time": "2021-06-10T10:38:06.270Z"
   },
   {
    "duration": 7,
    "start_time": "2021-06-10T10:38:06.290Z"
   },
   {
    "duration": 358,
    "start_time": "2021-06-10T10:38:06.300Z"
   },
   {
    "duration": 501,
    "start_time": "2021-06-10T10:38:06.660Z"
   },
   {
    "duration": 9,
    "start_time": "2021-06-10T10:38:07.163Z"
   },
   {
    "duration": 7,
    "start_time": "2021-06-10T10:38:07.186Z"
   },
   {
    "duration": 343,
    "start_time": "2021-06-10T10:38:07.196Z"
   },
   {
    "duration": 469,
    "start_time": "2021-06-10T10:38:07.541Z"
   },
   {
    "duration": 8,
    "start_time": "2021-06-10T10:38:08.013Z"
   },
   {
    "duration": 6,
    "start_time": "2021-06-10T10:38:08.024Z"
   },
   {
    "duration": 14,
    "start_time": "2021-06-10T10:38:08.032Z"
   },
   {
    "duration": 38,
    "start_time": "2021-06-10T10:38:08.049Z"
   },
   {
    "duration": 12,
    "start_time": "2021-06-10T10:38:08.090Z"
   },
   {
    "duration": 10,
    "start_time": "2021-06-10T10:38:08.105Z"
   },
   {
    "duration": 5,
    "start_time": "2021-06-10T10:38:08.118Z"
   },
   {
    "duration": 6,
    "start_time": "2021-06-10T10:38:08.125Z"
   },
   {
    "duration": 52,
    "start_time": "2021-06-10T10:38:08.133Z"
   },
   {
    "duration": 39,
    "start_time": "2021-06-10T10:38:08.188Z"
   },
   {
    "duration": 23,
    "start_time": "2021-06-10T10:38:08.230Z"
   },
   {
    "duration": 84587,
    "start_time": "2021-06-10T10:38:59.250Z"
   },
   {
    "duration": 466,
    "start_time": "2021-06-10T11:02:00.477Z"
   },
   {
    "duration": 8,
    "start_time": "2021-06-10T11:02:48.337Z"
   },
   {
    "duration": 506,
    "start_time": "2021-06-10T11:02:48.348Z"
   },
   {
    "duration": 104,
    "start_time": "2021-06-10T11:02:48.857Z"
   },
   {
    "duration": 507,
    "start_time": "2021-06-10T11:02:48.964Z"
   },
   {
    "duration": 12,
    "start_time": "2021-06-10T11:02:49.474Z"
   },
   {
    "duration": 4,
    "start_time": "2021-06-10T11:02:49.490Z"
   },
   {
    "duration": 1769,
    "start_time": "2021-06-10T11:02:49.498Z"
   },
   {
    "duration": 809,
    "start_time": "2021-06-10T11:02:51.270Z"
   },
   {
    "duration": 4,
    "start_time": "2021-06-10T11:02:52.086Z"
   },
   {
    "duration": 17,
    "start_time": "2021-06-10T11:02:52.093Z"
   },
   {
    "duration": 19,
    "start_time": "2021-06-10T11:02:52.113Z"
   },
   {
    "duration": 12,
    "start_time": "2021-06-10T11:02:52.134Z"
   },
   {
    "duration": 37,
    "start_time": "2021-06-10T11:02:52.148Z"
   },
   {
    "duration": 15,
    "start_time": "2021-06-10T11:02:52.188Z"
   },
   {
    "duration": 9,
    "start_time": "2021-06-10T11:02:52.206Z"
   },
   {
    "duration": 11,
    "start_time": "2021-06-10T11:02:52.218Z"
   },
   {
    "duration": 14,
    "start_time": "2021-06-10T11:02:52.231Z"
   },
   {
    "duration": 789,
    "start_time": "2021-06-10T11:02:52.248Z"
   },
   {
    "duration": 646,
    "start_time": "2021-06-10T11:02:53.040Z"
   },
   {
    "duration": 153,
    "start_time": "2021-06-10T11:02:53.688Z"
   },
   {
    "duration": 373,
    "start_time": "2021-06-10T11:02:53.844Z"
   },
   {
    "duration": 356,
    "start_time": "2021-06-10T11:02:54.219Z"
   },
   {
    "duration": 366,
    "start_time": "2021-06-10T11:02:54.577Z"
   },
   {
    "duration": 49,
    "start_time": "2021-06-10T11:02:54.949Z"
   },
   {
    "duration": 619,
    "start_time": "2021-06-10T11:02:55.002Z"
   },
   {
    "duration": 346,
    "start_time": "2021-06-10T11:02:55.624Z"
   },
   {
    "duration": 499,
    "start_time": "2021-06-10T11:02:55.973Z"
   },
   {
    "duration": 677,
    "start_time": "2021-06-10T11:02:56.475Z"
   },
   {
    "duration": 401,
    "start_time": "2021-06-10T11:02:57.155Z"
   },
   {
    "duration": 319,
    "start_time": "2021-06-10T11:02:57.559Z"
   },
   {
    "duration": 7,
    "start_time": "2021-06-10T11:02:57.881Z"
   },
   {
    "duration": 12,
    "start_time": "2021-06-10T11:02:57.891Z"
   },
   {
    "duration": 28,
    "start_time": "2021-06-10T11:02:57.905Z"
   },
   {
    "duration": 5,
    "start_time": "2021-06-10T11:02:57.936Z"
   },
   {
    "duration": 42,
    "start_time": "2021-06-10T11:02:57.943Z"
   },
   {
    "duration": 8,
    "start_time": "2021-06-10T11:02:57.988Z"
   },
   {
    "duration": 326,
    "start_time": "2021-06-10T11:02:57.998Z"
   },
   {
    "duration": 578,
    "start_time": "2021-06-10T11:02:58.327Z"
   },
   {
    "duration": 11,
    "start_time": "2021-06-10T11:02:58.907Z"
   },
   {
    "duration": 12,
    "start_time": "2021-06-10T11:02:58.921Z"
   },
   {
    "duration": 385,
    "start_time": "2021-06-10T11:02:58.936Z"
   },
   {
    "duration": 495,
    "start_time": "2021-06-10T11:02:59.324Z"
   },
   {
    "duration": 9,
    "start_time": "2021-06-10T11:02:59.821Z"
   },
   {
    "duration": 10,
    "start_time": "2021-06-10T11:02:59.832Z"
   },
   {
    "duration": 341,
    "start_time": "2021-06-10T11:02:59.844Z"
   },
   {
    "duration": 456,
    "start_time": "2021-06-10T11:03:00.187Z"
   },
   {
    "duration": 9,
    "start_time": "2021-06-10T11:03:00.645Z"
   },
   {
    "duration": 30,
    "start_time": "2021-06-10T11:03:00.657Z"
   },
   {
    "duration": 32,
    "start_time": "2021-06-10T11:03:00.690Z"
   },
   {
    "duration": 21,
    "start_time": "2021-06-10T11:03:00.725Z"
   },
   {
    "duration": 36,
    "start_time": "2021-06-10T11:03:00.748Z"
   },
   {
    "duration": 17,
    "start_time": "2021-06-10T11:03:00.786Z"
   },
   {
    "duration": 15,
    "start_time": "2021-06-10T11:03:00.806Z"
   },
   {
    "duration": 46,
    "start_time": "2021-06-10T11:03:00.823Z"
   },
   {
    "duration": 35,
    "start_time": "2021-06-10T11:03:00.872Z"
   },
   {
    "duration": 69,
    "start_time": "2021-06-10T11:03:00.909Z"
   },
   {
    "duration": 33,
    "start_time": "2021-06-10T11:03:00.980Z"
   },
   {
    "duration": 452,
    "start_time": "2021-06-10T11:03:01.016Z"
   },
   {
    "duration": -5,
    "start_time": "2021-06-10T11:03:01.475Z"
   },
   {
    "duration": 5,
    "start_time": "2021-06-10T11:03:35.444Z"
   },
   {
    "duration": 413,
    "start_time": "2021-06-10T11:03:35.457Z"
   },
   {
    "duration": 98,
    "start_time": "2021-06-10T11:03:35.873Z"
   },
   {
    "duration": 486,
    "start_time": "2021-06-10T11:03:35.974Z"
   },
   {
    "duration": 8,
    "start_time": "2021-06-10T11:03:36.463Z"
   },
   {
    "duration": 43,
    "start_time": "2021-06-10T11:03:36.474Z"
   },
   {
    "duration": 1154,
    "start_time": "2021-06-10T11:03:36.520Z"
   },
   {
    "duration": 651,
    "start_time": "2021-06-10T11:03:37.676Z"
   },
   {
    "duration": 4,
    "start_time": "2021-06-10T11:03:38.332Z"
   },
   {
    "duration": 10,
    "start_time": "2021-06-10T11:03:38.339Z"
   },
   {
    "duration": 38,
    "start_time": "2021-06-10T11:03:38.352Z"
   },
   {
    "duration": 4,
    "start_time": "2021-06-10T11:03:38.393Z"
   },
   {
    "duration": 9,
    "start_time": "2021-06-10T11:03:38.400Z"
   },
   {
    "duration": 17,
    "start_time": "2021-06-10T11:03:38.412Z"
   },
   {
    "duration": 7,
    "start_time": "2021-06-10T11:03:38.432Z"
   },
   {
    "duration": 4,
    "start_time": "2021-06-10T11:03:38.442Z"
   },
   {
    "duration": 40,
    "start_time": "2021-06-10T11:03:38.449Z"
   },
   {
    "duration": 775,
    "start_time": "2021-06-10T11:03:38.492Z"
   },
   {
    "duration": 743,
    "start_time": "2021-06-10T11:03:39.270Z"
   },
   {
    "duration": 178,
    "start_time": "2021-06-10T11:03:40.015Z"
   },
   {
    "duration": 393,
    "start_time": "2021-06-10T11:03:40.196Z"
   },
   {
    "duration": 413,
    "start_time": "2021-06-10T11:03:40.592Z"
   },
   {
    "duration": 355,
    "start_time": "2021-06-10T11:03:41.007Z"
   },
   {
    "duration": 44,
    "start_time": "2021-06-10T11:03:41.367Z"
   },
   {
    "duration": 479,
    "start_time": "2021-06-10T11:03:41.414Z"
   },
   {
    "duration": 300,
    "start_time": "2021-06-10T11:03:41.896Z"
   },
   {
    "duration": 299,
    "start_time": "2021-06-10T11:03:42.198Z"
   },
   {
    "duration": 496,
    "start_time": "2021-06-10T11:03:42.500Z"
   },
   {
    "duration": 296,
    "start_time": "2021-06-10T11:03:42.998Z"
   },
   {
    "duration": 302,
    "start_time": "2021-06-10T11:03:43.296Z"
   },
   {
    "duration": 6,
    "start_time": "2021-06-10T11:03:43.600Z"
   },
   {
    "duration": 6,
    "start_time": "2021-06-10T11:03:43.609Z"
   },
   {
    "duration": 27,
    "start_time": "2021-06-10T11:03:43.618Z"
   },
   {
    "duration": 6,
    "start_time": "2021-06-10T11:03:43.687Z"
   },
   {
    "duration": 7,
    "start_time": "2021-06-10T11:03:43.696Z"
   },
   {
    "duration": 9,
    "start_time": "2021-06-10T11:03:43.705Z"
   },
   {
    "duration": 337,
    "start_time": "2021-06-10T11:03:43.717Z"
   },
   {
    "duration": 421,
    "start_time": "2021-06-10T11:03:44.057Z"
   },
   {
    "duration": 11,
    "start_time": "2021-06-10T11:03:44.480Z"
   },
   {
    "duration": 9,
    "start_time": "2021-06-10T11:03:44.494Z"
   },
   {
    "duration": 360,
    "start_time": "2021-06-10T11:03:44.506Z"
   },
   {
    "duration": 510,
    "start_time": "2021-06-10T11:03:44.869Z"
   },
   {
    "duration": 10,
    "start_time": "2021-06-10T11:03:45.386Z"
   },
   {
    "duration": 10,
    "start_time": "2021-06-10T11:03:45.398Z"
   },
   {
    "duration": 549,
    "start_time": "2021-06-10T11:03:45.411Z"
   },
   {
    "duration": 455,
    "start_time": "2021-06-10T11:03:45.963Z"
   },
   {
    "duration": 8,
    "start_time": "2021-06-10T11:03:46.421Z"
   },
   {
    "duration": 6,
    "start_time": "2021-06-10T11:03:46.431Z"
   },
   {
    "duration": 46,
    "start_time": "2021-06-10T11:03:46.439Z"
   },
   {
    "duration": 5,
    "start_time": "2021-06-10T11:03:46.488Z"
   },
   {
    "duration": 15,
    "start_time": "2021-06-10T11:03:46.496Z"
   },
   {
    "duration": 8,
    "start_time": "2021-06-10T11:03:46.514Z"
   },
   {
    "duration": 8,
    "start_time": "2021-06-10T11:03:46.524Z"
   },
   {
    "duration": 51,
    "start_time": "2021-06-10T11:03:46.534Z"
   },
   {
    "duration": 11,
    "start_time": "2021-06-10T11:03:46.588Z"
   },
   {
    "duration": 31,
    "start_time": "2021-06-10T11:03:46.602Z"
   },
   {
    "duration": 25,
    "start_time": "2021-06-10T11:03:46.635Z"
   },
   {
    "duration": 323,
    "start_time": "2021-06-10T11:03:50.920Z"
   },
   {
    "duration": 296,
    "start_time": "2021-06-10T11:06:05.494Z"
   },
   {
    "duration": 1561,
    "start_time": "2021-06-10T11:06:22.958Z"
   },
   {
    "duration": 390,
    "start_time": "2021-06-10T11:06:24.522Z"
   },
   {
    "duration": 106,
    "start_time": "2021-06-10T11:06:24.914Z"
   },
   {
    "duration": 518,
    "start_time": "2021-06-10T11:06:25.022Z"
   },
   {
    "duration": 8,
    "start_time": "2021-06-10T11:06:25.544Z"
   },
   {
    "duration": 22,
    "start_time": "2021-06-10T11:06:25.556Z"
   },
   {
    "duration": 1256,
    "start_time": "2021-06-10T11:06:25.581Z"
   },
   {
    "duration": 695,
    "start_time": "2021-06-10T11:06:26.840Z"
   },
   {
    "duration": 3,
    "start_time": "2021-06-10T11:06:27.538Z"
   },
   {
    "duration": 11,
    "start_time": "2021-06-10T11:06:27.543Z"
   },
   {
    "duration": 44,
    "start_time": "2021-06-10T11:06:27.556Z"
   },
   {
    "duration": 4,
    "start_time": "2021-06-10T11:06:27.603Z"
   },
   {
    "duration": 12,
    "start_time": "2021-06-10T11:06:27.609Z"
   },
   {
    "duration": 20,
    "start_time": "2021-06-10T11:06:27.624Z"
   },
   {
    "duration": 13,
    "start_time": "2021-06-10T11:06:27.647Z"
   },
   {
    "duration": 7,
    "start_time": "2021-06-10T11:06:27.692Z"
   },
   {
    "duration": 9,
    "start_time": "2021-06-10T11:06:27.704Z"
   },
   {
    "duration": 6,
    "start_time": "2021-06-10T11:06:36.115Z"
   },
   {
    "duration": 403,
    "start_time": "2021-06-10T11:06:36.123Z"
   },
   {
    "duration": 98,
    "start_time": "2021-06-10T11:06:36.529Z"
   },
   {
    "duration": 497,
    "start_time": "2021-06-10T11:06:36.629Z"
   },
   {
    "duration": 10,
    "start_time": "2021-06-10T11:06:37.128Z"
   },
   {
    "duration": 15,
    "start_time": "2021-06-10T11:06:37.141Z"
   },
   {
    "duration": 1203,
    "start_time": "2021-06-10T11:06:37.158Z"
   },
   {
    "duration": 627,
    "start_time": "2021-06-10T11:06:38.364Z"
   },
   {
    "duration": 3,
    "start_time": "2021-06-10T11:06:38.993Z"
   },
   {
    "duration": 8,
    "start_time": "2021-06-10T11:06:38.999Z"
   },
   {
    "duration": 19,
    "start_time": "2021-06-10T11:06:39.009Z"
   },
   {
    "duration": 6,
    "start_time": "2021-06-10T11:06:39.030Z"
   },
   {
    "duration": 12,
    "start_time": "2021-06-10T11:06:39.038Z"
   },
   {
    "duration": 13,
    "start_time": "2021-06-10T11:06:39.086Z"
   },
   {
    "duration": 12,
    "start_time": "2021-06-10T11:06:39.102Z"
   },
   {
    "duration": 5,
    "start_time": "2021-06-10T11:06:39.116Z"
   },
   {
    "duration": 14,
    "start_time": "2021-06-10T11:06:39.124Z"
   },
   {
    "duration": 739,
    "start_time": "2021-06-10T11:06:39.140Z"
   },
   {
    "duration": 717,
    "start_time": "2021-06-10T11:06:39.881Z"
   },
   {
    "duration": 227,
    "start_time": "2021-06-10T11:06:40.600Z"
   },
   {
    "duration": 373,
    "start_time": "2021-06-10T11:06:40.830Z"
   },
   {
    "duration": 362,
    "start_time": "2021-06-10T11:06:41.205Z"
   },
   {
    "duration": 358,
    "start_time": "2021-06-10T11:06:41.569Z"
   },
   {
    "duration": 36,
    "start_time": "2021-06-10T11:06:41.929Z"
   },
   {
    "duration": 501,
    "start_time": "2021-06-10T11:06:41.967Z"
   },
   {
    "duration": 328,
    "start_time": "2021-06-10T11:06:42.471Z"
   },
   {
    "duration": 321,
    "start_time": "2021-06-10T11:06:42.802Z"
   },
   {
    "duration": 506,
    "start_time": "2021-06-10T11:06:43.126Z"
   },
   {
    "duration": 317,
    "start_time": "2021-06-10T11:06:43.634Z"
   },
   {
    "duration": 311,
    "start_time": "2021-06-10T11:06:43.954Z"
   },
   {
    "duration": 17,
    "start_time": "2021-06-10T11:06:44.268Z"
   },
   {
    "duration": 6,
    "start_time": "2021-06-10T11:06:44.287Z"
   },
   {
    "duration": 26,
    "start_time": "2021-06-10T11:06:44.295Z"
   },
   {
    "duration": 14,
    "start_time": "2021-06-10T11:06:44.324Z"
   },
   {
    "duration": 11,
    "start_time": "2021-06-10T11:06:44.341Z"
   },
   {
    "duration": 37,
    "start_time": "2021-06-10T11:06:44.355Z"
   },
   {
    "duration": 306,
    "start_time": "2021-06-10T11:06:44.394Z"
   },
   {
    "duration": 440,
    "start_time": "2021-06-10T11:06:44.703Z"
   },
   {
    "duration": 10,
    "start_time": "2021-06-10T11:06:45.146Z"
   },
   {
    "duration": 30,
    "start_time": "2021-06-10T11:06:45.159Z"
   },
   {
    "duration": 362,
    "start_time": "2021-06-10T11:06:45.192Z"
   },
   {
    "duration": 520,
    "start_time": "2021-06-10T11:06:45.557Z"
   },
   {
    "duration": 13,
    "start_time": "2021-06-10T11:06:46.079Z"
   },
   {
    "duration": 14,
    "start_time": "2021-06-10T11:06:46.095Z"
   },
   {
    "duration": 473,
    "start_time": "2021-06-10T11:06:46.112Z"
   },
   {
    "duration": 456,
    "start_time": "2021-06-10T11:06:46.587Z"
   },
   {
    "duration": 8,
    "start_time": "2021-06-10T11:06:47.045Z"
   },
   {
    "duration": 9,
    "start_time": "2021-06-10T11:06:47.055Z"
   },
   {
    "duration": 12,
    "start_time": "2021-06-10T11:06:47.086Z"
   },
   {
    "duration": 13,
    "start_time": "2021-06-10T11:06:47.101Z"
   },
   {
    "duration": 15,
    "start_time": "2021-06-10T11:06:47.116Z"
   },
   {
    "duration": 9,
    "start_time": "2021-06-10T11:06:47.134Z"
   },
   {
    "duration": 8,
    "start_time": "2021-06-10T11:06:47.145Z"
   },
   {
    "duration": 32,
    "start_time": "2021-06-10T11:06:47.155Z"
   },
   {
    "duration": 11,
    "start_time": "2021-06-10T11:06:47.190Z"
   },
   {
    "duration": 32,
    "start_time": "2021-06-10T11:06:47.203Z"
   },
   {
    "duration": 22,
    "start_time": "2021-06-10T11:06:47.237Z"
   },
   {
    "duration": 2321,
    "start_time": "2021-06-10T11:06:51.277Z"
   },
   {
    "duration": 2432,
    "start_time": "2021-06-10T11:07:16.964Z"
   },
   {
    "duration": 2351,
    "start_time": "2021-06-10T11:07:36.936Z"
   },
   {
    "duration": 112,
    "start_time": "2021-06-10T11:11:28.353Z"
   },
   {
    "duration": 2932,
    "start_time": "2021-06-10T11:11:46.055Z"
   },
   {
    "duration": 2429,
    "start_time": "2021-06-10T11:15:13.563Z"
   },
   {
    "duration": 59976,
    "start_time": "2021-06-10T11:16:23.928Z"
   },
   {
    "duration": 57947,
    "start_time": "2021-06-10T11:18:04.704Z"
   },
   {
    "duration": 102551,
    "start_time": "2021-06-10T11:24:12.860Z"
   },
   {
    "duration": 198656,
    "start_time": "2021-06-10T11:26:44.593Z"
   },
   {
    "duration": 6,
    "start_time": "2021-06-10T11:44:45.507Z"
   },
   {
    "duration": 6,
    "start_time": "2021-06-10T11:45:16.919Z"
   },
   {
    "duration": 6,
    "start_time": "2021-06-10T11:46:31.049Z"
   },
   {
    "duration": 4,
    "start_time": "2021-06-10T11:50:14.383Z"
   },
   {
    "duration": 394,
    "start_time": "2021-06-10T11:51:33.767Z"
   },
   {
    "duration": 950363,
    "start_time": "2021-06-10T12:05:58.250Z"
   },
   {
    "duration": 1539,
    "start_time": "2021-06-10T12:32:21.571Z"
   },
   {
    "duration": 573,
    "start_time": "2021-06-10T12:32:23.113Z"
   },
   {
    "duration": 148,
    "start_time": "2021-06-10T12:32:23.689Z"
   },
   {
    "duration": 743,
    "start_time": "2021-06-10T12:32:23.840Z"
   },
   {
    "duration": 11,
    "start_time": "2021-06-10T12:32:24.586Z"
   },
   {
    "duration": 11,
    "start_time": "2021-06-10T12:32:24.600Z"
   },
   {
    "duration": 1518,
    "start_time": "2021-06-10T12:32:24.614Z"
   },
   {
    "duration": 636,
    "start_time": "2021-06-10T12:32:26.138Z"
   },
   {
    "duration": 10,
    "start_time": "2021-06-10T12:32:26.778Z"
   },
   {
    "duration": 15,
    "start_time": "2021-06-10T12:32:26.790Z"
   },
   {
    "duration": 25,
    "start_time": "2021-06-10T12:32:26.809Z"
   },
   {
    "duration": 6,
    "start_time": "2021-06-10T12:32:26.837Z"
   },
   {
    "duration": 16,
    "start_time": "2021-06-10T12:32:26.846Z"
   },
   {
    "duration": 19,
    "start_time": "2021-06-10T12:32:26.887Z"
   },
   {
    "duration": 11,
    "start_time": "2021-06-10T12:32:26.909Z"
   },
   {
    "duration": 10,
    "start_time": "2021-06-10T12:32:26.923Z"
   },
   {
    "duration": 21,
    "start_time": "2021-06-10T12:32:26.936Z"
   },
   {
    "duration": 1280,
    "start_time": "2021-06-10T12:32:26.960Z"
   },
   {
    "duration": 888,
    "start_time": "2021-06-10T12:32:28.243Z"
   },
   {
    "duration": 236,
    "start_time": "2021-06-10T12:32:29.134Z"
   },
   {
    "duration": 371,
    "start_time": "2021-06-10T12:32:29.373Z"
   },
   {
    "duration": 493,
    "start_time": "2021-06-10T12:32:29.747Z"
   },
   {
    "duration": 375,
    "start_time": "2021-06-10T12:32:30.243Z"
   },
   {
    "duration": 35,
    "start_time": "2021-06-10T12:32:30.621Z"
   },
   {
    "duration": 531,
    "start_time": "2021-06-10T12:32:30.658Z"
   },
   {
    "duration": 323,
    "start_time": "2021-06-10T12:32:31.196Z"
   },
   {
    "duration": 394,
    "start_time": "2021-06-10T12:32:31.524Z"
   },
   {
    "duration": 511,
    "start_time": "2021-06-10T12:32:31.921Z"
   },
   {
    "duration": 428,
    "start_time": "2021-06-10T12:32:32.435Z"
   },
   {
    "duration": 303,
    "start_time": "2021-06-10T12:32:32.866Z"
   },
   {
    "duration": 13,
    "start_time": "2021-06-10T12:32:33.172Z"
   },
   {
    "duration": 8,
    "start_time": "2021-06-10T12:32:33.188Z"
   },
   {
    "duration": 47,
    "start_time": "2021-06-10T12:32:33.199Z"
   },
   {
    "duration": 6,
    "start_time": "2021-06-10T12:32:33.248Z"
   },
   {
    "duration": 31,
    "start_time": "2021-06-10T12:32:33.256Z"
   },
   {
    "duration": 8,
    "start_time": "2021-06-10T12:32:33.289Z"
   },
   {
    "duration": 403,
    "start_time": "2021-06-10T12:32:33.299Z"
   },
   {
    "duration": 594,
    "start_time": "2021-06-10T12:32:33.705Z"
   },
   {
    "duration": 12,
    "start_time": "2021-06-10T12:32:34.302Z"
   },
   {
    "duration": 17,
    "start_time": "2021-06-10T12:32:34.317Z"
   },
   {
    "duration": 498,
    "start_time": "2021-06-10T12:32:34.337Z"
   },
   {
    "duration": 786,
    "start_time": "2021-06-10T12:32:34.838Z"
   },
   {
    "duration": 11,
    "start_time": "2021-06-10T12:32:35.627Z"
   },
   {
    "duration": 13,
    "start_time": "2021-06-10T12:32:35.641Z"
   },
   {
    "duration": 524,
    "start_time": "2021-06-10T12:32:35.657Z"
   },
   {
    "duration": 708,
    "start_time": "2021-06-10T12:32:36.185Z"
   },
   {
    "duration": 11,
    "start_time": "2021-06-10T12:32:36.896Z"
   },
   {
    "duration": 7,
    "start_time": "2021-06-10T12:32:36.910Z"
   },
   {
    "duration": 14,
    "start_time": "2021-06-10T12:32:36.920Z"
   },
   {
    "duration": 5,
    "start_time": "2021-06-10T12:32:36.937Z"
   },
   {
    "duration": 48,
    "start_time": "2021-06-10T12:32:36.945Z"
   },
   {
    "duration": 9,
    "start_time": "2021-06-10T12:32:36.995Z"
   },
   {
    "duration": 8,
    "start_time": "2021-06-10T12:32:37.007Z"
   },
   {
    "duration": 12,
    "start_time": "2021-06-10T12:32:37.017Z"
   },
   {
    "duration": 10,
    "start_time": "2021-06-10T12:32:37.031Z"
   },
   {
    "duration": 74,
    "start_time": "2021-06-10T12:32:37.043Z"
   },
   {
    "duration": 26,
    "start_time": "2021-06-10T12:32:37.119Z"
   },
   {
    "duration": 3161,
    "start_time": "2021-06-10T12:32:37.147Z"
   },
   {
    "duration": 565,
    "start_time": "2021-06-10T12:32:40.312Z"
   },
   {
    "duration": 1456,
    "start_time": "2021-06-10T12:43:26.318Z"
   },
   {
    "duration": 393,
    "start_time": "2021-06-10T12:43:27.777Z"
   },
   {
    "duration": 107,
    "start_time": "2021-06-10T12:43:28.172Z"
   },
   {
    "duration": 525,
    "start_time": "2021-06-10T12:43:28.282Z"
   },
   {
    "duration": 9,
    "start_time": "2021-06-10T12:43:28.810Z"
   },
   {
    "duration": 8,
    "start_time": "2021-06-10T12:43:28.821Z"
   },
   {
    "duration": 1845,
    "start_time": "2021-06-10T12:43:28.832Z"
   },
   {
    "duration": 656,
    "start_time": "2021-06-10T12:43:30.687Z"
   },
   {
    "duration": 4,
    "start_time": "2021-06-10T12:43:31.347Z"
   },
   {
    "duration": 31,
    "start_time": "2021-06-10T12:43:31.354Z"
   },
   {
    "duration": 23,
    "start_time": "2021-06-10T12:43:31.389Z"
   },
   {
    "duration": 6,
    "start_time": "2021-06-10T12:43:31.415Z"
   },
   {
    "duration": 24,
    "start_time": "2021-06-10T12:43:31.423Z"
   },
   {
    "duration": 15,
    "start_time": "2021-06-10T12:43:31.449Z"
   },
   {
    "duration": 25,
    "start_time": "2021-06-10T12:43:31.467Z"
   },
   {
    "duration": 5,
    "start_time": "2021-06-10T12:43:31.495Z"
   },
   {
    "duration": 15,
    "start_time": "2021-06-10T12:43:31.503Z"
   },
   {
    "duration": 1239,
    "start_time": "2021-06-10T12:43:31.521Z"
   },
   {
    "duration": 907,
    "start_time": "2021-06-10T12:43:32.763Z"
   },
   {
    "duration": 244,
    "start_time": "2021-06-10T12:43:33.673Z"
   },
   {
    "duration": 547,
    "start_time": "2021-06-10T12:43:33.920Z"
   },
   {
    "duration": 355,
    "start_time": "2021-06-10T12:43:34.471Z"
   },
   {
    "duration": 365,
    "start_time": "2021-06-10T12:43:34.835Z"
   },
   {
    "duration": 37,
    "start_time": "2021-06-10T12:43:35.203Z"
   },
   {
    "duration": 538,
    "start_time": "2021-06-10T12:43:35.243Z"
   },
   {
    "duration": 420,
    "start_time": "2021-06-10T12:43:35.784Z"
   },
   {
    "duration": 549,
    "start_time": "2021-06-10T12:43:36.207Z"
   },
   {
    "duration": 780,
    "start_time": "2021-06-10T12:43:36.759Z"
   },
   {
    "duration": 447,
    "start_time": "2021-06-10T12:43:37.542Z"
   },
   {
    "duration": 444,
    "start_time": "2021-06-10T12:43:37.993Z"
   },
   {
    "duration": 6,
    "start_time": "2021-06-10T12:43:38.441Z"
   },
   {
    "duration": 8,
    "start_time": "2021-06-10T12:43:38.450Z"
   },
   {
    "duration": 37,
    "start_time": "2021-06-10T12:43:38.485Z"
   },
   {
    "duration": 7,
    "start_time": "2021-06-10T12:43:38.525Z"
   },
   {
    "duration": 8,
    "start_time": "2021-06-10T12:43:38.535Z"
   },
   {
    "duration": 46,
    "start_time": "2021-06-10T12:43:38.546Z"
   },
   {
    "duration": 451,
    "start_time": "2021-06-10T12:43:38.595Z"
   },
   {
    "duration": 656,
    "start_time": "2021-06-10T12:43:39.049Z"
   },
   {
    "duration": 11,
    "start_time": "2021-06-10T12:43:39.708Z"
   },
   {
    "duration": 11,
    "start_time": "2021-06-10T12:43:39.722Z"
   },
   {
    "duration": 391,
    "start_time": "2021-06-10T12:43:39.736Z"
   },
   {
    "duration": 555,
    "start_time": "2021-06-10T12:43:40.130Z"
   },
   {
    "duration": 11,
    "start_time": "2021-06-10T12:43:40.688Z"
   },
   {
    "duration": 28,
    "start_time": "2021-06-10T12:43:40.702Z"
   },
   {
    "duration": 474,
    "start_time": "2021-06-10T12:43:40.733Z"
   },
   {
    "duration": 688,
    "start_time": "2021-06-10T12:43:41.210Z"
   },
   {
    "duration": 10,
    "start_time": "2021-06-10T12:43:41.902Z"
   },
   {
    "duration": 8,
    "start_time": "2021-06-10T12:43:41.915Z"
   },
   {
    "duration": 17,
    "start_time": "2021-06-10T12:43:41.926Z"
   },
   {
    "duration": 42,
    "start_time": "2021-06-10T12:43:41.947Z"
   },
   {
    "duration": 11,
    "start_time": "2021-06-10T12:43:41.992Z"
   },
   {
    "duration": 8,
    "start_time": "2021-06-10T12:43:42.005Z"
   },
   {
    "duration": 9,
    "start_time": "2021-06-10T12:43:42.016Z"
   },
   {
    "duration": 6,
    "start_time": "2021-06-10T12:43:42.027Z"
   },
   {
    "duration": 3,
    "start_time": "2021-06-10T12:43:42.086Z"
   },
   {
    "duration": 37,
    "start_time": "2021-06-10T12:43:42.091Z"
   },
   {
    "duration": 25,
    "start_time": "2021-06-10T12:43:42.130Z"
   },
   {
    "duration": 3731,
    "start_time": "2021-06-10T12:43:42.157Z"
   },
   {
    "duration": 435,
    "start_time": "2021-06-10T12:43:45.892Z"
   },
   {
    "duration": 8,
    "start_time": "2021-06-10T12:43:46.331Z"
   },
   {
    "duration": 5,
    "start_time": "2021-06-10T12:43:46.342Z"
   },
   {
    "duration": 1544,
    "start_time": "2021-06-10T12:45:28.479Z"
   },
   {
    "duration": 393,
    "start_time": "2021-06-10T12:45:30.027Z"
   },
   {
    "duration": 114,
    "start_time": "2021-06-10T12:45:30.424Z"
   },
   {
    "duration": 528,
    "start_time": "2021-06-10T12:45:30.541Z"
   },
   {
    "duration": 14,
    "start_time": "2021-06-10T12:45:31.072Z"
   },
   {
    "duration": 18,
    "start_time": "2021-06-10T12:45:31.088Z"
   },
   {
    "duration": 1216,
    "start_time": "2021-06-10T12:45:31.109Z"
   },
   {
    "duration": 646,
    "start_time": "2021-06-10T12:45:32.328Z"
   },
   {
    "duration": 7,
    "start_time": "2021-06-10T12:45:32.978Z"
   },
   {
    "duration": 7,
    "start_time": "2021-06-10T12:45:32.988Z"
   },
   {
    "duration": 15,
    "start_time": "2021-06-10T12:45:32.997Z"
   },
   {
    "duration": 14,
    "start_time": "2021-06-10T12:45:33.014Z"
   },
   {
    "duration": 18,
    "start_time": "2021-06-10T12:45:33.031Z"
   },
   {
    "duration": 40,
    "start_time": "2021-06-10T12:45:33.051Z"
   },
   {
    "duration": 7,
    "start_time": "2021-06-10T12:45:33.094Z"
   },
   {
    "duration": 16,
    "start_time": "2021-06-10T12:45:33.103Z"
   },
   {
    "duration": 20,
    "start_time": "2021-06-10T12:45:33.122Z"
   },
   {
    "duration": 855,
    "start_time": "2021-06-10T12:45:33.144Z"
   },
   {
    "duration": 725,
    "start_time": "2021-06-10T12:45:34.002Z"
   },
   {
    "duration": 174,
    "start_time": "2021-06-10T12:45:34.729Z"
   },
   {
    "duration": 391,
    "start_time": "2021-06-10T12:45:34.905Z"
   },
   {
    "duration": 360,
    "start_time": "2021-06-10T12:45:35.299Z"
   },
   {
    "duration": 374,
    "start_time": "2021-06-10T12:45:35.661Z"
   },
   {
    "duration": 59,
    "start_time": "2021-06-10T12:45:36.038Z"
   },
   {
    "duration": 502,
    "start_time": "2021-06-10T12:45:36.100Z"
   },
   {
    "duration": 302,
    "start_time": "2021-06-10T12:45:36.606Z"
   },
   {
    "duration": 385,
    "start_time": "2021-06-10T12:45:36.916Z"
   },
   {
    "duration": 525,
    "start_time": "2021-06-10T12:45:37.306Z"
   },
   {
    "duration": 311,
    "start_time": "2021-06-10T12:45:37.834Z"
   },
   {
    "duration": 315,
    "start_time": "2021-06-10T12:45:38.148Z"
   },
   {
    "duration": 6,
    "start_time": "2021-06-10T12:45:38.466Z"
   },
   {
    "duration": 19,
    "start_time": "2021-06-10T12:45:38.487Z"
   },
   {
    "duration": 42,
    "start_time": "2021-06-10T12:45:38.509Z"
   },
   {
    "duration": 14,
    "start_time": "2021-06-10T12:45:38.554Z"
   },
   {
    "duration": 13,
    "start_time": "2021-06-10T12:45:38.571Z"
   },
   {
    "duration": 22,
    "start_time": "2021-06-10T12:45:38.587Z"
   },
   {
    "duration": 305,
    "start_time": "2021-06-10T12:45:38.612Z"
   },
   {
    "duration": 452,
    "start_time": "2021-06-10T12:45:38.919Z"
   },
   {
    "duration": 14,
    "start_time": "2021-06-10T12:45:39.374Z"
   },
   {
    "duration": 112,
    "start_time": "2021-06-10T12:45:39.391Z"
   },
   {
    "duration": 414,
    "start_time": "2021-06-10T12:45:39.506Z"
   },
   {
    "duration": 529,
    "start_time": "2021-06-10T12:45:39.923Z"
   },
   {
    "duration": 10,
    "start_time": "2021-06-10T12:45:40.455Z"
   },
   {
    "duration": 10,
    "start_time": "2021-06-10T12:45:40.487Z"
   },
   {
    "duration": 368,
    "start_time": "2021-06-10T12:45:40.500Z"
   },
   {
    "duration": 482,
    "start_time": "2021-06-10T12:45:40.871Z"
   },
   {
    "duration": 9,
    "start_time": "2021-06-10T12:45:41.355Z"
   },
   {
    "duration": 21,
    "start_time": "2021-06-10T12:45:41.366Z"
   },
   {
    "duration": 20,
    "start_time": "2021-06-10T12:45:41.389Z"
   },
   {
    "duration": 10,
    "start_time": "2021-06-10T12:45:41.412Z"
   },
   {
    "duration": 27,
    "start_time": "2021-06-10T12:45:41.424Z"
   },
   {
    "duration": 31,
    "start_time": "2021-06-10T12:45:41.453Z"
   },
   {
    "duration": 10,
    "start_time": "2021-06-10T12:45:41.487Z"
   },
   {
    "duration": 26,
    "start_time": "2021-06-10T12:45:41.500Z"
   },
   {
    "duration": 34,
    "start_time": "2021-06-10T12:45:41.529Z"
   },
   {
    "duration": 45,
    "start_time": "2021-06-10T12:45:41.565Z"
   },
   {
    "duration": 25,
    "start_time": "2021-06-10T12:45:41.613Z"
   },
   {
    "duration": 3750,
    "start_time": "2021-06-10T12:45:41.641Z"
   },
   {
    "duration": 56822,
    "start_time": "2021-06-10T12:45:45.394Z"
   },
   {
    "duration": 574,
    "start_time": "2021-06-10T12:46:42.219Z"
   },
   {
    "duration": -1,
    "start_time": "2021-06-10T12:46:42.797Z"
   },
   {
    "duration": -5,
    "start_time": "2021-06-10T12:46:42.803Z"
   },
   {
    "duration": -8,
    "start_time": "2021-06-10T12:46:42.808Z"
   },
   {
    "duration": 6,
    "start_time": "2021-06-10T12:47:35.030Z"
   },
   {
    "duration": 580,
    "start_time": "2021-06-10T12:47:35.043Z"
   },
   {
    "duration": 138,
    "start_time": "2021-06-10T12:47:35.626Z"
   },
   {
    "duration": 728,
    "start_time": "2021-06-10T12:47:35.768Z"
   },
   {
    "duration": 11,
    "start_time": "2021-06-10T12:47:36.500Z"
   },
   {
    "duration": 9,
    "start_time": "2021-06-10T12:47:36.514Z"
   },
   {
    "duration": 1485,
    "start_time": "2021-06-10T12:47:36.526Z"
   },
   {
    "duration": 882,
    "start_time": "2021-06-10T12:47:38.013Z"
   },
   {
    "duration": 14,
    "start_time": "2021-06-10T12:47:38.901Z"
   },
   {
    "duration": 9,
    "start_time": "2021-06-10T12:47:38.919Z"
   },
   {
    "duration": 22,
    "start_time": "2021-06-10T12:47:38.932Z"
   },
   {
    "duration": 54,
    "start_time": "2021-06-10T12:47:38.957Z"
   },
   {
    "duration": 18,
    "start_time": "2021-06-10T12:47:39.014Z"
   },
   {
    "duration": 20,
    "start_time": "2021-06-10T12:47:39.035Z"
   },
   {
    "duration": 11,
    "start_time": "2021-06-10T12:47:39.058Z"
   },
   {
    "duration": 14,
    "start_time": "2021-06-10T12:47:39.072Z"
   },
   {
    "duration": 18,
    "start_time": "2021-06-10T12:47:39.089Z"
   },
   {
    "duration": 827,
    "start_time": "2021-06-10T12:47:39.110Z"
   },
   {
    "duration": 852,
    "start_time": "2021-06-10T12:47:39.940Z"
   },
   {
    "duration": 225,
    "start_time": "2021-06-10T12:47:40.795Z"
   },
   {
    "duration": 527,
    "start_time": "2021-06-10T12:47:41.023Z"
   },
   {
    "duration": 515,
    "start_time": "2021-06-10T12:47:41.557Z"
   },
   {
    "duration": 520,
    "start_time": "2021-06-10T12:47:42.075Z"
   },
   {
    "duration": 51,
    "start_time": "2021-06-10T12:47:42.605Z"
   },
   {
    "duration": 732,
    "start_time": "2021-06-10T12:47:42.661Z"
   },
   {
    "duration": 444,
    "start_time": "2021-06-10T12:47:43.396Z"
   },
   {
    "duration": 400,
    "start_time": "2021-06-10T12:47:43.843Z"
   },
   {
    "duration": 544,
    "start_time": "2021-06-10T12:47:44.246Z"
   },
   {
    "duration": 375,
    "start_time": "2021-06-10T12:47:44.793Z"
   },
   {
    "duration": 393,
    "start_time": "2021-06-10T12:47:45.172Z"
   },
   {
    "duration": 19,
    "start_time": "2021-06-10T12:47:45.568Z"
   },
   {
    "duration": 6,
    "start_time": "2021-06-10T12:47:45.590Z"
   },
   {
    "duration": 27,
    "start_time": "2021-06-10T12:47:45.599Z"
   },
   {
    "duration": 8,
    "start_time": "2021-06-10T12:47:45.629Z"
   },
   {
    "duration": 51,
    "start_time": "2021-06-10T12:47:45.641Z"
   },
   {
    "duration": 10,
    "start_time": "2021-06-10T12:47:45.696Z"
   },
   {
    "duration": 327,
    "start_time": "2021-06-10T12:47:45.709Z"
   },
   {
    "duration": 465,
    "start_time": "2021-06-10T12:47:46.039Z"
   },
   {
    "duration": 9,
    "start_time": "2021-06-10T12:47:46.508Z"
   },
   {
    "duration": 12,
    "start_time": "2021-06-10T12:47:46.520Z"
   },
   {
    "duration": 468,
    "start_time": "2021-06-10T12:47:46.536Z"
   },
   {
    "duration": 541,
    "start_time": "2021-06-10T12:47:47.008Z"
   },
   {
    "duration": 10,
    "start_time": "2021-06-10T12:47:47.552Z"
   },
   {
    "duration": 23,
    "start_time": "2021-06-10T12:47:47.565Z"
   },
   {
    "duration": 562,
    "start_time": "2021-06-10T12:47:47.592Z"
   },
   {
    "duration": 622,
    "start_time": "2021-06-10T12:47:48.157Z"
   },
   {
    "duration": 9,
    "start_time": "2021-06-10T12:47:48.787Z"
   },
   {
    "duration": 9,
    "start_time": "2021-06-10T12:47:48.799Z"
   },
   {
    "duration": 24,
    "start_time": "2021-06-10T12:47:48.811Z"
   },
   {
    "duration": 9,
    "start_time": "2021-06-10T12:47:48.838Z"
   },
   {
    "duration": 50,
    "start_time": "2021-06-10T12:47:48.849Z"
   },
   {
    "duration": 26,
    "start_time": "2021-06-10T12:47:48.901Z"
   },
   {
    "duration": 8,
    "start_time": "2021-06-10T12:47:48.930Z"
   },
   {
    "duration": 10,
    "start_time": "2021-06-10T12:47:48.940Z"
   },
   {
    "duration": 10,
    "start_time": "2021-06-10T12:47:48.953Z"
   },
   {
    "duration": 50,
    "start_time": "2021-06-10T12:47:48.966Z"
   },
   {
    "duration": 27,
    "start_time": "2021-06-10T12:47:49.019Z"
   },
   {
    "duration": 3451,
    "start_time": "2021-06-10T12:47:49.048Z"
   },
   {
    "duration": 60873,
    "start_time": "2021-06-10T12:47:52.502Z"
   },
   {
    "duration": 463,
    "start_time": "2021-06-10T12:48:53.377Z"
   },
   {
    "duration": 0,
    "start_time": "2021-06-10T12:48:53.842Z"
   },
   {
    "duration": -4,
    "start_time": "2021-06-10T12:48:53.848Z"
   },
   {
    "duration": -10,
    "start_time": "2021-06-10T12:48:53.855Z"
   },
   {
    "duration": 5,
    "start_time": "2021-06-10T12:51:07.566Z"
   },
   {
    "duration": 4,
    "start_time": "2021-06-10T12:53:18.206Z"
   },
   {
    "duration": 1570,
    "start_time": "2021-06-10T12:54:54.568Z"
   },
   {
    "duration": 400,
    "start_time": "2021-06-10T12:54:56.140Z"
   },
   {
    "duration": 105,
    "start_time": "2021-06-10T12:54:56.543Z"
   },
   {
    "duration": 506,
    "start_time": "2021-06-10T12:54:56.651Z"
   },
   {
    "duration": 8,
    "start_time": "2021-06-10T12:54:57.159Z"
   },
   {
    "duration": 17,
    "start_time": "2021-06-10T12:54:57.170Z"
   },
   {
    "duration": 1157,
    "start_time": "2021-06-10T12:54:57.189Z"
   },
   {
    "duration": 622,
    "start_time": "2021-06-10T12:54:58.349Z"
   },
   {
    "duration": 13,
    "start_time": "2021-06-10T12:54:58.974Z"
   },
   {
    "duration": 6,
    "start_time": "2021-06-10T12:54:58.989Z"
   },
   {
    "duration": 15,
    "start_time": "2021-06-10T12:54:58.998Z"
   },
   {
    "duration": 5,
    "start_time": "2021-06-10T12:54:59.016Z"
   },
   {
    "duration": 9,
    "start_time": "2021-06-10T12:54:59.023Z"
   },
   {
    "duration": 59,
    "start_time": "2021-06-10T12:54:59.035Z"
   },
   {
    "duration": 9,
    "start_time": "2021-06-10T12:54:59.097Z"
   },
   {
    "duration": 4,
    "start_time": "2021-06-10T12:54:59.109Z"
   },
   {
    "duration": 8,
    "start_time": "2021-06-10T12:54:59.116Z"
   },
   {
    "duration": 817,
    "start_time": "2021-06-10T12:54:59.127Z"
   },
   {
    "duration": 689,
    "start_time": "2021-06-10T12:54:59.946Z"
   },
   {
    "duration": 182,
    "start_time": "2021-06-10T12:55:00.637Z"
   },
   {
    "duration": 371,
    "start_time": "2021-06-10T12:55:00.822Z"
   },
   {
    "duration": 360,
    "start_time": "2021-06-10T12:55:01.195Z"
   },
   {
    "duration": 470,
    "start_time": "2021-06-10T12:55:01.561Z"
   },
   {
    "duration": 52,
    "start_time": "2021-06-10T12:55:02.035Z"
   },
   {
    "duration": 491,
    "start_time": "2021-06-10T12:55:02.089Z"
   },
   {
    "duration": 292,
    "start_time": "2021-06-10T12:55:02.585Z"
   },
   {
    "duration": 477,
    "start_time": "2021-06-10T12:55:02.880Z"
   },
   {
    "duration": 506,
    "start_time": "2021-06-10T12:55:03.361Z"
   },
   {
    "duration": 316,
    "start_time": "2021-06-10T12:55:03.870Z"
   },
   {
    "duration": 298,
    "start_time": "2021-06-10T12:55:04.189Z"
   },
   {
    "duration": 4,
    "start_time": "2021-06-10T12:55:04.490Z"
   },
   {
    "duration": 22,
    "start_time": "2021-06-10T12:55:04.497Z"
   },
   {
    "duration": 29,
    "start_time": "2021-06-10T12:55:04.522Z"
   },
   {
    "duration": 5,
    "start_time": "2021-06-10T12:55:04.553Z"
   },
   {
    "duration": 5,
    "start_time": "2021-06-10T12:55:04.585Z"
   },
   {
    "duration": 15,
    "start_time": "2021-06-10T12:55:04.592Z"
   },
   {
    "duration": 299,
    "start_time": "2021-06-10T12:55:04.610Z"
   },
   {
    "duration": 440,
    "start_time": "2021-06-10T12:55:04.911Z"
   },
   {
    "duration": 9,
    "start_time": "2021-06-10T12:55:05.353Z"
   },
   {
    "duration": 25,
    "start_time": "2021-06-10T12:55:05.364Z"
   },
   {
    "duration": 343,
    "start_time": "2021-06-10T12:55:05.391Z"
   },
   {
    "duration": 505,
    "start_time": "2021-06-10T12:55:05.737Z"
   },
   {
    "duration": 8,
    "start_time": "2021-06-10T12:55:06.245Z"
   },
   {
    "duration": 30,
    "start_time": "2021-06-10T12:55:06.255Z"
   },
   {
    "duration": 339,
    "start_time": "2021-06-10T12:55:06.288Z"
   },
   {
    "duration": 457,
    "start_time": "2021-06-10T12:55:06.629Z"
   },
   {
    "duration": 9,
    "start_time": "2021-06-10T12:55:07.088Z"
   },
   {
    "duration": 15,
    "start_time": "2021-06-10T12:55:07.099Z"
   },
   {
    "duration": 24,
    "start_time": "2021-06-10T12:55:07.117Z"
   },
   {
    "duration": 6,
    "start_time": "2021-06-10T12:55:07.145Z"
   },
   {
    "duration": 34,
    "start_time": "2021-06-10T12:55:07.155Z"
   },
   {
    "duration": 16,
    "start_time": "2021-06-10T12:55:07.192Z"
   },
   {
    "duration": 12,
    "start_time": "2021-06-10T12:55:07.211Z"
   },
   {
    "duration": 15,
    "start_time": "2021-06-10T12:55:07.225Z"
   },
   {
    "duration": 19,
    "start_time": "2021-06-10T12:55:07.242Z"
   },
   {
    "duration": 44,
    "start_time": "2021-06-10T12:55:07.264Z"
   },
   {
    "duration": 27,
    "start_time": "2021-06-10T12:55:07.311Z"
   },
   {
    "duration": 2251,
    "start_time": "2021-06-10T12:55:07.341Z"
   },
   {
    "duration": 1053,
    "start_time": "2021-06-10T12:55:09.595Z"
   },
   {
    "duration": 7,
    "start_time": "2021-06-10T12:55:10.651Z"
   },
   {
    "duration": 55289,
    "start_time": "2021-06-10T12:55:10.662Z"
   },
   {
    "duration": 177,
    "start_time": "2021-06-10T12:56:05.954Z"
   },
   {
    "duration": 7,
    "start_time": "2021-06-10T12:56:06.127Z"
   },
   {
    "duration": 7783,
    "start_time": "2021-06-10T12:56:17.017Z"
   },
   {
    "duration": 3,
    "start_time": "2021-06-10T12:56:24.803Z"
   },
   {
    "duration": 3201,
    "start_time": "2021-06-10T12:58:14.629Z"
   },
   {
    "duration": 4796,
    "start_time": "2021-06-10T12:58:39.095Z"
   },
   {
    "duration": 3,
    "start_time": "2021-06-10T12:59:17.861Z"
   },
   {
    "duration": 574264,
    "start_time": "2021-06-10T12:59:23.381Z"
   },
   {
    "duration": 100,
    "start_time": "2021-06-10T13:13:31.271Z"
   },
   {
    "duration": 4,
    "start_time": "2021-06-10T13:14:14.118Z"
   },
   {
    "duration": 73508,
    "start_time": "2021-06-10T13:15:15.499Z"
   },
   {
    "duration": 5,
    "start_time": "2021-06-10T13:18:44.947Z"
   },
   {
    "duration": 70,
    "start_time": "2021-06-10T13:24:12.503Z"
   },
   {
    "duration": 7615,
    "start_time": "2021-06-10T13:25:09.482Z"
   },
   {
    "duration": 330,
    "start_time": "2021-06-10T13:27:24.486Z"
   },
   {
    "duration": 310,
    "start_time": "2021-06-10T13:28:04.298Z"
   },
   {
    "duration": 324,
    "start_time": "2021-06-10T13:28:18.060Z"
   },
   {
    "duration": 388,
    "start_time": "2021-06-10T13:36:11.204Z"
   },
   {
    "duration": 6,
    "start_time": "2021-06-10T13:37:35.683Z"
   },
   {
    "duration": 101,
    "start_time": "2021-06-10T13:38:01.662Z"
   },
   {
    "duration": 324,
    "start_time": "2021-06-10T13:38:07.268Z"
   },
   {
    "duration": 41,
    "start_time": "2021-06-10T13:38:30.446Z"
   },
   {
    "duration": 5,
    "start_time": "2021-06-10T13:39:09.246Z"
   },
   {
    "duration": 5,
    "start_time": "2021-06-10T13:39:22.900Z"
   },
   {
    "duration": 324,
    "start_time": "2021-06-10T13:39:36.086Z"
   },
   {
    "duration": 1185,
    "start_time": "2021-06-10T13:40:45.898Z"
   },
   {
    "duration": -39,
    "start_time": "2021-06-10T13:40:47.125Z"
   },
   {
    "duration": 112,
    "start_time": "2021-06-10T13:40:53.048Z"
   },
   {
    "duration": 77,
    "start_time": "2021-06-10T13:41:15.008Z"
   },
   {
    "duration": 1532,
    "start_time": "2022-09-05T18:11:17.671Z"
   },
   {
    "duration": 506,
    "start_time": "2022-09-05T18:12:00.013Z"
   },
   {
    "duration": 159,
    "start_time": "2022-09-05T18:12:01.268Z"
   },
   {
    "duration": 593,
    "start_time": "2022-09-05T18:12:02.115Z"
   },
   {
    "duration": 5,
    "start_time": "2022-09-05T18:12:05.380Z"
   },
   {
    "duration": 3,
    "start_time": "2022-09-05T18:12:11.278Z"
   },
   {
    "duration": 838,
    "start_time": "2022-09-05T18:12:15.403Z"
   },
   {
    "duration": 508,
    "start_time": "2022-09-05T18:15:40.374Z"
   },
   {
    "duration": 2,
    "start_time": "2022-09-05T18:16:00.433Z"
   },
   {
    "duration": 1042,
    "start_time": "2022-09-05T18:16:24.923Z"
   },
   {
    "duration": 5,
    "start_time": "2022-09-05T18:18:18.834Z"
   },
   {
    "duration": 4,
    "start_time": "2022-09-05T18:19:39.783Z"
   },
   {
    "duration": 862,
    "start_time": "2022-09-05T18:27:11.105Z"
   },
   {
    "duration": 485,
    "start_time": "2022-09-05T18:27:16.632Z"
   },
   {
    "duration": 973,
    "start_time": "2022-09-05T18:27:29.841Z"
   },
   {
    "duration": 3,
    "start_time": "2022-09-05T18:27:37.613Z"
   },
   {
    "duration": 8,
    "start_time": "2022-09-05T18:28:14.532Z"
   },
   {
    "duration": 3,
    "start_time": "2022-09-05T18:28:15.229Z"
   },
   {
    "duration": 5,
    "start_time": "2022-09-05T18:28:15.827Z"
   },
   {
    "duration": 9,
    "start_time": "2022-09-05T18:28:17.983Z"
   },
   {
    "duration": 6,
    "start_time": "2022-09-05T18:28:20.460Z"
   },
   {
    "duration": 3,
    "start_time": "2022-09-05T18:28:30.360Z"
   },
   {
    "duration": 4,
    "start_time": "2022-09-05T18:28:30.921Z"
   },
   {
    "duration": 54,
    "start_time": "2022-09-05T18:28:53.658Z"
   },
   {
    "duration": 48,
    "start_time": "2022-09-05T18:28:54.837Z"
   },
   {
    "duration": 21,
    "start_time": "2022-09-05T18:28:55.803Z"
   },
   {
    "duration": 176,
    "start_time": "2022-09-05T18:31:24.820Z"
   },
   {
    "duration": 144,
    "start_time": "2022-09-05T18:31:27.979Z"
   },
   {
    "duration": 221,
    "start_time": "2022-09-05T18:31:31.097Z"
   },
   {
    "duration": 31,
    "start_time": "2022-09-05T18:31:56.610Z"
   },
   {
    "duration": 209,
    "start_time": "2022-09-05T18:31:58.004Z"
   },
   {
    "duration": 253,
    "start_time": "2022-09-05T18:33:10.181Z"
   },
   {
    "duration": 278,
    "start_time": "2022-09-05T18:34:16.454Z"
   },
   {
    "duration": 122,
    "start_time": "2022-09-05T18:34:48.229Z"
   },
   {
    "duration": 3656,
    "start_time": "2022-09-05T18:34:58.179Z"
   },
   {
    "duration": 15,
    "start_time": "2022-09-05T18:35:37.808Z"
   },
   {
    "duration": 13,
    "start_time": "2022-09-05T18:35:45.304Z"
   },
   {
    "duration": 15,
    "start_time": "2022-09-05T18:35:56.565Z"
   },
   {
    "duration": 140,
    "start_time": "2022-09-05T18:36:27.174Z"
   },
   {
    "duration": 169,
    "start_time": "2022-09-05T18:41:26.647Z"
   },
   {
    "duration": 208,
    "start_time": "2022-09-05T18:41:34.947Z"
   },
   {
    "duration": 124,
    "start_time": "2022-09-05T18:41:45.817Z"
   },
   {
    "duration": 125,
    "start_time": "2022-09-05T18:41:48.172Z"
   },
   {
    "duration": 4,
    "start_time": "2022-09-05T18:42:14.327Z"
   },
   {
    "duration": 3,
    "start_time": "2022-09-05T18:42:15.309Z"
   },
   {
    "duration": 26,
    "start_time": "2022-09-05T18:42:16.691Z"
   },
   {
    "duration": 4,
    "start_time": "2022-09-05T18:42:18.917Z"
   },
   {
    "duration": 4,
    "start_time": "2022-09-05T18:42:19.573Z"
   },
   {
    "duration": 4,
    "start_time": "2022-09-05T18:43:17.960Z"
   },
   {
    "duration": 3,
    "start_time": "2022-09-05T18:43:18.591Z"
   },
   {
    "duration": 15,
    "start_time": "2022-09-05T18:43:19.228Z"
   },
   {
    "duration": 4,
    "start_time": "2022-09-05T18:43:21.526Z"
   },
   {
    "duration": 4,
    "start_time": "2022-09-05T18:43:22.088Z"
   },
   {
    "duration": 6,
    "start_time": "2022-09-05T18:43:29.981Z"
   },
   {
    "duration": 147,
    "start_time": "2022-09-05T18:43:30.748Z"
   },
   {
    "duration": 192,
    "start_time": "2022-09-05T18:43:34.145Z"
   },
   {
    "duration": 14,
    "start_time": "2022-09-05T18:43:36.746Z"
   },
   {
    "duration": 6,
    "start_time": "2022-09-05T18:43:37.941Z"
   },
   {
    "duration": 174,
    "start_time": "2022-09-05T18:43:39.763Z"
   },
   {
    "duration": 242,
    "start_time": "2022-09-05T18:43:40.153Z"
   },
   {
    "duration": 12,
    "start_time": "2022-09-05T18:43:42.757Z"
   },
   {
    "duration": 6,
    "start_time": "2022-09-05T18:43:43.856Z"
   },
   {
    "duration": 157,
    "start_time": "2022-09-05T18:43:44.601Z"
   },
   {
    "duration": 199,
    "start_time": "2022-09-05T18:43:45.120Z"
   },
   {
    "duration": 12,
    "start_time": "2022-09-05T18:43:47.972Z"
   },
   {
    "duration": 3,
    "start_time": "2022-09-05T18:43:55.135Z"
   },
   {
    "duration": 10,
    "start_time": "2022-09-05T18:43:56.006Z"
   },
   {
    "duration": 3,
    "start_time": "2022-09-05T18:43:57.801Z"
   },
   {
    "duration": 10,
    "start_time": "2022-09-05T18:43:59.764Z"
   },
   {
    "duration": 4,
    "start_time": "2022-09-05T18:44:02.657Z"
   },
   {
    "duration": 4,
    "start_time": "2022-09-05T18:44:03.184Z"
   },
   {
    "duration": 3,
    "start_time": "2022-09-05T18:44:07.023Z"
   },
   {
    "duration": 2,
    "start_time": "2022-09-05T18:44:10.658Z"
   },
   {
    "duration": 26,
    "start_time": "2022-09-05T18:44:11.460Z"
   },
   {
    "duration": 18,
    "start_time": "2022-09-05T18:44:12.276Z"
   },
   {
    "duration": 1724,
    "start_time": "2022-09-05T18:44:13.552Z"
   },
   {
    "duration": 4090,
    "start_time": "2022-09-05T18:44:15.657Z"
   }
  ],
  "kernelspec": {
   "display_name": "Python 3 (ipykernel)",
   "language": "python",
   "name": "python3"
  },
  "language_info": {
   "codemirror_mode": {
    "name": "ipython",
    "version": 3
   },
   "file_extension": ".py",
   "mimetype": "text/x-python",
   "name": "python",
   "nbconvert_exporter": "python",
   "pygments_lexer": "ipython3",
   "version": "3.9.5"
  },
  "toc": {
   "base_numbering": 1,
   "nav_menu": {},
   "number_sections": true,
   "sideBar": true,
   "skip_h1_title": true,
   "title_cell": "Содержание",
   "title_sidebar": "Contents",
   "toc_cell": true,
   "toc_position": {},
   "toc_section_display": true,
   "toc_window_display": false
  }
 },
 "nbformat": 4,
 "nbformat_minor": 2
}
