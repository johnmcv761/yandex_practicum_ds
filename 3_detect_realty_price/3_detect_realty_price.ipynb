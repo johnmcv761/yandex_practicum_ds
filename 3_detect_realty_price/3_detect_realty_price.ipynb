{
 "cells": [
  {
   "cell_type": "markdown",
   "metadata": {},
   "source": [
    "# Исследование объявлений о продаже квартир\n",
    "\n",
    "В распоряжении данные сервиса Яндекс.Недвижимость — архив объявлений о продаже квартир в Санкт-Петербурге и соседних населённых пунктов за несколько лет. Научимся определять рыночную стоимость объектов недвижимости. Задача — установить параметры. Это позволит построить автоматизированную систему: она отследит аномалии и мошенническую деятельность. \n",
    "\n",
    "По каждой квартире на продажу доступны два вида данных. Первые вписаны пользователем, вторые — получены автоматически на основе картографических данных. Например, расстояние до центра, аэропорта, ближайшего парка и водоёма. "
   ]
  },
  {
   "cell_type": "markdown",
   "metadata": {},
   "source": [
    "## Данные и общая информация. "
   ]
  },
  {
   "cell_type": "code",
   "execution_count": 1,
   "metadata": {},
   "outputs": [],
   "source": [
    "import pandas as pd\n",
    "import numpy as np\n",
    "from IPython.display import display\n",
    "import datetime\n",
    "import calendar\n",
    "import matplotlib.pyplot as plt "
   ]
  },
  {
   "cell_type": "code",
   "execution_count": 2,
   "metadata": {},
   "outputs": [],
   "source": [
    "df = pd.read_csv('/datasets/real_estate_data.csv', sep ='\\t')"
   ]
  },
  {
   "cell_type": "code",
   "execution_count": 3,
   "metadata": {},
   "outputs": [],
   "source": [
    "pd.set_option('display.max_columns', None)\n",
    "pd.set_option('display.max_rows', None)"
   ]
  },
  {
   "cell_type": "code",
   "execution_count": 4,
   "metadata": {
    "scrolled": true
   },
   "outputs": [
    {
     "data": {
      "text/html": [
       "<div>\n",
       "<style scoped>\n",
       "    .dataframe tbody tr th:only-of-type {\n",
       "        vertical-align: middle;\n",
       "    }\n",
       "\n",
       "    .dataframe tbody tr th {\n",
       "        vertical-align: top;\n",
       "    }\n",
       "\n",
       "    .dataframe thead th {\n",
       "        text-align: right;\n",
       "    }\n",
       "</style>\n",
       "<table border=\"1\" class=\"dataframe\">\n",
       "  <thead>\n",
       "    <tr style=\"text-align: right;\">\n",
       "      <th></th>\n",
       "      <th>total_images</th>\n",
       "      <th>last_price</th>\n",
       "      <th>total_area</th>\n",
       "      <th>first_day_exposition</th>\n",
       "      <th>rooms</th>\n",
       "      <th>ceiling_height</th>\n",
       "      <th>floors_total</th>\n",
       "      <th>living_area</th>\n",
       "      <th>floor</th>\n",
       "      <th>is_apartment</th>\n",
       "      <th>studio</th>\n",
       "      <th>open_plan</th>\n",
       "      <th>kitchen_area</th>\n",
       "      <th>balcony</th>\n",
       "      <th>locality_name</th>\n",
       "      <th>airports_nearest</th>\n",
       "      <th>cityCenters_nearest</th>\n",
       "      <th>parks_around3000</th>\n",
       "      <th>parks_nearest</th>\n",
       "      <th>ponds_around3000</th>\n",
       "      <th>ponds_nearest</th>\n",
       "      <th>days_exposition</th>\n",
       "    </tr>\n",
       "  </thead>\n",
       "  <tbody>\n",
       "    <tr>\n",
       "      <th>0</th>\n",
       "      <td>20</td>\n",
       "      <td>13000000.0</td>\n",
       "      <td>108.0</td>\n",
       "      <td>2019-03-07T00:00:00</td>\n",
       "      <td>3</td>\n",
       "      <td>2.70</td>\n",
       "      <td>16.0</td>\n",
       "      <td>51.0</td>\n",
       "      <td>8</td>\n",
       "      <td>NaN</td>\n",
       "      <td>False</td>\n",
       "      <td>False</td>\n",
       "      <td>25.0</td>\n",
       "      <td>NaN</td>\n",
       "      <td>Санкт-Петербург</td>\n",
       "      <td>18863.0</td>\n",
       "      <td>16028.0</td>\n",
       "      <td>1.0</td>\n",
       "      <td>482.0</td>\n",
       "      <td>2.0</td>\n",
       "      <td>755.0</td>\n",
       "      <td>NaN</td>\n",
       "    </tr>\n",
       "    <tr>\n",
       "      <th>1</th>\n",
       "      <td>7</td>\n",
       "      <td>3350000.0</td>\n",
       "      <td>40.4</td>\n",
       "      <td>2018-12-04T00:00:00</td>\n",
       "      <td>1</td>\n",
       "      <td>NaN</td>\n",
       "      <td>11.0</td>\n",
       "      <td>18.6</td>\n",
       "      <td>1</td>\n",
       "      <td>NaN</td>\n",
       "      <td>False</td>\n",
       "      <td>False</td>\n",
       "      <td>11.0</td>\n",
       "      <td>2.0</td>\n",
       "      <td>посёлок Шушары</td>\n",
       "      <td>12817.0</td>\n",
       "      <td>18603.0</td>\n",
       "      <td>0.0</td>\n",
       "      <td>NaN</td>\n",
       "      <td>0.0</td>\n",
       "      <td>NaN</td>\n",
       "      <td>81.0</td>\n",
       "    </tr>\n",
       "    <tr>\n",
       "      <th>2</th>\n",
       "      <td>10</td>\n",
       "      <td>5196000.0</td>\n",
       "      <td>56.0</td>\n",
       "      <td>2015-08-20T00:00:00</td>\n",
       "      <td>2</td>\n",
       "      <td>NaN</td>\n",
       "      <td>5.0</td>\n",
       "      <td>34.3</td>\n",
       "      <td>4</td>\n",
       "      <td>NaN</td>\n",
       "      <td>False</td>\n",
       "      <td>False</td>\n",
       "      <td>8.3</td>\n",
       "      <td>0.0</td>\n",
       "      <td>Санкт-Петербург</td>\n",
       "      <td>21741.0</td>\n",
       "      <td>13933.0</td>\n",
       "      <td>1.0</td>\n",
       "      <td>90.0</td>\n",
       "      <td>2.0</td>\n",
       "      <td>574.0</td>\n",
       "      <td>558.0</td>\n",
       "    </tr>\n",
       "    <tr>\n",
       "      <th>3</th>\n",
       "      <td>0</td>\n",
       "      <td>64900000.0</td>\n",
       "      <td>159.0</td>\n",
       "      <td>2015-07-24T00:00:00</td>\n",
       "      <td>3</td>\n",
       "      <td>NaN</td>\n",
       "      <td>14.0</td>\n",
       "      <td>NaN</td>\n",
       "      <td>9</td>\n",
       "      <td>NaN</td>\n",
       "      <td>False</td>\n",
       "      <td>False</td>\n",
       "      <td>NaN</td>\n",
       "      <td>0.0</td>\n",
       "      <td>Санкт-Петербург</td>\n",
       "      <td>28098.0</td>\n",
       "      <td>6800.0</td>\n",
       "      <td>2.0</td>\n",
       "      <td>84.0</td>\n",
       "      <td>3.0</td>\n",
       "      <td>234.0</td>\n",
       "      <td>424.0</td>\n",
       "    </tr>\n",
       "    <tr>\n",
       "      <th>4</th>\n",
       "      <td>2</td>\n",
       "      <td>10000000.0</td>\n",
       "      <td>100.0</td>\n",
       "      <td>2018-06-19T00:00:00</td>\n",
       "      <td>2</td>\n",
       "      <td>3.03</td>\n",
       "      <td>14.0</td>\n",
       "      <td>32.0</td>\n",
       "      <td>13</td>\n",
       "      <td>NaN</td>\n",
       "      <td>False</td>\n",
       "      <td>False</td>\n",
       "      <td>41.0</td>\n",
       "      <td>NaN</td>\n",
       "      <td>Санкт-Петербург</td>\n",
       "      <td>31856.0</td>\n",
       "      <td>8098.0</td>\n",
       "      <td>2.0</td>\n",
       "      <td>112.0</td>\n",
       "      <td>1.0</td>\n",
       "      <td>48.0</td>\n",
       "      <td>121.0</td>\n",
       "    </tr>\n",
       "  </tbody>\n",
       "</table>\n",
       "</div>"
      ],
      "text/plain": [
       "   total_images  last_price  total_area first_day_exposition  rooms  \\\n",
       "0            20  13000000.0       108.0  2019-03-07T00:00:00      3   \n",
       "1             7   3350000.0        40.4  2018-12-04T00:00:00      1   \n",
       "2            10   5196000.0        56.0  2015-08-20T00:00:00      2   \n",
       "3             0  64900000.0       159.0  2015-07-24T00:00:00      3   \n",
       "4             2  10000000.0       100.0  2018-06-19T00:00:00      2   \n",
       "\n",
       "   ceiling_height  floors_total  living_area  floor is_apartment  studio  \\\n",
       "0            2.70          16.0         51.0      8          NaN   False   \n",
       "1             NaN          11.0         18.6      1          NaN   False   \n",
       "2             NaN           5.0         34.3      4          NaN   False   \n",
       "3             NaN          14.0          NaN      9          NaN   False   \n",
       "4            3.03          14.0         32.0     13          NaN   False   \n",
       "\n",
       "   open_plan  kitchen_area  balcony    locality_name  airports_nearest  \\\n",
       "0      False          25.0      NaN  Санкт-Петербург           18863.0   \n",
       "1      False          11.0      2.0   посёлок Шушары           12817.0   \n",
       "2      False           8.3      0.0  Санкт-Петербург           21741.0   \n",
       "3      False           NaN      0.0  Санкт-Петербург           28098.0   \n",
       "4      False          41.0      NaN  Санкт-Петербург           31856.0   \n",
       "\n",
       "   cityCenters_nearest  parks_around3000  parks_nearest  ponds_around3000  \\\n",
       "0              16028.0               1.0          482.0               2.0   \n",
       "1              18603.0               0.0            NaN               0.0   \n",
       "2              13933.0               1.0           90.0               2.0   \n",
       "3               6800.0               2.0           84.0               3.0   \n",
       "4               8098.0               2.0          112.0               1.0   \n",
       "\n",
       "   ponds_nearest  days_exposition  \n",
       "0          755.0              NaN  \n",
       "1            NaN             81.0  \n",
       "2          574.0            558.0  \n",
       "3          234.0            424.0  \n",
       "4           48.0            121.0  "
      ]
     },
     "execution_count": 4,
     "metadata": {},
     "output_type": "execute_result"
    }
   ],
   "source": [
    "df.head()"
   ]
  },
  {
   "cell_type": "markdown",
   "metadata": {},
   "source": [
    "### Общая информация о данных"
   ]
  },
  {
   "cell_type": "code",
   "execution_count": 5,
   "metadata": {},
   "outputs": [
    {
     "name": "stdout",
     "output_type": "stream",
     "text": [
      "<class 'pandas.core.frame.DataFrame'>\n",
      "RangeIndex: 23699 entries, 0 to 23698\n",
      "Data columns (total 22 columns):\n",
      " #   Column                Non-Null Count  Dtype  \n",
      "---  ------                --------------  -----  \n",
      " 0   total_images          23699 non-null  int64  \n",
      " 1   last_price            23699 non-null  float64\n",
      " 2   total_area            23699 non-null  float64\n",
      " 3   first_day_exposition  23699 non-null  object \n",
      " 4   rooms                 23699 non-null  int64  \n",
      " 5   ceiling_height        14504 non-null  float64\n",
      " 6   floors_total          23613 non-null  float64\n",
      " 7   living_area           21796 non-null  float64\n",
      " 8   floor                 23699 non-null  int64  \n",
      " 9   is_apartment          2775 non-null   object \n",
      " 10  studio                23699 non-null  bool   \n",
      " 11  open_plan             23699 non-null  bool   \n",
      " 12  kitchen_area          21421 non-null  float64\n",
      " 13  balcony               12180 non-null  float64\n",
      " 14  locality_name         23650 non-null  object \n",
      " 15  airports_nearest      18157 non-null  float64\n",
      " 16  cityCenters_nearest   18180 non-null  float64\n",
      " 17  parks_around3000      18181 non-null  float64\n",
      " 18  parks_nearest         8079 non-null   float64\n",
      " 19  ponds_around3000      18181 non-null  float64\n",
      " 20  ponds_nearest         9110 non-null   float64\n",
      " 21  days_exposition       20518 non-null  float64\n",
      "dtypes: bool(2), float64(14), int64(3), object(3)\n",
      "memory usage: 3.7+ MB\n"
     ]
    }
   ],
   "source": [
    "df.info()"
   ]
  },
  {
   "cell_type": "markdown",
   "metadata": {},
   "source": [
    "### Пропуски типа Nan в столбцах в процентах"
   ]
  },
  {
   "cell_type": "markdown",
   "metadata": {},
   "source": [
    "<div class=\"alert alert-block alert-info\" style=\"border-radius: 15px\">\n",
    "доля пропусков типа NaN\n",
    "</div>"
   ]
  },
  {
   "cell_type": "code",
   "execution_count": 6,
   "metadata": {},
   "outputs": [
    {
     "data": {
      "text/html": [
       "<div>\n",
       "<style scoped>\n",
       "    .dataframe tbody tr th:only-of-type {\n",
       "        vertical-align: middle;\n",
       "    }\n",
       "\n",
       "    .dataframe tbody tr th {\n",
       "        vertical-align: top;\n",
       "    }\n",
       "\n",
       "    .dataframe thead th {\n",
       "        text-align: right;\n",
       "    }\n",
       "</style>\n",
       "<table border=\"1\" class=\"dataframe\">\n",
       "  <thead>\n",
       "    <tr style=\"text-align: right;\">\n",
       "      <th></th>\n",
       "      <th>NaN</th>\n",
       "      <th>NaN_%</th>\n",
       "    </tr>\n",
       "  </thead>\n",
       "  <tbody>\n",
       "    <tr>\n",
       "      <th>ceiling_height</th>\n",
       "      <td>9195</td>\n",
       "      <td>38.80</td>\n",
       "    </tr>\n",
       "    <tr>\n",
       "      <th>floors_total</th>\n",
       "      <td>86</td>\n",
       "      <td>0.36</td>\n",
       "    </tr>\n",
       "    <tr>\n",
       "      <th>living_area</th>\n",
       "      <td>1903</td>\n",
       "      <td>8.03</td>\n",
       "    </tr>\n",
       "    <tr>\n",
       "      <th>is_apartment</th>\n",
       "      <td>20924</td>\n",
       "      <td>88.29</td>\n",
       "    </tr>\n",
       "    <tr>\n",
       "      <th>kitchen_area</th>\n",
       "      <td>2278</td>\n",
       "      <td>9.61</td>\n",
       "    </tr>\n",
       "    <tr>\n",
       "      <th>balcony</th>\n",
       "      <td>11519</td>\n",
       "      <td>48.61</td>\n",
       "    </tr>\n",
       "    <tr>\n",
       "      <th>locality_name</th>\n",
       "      <td>49</td>\n",
       "      <td>0.21</td>\n",
       "    </tr>\n",
       "    <tr>\n",
       "      <th>airports_nearest</th>\n",
       "      <td>5542</td>\n",
       "      <td>23.38</td>\n",
       "    </tr>\n",
       "    <tr>\n",
       "      <th>cityCenters_nearest</th>\n",
       "      <td>5519</td>\n",
       "      <td>23.29</td>\n",
       "    </tr>\n",
       "    <tr>\n",
       "      <th>parks_around3000</th>\n",
       "      <td>5518</td>\n",
       "      <td>23.28</td>\n",
       "    </tr>\n",
       "    <tr>\n",
       "      <th>parks_nearest</th>\n",
       "      <td>15620</td>\n",
       "      <td>65.91</td>\n",
       "    </tr>\n",
       "    <tr>\n",
       "      <th>ponds_around3000</th>\n",
       "      <td>5518</td>\n",
       "      <td>23.28</td>\n",
       "    </tr>\n",
       "    <tr>\n",
       "      <th>ponds_nearest</th>\n",
       "      <td>14589</td>\n",
       "      <td>61.56</td>\n",
       "    </tr>\n",
       "    <tr>\n",
       "      <th>days_exposition</th>\n",
       "      <td>3181</td>\n",
       "      <td>13.42</td>\n",
       "    </tr>\n",
       "  </tbody>\n",
       "</table>\n",
       "</div>"
      ],
      "text/plain": [
       "                       NaN  NaN_%\n",
       "ceiling_height        9195  38.80\n",
       "floors_total            86   0.36\n",
       "living_area           1903   8.03\n",
       "is_apartment         20924  88.29\n",
       "kitchen_area          2278   9.61\n",
       "balcony              11519  48.61\n",
       "locality_name           49   0.21\n",
       "airports_nearest      5542  23.38\n",
       "cityCenters_nearest   5519  23.29\n",
       "parks_around3000      5518  23.28\n",
       "parks_nearest        15620  65.91\n",
       "ponds_around3000      5518  23.28\n",
       "ponds_nearest        14589  61.56\n",
       "days_exposition       3181  13.42"
      ]
     },
     "execution_count": 6,
     "metadata": {},
     "output_type": "execute_result"
    }
   ],
   "source": [
    "df_NaN_part = pd.DataFrame(data = df.isna().sum(), columns = ['NaN'])\n",
    "df_NaN_part['NaN_%'] = round(df.isna().sum() / len(df) * 100, 2)\n",
    "df_NaN_part = df_NaN_part.query('NaN != 0')\n",
    "df_NaN_part"
   ]
  },
  {
   "cell_type": "markdown",
   "metadata": {},
   "source": [
    "### Вывод"
   ]
  },
  {
   "cell_type": "markdown",
   "metadata": {},
   "source": [
    "данные содержат:\n",
    "\n",
    "1.\t23699 записей \n",
    "\n",
    "\n",
    "2.\t22 столбца (параметра квартиры), \n",
    "\n",
    "    столбец **cityCenters_nearest** нужно перевести в нижний регистр\n",
    "    \n",
    "\n",
    "3.\tданные содержат целые и вещественные числа, данные типа строка, возможно в верхем и нижнем регистре, логические данные\n",
    "\n",
    "\n",
    "4.\tпропуски типа Nan в столбцах - количество и доля в %:\n",
    "\n",
    "\n",
    "    ceiling_height\t9195\t38.80\n",
    "    \n",
    "    floors_total\t86\t0.36\n",
    "    \n",
    "    living_area\t1903\t8.03\n",
    "    \n",
    "    is_apartment\t20924\t88.29\n",
    "    \n",
    "    kitchen_area\t2278\t9.61\n",
    "    \n",
    "    balcony\t11519\t48.61\n",
    "    \n",
    "    locality_name\t49\t0.21\n",
    "    \n",
    "    airports_nearest\t5542\t23.38\n",
    "    \n",
    "    cityCenters_nearest\t5519\t23.29\n",
    "    \n",
    "    parks_around3000\t5518\t23.28\n",
    "    \n",
    "    parks_nearest\t15620\t65.91\n",
    "    \n",
    "    ponds_around3000\t5518\t23.28\n",
    "    \n",
    "    ponds_nearest\t14589\t61.56\n",
    "    \n",
    "    days_exposition\t3181\t13.42\n",
    "\n",
    "5.\tкатегориальные и количественные данные\n",
    "\n",
    "\n",
    "6.\tвозможны дубликаты: полные и частичные"
   ]
  },
  {
   "cell_type": "markdown",
   "metadata": {},
   "source": [
    "## Предобработка данных"
   ]
  },
  {
   "cell_type": "markdown",
   "metadata": {},
   "source": [
    "Для заполнения пропусков **living_area**, **kitchen_area** применим нормирование\n",
    "\n",
    "вычислим коэффициенты там где имеем полные данные\n",
    "\n",
    "медиана отношения **living_area** к **total_area**\n",
    "\n",
    "медиана отношения **kitchen_area** к **total_area**\n",
    "\n",
    "заполним пропуски произведением на соответствующую медиану"
   ]
  },
  {
   "cell_type": "code",
   "execution_count": 7,
   "metadata": {},
   "outputs": [],
   "source": [
    "df.living_area = df.living_area.fillna((df.living_area / df.total_area).median() * df.total_area).astype(int) "
   ]
  },
  {
   "cell_type": "code",
   "execution_count": 8,
   "metadata": {},
   "outputs": [],
   "source": [
    "df.kitchen_area = df.kitchen_area.fillna((df.kitchen_area / df.total_area).median() * df.total_area).astype(int) "
   ]
  },
  {
   "cell_type": "markdown",
   "metadata": {},
   "source": [
    "в столбце **balcony** заменяем 11519 пропуcов NaN на значение количества балконов - 0, вероятней всего, наличие балкона не указали по причине его отсутствия"
   ]
  },
  {
   "cell_type": "code",
   "execution_count": 9,
   "metadata": {},
   "outputs": [],
   "source": [
    "df.balcony = df.balcony.fillna(0) "
   ]
  },
  {
   "cell_type": "markdown",
   "metadata": {},
   "source": [
    "в столбце **is_apartment** заменяем 20924 пропуcов NaN на значение False, т.е. - жилое помещение"
   ]
  },
  {
   "cell_type": "code",
   "execution_count": 10,
   "metadata": {},
   "outputs": [
    {
     "data": {
      "text/plain": [
       "0.21097936621798388"
      ]
     },
     "execution_count": 10,
     "metadata": {},
     "output_type": "execute_result"
    }
   ],
   "source": [
    "df.query('is_apartment == True')['is_apartment'].sum() / len(df) * 100"
   ]
  },
  {
   "cell_type": "code",
   "execution_count": 11,
   "metadata": {},
   "outputs": [],
   "source": [
    "df.is_apartment = df.is_apartment.fillna(value='False')"
   ]
  },
  {
   "cell_type": "markdown",
   "metadata": {},
   "source": [
    "пропуски столбца **ceiling_height** заменяем на медианы"
   ]
  },
  {
   "cell_type": "code",
   "execution_count": 12,
   "metadata": {},
   "outputs": [],
   "source": [
    "df.ceiling_height = df.ceiling_height.fillna(df.ceiling_height.median())"
   ]
  },
  {
   "cell_type": "markdown",
   "metadata": {},
   "source": [
    "изменим тип данных строка столбца **first_day_exposition** на объект datetime"
   ]
  },
  {
   "cell_type": "code",
   "execution_count": 13,
   "metadata": {},
   "outputs": [],
   "source": [
    "df.first_day_exposition = pd.to_datetime(df.first_day_exposition, format='%Y-%m-%dT%H:%M:%S')"
   ]
  },
  {
   "cell_type": "markdown",
   "metadata": {},
   "source": [
    "столбец **cityCenters_nearest** переводим в нижний регистр"
   ]
  },
  {
   "cell_type": "code",
   "execution_count": 14,
   "metadata": {},
   "outputs": [],
   "source": [
    "df = df.rename(columns={'cityCenters_nearest': 'city_centers_nearest'})"
   ]
  },
  {
   "cell_type": "markdown",
   "metadata": {},
   "source": [
    "изменим вещественный тип данных столбца **last_price**, **balcony** на целочисленный для лучшего восприятия"
   ]
  },
  {
   "cell_type": "code",
   "execution_count": 15,
   "metadata": {},
   "outputs": [],
   "source": [
    "df[['last_price', 'balcony']] = df[['last_price', 'balcony']].astype(int) "
   ]
  },
  {
   "cell_type": "markdown",
   "metadata": {},
   "source": [
    "### Дополнительные признаки"
   ]
  },
  {
   "cell_type": "markdown",
   "metadata": {},
   "source": [
    "добавим столбец: цена квадратного метра **price_meter**\n",
    "\n",
    "отношение **last_price** к **total_area**"
   ]
  },
  {
   "cell_type": "code",
   "execution_count": 16,
   "metadata": {},
   "outputs": [],
   "source": [
    "df['price_meter'] = (df.last_price / df.total_area).astype(int)"
   ]
  },
  {
   "cell_type": "markdown",
   "metadata": {},
   "source": [
    "добавим столбцы: день недели, месяц и год публикации объявления"
   ]
  },
  {
   "cell_type": "code",
   "execution_count": 17,
   "metadata": {},
   "outputs": [],
   "source": [
    "df['weekday_exposition'] = df.first_day_exposition.dt.weekday"
   ]
  },
  {
   "cell_type": "code",
   "execution_count": 18,
   "metadata": {},
   "outputs": [],
   "source": [
    "def weekday_func(weekday):\n",
    "    if weekday == 0:\n",
    "        return 'понедельник' \n",
    "    if weekday == 1:\n",
    "        return 'вторник'\n",
    "    if weekday == 2:\n",
    "        return 'среда'\n",
    "    if weekday == 3:\n",
    "        return 'четверг'\n",
    "    if weekday == 4:\n",
    "        return 'пятница'\n",
    "    if weekday == 5:\n",
    "        return 'суббота'\n",
    "    if weekday == 6:\n",
    "        return 'воскресенье'\n",
    "\n",
    "df['weekday_exposition_name'] = df.weekday_exposition.apply(weekday_func) "
   ]
  },
  {
   "cell_type": "code",
   "execution_count": 19,
   "metadata": {},
   "outputs": [],
   "source": [
    "df['year_exposition'] = df.first_day_exposition.dt.year"
   ]
  },
  {
   "cell_type": "code",
   "execution_count": 20,
   "metadata": {},
   "outputs": [],
   "source": [
    "df['month_exposition'] = df.first_day_exposition.dt.month"
   ]
  },
  {
   "cell_type": "markdown",
   "metadata": {},
   "source": [
    "добавим столбцы: этаж квартиры; варианты — первый, последний, другой"
   ]
  },
  {
   "cell_type": "code",
   "execution_count": 36,
   "metadata": {},
   "outputs": [],
   "source": [
    "def floor_func(df):\n",
    "    if df.floor == 1:\n",
    "        return 'первый' \n",
    "    if df.floor == df.floors_total:\n",
    "        return 'последний'\n",
    "    return 'другой'  "
   ]
  },
  {
   "cell_type": "code",
   "execution_count": 37,
   "metadata": {},
   "outputs": [],
   "source": [
    "df['floor_rank'] = df.apply(floor_func, axis=1)"
   ]
  },
  {
   "cell_type": "markdown",
   "metadata": {},
   "source": [
    "Выборка демонстрирует \"ассортимент\" этажей"
   ]
  },
  {
   "cell_type": "code",
   "execution_count": 38,
   "metadata": {},
   "outputs": [
    {
     "data": {
      "text/html": [
       "<div>\n",
       "<style scoped>\n",
       "    .dataframe tbody tr th:only-of-type {\n",
       "        vertical-align: middle;\n",
       "    }\n",
       "\n",
       "    .dataframe tbody tr th {\n",
       "        vertical-align: top;\n",
       "    }\n",
       "\n",
       "    .dataframe thead th {\n",
       "        text-align: right;\n",
       "    }\n",
       "</style>\n",
       "<table border=\"1\" class=\"dataframe\">\n",
       "  <thead>\n",
       "    <tr style=\"text-align: right;\">\n",
       "      <th></th>\n",
       "      <th>floor</th>\n",
       "      <th>floors_total</th>\n",
       "      <th>floor_rank</th>\n",
       "    </tr>\n",
       "  </thead>\n",
       "  <tbody>\n",
       "    <tr>\n",
       "      <th>10</th>\n",
       "      <td>3</td>\n",
       "      <td>12.0</td>\n",
       "      <td>другой</td>\n",
       "    </tr>\n",
       "    <tr>\n",
       "      <th>11</th>\n",
       "      <td>4</td>\n",
       "      <td>5.0</td>\n",
       "      <td>другой</td>\n",
       "    </tr>\n",
       "    <tr>\n",
       "      <th>12</th>\n",
       "      <td>5</td>\n",
       "      <td>5.0</td>\n",
       "      <td>последний</td>\n",
       "    </tr>\n",
       "    <tr>\n",
       "      <th>13</th>\n",
       "      <td>5</td>\n",
       "      <td>5.0</td>\n",
       "      <td>последний</td>\n",
       "    </tr>\n",
       "    <tr>\n",
       "      <th>14</th>\n",
       "      <td>1</td>\n",
       "      <td>6.0</td>\n",
       "      <td>первый</td>\n",
       "    </tr>\n",
       "    <tr>\n",
       "      <th>15</th>\n",
       "      <td>5</td>\n",
       "      <td>14.0</td>\n",
       "      <td>другой</td>\n",
       "    </tr>\n",
       "  </tbody>\n",
       "</table>\n",
       "</div>"
      ],
      "text/plain": [
       "    floor  floors_total floor_rank\n",
       "10      3          12.0     другой\n",
       "11      4           5.0     другой\n",
       "12      5           5.0  последний\n",
       "13      5           5.0  последний\n",
       "14      1           6.0     первый\n",
       "15      5          14.0     другой"
      ]
     },
     "execution_count": 38,
     "metadata": {},
     "output_type": "execute_result"
    }
   ],
   "source": [
    "df.loc[10:15, ['floor', 'floors_total', 'floor_rank']]"
   ]
  },
  {
   "cell_type": "markdown",
   "metadata": {},
   "source": [
    "добавим столбцы: соотношение жилой и общей площади, а также отношение площади кухни к общей."
   ]
  },
  {
   "cell_type": "code",
   "execution_count": 39,
   "metadata": {},
   "outputs": [],
   "source": [
    "df['living_total_area'] = round(df.living_area / df.total_area, 1)"
   ]
  },
  {
   "cell_type": "code",
   "execution_count": 40,
   "metadata": {},
   "outputs": [],
   "source": [
    "df['kitchen_total_area'] = round(df.kitchen_area / df.total_area, 1)"
   ]
  },
  {
   "cell_type": "markdown",
   "metadata": {},
   "source": [
    "### Шаг 5. Проведите исследовательский анализ данных и выполните инструкции:"
   ]
  },
  {
   "cell_type": "markdown",
   "metadata": {},
   "source": [
    "#### Анализ столбца **last_price** с учетом **price_meter**"
   ]
  },
  {
   "cell_type": "code",
   "execution_count": 41,
   "metadata": {},
   "outputs": [
    {
     "data": {
      "text/plain": [
       "count        23699\n",
       "mean       6541548\n",
       "std       10887013\n",
       "min          12190\n",
       "25%        3400000\n",
       "50%        4650000\n",
       "75%        6800000\n",
       "max      763000000\n",
       "Name: last_price, dtype: int64"
      ]
     },
     "execution_count": 41,
     "metadata": {},
     "output_type": "execute_result"
    }
   ],
   "source": [
    "df.last_price.describe().astype(int)"
   ]
  },
  {
   "cell_type": "code",
   "execution_count": 42,
   "metadata": {},
   "outputs": [
    {
     "data": {
      "text/plain": [
       "<AxesSubplot:>"
      ]
     },
     "execution_count": 42,
     "metadata": {},
     "output_type": "execute_result"
    },
    {
     "data": {
      "image/png": "[encoded data removed]",
      "text/plain": [
       "<Figure size 864x288 with 1 Axes>"
      ]
     },
     "metadata": {
      "needs_background": "light"
     },
     "output_type": "display_data"
    }
   ],
   "source": [
    "df.last_price.hist(bins = 40, range = (20000000, 763000000), figsize = (12, 4))"
   ]
  },
  {
   "cell_type": "code",
   "execution_count": 43,
   "metadata": {},
   "outputs": [
    {
     "data": {
      "text/plain": [
       "(0.0, 13000000.0)"
      ]
     },
     "execution_count": 43,
     "metadata": {},
     "output_type": "execute_result"
    },
    {
     "data": {
      "image/png": "[encoded data removed]",
      "text/plain": [
       "<Figure size 432x288 with 1 Axes>"
      ]
     },
     "metadata": {
      "needs_background": "light"
     },
     "output_type": "display_data"
    }
   ],
   "source": [
    "df.boxplot('last_price') \n",
    "plt.ylim(0, 13000000)"
   ]
  },
  {
   "cell_type": "markdown",
   "metadata": {},
   "source": [
    "<div class=\"alert alert-block alert-info\" style=\"border-radius: 15px\">\n",
    "указанная стоимость квартиры 12190 - таких цен не бывает, это ошибка, удаляем\n",
    "</div>"
   ]
  },
  {
   "cell_type": "code",
   "execution_count": 44,
   "metadata": {},
   "outputs": [],
   "source": [
    "df = df.query('last_price > 400000')"
   ]
  },
  {
   "cell_type": "markdown",
   "metadata": {},
   "source": [
    "<div class=\"alert alert-block alert-info\" style=\"border-radius: 15px\">\n",
    "Нижний ус составляет - 470 тыс., верхний - 10.750 млн. много значений за пределами усов\n",
    "</div>"
   ]
  },
  {
   "cell_type": "code",
   "execution_count": 448,
   "metadata": {},
   "outputs": [
    {
     "data": {
      "text/html": [
       "<div>\n",
       "<style scoped>\n",
       "    .dataframe tbody tr th:only-of-type {\n",
       "        vertical-align: middle;\n",
       "    }\n",
       "\n",
       "    .dataframe tbody tr th {\n",
       "        vertical-align: top;\n",
       "    }\n",
       "\n",
       "    .dataframe thead th {\n",
       "        text-align: right;\n",
       "    }\n",
       "</style>\n",
       "<table border=\"1\" class=\"dataframe\">\n",
       "  <thead>\n",
       "    <tr style=\"text-align: right;\">\n",
       "      <th></th>\n",
       "      <th>ceiling_height</th>\n",
       "      <th>days_exposition</th>\n",
       "      <th>price_meter</th>\n",
       "      <th>rooms</th>\n",
       "      <th>total_area</th>\n",
       "    </tr>\n",
       "    <tr>\n",
       "      <th>last_price</th>\n",
       "      <th></th>\n",
       "      <th></th>\n",
       "      <th></th>\n",
       "      <th></th>\n",
       "      <th></th>\n",
       "    </tr>\n",
       "  </thead>\n",
       "  <tbody>\n",
       "    <tr>\n",
       "      <td>230000000</td>\n",
       "      <td>3.0</td>\n",
       "      <td>50.0</td>\n",
       "      <td>460000</td>\n",
       "      <td>6</td>\n",
       "      <td>500.0</td>\n",
       "    </tr>\n",
       "    <tr>\n",
       "      <td>240000000</td>\n",
       "      <td>3.0</td>\n",
       "      <td>199.0</td>\n",
       "      <td>585365</td>\n",
       "      <td>6</td>\n",
       "      <td>410.0</td>\n",
       "    </tr>\n",
       "    <tr>\n",
       "      <td>245000000</td>\n",
       "      <td>3.0</td>\n",
       "      <td>249.0</td>\n",
       "      <td>857542</td>\n",
       "      <td>6</td>\n",
       "      <td>286.0</td>\n",
       "    </tr>\n",
       "    <tr>\n",
       "      <td>289238400</td>\n",
       "      <td>3.0</td>\n",
       "      <td>NaN</td>\n",
       "      <td>1542604</td>\n",
       "      <td>2</td>\n",
       "      <td>188.0</td>\n",
       "    </tr>\n",
       "    <tr>\n",
       "      <td>300000000</td>\n",
       "      <td>3.0</td>\n",
       "      <td>111.0</td>\n",
       "      <td>485436</td>\n",
       "      <td>7</td>\n",
       "      <td>618.0</td>\n",
       "    </tr>\n",
       "    <tr>\n",
       "      <td>330000000</td>\n",
       "      <td>4.0</td>\n",
       "      <td>233.0</td>\n",
       "      <td>1736842</td>\n",
       "      <td>3</td>\n",
       "      <td>190.0</td>\n",
       "    </tr>\n",
       "    <tr>\n",
       "      <td>401300000</td>\n",
       "      <td>3.0</td>\n",
       "      <td>393.0</td>\n",
       "      <td>1000748</td>\n",
       "      <td>5</td>\n",
       "      <td>401.0</td>\n",
       "    </tr>\n",
       "    <tr>\n",
       "      <td>420000000</td>\n",
       "      <td>3.0</td>\n",
       "      <td>106.0</td>\n",
       "      <td>466666</td>\n",
       "      <td>12</td>\n",
       "      <td>900.0</td>\n",
       "    </tr>\n",
       "    <tr>\n",
       "      <td>763000000</td>\n",
       "      <td>3.0</td>\n",
       "      <td>33.0</td>\n",
       "      <td>1907500</td>\n",
       "      <td>7</td>\n",
       "      <td>400.0</td>\n",
       "    </tr>\n",
       "  </tbody>\n",
       "</table>\n",
       "</div>"
      ],
      "text/plain": [
       "            ceiling_height  days_exposition  price_meter  rooms  total_area\n",
       "last_price                                                                 \n",
       "230000000              3.0             50.0       460000      6       500.0\n",
       "240000000              3.0            199.0       585365      6       410.0\n",
       "245000000              3.0            249.0       857542      6       286.0\n",
       "289238400              3.0              NaN      1542604      2       188.0\n",
       "300000000              3.0            111.0       485436      7       618.0\n",
       "330000000              4.0            233.0      1736842      3       190.0\n",
       "401300000              3.0            393.0      1000748      5       401.0\n",
       "420000000              3.0            106.0       466666     12       900.0\n",
       "763000000              3.0             33.0      1907500      7       400.0"
      ]
     },
     "execution_count": 448,
     "metadata": {},
     "output_type": "execute_result"
    }
   ],
   "source": [
    "round(df.query('last_price > 200000000 & price_meter > 100000').pivot_table(index = 'last_price', values = [\n",
    "    'price_meter', 'total_area', 'rooms', 'ceiling_height', 'locality_name', \n",
    "    'days_exposition']))"
   ]
  },
  {
   "cell_type": "markdown",
   "metadata": {},
   "source": [
    "<div class=\"alert alert-block alert-info\" style=\"border-radius: 15px\">\n",
    "\n",
    "**2** \n",
    "    \n",
    "Удаляем выбросы, которые искажают картину и смещают распределение вправо:\n",
    "    \n",
    "Аномально дорогие квартиры с ценой кв. метра более 1 млн.\n",
    "    \n",
    "Жилье площадью 900 кв. м и 12 комнатами\n",
    "    \n",
    "</div>\n"
   ]
  },
  {
   "cell_type": "code",
   "execution_count": 449,
   "metadata": {},
   "outputs": [],
   "source": [
    "df = df.query('price_meter < 1000000 & total_area < 900 & rooms < 10')"
   ]
  },
  {
   "cell_type": "markdown",
   "metadata": {},
   "source": [
    "<div class=\"alert alert-block alert-info\" style=\"border-radius: 15px\">\n",
    "\n",
    "**3** \n",
    "    \n",
    "Эту квартиру я упустил.\n",
    "    \n",
    "В df ТОР 5 квартира не выглядит выбросом, но boxplot это наглядно демонстрирует\n",
    "    \n",
    "Для того, чтобы эту точку оставить не хватает небольшой группы - такая группа заканчивается на значении 245000000 Точка выглядит как выброс, который может исказить \"вправо\" общую картину - удаляем выброс\n",
    "    \n",
    "</div>"
   ]
  },
  {
   "cell_type": "code",
   "execution_count": 451,
   "metadata": {},
   "outputs": [
    {
     "data": {
      "text/plain": [
       "(100000000, 400000000)"
      ]
     },
     "execution_count": 451,
     "metadata": {},
     "output_type": "execute_result"
    },
    {
     "data": {
      "image/png": "[encoded data removed]",
      "text/plain": [
       "<Figure size 432x288 with 1 Axes>"
      ]
     },
     "metadata": {
      "needs_background": "light"
     },
     "output_type": "display_data"
    }
   ],
   "source": [
    "df.boxplot('last_price') \n",
    "plt.ylim(100000000, 400000000)"
   ]
  },
  {
   "cell_type": "code",
   "execution_count": 452,
   "metadata": {},
   "outputs": [
    {
     "data": {
      "text/html": [
       "<div>\n",
       "<style scoped>\n",
       "    .dataframe tbody tr th:only-of-type {\n",
       "        vertical-align: middle;\n",
       "    }\n",
       "\n",
       "    .dataframe tbody tr th {\n",
       "        vertical-align: top;\n",
       "    }\n",
       "\n",
       "    .dataframe thead th {\n",
       "        text-align: right;\n",
       "    }\n",
       "</style>\n",
       "<table border=\"1\" class=\"dataframe\">\n",
       "  <thead>\n",
       "    <tr style=\"text-align: right;\">\n",
       "      <th></th>\n",
       "      <th>total_images</th>\n",
       "      <th>last_price</th>\n",
       "      <th>total_area</th>\n",
       "      <th>first_day_exposition</th>\n",
       "      <th>rooms</th>\n",
       "      <th>ceiling_height</th>\n",
       "      <th>floors_total</th>\n",
       "      <th>living_area</th>\n",
       "      <th>floor</th>\n",
       "      <th>is_apartment</th>\n",
       "      <th>studio</th>\n",
       "      <th>open_plan</th>\n",
       "      <th>kitchen_area</th>\n",
       "      <th>balcony</th>\n",
       "      <th>locality_name</th>\n",
       "      <th>airports_nearest</th>\n",
       "      <th>city_centers_nearest</th>\n",
       "      <th>parks_around3000</th>\n",
       "      <th>parks_nearest</th>\n",
       "      <th>ponds_around3000</th>\n",
       "      <th>ponds_nearest</th>\n",
       "      <th>days_exposition</th>\n",
       "      <th>price_meter</th>\n",
       "      <th>weekday_exposition</th>\n",
       "      <th>weekday_exposition_name</th>\n",
       "      <th>year_exposition</th>\n",
       "      <th>month_exposition</th>\n",
       "      <th>floor_rank</th>\n",
       "      <th>living_total_area</th>\n",
       "      <th>kitchen_total_area</th>\n",
       "    </tr>\n",
       "  </thead>\n",
       "  <tbody>\n",
       "    <tr>\n",
       "      <td>15651</td>\n",
       "      <td>20</td>\n",
       "      <td>300000000</td>\n",
       "      <td>618.0</td>\n",
       "      <td>2017-12-18</td>\n",
       "      <td>7</td>\n",
       "      <td>3.40</td>\n",
       "      <td>7.0</td>\n",
       "      <td>258</td>\n",
       "      <td>5</td>\n",
       "      <td>False</td>\n",
       "      <td>False</td>\n",
       "      <td>False</td>\n",
       "      <td>70</td>\n",
       "      <td>0</td>\n",
       "      <td>Санкт-Петербург</td>\n",
       "      <td>32440.0</td>\n",
       "      <td>5297.0</td>\n",
       "      <td>0.0</td>\n",
       "      <td>NaN</td>\n",
       "      <td>2.0</td>\n",
       "      <td>198.0</td>\n",
       "      <td>111.0</td>\n",
       "      <td>485436</td>\n",
       "      <td>0</td>\n",
       "      <td>понедельник</td>\n",
       "      <td>2017</td>\n",
       "      <td>12</td>\n",
       "      <td>другой</td>\n",
       "      <td>0.4</td>\n",
       "      <td>0.1</td>\n",
       "    </tr>\n",
       "    <tr>\n",
       "      <td>16461</td>\n",
       "      <td>17</td>\n",
       "      <td>245000000</td>\n",
       "      <td>285.7</td>\n",
       "      <td>2017-04-10</td>\n",
       "      <td>6</td>\n",
       "      <td>3.35</td>\n",
       "      <td>7.0</td>\n",
       "      <td>182</td>\n",
       "      <td>4</td>\n",
       "      <td>False</td>\n",
       "      <td>False</td>\n",
       "      <td>False</td>\n",
       "      <td>29</td>\n",
       "      <td>0</td>\n",
       "      <td>Санкт-Петербург</td>\n",
       "      <td>33143.0</td>\n",
       "      <td>6235.0</td>\n",
       "      <td>3.0</td>\n",
       "      <td>400.0</td>\n",
       "      <td>3.0</td>\n",
       "      <td>140.0</td>\n",
       "      <td>249.0</td>\n",
       "      <td>857542</td>\n",
       "      <td>0</td>\n",
       "      <td>понедельник</td>\n",
       "      <td>2017</td>\n",
       "      <td>4</td>\n",
       "      <td>другой</td>\n",
       "      <td>0.6</td>\n",
       "      <td>0.1</td>\n",
       "    </tr>\n",
       "    <tr>\n",
       "      <td>13749</td>\n",
       "      <td>7</td>\n",
       "      <td>240000000</td>\n",
       "      <td>410.0</td>\n",
       "      <td>2017-04-01</td>\n",
       "      <td>6</td>\n",
       "      <td>3.40</td>\n",
       "      <td>7.0</td>\n",
       "      <td>218</td>\n",
       "      <td>7</td>\n",
       "      <td>False</td>\n",
       "      <td>False</td>\n",
       "      <td>False</td>\n",
       "      <td>40</td>\n",
       "      <td>0</td>\n",
       "      <td>Санкт-Петербург</td>\n",
       "      <td>32440.0</td>\n",
       "      <td>5297.0</td>\n",
       "      <td>0.0</td>\n",
       "      <td>NaN</td>\n",
       "      <td>2.0</td>\n",
       "      <td>198.0</td>\n",
       "      <td>199.0</td>\n",
       "      <td>585365</td>\n",
       "      <td>5</td>\n",
       "      <td>суббота</td>\n",
       "      <td>2017</td>\n",
       "      <td>4</td>\n",
       "      <td>последний</td>\n",
       "      <td>0.5</td>\n",
       "      <td>0.1</td>\n",
       "    </tr>\n",
       "    <tr>\n",
       "      <td>5893</td>\n",
       "      <td>3</td>\n",
       "      <td>230000000</td>\n",
       "      <td>500.0</td>\n",
       "      <td>2017-05-31</td>\n",
       "      <td>6</td>\n",
       "      <td>2.65</td>\n",
       "      <td>7.0</td>\n",
       "      <td>283</td>\n",
       "      <td>7</td>\n",
       "      <td>False</td>\n",
       "      <td>False</td>\n",
       "      <td>False</td>\n",
       "      <td>40</td>\n",
       "      <td>0</td>\n",
       "      <td>Санкт-Петербург</td>\n",
       "      <td>32440.0</td>\n",
       "      <td>5297.0</td>\n",
       "      <td>0.0</td>\n",
       "      <td>NaN</td>\n",
       "      <td>2.0</td>\n",
       "      <td>198.0</td>\n",
       "      <td>50.0</td>\n",
       "      <td>460000</td>\n",
       "      <td>2</td>\n",
       "      <td>среда</td>\n",
       "      <td>2017</td>\n",
       "      <td>5</td>\n",
       "      <td>последний</td>\n",
       "      <td>0.6</td>\n",
       "      <td>0.1</td>\n",
       "    </tr>\n",
       "    <tr>\n",
       "      <td>8900</td>\n",
       "      <td>13</td>\n",
       "      <td>190870000</td>\n",
       "      <td>268.0</td>\n",
       "      <td>2016-03-25</td>\n",
       "      <td>3</td>\n",
       "      <td>2.65</td>\n",
       "      <td>8.0</td>\n",
       "      <td>132</td>\n",
       "      <td>7</td>\n",
       "      <td>False</td>\n",
       "      <td>False</td>\n",
       "      <td>False</td>\n",
       "      <td>40</td>\n",
       "      <td>0</td>\n",
       "      <td>Санкт-Петербург</td>\n",
       "      <td>32440.0</td>\n",
       "      <td>5297.0</td>\n",
       "      <td>0.0</td>\n",
       "      <td>NaN</td>\n",
       "      <td>2.0</td>\n",
       "      <td>198.0</td>\n",
       "      <td>901.0</td>\n",
       "      <td>712201</td>\n",
       "      <td>4</td>\n",
       "      <td>пятница</td>\n",
       "      <td>2016</td>\n",
       "      <td>3</td>\n",
       "      <td>другой</td>\n",
       "      <td>0.5</td>\n",
       "      <td>0.1</td>\n",
       "    </tr>\n",
       "  </tbody>\n",
       "</table>\n",
       "</div>"
      ],
      "text/plain": [
       "       total_images  last_price  total_area first_day_exposition  rooms  \\\n",
       "15651            20   300000000       618.0           2017-12-18      7   \n",
       "16461            17   245000000       285.7           2017-04-10      6   \n",
       "13749             7   240000000       410.0           2017-04-01      6   \n",
       "5893              3   230000000       500.0           2017-05-31      6   \n",
       "8900             13   190870000       268.0           2016-03-25      3   \n",
       "\n",
       "       ceiling_height  floors_total  living_area  floor is_apartment  studio  \\\n",
       "15651            3.40           7.0          258      5        False   False   \n",
       "16461            3.35           7.0          182      4        False   False   \n",
       "13749            3.40           7.0          218      7        False   False   \n",
       "5893             2.65           7.0          283      7        False   False   \n",
       "8900             2.65           8.0          132      7        False   False   \n",
       "\n",
       "       open_plan  kitchen_area  balcony    locality_name  airports_nearest  \\\n",
       "15651      False            70        0  Санкт-Петербург           32440.0   \n",
       "16461      False            29        0  Санкт-Петербург           33143.0   \n",
       "13749      False            40        0  Санкт-Петербург           32440.0   \n",
       "5893       False            40        0  Санкт-Петербург           32440.0   \n",
       "8900       False            40        0  Санкт-Петербург           32440.0   \n",
       "\n",
       "       city_centers_nearest  parks_around3000  parks_nearest  \\\n",
       "15651                5297.0               0.0            NaN   \n",
       "16461                6235.0               3.0          400.0   \n",
       "13749                5297.0               0.0            NaN   \n",
       "5893                 5297.0               0.0            NaN   \n",
       "8900                 5297.0               0.0            NaN   \n",
       "\n",
       "       ponds_around3000  ponds_nearest  days_exposition  price_meter  \\\n",
       "15651               2.0          198.0            111.0       485436   \n",
       "16461               3.0          140.0            249.0       857542   \n",
       "13749               2.0          198.0            199.0       585365   \n",
       "5893                2.0          198.0             50.0       460000   \n",
       "8900                2.0          198.0            901.0       712201   \n",
       "\n",
       "       weekday_exposition weekday_exposition_name  year_exposition  \\\n",
       "15651                   0             понедельник             2017   \n",
       "16461                   0             понедельник             2017   \n",
       "13749                   5                 суббота             2017   \n",
       "5893                    2                   среда             2017   \n",
       "8900                    4                 пятница             2016   \n",
       "\n",
       "       month_exposition floor_rank  living_total_area  kitchen_total_area  \n",
       "15651                12     другой                0.4                 0.1  \n",
       "16461                 4     другой                0.6                 0.1  \n",
       "13749                 4  последний                0.5                 0.1  \n",
       "5893                  5  последний                0.6                 0.1  \n",
       "8900                  3     другой                0.5                 0.1  "
      ]
     },
     "execution_count": 452,
     "metadata": {},
     "output_type": "execute_result"
    }
   ],
   "source": [
    "df.sort_values(by = 'last_price', ascending = False).head()"
   ]
  },
  {
   "cell_type": "code",
   "execution_count": 453,
   "metadata": {},
   "outputs": [],
   "source": [
    "df = df.query('last_price < 250000000')"
   ]
  },
  {
   "cell_type": "code",
   "execution_count": 454,
   "metadata": {},
   "outputs": [
    {
     "data": {
      "text/plain": [
       "<matplotlib.axes._subplots.AxesSubplot at 0x7f23d4e9a610>"
      ]
     },
     "execution_count": 454,
     "metadata": {},
     "output_type": "execute_result"
    },
    {
     "data": {
      "image/png": "[encoded data removed]",
      "text/plain": [
       "<Figure size 864x288 with 1 Axes>"
      ]
     },
     "metadata": {
      "needs_background": "light"
     },
     "output_type": "display_data"
    }
   ],
   "source": [
    "df.price_meter.hist(bins = 20, range = (0,200000), figsize = (12, 4))"
   ]
  },
  {
   "cell_type": "code",
   "execution_count": 455,
   "metadata": {},
   "outputs": [
    {
     "data": {
      "text/plain": [
       "(15000, 200000)"
      ]
     },
     "execution_count": 455,
     "metadata": {},
     "output_type": "execute_result"
    },
    {
     "data": {
      "image/png": "[encoded data removed]",
      "text/plain": [
       "<Figure size 432x288 with 1 Axes>"
      ]
     },
     "metadata": {
      "needs_background": "light"
     },
     "output_type": "display_data"
    }
   ],
   "source": [
    "df.boxplot('price_meter') \n",
    "plt.ylim(15000, 200000)"
   ]
  },
  {
   "cell_type": "markdown",
   "metadata": {},
   "source": [
    "<div class=\"alert alert-block alert-info\" style=\"border-radius: 15px\">\n",
    "Нижний ус составляет - 20140, верхний - 170650, много значений за пределами усов\n",
    "</div>"
   ]
  },
  {
   "cell_type": "markdown",
   "metadata": {},
   "source": [
    "<div class=\"alert alert-block alert-info\" style=\"border-radius: 15px\">\n",
    "Наибольшее число квартир имеют цены в диапазоне от 3 до 6 млн\n",
    "\n",
    "это объясняется бОльшим количеством стандартных \"средних\" вариантов и более высоким спросом на них\n",
    "    \n",
    "Типичные цены на квартиры - это цены с распространенным значением при условии распространенной цены за кв. метр.\n",
    "</div>"
   ]
  },
  {
   "cell_type": "code",
   "execution_count": 456,
   "metadata": {},
   "outputs": [
    {
     "data": {
      "text/plain": [
       "<matplotlib.axes._subplots.AxesSubplot at 0x7f23d57c2310>"
      ]
     },
     "execution_count": 456,
     "metadata": {},
     "output_type": "execute_result"
    },
    {
     "data": {
      "image/png": "[encoded data removed]",
      "text/plain": [
       "<Figure size 864x288 with 1 Axes>"
      ]
     },
     "metadata": {
      "needs_background": "light"
     },
     "output_type": "display_data"
    }
   ],
   "source": [
    "df.query('20100 < price_meter < 170730').last_price.hist(bins = 20, range = (0,10000000), figsize = (12, 4))"
   ]
  },
  {
   "cell_type": "markdown",
   "metadata": {},
   "source": [
    "#### Анализ столбца **total_area**"
   ]
  },
  {
   "cell_type": "code",
   "execution_count": 457,
   "metadata": {},
   "outputs": [
    {
     "data": {
      "text/plain": [
       "count    23682\n",
       "mean        60\n",
       "std         34\n",
       "min         12\n",
       "25%         40\n",
       "50%         52\n",
       "75%         69\n",
       "max        631\n",
       "Name: total_area, dtype: int64"
      ]
     },
     "execution_count": 457,
     "metadata": {},
     "output_type": "execute_result"
    }
   ],
   "source": [
    "df.total_area.describe().astype(int)"
   ]
  },
  {
   "cell_type": "code",
   "execution_count": 458,
   "metadata": {},
   "outputs": [
    {
     "data": {
      "text/plain": [
       "<matplotlib.axes._subplots.AxesSubplot at 0x7f23d57d9790>"
      ]
     },
     "execution_count": 458,
     "metadata": {},
     "output_type": "execute_result"
    },
    {
     "data": {
      "image/png": "[encoded data removed]",
      "text/plain": [
       "<Figure size 864x288 with 1 Axes>"
      ]
     },
     "metadata": {
      "needs_background": "light"
     },
     "output_type": "display_data"
    }
   ],
   "source": [
    "df['total_area'].hist(bins = 40, range = (0, 300), figsize = (12, 4))"
   ]
  },
  {
   "cell_type": "code",
   "execution_count": 459,
   "metadata": {},
   "outputs": [
    {
     "data": {
      "text/plain": [
       "(0, 150)"
      ]
     },
     "execution_count": 459,
     "metadata": {},
     "output_type": "execute_result"
    },
    {
     "data": {
      "image/png": "[encoded data removed]",
      "text/plain": [
       "<Figure size 432x288 with 1 Axes>"
      ]
     },
     "metadata": {
      "needs_background": "light"
     },
     "output_type": "display_data"
    }
   ],
   "source": [
    "df.boxplot('total_area') \n",
    "plt.ylim(0, 150)"
   ]
  },
  {
   "cell_type": "markdown",
   "metadata": {},
   "source": [
    "<div class=\"alert alert-block alert-info\" style=\"border-radius: 15px\">\n",
    "Нижний ус составляет - 12 кв.м., верхний - 114 кв.м., много значений за пределами усов\n",
    "</div>"
   ]
  },
  {
   "cell_type": "markdown",
   "metadata": {},
   "source": [
    "Количество квартир с площадью от 30 до 50 кв.м. более востребованы из-за доступной цены и высокой ликвидности"
   ]
  },
  {
   "cell_type": "markdown",
   "metadata": {},
   "source": [
    "<div class=\"alert alert-block alert-info\" style=\"border-radius: 15px\">\n",
    "    \n",
    "**2** \n",
    "    \n",
    "Удаляем выбросы, которые искажают картину и смещают распределение влево жилье площадью меньше 15 кв. м. \n",
    "</div>"
   ]
  },
  {
   "cell_type": "code",
   "execution_count": 460,
   "metadata": {},
   "outputs": [
    {
     "data": {
      "text/html": [
       "<div>\n",
       "<style scoped>\n",
       "    .dataframe tbody tr th:only-of-type {\n",
       "        vertical-align: middle;\n",
       "    }\n",
       "\n",
       "    .dataframe tbody tr th {\n",
       "        vertical-align: top;\n",
       "    }\n",
       "\n",
       "    .dataframe thead th {\n",
       "        text-align: right;\n",
       "    }\n",
       "</style>\n",
       "<table border=\"1\" class=\"dataframe\">\n",
       "  <thead>\n",
       "    <tr style=\"text-align: right;\">\n",
       "      <th></th>\n",
       "      <th>total_images</th>\n",
       "      <th>last_price</th>\n",
       "      <th>total_area</th>\n",
       "      <th>first_day_exposition</th>\n",
       "      <th>rooms</th>\n",
       "      <th>ceiling_height</th>\n",
       "      <th>floors_total</th>\n",
       "      <th>living_area</th>\n",
       "      <th>floor</th>\n",
       "      <th>is_apartment</th>\n",
       "      <th>studio</th>\n",
       "      <th>open_plan</th>\n",
       "      <th>kitchen_area</th>\n",
       "      <th>balcony</th>\n",
       "      <th>locality_name</th>\n",
       "      <th>airports_nearest</th>\n",
       "      <th>city_centers_nearest</th>\n",
       "      <th>parks_around3000</th>\n",
       "      <th>parks_nearest</th>\n",
       "      <th>ponds_around3000</th>\n",
       "      <th>ponds_nearest</th>\n",
       "      <th>days_exposition</th>\n",
       "      <th>price_meter</th>\n",
       "      <th>weekday_exposition</th>\n",
       "      <th>weekday_exposition_name</th>\n",
       "      <th>year_exposition</th>\n",
       "      <th>month_exposition</th>\n",
       "      <th>floor_rank</th>\n",
       "      <th>living_total_area</th>\n",
       "      <th>kitchen_total_area</th>\n",
       "    </tr>\n",
       "  </thead>\n",
       "  <tbody>\n",
       "    <tr>\n",
       "      <td>17961</td>\n",
       "      <td>3</td>\n",
       "      <td>1400000</td>\n",
       "      <td>13.0</td>\n",
       "      <td>2017-12-03</td>\n",
       "      <td>1</td>\n",
       "      <td>2.60</td>\n",
       "      <td>9.0</td>\n",
       "      <td>7</td>\n",
       "      <td>1</td>\n",
       "      <td>False</td>\n",
       "      <td>False</td>\n",
       "      <td>False</td>\n",
       "      <td>2</td>\n",
       "      <td>0</td>\n",
       "      <td>Санкт-Петербург</td>\n",
       "      <td>14350.0</td>\n",
       "      <td>15945.0</td>\n",
       "      <td>0.0</td>\n",
       "      <td>NaN</td>\n",
       "      <td>1.0</td>\n",
       "      <td>185.0</td>\n",
       "      <td>410.0</td>\n",
       "      <td>107692</td>\n",
       "      <td>6</td>\n",
       "      <td>воскресенье</td>\n",
       "      <td>2017</td>\n",
       "      <td>12</td>\n",
       "      <td>первый</td>\n",
       "      <td>0.5</td>\n",
       "      <td>0.2</td>\n",
       "    </tr>\n",
       "    <tr>\n",
       "      <td>19546</td>\n",
       "      <td>3</td>\n",
       "      <td>1850000</td>\n",
       "      <td>13.0</td>\n",
       "      <td>2019-03-11</td>\n",
       "      <td>1</td>\n",
       "      <td>3.40</td>\n",
       "      <td>5.0</td>\n",
       "      <td>7</td>\n",
       "      <td>2</td>\n",
       "      <td>False</td>\n",
       "      <td>False</td>\n",
       "      <td>False</td>\n",
       "      <td>2</td>\n",
       "      <td>0</td>\n",
       "      <td>Санкт-Петербург</td>\n",
       "      <td>24915.0</td>\n",
       "      <td>5483.0</td>\n",
       "      <td>1.0</td>\n",
       "      <td>644.0</td>\n",
       "      <td>0.0</td>\n",
       "      <td>NaN</td>\n",
       "      <td>24.0</td>\n",
       "      <td>142307</td>\n",
       "      <td>0</td>\n",
       "      <td>понедельник</td>\n",
       "      <td>2019</td>\n",
       "      <td>3</td>\n",
       "      <td>другой</td>\n",
       "      <td>0.5</td>\n",
       "      <td>0.2</td>\n",
       "    </tr>\n",
       "    <tr>\n",
       "      <td>19558</td>\n",
       "      <td>2</td>\n",
       "      <td>1686000</td>\n",
       "      <td>13.2</td>\n",
       "      <td>2018-12-17</td>\n",
       "      <td>1</td>\n",
       "      <td>2.65</td>\n",
       "      <td>5.0</td>\n",
       "      <td>7</td>\n",
       "      <td>1</td>\n",
       "      <td>False</td>\n",
       "      <td>False</td>\n",
       "      <td>False</td>\n",
       "      <td>2</td>\n",
       "      <td>0</td>\n",
       "      <td>Санкт-Петербург</td>\n",
       "      <td>19891.0</td>\n",
       "      <td>4165.0</td>\n",
       "      <td>1.0</td>\n",
       "      <td>361.0</td>\n",
       "      <td>1.0</td>\n",
       "      <td>155.0</td>\n",
       "      <td>19.0</td>\n",
       "      <td>127727</td>\n",
       "      <td>0</td>\n",
       "      <td>понедельник</td>\n",
       "      <td>2018</td>\n",
       "      <td>12</td>\n",
       "      <td>первый</td>\n",
       "      <td>0.5</td>\n",
       "      <td>0.2</td>\n",
       "    </tr>\n",
       "    <tr>\n",
       "      <td>19642</td>\n",
       "      <td>5</td>\n",
       "      <td>1190000</td>\n",
       "      <td>14.0</td>\n",
       "      <td>2018-07-29</td>\n",
       "      <td>1</td>\n",
       "      <td>2.65</td>\n",
       "      <td>5.0</td>\n",
       "      <td>11</td>\n",
       "      <td>1</td>\n",
       "      <td>False</td>\n",
       "      <td>False</td>\n",
       "      <td>False</td>\n",
       "      <td>2</td>\n",
       "      <td>0</td>\n",
       "      <td>Санкт-Петербург</td>\n",
       "      <td>9898.0</td>\n",
       "      <td>11122.0</td>\n",
       "      <td>0.0</td>\n",
       "      <td>NaN</td>\n",
       "      <td>0.0</td>\n",
       "      <td>NaN</td>\n",
       "      <td>4.0</td>\n",
       "      <td>85000</td>\n",
       "      <td>6</td>\n",
       "      <td>воскресенье</td>\n",
       "      <td>2018</td>\n",
       "      <td>7</td>\n",
       "      <td>первый</td>\n",
       "      <td>0.8</td>\n",
       "      <td>0.1</td>\n",
       "    </tr>\n",
       "    <tr>\n",
       "      <td>19807</td>\n",
       "      <td>0</td>\n",
       "      <td>3800000</td>\n",
       "      <td>13.0</td>\n",
       "      <td>2018-07-04</td>\n",
       "      <td>1</td>\n",
       "      <td>2.65</td>\n",
       "      <td>5.0</td>\n",
       "      <td>10</td>\n",
       "      <td>3</td>\n",
       "      <td>False</td>\n",
       "      <td>False</td>\n",
       "      <td>False</td>\n",
       "      <td>2</td>\n",
       "      <td>0</td>\n",
       "      <td>Санкт-Петербург</td>\n",
       "      <td>21302.0</td>\n",
       "      <td>1242.0</td>\n",
       "      <td>1.0</td>\n",
       "      <td>592.0</td>\n",
       "      <td>3.0</td>\n",
       "      <td>27.0</td>\n",
       "      <td>9.0</td>\n",
       "      <td>292307</td>\n",
       "      <td>2</td>\n",
       "      <td>среда</td>\n",
       "      <td>2018</td>\n",
       "      <td>7</td>\n",
       "      <td>другой</td>\n",
       "      <td>0.8</td>\n",
       "      <td>0.2</td>\n",
       "    </tr>\n",
       "    <tr>\n",
       "      <td>19904</td>\n",
       "      <td>4</td>\n",
       "      <td>2400000</td>\n",
       "      <td>12.0</td>\n",
       "      <td>2017-07-19</td>\n",
       "      <td>1</td>\n",
       "      <td>2.55</td>\n",
       "      <td>5.0</td>\n",
       "      <td>10</td>\n",
       "      <td>2</td>\n",
       "      <td>False</td>\n",
       "      <td>False</td>\n",
       "      <td>False</td>\n",
       "      <td>2</td>\n",
       "      <td>0</td>\n",
       "      <td>Санкт-Петербург</td>\n",
       "      <td>21314.0</td>\n",
       "      <td>964.0</td>\n",
       "      <td>1.0</td>\n",
       "      <td>886.0</td>\n",
       "      <td>2.0</td>\n",
       "      <td>45.0</td>\n",
       "      <td>200.0</td>\n",
       "      <td>200000</td>\n",
       "      <td>2</td>\n",
       "      <td>среда</td>\n",
       "      <td>2017</td>\n",
       "      <td>7</td>\n",
       "      <td>другой</td>\n",
       "      <td>0.8</td>\n",
       "      <td>0.2</td>\n",
       "    </tr>\n",
       "  </tbody>\n",
       "</table>\n",
       "</div>"
      ],
      "text/plain": [
       "       total_images  last_price  total_area first_day_exposition  rooms  \\\n",
       "17961             3     1400000        13.0           2017-12-03      1   \n",
       "19546             3     1850000        13.0           2019-03-11      1   \n",
       "19558             2     1686000        13.2           2018-12-17      1   \n",
       "19642             5     1190000        14.0           2018-07-29      1   \n",
       "19807             0     3800000        13.0           2018-07-04      1   \n",
       "19904             4     2400000        12.0           2017-07-19      1   \n",
       "\n",
       "       ceiling_height  floors_total  living_area  floor is_apartment  studio  \\\n",
       "17961            2.60           9.0            7      1        False   False   \n",
       "19546            3.40           5.0            7      2        False   False   \n",
       "19558            2.65           5.0            7      1        False   False   \n",
       "19642            2.65           5.0           11      1        False   False   \n",
       "19807            2.65           5.0           10      3        False   False   \n",
       "19904            2.55           5.0           10      2        False   False   \n",
       "\n",
       "       open_plan  kitchen_area  balcony    locality_name  airports_nearest  \\\n",
       "17961      False             2        0  Санкт-Петербург           14350.0   \n",
       "19546      False             2        0  Санкт-Петербург           24915.0   \n",
       "19558      False             2        0  Санкт-Петербург           19891.0   \n",
       "19642      False             2        0  Санкт-Петербург            9898.0   \n",
       "19807      False             2        0  Санкт-Петербург           21302.0   \n",
       "19904      False             2        0  Санкт-Петербург           21314.0   \n",
       "\n",
       "       city_centers_nearest  parks_around3000  parks_nearest  \\\n",
       "17961               15945.0               0.0            NaN   \n",
       "19546                5483.0               1.0          644.0   \n",
       "19558                4165.0               1.0          361.0   \n",
       "19642               11122.0               0.0            NaN   \n",
       "19807                1242.0               1.0          592.0   \n",
       "19904                 964.0               1.0          886.0   \n",
       "\n",
       "       ponds_around3000  ponds_nearest  days_exposition  price_meter  \\\n",
       "17961               1.0          185.0            410.0       107692   \n",
       "19546               0.0            NaN             24.0       142307   \n",
       "19558               1.0          155.0             19.0       127727   \n",
       "19642               0.0            NaN              4.0        85000   \n",
       "19807               3.0           27.0              9.0       292307   \n",
       "19904               2.0           45.0            200.0       200000   \n",
       "\n",
       "       weekday_exposition weekday_exposition_name  year_exposition  \\\n",
       "17961                   6             воскресенье             2017   \n",
       "19546                   0             понедельник             2019   \n",
       "19558                   0             понедельник             2018   \n",
       "19642                   6             воскресенье             2018   \n",
       "19807                   2                   среда             2018   \n",
       "19904                   2                   среда             2017   \n",
       "\n",
       "       month_exposition floor_rank  living_total_area  kitchen_total_area  \n",
       "17961                12     первый                0.5                 0.2  \n",
       "19546                 3     другой                0.5                 0.2  \n",
       "19558                12     первый                0.5                 0.2  \n",
       "19642                 7     первый                0.8                 0.1  \n",
       "19807                 7     другой                0.8                 0.2  \n",
       "19904                 7     другой                0.8                 0.2  "
      ]
     },
     "execution_count": 460,
     "metadata": {},
     "output_type": "execute_result"
    }
   ],
   "source": [
    "df.query('total_area < 15')"
   ]
  },
  {
   "cell_type": "code",
   "execution_count": 461,
   "metadata": {},
   "outputs": [],
   "source": [
    "df = df.query('total_area > 15')"
   ]
  },
  {
   "cell_type": "markdown",
   "metadata": {},
   "source": [
    "#### Анализ столбца **rooms**"
   ]
  },
  {
   "cell_type": "code",
   "execution_count": 462,
   "metadata": {},
   "outputs": [
    {
     "data": {
      "text/plain": [
       "1    8039\n",
       "2    7938\n",
       "3    5813\n",
       "4    1180\n",
       "5     325\n",
       "0     197\n",
       "6     105\n",
       "7      57\n",
       "8      12\n",
       "9       8\n",
       "Name: rooms, dtype: int64"
      ]
     },
     "execution_count": 462,
     "metadata": {},
     "output_type": "execute_result"
    }
   ],
   "source": [
    "df.rooms.value_counts()"
   ]
  },
  {
   "cell_type": "markdown",
   "metadata": {},
   "source": [
    "Подтверждая предыдущие выводы, по нисходящей, популярны 1 - 2 - 3 комнатные квартиры\n",
    "\n",
    "Прослеживается логика: изолированное жилье + доступная цена"
   ]
  },
  {
   "cell_type": "markdown",
   "metadata": {},
   "source": [
    "#### Анализ столбца **ceiling_height**"
   ]
  },
  {
   "cell_type": "code",
   "execution_count": 463,
   "metadata": {},
   "outputs": [
    {
     "data": {
      "text/plain": [
       "count    23674.00\n",
       "mean         2.72\n",
       "std          0.99\n",
       "min          1.00\n",
       "25%          2.60\n",
       "50%          2.65\n",
       "75%          2.70\n",
       "max        100.00\n",
       "Name: ceiling_height, dtype: float64"
      ]
     },
     "execution_count": 463,
     "metadata": {},
     "output_type": "execute_result"
    }
   ],
   "source": [
    "round(df.ceiling_height.describe(), 2)"
   ]
  },
  {
   "cell_type": "code",
   "execution_count": 464,
   "metadata": {},
   "outputs": [
    {
     "data": {
      "text/plain": [
       "<matplotlib.axes._subplots.AxesSubplot at 0x7f23d55e22d0>"
      ]
     },
     "execution_count": 464,
     "metadata": {},
     "output_type": "execute_result"
    },
    {
     "data": {
      "image/png": "[encoded data removed]",
      "text/plain": [
       "<Figure size 864x288 with 1 Axes>"
      ]
     },
     "metadata": {
      "needs_background": "light"
     },
     "output_type": "display_data"
    }
   ],
   "source": [
    "df.ceiling_height.hist(bins = 40, figsize = (12, 4))"
   ]
  },
  {
   "cell_type": "code",
   "execution_count": 465,
   "metadata": {
    "scrolled": true
   },
   "outputs": [
    {
     "data": {
      "text/plain": [
       "(2.4, 3)"
      ]
     },
     "execution_count": 465,
     "metadata": {},
     "output_type": "execute_result"
    },
    {
     "data": {
      "image/png": "[encoded data removed]",
      "text/plain": [
       "<Figure size 432x288 with 1 Axes>"
      ]
     },
     "metadata": {
      "needs_background": "light"
     },
     "output_type": "display_data"
    }
   ],
   "source": [
    "df.boxplot('ceiling_height') \n",
    "plt.ylim(2.4, 3)"
   ]
  },
  {
   "cell_type": "markdown",
   "metadata": {},
   "source": [
    "по нормам высота потолка не может быть менее 2.5 метров \n",
    "Нижний ус составляет - 2.45 м., верхний - 2.85 м., все варианты за пределами усов - выбросы. Оставляем значения в пределах усов, как самые показательные для анализа c учетом того, что высокие потолки тоже могут быть. Отбросим варианты более 3.5 метров - менее 5%"
   ]
  },
  {
   "cell_type": "markdown",
   "metadata": {},
   "source": [
    "<div class=\"alert alert-block alert-info\" style=\"border-radius: 15px\">\n",
    "по нормам высота потолка не может быть менее 2.5 метров \n",
    "Нижний ус составляет - 2.5 м., верхний - 2.85 м., много значений за пределом верзнего уса - сохряняем, т.к. группа значений большая\n",
    "    \n",
    "варианты с потолками ниже 2.5 м. удаляем\n",
    "</div>"
   ]
  },
  {
   "cell_type": "code",
   "execution_count": 466,
   "metadata": {},
   "outputs": [
    {
     "data": {
      "text/plain": [
       "41.617470642899384"
      ]
     },
     "execution_count": 466,
     "metadata": {},
     "output_type": "execute_result"
    }
   ],
   "source": [
    "df.query('ceiling_height > 2.85')['ceiling_height'].sum() / len(df) * 100"
   ]
  },
  {
   "cell_type": "code",
   "execution_count": 467,
   "metadata": {},
   "outputs": [],
   "source": [
    "df = df.query('2.5 < ceiling_height')"
   ]
  },
  {
   "cell_type": "markdown",
   "metadata": {},
   "source": [
    "Большинство квартир имеет высоту потолков от 2.5 до 2.8 метров, самый распространенный вариант - 2.65 м., реже встречается высота 3 метра."
   ]
  },
  {
   "cell_type": "code",
   "execution_count": 468,
   "metadata": {},
   "outputs": [
    {
     "data": {
      "text/html": [
       "<div>\n",
       "<style scoped>\n",
       "    .dataframe tbody tr th:only-of-type {\n",
       "        vertical-align: middle;\n",
       "    }\n",
       "\n",
       "    .dataframe tbody tr th {\n",
       "        vertical-align: top;\n",
       "    }\n",
       "\n",
       "    .dataframe thead th {\n",
       "        text-align: right;\n",
       "    }\n",
       "</style>\n",
       "<table border=\"1\" class=\"dataframe\">\n",
       "  <thead>\n",
       "    <tr style=\"text-align: right;\">\n",
       "      <th></th>\n",
       "      <th>total_images</th>\n",
       "      <th>last_price</th>\n",
       "      <th>total_area</th>\n",
       "      <th>first_day_exposition</th>\n",
       "      <th>rooms</th>\n",
       "      <th>ceiling_height</th>\n",
       "      <th>floors_total</th>\n",
       "      <th>living_area</th>\n",
       "      <th>floor</th>\n",
       "      <th>is_apartment</th>\n",
       "      <th>studio</th>\n",
       "      <th>open_plan</th>\n",
       "      <th>kitchen_area</th>\n",
       "      <th>balcony</th>\n",
       "      <th>locality_name</th>\n",
       "      <th>airports_nearest</th>\n",
       "      <th>city_centers_nearest</th>\n",
       "      <th>parks_around3000</th>\n",
       "      <th>parks_nearest</th>\n",
       "      <th>ponds_around3000</th>\n",
       "      <th>ponds_nearest</th>\n",
       "      <th>days_exposition</th>\n",
       "      <th>price_meter</th>\n",
       "      <th>weekday_exposition</th>\n",
       "      <th>weekday_exposition_name</th>\n",
       "      <th>year_exposition</th>\n",
       "      <th>month_exposition</th>\n",
       "      <th>floor_rank</th>\n",
       "      <th>living_total_area</th>\n",
       "      <th>kitchen_total_area</th>\n",
       "    </tr>\n",
       "  </thead>\n",
       "  <tbody>\n",
       "  </tbody>\n",
       "</table>\n",
       "</div>"
      ],
      "text/plain": [
       "Empty DataFrame\n",
       "Columns: [total_images, last_price, total_area, first_day_exposition, rooms, ceiling_height, floors_total, living_area, floor, is_apartment, studio, open_plan, kitchen_area, balcony, locality_name, airports_nearest, city_centers_nearest, parks_around3000, parks_nearest, ponds_around3000, ponds_nearest, days_exposition, price_meter, weekday_exposition, weekday_exposition_name, year_exposition, month_exposition, floor_rank, living_total_area, kitchen_total_area]\n",
       "Index: []"
      ]
     },
     "execution_count": 468,
     "metadata": {},
     "output_type": "execute_result"
    }
   ],
   "source": [
    "df.query('rooms > 10')"
   ]
  },
  {
   "cell_type": "code",
   "execution_count": 469,
   "metadata": {},
   "outputs": [
    {
     "data": {
      "text/plain": [
       "30"
      ]
     },
     "execution_count": 469,
     "metadata": {},
     "output_type": "execute_result"
    }
   ],
   "source": [
    "df.query('ceiling_height > 6').count(). count()"
   ]
  },
  {
   "cell_type": "markdown",
   "metadata": {},
   "source": [
    "<div class=\"alert alert-block alert-info\" style=\"border-radius: 15px\">\n",
    "\n",
    "**2** удаляем варианты с ненормалным количеством комнат и высотой потолков \n",
    "    \n",
    "</div>"
   ]
  },
  {
   "cell_type": "code",
   "execution_count": 470,
   "metadata": {},
   "outputs": [],
   "source": [
    "df = df.query('ceiling_height < 6 and rooms < 10')"
   ]
  },
  {
   "cell_type": "markdown",
   "metadata": {},
   "source": [
    "#### Анализ времени продажи квартиры"
   ]
  },
  {
   "cell_type": "code",
   "execution_count": 471,
   "metadata": {},
   "outputs": [
    {
     "data": {
      "text/plain": [
       "count    17522.000000\n",
       "mean       183.591599\n",
       "std        221.941751\n",
       "min          2.000000\n",
       "25%         45.000000\n",
       "50%         97.000000\n",
       "75%        236.000000\n",
       "max       1572.000000\n",
       "Name: days_exposition, dtype: float64"
      ]
     },
     "execution_count": 471,
     "metadata": {},
     "output_type": "execute_result"
    }
   ],
   "source": [
    "df['days_exposition'].describe()"
   ]
  },
  {
   "cell_type": "code",
   "execution_count": 472,
   "metadata": {},
   "outputs": [
    {
     "data": {
      "text/plain": [
       "<matplotlib.axes._subplots.AxesSubplot at 0x7f23d54fa110>"
      ]
     },
     "execution_count": 472,
     "metadata": {},
     "output_type": "execute_result"
    },
    {
     "data": {
      "image/png": "[encoded data removed]",
      "text/plain": [
       "<Figure size 864x288 with 1 Axes>"
      ]
     },
     "metadata": {
      "needs_background": "light"
     },
     "output_type": "display_data"
    }
   ],
   "source": [
    "df.days_exposition.hist(bins = 100, range = (0, 1600), figsize = (12, 4))"
   ]
  },
  {
   "cell_type": "code",
   "execution_count": 473,
   "metadata": {},
   "outputs": [
    {
     "data": {
      "text/plain": [
       "(0, 600)"
      ]
     },
     "execution_count": 473,
     "metadata": {},
     "output_type": "execute_result"
    },
    {
     "data": {
      "image/png": "[encoded data removed]",
      "text/plain": [
       "<Figure size 432x288 with 1 Axes>"
      ]
     },
     "metadata": {
      "needs_background": "light"
     },
     "output_type": "display_data"
    }
   ],
   "source": [
    "df.boxplot('days_exposition') \n",
    "plt.ylim(0, 600)"
   ]
  },
  {
   "cell_type": "markdown",
   "metadata": {},
   "source": [
    "<div class=\"alert alert-block alert-info\" style=\"border-radius: 15px\">\n",
    "\n",
    "**2** \n",
    "    \n",
    "Нижний ус составляет - 1 день, верхний - 522 дней, все варианты за пределами усов - 1415 квартир, которые имеют отклонения от стандарта.\n",
    "\n",
    "1й квартиль - 45 дней, 3й - 236\n",
    "\n",
    "Например, очевидно, что средние и медианы цен за квартиру и за кв. метр выше у тех квартир, которые продавались дольше \n",
    "    \n",
    "</div>"
   ]
  },
  {
   "cell_type": "code",
   "execution_count": 474,
   "metadata": {},
   "outputs": [
    {
     "data": {
      "text/plain": [
       "<matplotlib.axes._subplots.AxesSubplot at 0x7f23d5204bd0>"
      ]
     },
     "execution_count": 474,
     "metadata": {},
     "output_type": "execute_result"
    },
    {
     "data": {
      "image/png": "[encoded data removed]",
      "text/plain": [
       "<Figure size 864x288 with 1 Axes>"
      ]
     },
     "metadata": {
      "needs_background": "light"
     },
     "output_type": "display_data"
    }
   ],
   "source": [
    "df.days_exposition.hist(bins = 60, range = (0, 1500), figsize = (12, 4))"
   ]
  },
  {
   "cell_type": "markdown",
   "metadata": {},
   "source": [
    "Обычное время продажи квартир занимает до 3х месяцев, но четкой закономерности на данном этапе не видно, сроки могут быть увеличены до года и более - требуется учесть основные характеристики, влияющие на ликвидность.\n",
    "Время продажи квартиры: средний показатель в 2 раза выше медианы, говорит о наличии вариантов со значительным (до 4х лет и более) сроком продажи. Есть 2 скачка по количеству проданных квартир 45 и 60 дней - вероятно связано с оформлением дополнительных докуметов в ряде случаев для купли-продажи (например, опека и т.д.)"
   ]
  },
  {
   "cell_type": "code",
   "execution_count": 475,
   "metadata": {},
   "outputs": [
    {
     "data": {
      "text/html": [
       "<div>\n",
       "<style scoped>\n",
       "    .dataframe tbody tr th:only-of-type {\n",
       "        vertical-align: middle;\n",
       "    }\n",
       "\n",
       "    .dataframe tbody tr th {\n",
       "        vertical-align: top;\n",
       "    }\n",
       "\n",
       "    .dataframe thead th {\n",
       "        text-align: right;\n",
       "    }\n",
       "</style>\n",
       "<table border=\"1\" class=\"dataframe\">\n",
       "  <thead>\n",
       "    <tr style=\"text-align: right;\">\n",
       "      <th></th>\n",
       "      <th>total_images</th>\n",
       "      <th>last_price</th>\n",
       "      <th>total_area</th>\n",
       "      <th>rooms</th>\n",
       "      <th>ceiling_height</th>\n",
       "      <th>floors_total</th>\n",
       "      <th>living_area</th>\n",
       "      <th>floor</th>\n",
       "      <th>kitchen_area</th>\n",
       "      <th>balcony</th>\n",
       "      <th>airports_nearest</th>\n",
       "      <th>city_centers_nearest</th>\n",
       "      <th>parks_around3000</th>\n",
       "      <th>parks_nearest</th>\n",
       "      <th>ponds_around3000</th>\n",
       "      <th>ponds_nearest</th>\n",
       "      <th>days_exposition</th>\n",
       "      <th>price_meter</th>\n",
       "      <th>weekday_exposition</th>\n",
       "      <th>year_exposition</th>\n",
       "      <th>month_exposition</th>\n",
       "      <th>living_total_area</th>\n",
       "      <th>kitchen_total_area</th>\n",
       "    </tr>\n",
       "  </thead>\n",
       "  <tbody>\n",
       "    <tr>\n",
       "      <td>count</td>\n",
       "      <td>1054.0</td>\n",
       "      <td>1054.0</td>\n",
       "      <td>1054.0</td>\n",
       "      <td>1054.0</td>\n",
       "      <td>1054.0</td>\n",
       "      <td>1052.0</td>\n",
       "      <td>1054.0</td>\n",
       "      <td>1054.0</td>\n",
       "      <td>1054.0</td>\n",
       "      <td>1054.0</td>\n",
       "      <td>843.0</td>\n",
       "      <td>844.0</td>\n",
       "      <td>844.0</td>\n",
       "      <td>342.0</td>\n",
       "      <td>844.0</td>\n",
       "      <td>388.0</td>\n",
       "      <td>1054.0</td>\n",
       "      <td>1054.0</td>\n",
       "      <td>1054.0</td>\n",
       "      <td>1054.0</td>\n",
       "      <td>1054.0</td>\n",
       "      <td>1054.0</td>\n",
       "      <td>1054.0</td>\n",
       "    </tr>\n",
       "    <tr>\n",
       "      <td>mean</td>\n",
       "      <td>9.6</td>\n",
       "      <td>5562333.2</td>\n",
       "      <td>53.9</td>\n",
       "      <td>1.8</td>\n",
       "      <td>2.7</td>\n",
       "      <td>11.8</td>\n",
       "      <td>30.1</td>\n",
       "      <td>6.2</td>\n",
       "      <td>9.8</td>\n",
       "      <td>0.7</td>\n",
       "      <td>28134.8</td>\n",
       "      <td>13927.0</td>\n",
       "      <td>0.6</td>\n",
       "      <td>489.0</td>\n",
       "      <td>0.7</td>\n",
       "      <td>541.3</td>\n",
       "      <td>6.4</td>\n",
       "      <td>100352.3</td>\n",
       "      <td>2.6</td>\n",
       "      <td>2017.8</td>\n",
       "      <td>6.8</td>\n",
       "      <td>0.6</td>\n",
       "      <td>0.2</td>\n",
       "    </tr>\n",
       "    <tr>\n",
       "      <td>std</td>\n",
       "      <td>6.2</td>\n",
       "      <td>5227758.2</td>\n",
       "      <td>30.3</td>\n",
       "      <td>0.9</td>\n",
       "      <td>0.2</td>\n",
       "      <td>6.7</td>\n",
       "      <td>19.3</td>\n",
       "      <td>4.9</td>\n",
       "      <td>5.6</td>\n",
       "      <td>1.0</td>\n",
       "      <td>12430.6</td>\n",
       "      <td>7450.8</td>\n",
       "      <td>0.8</td>\n",
       "      <td>339.8</td>\n",
       "      <td>0.9</td>\n",
       "      <td>287.8</td>\n",
       "      <td>2.2</td>\n",
       "      <td>38823.4</td>\n",
       "      <td>1.8</td>\n",
       "      <td>0.8</td>\n",
       "      <td>3.5</td>\n",
       "      <td>0.1</td>\n",
       "      <td>0.1</td>\n",
       "    </tr>\n",
       "    <tr>\n",
       "      <td>min</td>\n",
       "      <td>0.0</td>\n",
       "      <td>550000.0</td>\n",
       "      <td>16.0</td>\n",
       "      <td>0.0</td>\n",
       "      <td>2.5</td>\n",
       "      <td>1.0</td>\n",
       "      <td>9.0</td>\n",
       "      <td>1.0</td>\n",
       "      <td>2.0</td>\n",
       "      <td>0.0</td>\n",
       "      <td>7056.0</td>\n",
       "      <td>591.0</td>\n",
       "      <td>0.0</td>\n",
       "      <td>16.0</td>\n",
       "      <td>0.0</td>\n",
       "      <td>24.0</td>\n",
       "      <td>2.0</td>\n",
       "      <td>12724.0</td>\n",
       "      <td>0.0</td>\n",
       "      <td>2016.0</td>\n",
       "      <td>1.0</td>\n",
       "      <td>0.1</td>\n",
       "      <td>0.1</td>\n",
       "    </tr>\n",
       "    <tr>\n",
       "      <td>25%</td>\n",
       "      <td>5.0</td>\n",
       "      <td>3482500.0</td>\n",
       "      <td>37.4</td>\n",
       "      <td>1.0</td>\n",
       "      <td>2.6</td>\n",
       "      <td>5.0</td>\n",
       "      <td>18.0</td>\n",
       "      <td>3.0</td>\n",
       "      <td>7.0</td>\n",
       "      <td>0.0</td>\n",
       "      <td>16834.5</td>\n",
       "      <td>10359.2</td>\n",
       "      <td>0.0</td>\n",
       "      <td>303.8</td>\n",
       "      <td>0.0</td>\n",
       "      <td>318.8</td>\n",
       "      <td>4.0</td>\n",
       "      <td>80193.2</td>\n",
       "      <td>1.0</td>\n",
       "      <td>2017.0</td>\n",
       "      <td>4.0</td>\n",
       "      <td>0.5</td>\n",
       "      <td>0.1</td>\n",
       "    </tr>\n",
       "    <tr>\n",
       "      <td>50%</td>\n",
       "      <td>9.0</td>\n",
       "      <td>4461000.0</td>\n",
       "      <td>46.0</td>\n",
       "      <td>2.0</td>\n",
       "      <td>2.6</td>\n",
       "      <td>10.0</td>\n",
       "      <td>27.0</td>\n",
       "      <td>5.0</td>\n",
       "      <td>9.0</td>\n",
       "      <td>0.0</td>\n",
       "      <td>27164.0</td>\n",
       "      <td>13163.5</td>\n",
       "      <td>0.0</td>\n",
       "      <td>470.0</td>\n",
       "      <td>0.0</td>\n",
       "      <td>528.0</td>\n",
       "      <td>7.0</td>\n",
       "      <td>96640.0</td>\n",
       "      <td>3.0</td>\n",
       "      <td>2018.0</td>\n",
       "      <td>7.0</td>\n",
       "      <td>0.6</td>\n",
       "      <td>0.2</td>\n",
       "    </tr>\n",
       "    <tr>\n",
       "      <td>75%</td>\n",
       "      <td>14.0</td>\n",
       "      <td>6016262.2</td>\n",
       "      <td>62.6</td>\n",
       "      <td>2.0</td>\n",
       "      <td>2.7</td>\n",
       "      <td>16.0</td>\n",
       "      <td>37.0</td>\n",
       "      <td>8.0</td>\n",
       "      <td>11.0</td>\n",
       "      <td>1.0</td>\n",
       "      <td>36435.5</td>\n",
       "      <td>15866.0</td>\n",
       "      <td>1.0</td>\n",
       "      <td>597.0</td>\n",
       "      <td>1.0</td>\n",
       "      <td>761.2</td>\n",
       "      <td>8.0</td>\n",
       "      <td>114510.0</td>\n",
       "      <td>4.0</td>\n",
       "      <td>2018.0</td>\n",
       "      <td>10.0</td>\n",
       "      <td>0.6</td>\n",
       "      <td>0.2</td>\n",
       "    </tr>\n",
       "    <tr>\n",
       "      <td>max</td>\n",
       "      <td>50.0</td>\n",
       "      <td>59000000.0</td>\n",
       "      <td>494.1</td>\n",
       "      <td>8.0</td>\n",
       "      <td>5.3</td>\n",
       "      <td>35.0</td>\n",
       "      <td>280.0</td>\n",
       "      <td>33.0</td>\n",
       "      <td>85.0</td>\n",
       "      <td>5.0</td>\n",
       "      <td>68491.0</td>\n",
       "      <td>53028.0</td>\n",
       "      <td>3.0</td>\n",
       "      <td>3064.0</td>\n",
       "      <td>3.0</td>\n",
       "      <td>1299.0</td>\n",
       "      <td>10.0</td>\n",
       "      <td>462745.0</td>\n",
       "      <td>6.0</td>\n",
       "      <td>2019.0</td>\n",
       "      <td>12.0</td>\n",
       "      <td>1.0</td>\n",
       "      <td>0.6</td>\n",
       "    </tr>\n",
       "  </tbody>\n",
       "</table>\n",
       "</div>"
      ],
      "text/plain": [
       "       total_images  last_price  total_area   rooms  ceiling_height  \\\n",
       "count        1054.0      1054.0      1054.0  1054.0          1054.0   \n",
       "mean            9.6   5562333.2        53.9     1.8             2.7   \n",
       "std             6.2   5227758.2        30.3     0.9             0.2   \n",
       "min             0.0    550000.0        16.0     0.0             2.5   \n",
       "25%             5.0   3482500.0        37.4     1.0             2.6   \n",
       "50%             9.0   4461000.0        46.0     2.0             2.6   \n",
       "75%            14.0   6016262.2        62.6     2.0             2.7   \n",
       "max            50.0  59000000.0       494.1     8.0             5.3   \n",
       "\n",
       "       floors_total  living_area   floor  kitchen_area  balcony  \\\n",
       "count        1052.0       1054.0  1054.0        1054.0   1054.0   \n",
       "mean           11.8         30.1     6.2           9.8      0.7   \n",
       "std             6.7         19.3     4.9           5.6      1.0   \n",
       "min             1.0          9.0     1.0           2.0      0.0   \n",
       "25%             5.0         18.0     3.0           7.0      0.0   \n",
       "50%            10.0         27.0     5.0           9.0      0.0   \n",
       "75%            16.0         37.0     8.0          11.0      1.0   \n",
       "max            35.0        280.0    33.0          85.0      5.0   \n",
       "\n",
       "       airports_nearest  city_centers_nearest  parks_around3000  \\\n",
       "count             843.0                 844.0             844.0   \n",
       "mean            28134.8               13927.0               0.6   \n",
       "std             12430.6                7450.8               0.8   \n",
       "min              7056.0                 591.0               0.0   \n",
       "25%             16834.5               10359.2               0.0   \n",
       "50%             27164.0               13163.5               0.0   \n",
       "75%             36435.5               15866.0               1.0   \n",
       "max             68491.0               53028.0               3.0   \n",
       "\n",
       "       parks_nearest  ponds_around3000  ponds_nearest  days_exposition  \\\n",
       "count          342.0             844.0          388.0           1054.0   \n",
       "mean           489.0               0.7          541.3              6.4   \n",
       "std            339.8               0.9          287.8              2.2   \n",
       "min             16.0               0.0           24.0              2.0   \n",
       "25%            303.8               0.0          318.8              4.0   \n",
       "50%            470.0               0.0          528.0              7.0   \n",
       "75%            597.0               1.0          761.2              8.0   \n",
       "max           3064.0               3.0         1299.0             10.0   \n",
       "\n",
       "       price_meter  weekday_exposition  year_exposition  month_exposition  \\\n",
       "count       1054.0              1054.0           1054.0            1054.0   \n",
       "mean      100352.3                 2.6           2017.8               6.8   \n",
       "std        38823.4                 1.8              0.8               3.5   \n",
       "min        12724.0                 0.0           2016.0               1.0   \n",
       "25%        80193.2                 1.0           2017.0               4.0   \n",
       "50%        96640.0                 3.0           2018.0               7.0   \n",
       "75%       114510.0                 4.0           2018.0              10.0   \n",
       "max       462745.0                 6.0           2019.0              12.0   \n",
       "\n",
       "       living_total_area  kitchen_total_area  \n",
       "count             1054.0              1054.0  \n",
       "mean                 0.6                 0.2  \n",
       "std                  0.1                 0.1  \n",
       "min                  0.1                 0.1  \n",
       "25%                  0.5                 0.1  \n",
       "50%                  0.6                 0.2  \n",
       "75%                  0.6                 0.2  \n",
       "max                  1.0                 0.6  "
      ]
     },
     "execution_count": 475,
     "metadata": {},
     "output_type": "execute_result"
    }
   ],
   "source": [
    "round(df.query('days_exposition <= 10').describe(), 1)"
   ]
  },
  {
   "cell_type": "code",
   "execution_count": 476,
   "metadata": {},
   "outputs": [
    {
     "data": {
      "text/html": [
       "<div>\n",
       "<style scoped>\n",
       "    .dataframe tbody tr th:only-of-type {\n",
       "        vertical-align: middle;\n",
       "    }\n",
       "\n",
       "    .dataframe tbody tr th {\n",
       "        vertical-align: top;\n",
       "    }\n",
       "\n",
       "    .dataframe thead th {\n",
       "        text-align: right;\n",
       "    }\n",
       "</style>\n",
       "<table border=\"1\" class=\"dataframe\">\n",
       "  <thead>\n",
       "    <tr style=\"text-align: right;\">\n",
       "      <th></th>\n",
       "      <th>total_images</th>\n",
       "      <th>last_price</th>\n",
       "      <th>total_area</th>\n",
       "      <th>rooms</th>\n",
       "      <th>ceiling_height</th>\n",
       "      <th>floors_total</th>\n",
       "      <th>living_area</th>\n",
       "      <th>floor</th>\n",
       "      <th>kitchen_area</th>\n",
       "      <th>balcony</th>\n",
       "      <th>airports_nearest</th>\n",
       "      <th>city_centers_nearest</th>\n",
       "      <th>parks_around3000</th>\n",
       "      <th>parks_nearest</th>\n",
       "      <th>ponds_around3000</th>\n",
       "      <th>ponds_nearest</th>\n",
       "      <th>days_exposition</th>\n",
       "      <th>price_meter</th>\n",
       "      <th>weekday_exposition</th>\n",
       "      <th>year_exposition</th>\n",
       "      <th>month_exposition</th>\n",
       "      <th>living_total_area</th>\n",
       "      <th>kitchen_total_area</th>\n",
       "    </tr>\n",
       "  </thead>\n",
       "  <tbody>\n",
       "    <tr>\n",
       "      <td>count</td>\n",
       "      <td>1535.0</td>\n",
       "      <td>1535.0</td>\n",
       "      <td>1535.0</td>\n",
       "      <td>1535.0</td>\n",
       "      <td>1535.0</td>\n",
       "      <td>1528.0</td>\n",
       "      <td>1535.0</td>\n",
       "      <td>1535.0</td>\n",
       "      <td>1535.0</td>\n",
       "      <td>1535.0</td>\n",
       "      <td>1250.0</td>\n",
       "      <td>1253.0</td>\n",
       "      <td>1253.0</td>\n",
       "      <td>632.0</td>\n",
       "      <td>1253.0</td>\n",
       "      <td>728.0</td>\n",
       "      <td>1535.0</td>\n",
       "      <td>1535.0</td>\n",
       "      <td>1535.0</td>\n",
       "      <td>1535.0</td>\n",
       "      <td>1535.0</td>\n",
       "      <td>1535.0</td>\n",
       "      <td>1535.0</td>\n",
       "    </tr>\n",
       "    <tr>\n",
       "      <td>mean</td>\n",
       "      <td>9.0</td>\n",
       "      <td>9068028.0</td>\n",
       "      <td>74.0</td>\n",
       "      <td>2.0</td>\n",
       "      <td>3.0</td>\n",
       "      <td>11.0</td>\n",
       "      <td>42.0</td>\n",
       "      <td>6.0</td>\n",
       "      <td>12.0</td>\n",
       "      <td>1.0</td>\n",
       "      <td>27536.0</td>\n",
       "      <td>12015.0</td>\n",
       "      <td>1.0</td>\n",
       "      <td>502.0</td>\n",
       "      <td>1.0</td>\n",
       "      <td>467.0</td>\n",
       "      <td>759.0</td>\n",
       "      <td>108776.0</td>\n",
       "      <td>3.0</td>\n",
       "      <td>2016.0</td>\n",
       "      <td>6.0</td>\n",
       "      <td>1.0</td>\n",
       "      <td>0.0</td>\n",
       "    </tr>\n",
       "    <tr>\n",
       "      <td>std</td>\n",
       "      <td>6.0</td>\n",
       "      <td>13393709.0</td>\n",
       "      <td>45.0</td>\n",
       "      <td>1.0</td>\n",
       "      <td>0.0</td>\n",
       "      <td>7.0</td>\n",
       "      <td>29.0</td>\n",
       "      <td>5.0</td>\n",
       "      <td>8.0</td>\n",
       "      <td>1.0</td>\n",
       "      <td>11075.0</td>\n",
       "      <td>9076.0</td>\n",
       "      <td>1.0</td>\n",
       "      <td>393.0</td>\n",
       "      <td>1.0</td>\n",
       "      <td>278.0</td>\n",
       "      <td>225.0</td>\n",
       "      <td>59803.0</td>\n",
       "      <td>2.0</td>\n",
       "      <td>1.0</td>\n",
       "      <td>4.0</td>\n",
       "      <td>0.0</td>\n",
       "      <td>0.0</td>\n",
       "    </tr>\n",
       "    <tr>\n",
       "      <td>min</td>\n",
       "      <td>0.0</td>\n",
       "      <td>500000.0</td>\n",
       "      <td>18.0</td>\n",
       "      <td>0.0</td>\n",
       "      <td>3.0</td>\n",
       "      <td>2.0</td>\n",
       "      <td>9.0</td>\n",
       "      <td>1.0</td>\n",
       "      <td>3.0</td>\n",
       "      <td>0.0</td>\n",
       "      <td>6949.0</td>\n",
       "      <td>318.0</td>\n",
       "      <td>0.0</td>\n",
       "      <td>11.0</td>\n",
       "      <td>0.0</td>\n",
       "      <td>19.0</td>\n",
       "      <td>501.0</td>\n",
       "      <td>12542.0</td>\n",
       "      <td>0.0</td>\n",
       "      <td>2014.0</td>\n",
       "      <td>1.0</td>\n",
       "      <td>0.0</td>\n",
       "      <td>0.0</td>\n",
       "    </tr>\n",
       "    <tr>\n",
       "      <td>25%</td>\n",
       "      <td>5.0</td>\n",
       "      <td>3900000.0</td>\n",
       "      <td>44.0</td>\n",
       "      <td>1.0</td>\n",
       "      <td>3.0</td>\n",
       "      <td>5.0</td>\n",
       "      <td>20.0</td>\n",
       "      <td>2.0</td>\n",
       "      <td>8.0</td>\n",
       "      <td>0.0</td>\n",
       "      <td>19876.0</td>\n",
       "      <td>5223.0</td>\n",
       "      <td>0.0</td>\n",
       "      <td>279.0</td>\n",
       "      <td>0.0</td>\n",
       "      <td>240.0</td>\n",
       "      <td>578.0</td>\n",
       "      <td>78974.0</td>\n",
       "      <td>1.0</td>\n",
       "      <td>2015.0</td>\n",
       "      <td>3.0</td>\n",
       "      <td>0.0</td>\n",
       "      <td>0.0</td>\n",
       "    </tr>\n",
       "    <tr>\n",
       "      <td>50%</td>\n",
       "      <td>8.0</td>\n",
       "      <td>5750000.0</td>\n",
       "      <td>62.0</td>\n",
       "      <td>2.0</td>\n",
       "      <td>3.0</td>\n",
       "      <td>9.0</td>\n",
       "      <td>35.0</td>\n",
       "      <td>4.0</td>\n",
       "      <td>10.0</td>\n",
       "      <td>0.0</td>\n",
       "      <td>24964.0</td>\n",
       "      <td>10905.0</td>\n",
       "      <td>1.0</td>\n",
       "      <td>441.0</td>\n",
       "      <td>1.0</td>\n",
       "      <td>437.0</td>\n",
       "      <td>698.0</td>\n",
       "      <td>97087.0</td>\n",
       "      <td>2.0</td>\n",
       "      <td>2016.0</td>\n",
       "      <td>6.0</td>\n",
       "      <td>1.0</td>\n",
       "      <td>0.0</td>\n",
       "    </tr>\n",
       "    <tr>\n",
       "      <td>75%</td>\n",
       "      <td>13.0</td>\n",
       "      <td>9500000.0</td>\n",
       "      <td>89.0</td>\n",
       "      <td>3.0</td>\n",
       "      <td>3.0</td>\n",
       "      <td>16.0</td>\n",
       "      <td>52.0</td>\n",
       "      <td>8.0</td>\n",
       "      <td>14.0</td>\n",
       "      <td>1.0</td>\n",
       "      <td>34973.0</td>\n",
       "      <td>15092.0</td>\n",
       "      <td>1.0</td>\n",
       "      <td>620.0</td>\n",
       "      <td>2.0</td>\n",
       "      <td>658.0</td>\n",
       "      <td>888.0</td>\n",
       "      <td>123594.0</td>\n",
       "      <td>4.0</td>\n",
       "      <td>2016.0</td>\n",
       "      <td>10.0</td>\n",
       "      <td>1.0</td>\n",
       "      <td>0.0</td>\n",
       "    </tr>\n",
       "    <tr>\n",
       "      <td>max</td>\n",
       "      <td>24.0</td>\n",
       "      <td>190870000.0</td>\n",
       "      <td>507.0</td>\n",
       "      <td>9.0</td>\n",
       "      <td>6.0</td>\n",
       "      <td>35.0</td>\n",
       "      <td>301.0</td>\n",
       "      <td>26.0</td>\n",
       "      <td>93.0</td>\n",
       "      <td>5.0</td>\n",
       "      <td>84869.0</td>\n",
       "      <td>65968.0</td>\n",
       "      <td>3.0</td>\n",
       "      <td>2467.0</td>\n",
       "      <td>3.0</td>\n",
       "      <td>1341.0</td>\n",
       "      <td>1572.0</td>\n",
       "      <td>719298.0</td>\n",
       "      <td>6.0</td>\n",
       "      <td>2017.0</td>\n",
       "      <td>12.0</td>\n",
       "      <td>1.0</td>\n",
       "      <td>1.0</td>\n",
       "    </tr>\n",
       "  </tbody>\n",
       "</table>\n",
       "</div>"
      ],
      "text/plain": [
       "       total_images   last_price  total_area   rooms  ceiling_height  \\\n",
       "count        1535.0       1535.0      1535.0  1535.0          1535.0   \n",
       "mean            9.0    9068028.0        74.0     2.0             3.0   \n",
       "std             6.0   13393709.0        45.0     1.0             0.0   \n",
       "min             0.0     500000.0        18.0     0.0             3.0   \n",
       "25%             5.0    3900000.0        44.0     1.0             3.0   \n",
       "50%             8.0    5750000.0        62.0     2.0             3.0   \n",
       "75%            13.0    9500000.0        89.0     3.0             3.0   \n",
       "max            24.0  190870000.0       507.0     9.0             6.0   \n",
       "\n",
       "       floors_total  living_area   floor  kitchen_area  balcony  \\\n",
       "count        1528.0       1535.0  1535.0        1535.0   1535.0   \n",
       "mean           11.0         42.0     6.0          12.0      1.0   \n",
       "std             7.0         29.0     5.0           8.0      1.0   \n",
       "min             2.0          9.0     1.0           3.0      0.0   \n",
       "25%             5.0         20.0     2.0           8.0      0.0   \n",
       "50%             9.0         35.0     4.0          10.0      0.0   \n",
       "75%            16.0         52.0     8.0          14.0      1.0   \n",
       "max            35.0        301.0    26.0          93.0      5.0   \n",
       "\n",
       "       airports_nearest  city_centers_nearest  parks_around3000  \\\n",
       "count            1250.0                1253.0            1253.0   \n",
       "mean            27536.0               12015.0               1.0   \n",
       "std             11075.0                9076.0               1.0   \n",
       "min              6949.0                 318.0               0.0   \n",
       "25%             19876.0                5223.0               0.0   \n",
       "50%             24964.0               10905.0               1.0   \n",
       "75%             34973.0               15092.0               1.0   \n",
       "max             84869.0               65968.0               3.0   \n",
       "\n",
       "       parks_nearest  ponds_around3000  ponds_nearest  days_exposition  \\\n",
       "count          632.0            1253.0          728.0           1535.0   \n",
       "mean           502.0               1.0          467.0            759.0   \n",
       "std            393.0               1.0          278.0            225.0   \n",
       "min             11.0               0.0           19.0            501.0   \n",
       "25%            279.0               0.0          240.0            578.0   \n",
       "50%            441.0               1.0          437.0            698.0   \n",
       "75%            620.0               2.0          658.0            888.0   \n",
       "max           2467.0               3.0         1341.0           1572.0   \n",
       "\n",
       "       price_meter  weekday_exposition  year_exposition  month_exposition  \\\n",
       "count       1535.0              1535.0           1535.0            1535.0   \n",
       "mean      108776.0                 3.0           2016.0               6.0   \n",
       "std        59803.0                 2.0              1.0               4.0   \n",
       "min        12542.0                 0.0           2014.0               1.0   \n",
       "25%        78974.0                 1.0           2015.0               3.0   \n",
       "50%        97087.0                 2.0           2016.0               6.0   \n",
       "75%       123594.0                 4.0           2016.0              10.0   \n",
       "max       719298.0                 6.0           2017.0              12.0   \n",
       "\n",
       "       living_total_area  kitchen_total_area  \n",
       "count             1535.0              1535.0  \n",
       "mean                 1.0                 0.0  \n",
       "std                  0.0                 0.0  \n",
       "min                  0.0                 0.0  \n",
       "25%                  0.0                 0.0  \n",
       "50%                  1.0                 0.0  \n",
       "75%                  1.0                 0.0  \n",
       "max                  1.0                 1.0  "
      ]
     },
     "execution_count": 476,
     "metadata": {},
     "output_type": "execute_result"
    }
   ],
   "source": [
    "round(df.query('days_exposition > 500').describe())"
   ]
  },
  {
   "cell_type": "markdown",
   "metadata": {},
   "source": [
    "<div class=\"alert alert-block alert-info\" style=\"border-radius: 15px\">\n",
    "если в качестве примера сравнить информацию по квартирам, проданным в период до 10 дней и более 1.5 лет, то можно сказать:\n",
    "    \n",
    "\"быстрое\" жилье дешевле, но при этом кв. метр стоит примерно как и у \"медленного\", \"медленное\" жилье имеет большую площадь, отсюда более высокая цена и низкий спрос.\n",
    "</div>"
   ]
  },
  {
   "cell_type": "markdown",
   "metadata": {},
   "source": [
    "<div class=\"alert alert-block alert-info\" style=\"border-radius: 15px\">\n",
    "    \n",
    "**2** \n",
    "    \n",
    "вероятно, что \n",
    "    \n",
    "очень быстрая продажа проходит в период до 45 дней\n",
    "\n",
    "в то время, как продажу более 230 дней следует отнести к очень длительной\n",
    "    \n",
    "boxplot представлен выше\n",
    "    \n",
    "</div>"
   ]
  },
  {
   "cell_type": "markdown",
   "metadata": {},
   "source": [
    "#### Удаление редких и выбивающихся значений"
   ]
  },
  {
   "cell_type": "markdown",
   "metadata": {},
   "source": [
    "<div class=\"alert alert-block alert-info\" style=\"border-radius: 15px\">\n",
    "    \n",
    "**2**\n",
    "    \n",
    "В ходе анализа распределения значений характеристик удалены выбросы:\n",
    "\n",
    "1. стоимость 12190\n",
    "\n",
    "2. площадь менее 15 кв.м и более 900 кв.м.\n",
    "\n",
    "3. высота потолка до 2.5 м. и более 8 м.\n",
    "\n",
    "4. цена кв. метра более 1 млн.\n",
    "\n",
    "5. более 10 комнат\n",
    "    \n",
    "    \n",
    "сбросим индекс\n",
    "</div>"
   ]
  },
  {
   "cell_type": "code",
   "execution_count": 477,
   "metadata": {},
   "outputs": [],
   "source": [
    "df.reset_index(inplace = True)"
   ]
  },
  {
   "cell_type": "markdown",
   "metadata": {},
   "source": [
    "#### Влияние характеристик на цену"
   ]
  },
  {
   "cell_type": "markdown",
   "metadata": {},
   "source": [
    "зависимость цены от площади, числа комнат, удалённости от центра, этажа, дня недели, месяца и года."
   ]
  },
  {
   "cell_type": "code",
   "execution_count": 478,
   "metadata": {},
   "outputs": [
    {
     "data": {
      "text/html": [
       "<div>\n",
       "<style scoped>\n",
       "    .dataframe tbody tr th:only-of-type {\n",
       "        vertical-align: middle;\n",
       "    }\n",
       "\n",
       "    .dataframe tbody tr th {\n",
       "        vertical-align: top;\n",
       "    }\n",
       "\n",
       "    .dataframe thead th {\n",
       "        text-align: right;\n",
       "    }\n",
       "</style>\n",
       "<table border=\"1\" class=\"dataframe\">\n",
       "  <thead>\n",
       "    <tr style=\"text-align: right;\">\n",
       "      <th></th>\n",
       "      <th>last_price</th>\n",
       "      <th>total_area</th>\n",
       "      <th>rooms</th>\n",
       "      <th>city_centers_nearest</th>\n",
       "      <th>floor</th>\n",
       "      <th>weekday_exposition</th>\n",
       "      <th>month_exposition</th>\n",
       "      <th>year_exposition</th>\n",
       "    </tr>\n",
       "  </thead>\n",
       "  <tbody>\n",
       "    <tr>\n",
       "      <td>last_price</td>\n",
       "      <td>1.000000</td>\n",
       "      <td>0.732246</td>\n",
       "      <td>0.437647</td>\n",
       "      <td>-0.259373</td>\n",
       "      <td>0.002296</td>\n",
       "      <td>-0.002955</td>\n",
       "      <td>-0.000628</td>\n",
       "      <td>-0.046347</td>\n",
       "    </tr>\n",
       "    <tr>\n",
       "      <td>total_area</td>\n",
       "      <td>0.732246</td>\n",
       "      <td>1.000000</td>\n",
       "      <td>0.768557</td>\n",
       "      <td>-0.237376</td>\n",
       "      <td>-0.054965</td>\n",
       "      <td>-0.008225</td>\n",
       "      <td>0.003171</td>\n",
       "      <td>-0.069881</td>\n",
       "    </tr>\n",
       "    <tr>\n",
       "      <td>rooms</td>\n",
       "      <td>0.437647</td>\n",
       "      <td>0.768557</td>\n",
       "      <td>1.000000</td>\n",
       "      <td>-0.205631</td>\n",
       "      <td>-0.167707</td>\n",
       "      <td>-0.008227</td>\n",
       "      <td>-0.003104</td>\n",
       "      <td>-0.056998</td>\n",
       "    </tr>\n",
       "    <tr>\n",
       "      <td>city_centers_nearest</td>\n",
       "      <td>-0.259373</td>\n",
       "      <td>-0.237376</td>\n",
       "      <td>-0.205631</td>\n",
       "      <td>1.000000</td>\n",
       "      <td>0.035311</td>\n",
       "      <td>0.014381</td>\n",
       "      <td>-0.007251</td>\n",
       "      <td>0.026230</td>\n",
       "    </tr>\n",
       "    <tr>\n",
       "      <td>floor</td>\n",
       "      <td>0.002296</td>\n",
       "      <td>-0.054965</td>\n",
       "      <td>-0.167707</td>\n",
       "      <td>0.035311</td>\n",
       "      <td>1.000000</td>\n",
       "      <td>0.012771</td>\n",
       "      <td>0.018844</td>\n",
       "      <td>0.018913</td>\n",
       "    </tr>\n",
       "    <tr>\n",
       "      <td>weekday_exposition</td>\n",
       "      <td>-0.002955</td>\n",
       "      <td>-0.008225</td>\n",
       "      <td>-0.008227</td>\n",
       "      <td>0.014381</td>\n",
       "      <td>0.012771</td>\n",
       "      <td>1.000000</td>\n",
       "      <td>0.021378</td>\n",
       "      <td>-0.002419</td>\n",
       "    </tr>\n",
       "    <tr>\n",
       "      <td>month_exposition</td>\n",
       "      <td>-0.000628</td>\n",
       "      <td>0.003171</td>\n",
       "      <td>-0.003104</td>\n",
       "      <td>-0.007251</td>\n",
       "      <td>0.018844</td>\n",
       "      <td>0.021378</td>\n",
       "      <td>1.000000</td>\n",
       "      <td>-0.258108</td>\n",
       "    </tr>\n",
       "    <tr>\n",
       "      <td>year_exposition</td>\n",
       "      <td>-0.046347</td>\n",
       "      <td>-0.069881</td>\n",
       "      <td>-0.056998</td>\n",
       "      <td>0.026230</td>\n",
       "      <td>0.018913</td>\n",
       "      <td>-0.002419</td>\n",
       "      <td>-0.258108</td>\n",
       "      <td>1.000000</td>\n",
       "    </tr>\n",
       "  </tbody>\n",
       "</table>\n",
       "</div>"
      ],
      "text/plain": [
       "                      last_price  total_area     rooms  city_centers_nearest  \\\n",
       "last_price              1.000000    0.732246  0.437647             -0.259373   \n",
       "total_area              0.732246    1.000000  0.768557             -0.237376   \n",
       "rooms                   0.437647    0.768557  1.000000             -0.205631   \n",
       "city_centers_nearest   -0.259373   -0.237376 -0.205631              1.000000   \n",
       "floor                   0.002296   -0.054965 -0.167707              0.035311   \n",
       "weekday_exposition     -0.002955   -0.008225 -0.008227              0.014381   \n",
       "month_exposition       -0.000628    0.003171 -0.003104             -0.007251   \n",
       "year_exposition        -0.046347   -0.069881 -0.056998              0.026230   \n",
       "\n",
       "                         floor  weekday_exposition  month_exposition  \\\n",
       "last_price            0.002296           -0.002955         -0.000628   \n",
       "total_area           -0.054965           -0.008225          0.003171   \n",
       "rooms                -0.167707           -0.008227         -0.003104   \n",
       "city_centers_nearest  0.035311            0.014381         -0.007251   \n",
       "floor                 1.000000            0.012771          0.018844   \n",
       "weekday_exposition    0.012771            1.000000          0.021378   \n",
       "month_exposition      0.018844            0.021378          1.000000   \n",
       "year_exposition       0.018913           -0.002419         -0.258108   \n",
       "\n",
       "                      year_exposition  \n",
       "last_price                  -0.046347  \n",
       "total_area                  -0.069881  \n",
       "rooms                       -0.056998  \n",
       "city_centers_nearest         0.026230  \n",
       "floor                        0.018913  \n",
       "weekday_exposition          -0.002419  \n",
       "month_exposition            -0.258108  \n",
       "year_exposition              1.000000  "
      ]
     },
     "execution_count": 478,
     "metadata": {},
     "output_type": "execute_result"
    }
   ],
   "source": [
    "df[['last_price', 'total_area', 'rooms', 'city_centers_nearest', \n",
    "    'floor', 'weekday_exposition', 'month_exposition', 'year_exposition']].corr()"
   ]
  },
  {
   "cell_type": "markdown",
   "metadata": {},
   "source": [
    "цена квартиры в основном зависит от площади и от количества комнат но в меньшей степени.\n",
    "\n",
    "присутствует слабая обратная связь  цены и расстояния до центра\n",
    "\n",
    "практически не оказывают на стоимость влияние этаж и дата размещения"
   ]
  },
  {
   "cell_type": "code",
   "execution_count": 479,
   "metadata": {},
   "outputs": [
    {
     "data": {
      "text/plain": [
       "Санкт-Петербург      116556\n",
       "Пушкин               104997\n",
       "деревня Кудрово       92454\n",
       "посёлок Парголово     90108\n",
       "посёлок Мурино        85641\n",
       "посёлок Шушары        78653\n",
       "Колпино               75354\n",
       "Всеволожск            69144\n",
       "Гатчина               68988\n",
       "Выборг                58573\n",
       "Name: price_meter_mean, dtype: int64"
      ]
     },
     "execution_count": 479,
     "metadata": {},
     "output_type": "execute_result"
    }
   ],
   "source": [
    "df_top_10 = pd.DataFrame(data = df.locality_name.value_counts().head(10))\n",
    "df_top_10['price_meter_mean'] = df.groupby('locality_name')['price_meter'].mean()\n",
    "df_top_10.price_meter_mean.sort_values(ascending = False).astype(int)"
   ]
  },
  {
   "cell_type": "markdown",
   "metadata": {},
   "source": [
    "<div class=\"alert alert-block alert-info\" style=\"border-radius: 15px\">\n",
    "    \n",
    "**2**\n",
    "    \n",
    "Из Топ - 10 населенных пунктов по количеству объявлений \n",
    "    \n",
    "Санкт-Петербург имеет самую высокую среднюю стоимость кв. метра, а Выборг - самую низкую\n",
    "    \n",
    "</div>"
   ]
  },
  {
   "cell_type": "code",
   "execution_count": 480,
   "metadata": {},
   "outputs": [],
   "source": [
    "df_sankt_peterburg = df.query('locality_name == \"Санкт-Петербург\"')"
   ]
  },
  {
   "cell_type": "code",
   "execution_count": 481,
   "metadata": {},
   "outputs": [
    {
     "data": {
      "text/html": [
       "<div>\n",
       "<style scoped>\n",
       "    .dataframe tbody tr th:only-of-type {\n",
       "        vertical-align: middle;\n",
       "    }\n",
       "\n",
       "    .dataframe tbody tr th {\n",
       "        vertical-align: top;\n",
       "    }\n",
       "\n",
       "    .dataframe thead th {\n",
       "        text-align: right;\n",
       "    }\n",
       "</style>\n",
       "<table border=\"1\" class=\"dataframe\">\n",
       "  <thead>\n",
       "    <tr style=\"text-align: right;\">\n",
       "      <th></th>\n",
       "      <th>index</th>\n",
       "      <th>total_images</th>\n",
       "      <th>last_price</th>\n",
       "      <th>total_area</th>\n",
       "      <th>rooms</th>\n",
       "      <th>ceiling_height</th>\n",
       "      <th>floors_total</th>\n",
       "      <th>living_area</th>\n",
       "      <th>floor</th>\n",
       "      <th>kitchen_area</th>\n",
       "      <th>balcony</th>\n",
       "      <th>airports_nearest</th>\n",
       "      <th>city_centers_nearest</th>\n",
       "      <th>parks_around3000</th>\n",
       "      <th>parks_nearest</th>\n",
       "      <th>ponds_around3000</th>\n",
       "      <th>ponds_nearest</th>\n",
       "      <th>days_exposition</th>\n",
       "      <th>price_meter</th>\n",
       "      <th>weekday_exposition</th>\n",
       "      <th>year_exposition</th>\n",
       "      <th>month_exposition</th>\n",
       "      <th>living_total_area</th>\n",
       "      <th>kitchen_total_area</th>\n",
       "    </tr>\n",
       "  </thead>\n",
       "  <tbody>\n",
       "    <tr>\n",
       "      <td>count</td>\n",
       "      <td>13545.0</td>\n",
       "      <td>13545.0</td>\n",
       "      <td>13545.0</td>\n",
       "      <td>13545.0</td>\n",
       "      <td>13545.0</td>\n",
       "      <td>13545.0</td>\n",
       "      <td>13475.0</td>\n",
       "      <td>13545.0</td>\n",
       "      <td>13545.0</td>\n",
       "      <td>13545.0</td>\n",
       "      <td>13545.0</td>\n",
       "      <td>13462.0</td>\n",
       "      <td>13485.0</td>\n",
       "      <td>13485.0</td>\n",
       "      <td>6333.0</td>\n",
       "      <td>13485.0</td>\n",
       "      <td>7113.0</td>\n",
       "      <td>11815.0</td>\n",
       "      <td>13545.0</td>\n",
       "      <td>13545.0</td>\n",
       "      <td>13545.0</td>\n",
       "      <td>13545.0</td>\n",
       "      <td>13545.0</td>\n",
       "      <td>13545.0</td>\n",
       "    </tr>\n",
       "    <tr>\n",
       "      <td>mean</td>\n",
       "      <td>11819.0</td>\n",
       "      <td>10.0</td>\n",
       "      <td>8362591.0</td>\n",
       "      <td>67.0</td>\n",
       "      <td>2.0</td>\n",
       "      <td>3.0</td>\n",
       "      <td>12.0</td>\n",
       "      <td>38.0</td>\n",
       "      <td>6.0</td>\n",
       "      <td>11.0</td>\n",
       "      <td>1.0</td>\n",
       "      <td>27704.0</td>\n",
       "      <td>11338.0</td>\n",
       "      <td>1.0</td>\n",
       "      <td>500.0</td>\n",
       "      <td>1.0</td>\n",
       "      <td>514.0</td>\n",
       "      <td>188.0</td>\n",
       "      <td>116557.0</td>\n",
       "      <td>3.0</td>\n",
       "      <td>2017.0</td>\n",
       "      <td>6.0</td>\n",
       "      <td>1.0</td>\n",
       "      <td>0.0</td>\n",
       "    </tr>\n",
       "    <tr>\n",
       "      <td>std</td>\n",
       "      <td>6817.0</td>\n",
       "      <td>6.0</td>\n",
       "      <td>10316428.0</td>\n",
       "      <td>41.0</td>\n",
       "      <td>1.0</td>\n",
       "      <td>0.0</td>\n",
       "      <td>7.0</td>\n",
       "      <td>26.0</td>\n",
       "      <td>5.0</td>\n",
       "      <td>7.0</td>\n",
       "      <td>1.0</td>\n",
       "      <td>11028.0</td>\n",
       "      <td>4970.0</td>\n",
       "      <td>1.0</td>\n",
       "      <td>358.0</td>\n",
       "      <td>1.0</td>\n",
       "      <td>280.0</td>\n",
       "      <td>229.0</td>\n",
       "      <td>49098.0</td>\n",
       "      <td>2.0</td>\n",
       "      <td>1.0</td>\n",
       "      <td>3.0</td>\n",
       "      <td>0.0</td>\n",
       "      <td>0.0</td>\n",
       "    </tr>\n",
       "    <tr>\n",
       "      <td>min</td>\n",
       "      <td>0.0</td>\n",
       "      <td>0.0</td>\n",
       "      <td>1350000.0</td>\n",
       "      <td>16.0</td>\n",
       "      <td>0.0</td>\n",
       "      <td>3.0</td>\n",
       "      <td>1.0</td>\n",
       "      <td>2.0</td>\n",
       "      <td>1.0</td>\n",
       "      <td>1.0</td>\n",
       "      <td>0.0</td>\n",
       "      <td>0.0</td>\n",
       "      <td>181.0</td>\n",
       "      <td>0.0</td>\n",
       "      <td>1.0</td>\n",
       "      <td>0.0</td>\n",
       "      <td>13.0</td>\n",
       "      <td>2.0</td>\n",
       "      <td>15345.0</td>\n",
       "      <td>0.0</td>\n",
       "      <td>2014.0</td>\n",
       "      <td>1.0</td>\n",
       "      <td>0.0</td>\n",
       "      <td>0.0</td>\n",
       "    </tr>\n",
       "    <tr>\n",
       "      <td>25%</td>\n",
       "      <td>5882.0</td>\n",
       "      <td>6.0</td>\n",
       "      <td>4350000.0</td>\n",
       "      <td>42.0</td>\n",
       "      <td>1.0</td>\n",
       "      <td>3.0</td>\n",
       "      <td>6.0</td>\n",
       "      <td>20.0</td>\n",
       "      <td>3.0</td>\n",
       "      <td>8.0</td>\n",
       "      <td>0.0</td>\n",
       "      <td>18867.0</td>\n",
       "      <td>7442.0</td>\n",
       "      <td>0.0</td>\n",
       "      <td>289.0</td>\n",
       "      <td>0.0</td>\n",
       "      <td>284.0</td>\n",
       "      <td>44.0</td>\n",
       "      <td>91904.0</td>\n",
       "      <td>1.0</td>\n",
       "      <td>2017.0</td>\n",
       "      <td>3.0</td>\n",
       "      <td>0.0</td>\n",
       "      <td>0.0</td>\n",
       "    </tr>\n",
       "    <tr>\n",
       "      <td>50%</td>\n",
       "      <td>11837.0</td>\n",
       "      <td>10.0</td>\n",
       "      <td>5850000.0</td>\n",
       "      <td>57.0</td>\n",
       "      <td>2.0</td>\n",
       "      <td>3.0</td>\n",
       "      <td>10.0</td>\n",
       "      <td>32.0</td>\n",
       "      <td>5.0</td>\n",
       "      <td>10.0</td>\n",
       "      <td>0.0</td>\n",
       "      <td>26346.0</td>\n",
       "      <td>12062.0</td>\n",
       "      <td>0.0</td>\n",
       "      <td>456.0</td>\n",
       "      <td>1.0</td>\n",
       "      <td>495.0</td>\n",
       "      <td>98.0</td>\n",
       "      <td>106212.0</td>\n",
       "      <td>3.0</td>\n",
       "      <td>2017.0</td>\n",
       "      <td>6.0</td>\n",
       "      <td>1.0</td>\n",
       "      <td>0.0</td>\n",
       "    </tr>\n",
       "    <tr>\n",
       "      <td>75%</td>\n",
       "      <td>17662.0</td>\n",
       "      <td>14.0</td>\n",
       "      <td>8700000.0</td>\n",
       "      <td>78.0</td>\n",
       "      <td>3.0</td>\n",
       "      <td>3.0</td>\n",
       "      <td>16.0</td>\n",
       "      <td>46.0</td>\n",
       "      <td>9.0</td>\n",
       "      <td>13.0</td>\n",
       "      <td>1.0</td>\n",
       "      <td>35908.0</td>\n",
       "      <td>14782.0</td>\n",
       "      <td>1.0</td>\n",
       "      <td>619.0</td>\n",
       "      <td>1.0</td>\n",
       "      <td>733.0</td>\n",
       "      <td>241.0</td>\n",
       "      <td>127098.0</td>\n",
       "      <td>4.0</td>\n",
       "      <td>2018.0</td>\n",
       "      <td>10.0</td>\n",
       "      <td>1.0</td>\n",
       "      <td>0.0</td>\n",
       "    </tr>\n",
       "    <tr>\n",
       "      <td>max</td>\n",
       "      <td>23697.0</td>\n",
       "      <td>50.0</td>\n",
       "      <td>245000000.0</td>\n",
       "      <td>631.0</td>\n",
       "      <td>9.0</td>\n",
       "      <td>6.0</td>\n",
       "      <td>52.0</td>\n",
       "      <td>358.0</td>\n",
       "      <td>33.0</td>\n",
       "      <td>107.0</td>\n",
       "      <td>5.0</td>\n",
       "      <td>54784.0</td>\n",
       "      <td>29493.0</td>\n",
       "      <td>3.0</td>\n",
       "      <td>3190.0</td>\n",
       "      <td>3.0</td>\n",
       "      <td>1337.0</td>\n",
       "      <td>1572.0</td>\n",
       "      <td>995983.0</td>\n",
       "      <td>6.0</td>\n",
       "      <td>2019.0</td>\n",
       "      <td>12.0</td>\n",
       "      <td>1.0</td>\n",
       "      <td>1.0</td>\n",
       "    </tr>\n",
       "  </tbody>\n",
       "</table>\n",
       "</div>"
      ],
      "text/plain": [
       "         index  total_images   last_price  total_area    rooms  \\\n",
       "count  13545.0       13545.0      13545.0     13545.0  13545.0   \n",
       "mean   11819.0          10.0    8362591.0        67.0      2.0   \n",
       "std     6817.0           6.0   10316428.0        41.0      1.0   \n",
       "min        0.0           0.0    1350000.0        16.0      0.0   \n",
       "25%     5882.0           6.0    4350000.0        42.0      1.0   \n",
       "50%    11837.0          10.0    5850000.0        57.0      2.0   \n",
       "75%    17662.0          14.0    8700000.0        78.0      3.0   \n",
       "max    23697.0          50.0  245000000.0       631.0      9.0   \n",
       "\n",
       "       ceiling_height  floors_total  living_area    floor  kitchen_area  \\\n",
       "count         13545.0       13475.0      13545.0  13545.0       13545.0   \n",
       "mean              3.0          12.0         38.0      6.0          11.0   \n",
       "std               0.0           7.0         26.0      5.0           7.0   \n",
       "min               3.0           1.0          2.0      1.0           1.0   \n",
       "25%               3.0           6.0         20.0      3.0           8.0   \n",
       "50%               3.0          10.0         32.0      5.0          10.0   \n",
       "75%               3.0          16.0         46.0      9.0          13.0   \n",
       "max               6.0          52.0        358.0     33.0         107.0   \n",
       "\n",
       "       balcony  airports_nearest  city_centers_nearest  parks_around3000  \\\n",
       "count  13545.0           13462.0               13485.0           13485.0   \n",
       "mean       1.0           27704.0               11338.0               1.0   \n",
       "std        1.0           11028.0                4970.0               1.0   \n",
       "min        0.0               0.0                 181.0               0.0   \n",
       "25%        0.0           18867.0                7442.0               0.0   \n",
       "50%        0.0           26346.0               12062.0               0.0   \n",
       "75%        1.0           35908.0               14782.0               1.0   \n",
       "max        5.0           54784.0               29493.0               3.0   \n",
       "\n",
       "       parks_nearest  ponds_around3000  ponds_nearest  days_exposition  \\\n",
       "count         6333.0           13485.0         7113.0          11815.0   \n",
       "mean           500.0               1.0          514.0            188.0   \n",
       "std            358.0               1.0          280.0            229.0   \n",
       "min              1.0               0.0           13.0              2.0   \n",
       "25%            289.0               0.0          284.0             44.0   \n",
       "50%            456.0               1.0          495.0             98.0   \n",
       "75%            619.0               1.0          733.0            241.0   \n",
       "max           3190.0               3.0         1337.0           1572.0   \n",
       "\n",
       "       price_meter  weekday_exposition  year_exposition  month_exposition  \\\n",
       "count      13545.0             13545.0          13545.0           13545.0   \n",
       "mean      116557.0                 3.0           2017.0               6.0   \n",
       "std        49098.0                 2.0              1.0               3.0   \n",
       "min        15345.0                 0.0           2014.0               1.0   \n",
       "25%        91904.0                 1.0           2017.0               3.0   \n",
       "50%       106212.0                 3.0           2017.0               6.0   \n",
       "75%       127098.0                 4.0           2018.0              10.0   \n",
       "max       995983.0                 6.0           2019.0              12.0   \n",
       "\n",
       "       living_total_area  kitchen_total_area  \n",
       "count            13545.0             13545.0  \n",
       "mean                 1.0                 0.0  \n",
       "std                  0.0                 0.0  \n",
       "min                  0.0                 0.0  \n",
       "25%                  0.0                 0.0  \n",
       "50%                  1.0                 0.0  \n",
       "75%                  1.0                 0.0  \n",
       "max                  1.0                 1.0  "
      ]
     },
     "execution_count": 481,
     "metadata": {},
     "output_type": "execute_result"
    }
   ],
   "source": [
    "round(df_sankt_peterburg.describe())"
   ]
  },
  {
   "cell_type": "markdown",
   "metadata": {},
   "source": [
    "<div class=\"alert alert-block alert-info\" style=\"border-radius: 15px\">\n",
    "    \n",
    "**2**\n",
    "    \n",
    "city_centers_nearest. среднее 11338 и медиана 12062 очень близки по значению\n",
    "    \n",
    "для исключения ошибок заменим пропуски на среднее\n",
    "    \n",
    "</div>"
   ]
  },
  {
   "cell_type": "code",
   "execution_count": 482,
   "metadata": {},
   "outputs": [],
   "source": [
    "import warnings\n",
    "warnings.filterwarnings('ignore')"
   ]
  },
  {
   "cell_type": "markdown",
   "metadata": {},
   "source": [
    "<div class=\"alert alert-block alert-info\" style=\"border-radius: 15px\">\n",
    "    \n",
    "**2**\n",
    "    \n",
    "выясняем, какая область входит в центр Санкт-Петербурга\n",
    "\n",
    "1. создаем столбец с расстоянием до центра в километрах\n",
    "2. получим среднюю цену для каждого километра\n",
    "3. построение графика, где график сильно меняется — это и будет центральная зона.\n",
    "    \n",
    "</div>"
   ]
  },
  {
   "cell_type": "code",
   "execution_count": 483,
   "metadata": {},
   "outputs": [],
   "source": [
    "df_sankt_peterburg.city_centers_nearest = df_sankt_peterburg.city_centers_nearest.fillna(df_sankt_peterburg.city_centers_nearest.mean())"
   ]
  },
  {
   "cell_type": "code",
   "execution_count": 484,
   "metadata": {},
   "outputs": [],
   "source": [
    "df_sankt_peterburg['city_centers_nearest_km'] = df_sankt_peterburg['city_centers_nearest'] / 1000"
   ]
  },
  {
   "cell_type": "code",
   "execution_count": 485,
   "metadata": {},
   "outputs": [],
   "source": [
    "df_sankt_peterburg['city_centers_nearest_km'] = round(df_sankt_peterburg['city_centers_nearest_km'], 1)"
   ]
  },
  {
   "cell_type": "code",
   "execution_count": 486,
   "metadata": {},
   "outputs": [],
   "source": [
    "df_sankt_peterburg['mean_price_km'] = round(df_sankt_peterburg['last_price'] / df_sankt_peterburg['city_centers_nearest_km'])"
   ]
  },
  {
   "cell_type": "code",
   "execution_count": 487,
   "metadata": {},
   "outputs": [],
   "source": [
    "df_sankt_peterburg_pivot = round(df_sankt_peterburg.pivot_table(index = 'city_centers_nearest_km', values = 'mean_price_km'))"
   ]
  },
  {
   "cell_type": "code",
   "execution_count": 488,
   "metadata": {},
   "outputs": [
    {
     "data": {
      "text/plain": [
       "<matplotlib.axes._subplots.AxesSubplot at 0x7f23d50dc5d0>"
      ]
     },
     "execution_count": 488,
     "metadata": {},
     "output_type": "execute_result"
    },
    {
     "data": {
      "image/png": "[encoded data removed]",
      "text/plain": [
       "<Figure size 1440x576 with 1 Axes>"
      ]
     },
     "metadata": {
      "needs_background": "light"
     },
     "output_type": "display_data"
    }
   ],
   "source": [
    "df_sankt_peterburg_pivot.plot(style=\"o-\", xlim = (0, 6), figsize = (20,8), ms=10, grid = True)"
   ]
  },
  {
   "cell_type": "code",
   "execution_count": 489,
   "metadata": {},
   "outputs": [],
   "source": [
    "df_sankt_peterburg_pivot = df_sankt_peterburg.pivot_table(index = 'city_centers_nearest_km', values = 'last_price')"
   ]
  },
  {
   "cell_type": "code",
   "execution_count": 490,
   "metadata": {},
   "outputs": [
    {
     "data": {
      "text/plain": [
       "<matplotlib.axes._subplots.AxesSubplot at 0x7f23d504b850>"
      ]
     },
     "execution_count": 490,
     "metadata": {},
     "output_type": "execute_result"
    },
    {
     "data": {
      "image/png": "[encoded data removed]",
      "text/plain": [
       "<Figure size 1440x576 with 1 Axes>"
      ]
     },
     "metadata": {
      "needs_background": "light"
     },
     "output_type": "display_data"
    }
   ],
   "source": [
    "df_sankt_peterburg_pivot.plot(style=\"o-\", xlim = (0, 6), figsize = (20,8), ms=10, grid = True)"
   ]
  },
  {
   "cell_type": "markdown",
   "metadata": {},
   "source": [
    "<div class=\"alert alert-block alert-info\" style=\"border-radius: 15px\">\n",
    "    \n",
    "**3** \n",
    "    \n",
    "**2 км. изменил на 2,5 км.**\n",
    "    \n",
    "**из 2х графиков видно:**\n",
    "    \n",
    "1. обратная кореляция стоимости жилья и расстояния от центра - с увеличением расстояния, цена жилья падает\n",
    "\n",
    "2. центральную зону города можно ограничить радиусом **2,5 км.** - резкое изменение графика, нет скачков цен\n",
    "    \n",
    "</div>"
   ]
  },
  {
   "cell_type": "code",
   "execution_count": 491,
   "metadata": {},
   "outputs": [],
   "source": [
    "df_sankt_peterburg_center = df_sankt_peterburg.query('city_centers_nearest_km < 2')"
   ]
  },
  {
   "cell_type": "code",
   "execution_count": 492,
   "metadata": {},
   "outputs": [
    {
     "data": {
      "text/html": [
       "<div>\n",
       "<style scoped>\n",
       "    .dataframe tbody tr th:only-of-type {\n",
       "        vertical-align: middle;\n",
       "    }\n",
       "\n",
       "    .dataframe tbody tr th {\n",
       "        vertical-align: top;\n",
       "    }\n",
       "\n",
       "    .dataframe thead th {\n",
       "        text-align: right;\n",
       "    }\n",
       "</style>\n",
       "<table border=\"1\" class=\"dataframe\">\n",
       "  <thead>\n",
       "    <tr style=\"text-align: right;\">\n",
       "      <th></th>\n",
       "      <th>index</th>\n",
       "      <th>total_images</th>\n",
       "      <th>last_price</th>\n",
       "      <th>total_area</th>\n",
       "      <th>rooms</th>\n",
       "      <th>ceiling_height</th>\n",
       "      <th>floors_total</th>\n",
       "      <th>living_area</th>\n",
       "      <th>floor</th>\n",
       "      <th>kitchen_area</th>\n",
       "      <th>balcony</th>\n",
       "      <th>airports_nearest</th>\n",
       "      <th>city_centers_nearest</th>\n",
       "      <th>parks_around3000</th>\n",
       "      <th>parks_nearest</th>\n",
       "      <th>ponds_around3000</th>\n",
       "      <th>ponds_nearest</th>\n",
       "      <th>days_exposition</th>\n",
       "      <th>price_meter</th>\n",
       "      <th>weekday_exposition</th>\n",
       "      <th>year_exposition</th>\n",
       "      <th>month_exposition</th>\n",
       "      <th>living_total_area</th>\n",
       "      <th>kitchen_total_area</th>\n",
       "      <th>city_centers_nearest_km</th>\n",
       "      <th>mean_price_km</th>\n",
       "    </tr>\n",
       "  </thead>\n",
       "  <tbody>\n",
       "    <tr>\n",
       "      <td>count</td>\n",
       "      <td>305.0</td>\n",
       "      <td>305.0</td>\n",
       "      <td>305.0</td>\n",
       "      <td>305.0</td>\n",
       "      <td>305.0</td>\n",
       "      <td>305.0</td>\n",
       "      <td>305.0</td>\n",
       "      <td>305.0</td>\n",
       "      <td>305.0</td>\n",
       "      <td>305.0</td>\n",
       "      <td>305.0</td>\n",
       "      <td>305.0</td>\n",
       "      <td>305.0</td>\n",
       "      <td>305.0</td>\n",
       "      <td>258.0</td>\n",
       "      <td>305.0</td>\n",
       "      <td>305.0</td>\n",
       "      <td>252.0</td>\n",
       "      <td>305.0</td>\n",
       "      <td>305.0</td>\n",
       "      <td>305.0</td>\n",
       "      <td>305.0</td>\n",
       "      <td>305.0</td>\n",
       "      <td>305.0</td>\n",
       "      <td>305.0</td>\n",
       "      <td>305.0</td>\n",
       "    </tr>\n",
       "    <tr>\n",
       "      <td>mean</td>\n",
       "      <td>11451.8</td>\n",
       "      <td>10.2</td>\n",
       "      <td>18618213.5</td>\n",
       "      <td>106.2</td>\n",
       "      <td>3.3</td>\n",
       "      <td>3.1</td>\n",
       "      <td>4.7</td>\n",
       "      <td>66.5</td>\n",
       "      <td>3.0</td>\n",
       "      <td>15.7</td>\n",
       "      <td>0.1</td>\n",
       "      <td>21689.6</td>\n",
       "      <td>1243.4</td>\n",
       "      <td>1.8</td>\n",
       "      <td>413.1</td>\n",
       "      <td>2.5</td>\n",
       "      <td>239.0</td>\n",
       "      <td>275.3</td>\n",
       "      <td>163594.5</td>\n",
       "      <td>2.6</td>\n",
       "      <td>2017.0</td>\n",
       "      <td>6.5</td>\n",
       "      <td>0.6</td>\n",
       "      <td>0.2</td>\n",
       "      <td>1.2</td>\n",
       "      <td>22475707.3</td>\n",
       "    </tr>\n",
       "    <tr>\n",
       "      <td>std</td>\n",
       "      <td>6910.3</td>\n",
       "      <td>6.3</td>\n",
       "      <td>22719011.2</td>\n",
       "      <td>64.4</td>\n",
       "      <td>1.4</td>\n",
       "      <td>0.5</td>\n",
       "      <td>1.0</td>\n",
       "      <td>44.7</td>\n",
       "      <td>1.4</td>\n",
       "      <td>11.5</td>\n",
       "      <td>0.4</td>\n",
       "      <td>1084.3</td>\n",
       "      <td>466.4</td>\n",
       "      <td>1.1</td>\n",
       "      <td>199.1</td>\n",
       "      <td>0.6</td>\n",
       "      <td>186.7</td>\n",
       "      <td>291.8</td>\n",
       "      <td>119515.0</td>\n",
       "      <td>1.7</td>\n",
       "      <td>1.2</td>\n",
       "      <td>3.6</td>\n",
       "      <td>0.1</td>\n",
       "      <td>0.1</td>\n",
       "      <td>0.5</td>\n",
       "      <td>41882292.7</td>\n",
       "    </tr>\n",
       "    <tr>\n",
       "      <td>min</td>\n",
       "      <td>155.0</td>\n",
       "      <td>0.0</td>\n",
       "      <td>3380000.0</td>\n",
       "      <td>27.0</td>\n",
       "      <td>0.0</td>\n",
       "      <td>2.6</td>\n",
       "      <td>2.0</td>\n",
       "      <td>15.0</td>\n",
       "      <td>1.0</td>\n",
       "      <td>5.0</td>\n",
       "      <td>0.0</td>\n",
       "      <td>17863.0</td>\n",
       "      <td>181.0</td>\n",
       "      <td>0.0</td>\n",
       "      <td>65.0</td>\n",
       "      <td>1.0</td>\n",
       "      <td>22.0</td>\n",
       "      <td>3.0</td>\n",
       "      <td>57961.0</td>\n",
       "      <td>0.0</td>\n",
       "      <td>2014.0</td>\n",
       "      <td>1.0</td>\n",
       "      <td>0.3</td>\n",
       "      <td>0.0</td>\n",
       "      <td>0.2</td>\n",
       "      <td>1778947.0</td>\n",
       "    </tr>\n",
       "    <tr>\n",
       "      <td>25%</td>\n",
       "      <td>5190.0</td>\n",
       "      <td>5.0</td>\n",
       "      <td>8250000.0</td>\n",
       "      <td>68.6</td>\n",
       "      <td>2.0</td>\n",
       "      <td>2.6</td>\n",
       "      <td>4.0</td>\n",
       "      <td>39.0</td>\n",
       "      <td>2.0</td>\n",
       "      <td>9.0</td>\n",
       "      <td>0.0</td>\n",
       "      <td>20921.0</td>\n",
       "      <td>911.0</td>\n",
       "      <td>1.0</td>\n",
       "      <td>282.2</td>\n",
       "      <td>2.0</td>\n",
       "      <td>78.0</td>\n",
       "      <td>68.8</td>\n",
       "      <td>102564.0</td>\n",
       "      <td>1.0</td>\n",
       "      <td>2016.0</td>\n",
       "      <td>3.0</td>\n",
       "      <td>0.6</td>\n",
       "      <td>0.1</td>\n",
       "      <td>0.9</td>\n",
       "      <td>5812500.0</td>\n",
       "    </tr>\n",
       "    <tr>\n",
       "      <td>50%</td>\n",
       "      <td>11748.0</td>\n",
       "      <td>10.0</td>\n",
       "      <td>11300000.0</td>\n",
       "      <td>88.4</td>\n",
       "      <td>3.0</td>\n",
       "      <td>3.0</td>\n",
       "      <td>5.0</td>\n",
       "      <td>54.0</td>\n",
       "      <td>3.0</td>\n",
       "      <td>12.0</td>\n",
       "      <td>0.0</td>\n",
       "      <td>21643.0</td>\n",
       "      <td>1280.0</td>\n",
       "      <td>2.0</td>\n",
       "      <td>394.0</td>\n",
       "      <td>3.0</td>\n",
       "      <td>202.0</td>\n",
       "      <td>160.5</td>\n",
       "      <td>126728.0</td>\n",
       "      <td>3.0</td>\n",
       "      <td>2017.0</td>\n",
       "      <td>7.0</td>\n",
       "      <td>0.6</td>\n",
       "      <td>0.1</td>\n",
       "      <td>1.3</td>\n",
       "      <td>9444444.0</td>\n",
       "    </tr>\n",
       "    <tr>\n",
       "      <td>75%</td>\n",
       "      <td>17244.0</td>\n",
       "      <td>15.0</td>\n",
       "      <td>17000000.0</td>\n",
       "      <td>123.2</td>\n",
       "      <td>4.0</td>\n",
       "      <td>3.3</td>\n",
       "      <td>5.0</td>\n",
       "      <td>76.0</td>\n",
       "      <td>4.0</td>\n",
       "      <td>18.0</td>\n",
       "      <td>0.0</td>\n",
       "      <td>22286.0</td>\n",
       "      <td>1641.0</td>\n",
       "      <td>3.0</td>\n",
       "      <td>523.0</td>\n",
       "      <td>3.0</td>\n",
       "      <td>344.0</td>\n",
       "      <td>399.0</td>\n",
       "      <td>171839.0</td>\n",
       "      <td>4.0</td>\n",
       "      <td>2018.0</td>\n",
       "      <td>10.0</td>\n",
       "      <td>0.7</td>\n",
       "      <td>0.2</td>\n",
       "      <td>1.6</td>\n",
       "      <td>17857143.0</td>\n",
       "    </tr>\n",
       "    <tr>\n",
       "      <td>max</td>\n",
       "      <td>23648.0</td>\n",
       "      <td>26.0</td>\n",
       "      <td>160000000.0</td>\n",
       "      <td>517.0</td>\n",
       "      <td>8.0</td>\n",
       "      <td>5.8</td>\n",
       "      <td>7.0</td>\n",
       "      <td>332.0</td>\n",
       "      <td>7.0</td>\n",
       "      <td>87.0</td>\n",
       "      <td>4.0</td>\n",
       "      <td>25962.0</td>\n",
       "      <td>1949.0</td>\n",
       "      <td>3.0</td>\n",
       "      <td>1079.0</td>\n",
       "      <td>3.0</td>\n",
       "      <td>835.0</td>\n",
       "      <td>1572.0</td>\n",
       "      <td>995983.0</td>\n",
       "      <td>6.0</td>\n",
       "      <td>2019.0</td>\n",
       "      <td>12.0</td>\n",
       "      <td>1.0</td>\n",
       "      <td>0.5</td>\n",
       "      <td>1.9</td>\n",
       "      <td>397500000.0</td>\n",
       "    </tr>\n",
       "  </tbody>\n",
       "</table>\n",
       "</div>"
      ],
      "text/plain": [
       "         index  total_images   last_price  total_area  rooms  ceiling_height  \\\n",
       "count    305.0         305.0        305.0       305.0  305.0           305.0   \n",
       "mean   11451.8          10.2   18618213.5       106.2    3.3             3.1   \n",
       "std     6910.3           6.3   22719011.2        64.4    1.4             0.5   \n",
       "min      155.0           0.0    3380000.0        27.0    0.0             2.6   \n",
       "25%     5190.0           5.0    8250000.0        68.6    2.0             2.6   \n",
       "50%    11748.0          10.0   11300000.0        88.4    3.0             3.0   \n",
       "75%    17244.0          15.0   17000000.0       123.2    4.0             3.3   \n",
       "max    23648.0          26.0  160000000.0       517.0    8.0             5.8   \n",
       "\n",
       "       floors_total  living_area  floor  kitchen_area  balcony  \\\n",
       "count         305.0        305.0  305.0         305.0    305.0   \n",
       "mean            4.7         66.5    3.0          15.7      0.1   \n",
       "std             1.0         44.7    1.4          11.5      0.4   \n",
       "min             2.0         15.0    1.0           5.0      0.0   \n",
       "25%             4.0         39.0    2.0           9.0      0.0   \n",
       "50%             5.0         54.0    3.0          12.0      0.0   \n",
       "75%             5.0         76.0    4.0          18.0      0.0   \n",
       "max             7.0        332.0    7.0          87.0      4.0   \n",
       "\n",
       "       airports_nearest  city_centers_nearest  parks_around3000  \\\n",
       "count             305.0                 305.0             305.0   \n",
       "mean            21689.6                1243.4               1.8   \n",
       "std              1084.3                 466.4               1.1   \n",
       "min             17863.0                 181.0               0.0   \n",
       "25%             20921.0                 911.0               1.0   \n",
       "50%             21643.0                1280.0               2.0   \n",
       "75%             22286.0                1641.0               3.0   \n",
       "max             25962.0                1949.0               3.0   \n",
       "\n",
       "       parks_nearest  ponds_around3000  ponds_nearest  days_exposition  \\\n",
       "count          258.0             305.0          305.0            252.0   \n",
       "mean           413.1               2.5          239.0            275.3   \n",
       "std            199.1               0.6          186.7            291.8   \n",
       "min             65.0               1.0           22.0              3.0   \n",
       "25%            282.2               2.0           78.0             68.8   \n",
       "50%            394.0               3.0          202.0            160.5   \n",
       "75%            523.0               3.0          344.0            399.0   \n",
       "max           1079.0               3.0          835.0           1572.0   \n",
       "\n",
       "       price_meter  weekday_exposition  year_exposition  month_exposition  \\\n",
       "count        305.0               305.0            305.0             305.0   \n",
       "mean      163594.5                 2.6           2017.0               6.5   \n",
       "std       119515.0                 1.7              1.2               3.6   \n",
       "min        57961.0                 0.0           2014.0               1.0   \n",
       "25%       102564.0                 1.0           2016.0               3.0   \n",
       "50%       126728.0                 3.0           2017.0               7.0   \n",
       "75%       171839.0                 4.0           2018.0              10.0   \n",
       "max       995983.0                 6.0           2019.0              12.0   \n",
       "\n",
       "       living_total_area  kitchen_total_area  city_centers_nearest_km  \\\n",
       "count              305.0               305.0                    305.0   \n",
       "mean                 0.6                 0.2                      1.2   \n",
       "std                  0.1                 0.1                      0.5   \n",
       "min                  0.3                 0.0                      0.2   \n",
       "25%                  0.6                 0.1                      0.9   \n",
       "50%                  0.6                 0.1                      1.3   \n",
       "75%                  0.7                 0.2                      1.6   \n",
       "max                  1.0                 0.5                      1.9   \n",
       "\n",
       "       mean_price_km  \n",
       "count          305.0  \n",
       "mean      22475707.3  \n",
       "std       41882292.7  \n",
       "min        1778947.0  \n",
       "25%        5812500.0  \n",
       "50%        9444444.0  \n",
       "75%       17857143.0  \n",
       "max      397500000.0  "
      ]
     },
     "execution_count": 492,
     "metadata": {},
     "output_type": "execute_result"
    }
   ],
   "source": [
    "round(df_sankt_peterburg_center.describe(), 1)"
   ]
  },
  {
   "cell_type": "markdown",
   "metadata": {},
   "source": [
    "Выделите сегмент квартир в центре. Проанализируйте эту территорию и изучите следующие параметры: площадь, цена, число комнат, высота потолков. Также выделите факторы, которые влияют на стоимость квартиры (число комнат, этаж, удалённость от центра, дата размещения объявления). Сделайте выводы. Отличаются ли они от общих выводов по всему городу?"
   ]
  },
  {
   "cell_type": "code",
   "execution_count": 493,
   "metadata": {},
   "outputs": [],
   "source": [
    "df_sankt_peterburg_center = df_sankt_peterburg_center[['total_area', 'last_price', 'price_meter',\n",
    "'rooms','ceiling_height', 'floor', 'city_centers_nearest_km', 'days_exposition']]"
   ]
  },
  {
   "cell_type": "code",
   "execution_count": 494,
   "metadata": {},
   "outputs": [
    {
     "data": {
      "text/html": [
       "<div>\n",
       "<style scoped>\n",
       "    .dataframe tbody tr th:only-of-type {\n",
       "        vertical-align: middle;\n",
       "    }\n",
       "\n",
       "    .dataframe tbody tr th {\n",
       "        vertical-align: top;\n",
       "    }\n",
       "\n",
       "    .dataframe thead th {\n",
       "        text-align: right;\n",
       "    }\n",
       "</style>\n",
       "<table border=\"1\" class=\"dataframe\">\n",
       "  <thead>\n",
       "    <tr style=\"text-align: right;\">\n",
       "      <th></th>\n",
       "      <th>total_area</th>\n",
       "      <th>last_price</th>\n",
       "      <th>price_meter</th>\n",
       "      <th>rooms</th>\n",
       "      <th>ceiling_height</th>\n",
       "      <th>floor</th>\n",
       "      <th>city_centers_nearest_km</th>\n",
       "      <th>days_exposition</th>\n",
       "    </tr>\n",
       "  </thead>\n",
       "  <tbody>\n",
       "    <tr>\n",
       "      <td>133</td>\n",
       "      <td>317.0</td>\n",
       "      <td>96000000</td>\n",
       "      <td>302839</td>\n",
       "      <td>4</td>\n",
       "      <td>3.5</td>\n",
       "      <td>3</td>\n",
       "      <td>1.8</td>\n",
       "      <td>62.0</td>\n",
       "    </tr>\n",
       "    <tr>\n",
       "      <td>174</td>\n",
       "      <td>72.6</td>\n",
       "      <td>9000000</td>\n",
       "      <td>123966</td>\n",
       "      <td>2</td>\n",
       "      <td>2.9</td>\n",
       "      <td>4</td>\n",
       "      <td>1.6</td>\n",
       "      <td>NaN</td>\n",
       "    </tr>\n",
       "    <tr>\n",
       "      <td>179</td>\n",
       "      <td>111.4</td>\n",
       "      <td>8700000</td>\n",
       "      <td>78096</td>\n",
       "      <td>4</td>\n",
       "      <td>3.1</td>\n",
       "      <td>2</td>\n",
       "      <td>1.2</td>\n",
       "      <td>791.0</td>\n",
       "    </tr>\n",
       "    <tr>\n",
       "      <td>361</td>\n",
       "      <td>57.8</td>\n",
       "      <td>6800000</td>\n",
       "      <td>117647</td>\n",
       "      <td>3</td>\n",
       "      <td>2.8</td>\n",
       "      <td>4</td>\n",
       "      <td>1.2</td>\n",
       "      <td>402.0</td>\n",
       "    </tr>\n",
       "    <tr>\n",
       "      <td>376</td>\n",
       "      <td>53.0</td>\n",
       "      <td>6550000</td>\n",
       "      <td>123584</td>\n",
       "      <td>2</td>\n",
       "      <td>3.5</td>\n",
       "      <td>4</td>\n",
       "      <td>1.4</td>\n",
       "      <td>96.0</td>\n",
       "    </tr>\n",
       "  </tbody>\n",
       "</table>\n",
       "</div>"
      ],
      "text/plain": [
       "     total_area  last_price  price_meter  rooms  ceiling_height  floor  \\\n",
       "133       317.0    96000000       302839      4             3.5      3   \n",
       "174        72.6     9000000       123966      2             2.9      4   \n",
       "179       111.4     8700000        78096      4             3.1      2   \n",
       "361        57.8     6800000       117647      3             2.8      4   \n",
       "376        53.0     6550000       123584      2             3.5      4   \n",
       "\n",
       "     city_centers_nearest_km  days_exposition  \n",
       "133                      1.8             62.0  \n",
       "174                      1.6              NaN  \n",
       "179                      1.2            791.0  \n",
       "361                      1.2            402.0  \n",
       "376                      1.4             96.0  "
      ]
     },
     "execution_count": 494,
     "metadata": {},
     "output_type": "execute_result"
    }
   ],
   "source": [
    "df_sankt_peterburg_center.head()"
   ]
  },
  {
   "cell_type": "markdown",
   "metadata": {},
   "source": [
    "<div class=\"alert alert-block alert-info\" style=\"border-radius: 15px\">\n",
    "    \n",
    "**2**\n",
    "    \n",
    "Оценка зависимости цены жилья в центре Санкт-Петербурга от характеристик:\n",
    "\n",
    "площадь, число комнат, высота потолков, этаж, удалённость от центра, дата размещения объявления\n",
    "    \n",
    "Построим графики этих зависимостей\n",
    "    \n",
    "</div>"
   ]
  },
  {
   "cell_type": "code",
   "execution_count": 495,
   "metadata": {},
   "outputs": [
    {
     "data": {
      "text/plain": [
       "<matplotlib.axes._subplots.AxesSubplot at 0x7f23d4fdc3d0>"
      ]
     },
     "execution_count": 495,
     "metadata": {},
     "output_type": "execute_result"
    },
    {
     "data": {
      "image/png": "[encoded data removed]",
      "text/plain": [
       "<Figure size 1440x576 with 1 Axes>"
      ]
     },
     "metadata": {
      "needs_background": "light"
     },
     "output_type": "display_data"
    }
   ],
   "source": [
    "df_sankt_peterburg_center.groupby('total_area')['last_price'].mean().plot(style=\"o-\",figsize=(20,8),title='total_area',grid=True)"
   ]
  },
  {
   "cell_type": "markdown",
   "metadata": {},
   "source": [
    "<div class=\"alert alert-block alert-info\" style=\"border-radius: 15px\">\n",
    "    \n",
    "**3**\n",
    "\n",
    "На всех крафиках удалил медиану, думаю после очистки от выбросов среднее точнее отражает картину\n",
    "\n",
    "</div>"
   ]
  },
  {
   "cell_type": "markdown",
   "metadata": {},
   "source": [
    "<div class=\"alert alert-block alert-info\" style=\"border-radius: 15px\">\n",
    "    \n",
    "**2**\n",
    "\n",
    "Оценка зависимости цены жилья в центре Санкт-Петербурга от:\n",
    "\n",
    "1. Площади. Слабая, прямая, нелинейная, имеет значительные колебания цены в районе 200 - 300 кв.м\n",
    "\n",
    "</div>"
   ]
  },
  {
   "cell_type": "code",
   "execution_count": 496,
   "metadata": {},
   "outputs": [
    {
     "data": {
      "text/plain": [
       "<matplotlib.axes._subplots.AxesSubplot at 0x7f23d4f495d0>"
      ]
     },
     "execution_count": 496,
     "metadata": {},
     "output_type": "execute_result"
    },
    {
     "data": {
      "image/png": "[encoded data removed]",
      "text/plain": [
       "<Figure size 1440x576 with 1 Axes>"
      ]
     },
     "metadata": {
      "needs_background": "light"
     },
     "output_type": "display_data"
    }
   ],
   "source": [
    "df_sankt_peterburg_center.groupby('rooms')['last_price'].mean().plot(style=\"o-\",figsize=(20,8),title='rooms',grid=True)"
   ]
  },
  {
   "cell_type": "markdown",
   "metadata": {},
   "source": [
    "<div class=\"alert alert-block alert-info\" style=\"border-radius: 15px\">\n",
    "    \n",
    "**2**\n",
    "\n",
    "Оценка зависимости цены жилья в центре Санкт-Петербурга от:\n",
    "    \n",
    "2. Количества комнат. Слабая, прямая, нелинейная, рост после 4 ком. квартир. Среднее значение цены больше медианы - \n",
    "   распределение смещено вправо - \"выскочки\" по стоимости\n",
    "        \n",
    "</div>"
   ]
  },
  {
   "cell_type": "code",
   "execution_count": 497,
   "metadata": {},
   "outputs": [
    {
     "data": {
      "text/plain": [
       "<matplotlib.axes._subplots.AxesSubplot at 0x7f23d5c3c1d0>"
      ]
     },
     "execution_count": 497,
     "metadata": {},
     "output_type": "execute_result"
    },
    {
     "data": {
      "image/png": "[encoded data removed]",
      "text/plain": [
       "<Figure size 1440x576 with 1 Axes>"
      ]
     },
     "metadata": {
      "needs_background": "light"
     },
     "output_type": "display_data"
    }
   ],
   "source": [
    "df_sankt_peterburg_center.groupby('floor')['last_price'].mean().plot(style=\"o-\",figsize=(20,8),title='floor',grid=True)"
   ]
  },
  {
   "cell_type": "markdown",
   "metadata": {},
   "source": [
    "<div class=\"alert alert-block alert-info\" style=\"border-radius: 15px\">\n",
    "    \n",
    "**2**\n",
    "\n",
    "Оценка зависимости цены жилья в центре Санкт-Петербурга от:\n",
    "    \n",
    "3. Этажа. Очень низкая, 1й этаж - дешевле, максимальный этаж в центре 7 и ценится выше всего. Среднее значение цены \n",
    "   больше медианы - распределение смещено вправо - \"выскочки\" по стоимости\n",
    "        \n",
    "</div>"
   ]
  },
  {
   "cell_type": "code",
   "execution_count": 498,
   "metadata": {},
   "outputs": [
    {
     "data": {
      "text/plain": [
       "<matplotlib.axes._subplots.AxesSubplot at 0x7f23d5904390>"
      ]
     },
     "execution_count": 498,
     "metadata": {},
     "output_type": "execute_result"
    },
    {
     "data": {
      "image/png": "[encoded data removed]",
      "text/plain": [
       "<Figure size 1440x576 with 1 Axes>"
      ]
     },
     "metadata": {
      "needs_background": "light"
     },
     "output_type": "display_data"
    }
   ],
   "source": [
    "df_sankt_peterburg_center.groupby('ceiling_height')['last_price'].mean().plot(style=\"o-\",figsize=(20,8),title='ceiling_height',grid=True)"
   ]
  },
  {
   "cell_type": "markdown",
   "metadata": {},
   "source": [
    "<div class=\"alert alert-block alert-info\" style=\"border-radius: 15px\">\n",
    "    \n",
    "**2**\n",
    "\n",
    "Оценка зависимости цены жилья в центре Санкт-Петербурга от:\n",
    "   \n",
    "4. Высоты потолков. Очень низкая, отмечается небольшой рост цены в районе 3,5 метров. \n",
    "        \n",
    "</div>"
   ]
  },
  {
   "cell_type": "code",
   "execution_count": 499,
   "metadata": {},
   "outputs": [
    {
     "data": {
      "text/plain": [
       "<matplotlib.axes._subplots.AxesSubplot at 0x7f23d4e747d0>"
      ]
     },
     "execution_count": 499,
     "metadata": {},
     "output_type": "execute_result"
    },
    {
     "data": {
      "image/png": "[encoded data removed]",
      "text/plain": [
       "<Figure size 1440x576 with 1 Axes>"
      ]
     },
     "metadata": {
      "needs_background": "light"
     },
     "output_type": "display_data"
    }
   ],
   "source": [
    "df_sankt_peterburg_center.groupby('city_centers_nearest_km')['last_price'].mean().plot(style=\"o-\",figsize=(20,8),title='city_centers_nearest_km',grid=True)"
   ]
  },
  {
   "cell_type": "markdown",
   "metadata": {},
   "source": [
    "<div class=\"alert alert-block alert-info\" style=\"border-radius: 15px\">\n",
    "    \n",
    "**2**\n",
    "\n",
    "Оценка зависимости цены жилья в центре Санкт-Петербурга от:\n",
    "    \n",
    "5. Расстояния от центра города. В пределах 2х километров очень низкая, нелинейная, наблюдается тренд на уменьшение      стоимости. Резкие выпады по стоимости до 600 метров. Средние значения больше медианы - распределение смещено          вправо - \"выскочки\" по стоимости\n",
    "        \n",
    "</div>"
   ]
  },
  {
   "cell_type": "code",
   "execution_count": 500,
   "metadata": {},
   "outputs": [
    {
     "data": {
      "text/plain": [
       "<matplotlib.axes._subplots.AxesSubplot at 0x7f23d4de81d0>"
      ]
     },
     "execution_count": 500,
     "metadata": {},
     "output_type": "execute_result"
    },
    {
     "data": {
      "image/png": "[encoded data removed]",
      "text/plain": [
       "<Figure size 1440x576 with 1 Axes>"
      ]
     },
     "metadata": {
      "needs_background": "light"
     },
     "output_type": "display_data"
    }
   ],
   "source": [
    "df_sankt_peterburg_center.groupby('days_exposition')['last_price'].mean().plot(style=\"o-\",figsize=(20,8),title='days_exposition',grid=True)"
   ]
  },
  {
   "cell_type": "markdown",
   "metadata": {},
   "source": [
    "<div class=\"alert alert-block alert-info\" style=\"border-radius: 15px\">\n",
    "    \n",
    "**2**\n",
    "\n",
    "Оценка зависимости цены жилья в центре Санкт-Петербурга от:\n",
    "    \n",
    "6. Даты объявления. Зависимости нет. Скачки цен не указывают на какую-либо закономерность.\n",
    "        \n",
    "</div>"
   ]
  },
  {
   "cell_type": "markdown",
   "metadata": {},
   "source": [
    "<div class=\"alert alert-block alert-info\" style=\"border-radius: 15px\">\n",
    "    \n",
    "**2**\n",
    "    \n",
    "Общий вывод по всем данным\n",
    "\n",
    "Для проведения анализа из данных исключены варианты жилья очень низкой стоимостью, аномально высокой стоимостью \n",
    "в т. ч. за кв. метр, огромной или неестественно маленькой площадью и большим количеством комнат, \n",
    "а также варианты с недопустимо низкими или очень высокими потолками.\n",
    "Наибольшим спросом пользуются типичные 1, 2, реже 3х комнатные квартиры с усредненными характеристиками: \n",
    "площадь 30-50 кв. м., стоимостью 3 – 6 млн. при стоимости кв. метра в районе 90 тыс.\n",
    "Вариантов таких квартир большинство и продаются они в основном в период от 1,5 до 8 месяцев\n",
    "Очень быстрая продажа до 1,5 месяцев происходит вероятно по причине очень выгодного предложения, \n",
    "и наоборот «долгий вариант» - продавец не хочет уступать, либо это жилье экстракласса\n",
    "Из 10 населенных пунктов с максимальным количеством предложений Санкт-Петербург \n",
    "имеет самую высокую среднюю стоимость кв. метра, а Выборг - самую низкую\n",
    "\n",
    "    \n",
    "</div>"
   ]
  },
  {
   "cell_type": "markdown",
   "metadata": {},
   "source": [
    "<div class=\"alert alert-block alert-info\" style=\"border-radius: 15px\">\n",
    "    \n",
    "**2**\n",
    "\n",
    "Оценка зависимости цены жилья в центре Санкт-Петербурга от:\n",
    "\n",
    "1. Площади. Слабая, прямая, нелинейная, имеет значительные колебания цены в районе 200 - 300 кв.м\n",
    "    \n",
    "2. Количества комнат. Слабая, прямая, нелинейная, рост после 4 ком. квартир. Среднее значение цены больше медианы - \n",
    "   распределение смещено вправо - \"выскочки\" по стоимости\n",
    "    \n",
    "3. Этажа. Очень низкая, 1й этаж - дешевле, максимальный этаж в центре 7 и ценится выше всего. Среднее значение цены \n",
    "   больше медианы - распределение смещено вправо - \"выскочки\" по стоимости\n",
    "    \n",
    "4. Высоты потолков. Очень низкая, отмечается небольшой рост цены в районе 3,5 метров. \n",
    "    \n",
    "5. Расстояния от центра города. В пределах 2х километров очень низкая, нелинейная, наблюдается тренд на уменьшение      стоимости. Резкие выпады по стоимости до 600 метров. Средние значения больше медианы - распределение смещено          вправо - \"выскочки\" по стоимости\n",
    "    \n",
    "6. Даты объявления. Зависимости нет. Скачки цен не указывают на какую-либо закономерность.\n",
    "        \n",
    "</div>"
   ]
  },
  {
   "cell_type": "markdown",
   "metadata": {},
   "source": [
    "<div class=\"alert alert-block alert-info\" style=\"border-radius: 15px\">\n",
    "     \n",
    "**3**\n",
    "      \n",
    "Отличия спроса на все варианты жилья от вариантов жилья в центре Санкт-Петербурга, наибольшим\n",
    "  \n",
    "спросом пользуются квартиры с характеристиками:\n",
    "\n",
    "    все варианты --- в центре Санкт-Петербурга                                  \n",
    "     \n",
    "1, 2, реже 3х ком. квартиры --- 2, 3, реже 4х ком. квартиры    \n",
    "       \n",
    "площадь 30-50 кв. м. --- 50-100 кв. м.\n",
    "        \n",
    "стоимость 3 – 6 млн. --- 6 - 12 млн.\n",
    "        \n",
    "цена в районе 90 тыс./кв.м. --- 110 тыс./ кв.м.\n",
    "        \n",
    "продажа от 1,5 до 8 месяцев --- до 3х месяцев \n",
    "    \n",
    "</div>"
   ]
  },
  {
   "cell_type": "code",
   "execution_count": 501,
   "metadata": {},
   "outputs": [
    {
     "data": {
      "text/plain": [
       "<matplotlib.axes._subplots.AxesSubplot at 0x7f23d4d5ea10>"
      ]
     },
     "execution_count": 501,
     "metadata": {},
     "output_type": "execute_result"
    },
    {
     "data": {
      "image/png": "[encoded data removed]",
      "text/plain": [
       "<Figure size 864x216 with 1 Axes>"
      ]
     },
     "metadata": {
      "needs_background": "light"
     },
     "output_type": "display_data"
    }
   ],
   "source": [
    "df_sankt_peterburg_center.rooms.hist(bins = 30, figsize = (12, 3))"
   ]
  },
  {
   "cell_type": "code",
   "execution_count": 502,
   "metadata": {},
   "outputs": [
    {
     "data": {
      "text/plain": [
       "<matplotlib.axes._subplots.AxesSubplot at 0x7f23d5d95a50>"
      ]
     },
     "execution_count": 502,
     "metadata": {},
     "output_type": "execute_result"
    },
    {
     "data": {
      "image/png": "[encoded data removed]",
      "text/plain": [
       "<Figure size 864x216 with 1 Axes>"
      ]
     },
     "metadata": {
      "needs_background": "light"
     },
     "output_type": "display_data"
    }
   ],
   "source": [
    "df_sankt_peterburg_center.total_area.hist(bins = 80, figsize = (12, 3))"
   ]
  },
  {
   "cell_type": "code",
   "execution_count": 503,
   "metadata": {},
   "outputs": [
    {
     "data": {
      "text/plain": [
       "<matplotlib.axes._subplots.AxesSubplot at 0x7f23d58f4e90>"
      ]
     },
     "execution_count": 503,
     "metadata": {},
     "output_type": "execute_result"
    },
    {
     "data": {
      "image/png": "[encoded data removed]",
      "text/plain": [
       "<Figure size 864x216 with 1 Axes>"
      ]
     },
     "metadata": {
      "needs_background": "light"
     },
     "output_type": "display_data"
    }
   ],
   "source": [
    "df_sankt_peterburg_center.last_price.hist(bins = 20, range = (2000000, 20000000), figsize = (12, 3))"
   ]
  },
  {
   "cell_type": "code",
   "execution_count": 504,
   "metadata": {},
   "outputs": [
    {
     "data": {
      "text/plain": [
       "<matplotlib.axes._subplots.AxesSubplot at 0x7f23d610c750>"
      ]
     },
     "execution_count": 504,
     "metadata": {},
     "output_type": "execute_result"
    },
    {
     "data": {
      "image/png": "[encoded data removed]",
      "text/plain": [
       "<Figure size 864x216 with 1 Axes>"
      ]
     },
     "metadata": {
      "needs_background": "light"
     },
     "output_type": "display_data"
    }
   ],
   "source": [
    "df_sankt_peterburg_center.price_meter.hist(bins = 30, range = (50000, 300000),figsize = (12, 3))"
   ]
  },
  {
   "cell_type": "code",
   "execution_count": 505,
   "metadata": {},
   "outputs": [
    {
     "data": {
      "text/plain": [
       "<matplotlib.axes._subplots.AxesSubplot at 0x7f23d4ce9290>"
      ]
     },
     "execution_count": 505,
     "metadata": {},
     "output_type": "execute_result"
    },
    {
     "data": {
      "image/png": "[encoded data removed]",
      "text/plain": [
       "<Figure size 864x216 with 1 Axes>"
      ]
     },
     "metadata": {
      "needs_background": "light"
     },
     "output_type": "display_data"
    }
   ],
   "source": [
    "df_sankt_peterburg_center.days_exposition.hist(bins = 20, range = (0, 400), figsize = (12, 3))"
   ]
  },
  {
   "cell_type": "markdown",
   "metadata": {},
   "source": [
    "<div class=\"alert alert-block alert-info\" style=\"border-radius: 15px\">\n",
    "     \n",
    "**3**\n",
    "      \n",
    "    Квартиры в центре Санкт-Петерурга являются более дорогим сегментом недвижимости в          сравнении с квартирами на окраине города или области.\n",
    "    Более популярны квартиры с большим количеством комнат и большей площадью, стоимостью примерно в 2 раза выше и продаются квартиры в целом быстрее.\n",
    "    \n",
    "</div>"
   ]
  }
 ],
 "metadata": {
  "ExecuteTimeLog": [
   {
    "duration": 874,
    "start_time": "2022-08-31T19:13:08.657Z"
   },
   {
    "duration": 450,
    "start_time": "2022-08-31T19:13:11.683Z"
   },
   {
    "duration": 4,
    "start_time": "2022-08-31T19:13:14.638Z"
   },
   {
    "duration": 43,
    "start_time": "2022-08-31T19:13:17.663Z"
   },
   {
    "duration": 30,
    "start_time": "2022-08-31T19:13:56.717Z"
   },
   {
    "duration": 19,
    "start_time": "2022-08-31T19:14:03.528Z"
   },
   {
    "duration": 14,
    "start_time": "2022-08-31T19:14:36.259Z"
   },
   {
    "duration": 35,
    "start_time": "2022-08-31T19:15:34.617Z"
   },
   {
    "duration": 45,
    "start_time": "2022-08-31T19:16:50.797Z"
   },
   {
    "duration": 18,
    "start_time": "2022-08-31T19:16:59.548Z"
   },
   {
    "duration": 16,
    "start_time": "2022-08-31T19:19:17.522Z"
   },
   {
    "duration": 17,
    "start_time": "2022-08-31T19:19:18.352Z"
   },
   {
    "duration": 6,
    "start_time": "2022-08-31T19:20:41.169Z"
   },
   {
    "duration": 6,
    "start_time": "2022-08-31T19:20:42.880Z"
   },
   {
    "duration": 3,
    "start_time": "2022-08-31T19:20:52.918Z"
   },
   {
    "duration": 8,
    "start_time": "2022-08-31T19:20:57.843Z"
   },
   {
    "duration": 4,
    "start_time": "2022-08-31T19:20:59.044Z"
   },
   {
    "duration": 5,
    "start_time": "2022-08-31T19:21:01.422Z"
   },
   {
    "duration": 9,
    "start_time": "2022-08-31T19:21:04.826Z"
   },
   {
    "duration": 5,
    "start_time": "2022-08-31T19:21:05.933Z"
   },
   {
    "duration": 8,
    "start_time": "2022-08-31T19:21:09.155Z"
   },
   {
    "duration": 5,
    "start_time": "2022-08-31T19:22:42.522Z"
   },
   {
    "duration": 5,
    "start_time": "2022-08-31T19:22:44.174Z"
   },
   {
    "duration": 8,
    "start_time": "2022-08-31T19:22:46.736Z"
   },
   {
    "duration": 4,
    "start_time": "2022-08-31T19:22:48.814Z"
   },
   {
    "duration": 5,
    "start_time": "2022-08-31T19:22:50.510Z"
   },
   {
    "duration": 353,
    "start_time": "2022-08-31T19:24:37.539Z"
   },
   {
    "duration": 114,
    "start_time": "2022-08-31T19:24:59.778Z"
   },
   {
    "duration": 395,
    "start_time": "2022-08-31T19:25:06.638Z"
   },
   {
    "duration": 375,
    "start_time": "2022-08-31T19:25:19.057Z"
   },
   {
    "duration": 334,
    "start_time": "2022-08-31T19:25:36.525Z"
   },
   {
    "duration": 353,
    "start_time": "2022-08-31T19:25:45.679Z"
   },
   {
    "duration": 380,
    "start_time": "2022-08-31T19:25:55.112Z"
   },
   {
    "duration": 7,
    "start_time": "2022-08-31T19:27:32.686Z"
   },
   {
    "duration": 7,
    "start_time": "2022-08-31T19:27:33.734Z"
   },
   {
    "duration": 8,
    "start_time": "2022-08-31T19:27:38.757Z"
   },
   {
    "duration": 7,
    "start_time": "2022-08-31T19:27:45.925Z"
   },
   {
    "duration": 7,
    "start_time": "2022-08-31T19:27:51.682Z"
   },
   {
    "duration": 6,
    "start_time": "2022-08-31T19:27:55.957Z"
   },
   {
    "duration": 9,
    "start_time": "2022-08-31T19:27:56.492Z"
   },
   {
    "duration": 7,
    "start_time": "2022-08-31T19:28:22.172Z"
   },
   {
    "duration": 6,
    "start_time": "2022-08-31T19:28:23.226Z"
   },
   {
    "duration": 6,
    "start_time": "2022-08-31T19:28:27.931Z"
   },
   {
    "duration": 8,
    "start_time": "2022-08-31T19:28:37.694Z"
   },
   {
    "duration": 6,
    "start_time": "2022-08-31T19:28:40.980Z"
   },
   {
    "duration": 7,
    "start_time": "2022-08-31T19:28:41.616Z"
   },
   {
    "duration": 7,
    "start_time": "2022-08-31T19:28:53.426Z"
   },
   {
    "duration": 7,
    "start_time": "2022-08-31T19:28:56.546Z"
   },
   {
    "duration": 6,
    "start_time": "2022-08-31T19:28:57.169Z"
   },
   {
    "duration": 782,
    "start_time": "2022-09-01T18:26:32.619Z"
   },
   {
    "duration": 406,
    "start_time": "2022-09-01T18:26:33.403Z"
   },
   {
    "duration": 3,
    "start_time": "2022-09-01T18:26:33.812Z"
   },
   {
    "duration": 40,
    "start_time": "2022-09-01T18:26:33.817Z"
   },
   {
    "duration": 16,
    "start_time": "2022-09-01T18:26:33.859Z"
   },
   {
    "duration": 35,
    "start_time": "2022-09-01T18:26:33.876Z"
   },
   {
    "duration": 14,
    "start_time": "2022-09-01T18:26:33.914Z"
   },
   {
    "duration": 26,
    "start_time": "2022-09-01T18:26:33.929Z"
   },
   {
    "duration": 18,
    "start_time": "2022-09-01T18:26:33.957Z"
   },
   {
    "duration": 58,
    "start_time": "2022-09-01T18:26:33.976Z"
   },
   {
    "duration": 20,
    "start_time": "2022-09-01T18:26:34.036Z"
   },
   {
    "duration": 22,
    "start_time": "2022-09-01T18:26:34.058Z"
   },
   {
    "duration": 43,
    "start_time": "2022-09-01T18:26:34.082Z"
   },
   {
    "duration": 27,
    "start_time": "2022-09-01T18:26:34.127Z"
   },
   {
    "duration": 19,
    "start_time": "2022-09-01T18:26:34.156Z"
   },
   {
    "duration": 45,
    "start_time": "2022-09-01T18:26:34.176Z"
   },
   {
    "duration": 20,
    "start_time": "2022-09-01T18:26:34.222Z"
   },
   {
    "duration": 26,
    "start_time": "2022-09-01T18:26:34.244Z"
   },
   {
    "duration": 52,
    "start_time": "2022-09-01T18:26:34.272Z"
   },
   {
    "duration": 14,
    "start_time": "2022-09-01T18:26:34.326Z"
   },
   {
    "duration": 353,
    "start_time": "2022-09-01T18:26:34.342Z"
   },
   {
    "duration": 16,
    "start_time": "2022-09-01T18:26:34.697Z"
   },
   {
    "duration": 11,
    "start_time": "2022-09-01T18:26:34.714Z"
   },
   {
    "duration": 8,
    "start_time": "2022-09-01T18:26:38.873Z"
   },
   {
    "duration": 18,
    "start_time": "2022-09-01T18:26:43.884Z"
   },
   {
    "duration": 9,
    "start_time": "2022-09-01T18:26:47.311Z"
   },
   {
    "duration": 10,
    "start_time": "2022-09-01T18:26:48.106Z"
   },
   {
    "duration": 7,
    "start_time": "2022-09-01T18:26:50.437Z"
   },
   {
    "duration": 9,
    "start_time": "2022-09-01T18:27:03.960Z"
   },
   {
    "duration": 16,
    "start_time": "2022-09-01T18:27:12.978Z"
   },
   {
    "duration": 8,
    "start_time": "2022-09-01T18:27:40.441Z"
   },
   {
    "duration": 394,
    "start_time": "2022-09-01T18:30:10.673Z"
   },
   {
    "duration": 2,
    "start_time": "2022-09-01T18:30:12.723Z"
   },
   {
    "duration": 491,
    "start_time": "2022-09-01T18:30:47.286Z"
   },
   {
    "duration": 13,
    "start_time": "2022-09-01T18:30:49.101Z"
   },
   {
    "duration": 4,
    "start_time": "2022-09-01T18:31:56.415Z"
   },
   {
    "duration": 607,
    "start_time": "2022-09-01T18:31:57.603Z"
   },
   {
    "duration": 13,
    "start_time": "2022-09-01T18:32:00.315Z"
   },
   {
    "duration": 6,
    "start_time": "2022-09-01T18:32:06.083Z"
   },
   {
    "duration": 8,
    "start_time": "2022-09-01T18:32:06.782Z"
   },
   {
    "duration": 10,
    "start_time": "2022-09-01T18:32:23.868Z"
   },
   {
    "duration": 203,
    "start_time": "2022-09-01T18:32:24.725Z"
   },
   {
    "duration": 131,
    "start_time": "2022-09-01T18:32:32.451Z"
   },
   {
    "duration": 10,
    "start_time": "2022-09-01T18:32:34.044Z"
   }
  ],
  "kernelspec": {
   "display_name": "Python 3 (ipykernel)",
   "language": "python",
   "name": "python3"
  },
  "language_info": {
   "codemirror_mode": {
    "name": "ipython",
    "version": 3
   },
   "file_extension": ".py",
   "mimetype": "text/x-python",
   "name": "python",
   "nbconvert_exporter": "python",
   "pygments_lexer": "ipython3",
   "version": "3.9.5"
  },
  "toc": {
   "base_numbering": 1,
   "nav_menu": {},
   "number_sections": true,
   "sideBar": true,
   "skip_h1_title": true,
   "title_cell": "Table of Contents",
   "title_sidebar": "Contents",
   "toc_cell": false,
   "toc_position": {
    "height": "calc(100% - 180px)",
    "left": "10px",
    "top": "150px",
    "width": "321px"
   },
   "toc_section_display": true,
   "toc_window_display": false
  }
 },
 "nbformat": 4,
 "nbformat_minor": 2
}
