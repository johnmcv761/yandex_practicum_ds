{
 "cells": [
  {
   "cell_type": "markdown",
   "metadata": {},
   "source": [
    "# Определение возраста покупателей"
   ]
  },
  {
   "cell_type": "markdown",
   "metadata": {},
   "source": [
    "## Исследовательский анализ данных"
   ]
  },
  {
   "cell_type": "code",
   "execution_count": 2,
   "metadata": {},
   "outputs": [],
   "source": [
    "import pandas as pd\n",
    "import numpy as np\n",
    "import pylab as pl\n",
    "\n",
    "from tensorflow.keras.preprocessing.image import ImageDataGenerator\n",
    "\n",
    "from PIL import Image\n",
    "import matplotlib.pyplot as plt\n",
    "from keras.preprocessing import image\n",
    "\n",
    "import scipy.stats as stats"
   ]
  },
  {
   "cell_type": "code",
   "execution_count": 3,
   "metadata": {},
   "outputs": [
    {
     "name": "stdout",
     "output_type": "stream",
     "text": [
      "Found 7591 validated image filenames.\n"
     ]
    }
   ],
   "source": [
    "labels = pd.read_csv('/datasets/faces/labels.csv')\n",
    "train_datagen = ImageDataGenerator(rescale=1./255)\n",
    "train_gen_flow = train_datagen.flow_from_dataframe(\n",
    "        dataframe=labels,\n",
    "        directory='/datasets/faces/final_files/',\n",
    "        x_col='file_name',\n",
    "        y_col='real_age',\n",
    "        target_size=(224, 224),\n",
    "        batch_size=32,\n",
    "        class_mode='raw',\n",
    "        seed=12345) "
   ]
  },
  {
   "cell_type": "code",
   "execution_count": 4,
   "metadata": {},
   "outputs": [
    {
     "data": {
      "text/html": [
       "<div>\n",
       "<style scoped>\n",
       "    .dataframe tbody tr th:only-of-type {\n",
       "        vertical-align: middle;\n",
       "    }\n",
       "\n",
       "    .dataframe tbody tr th {\n",
       "        vertical-align: top;\n",
       "    }\n",
       "\n",
       "    .dataframe thead th {\n",
       "        text-align: right;\n",
       "    }\n",
       "</style>\n",
       "<table border=\"1\" class=\"dataframe\">\n",
       "  <thead>\n",
       "    <tr style=\"text-align: right;\">\n",
       "      <th></th>\n",
       "      <th>real_age</th>\n",
       "    </tr>\n",
       "  </thead>\n",
       "  <tbody>\n",
       "    <tr>\n",
       "      <th>count</th>\n",
       "      <td>7591.000000</td>\n",
       "    </tr>\n",
       "    <tr>\n",
       "      <th>mean</th>\n",
       "      <td>31.201159</td>\n",
       "    </tr>\n",
       "    <tr>\n",
       "      <th>std</th>\n",
       "      <td>17.145060</td>\n",
       "    </tr>\n",
       "    <tr>\n",
       "      <th>min</th>\n",
       "      <td>1.000000</td>\n",
       "    </tr>\n",
       "    <tr>\n",
       "      <th>25%</th>\n",
       "      <td>20.000000</td>\n",
       "    </tr>\n",
       "    <tr>\n",
       "      <th>50%</th>\n",
       "      <td>29.000000</td>\n",
       "    </tr>\n",
       "    <tr>\n",
       "      <th>75%</th>\n",
       "      <td>41.000000</td>\n",
       "    </tr>\n",
       "    <tr>\n",
       "      <th>max</th>\n",
       "      <td>100.000000</td>\n",
       "    </tr>\n",
       "  </tbody>\n",
       "</table>\n",
       "</div>"
      ],
      "text/plain": [
       "          real_age\n",
       "count  7591.000000\n",
       "mean     31.201159\n",
       "std      17.145060\n",
       "min       1.000000\n",
       "25%      20.000000\n",
       "50%      29.000000\n",
       "75%      41.000000\n",
       "max     100.000000"
      ]
     },
     "execution_count": 4,
     "metadata": {},
     "output_type": "execute_result"
    }
   ],
   "source": [
    "labels.describe()"
   ]
  },
  {
   "cell_type": "code",
   "execution_count": 5,
   "metadata": {},
   "outputs": [
    {
     "data": {
      "text/html": [
       "<div>\n",
       "<style scoped>\n",
       "    .dataframe tbody tr th:only-of-type {\n",
       "        vertical-align: middle;\n",
       "    }\n",
       "\n",
       "    .dataframe tbody tr th {\n",
       "        vertical-align: top;\n",
       "    }\n",
       "\n",
       "    .dataframe thead th {\n",
       "        text-align: right;\n",
       "    }\n",
       "</style>\n",
       "<table border=\"1\" class=\"dataframe\">\n",
       "  <thead>\n",
       "    <tr style=\"text-align: right;\">\n",
       "      <th></th>\n",
       "      <th>file_name</th>\n",
       "      <th>real_age</th>\n",
       "    </tr>\n",
       "  </thead>\n",
       "  <tbody>\n",
       "    <tr>\n",
       "      <th>0</th>\n",
       "      <td>000000.jpg</td>\n",
       "      <td>4</td>\n",
       "    </tr>\n",
       "    <tr>\n",
       "      <th>1</th>\n",
       "      <td>000001.jpg</td>\n",
       "      <td>18</td>\n",
       "    </tr>\n",
       "    <tr>\n",
       "      <th>2</th>\n",
       "      <td>000002.jpg</td>\n",
       "      <td>80</td>\n",
       "    </tr>\n",
       "    <tr>\n",
       "      <th>3</th>\n",
       "      <td>000003.jpg</td>\n",
       "      <td>50</td>\n",
       "    </tr>\n",
       "    <tr>\n",
       "      <th>4</th>\n",
       "      <td>000004.jpg</td>\n",
       "      <td>17</td>\n",
       "    </tr>\n",
       "  </tbody>\n",
       "</table>\n",
       "</div>"
      ],
      "text/plain": [
       "    file_name  real_age\n",
       "0  000000.jpg         4\n",
       "1  000001.jpg        18\n",
       "2  000002.jpg        80\n",
       "3  000003.jpg        50\n",
       "4  000004.jpg        17"
      ]
     },
     "execution_count": 5,
     "metadata": {},
     "output_type": "execute_result"
    }
   ],
   "source": [
    "labels.head()"
   ]
  },
  {
   "cell_type": "markdown",
   "metadata": {},
   "source": [
    "Отображено 5 первых строк датасета. В столбце file_name указаны ID фотографий, в real_age - возраст покупателя на фотографии."
   ]
  },
  {
   "cell_type": "code",
   "execution_count": 6,
   "metadata": {},
   "outputs": [
    {
     "name": "stdout",
     "output_type": "stream",
     "text": [
      "<class 'pandas.core.frame.DataFrame'>\n",
      "RangeIndex: 7591 entries, 0 to 7590\n",
      "Data columns (total 2 columns):\n",
      " #   Column     Non-Null Count  Dtype \n",
      "---  ------     --------------  ----- \n",
      " 0   file_name  7591 non-null   object\n",
      " 1   real_age   7591 non-null   int64 \n",
      "dtypes: int64(1), object(1)\n",
      "memory usage: 118.7+ KB\n"
     ]
    }
   ],
   "source": [
    "labels.info()"
   ]
  },
  {
   "cell_type": "code",
   "execution_count": 7,
   "metadata": {
    "scrolled": true
   },
   "outputs": [
    {
     "data": {
      "text/plain": [
       "([<matplotlib.axis.YTick at 0x7fb93c6fabe0>,\n",
       "  <matplotlib.axis.YTick at 0x7fb93c6fa7c0>,\n",
       "  <matplotlib.axis.YTick at 0x7fb93c6f7670>,\n",
       "  <matplotlib.axis.YTick at 0x7fb93c6104c0>,\n",
       "  <matplotlib.axis.YTick at 0x7fb93c6085b0>,\n",
       "  <matplotlib.axis.YTick at 0x7fb93c601610>,\n",
       "  <matplotlib.axis.YTick at 0x7fb93c6100d0>,\n",
       "  <matplotlib.axis.YTick at 0x7fb93c610b80>,\n",
       "  <matplotlib.axis.YTick at 0x7fb93c6160d0>,\n",
       "  <matplotlib.axis.YTick at 0x7fb93c6165e0>,\n",
       "  <matplotlib.axis.YTick at 0x7fb93c616af0>,\n",
       "  <matplotlib.axis.YTick at 0x7fb93c61d040>,\n",
       "  <matplotlib.axis.YTick at 0x7fb93c61d550>,\n",
       "  <matplotlib.axis.YTick at 0x7fb93c6162b0>,\n",
       "  <matplotlib.axis.YTick at 0x7fb93c67c3d0>],\n",
       " [Text(0, 0, ''),\n",
       "  Text(0, 0, ''),\n",
       "  Text(0, 0, ''),\n",
       "  Text(0, 0, ''),\n",
       "  Text(0, 0, ''),\n",
       "  Text(0, 0, ''),\n",
       "  Text(0, 0, ''),\n",
       "  Text(0, 0, ''),\n",
       "  Text(0, 0, ''),\n",
       "  Text(0, 0, ''),\n",
       "  Text(0, 0, ''),\n",
       "  Text(0, 0, ''),\n",
       "  Text(0, 0, ''),\n",
       "  Text(0, 0, ''),\n",
       "  Text(0, 0, '')])"
      ]
     },
     "execution_count": 7,
     "metadata": {},
     "output_type": "execute_result"
    },
    {
     "data": {
      "image/png": "[encoded data removed]",
      "text/plain": [
       "<Figure size 1152x288 with 1 Axes>"
      ]
     },
     "metadata": {
      "needs_background": "light"
     },
     "output_type": "display_data"
    }
   ],
   "source": [
    "labels.hist(bins = 15, figsize = (16, 4), grid=True)\n",
    "plt.title(\"Распределение возраста покупателей\", size = 30)\n",
    "plt.xlabel(\"Возраст\", size = 15)\n",
    "plt.ylabel(\"Количество покупателей\", size = 15)\n",
    "plt.xticks(np.arange(0, 100, 5))\n",
    "plt.yticks(np.arange(0, 1500, 100))"
   ]
  },
  {
   "cell_type": "markdown",
   "metadata": {},
   "source": [
    "<div class=\"alert alert-block alert-warning\">\n",
    "    \n",
    "Добавил названия осей, изменил количество bins с 30 ти на 15 - группы стали нагляднее.\n",
    "    \n",
    "Установил частоты тиков осей: x - 5 лет, y - 100 покупателей.\n",
    " </div>"
   ]
  },
  {
   "cell_type": "code",
   "execution_count": 8,
   "metadata": {},
   "outputs": [
    {
     "data": {
      "text/plain": [
       "file_name    0.0\n",
       "real_age     0.0\n",
       "dtype: float64"
      ]
     },
     "execution_count": 8,
     "metadata": {},
     "output_type": "execute_result"
    }
   ],
   "source": [
    "labels.isna().mean()"
   ]
  },
  {
   "cell_type": "code",
   "execution_count": 9,
   "metadata": {},
   "outputs": [
    {
     "data": {
      "text/plain": [
       "0"
      ]
     },
     "execution_count": 9,
     "metadata": {},
     "output_type": "execute_result"
    }
   ],
   "source": [
    "labels.duplicated().sum()"
   ]
  },
  {
   "cell_type": "code",
   "execution_count": 10,
   "metadata": {},
   "outputs": [
    {
     "data": {
      "text/plain": [
       "<matplotlib.image.AxesImage at 0x7fb93b29f550>"
      ]
     },
     "execution_count": 10,
     "metadata": {},
     "output_type": "execute_result"
    },
    {
     "data": {
      "image/png": "[encoded data removed]",
      "text/plain": [
       "<Figure size 432x288 with 1 Axes>"
      ]
     },
     "metadata": {
      "needs_background": "light"
     },
     "output_type": "display_data"
    }
   ],
   "source": [
    "plt.imshow(train_gen_flow[7][0][0])"
   ]
  },
  {
   "cell_type": "markdown",
   "metadata": {},
   "source": [
    "Вывод:\n",
    "\n",
    "В датасете 7591 объект с 0 до 7590 и 2 столбца:  file_name и real_age\n",
    "\n",
    "В столбце file_name указаны ID фотографий, в real_age - возраст покупателя на фотографии.\n",
    "\n",
    "Признак real_age содержит количественные данные - перед нами стоит задача регрессии.\n",
    "\n",
    "Средний возраст покупателя равен 31 году, минимальный - 1 год, максимальный - 100 лет. \n",
    "\n",
    "Большинство покупателей в возрасте примерно от 15 до 40 лет.\n",
    "\n",
    "Медиана признака - 29 лет, есть незначительное смещение распределения вправо (средний 31 год.)\n",
    "\n",
    "Аномалии, пропуски, дубликаты и выбросы отсутствуют."
   ]
  },
  {
   "cell_type": "markdown",
   "metadata": {},
   "source": [
    "## Обучение модели"
   ]
  },
  {
   "cell_type": "markdown",
   "metadata": {},
   "source": [
    "Перенесите сюда код обучения модели и её результат вывода на экран.\n",
    "\n",
    "\n",
    "(Код в этом разделе запускается в отдельном GPU-тренажёре, поэтому оформлен не как ячейка с кодом, а как код в текстовой ячейке)"
   ]
  },
  {
   "cell_type": "markdown",
   "metadata": {},
   "source": [
    "```python\n",
    "import pandas as pd\n",
    "from tensorflow.keras.preprocessing.image import ImageDataGenerator\n",
    "from tensorflow.keras.applications.resnet import ResNet50\n",
    "from tensorflow.keras.layers import GlobalAveragePooling2D, Dense, Dropout, Flatten\n",
    "from tensorflow.keras.models import Sequential\n",
    "from tensorflow.keras.optimizers import Adam\n",
    "\n",
    "\n",
    "def load_train(path):\n",
    "    labels = pd.read_csv(path + 'labels.csv')\n",
    "    train_datagen = ImageDataGenerator(\n",
    "        validation_split=0.25,\n",
    "        horizontal_flip=True,\n",
    "        rescale=1./255)\n",
    "    train_gen_flow = train_datagen.flow_from_dataframe(\n",
    "        dataframe=labels,\n",
    "        directory=path + 'final_files/',\n",
    "        x_col='file_name',\n",
    "        y_col='real_age',\n",
    "        target_size=(224, 224),\n",
    "        batch_size=16,\n",
    "        class_mode='raw',\n",
    "        subset='training',\n",
    "        seed=12345)\n",
    "\n",
    "    return train_gen_flow\n",
    "\n",
    "def load_test(path):\n",
    "    labels = pd.read_csv(path + 'labels.csv')\n",
    "    test_datagen = ImageDataGenerator(\n",
    "        validation_split=0.25,\n",
    "        rescale=1./255)\n",
    "    test_gen_flow = test_datagen.flow_from_dataframe(\n",
    "        dataframe=labels,\n",
    "        directory=path + 'final_files/',\n",
    "        x_col='file_name',\n",
    "        y_col='real_age',\n",
    "        target_size=(224, 224),\n",
    "        batch_size=16,\n",
    "        class_mode='raw',\n",
    "        subset='validation',\n",
    "        seed=12345)\n",
    "\n",
    "    return test_gen_flow\n",
    "\n",
    "\n",
    "def create_model(input_shape):\n",
    "    backbone = ResNet50(weights='imagenet',\n",
    "                        input_shape=input_shape,\n",
    "                        include_top=False)\n",
    "\n",
    "    model = Sequential()\n",
    "    model.add(backbone)\n",
    "    model.add(GlobalAveragePooling2D())\n",
    "    model.add(Dense(1, activation='relu'))\n",
    "\n",
    "    optimizer = Adam(lr=0.0005)\n",
    "    model.compile(optimizer=optimizer, loss='mse', metrics=['mae'])\n",
    "\n",
    "    return model\n",
    "\n",
    "def train_model(model, train_data, test_data, batch_size=None, epochs=10, \n",
    "                steps_per_epoch=None, validation_steps=5):\n",
    "\n",
    "    if steps_per_epoch is None:\n",
    "        steps_per_epoch = len(train_data)\n",
    "    if validation_steps is None:\n",
    "        validation_steps = len(test_data)\n",
    "\n",
    "    model.fit(\n",
    "        train_data,\n",
    "        validation_data=test_data,\n",
    "        batch_size=batch_size,\n",
    "        epochs=epochs,\n",
    "        steps_per_epoch=steps_per_epoch,\n",
    "        validation_steps=validation_steps,\n",
    "        verbose=2\n",
    "    )\n",
    "\n",
    "    return model\n",
    "\n",
    "```"
   ]
  },
  {
   "cell_type": "markdown",
   "metadata": {},
   "source": [
    "```\n",
    "\n",
    "# < скопируйте результат вывода на экран сюда >\n",
    "# < длинные строки со скачиванием модели можно удалить >\n",
    "\n",
    "\n",
    "2022-05-07 16:14:33.942097: I tensorflow/stream_executor/platform/default/dso_loader.cc:44] Successfully opened dynamic library libnvinfer.so.6\n",
    "2022-05-07 16:14:33.943798: I tensorflow/stream_executor/platform/default/dso_loader.cc:44] Successfully opened dynamic library libnvinfer_plugin.so.6\n",
    "Using TensorFlow backend.\n",
    "Found 5694 validated image filenames.\n",
    "Found 1897 validated image filenames.\n",
    "2022-05-07 16:14:34.817903: I tensorflow/stream_executor/platform/default/dso_loader.cc:44] Successfully opened dynamic library libcuda.so.1\n",
    "2022-05-07 16:14:35.508245: I tensorflow/core/common_runtime/gpu/gpu_device.cc:1555] Found device 0 with properties: \n",
    "pciBusID: 0000:8b:00.0 name: Tesla V100-SXM2-32GB computeCapability: 7.0\n",
    "coreClock: 1.53GHz coreCount: 80 deviceMemorySize: 31.75GiB deviceMemoryBandwidth: 836.37GiB/s\n",
    "2022-05-07 16:14:35.508336: I tensorflow/stream_executor/platform/default/dso_loader.cc:44] Successfully opened dynamic library libcudart.so.10.1\n",
    "2022-05-07 16:14:35.508369: I tensorflow/stream_executor/platform/default/dso_loader.cc:44] Successfully opened dynamic library libcublas.so.10\n",
    "2022-05-07 16:14:35.510175: I tensorflow/stream_executor/platform/default/dso_loader.cc:44] Successfully opened dynamic library libcufft.so.10\n",
    "2022-05-07 16:14:35.510617: I tensorflow/stream_executor/platform/default/dso_loader.cc:44] Successfully opened dynamic library libcurand.so.10\n",
    "2022-05-07 16:14:35.512875: I tensorflow/stream_executor/platform/default/dso_loader.cc:44] Successfully opened dynamic library libcusolver.so.10\n",
    "2022-05-07 16:14:35.514105: I tensorflow/stream_executor/platform/default/dso_loader.cc:44] Successfully opened dynamic library libcusparse.so.10\n",
    "2022-05-07 16:14:35.514178: I tensorflow/stream_executor/platform/default/dso_loader.cc:44] Successfully opened dynamic library libcudnn.so.7\n",
    "2022-05-07 16:14:35.518600: I tensorflow/core/common_runtime/gpu/gpu_device.cc:1697] Adding visible gpu devices: 0\n",
    "2022-05-07 16:14:35.518956: I tensorflow/core/platform/cpu_feature_guard.cc:142] Your CPU supports instructions that this TensorFlow binary was not compiled to use: AVX2 AVX512F FMA\n",
    "2022-05-07 16:14:35.526305: I tensorflow/core/platform/profile_utils/cpu_utils.cc:94] CPU Frequency: 2099990000 Hz\n",
    "2022-05-07 16:14:35.526908: I tensorflow/compiler/xla/service/service.cc:168] XLA service 0x5dde350 initialized for platform Host (this does not guarantee that XLA will be used). Devices:\n",
    "2022-05-07 16:14:35.526942: I tensorflow/compiler/xla/service/service.cc:176]   StreamExecutor device (0): Host, Default Version\n",
    "2022-05-07 16:14:35.674656: I tensorflow/compiler/xla/service/service.cc:168] XLA service 0x5e64370 initialized for platform CUDA (this does not guarantee that XLA will be used). Devices:\n",
    "2022-05-07 16:14:35.674710: I tensorflow/compiler/xla/service/service.cc:176]   StreamExecutor device (0): Tesla V100-SXM2-32GB, Compute Capability 7.0\n",
    "2022-05-07 16:14:35.677540: I tensorflow/core/common_runtime/gpu/gpu_device.cc:1555] Found device 0 with properties: \n",
    "pciBusID: 0000:8b:00.0 name: Tesla V100-SXM2-32GB computeCapability: 7.0\n",
    "coreClock: 1.53GHz coreCount: 80 deviceMemorySize: 31.75GiB deviceMemoryBandwidth: 836.37GiB/s\n",
    "2022-05-07 16:14:35.677637: I tensorflow/stream_executor/platform/default/dso_loader.cc:44] Successfully opened dynamic library libcudart.so.10.1\n",
    "2022-05-07 16:14:35.677656: I tensorflow/stream_executor/platform/default/dso_loader.cc:44] Successfully opened dynamic library libcublas.so.10\n",
    "2022-05-07 16:14:35.677713: I tensorflow/stream_executor/platform/default/dso_loader.cc:44] Successfully opened dynamic library libcufft.so.10\n",
    "2022-05-07 16:14:35.677735: I tensorflow/stream_executor/platform/default/dso_loader.cc:44] Successfully opened dynamic library libcurand.so.10\n",
    "2022-05-07 16:14:35.677754: I tensorflow/stream_executor/platform/default/dso_loader.cc:44] Successfully opened dynamic library libcusolver.so.10\n",
    "2022-05-07 16:14:35.677771: I tensorflow/stream_executor/platform/default/dso_loader.cc:44] Successfully opened dynamic library libcusparse.so.10\n",
    "2022-05-07 16:14:35.677784: I tensorflow/stream_executor/platform/default/dso_loader.cc:44] Successfully opened dynamic library libcudnn.so.7\n",
    "2022-05-07 16:14:35.682936: I tensorflow/core/common_runtime/gpu/gpu_device.cc:1697] Adding visible gpu devices: 0\n",
    "2022-05-07 16:14:35.683038: I tensorflow/stream_executor/platform/default/dso_loader.cc:44] Successfully opened dynamic library libcudart.so.10.1\n",
    "2022-05-07 16:14:36.013533: I tensorflow/core/common_runtime/gpu/gpu_device.cc:1096] Device interconnect StreamExecutor with strength 1 edge matrix:\n",
    "2022-05-07 16:14:36.013593: I tensorflow/core/common_runtime/gpu/gpu_device.cc:1102]      0 \n",
    "2022-05-07 16:14:36.013603: I tensorflow/core/common_runtime/gpu/gpu_device.cc:1115] 0:   N \n",
    "2022-05-07 16:14:36.018241: I tensorflow/core/common_runtime/gpu/gpu_device.cc:1241] Created TensorFlow device (/job:localhost/replica:0/task:0/device:GPU:0 with 30509 MB memory) -> physical GPU (device: 0, name: Tesla V100-SXM2-32GB, pci bus id: 0000:8b:00.0, compute capability: 7.0)\n",
    "<class 'tensorflow.python.keras.engine.sequential.Sequential'>\n",
    "WARNING:tensorflow:sample_weight modes were coerced from\n",
    "  ...\n",
    "    to  \n",
    "  ['...']\n",
    "WARNING:tensorflow:sample_weight modes were coerced from\n",
    "  ...\n",
    "    to  \n",
    "  ['...']\n",
    "Train for 356 steps, validate for 5 steps\n",
    "Epoch 1/10\n",
    "2022-05-07 16:14:46.937225: I tensorflow/stream_executor/platform/default/dso_loader.cc:44] Successfully opened dynamic library libcublas.so.10\n",
    "2022-05-07 16:14:47.261717: I tensorflow/stream_executor/platform/default/dso_loader.cc:44] Successfully opened dynamic library libcudnn.so.7\n",
    "356/356 - 39s - loss: 207.7901 - mae: 10.9374 - val_loss: 342.9827 - val_mae: 12.8324\n",
    "Epoch 2/10\n",
    "2022-05-07 16:15:49.671734: W tensorflow/core/kernels/data/generator_dataset_op.cc:103] Error occurred when finalizing GeneratorDataset iterator: Cancelled: Operation was cancelled\n",
    "356/356 - 30s - loss: 140.0684 - mae: 9.1014 - val_loss: 315.6533 - val_mae: 12.7952\n",
    "Epoch 3/10\n",
    "2022-05-07 16:16:19.322469: W tensorflow/core/kernels/data/generator_dataset_op.cc:103] Error occurred when finalizing GeneratorDataset iterator: Cancelled: Operation was cancelled\n",
    "356/356 - 30s - loss: 110.7943 - mae: 8.0318 - val_loss: 157.3766 - val_mae: 10.2374\n",
    "Epoch 4/10\n",
    "2022-05-07 16:16:48.883909: W tensorflow/core/kernels/data/generator_dataset_op.cc:103] Error occurred when finalizing GeneratorDataset iterator: Cancelled: Operation was cancelled\n",
    "356/356 - 30s - loss: 91.7158 - mae: 7.3633 - val_loss: 118.9516 - val_mae: 8.4000\n",
    "Epoch 5/10\n",
    "2022-05-07 16:17:18.470846: W tensorflow/core/kernels/data/generator_dataset_op.cc:103] Error occurred when finalizing GeneratorDataset iterator: Cancelled: Operation was cancelled\n",
    "356/356 - 30s - loss: 81.8054 - mae: 6.8710 - val_loss: 111.4641 - val_mae: 8.1658\n",
    "Epoch 6/10\n",
    "2022-05-07 16:17:47.850735: W tensorflow/core/kernels/data/generator_dataset_op.cc:103] Error occurred when finalizing GeneratorDataset iterator: Cancelled: Operation was cancelled\n",
    "356/356 - 29s - loss: 66.9872 - mae: 6.2789 - val_loss: 80.5679 - val_mae: 6.3735\n",
    "Epoch 7/10\n",
    "2022-05-07 16:18:17.522993: W tensorflow/core/kernels/data/generator_dataset_op.cc:103] Error occurred when finalizing GeneratorDataset iterator: Cancelled: Operation was cancelled\n",
    "356/356 - 30s - loss: 56.9462 - mae: 5.7582 - val_loss: 143.7631 - val_mae: 8.8063\n",
    "Epoch 8/10\n",
    "2022-05-07 16:18:47.587892: W tensorflow/core/kernels/data/generator_dataset_op.cc:103] Error occurred when finalizing GeneratorDataset iterator: Cancelled: Operation was cancelled\n",
    "356/356 - 30s - loss: 48.5137 - mae: 5.3971 - val_loss: 73.5741 - val_mae: 6.7104\n",
    "Epoch 9/10\n",
    "2022-05-07 16:19:17.442290: W tensorflow/core/kernels/data/generator_dataset_op.cc:103] Error occurred when finalizing GeneratorDataset iterator: Cancelled: Operation was cancelled\n",
    "356/356 - 30s - loss: 41.9054 - mae: 4.9762 - val_loss: 76.8642 - val_mae: 6.9670\n",
    "Epoch 10/10\n",
    "2022-05-07 16:19:47.228318: W tensorflow/core/kernels/data/generator_dataset_op.cc:103] Error occurred when finalizing GeneratorDataset iterator: Cancelled: Operation was cancelled\n",
    "356/356 - 30s - loss: 35.3935 - mae: 4.5972 - val_loss: 80.0612 - val_mae: 6.6025\n",
    "2022-05-07 16:19:47.752115: W tensorflow/core/kernels/data/generator_dataset_op.cc:103] Error occurred when finalizing GeneratorDataset iterator: Cancelled: Operation was cancelled\n",
    "WARNING:tensorflow:sample_weight modes were coerced from\n",
    "  ...\n",
    "    to  \n",
    "  ['...']\n",
    "119/119 - 10s - loss: 109.6772 - mae: 7.7775\n",
    "Test MAE: 7.7775\n",
    "2022-05-07 16:14:33.942097: I tensorflow/stream_executor/platform/default/dso_loader.cc:44] Successfully opened dynamic library libnvinfer.so.6\n",
    "2022-05-07 16:14:33.943798: I tensorflow/stream_executor/platform/default/dso_loader.cc:44] Successfully opened dynamic library libnvinfer_plugin.so.6\n",
    "Using TensorFlow backend.\n",
    "Found 5694 validated image filenames.\n",
    "Found 1897 validated image filenames.\n",
    "2022-05-07 16:14:34.817903: I tensorflow/stream_executor/platform/default/dso_loader.cc:44] Successfully opened dynamic library libcuda.so.1\n",
    "2022-05-07 16:14:35.508245: I tensorflow/core/common_runtime/gpu/gpu_device.cc:1555] Found device 0 with properties: \n",
    "pciBusID: 0000:8b:00.0 name: Tesla V100-SXM2-32GB computeCapability: 7.0\n",
    "coreClock: 1.53GHz coreCount: 80 deviceMemorySize: 31.75GiB deviceMemoryBandwidth: 836.37GiB/s\n",
    "2022-05-07 16:14:35.508336: I tensorflow/stream_executor/platform/default/dso_loader.cc:44] Successfully opened dynamic library libcudart.so.10.1\n",
    "2022-05-07 16:14:35.508369: I tensorflow/stream_executor/platform/default/dso_loader.cc:44] Successfully opened dynamic library libcublas.so.10\n",
    "2022-05-07 16:14:35.510175: I tensorflow/stream_executor/platform/default/dso_loader.cc:44] Successfully opened dynamic library libcufft.so.10\n",
    "2022-05-07 16:14:35.510617: I tensorflow/stream_executor/platform/default/dso_loader.cc:44] Successfully opened dynamic library libcurand.so.10\n",
    "2022-05-07 16:14:35.512875: I tensorflow/stream_executor/platform/default/dso_loader.cc:44] Successfully opened dynamic library libcusolver.so.10\n",
    "2022-05-07 16:14:35.514105: I tensorflow/stream_executor/platform/default/dso_loader.cc:44] Successfully opened dynamic library libcusparse.so.10\n",
    "2022-05-07 16:14:35.514178: I tensorflow/stream_executor/platform/default/dso_loader.cc:44] Successfully opened dynamic library libcudnn.so.7\n",
    "2022-05-07 16:14:35.518600: I tensorflow/core/common_runtime/gpu/gpu_device.cc:1697] Adding visible gpu devices: 0\n",
    "2022-05-07 16:14:35.518956: I tensorflow/core/platform/cpu_feature_guard.cc:142] Your CPU supports instructions that this TensorFlow binary was not compiled to use: AVX2 AVX512F FMA\n",
    "2022-05-07 16:14:35.526305: I tensorflow/core/platform/profile_utils/cpu_utils.cc:94] CPU Frequency: 2099990000 Hz\n",
    "2022-05-07 16:14:35.526908: I tensorflow/compiler/xla/service/service.cc:168] XLA service 0x5dde350 initialized for platform Host (this does not guarantee that XLA will be used). Devices:\n",
    "2022-05-07 16:14:35.526942: I tensorflow/compiler/xla/service/service.cc:176]   StreamExecutor device (0): Host, Default Version\n",
    "2022-05-07 16:14:35.674656: I tensorflow/compiler/xla/service/service.cc:168] XLA service 0x5e64370 initialized for platform CUDA (this does not guarantee that XLA will be used). Devices:\n",
    "2022-05-07 16:14:35.674710: I tensorflow/compiler/xla/service/service.cc:176]   StreamExecutor device (0): Tesla V100-SXM2-32GB, Compute Capability 7.0\n",
    "2022-05-07 16:14:35.677540: I tensorflow/core/common_runtime/gpu/gpu_device.cc:1555] Found device 0 with properties: \n",
    "pciBusID: 0000:8b:00.0 name: Tesla V100-SXM2-32GB computeCapability: 7.0\n",
    "coreClock: 1.53GHz coreCount: 80 deviceMemorySize: 31.75GiB deviceMemoryBandwidth: 836.37GiB/s\n",
    "2022-05-07 16:14:35.677637: I tensorflow/stream_executor/platform/default/dso_loader.cc:44] Successfully opened dynamic library libcudart.so.10.1\n",
    "2022-05-07 16:14:35.677656: I tensorflow/stream_executor/platform/default/dso_loader.cc:44] Successfully opened dynamic library libcublas.so.10\n",
    "2022-05-07 16:14:35.677713: I tensorflow/stream_executor/platform/default/dso_loader.cc:44] Successfully opened dynamic library libcufft.so.10\n",
    "2022-05-07 16:14:35.677735: I tensorflow/stream_executor/platform/default/dso_loader.cc:44] Successfully opened dynamic library libcurand.so.10\n",
    "2022-05-07 16:14:35.677754: I tensorflow/stream_executor/platform/default/dso_loader.cc:44] Successfully opened dynamic library libcusolver.so.10\n",
    "2022-05-07 16:14:35.677771: I tensorflow/stream_executor/platform/default/dso_loader.cc:44] Successfully opened dynamic library libcusparse.so.10\n",
    "2022-05-07 16:14:35.677784: I tensorflow/stream_executor/platform/default/dso_loader.cc:44] Successfully opened dynamic library libcudnn.so.7\n",
    "2022-05-07 16:14:35.682936: I tensorflow/core/common_runtime/gpu/gpu_device.cc:1697] Adding visible gpu devices: 0\n",
    "2022-05-07 16:14:35.683038: I tensorflow/stream_executor/platform/default/dso_loader.cc:44] Successfully opened dynamic library libcudart.so.10.1\n",
    "2022-05-07 16:14:36.013533: I tensorflow/core/common_runtime/gpu/gpu_device.cc:1096] Device interconnect StreamExecutor with strength 1 edge matrix:\n",
    "2022-05-07 16:14:36.013593: I tensorflow/core/common_runtime/gpu/gpu_device.cc:1102]      0 \n",
    "2022-05-07 16:14:36.013603: I tensorflow/core/common_runtime/gpu/gpu_device.cc:1115] 0:   N \n",
    "2022-05-07 16:14:36.018241: I tensorflow/core/common_runtime/gpu/gpu_device.cc:1241] Created TensorFlow device (/job:localhost/replica:0/task:0/device:GPU:0 with 30509 MB memory) -> physical GPU (device: 0, name: Tesla V100-SXM2-32GB, pci bus id: 0000:8b:00.0, compute capability: 7.0)\n",
    "<class 'tensorflow.python.keras.engine.sequential.Sequential'>\n",
    "WARNING:tensorflow:sample_weight modes were coerced from\n",
    "  ...\n",
    "    to  \n",
    "  ['...']\n",
    "WARNING:tensorflow:sample_weight modes were coerced from\n",
    "  ...\n",
    "    to  \n",
    "  ['...']\n",
    "Train for 356 steps, validate for 5 steps\n",
    "Epoch 1/10\n",
    "2022-05-07 16:14:46.937225: I tensorflow/stream_executor/platform/default/dso_loader.cc:44] Successfully opened dynamic library libcublas.so.10\n",
    "2022-05-07 16:14:47.261717: I tensorflow/stream_executor/platform/default/dso_loader.cc:44] Successfully opened dynamic library libcudnn.so.7\n",
    "356/356 - 39s - loss: 207.7901 - mae: 10.9374 - val_loss: 342.9827 - val_mae: 12.8324\n",
    "Epoch 2/10\n",
    "2022-05-07 16:15:49.671734: W tensorflow/core/kernels/data/generator_dataset_op.cc:103] Error occurred when finalizing GeneratorDataset iterator: Cancelled: Operation was cancelled\n",
    "356/356 - 30s - loss: 140.0684 - mae: 9.1014 - val_loss: 315.6533 - val_mae: 12.7952\n",
    "Epoch 3/10\n",
    "2022-05-07 16:16:19.322469: W tensorflow/core/kernels/data/generator_dataset_op.cc:103] Error occurred when finalizing GeneratorDataset iterator: Cancelled: Operation was cancelled\n",
    "356/356 - 30s - loss: 110.7943 - mae: 8.0318 - val_loss: 157.3766 - val_mae: 10.2374\n",
    "Epoch 4/10\n",
    "2022-05-07 16:16:48.883909: W tensorflow/core/kernels/data/generator_dataset_op.cc:103] Error occurred when finalizing GeneratorDataset iterator: Cancelled: Operation was cancelled\n",
    "356/356 - 30s - loss: 91.7158 - mae: 7.3633 - val_loss: 118.9516 - val_mae: 8.4000\n",
    "Epoch 5/10\n",
    "2022-05-07 16:17:18.470846: W tensorflow/core/kernels/data/generator_dataset_op.cc:103] Error occurred when finalizing GeneratorDataset iterator: Cancelled: Operation was cancelled\n",
    "356/356 - 30s - loss: 81.8054 - mae: 6.8710 - val_loss: 111.4641 - val_mae: 8.1658\n",
    "Epoch 6/10\n",
    "2022-05-07 16:17:47.850735: W tensorflow/core/kernels/data/generator_dataset_op.cc:103] Error occurred when finalizing GeneratorDataset iterator: Cancelled: Operation was cancelled\n",
    "356/356 - 29s - loss: 66.9872 - mae: 6.2789 - val_loss: 80.5679 - val_mae: 6.3735\n",
    "Epoch 7/10\n",
    "2022-05-07 16:18:17.522993: W tensorflow/core/kernels/data/generator_dataset_op.cc:103] Error occurred when finalizing GeneratorDataset iterator: Cancelled: Operation was cancelled\n",
    "356/356 - 30s - loss: 56.9462 - mae: 5.7582 - val_loss: 143.7631 - val_mae: 8.8063\n",
    "Epoch 8/10\n",
    "2022-05-07 16:18:47.587892: W tensorflow/core/kernels/data/generator_dataset_op.cc:103] Error occurred when finalizing GeneratorDataset iterator: Cancelled: Operation was cancelled\n",
    "356/356 - 30s - loss: 48.5137 - mae: 5.3971 - val_loss: 73.5741 - val_mae: 6.7104\n",
    "Epoch 9/10\n",
    "2022-05-07 16:19:17.442290: W tensorflow/core/kernels/data/generator_dataset_op.cc:103] Error occurred when finalizing GeneratorDataset iterator: Cancelled: Operation was cancelled\n",
    "356/356 - 30s - loss: 41.9054 - mae: 4.9762 - val_loss: 76.8642 - val_mae: 6.9670\n",
    "Epoch 10/10\n",
    "2022-05-07 16:19:47.228318: W tensorflow/core/kernels/data/generator_dataset_op.cc:103] Error occurred when finalizing GeneratorDataset iterator: Cancelled: Operation was cancelled\n",
    "356/356 - 30s - loss: 35.3935 - mae: 4.5972 - val_loss: 80.0612 - val_mae: 6.6025\n",
    "2022-05-07 16:19:47.752115: W tensorflow/core/kernels/data/generator_dataset_op.cc:103] Error occurred when finalizing GeneratorDataset iterator: Cancelled: Operation was cancelled\n",
    "WARNING:tensorflow:sample_weight modes were coerced from\n",
    "  ...\n",
    "    to  \n",
    "  ['...']\n",
    "119/119 - 10s - loss: 109.6772 - mae: 7.7775\n",
    "Test MAE: 7.7775\n",
    "\n",
    "\n",
    "\n",
    "```"
   ]
  },
  {
   "cell_type": "markdown",
   "metadata": {},
   "source": [
    "## Анализ обученной модели"
   ]
  },
  {
   "cell_type": "markdown",
   "metadata": {},
   "source": [
    "В ходе обучения модели применена архитектура ResNet.  \n",
    "\n",
    "Оценка качества модели проведена метрикой MAE.\n",
    "\n",
    "Подбором значений аргументов удалось получить модель MAE = 7,78:\n",
    "\n",
    "- размер шага learning rate алгоритма Adam lr=0.0005\n",
    "- размер батча batch_size - количество образцов на обновление градиента = 10\n",
    "\n",
    "Проверено множество вариантов, думаю возможно улучшение качества модели."
   ]
  }
 ],
 "metadata": {
  "ExecuteTimeLog": [
   {
    "duration": 186,
    "start_time": "2022-04-30T11:01:25.130Z"
   },
   {
    "duration": 4,
    "start_time": "2022-04-30T11:01:32.492Z"
   },
   {
    "duration": 138525,
    "start_time": "2022-04-30T11:01:59.332Z"
   },
   {
    "duration": 48371,
    "start_time": "2022-04-30T11:04:17.860Z"
   },
   {
    "duration": 26,
    "start_time": "2022-04-30T11:05:06.233Z"
   },
   {
    "duration": 338,
    "start_time": "2022-04-30T11:05:06.262Z"
   },
   {
    "duration": 9,
    "start_time": "2022-04-30T11:05:06.601Z"
   },
   {
    "duration": 7,
    "start_time": "2022-04-30T11:05:06.612Z"
   },
   {
    "duration": 152526,
    "start_time": "2022-05-01T05:25:40.115Z"
   },
   {
    "duration": 89733,
    "start_time": "2022-05-01T05:28:12.643Z"
   },
   {
    "duration": 15,
    "start_time": "2022-05-01T05:29:42.377Z"
   },
   {
    "duration": 181,
    "start_time": "2022-05-01T05:29:42.394Z"
   },
   {
    "duration": 5,
    "start_time": "2022-05-01T05:29:42.577Z"
   },
   {
    "duration": 16,
    "start_time": "2022-05-01T05:29:42.584Z"
   },
   {
    "duration": 14,
    "start_time": "2022-05-01T05:30:57.085Z"
   },
   {
    "duration": 7,
    "start_time": "2022-05-01T05:31:20.796Z"
   },
   {
    "duration": 228,
    "start_time": "2022-05-01T05:33:39.265Z"
   },
   {
    "duration": 13,
    "start_time": "2022-05-01T05:33:54.724Z"
   },
   {
    "duration": 152,
    "start_time": "2022-05-01T05:36:52.284Z"
   },
   {
    "duration": 9,
    "start_time": "2022-05-01T05:37:11.735Z"
   },
   {
    "duration": 13,
    "start_time": "2022-05-01T05:37:43.334Z"
   },
   {
    "duration": 13,
    "start_time": "2022-05-01T05:56:46.445Z"
   },
   {
    "duration": 13,
    "start_time": "2022-05-01T05:56:58.395Z"
   },
   {
    "duration": 3,
    "start_time": "2022-05-01T05:57:14.525Z"
   },
   {
    "duration": 92728,
    "start_time": "2022-05-01T05:57:15.035Z"
   },
   {
    "duration": 11,
    "start_time": "2022-05-01T05:58:47.766Z"
   },
   {
    "duration": 184,
    "start_time": "2022-05-01T05:58:47.779Z"
   },
   {
    "duration": 6,
    "start_time": "2022-05-01T05:58:47.966Z"
   },
   {
    "duration": 8,
    "start_time": "2022-05-01T05:58:47.974Z"
   },
   {
    "duration": 26,
    "start_time": "2022-05-01T05:58:47.983Z"
   },
   {
    "duration": 47,
    "start_time": "2022-05-01T13:51:03.339Z"
   },
   {
    "duration": 100283,
    "start_time": "2022-05-01T13:51:08.516Z"
   },
   {
    "duration": 37835,
    "start_time": "2022-05-01T13:52:48.801Z"
   },
   {
    "duration": 15,
    "start_time": "2022-05-01T13:53:26.638Z"
   },
   {
    "duration": 213,
    "start_time": "2022-05-01T13:53:26.655Z"
   },
   {
    "duration": 7,
    "start_time": "2022-05-01T13:53:26.869Z"
   },
   {
    "duration": 8,
    "start_time": "2022-05-01T13:53:26.877Z"
   },
   {
    "duration": 230,
    "start_time": "2022-05-01T13:53:26.886Z"
   },
   {
    "duration": 19,
    "start_time": "2022-05-01T16:08:41.400Z"
   },
   {
    "duration": 10,
    "start_time": "2022-05-01T16:09:05.401Z"
   },
   {
    "duration": 20,
    "start_time": "2022-05-01T16:09:27.353Z"
   },
   {
    "duration": 21,
    "start_time": "2022-05-01T16:09:41.548Z"
   },
   {
    "duration": 18,
    "start_time": "2022-05-01T16:10:14.400Z"
   },
   {
    "duration": 18,
    "start_time": "2022-05-01T16:11:22.845Z"
   },
   {
    "duration": 113,
    "start_time": "2022-05-01T16:11:31.845Z"
   },
   {
    "duration": 9,
    "start_time": "2022-05-01T16:12:34.892Z"
   },
   {
    "duration": 106,
    "start_time": "2022-05-01T16:12:49.270Z"
   },
   {
    "duration": 13,
    "start_time": "2022-05-01T16:12:54.112Z"
   },
   {
    "duration": 8,
    "start_time": "2022-05-01T16:13:08.777Z"
   },
   {
    "duration": 8,
    "start_time": "2022-05-01T16:14:15.374Z"
   },
   {
    "duration": 10,
    "start_time": "2022-05-01T16:14:26.192Z"
   },
   {
    "duration": 18,
    "start_time": "2022-05-01T16:14:34.061Z"
   },
   {
    "duration": 5,
    "start_time": "2022-05-01T16:14:44.689Z"
   },
   {
    "duration": 6,
    "start_time": "2022-05-01T16:14:49.945Z"
   },
   {
    "duration": 6,
    "start_time": "2022-05-01T16:14:54.234Z"
   },
   {
    "duration": 10,
    "start_time": "2022-05-01T16:15:00.240Z"
   },
   {
    "duration": 9305,
    "start_time": "2022-05-01T17:08:51.419Z"
   },
   {
    "duration": 0,
    "start_time": "2022-05-01T17:09:00.726Z"
   },
   {
    "duration": 0,
    "start_time": "2022-05-01T17:09:00.727Z"
   },
   {
    "duration": 0,
    "start_time": "2022-05-01T17:09:00.729Z"
   },
   {
    "duration": 0,
    "start_time": "2022-05-01T17:09:00.731Z"
   },
   {
    "duration": 0,
    "start_time": "2022-05-01T17:09:00.732Z"
   },
   {
    "duration": 0,
    "start_time": "2022-05-01T17:09:00.733Z"
   },
   {
    "duration": 96866,
    "start_time": "2022-05-01T17:09:07.784Z"
   },
   {
    "duration": 37658,
    "start_time": "2022-05-01T17:10:44.652Z"
   },
   {
    "duration": 18,
    "start_time": "2022-05-01T17:11:22.312Z"
   },
   {
    "duration": 221,
    "start_time": "2022-05-01T17:11:22.333Z"
   },
   {
    "duration": 8,
    "start_time": "2022-05-01T17:11:22.556Z"
   },
   {
    "duration": 9,
    "start_time": "2022-05-01T17:11:22.565Z"
   },
   {
    "duration": 4,
    "start_time": "2022-05-01T17:25:00.798Z"
   },
   {
    "duration": 155,
    "start_time": "2022-05-01T17:25:31.790Z"
   },
   {
    "duration": 14,
    "start_time": "2022-05-01T17:25:38.938Z"
   },
   {
    "duration": 5,
    "start_time": "2022-05-01T17:25:48.253Z"
   },
   {
    "duration": 15,
    "start_time": "2022-05-01T17:51:00.047Z"
   },
   {
    "duration": 18,
    "start_time": "2022-05-01T17:51:11.036Z"
   },
   {
    "duration": 15,
    "start_time": "2022-05-01T17:51:21.863Z"
   },
   {
    "duration": 13,
    "start_time": "2022-05-01T17:56:14.073Z"
   },
   {
    "duration": 13,
    "start_time": "2022-05-01T17:56:19.257Z"
   },
   {
    "duration": 5,
    "start_time": "2022-05-01T17:56:35.743Z"
   },
   {
    "duration": 15,
    "start_time": "2022-05-01T17:58:02.329Z"
   },
   {
    "duration": 13,
    "start_time": "2022-05-01T17:58:43.049Z"
   },
   {
    "duration": 13,
    "start_time": "2022-05-01T17:58:51.606Z"
   },
   {
    "duration": 404,
    "start_time": "2022-05-01T17:59:14.098Z"
   },
   {
    "duration": 357,
    "start_time": "2022-05-01T17:59:31.596Z"
   },
   {
    "duration": 15,
    "start_time": "2022-05-01T18:20:23.305Z"
   },
   {
    "duration": 12,
    "start_time": "2022-05-01T18:20:45.468Z"
   },
   {
    "duration": 4,
    "start_time": "2022-05-01T18:20:52.145Z"
   },
   {
    "duration": 112939,
    "start_time": "2022-05-01T18:23:31.768Z"
   },
   {
    "duration": 40451,
    "start_time": "2022-05-01T18:25:24.709Z"
   },
   {
    "duration": 16,
    "start_time": "2022-05-01T18:26:05.161Z"
   },
   {
    "duration": 202,
    "start_time": "2022-05-01T18:26:05.179Z"
   },
   {
    "duration": 6,
    "start_time": "2022-05-01T18:26:05.382Z"
   },
   {
    "duration": 7,
    "start_time": "2022-05-01T18:26:05.390Z"
   },
   {
    "duration": 269,
    "start_time": "2022-05-01T18:26:05.399Z"
   },
   {
    "duration": 14,
    "start_time": "2022-05-01T18:27:22.056Z"
   },
   {
    "duration": 404,
    "start_time": "2022-05-01T18:27:35.525Z"
   },
   {
    "duration": 15,
    "start_time": "2022-05-01T18:27:46.531Z"
   },
   {
    "duration": 354,
    "start_time": "2022-05-01T18:27:52.583Z"
   },
   {
    "duration": 369,
    "start_time": "2022-05-01T18:28:01.946Z"
   },
   {
    "duration": 326,
    "start_time": "2022-05-01T18:28:34.124Z"
   },
   {
    "duration": 316,
    "start_time": "2022-05-01T18:28:44.122Z"
   },
   {
    "duration": 350,
    "start_time": "2022-05-01T18:28:58.278Z"
   },
   {
    "duration": 394,
    "start_time": "2022-05-01T18:29:40.637Z"
   },
   {
    "duration": 573,
    "start_time": "2022-05-01T18:29:48.651Z"
   },
   {
    "duration": 19,
    "start_time": "2022-05-01T18:30:18.526Z"
   },
   {
    "duration": 15,
    "start_time": "2022-05-01T18:30:24.465Z"
   },
   {
    "duration": 16,
    "start_time": "2022-05-01T18:30:43.879Z"
   },
   {
    "duration": 105,
    "start_time": "2022-05-01T18:30:54.669Z"
   },
   {
    "duration": 837,
    "start_time": "2022-05-01T18:31:00.385Z"
   },
   {
    "duration": 387,
    "start_time": "2022-05-01T18:31:07.578Z"
   },
   {
    "duration": 427,
    "start_time": "2022-05-01T18:31:14.822Z"
   },
   {
    "duration": 504,
    "start_time": "2022-05-01T18:31:25.844Z"
   },
   {
    "duration": 396,
    "start_time": "2022-05-01T18:31:35.164Z"
   },
   {
    "duration": 540,
    "start_time": "2022-05-01T18:31:40.573Z"
   },
   {
    "duration": 476,
    "start_time": "2022-05-01T18:31:50.047Z"
   },
   {
    "duration": 22,
    "start_time": "2022-05-01T18:32:01.815Z"
   },
   {
    "duration": 607,
    "start_time": "2022-05-01T18:33:40.168Z"
   },
   {
    "duration": 505,
    "start_time": "2022-05-01T18:33:46.538Z"
   },
   {
    "duration": 827,
    "start_time": "2022-05-01T18:33:51.263Z"
   },
   {
    "duration": 823,
    "start_time": "2022-05-01T18:33:59.138Z"
   },
   {
    "duration": 984,
    "start_time": "2022-05-01T18:34:04.605Z"
   },
   {
    "duration": 631,
    "start_time": "2022-05-01T18:34:12.809Z"
   },
   {
    "duration": 512,
    "start_time": "2022-05-01T18:34:16.905Z"
   },
   {
    "duration": 620,
    "start_time": "2022-05-01T18:34:26.954Z"
   },
   {
    "duration": 527,
    "start_time": "2022-05-01T18:50:44.901Z"
   },
   {
    "duration": 503,
    "start_time": "2022-05-01T18:51:09.174Z"
   },
   {
    "duration": 744,
    "start_time": "2022-05-01T18:51:25.210Z"
   },
   {
    "duration": 415,
    "start_time": "2022-05-01T18:51:34.071Z"
   },
   {
    "duration": 559,
    "start_time": "2022-05-01T18:51:42.916Z"
   },
   {
    "duration": 662,
    "start_time": "2022-05-01T18:51:47.549Z"
   },
   {
    "duration": 687,
    "start_time": "2022-05-01T18:51:57.404Z"
   },
   {
    "duration": 552,
    "start_time": "2022-05-01T18:52:13.906Z"
   },
   {
    "duration": 727,
    "start_time": "2022-05-01T18:53:32.543Z"
   },
   {
    "duration": 101,
    "start_time": "2022-05-01T18:53:51.916Z"
   },
   {
    "duration": 310,
    "start_time": "2022-05-01T18:53:56.784Z"
   },
   {
    "duration": 304,
    "start_time": "2022-05-01T18:54:04.572Z"
   },
   {
    "duration": 295,
    "start_time": "2022-05-01T18:54:11.183Z"
   },
   {
    "duration": 324,
    "start_time": "2022-05-01T18:54:17.080Z"
   },
   {
    "duration": 448,
    "start_time": "2022-05-01T18:54:23.334Z"
   },
   {
    "duration": 816,
    "start_time": "2022-05-01T18:54:30.384Z"
   },
   {
    "duration": 812,
    "start_time": "2022-05-01T18:54:40.925Z"
   },
   {
    "duration": 738,
    "start_time": "2022-05-01T18:54:47.178Z"
   },
   {
    "duration": 816,
    "start_time": "2022-05-01T18:55:04.273Z"
   },
   {
    "duration": 798,
    "start_time": "2022-05-01T18:55:21.129Z"
   },
   {
    "duration": 813,
    "start_time": "2022-05-01T18:55:31.300Z"
   },
   {
    "duration": 819,
    "start_time": "2022-05-01T18:55:36.312Z"
   },
   {
    "duration": 721,
    "start_time": "2022-05-01T18:55:42.989Z"
   },
   {
    "duration": 1000,
    "start_time": "2022-05-01T18:55:59.234Z"
   },
   {
    "duration": 553,
    "start_time": "2022-05-01T18:56:14.200Z"
   },
   {
    "duration": 372,
    "start_time": "2022-05-01T18:56:14.754Z"
   },
   {
    "duration": 390,
    "start_time": "2022-05-01T18:56:15.128Z"
   },
   {
    "duration": 52,
    "start_time": "2022-05-02T03:21:22.435Z"
   },
   {
    "duration": 95190,
    "start_time": "2022-05-02T03:21:28.114Z"
   },
   {
    "duration": 39179,
    "start_time": "2022-05-02T03:23:03.306Z"
   },
   {
    "duration": 19,
    "start_time": "2022-05-02T03:23:42.486Z"
   },
   {
    "duration": 224,
    "start_time": "2022-05-02T03:23:42.507Z"
   },
   {
    "duration": 7,
    "start_time": "2022-05-02T03:23:42.733Z"
   },
   {
    "duration": 9,
    "start_time": "2022-05-02T03:23:42.741Z"
   },
   {
    "duration": 166518,
    "start_time": "2022-05-02T06:16:53.356Z"
   },
   {
    "duration": 89076,
    "start_time": "2022-05-02T06:19:39.877Z"
   },
   {
    "duration": 24,
    "start_time": "2022-05-02T06:21:08.955Z"
   },
   {
    "duration": 335,
    "start_time": "2022-05-02T06:21:08.982Z"
   },
   {
    "duration": 10,
    "start_time": "2022-05-02T06:21:09.319Z"
   },
   {
    "duration": 12,
    "start_time": "2022-05-02T06:21:09.331Z"
   },
   {
    "duration": 1961,
    "start_time": "2022-05-02T06:21:09.345Z"
   },
   {
    "duration": 383,
    "start_time": "2022-05-02T06:21:11.308Z"
   },
   {
    "duration": 19,
    "start_time": "2022-05-02T06:58:59.418Z"
   },
   {
    "duration": 18,
    "start_time": "2022-05-02T06:59:09.585Z"
   },
   {
    "duration": 734,
    "start_time": "2022-05-02T07:05:13.058Z"
   },
   {
    "duration": 741,
    "start_time": "2022-05-02T07:08:27.052Z"
   },
   {
    "duration": 941,
    "start_time": "2022-05-02T07:08:45.133Z"
   },
   {
    "duration": 1194,
    "start_time": "2022-05-02T07:09:03.981Z"
   },
   {
    "duration": 196,
    "start_time": "2022-05-02T07:11:10.733Z"
   },
   {
    "duration": 5125,
    "start_time": "2022-05-02T07:11:20.487Z"
   },
   {
    "duration": 210,
    "start_time": "2022-05-02T08:42:05.523Z"
   },
   {
    "duration": 755,
    "start_time": "2022-05-02T08:42:10.753Z"
   },
   {
    "duration": 4875,
    "start_time": "2022-05-02T08:42:22.297Z"
   },
   {
    "duration": 4802,
    "start_time": "2022-05-02T08:42:37.186Z"
   },
   {
    "duration": 4878,
    "start_time": "2022-05-02T08:42:48.762Z"
   },
   {
    "duration": 5222,
    "start_time": "2022-05-02T08:43:01.042Z"
   },
   {
    "duration": 711,
    "start_time": "2022-05-02T08:43:24.274Z"
   },
   {
    "duration": 719,
    "start_time": "2022-05-02T08:44:17.355Z"
   },
   {
    "duration": 711,
    "start_time": "2022-05-02T08:44:36.709Z"
   },
   {
    "duration": 719,
    "start_time": "2022-05-02T08:45:14.566Z"
   },
   {
    "duration": 719,
    "start_time": "2022-05-02T08:45:25.236Z"
   },
   {
    "duration": 886,
    "start_time": "2022-05-02T08:45:52.460Z"
   },
   {
    "duration": 883,
    "start_time": "2022-05-02T08:46:07.773Z"
   },
   {
    "duration": 749,
    "start_time": "2022-05-02T08:46:17.766Z"
   },
   {
    "duration": 18,
    "start_time": "2022-05-02T08:47:40.055Z"
   },
   {
    "duration": 17,
    "start_time": "2022-05-02T08:48:12.999Z"
   },
   {
    "duration": 968,
    "start_time": "2022-05-02T08:48:25.984Z"
   },
   {
    "duration": 1884,
    "start_time": "2022-05-02T08:48:33.424Z"
   },
   {
    "duration": 1907,
    "start_time": "2022-05-02T08:48:41.808Z"
   },
   {
    "duration": 23,
    "start_time": "2022-05-02T08:48:50.879Z"
   },
   {
    "duration": 18,
    "start_time": "2022-05-02T08:48:59.904Z"
   },
   {
    "duration": 920,
    "start_time": "2022-05-02T08:49:07.321Z"
   },
   {
    "duration": 393,
    "start_time": "2022-05-02T08:49:16.691Z"
   },
   {
    "duration": 523,
    "start_time": "2022-05-02T08:49:23.584Z"
   },
   {
    "duration": 592,
    "start_time": "2022-05-02T08:49:29.233Z"
   },
   {
    "duration": 606,
    "start_time": "2022-05-02T08:49:35.273Z"
   },
   {
    "duration": 620,
    "start_time": "2022-05-02T08:49:40.977Z"
   },
   {
    "duration": 618,
    "start_time": "2022-05-02T08:49:47.129Z"
   },
   {
    "duration": 397,
    "start_time": "2022-05-02T08:49:55.209Z"
   },
   {
    "duration": 395,
    "start_time": "2022-05-02T08:50:02.385Z"
   },
   {
    "duration": 633,
    "start_time": "2022-05-02T08:50:08.386Z"
   },
   {
    "duration": 880,
    "start_time": "2022-05-02T08:50:44.642Z"
   },
   {
    "duration": 513,
    "start_time": "2022-05-02T08:51:10.347Z"
   },
   {
    "duration": 7489,
    "start_time": "2022-05-02T10:48:19.405Z"
   },
   {
    "duration": 3090,
    "start_time": "2022-05-02T10:48:55.742Z"
   },
   {
    "duration": 11041,
    "start_time": "2022-05-02T10:49:16.671Z"
   },
   {
    "duration": 1033,
    "start_time": "2022-05-02T10:50:04.975Z"
   },
   {
    "duration": 83932,
    "start_time": "2022-05-03T06:19:56.921Z"
   },
   {
    "duration": 45155,
    "start_time": "2022-05-03T06:21:20.855Z"
   },
   {
    "duration": 18,
    "start_time": "2022-05-03T06:22:06.013Z"
   },
   {
    "duration": 204,
    "start_time": "2022-05-03T06:22:06.033Z"
   },
   {
    "duration": 12,
    "start_time": "2022-05-03T06:22:06.239Z"
   },
   {
    "duration": 10,
    "start_time": "2022-05-03T06:22:06.252Z"
   },
   {
    "duration": 1081,
    "start_time": "2022-05-03T06:22:06.263Z"
   },
   {
    "duration": 84763,
    "start_time": "2022-05-03T10:21:52.724Z"
   },
   {
    "duration": 41974,
    "start_time": "2022-05-03T10:23:17.489Z"
   },
   {
    "duration": 19,
    "start_time": "2022-05-03T10:23:59.466Z"
   },
   {
    "duration": 185,
    "start_time": "2022-05-03T10:23:59.488Z"
   },
   {
    "duration": 6,
    "start_time": "2022-05-03T10:23:59.675Z"
   },
   {
    "duration": 7,
    "start_time": "2022-05-03T10:23:59.683Z"
   },
   {
    "duration": 562,
    "start_time": "2022-05-03T10:23:59.691Z"
   },
   {
    "duration": 165,
    "start_time": "2022-05-03T10:27:57.982Z"
   },
   {
    "duration": 648,
    "start_time": "2022-05-03T10:30:43.168Z"
   },
   {
    "duration": 7,
    "start_time": "2022-05-03T10:30:52.287Z"
   },
   {
    "duration": 42900,
    "start_time": "2022-05-03T10:30:52.711Z"
   },
   {
    "duration": 14,
    "start_time": "2022-05-03T10:31:35.614Z"
   },
   {
    "duration": 159,
    "start_time": "2022-05-03T10:31:35.630Z"
   },
   {
    "duration": 243,
    "start_time": "2022-05-03T10:32:53.451Z"
   },
   {
    "duration": 377,
    "start_time": "2022-05-03T10:33:15.530Z"
   },
   {
    "duration": 453,
    "start_time": "2022-05-03T10:33:21.710Z"
   },
   {
    "duration": 184,
    "start_time": "2022-05-03T10:33:27.873Z"
   },
   {
    "duration": 163,
    "start_time": "2022-05-03T10:33:50.234Z"
   },
   {
    "duration": 249,
    "start_time": "2022-05-03T10:34:23.603Z"
   },
   {
    "duration": 256,
    "start_time": "2022-05-03T10:34:31.691Z"
   },
   {
    "duration": 6,
    "start_time": "2022-05-03T10:35:23.116Z"
   },
   {
    "duration": 11,
    "start_time": "2022-05-03T10:37:55.311Z"
   },
   {
    "duration": 9,
    "start_time": "2022-05-03T10:39:41.965Z"
   },
   {
    "duration": 14,
    "start_time": "2022-05-03T10:39:45.904Z"
   },
   {
    "duration": 195,
    "start_time": "2022-05-03T10:39:49.488Z"
   },
   {
    "duration": 162,
    "start_time": "2022-05-03T10:43:45.252Z"
   },
   {
    "duration": 162,
    "start_time": "2022-05-03T10:44:11.638Z"
   },
   {
    "duration": 284,
    "start_time": "2022-05-03T10:44:20.742Z"
   },
   {
    "duration": 174,
    "start_time": "2022-05-03T10:46:07.143Z"
   },
   {
    "duration": 163,
    "start_time": "2022-05-03T10:48:51.331Z"
   },
   {
    "duration": 168,
    "start_time": "2022-05-03T10:48:58.853Z"
   },
   {
    "duration": 171,
    "start_time": "2022-05-03T10:49:26.539Z"
   },
   {
    "duration": 159,
    "start_time": "2022-05-03T10:49:45.187Z"
   },
   {
    "duration": 143,
    "start_time": "2022-05-03T10:52:45.686Z"
   },
   {
    "duration": 138,
    "start_time": "2022-05-03T10:53:09.302Z"
   },
   {
    "duration": 141,
    "start_time": "2022-05-03T10:53:30.695Z"
   },
   {
    "duration": 365,
    "start_time": "2022-05-03T10:54:07.344Z"
   },
   {
    "duration": 181,
    "start_time": "2022-05-03T10:55:17.568Z"
   },
   {
    "duration": 205,
    "start_time": "2022-05-03T10:55:49.353Z"
   },
   {
    "duration": 219,
    "start_time": "2022-05-03T10:57:58.351Z"
   },
   {
    "duration": 230,
    "start_time": "2022-05-03T10:58:21.220Z"
   },
   {
    "duration": 83601,
    "start_time": "2022-05-03T10:59:00.179Z"
   },
   {
    "duration": 42559,
    "start_time": "2022-05-03T11:00:23.783Z"
   },
   {
    "duration": 16,
    "start_time": "2022-05-03T11:01:06.343Z"
   },
   {
    "duration": 6,
    "start_time": "2022-05-03T11:01:06.361Z"
   },
   {
    "duration": 11,
    "start_time": "2022-05-03T11:01:06.369Z"
   },
   {
    "duration": 268,
    "start_time": "2022-05-03T11:01:06.382Z"
   },
   {
    "duration": 9,
    "start_time": "2022-05-03T11:52:45.935Z"
   },
   {
    "duration": 7,
    "start_time": "2022-05-03T11:52:46.703Z"
   },
   {
    "duration": 733,
    "start_time": "2022-05-03T11:52:47.347Z"
   },
   {
    "duration": 44,
    "start_time": "2022-05-04T16:53:26.163Z"
   },
   {
    "duration": 162016,
    "start_time": "2022-05-04T16:53:34.650Z"
   },
   {
    "duration": 95889,
    "start_time": "2022-05-04T16:56:16.668Z"
   },
   {
    "duration": 15,
    "start_time": "2022-05-04T16:57:52.559Z"
   },
   {
    "duration": 5,
    "start_time": "2022-05-04T16:57:52.576Z"
   },
   {
    "duration": 14,
    "start_time": "2022-05-04T16:57:52.583Z"
   },
   {
    "duration": 229,
    "start_time": "2022-05-04T16:57:52.599Z"
   },
   {
    "duration": 6,
    "start_time": "2022-05-04T16:57:52.830Z"
   },
   {
    "duration": 8,
    "start_time": "2022-05-04T16:57:52.837Z"
   },
   {
    "duration": 1670,
    "start_time": "2022-05-04T16:57:52.847Z"
   }
  ],
  "kernelspec": {
   "display_name": "Python 3 (ipykernel)",
   "language": "python",
   "name": "python3"
  },
  "language_info": {
   "codemirror_mode": {
    "name": "ipython",
    "version": 3
   },
   "file_extension": ".py",
   "mimetype": "text/x-python",
   "name": "python",
   "nbconvert_exporter": "python",
   "pygments_lexer": "ipython3",
   "version": "3.9.5"
  },
  "toc": {
   "base_numbering": 1,
   "nav_menu": {},
   "number_sections": true,
   "sideBar": true,
   "skip_h1_title": true,
   "title_cell": "Table of Contents",
   "title_sidebar": "Contents",
   "toc_cell": false,
   "toc_position": {},
   "toc_section_display": true,
   "toc_window_display": false
  }
 },
 "nbformat": 4,
 "nbformat_minor": 2
}
