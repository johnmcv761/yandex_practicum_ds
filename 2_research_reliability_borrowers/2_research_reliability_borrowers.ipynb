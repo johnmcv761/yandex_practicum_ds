{
 "cells": [
  {
   "cell_type": "markdown",
   "metadata": {},
   "source": [
    "# Исследование надёжности заёмщиков\n",
    "\n",
    "Заказчик — кредитный отдел банка. Нужно разобраться, влияет ли семейное положение и количество детей клиента на факт погашения кредита в срок. Входные данные от банка — статистика о платёжеспособности клиентов.\n",
    "\n",
    "Результаты исследования будут учтены при построении модели **кредитного скоринга** — специальной системы, которая оценивает способность потенциального заёмщика вернуть кредит банку."
   ]
  },
  {
   "cell_type": "markdown",
   "metadata": {},
   "source": [
    "## Данные"
   ]
  },
  {
   "cell_type": "code",
   "execution_count": 5,
   "metadata": {},
   "outputs": [
    {
     "data": {
      "text/html": [
       "<div>\n",
       "<style scoped>\n",
       "    .dataframe tbody tr th:only-of-type {\n",
       "        vertical-align: middle;\n",
       "    }\n",
       "\n",
       "    .dataframe tbody tr th {\n",
       "        vertical-align: top;\n",
       "    }\n",
       "\n",
       "    .dataframe thead th {\n",
       "        text-align: right;\n",
       "    }\n",
       "</style>\n",
       "<table border=\"1\" class=\"dataframe\">\n",
       "  <thead>\n",
       "    <tr style=\"text-align: right;\">\n",
       "      <th></th>\n",
       "      <th>children</th>\n",
       "      <th>days_employed</th>\n",
       "      <th>dob_years</th>\n",
       "      <th>education</th>\n",
       "      <th>education_id</th>\n",
       "      <th>family_status</th>\n",
       "      <th>family_status_id</th>\n",
       "      <th>gender</th>\n",
       "      <th>income_type</th>\n",
       "      <th>debt</th>\n",
       "      <th>total_income</th>\n",
       "      <th>purpose</th>\n",
       "    </tr>\n",
       "  </thead>\n",
       "  <tbody>\n",
       "    <tr>\n",
       "      <th>0</th>\n",
       "      <td>1</td>\n",
       "      <td>-8437.673028</td>\n",
       "      <td>42</td>\n",
       "      <td>высшее</td>\n",
       "      <td>0</td>\n",
       "      <td>женат / замужем</td>\n",
       "      <td>0</td>\n",
       "      <td>F</td>\n",
       "      <td>сотрудник</td>\n",
       "      <td>0</td>\n",
       "      <td>253875.639453</td>\n",
       "      <td>покупка жилья</td>\n",
       "    </tr>\n",
       "    <tr>\n",
       "      <th>1</th>\n",
       "      <td>1</td>\n",
       "      <td>-4024.803754</td>\n",
       "      <td>36</td>\n",
       "      <td>среднее</td>\n",
       "      <td>1</td>\n",
       "      <td>женат / замужем</td>\n",
       "      <td>0</td>\n",
       "      <td>F</td>\n",
       "      <td>сотрудник</td>\n",
       "      <td>0</td>\n",
       "      <td>112080.014102</td>\n",
       "      <td>приобретение автомобиля</td>\n",
       "    </tr>\n",
       "    <tr>\n",
       "      <th>2</th>\n",
       "      <td>0</td>\n",
       "      <td>-5623.422610</td>\n",
       "      <td>33</td>\n",
       "      <td>Среднее</td>\n",
       "      <td>1</td>\n",
       "      <td>женат / замужем</td>\n",
       "      <td>0</td>\n",
       "      <td>M</td>\n",
       "      <td>сотрудник</td>\n",
       "      <td>0</td>\n",
       "      <td>145885.952297</td>\n",
       "      <td>покупка жилья</td>\n",
       "    </tr>\n",
       "    <tr>\n",
       "      <th>3</th>\n",
       "      <td>3</td>\n",
       "      <td>-4124.747207</td>\n",
       "      <td>32</td>\n",
       "      <td>среднее</td>\n",
       "      <td>1</td>\n",
       "      <td>женат / замужем</td>\n",
       "      <td>0</td>\n",
       "      <td>M</td>\n",
       "      <td>сотрудник</td>\n",
       "      <td>0</td>\n",
       "      <td>267628.550329</td>\n",
       "      <td>дополнительное образование</td>\n",
       "    </tr>\n",
       "    <tr>\n",
       "      <th>4</th>\n",
       "      <td>0</td>\n",
       "      <td>340266.072047</td>\n",
       "      <td>53</td>\n",
       "      <td>среднее</td>\n",
       "      <td>1</td>\n",
       "      <td>гражданский брак</td>\n",
       "      <td>1</td>\n",
       "      <td>F</td>\n",
       "      <td>пенсионер</td>\n",
       "      <td>0</td>\n",
       "      <td>158616.077870</td>\n",
       "      <td>сыграть свадьбу</td>\n",
       "    </tr>\n",
       "  </tbody>\n",
       "</table>\n",
       "</div>"
      ],
      "text/plain": [
       "   children  days_employed  dob_years education  education_id  \\\n",
       "0         1   -8437.673028         42    высшее             0   \n",
       "1         1   -4024.803754         36   среднее             1   \n",
       "2         0   -5623.422610         33   Среднее             1   \n",
       "3         3   -4124.747207         32   среднее             1   \n",
       "4         0  340266.072047         53   среднее             1   \n",
       "\n",
       "      family_status  family_status_id gender income_type  debt   total_income  \\\n",
       "0   женат / замужем                 0      F   сотрудник     0  253875.639453   \n",
       "1   женат / замужем                 0      F   сотрудник     0  112080.014102   \n",
       "2   женат / замужем                 0      M   сотрудник     0  145885.952297   \n",
       "3   женат / замужем                 0      M   сотрудник     0  267628.550329   \n",
       "4  гражданский брак                 1      F   пенсионер     0  158616.077870   \n",
       "\n",
       "                      purpose  \n",
       "0               покупка жилья  \n",
       "1     приобретение автомобиля  \n",
       "2               покупка жилья  \n",
       "3  дополнительное образование  \n",
       "4             сыграть свадьбу  "
      ]
     },
     "metadata": {},
     "output_type": "display_data"
    }
   ],
   "source": [
    "import pandas as pd\n",
    "data = pd.read_csv('/datasets/data.csv')\n",
    "display(data.head())"
   ]
  },
  {
   "cell_type": "markdown",
   "metadata": {},
   "source": [
    "<div class=\"alert alert-block alert-info\">\n",
    "    \n",
    "общая информация    \n",
    "    \n",
    "</div>"
   ]
  },
  {
   "cell_type": "code",
   "execution_count": 6,
   "metadata": {},
   "outputs": [
    {
     "name": "stdout",
     "output_type": "stream",
     "text": [
      "<class 'pandas.core.frame.DataFrame'>\n",
      "RangeIndex: 21525 entries, 0 to 21524\n",
      "Data columns (total 12 columns):\n",
      " #   Column            Non-Null Count  Dtype  \n",
      "---  ------            --------------  -----  \n",
      " 0   children          21525 non-null  int64  \n",
      " 1   days_employed     19351 non-null  float64\n",
      " 2   dob_years         21525 non-null  int64  \n",
      " 3   education         21525 non-null  object \n",
      " 4   education_id      21525 non-null  int64  \n",
      " 5   family_status     21525 non-null  object \n",
      " 6   family_status_id  21525 non-null  int64  \n",
      " 7   gender            21525 non-null  object \n",
      " 8   income_type       21525 non-null  object \n",
      " 9   debt              21525 non-null  int64  \n",
      " 10  total_income      19351 non-null  float64\n",
      " 11  purpose           21525 non-null  object \n",
      "dtypes: float64(2), int64(5), object(5)\n",
      "memory usage: 2.0+ MB\n"
     ]
    }
   ],
   "source": [
    "data.info()"
   ]
  },
  {
   "cell_type": "markdown",
   "metadata": {},
   "source": [
    "<div class=\"alert alert-block alert-info\">\n",
    "    \n",
    "перечень названий столбцов таблицы  \n",
    "    \n",
    "</div>"
   ]
  },
  {
   "cell_type": "code",
   "execution_count": 7,
   "metadata": {},
   "outputs": [
    {
     "data": {
      "text/plain": [
       "Index(['children', 'days_employed', 'dob_years', 'education', 'education_id',\n",
       "       'family_status', 'family_status_id', 'gender', 'income_type', 'debt',\n",
       "       'total_income', 'purpose'],\n",
       "      dtype='object')"
      ]
     },
     "execution_count": 7,
     "metadata": {},
     "output_type": "execute_result"
    }
   ],
   "source": [
    "data.columns"
   ]
  },
  {
   "cell_type": "markdown",
   "metadata": {},
   "source": [
    "**Вывод**\n",
    "\n",
    "данные содержат:\n",
    "\n",
    "1) 21525 записей и 12 признаков\n",
    "\n",
    "2) целые и вещественные числа, данные типа строка в верхнем и нижнем регистре\n",
    "\n",
    "3) пропуски типа NaN \n",
    "\n",
    "4) категориальные и количественные данные\n",
    "\n",
    "5) возможны дубликаты\n",
    "\n",
    "6) проблем в названиях столбцов не выявлено\n",
    "\n",
    "Каждая строка таблицы содержит данные о заемщиках с детьми и без, разного возраста и трудового стажа, разным уровнем образования. Содержится информация об их семейном положении, указан пол, тип и уровень дохода, а так же цель кредитования.\n",
    "Данные необходимо привести к единому формату, обработать пропуски, артефакты и другой \"Мусор\". Особенно важна информация в колонках **children**, **family_status**, **family_status_id**, **debt**, **total_income** и, вероятно, **purpose** для вывода о вероятности погашения кредита в срок с учетом цели кредитования."
   ]
  },
  {
   "cell_type": "markdown",
   "metadata": {},
   "source": [
    "## Предобработка данных"
   ]
  },
  {
   "cell_type": "markdown",
   "metadata": {},
   "source": [
    "### Обработка пропусков"
   ]
  },
  {
   "cell_type": "markdown",
   "metadata": {},
   "source": [
    "<div class=\"alert alert-block alert-info\">\n",
    "    \n",
    "количество пропущенных значений в столбцах\n",
    "    \n",
    "</div>"
   ]
  },
  {
   "cell_type": "code",
   "execution_count": 4,
   "metadata": {
    "scrolled": true
   },
   "outputs": [
    {
     "data": {
      "text/plain": [
       "children               0\n",
       "days_employed       2174\n",
       "dob_years              0\n",
       "education              0\n",
       "education_id           0\n",
       "family_status          0\n",
       "family_status_id       0\n",
       "gender                 0\n",
       "income_type            0\n",
       "debt                   0\n",
       "total_income        2174\n",
       "purpose                0\n",
       "dtype: int64"
      ]
     },
     "execution_count": 4,
     "metadata": {},
     "output_type": "execute_result"
    }
   ],
   "source": [
    "data.isnull().sum() \n",
    "data.isna().sum()"
   ]
  },
  {
   "cell_type": "markdown",
   "metadata": {},
   "source": [
    "**Вывод**\n",
    "\n",
    "пропуски типа NaN в одинаковом количестве 2174 имеются в столбцах **days_employed** и **total_income**, что составляет 10,1% от общего количества - удалять не будем, много. Причина пропуска может быть как технологическая, так и в человеческом факторе."
   ]
  },
  {
   "cell_type": "markdown",
   "metadata": {},
   "source": [
    "<div class=\"alert alert-block alert-info\">\n",
    "    \n",
    "Замена пропусков в столбце **days_employed** на среднее значение\n",
    "    \n",
    "1. отрицателные значение приведем к модулю\n",
    "    \n",
    "2. исключим стаж более 75 лет (примерно 27000 дней)\n",
    "    \n",
    "</div>"
   ]
  },
  {
   "cell_type": "code",
   "execution_count": 11,
   "metadata": {},
   "outputs": [],
   "source": [
    "data.days_employed = data.days_employed.abs()\n",
    "days_employed_mean = data[data['days_employed'] < 27000]['days_employed'].mean()\n",
    "data.days_employed = data.days_employed.fillna(days_employed_mean)"
   ]
  },
  {
   "cell_type": "markdown",
   "metadata": {},
   "source": [
    "<div class=\"alert alert-block alert-info\">\n",
    "    \n",
    "Замена пропусков в столбце **total_income** на среднее значение не подходит - верхние выбросы значительно увеличат показатель, \n",
    "    \n",
    "применим медианное значение\n",
    "    \n",
    "</div>"
   ]
  },
  {
   "cell_type": "code",
   "execution_count": 12,
   "metadata": {},
   "outputs": [],
   "source": [
    "total_income_median = data.total_income.median()\n",
    "data.total_income = data.total_income.fillna(total_income_median)"
   ]
  },
  {
   "cell_type": "code",
   "execution_count": 13,
   "metadata": {
    "scrolled": true
   },
   "outputs": [
    {
     "name": "stdout",
     "output_type": "stream",
     "text": [
      "<class 'pandas.core.frame.DataFrame'>\n",
      "RangeIndex: 21525 entries, 0 to 21524\n",
      "Data columns (total 12 columns):\n",
      " #   Column            Non-Null Count  Dtype  \n",
      "---  ------            --------------  -----  \n",
      " 0   children          21525 non-null  int64  \n",
      " 1   days_employed     21525 non-null  float64\n",
      " 2   dob_years         21525 non-null  int64  \n",
      " 3   education         21525 non-null  object \n",
      " 4   education_id      21525 non-null  int64  \n",
      " 5   family_status     21525 non-null  object \n",
      " 6   family_status_id  21525 non-null  int64  \n",
      " 7   gender            21525 non-null  object \n",
      " 8   income_type       21525 non-null  object \n",
      " 9   debt              21525 non-null  int64  \n",
      " 10  total_income      21525 non-null  float64\n",
      " 11  purpose           21525 non-null  object \n",
      "dtypes: float64(2), int64(5), object(5)\n",
      "memory usage: 2.0+ MB\n"
     ]
    }
   ],
   "source": [
    "data.info()"
   ]
  },
  {
   "cell_type": "markdown",
   "metadata": {},
   "source": [
    "**Вывод**\n",
    "\n",
    "пропуски в данных:\n",
    "\n",
    "1) определены методом isnull()\n",
    "\n",
    "2) в столбце **days_employed** заменены на среднее значение методом fillna()\n",
    "\n",
    "3) в столбце **total_income** заменены на медианы методом fillna()\n",
    "\n",
    "4) пропусков нет"
   ]
  },
  {
   "cell_type": "markdown",
   "metadata": {},
   "source": [
    "### Замена типа данных"
   ]
  },
  {
   "cell_type": "markdown",
   "metadata": {},
   "source": [
    "**2.2.1 столбец children**"
   ]
  },
  {
   "cell_type": "markdown",
   "metadata": {},
   "source": [
    "<div class=\"alert alert-block alert-info\">\n",
    "    \n",
    "поиск артефактов в столбце **children**\n",
    "    \n",
    "</div>"
   ]
  },
  {
   "cell_type": "code",
   "execution_count": 14,
   "metadata": {},
   "outputs": [
    {
     "data": {
      "text/plain": [
       " 0     14149\n",
       " 1      4818\n",
       " 2      2055\n",
       " 3       330\n",
       " 20       76\n",
       "-1        47\n",
       " 4        41\n",
       " 5         9\n",
       "Name: children, dtype: int64"
      ]
     },
     "execution_count": 14,
     "metadata": {},
     "output_type": "execute_result"
    }
   ],
   "source": [
    "data.children.value_counts()"
   ]
  },
  {
   "cell_type": "markdown",
   "metadata": {},
   "source": [
    "<div class=\"alert alert-block alert-info\">\n",
    "    \n",
    "удаление данных со значением более 10, взят модуль чисел меньше 0\n",
    "    \n",
    "</div>"
   ]
  },
  {
   "cell_type": "code",
   "execution_count": 15,
   "metadata": {},
   "outputs": [
    {
     "data": {
      "text/plain": [
       "0.0    14149\n",
       "1.0     4865\n",
       "2.0     2055\n",
       "3.0      330\n",
       "4.0       41\n",
       "5.0        9\n",
       "Name: children, dtype: int64"
      ]
     },
     "execution_count": 15,
     "metadata": {},
     "output_type": "execute_result"
    }
   ],
   "source": [
    "data.children = data[data.children < 10]\n",
    "data.children = data.children.abs()\n",
    "data.children.value_counts()"
   ]
  },
  {
   "cell_type": "markdown",
   "metadata": {},
   "source": [
    "**2.2.2 столбец days_employed**"
   ]
  },
  {
   "cell_type": "markdown",
   "metadata": {},
   "source": [
    "<div class=\"alert alert-block alert-info\">\n",
    "    \n",
    "обработка артефакта - стаж более 75 лет (более 27000 дней)\n",
    "    \n",
    "</div>"
   ]
  },
  {
   "cell_type": "code",
   "execution_count": 16,
   "metadata": {},
   "outputs": [
    {
     "data": {
      "text/plain": [
       "пенсионер      3443\n",
       "безработный       2\n",
       "Name: income_type, dtype: int64"
      ]
     },
     "execution_count": 16,
     "metadata": {},
     "output_type": "execute_result"
    }
   ],
   "source": [
    "data[data['days_employed'] >= 27000]['income_type'].value_counts()"
   ]
  },
  {
   "cell_type": "markdown",
   "metadata": {},
   "source": [
    "<div class=\"alert alert-block alert-info\">\n",
    "\n",
    "большое количество, почти 16%, удалять нельзя, применим нормирование\n",
    "   \n",
    "</div>"
   ]
  },
  {
   "cell_type": "markdown",
   "metadata": {},
   "source": [
    "<div class=\"alert alert-block alert-info\">\n",
    "\n",
    "определим медиану для заемщиков со стажем:    **0 < days_employed <= 27000** - median_norm_employed\n",
    "  \n",
    "</div>"
   ]
  },
  {
   "cell_type": "code",
   "execution_count": 17,
   "metadata": {},
   "outputs": [],
   "source": [
    "median_norm_employed = data[(data['days_employed'] > 0) & (data['days_employed'] <= 27000)]['days_employed'].median()"
   ]
  },
  {
   "cell_type": "markdown",
   "metadata": {},
   "source": [
    "<div class=\"alert alert-block alert-info\">\n",
    "\n",
    "определим медиану для заемщиков со стажем:    **days_employed > 27000** - median_over_days_employed\n",
    "\n",
    "</div>"
   ]
  },
  {
   "cell_type": "code",
   "execution_count": 18,
   "metadata": {},
   "outputs": [],
   "source": [
    "median_over_days_employed = data[data['days_employed'] > 27000]['days_employed'].median()"
   ]
  },
  {
   "cell_type": "markdown",
   "metadata": {},
   "source": [
    "<div class=\"alert alert-block alert-info\">\n",
    "  \n",
    "определим понижающий коэф.нормирования:     **days_employed_norm = median_norm_employed / median_over_days_employed**\n",
    "\n",
    "</div>"
   ]
  },
  {
   "cell_type": "code",
   "execution_count": 19,
   "metadata": {},
   "outputs": [
    {
     "name": "stdout",
     "output_type": "stream",
     "text": [
      "0.005367540483916698\n"
     ]
    }
   ],
   "source": [
    "days_employed_norm = median_norm_employed / median_over_days_employed\n",
    "print(days_employed_norm)"
   ]
  },
  {
   "cell_type": "markdown",
   "metadata": {},
   "source": [
    "<div class=\"alert alert-block alert-info\">\n",
    "\n",
    "внесем корректировку в стаж **days_employed > 27000:   days_employed = (стаж days_employed > 27000) * days_employed_norm**\n",
    "\n",
    "</div>"
   ]
  },
  {
   "cell_type": "code",
   "execution_count": 20,
   "metadata": {},
   "outputs": [],
   "source": [
    "data.loc[data.days_employed > 27000, 'days_employed'] = data.loc[data.days_employed > 27000, 'days_employed'] * days_employed_norm"
   ]
  },
  {
   "cell_type": "markdown",
   "metadata": {},
   "source": [
    "<div class=\"alert alert-block alert-info\">\n",
    "\n",
    "меняем столбец **days_employed** на **years_employed** - изменяем стаж в днях на стаж в годах для лучшего восприятия\n",
    "    \n",
    "</div>"
   ]
  },
  {
   "cell_type": "code",
   "execution_count": 21,
   "metadata": {},
   "outputs": [],
   "source": [
    "data.days_employed = data.days_employed / 365\n",
    "data.set_axis(['children', 'years_employed', 'dob_years', 'education', 'education_id', \n",
    "'family_status', 'family_status_id', 'gender', 'income_type', 'debt',\n",
    "'total_income', 'purpose'], axis = 'columns', inplace = True)"
   ]
  },
  {
   "cell_type": "markdown",
   "metadata": {},
   "source": [
    "<div class=\"alert alert-block alert-info\">\n",
    "\n",
    "вещественный тип данных меняем на целочисленный\n",
    "    \n",
    "</div>"
   ]
  },
  {
   "cell_type": "code",
   "execution_count": 22,
   "metadata": {},
   "outputs": [],
   "source": [
    "data.years_employed = data.years_employed.astype('int')"
   ]
  },
  {
   "cell_type": "markdown",
   "metadata": {},
   "source": [
    "**2.2.3 столбец dob_years**"
   ]
  },
  {
   "cell_type": "markdown",
   "metadata": {},
   "source": [
    "<div class=\"alert alert-block alert-info\">\n",
    "\n",
    "определим границы данных по возрасту и устраним артефакты\n",
    "    \n",
    "</div>"
   ]
  },
  {
   "cell_type": "code",
   "execution_count": 23,
   "metadata": {},
   "outputs": [
    {
     "name": "stdout",
     "output_type": "stream",
     "text": [
      "0\n",
      "75\n"
     ]
    }
   ],
   "source": [
    "print(data.dob_years.min())\n",
    "print(data.dob_years.max())"
   ]
  },
  {
   "cell_type": "markdown",
   "metadata": {},
   "source": [
    "<div class=\"alert alert-block alert-info\">\n",
    "\n",
    "определяем количество заемщиков младше 18 и старше 75 лет\n",
    "    \n",
    "</div>"
   ]
  },
  {
   "cell_type": "code",
   "execution_count": 24,
   "metadata": {},
   "outputs": [
    {
     "data": {
      "text/plain": [
       "101"
      ]
     },
     "execution_count": 24,
     "metadata": {},
     "output_type": "execute_result"
    }
   ],
   "source": [
    "data[data['dob_years'] < 18]['dob_years'].count()"
   ]
  },
  {
   "cell_type": "code",
   "execution_count": 25,
   "metadata": {},
   "outputs": [
    {
     "data": {
      "text/plain": [
       "0"
      ]
     },
     "execution_count": 25,
     "metadata": {},
     "output_type": "execute_result"
    }
   ],
   "source": [
    "data[data['dob_years'] > 75]['dob_years'].count()"
   ]
  },
  {
   "cell_type": "markdown",
   "metadata": {},
   "source": [
    "<div class=\"alert alert-block alert-info\">\n",
    "\n",
    "доля заемщиков младше 18 лет составляет менее 0.5% - удаляем\n",
    "    \n",
    "</div>"
   ]
  },
  {
   "cell_type": "code",
   "execution_count": 26,
   "metadata": {},
   "outputs": [],
   "source": [
    "data.dob_years = data[data['dob_years'] >= 18]['dob_years']"
   ]
  },
  {
   "cell_type": "code",
   "execution_count": 27,
   "metadata": {},
   "outputs": [
    {
     "name": "stdout",
     "output_type": "stream",
     "text": [
      "19.0\n"
     ]
    }
   ],
   "source": [
    "print(data.dob_years.min())"
   ]
  },
  {
   "cell_type": "markdown",
   "metadata": {},
   "source": [
    "**2.2.4 столбец total_income**"
   ]
  },
  {
   "cell_type": "markdown",
   "metadata": {},
   "source": [
    "<div class=\"alert alert-block alert-info\">\n",
    "\n",
    "вещественный тип данных меняем на целочисленный по модулю\n",
    "    \n",
    "</div>"
   ]
  },
  {
   "cell_type": "code",
   "execution_count": 28,
   "metadata": {},
   "outputs": [],
   "source": [
    "data.total_income = data.total_income.astype('int').abs() "
   ]
  },
  {
   "cell_type": "markdown",
   "metadata": {},
   "source": [
    "**Вывод**\n",
    "\n",
    "Изменения типов данных: \n",
    "\n",
    "- вещественный тип данных изменили на целочисленный\n",
    "\n",
    "- отрицательные значения взяты по модулю\n",
    "\n",
    "- устранены артефакты и отклонения - большое количество детей (20), изменен стаж в пересчет на года и исключены заемщики младше \n",
    "18 лет\n",
    "\n",
    "- устранены артефакты стажа: отрицательный - взят модуль, более 75 лет - проведено нормирование\n"
   ]
  },
  {
   "cell_type": "markdown",
   "metadata": {},
   "source": [
    "### Обработка дубликатов"
   ]
  },
  {
   "cell_type": "markdown",
   "metadata": {},
   "source": [
    "Из-за разного форматирования строк в столбцах 'education', 'family_status', 'gender', 'income_type', 'debt', 'purpose' возможны не полные дубликаты. Следует проверить посредством метода value_counts() - покажет уникальные значения и их количество. Применим цикл для списка названий столбцов."
   ]
  },
  {
   "cell_type": "markdown",
   "metadata": {},
   "source": [
    "<div class=\"alert alert-block alert-info\">\n",
    "\n",
    "уникальные значения и количество упоминаний данных в столбцах **education**, **family_status**, **gender**, **income_type**, **debt**, **purpose**\n",
    "    \n",
    "</div>"
   ]
  },
  {
   "cell_type": "code",
   "execution_count": 29,
   "metadata": {
    "scrolled": true
   },
   "outputs": [
    {
     "name": "stdout",
     "output_type": "stream",
     "text": [
      "education\n",
      "---------------\n",
      "среднее                13750\n",
      "высшее                  4718\n",
      "СРЕДНЕЕ                  772\n",
      "Среднее                  711\n",
      "неоконченное высшее      668\n",
      "ВЫСШЕЕ                   274\n",
      "Высшее                   268\n",
      "начальное                250\n",
      "Неоконченное высшее       47\n",
      "НЕОКОНЧЕННОЕ ВЫСШЕЕ       29\n",
      "НАЧАЛЬНОЕ                 17\n",
      "Начальное                 15\n",
      "ученая степень             4\n",
      "Ученая степень             1\n",
      "УЧЕНАЯ СТЕПЕНЬ             1\n",
      "Name: education, dtype: int64\n",
      "______________________________________________\n",
      "______________________________________________\n",
      "family_status\n",
      "---------------\n",
      "женат / замужем          12380\n",
      "гражданский брак          4177\n",
      "Не женат / не замужем     2813\n",
      "в разводе                 1195\n",
      "вдовец / вдова             960\n",
      "Name: family_status, dtype: int64\n",
      "______________________________________________\n",
      "______________________________________________\n",
      "gender\n",
      "---------------\n",
      "F      14236\n",
      "M       7288\n",
      "XNA        1\n",
      "Name: gender, dtype: int64\n",
      "______________________________________________\n",
      "______________________________________________\n",
      "income_type\n",
      "---------------\n",
      "сотрудник          11119\n",
      "компаньон           5085\n",
      "пенсионер           3856\n",
      "госслужащий         1459\n",
      "безработный            2\n",
      "предприниматель        2\n",
      "в декрете              1\n",
      "студент                1\n",
      "Name: income_type, dtype: int64\n",
      "______________________________________________\n",
      "______________________________________________\n",
      "debt\n",
      "---------------\n",
      "0    19784\n",
      "1     1741\n",
      "Name: debt, dtype: int64\n",
      "______________________________________________\n",
      "______________________________________________\n",
      "purpose\n",
      "---------------\n",
      "свадьба                                   797\n",
      "на проведение свадьбы                     777\n",
      "сыграть свадьбу                           774\n",
      "операции с недвижимостью                  676\n",
      "покупка коммерческой недвижимости         664\n",
      "операции с жильем                         653\n",
      "покупка жилья для сдачи                   653\n",
      "операции с коммерческой недвижимостью     651\n",
      "жилье                                     647\n",
      "покупка жилья                             647\n",
      "покупка жилья для семьи                   641\n",
      "строительство собственной недвижимости    635\n",
      "недвижимость                              634\n",
      "операции со своей недвижимостью           630\n",
      "строительство жилой недвижимости          626\n",
      "покупка недвижимости                      624\n",
      "покупка своего жилья                      620\n",
      "строительство недвижимости                620\n",
      "ремонт жилью                              612\n",
      "покупка жилой недвижимости                607\n",
      "на покупку своего автомобиля              505\n",
      "заняться высшим образованием              496\n",
      "автомобиль                                495\n",
      "сделка с подержанным автомобилем          489\n",
      "свой автомобиль                           480\n",
      "на покупку подержанного автомобиля        479\n",
      "автомобили                                478\n",
      "на покупку автомобиля                     472\n",
      "приобретение автомобиля                   462\n",
      "дополнительное образование                462\n",
      "сделка с автомобилем                      455\n",
      "высшее образование                        453\n",
      "образование                               447\n",
      "получение дополнительного образования     447\n",
      "получение образования                     443\n",
      "профильное образование                    436\n",
      "получение высшего образования             426\n",
      "заняться образованием                     412\n",
      "Name: purpose, dtype: int64\n",
      "______________________________________________\n",
      "______________________________________________\n"
     ]
    }
   ],
   "source": [
    "list_duplicates = ['education', 'family_status', 'gender', 'income_type', 'debt', 'purpose']\n",
    "for row in list_duplicates:\n",
    "    print(row)\n",
    "    print('---------------')\n",
    "    print(data[row].value_counts())\n",
    "    print('______________________________________________')\n",
    "    print('______________________________________________')"
   ]
  },
  {
   "cell_type": "markdown",
   "metadata": {},
   "source": [
    "В данных столбцов **education**, **family_status** следует изменить формат на нижний регистр.\n",
    "\n",
    "Данные столбца **gender** удалить артефакт **XNA**\n",
    "\n",
    "В данных столбца **purpose** требуется провести лемматизацию."
   ]
  },
  {
   "cell_type": "code",
   "execution_count": 30,
   "metadata": {},
   "outputs": [],
   "source": [
    "data.education = data.education.str.lower()\n",
    "data.family_status = data.family_status.str.lower()"
   ]
  },
  {
   "cell_type": "code",
   "execution_count": 31,
   "metadata": {},
   "outputs": [],
   "source": [
    "data.gender = data[data.gender != 'XNA']"
   ]
  },
  {
   "cell_type": "markdown",
   "metadata": {},
   "source": [
    "<div class=\"alert alert-block alert-info\">\n",
    "\n",
    "количество полных дубликатов\n",
    "    \n",
    "</div>"
   ]
  },
  {
   "cell_type": "code",
   "execution_count": 32,
   "metadata": {},
   "outputs": [
    {
     "data": {
      "text/plain": [
       "103"
      ]
     },
     "execution_count": 32,
     "metadata": {},
     "output_type": "execute_result"
    }
   ],
   "source": [
    "data.duplicated().sum()"
   ]
  },
  {
   "cell_type": "markdown",
   "metadata": {},
   "source": [
    "<div class=\"alert alert-block alert-info\">\n",
    "\n",
    "удаление полных дубликатов\n",
    "    \n",
    "</div>"
   ]
  },
  {
   "cell_type": "code",
   "execution_count": 33,
   "metadata": {},
   "outputs": [
    {
     "data": {
      "text/plain": [
       "0"
      ]
     },
     "execution_count": 33,
     "metadata": {},
     "output_type": "execute_result"
    }
   ],
   "source": [
    "data = data.drop_duplicates().reset_index(drop=True)\n",
    "data.duplicated().sum()"
   ]
  },
  {
   "cell_type": "markdown",
   "metadata": {},
   "source": [
    "**Вывод**\n",
    "\n",
    "причины появления дубликатов:\n",
    "\n",
    "1) технологическая - данные из разных источников в разном формате и разным типом данных\n",
    "\n",
    "2) человеческий фактор - данные добавлены без проверки на повторяемость, ошибки при вводе"
   ]
  },
  {
   "cell_type": "markdown",
   "metadata": {},
   "source": [
    "### Лемматизация"
   ]
  },
  {
   "cell_type": "markdown",
   "metadata": {},
   "source": [
    "В данных столбца **purpose** требуется провести лемматизацию."
   ]
  },
  {
   "cell_type": "markdown",
   "metadata": {},
   "source": [
    "<div class=\"alert alert-block alert-info\">\n",
    "    \n",
    "импорт класса Mystem пакета pymystem3\n",
    "\n",
    "импорт класса Counter() модуля collections\n",
    "    \n",
    "получение уникальных значений столбца **purpose**\n",
    "    \n",
    "</div>"
   ]
  },
  {
   "cell_type": "code",
   "execution_count": 35,
   "metadata": {},
   "outputs": [],
   "source": [
    "from pymystem3 import Mystem\n",
    "m = Mystem()\n",
    "from collections import Counter\n",
    "\n",
    "purpose_list = data['purpose'].unique()"
   ]
  },
  {
   "cell_type": "markdown",
   "metadata": {},
   "source": [
    "<div class=\"alert alert-block alert-info\">\n",
    "\n",
    "каждую строчку в **purpose_list** лемматизируем, получаем список лемм и добавляем значения в пустой список **lemms**\n",
    "    \n",
    "не понятно - как применить результат **lemmas и Counter(lemmas)** ?\n",
    "   \n",
    "</div>"
   ]
  },
  {
   "cell_type": "code",
   "execution_count": 36,
   "metadata": {},
   "outputs": [
    {
     "name": "stdout",
     "output_type": "stream",
     "text": [
      "Counter({'автомобиль \\n': 2, 'покупка   жилье \\n': 1, 'приобретение   автомобиль \\n': 1, 'дополнительный   образование \\n': 1, 'сыграть   свадьба \\n': 1, 'операция   с   жилье \\n': 1, 'образование \\n': 1, 'на   проведение   свадьба \\n': 1, 'покупка   жилье   для   семья \\n': 1, 'покупка   недвижимость \\n': 1, 'покупка   коммерческий   недвижимость \\n': 1, 'покупка   жилой   недвижимость \\n': 1, 'строительство   собственный   недвижимость \\n': 1, 'недвижимость \\n': 1, 'строительство   недвижимость \\n': 1, 'на   покупка   подержать   автомобиль \\n': 1, 'на   покупка   свой   автомобиль \\n': 1, 'операция   с   коммерческий   недвижимость \\n': 1, 'строительство   жилой   недвижимость \\n': 1, 'жилье \\n': 1, 'операция   со   свой   недвижимость \\n': 1, 'заниматься   образование \\n': 1, 'сделка   с   подержанный   автомобиль \\n': 1, 'получение   образование \\n': 1, 'свадьба \\n': 1, 'получение   дополнительный   образование \\n': 1, 'покупка   свой   жилье \\n': 1, 'операция   с   недвижимость \\n': 1, 'получение   высокий   образование \\n': 1, 'свой   автомобиль \\n': 1, 'сделка   с   автомобиль \\n': 1, 'профильный   образование \\n': 1, 'высокий   образование \\n': 1, 'покупка   жилье   для   сдача \\n': 1, 'на   покупка   автомобиль \\n': 1, 'ремонт   жилье \\n': 1, 'заниматься   высокий   образование \\n': 1})\n"
     ]
    }
   ],
   "source": [
    "lemmas = []\n",
    "for i in purpose_list:\n",
    "    lemma = ' '.join(m.lemmatize(i))\n",
    "    lemmas.append(lemma)\n",
    "\n",
    "print(Counter(lemmas)) "
   ]
  },
  {
   "cell_type": "markdown",
   "metadata": {},
   "source": [
    "**Вывод**\n",
    "\n",
    "В наличии значительное количество одинаковых слов, возможно сокращение количества категорий целей\n",
    "\n",
    "Для получения лемм применен алгоритм:\n",
    "\n",
    "1. Импорт русскоязычной библиотеки pymystem3\n",
    "\n",
    "2. Получение списка уникальных строк столбца 'purpose'\n",
    "\n",
    "3. Лиммитизация каждой строки списка\n",
    "\n",
    "4. Получаем список лемм\n",
    "\n",
    "5. Для наглядности итоговый результат соединяем методом join()\n",
    "\n",
    "6. Добавляем значения в пустой список 'lemms'\n",
    "\n",
    "7. Проверяем выводом на печать"
   ]
  },
  {
   "cell_type": "markdown",
   "metadata": {},
   "source": [
    "### Категоризация данных"
   ]
  },
  {
   "cell_type": "markdown",
   "metadata": {},
   "source": [
    "**Вывод**"
   ]
  },
  {
   "cell_type": "markdown",
   "metadata": {},
   "source": [
    "<div class=\"alert alert-block alert-info\">\n",
    "\n",
    "для данных столбца **total_income** требуется категоризация ввиду специфики данных\n",
    "    \n",
    "путем разделения доходов на категории **высокий доход**, **средний доход**, **низкий доход**\n",
    "    \n",
    "</div>"
   ]
  },
  {
   "cell_type": "markdown",
   "metadata": {},
   "source": [
    "## Предварительный вывод"
   ]
  },
  {
   "cell_type": "markdown",
   "metadata": {},
   "source": [
    "### Есть ли зависимость между наличием детей и возвратом кредита в срок?"
   ]
  },
  {
   "cell_type": "markdown",
   "metadata": {},
   "source": [
    "<div class=\"alert alert-block alert-info\">\n",
    "\n",
    "количество заемщиков\n",
    "    \n",
    "количество случаев задолженности по кредиту\n",
    "    \n",
    "процент задолженности по кредиту\n",
    "    \n",
    "</div>"
   ]
  },
  {
   "cell_type": "code",
   "execution_count": 37,
   "metadata": {},
   "outputs": [
    {
     "name": "stdout",
     "output_type": "stream",
     "text": [
      "children\n",
      "4.0    9.756098\n",
      "2.0    9.468033\n",
      "1.0    9.175258\n",
      "3.0    8.181818\n",
      "0.0    7.556693\n",
      "5.0    0.000000\n",
      "Name: debt, dtype: float64\n"
     ]
    }
   ],
   "source": [
    "number_debitor_children = data.groupby('children')['debt'].count() # количество заемщиков\n",
    "number_debt_children = data.groupby('children')['debt'].sum() # количество случаев задолженности по кредиту\n",
    "\n",
    "percent_debt_children = number_debt_children / number_debitor_children * 100 # процент задолженности по кредиту\n",
    "print(percent_debt_children.sort_values(ascending = False))"
   ]
  },
  {
   "cell_type": "markdown",
   "metadata": {},
   "source": [
    "**Вывод**\n",
    "\n",
    "Вероятность задолженности по кредиту самая высокая у заемщиков с 4мя детьми 9.8%\n",
    "Далее идут с 2мя 9.5% и с 1м 9.2%. Немного ниже у заемщиков с 3мя детьми и составляет 8.2% и заемщиков без детей 7,5%.\n",
    "У заявителей с 5ю детьми риски равны 0, вероятно из-за низкого количества кредитных историй.\n",
    "В целом, уровень примерно одинаковый и однозначной зависимости нет. \n",
    "Но заявители без детей имеют наименьшую склонность к задолженности."
   ]
  },
  {
   "cell_type": "markdown",
   "metadata": {},
   "source": [
    "### Есть ли зависимость между семейным положением и возвратом кредита в срок?"
   ]
  },
  {
   "cell_type": "markdown",
   "metadata": {},
   "source": [
    "<div class=\"alert alert-block alert-info\">\n",
    "\n",
    "количество заемщиков\n",
    "    \n",
    "количество случаев задолженности по кредиту\n",
    "    \n",
    "процент задолженности по кредиту\n",
    "    \n",
    "</div>"
   ]
  },
  {
   "cell_type": "code",
   "execution_count": 38,
   "metadata": {},
   "outputs": [
    {
     "name": "stdout",
     "output_type": "stream",
     "text": [
      "family_status\n",
      "вдовец / вдова           6.569343\n",
      "в разводе                7.112971\n",
      "женат / замужем          7.559272\n",
      "гражданский брак         9.367455\n",
      "не женат / не замужем    9.750890\n",
      "Name: debt, dtype: float64\n"
     ]
    }
   ],
   "source": [
    "number_debitor_family = data.groupby('family_status')['debt'].count()\n",
    "number_debt_family = data.groupby('family_status')['debt'].sum()\n",
    "\n",
    "percent_debt_family = number_debt_family / number_debitor_family * 100\n",
    "print(percent_debt_family.sort_values(ascending = True))"
   ]
  },
  {
   "cell_type": "markdown",
   "metadata": {},
   "source": [
    "**Вывод**\n",
    "\n",
    "Зависимость вероятности задолженности по кредиту от семейного положения следующая по возрастающей риска:\n",
    "\n",
    "вдовец/вдова 6.6%\n",
    "\n",
    "в разводе 7.0%\n",
    "\n",
    "женат / замужем 7.6%\n",
    "\n",
    "гражданский брак 9.3%\n",
    "\n",
    "не женат/не замужем 9.7%\n",
    "\n",
    "Таким образом самая рискованная категория холостые без опыта семейных отношений."
   ]
  },
  {
   "cell_type": "markdown",
   "metadata": {},
   "source": [
    "### Есть ли зависимость между уровнем дохода и возвратом кредита в срок?"
   ]
  },
  {
   "cell_type": "markdown",
   "metadata": {},
   "source": [
    "<div class=\"alert alert-block alert-info\">\n",
    "\n",
    "для данных столбца **total_income** требуется категоризация ввиду специфики данных\n",
    "    \n",
    "путем разделения доходов на категории **высокий доход**, **средний доход**, **низкий доход**\n",
    "    \n",
    "</div>"
   ]
  },
  {
   "cell_type": "markdown",
   "metadata": {},
   "source": [
    "<div class=\"alert alert-block alert-info\">\n",
    "\n",
    "количество заемщиков\n",
    "    \n",
    "количество случаев задолженности по кредиту\n",
    "    \n",
    "процент задолженности по кредиту\n",
    "    \n",
    "</div>"
   ]
  },
  {
   "cell_type": "code",
   "execution_count": 39,
   "metadata": {},
   "outputs": [
    {
     "name": "stdout",
     "output_type": "stream",
     "text": [
      "total_income\n",
      "20667      100.0\n",
      "215276     100.0\n",
      "101781     100.0\n",
      "101864     100.0\n",
      "216240     100.0\n",
      "           ...  \n",
      "119472       0.0\n",
      "119484       0.0\n",
      "119485       0.0\n",
      "119488       0.0\n",
      "2265604      0.0\n",
      "Name: debt, Length: 18606, dtype: float64\n"
     ]
    }
   ],
   "source": [
    "number_debitor_total_income = data.groupby('total_income')['debt'].count()\n",
    "number_debt_total_income = data.groupby('total_income')['debt'].sum()\n",
    "\n",
    "percent_debt_total_income = number_debt_total_income / number_debitor_total_income * 100\n",
    "print(percent_debt_total_income.sort_values(ascending = False))"
   ]
  },
  {
   "cell_type": "markdown",
   "metadata": {},
   "source": [
    "**Вывод**"
   ]
  },
  {
   "cell_type": "markdown",
   "metadata": {},
   "source": [
    "### Как разные цели кредита влияют на его возврат в срок?"
   ]
  },
  {
   "cell_type": "markdown",
   "metadata": {},
   "source": [
    "<div class=\"alert alert-block alert-info\">\n",
    "\n",
    "количество заемщиков\n",
    "    \n",
    "количество случаев задолженности по кредиту\n",
    "    \n",
    "процент задолженности по кредиту\n",
    "    \n",
    "</div>"
   ]
  },
  {
   "cell_type": "code",
   "execution_count": 33,
   "metadata": {},
   "outputs": [
    {
     "name": "stdout",
     "output_type": "stream",
     "text": [
      "purpose\n",
      "получение дополнительного образования     11.434978\n",
      "сделка с автомобилем                      11.013216\n",
      "получение высшего образования             10.798122\n",
      "сделка с подержанным автомобилем          10.493827\n",
      "профильное образование                    10.091743\n",
      "свой автомобиль                           10.041841\n",
      "заняться образованием                      9.558824\n",
      "на покупку автомобиля                      9.341826\n",
      "автомобили                                 9.224319\n",
      "приобретение автомобиля                    9.110629\n",
      "на покупку своего автомобиля               9.108911\n",
      "высшее образование                         8.849558\n",
      "строительство недвижимости                 8.737864\n",
      "заняться высшим образованием               8.669355\n",
      "автомобиль                                 8.519270\n",
      "получение образования                      8.390023\n",
      "на проведение свадьбы                      8.376963\n",
      "дополнительное образование                 8.278867\n",
      "операции с недвижимостью                   8.148148\n",
      "свадьба                                    8.111534\n",
      "покупка жилья для сдачи                    8.012327\n",
      "операции с коммерческой недвижимостью      8.000000\n",
      "операции со своей недвижимостью            7.987220\n",
      "строительство жилой недвижимости           7.692308\n",
      "сыграть свадьбу                            7.611549\n",
      "на покупку подержанного автомобиля         7.531381\n",
      "покупка жилья                              7.441860\n",
      "операции с жильем                          7.373272\n",
      "образование                                7.158837\n",
      "жилье                                      7.131783\n",
      "покупка коммерческой недвижимости          7.121212\n",
      "покупка жилья для семьи                    7.086614\n",
      "покупка недвижимости                       6.946688\n",
      "покупка жилой недвижимости                 6.765677\n",
      "недвижимость                               6.656101\n",
      "строительство собственной недвижимости     6.624606\n",
      "ремонт жилью                               5.775578\n",
      "покупка своего жилья                       5.492730\n",
      "Name: debt, dtype: float64\n"
     ]
    }
   ],
   "source": [
    "number_debitor = data.groupby('purpose')['debt'].count()\n",
    "number_debt = data.groupby('purpose')['debt'].sum()\n",
    "\n",
    "percent_debt = number_debt / number_debitor * 100\n",
    "print(percent_debt.sort_values(ascending = False))"
   ]
  },
  {
   "cell_type": "markdown",
   "metadata": {},
   "source": [
    "**Вывод**"
   ]
  },
  {
   "cell_type": "markdown",
   "metadata": {},
   "source": [
    "## Общий вывод"
   ]
  },
  {
   "cell_type": "markdown",
   "metadata": {},
   "source": [
    "<div class=\"alert alert-block alert-info\">\n",
    "\n",
    "Самыми надежныи заемщиками являются вдовцы/вдовы или разведенные, без детей в основном при покупке недвижимости\n",
    "    \n",
    "</div>"
   ]
  }
 ],
 "metadata": {
  "ExecuteTimeLog": [
   {
    "duration": 1138,
    "start_time": "2022-08-31T18:37:04.408Z"
   },
   {
    "duration": 89,
    "start_time": "2022-08-31T18:37:21.404Z"
   },
   {
    "duration": 81,
    "start_time": "2022-08-31T18:37:36.691Z"
   },
   {
    "duration": 106,
    "start_time": "2022-08-31T18:37:52.179Z"
   },
   {
    "duration": 94,
    "start_time": "2022-08-31T18:48:01.394Z"
   },
   {
    "duration": 14,
    "start_time": "2022-08-31T18:48:02.732Z"
   },
   {
    "duration": 4,
    "start_time": "2022-08-31T18:48:04.232Z"
   },
   {
    "duration": 7,
    "start_time": "2022-08-31T18:50:41.643Z"
   },
   {
    "duration": 4,
    "start_time": "2022-08-31T18:50:43.843Z"
   },
   {
    "duration": 31,
    "start_time": "2022-08-31T18:50:56.794Z"
   },
   {
    "duration": 13,
    "start_time": "2022-08-31T18:54:33.695Z"
   },
   {
    "duration": 5,
    "start_time": "2022-08-31T18:54:34.482Z"
   },
   {
    "duration": 17,
    "start_time": "2022-08-31T18:54:34.734Z"
   },
   {
    "duration": 16,
    "start_time": "2022-08-31T18:54:37.196Z"
   },
   {
    "duration": 36,
    "start_time": "2022-08-31T18:54:40.915Z"
   },
   {
    "duration": 23,
    "start_time": "2022-08-31T18:55:58.621Z"
   },
   {
    "duration": 7,
    "start_time": "2022-08-31T18:56:38.149Z"
   },
   {
    "duration": 5,
    "start_time": "2022-08-31T18:56:44.735Z"
   },
   {
    "duration": 4,
    "start_time": "2022-08-31T18:56:52.056Z"
   },
   {
    "duration": 6,
    "start_time": "2022-08-31T18:57:00.439Z"
   },
   {
    "duration": 9,
    "start_time": "2022-08-31T18:57:47.725Z"
   },
   {
    "duration": 5,
    "start_time": "2022-08-31T18:57:52.578Z"
   },
   {
    "duration": 6,
    "start_time": "2022-08-31T18:57:54.858Z"
   },
   {
    "duration": 6,
    "start_time": "2022-08-31T18:57:59.856Z"
   },
   {
    "duration": 6,
    "start_time": "2022-08-31T18:58:00.890Z"
   },
   {
    "duration": 11,
    "start_time": "2022-08-31T18:58:03.246Z"
   },
   {
    "duration": 8,
    "start_time": "2022-08-31T18:58:04.435Z"
   },
   {
    "duration": 7,
    "start_time": "2022-08-31T18:58:12.346Z"
   },
   {
    "duration": 42,
    "start_time": "2022-08-31T18:59:08.998Z"
   },
   {
    "duration": 42,
    "start_time": "2022-08-31T19:00:54.399Z"
   },
   {
    "duration": 28,
    "start_time": "2022-08-31T19:00:55.071Z"
   },
   {
    "duration": 45,
    "start_time": "2022-08-31T19:01:28.288Z"
   },
   {
    "duration": 61,
    "start_time": "2022-08-31T19:01:29.526Z"
   },
   {
    "duration": 11,
    "start_time": "2022-08-31T19:01:48.462Z"
   },
   {
    "duration": 17,
    "start_time": "2022-08-31T19:02:51.193Z"
   },
   {
    "duration": 1699,
    "start_time": "2022-08-31T19:03:25.064Z"
   },
   {
    "duration": 13,
    "start_time": "2022-08-31T19:05:05.518Z"
   },
   {
    "duration": 13,
    "start_time": "2022-08-31T19:05:44.249Z"
   },
   {
    "duration": 22,
    "start_time": "2022-08-31T19:06:06.453Z"
   }
  ],
  "kernelspec": {
   "display_name": "Python 3 (ipykernel)",
   "language": "python",
   "name": "python3"
  },
  "language_info": {
   "codemirror_mode": {
    "name": "ipython",
    "version": 3
   },
   "file_extension": ".py",
   "mimetype": "text/x-python",
   "name": "python",
   "nbconvert_exporter": "python",
   "pygments_lexer": "ipython3",
   "version": "3.9.5"
  },
  "toc": {
   "base_numbering": 1,
   "nav_menu": {},
   "number_sections": true,
   "sideBar": true,
   "skip_h1_title": true,
   "title_cell": "Table of Contents",
   "title_sidebar": "Contents",
   "toc_cell": false,
   "toc_position": {},
   "toc_section_display": true,
   "toc_window_display": false
  }
 },
 "nbformat": 4,
 "nbformat_minor": 2
}
