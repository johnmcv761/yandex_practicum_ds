{
 "cells": [
  {
   "cell_type": "markdown",
   "metadata": {
    "id": "E0vqbgi9ay0H"
   },
   "source": [
    "# Яндекс.Музыка"
   ]
  },
  {
   "cell_type": "markdown",
   "metadata": {
    "id": "Ml1hmfXC_Zcs"
   },
   "source": [
    "## Обзор данных"
   ]
  },
  {
   "cell_type": "markdown",
   "metadata": {
    "id": "57eAOGIz_Zcs"
   },
   "source": [
    "Основной инструмент аналитика — `pandas`. Импорт библиотеки."
   ]
  },
  {
   "cell_type": "code",
   "execution_count": 1,
   "metadata": {
    "id": "AXN7PHPN_Zcs"
   },
   "outputs": [],
   "source": [
    "import pandas as pd"
   ]
  },
  {
   "cell_type": "markdown",
   "metadata": {
    "id": "SG23P8tt_Zcs"
   },
   "source": [
    "Получение данных `yandex_music_project.csv` из папки `/datasets`"
   ]
  },
  {
   "cell_type": "code",
   "execution_count": 2,
   "metadata": {
    "id": "fFVu7vqh_Zct"
   },
   "outputs": [],
   "source": [
    "df = pd.read_csv('/datasets/yandex_music_project.csv')"
   ]
  },
  {
   "cell_type": "markdown",
   "metadata": {
    "id": "rDoOMd3uTqnZ"
   },
   "source": [
    "Вывод на экран первые десять строк таблицы:"
   ]
  },
  {
   "cell_type": "code",
   "execution_count": 3,
   "metadata": {
    "id": "oWTVX3gW_Zct"
   },
   "outputs": [
    {
     "data": {
      "text/html": [
       "<div>\n",
       "<style scoped>\n",
       "    .dataframe tbody tr th:only-of-type {\n",
       "        vertical-align: middle;\n",
       "    }\n",
       "\n",
       "    .dataframe tbody tr th {\n",
       "        vertical-align: top;\n",
       "    }\n",
       "\n",
       "    .dataframe thead th {\n",
       "        text-align: right;\n",
       "    }\n",
       "</style>\n",
       "<table border=\"1\" class=\"dataframe\">\n",
       "  <thead>\n",
       "    <tr style=\"text-align: right;\">\n",
       "      <th></th>\n",
       "      <th>userID</th>\n",
       "      <th>Track</th>\n",
       "      <th>artist</th>\n",
       "      <th>genre</th>\n",
       "      <th>City</th>\n",
       "      <th>time</th>\n",
       "      <th>Day</th>\n",
       "    </tr>\n",
       "  </thead>\n",
       "  <tbody>\n",
       "    <tr>\n",
       "      <th>0</th>\n",
       "      <td>FFB692EC</td>\n",
       "      <td>Kamigata To Boots</td>\n",
       "      <td>The Mass Missile</td>\n",
       "      <td>rock</td>\n",
       "      <td>Saint-Petersburg</td>\n",
       "      <td>20:28:33</td>\n",
       "      <td>Wednesday</td>\n",
       "    </tr>\n",
       "    <tr>\n",
       "      <th>1</th>\n",
       "      <td>55204538</td>\n",
       "      <td>Delayed Because of Accident</td>\n",
       "      <td>Andreas Rönnberg</td>\n",
       "      <td>rock</td>\n",
       "      <td>Moscow</td>\n",
       "      <td>14:07:09</td>\n",
       "      <td>Friday</td>\n",
       "    </tr>\n",
       "    <tr>\n",
       "      <th>2</th>\n",
       "      <td>20EC38</td>\n",
       "      <td>Funiculì funiculà</td>\n",
       "      <td>Mario Lanza</td>\n",
       "      <td>pop</td>\n",
       "      <td>Saint-Petersburg</td>\n",
       "      <td>20:58:07</td>\n",
       "      <td>Wednesday</td>\n",
       "    </tr>\n",
       "    <tr>\n",
       "      <th>3</th>\n",
       "      <td>A3DD03C9</td>\n",
       "      <td>Dragons in the Sunset</td>\n",
       "      <td>Fire + Ice</td>\n",
       "      <td>folk</td>\n",
       "      <td>Saint-Petersburg</td>\n",
       "      <td>08:37:09</td>\n",
       "      <td>Monday</td>\n",
       "    </tr>\n",
       "    <tr>\n",
       "      <th>4</th>\n",
       "      <td>E2DC1FAE</td>\n",
       "      <td>Soul People</td>\n",
       "      <td>Space Echo</td>\n",
       "      <td>dance</td>\n",
       "      <td>Moscow</td>\n",
       "      <td>08:34:34</td>\n",
       "      <td>Monday</td>\n",
       "    </tr>\n",
       "    <tr>\n",
       "      <th>5</th>\n",
       "      <td>842029A1</td>\n",
       "      <td>Преданная</td>\n",
       "      <td>IMPERVTOR</td>\n",
       "      <td>rusrap</td>\n",
       "      <td>Saint-Petersburg</td>\n",
       "      <td>13:09:41</td>\n",
       "      <td>Friday</td>\n",
       "    </tr>\n",
       "    <tr>\n",
       "      <th>6</th>\n",
       "      <td>4CB90AA5</td>\n",
       "      <td>True</td>\n",
       "      <td>Roman Messer</td>\n",
       "      <td>dance</td>\n",
       "      <td>Moscow</td>\n",
       "      <td>13:00:07</td>\n",
       "      <td>Wednesday</td>\n",
       "    </tr>\n",
       "    <tr>\n",
       "      <th>7</th>\n",
       "      <td>F03E1C1F</td>\n",
       "      <td>Feeling This Way</td>\n",
       "      <td>Polina Griffith</td>\n",
       "      <td>dance</td>\n",
       "      <td>Moscow</td>\n",
       "      <td>20:47:49</td>\n",
       "      <td>Wednesday</td>\n",
       "    </tr>\n",
       "    <tr>\n",
       "      <th>8</th>\n",
       "      <td>8FA1D3BE</td>\n",
       "      <td>И вновь продолжается бой</td>\n",
       "      <td>NaN</td>\n",
       "      <td>ruspop</td>\n",
       "      <td>Moscow</td>\n",
       "      <td>09:17:40</td>\n",
       "      <td>Friday</td>\n",
       "    </tr>\n",
       "    <tr>\n",
       "      <th>9</th>\n",
       "      <td>E772D5C0</td>\n",
       "      <td>Pessimist</td>\n",
       "      <td>NaN</td>\n",
       "      <td>dance</td>\n",
       "      <td>Saint-Petersburg</td>\n",
       "      <td>21:20:49</td>\n",
       "      <td>Wednesday</td>\n",
       "    </tr>\n",
       "  </tbody>\n",
       "</table>\n",
       "</div>"
      ],
      "text/plain": [
       "     userID                        Track            artist   genre  \\\n",
       "0  FFB692EC            Kamigata To Boots  The Mass Missile    rock   \n",
       "1  55204538  Delayed Because of Accident  Andreas Rönnberg    rock   \n",
       "2    20EC38            Funiculì funiculà       Mario Lanza     pop   \n",
       "3  A3DD03C9        Dragons in the Sunset        Fire + Ice    folk   \n",
       "4  E2DC1FAE                  Soul People        Space Echo   dance   \n",
       "5  842029A1                    Преданная         IMPERVTOR  rusrap   \n",
       "6  4CB90AA5                         True      Roman Messer   dance   \n",
       "7  F03E1C1F             Feeling This Way   Polina Griffith   dance   \n",
       "8  8FA1D3BE     И вновь продолжается бой               NaN  ruspop   \n",
       "9  E772D5C0                    Pessimist               NaN   dance   \n",
       "\n",
       "             City        time        Day  \n",
       "0  Saint-Petersburg  20:28:33  Wednesday  \n",
       "1            Moscow  14:07:09     Friday  \n",
       "2  Saint-Petersburg  20:58:07  Wednesday  \n",
       "3  Saint-Petersburg  08:37:09     Monday  \n",
       "4            Moscow  08:34:34     Monday  \n",
       "5  Saint-Petersburg  13:09:41     Friday  \n",
       "6            Moscow  13:00:07  Wednesday  \n",
       "7            Moscow  20:47:49  Wednesday  \n",
       "8            Moscow  09:17:40     Friday  \n",
       "9  Saint-Petersburg  21:20:49  Wednesday  "
      ]
     },
     "execution_count": 3,
     "metadata": {},
     "output_type": "execute_result"
    }
   ],
   "source": [
    "df.head(10)"
   ]
  },
  {
   "cell_type": "markdown",
   "metadata": {
    "id": "EO73Kwic_Zct"
   },
   "source": [
    "Общая информацию о таблице:"
   ]
  },
  {
   "cell_type": "code",
   "execution_count": 4,
   "metadata": {
    "id": "DSf2kIb-_Zct",
    "scrolled": true
   },
   "outputs": [
    {
     "name": "stdout",
     "output_type": "stream",
     "text": [
      "<class 'pandas.core.frame.DataFrame'>\n",
      "RangeIndex: 65079 entries, 0 to 65078\n",
      "Data columns (total 7 columns):\n",
      " #   Column    Non-Null Count  Dtype \n",
      "---  ------    --------------  ----- \n",
      " 0     userID  65079 non-null  object\n",
      " 1   Track     63848 non-null  object\n",
      " 2   artist    57876 non-null  object\n",
      " 3   genre     63881 non-null  object\n",
      " 4     City    65079 non-null  object\n",
      " 5   time      65079 non-null  object\n",
      " 6   Day       65079 non-null  object\n",
      "dtypes: object(7)\n",
      "memory usage: 3.5+ MB\n"
     ]
    }
   ],
   "source": [
    "df.info()"
   ]
  },
  {
   "cell_type": "markdown",
   "metadata": {
    "id": "TaQ2Iwbr_Zct"
   },
   "source": [
    "В таблице семь столбцов. Тип данных во всех столбцах — `object`.\n",
    "\n",
    "Согласно документации к данным:\n",
    "* `userID` — идентификатор пользователя;\n",
    "* `Track` — название трека;  \n",
    "* `artist` — имя исполнителя;\n",
    "* `genre` — название жанра;\n",
    "* `City` — город пользователя;\n",
    "* `time` — время начала прослушивания;\n",
    "* `Day` — день недели.\n",
    "\n",
    "В названиях колонок видны три нарушения стиля:\n",
    "1. Строчные буквы сочетаются с прописными.\n",
    "2. Встречаются пробелы.\n",
    "3. Количество значений в столбцах различается. Значит, в данных есть пропущенные значения."
   ]
  },
  {
   "cell_type": "markdown",
   "metadata": {
    "id": "MCB6-dXG_Zct"
   },
   "source": [
    "**Выводы**\n",
    "\n",
    "В каждой строке таблицы — данные о прослушанном треке. Часть колонок описывает саму композицию: название, исполнителя и жанр. Остальные данные рассказывают о пользователе: из какого он города, когда он слушал музыку. \n",
    "\n",
    "Предварительно можно утверждать, что, данных достаточно для проверки гипотез. Но встречаются пропуски в данных, а в названиях колонок — расхождения с хорошим стилем.\n",
    "\n",
    "Чтобы двигаться дальше, нужно устранить проблемы в данных."
   ]
  },
  {
   "cell_type": "markdown",
   "metadata": {
    "id": "SjYF6Ub9_Zct"
   },
   "source": [
    "## Предобработка данных\n",
    "Исправим стиль в заголовках столбцов, исключим пропуски. Затем проверим данные на дубликаты."
   ]
  },
  {
   "cell_type": "markdown",
   "metadata": {
    "id": "dIaKXr29_Zct"
   },
   "source": [
    "### Стиль заголовков\n",
    "Выведим на экран названия столбцов:"
   ]
  },
  {
   "cell_type": "code",
   "execution_count": 5,
   "metadata": {
    "id": "oKOTdF_Q_Zct"
   },
   "outputs": [
    {
     "data": {
      "text/plain": [
       "Index(['  userID', 'Track', 'artist', 'genre', '  City  ', 'time', 'Day'], dtype='object')"
      ]
     },
     "execution_count": 5,
     "metadata": {},
     "output_type": "execute_result"
    }
   ],
   "source": [
    "df.columns"
   ]
  },
  {
   "cell_type": "markdown",
   "metadata": {
    "id": "zj5534cv_Zct"
   },
   "source": [
    "Изменим названия в соответствие с хорошим стилем:\n",
    "* несколько слов в названии запишите в «змеином_регистре»,\n",
    "* все символы сделаем строчными,\n",
    "* устраним пробелы.\n",
    "\n",
    "Для этого переименуем колонки так:\n",
    "* `  userID` → `user_id`;\n",
    "* `Track` → `track`;\n",
    "* `  City  ` → `city`;\n",
    "* `Day` → `weekday`."
   ]
  },
  {
   "cell_type": "code",
   "execution_count": 6,
   "metadata": {},
   "outputs": [],
   "source": [
    "df.columns = ['user_id', 'track', 'artist', 'genre', 'city', 'time', 'weekday']"
   ]
  },
  {
   "cell_type": "markdown",
   "metadata": {
    "id": "1dqbh00J_Zct"
   },
   "source": [
    "Проверка:"
   ]
  },
  {
   "cell_type": "code",
   "execution_count": 7,
   "metadata": {
    "id": "oKOTdF_Q_Zct"
   },
   "outputs": [
    {
     "data": {
      "text/plain": [
       "Index(['user_id', 'track', 'artist', 'genre', 'city', 'time', 'weekday'], dtype='object')"
      ]
     },
     "execution_count": 7,
     "metadata": {},
     "output_type": "execute_result"
    }
   ],
   "source": [
    "df.columns"
   ]
  },
  {
   "cell_type": "markdown",
   "metadata": {
    "id": "5ISfbcfY_Zct"
   },
   "source": [
    "### Пропуски значений\n",
    "Посчитаем, сколько в таблице пропущенных значений. Для этого достаточно двух методов `pandas`:"
   ]
  },
  {
   "cell_type": "code",
   "execution_count": 8,
   "metadata": {
    "id": "RskX29qr_Zct"
   },
   "outputs": [
    {
     "data": {
      "text/plain": [
       "user_id       0\n",
       "track      1231\n",
       "artist     7203\n",
       "genre      1198\n",
       "city          0\n",
       "time          0\n",
       "weekday       0\n",
       "dtype: int64"
      ]
     },
     "execution_count": 8,
     "metadata": {},
     "output_type": "execute_result"
    }
   ],
   "source": [
    "df.isna().sum()"
   ]
  },
  {
   "cell_type": "markdown",
   "metadata": {
    "id": "qubhgnlO_Zct"
   },
   "source": [
    "Не все пропущенные значения влияют на исследование. Так в `track` и `artist` пропуски не важны для работы. Достаточно заменить их явными обозначениями.\n",
    "\n",
    "Но пропуски в `genre` могут помешать сравнению музыкальных вкусов в Москве и Санкт-Петербурге. \n",
    "* заполним эти пропуски явными обозначениями,\n",
    "* оценим, насколько они повредят расчётам. "
   ]
  },
  {
   "cell_type": "markdown",
   "metadata": {
    "id": "fSv2laPA_Zct"
   },
   "source": [
    "Заменим пропущенные значения в столбцах `track`, `artist` и `genre` на строку `unknown`. Для этого создадим список `columns_to_replace`, переберем его элементы циклом `for` и для каждого столбца выполним замену пропущенных значений:"
   ]
  },
  {
   "cell_type": "code",
   "execution_count": 9,
   "metadata": {
    "id": "KplB5qWs_Zct"
   },
   "outputs": [],
   "source": [
    "columns_to_replace = df[['track', 'artist', 'genre']]"
   ]
  },
  {
   "cell_type": "code",
   "execution_count": 10,
   "metadata": {},
   "outputs": [],
   "source": [
    "for i in columns_to_replace:\n",
    "    df[i] = df[i].fillna('unknown')"
   ]
  },
  {
   "cell_type": "markdown",
   "metadata": {
    "id": "Ilsm-MZo_Zct"
   },
   "source": [
    "Убедимся, что в таблице не осталось пропусков. Для этого ещё раз посчитаем пропущенные значения."
   ]
  },
  {
   "cell_type": "code",
   "execution_count": 11,
   "metadata": {
    "id": "RskX29qr_Zct"
   },
   "outputs": [
    {
     "data": {
      "text/plain": [
       "user_id    0\n",
       "track      0\n",
       "artist     0\n",
       "genre      0\n",
       "city       0\n",
       "time       0\n",
       "weekday    0\n",
       "dtype: int64"
      ]
     },
     "execution_count": 11,
     "metadata": {},
     "output_type": "execute_result"
    }
   ],
   "source": [
    "df.isna().sum()"
   ]
  },
  {
   "cell_type": "markdown",
   "metadata": {
    "id": "BWKRtBJ3_Zct"
   },
   "source": [
    "### Дубликаты\n",
    "Посчитаем явные дубликаты в таблице одной командой:"
   ]
  },
  {
   "cell_type": "code",
   "execution_count": 12,
   "metadata": {
    "id": "36eES_S0_Zct"
   },
   "outputs": [
    {
     "data": {
      "text/plain": [
       "3826"
      ]
     },
     "execution_count": 12,
     "metadata": {},
     "output_type": "execute_result"
    }
   ],
   "source": [
    "df.duplicated().sum()"
   ]
  },
  {
   "cell_type": "markdown",
   "metadata": {
    "id": "Ot25h6XR_Zct"
   },
   "source": [
    "Удалим явные дубликаты:"
   ]
  },
  {
   "cell_type": "code",
   "execution_count": 13,
   "metadata": {
    "id": "exFHq6tt_Zct"
   },
   "outputs": [],
   "source": [
    "df.drop_duplicates(inplace=True)"
   ]
  },
  {
   "cell_type": "markdown",
   "metadata": {
    "id": "Im2YwBEG_Zct"
   },
   "source": [
    "Проверка"
   ]
  },
  {
   "cell_type": "code",
   "execution_count": 14,
   "metadata": {
    "id": "36eES_S0_Zct"
   },
   "outputs": [
    {
     "data": {
      "text/plain": [
       "0"
      ]
     },
     "execution_count": 14,
     "metadata": {},
     "output_type": "execute_result"
    }
   ],
   "source": [
    "df.duplicated().sum()"
   ]
  },
  {
   "cell_type": "markdown",
   "metadata": {
    "id": "QlFBsxAr_Zct"
   },
   "source": [
    "Теперь избавимся от неявных дубликатов в колонке `genre`. Например, название одного и того же жанра может быть записано немного по-разному. Такие ошибки тоже повлияют на результат исследования."
   ]
  },
  {
   "cell_type": "markdown",
   "metadata": {
    "id": "eSjWwsOh_Zct"
   },
   "source": [
    "Выведим на экран список уникальных названий жанров, отсортированный в алфавитном порядке. Для этого:\n",
    "* извлекаем нужный столбец датафрейма, \n",
    "* применим к нему метод сортировки,\n",
    "* для отсортированного столбца вызовим метод, который вернёт уникальные значения из столбца."
   ]
  },
  {
   "cell_type": "code",
   "execution_count": 15,
   "metadata": {},
   "outputs": [
    {
     "data": {
      "text/plain": [
       "array(['acid', 'acoustic', 'action', 'adult', 'africa', 'afrikaans',\n",
       "       'alternative', 'alternativepunk', 'ambient', 'americana',\n",
       "       'animated', 'anime', 'arabesk', 'arabic', 'arena',\n",
       "       'argentinetango', 'art', 'audiobook', 'author', 'avantgarde',\n",
       "       'axé', 'baile', 'balkan', 'beats', 'bigroom', 'black', 'bluegrass',\n",
       "       'blues', 'bollywood', 'bossa', 'brazilian', 'breakbeat', 'breaks',\n",
       "       'broadway', 'cantautori', 'cantopop', 'canzone', 'caribbean',\n",
       "       'caucasian', 'celtic', 'chamber', 'chanson', 'children', 'chill',\n",
       "       'chinese', 'choral', 'christian', 'christmas', 'classical',\n",
       "       'classicmetal', 'club', 'colombian', 'comedy', 'conjazz',\n",
       "       'contemporary', 'country', 'cuban', 'dance', 'dancehall',\n",
       "       'dancepop', 'dark', 'death', 'deep', 'deutschrock', 'deutschspr',\n",
       "       'dirty', 'disco', 'dnb', 'documentary', 'downbeat', 'downtempo',\n",
       "       'drum', 'dub', 'dubstep', 'eastern', 'easy', 'electronic',\n",
       "       'electropop', 'emo', 'entehno', 'epicmetal', 'estrada', 'ethnic',\n",
       "       'eurofolk', 'european', 'experimental', 'extrememetal', 'fado',\n",
       "       'fairytail', 'film', 'fitness', 'flamenco', 'folk', 'folklore',\n",
       "       'folkmetal', 'folkrock', 'folktronica', 'forró', 'frankreich',\n",
       "       'französisch', 'french', 'funk', 'future', 'gangsta', 'garage',\n",
       "       'german', 'ghazal', 'gitarre', 'glitch', 'gospel', 'gothic',\n",
       "       'grime', 'grunge', 'gypsy', 'handsup', \"hard'n'heavy\", 'hardcore',\n",
       "       'hardstyle', 'hardtechno', 'hip', 'hip-hop', 'hiphop',\n",
       "       'historisch', 'holiday', 'hop', 'horror', 'house', 'hymn', 'idm',\n",
       "       'independent', 'indian', 'indie', 'indipop', 'industrial',\n",
       "       'inspirational', 'instrumental', 'international', 'irish', 'jam',\n",
       "       'japanese', 'jazz', 'jewish', 'jpop', 'jungle', 'k-pop',\n",
       "       'karadeniz', 'karaoke', 'kayokyoku', 'korean', 'laiko', 'latin',\n",
       "       'latino', 'leftfield', 'local', 'lounge', 'loungeelectronic',\n",
       "       'lovers', 'malaysian', 'mandopop', 'marschmusik', 'meditative',\n",
       "       'mediterranean', 'melodic', 'metal', 'metalcore', 'mexican',\n",
       "       'middle', 'minimal', 'miscellaneous', 'modern', 'mood', 'mpb',\n",
       "       'muslim', 'native', 'neoklassik', 'neue', 'new', 'newage',\n",
       "       'newwave', 'nu', 'nujazz', 'numetal', 'oceania', 'old', 'opera',\n",
       "       'orchestral', 'other', 'piano', 'podcasts', 'pop', 'popdance',\n",
       "       'popelectronic', 'popeurodance', 'poprussian', 'post',\n",
       "       'posthardcore', 'postrock', 'power', 'progmetal', 'progressive',\n",
       "       'psychedelic', 'punjabi', 'punk', 'quebecois', 'ragga', 'ram',\n",
       "       'rancheras', 'rap', 'rave', 'reggae', 'reggaeton', 'regional',\n",
       "       'relax', 'religious', 'retro', 'rhythm', 'rnb', 'rnr', 'rock',\n",
       "       'rockabilly', 'rockalternative', 'rockindie', 'rockother',\n",
       "       'romance', 'roots', 'ruspop', 'rusrap', 'rusrock', 'russian',\n",
       "       'salsa', 'samba', 'scenic', 'schlager', 'self', 'sertanejo',\n",
       "       'shanson', 'shoegazing', 'showtunes', 'singer', 'ska', 'skarock',\n",
       "       'slow', 'smooth', 'soft', 'soul', 'soulful', 'sound', 'soundtrack',\n",
       "       'southern', 'specialty', 'speech', 'spiritual', 'sport',\n",
       "       'stonerrock', 'surf', 'swing', 'synthpop', 'synthrock',\n",
       "       'sängerportrait', 'tango', 'tanzorchester', 'taraftar', 'tatar',\n",
       "       'tech', 'techno', 'teen', 'thrash', 'top', 'traditional',\n",
       "       'tradjazz', 'trance', 'tribal', 'trip', 'triphop', 'tropical',\n",
       "       'türk', 'türkçe', 'ukrrock', 'unknown', 'urban', 'uzbek',\n",
       "       'variété', 'vi', 'videogame', 'vocal', 'western', 'world',\n",
       "       'worldbeat', 'ïîï', 'электроника'], dtype=object)"
      ]
     },
     "execution_count": 15,
     "metadata": {},
     "output_type": "execute_result"
    }
   ],
   "source": [
    "df['genre'].sort_values().unique()"
   ]
  },
  {
   "cell_type": "markdown",
   "metadata": {
    "id": "qej-Qmuo_Zct"
   },
   "source": [
    "Присутствуют неявные дубликаты названия `hiphop`. Это могут быть названия с ошибками или альтернативные названия того же жанра.\n",
    "\n",
    "Неявные дубликаты:\n",
    "* *hip*,\n",
    "* *hop*,\n",
    "* *hip-hop*.\n",
    "\n",
    "Чтобы очистить от них таблицу, напишем функцию `replace_wrong_genres()` с двумя параметрами: \n",
    "* `wrong_genres` — список дубликатов,\n",
    "* `correct_genre` — строка с правильным значением.\n",
    "\n",
    "Функция должна исправить колонку `genre` в таблице `df`: заменить каждое значение из списка `wrong_genres` на значение из `correct_genre`."
   ]
  },
  {
   "cell_type": "code",
   "execution_count": 16,
   "metadata": {
    "id": "ErNDkmns_Zct"
   },
   "outputs": [],
   "source": [
    "def replace_wrong_genres(wrong_genres, correct_genre):\n",
    "    for i in wrong_genres:\n",
    "        df['genre'] = df['genre'].replace(i, correct_genre) "
   ]
  },
  {
   "cell_type": "markdown",
   "metadata": {
    "id": "aDoBJxbA_Zct"
   },
   "source": [
    "Вызовим `replace_wrong_genres()` и передадим ей такие аргументы, чтобы она устранила неявные дубликаты: вместо `hip`, `hop` и `hip-hop` в таблице должно быть значение `hiphop`:"
   ]
  },
  {
   "cell_type": "code",
   "execution_count": 17,
   "metadata": {
    "id": "YN5i2hpmSo09"
   },
   "outputs": [],
   "source": [
    "wrong_genres_list = ['hip', 'hop', 'hip-hop']\n",
    "correct_genre_name = 'hiphop'"
   ]
  },
  {
   "cell_type": "code",
   "execution_count": 18,
   "metadata": {},
   "outputs": [],
   "source": [
    "replace_wrong_genres(wrong_genres_list, correct_genre_name)"
   ]
  },
  {
   "cell_type": "markdown",
   "metadata": {
    "id": "zQKF16_RG15m"
   },
   "source": [
    "Проверим, что заменили неправильные названия:\n",
    "\n",
    "*   hip\n",
    "*   hop\n",
    "*   hip-hop\n",
    "\n",
    "Выведим отсортированный список уникальных значений столбца `genre`:"
   ]
  },
  {
   "cell_type": "code",
   "execution_count": 19,
   "metadata": {},
   "outputs": [
    {
     "data": {
      "text/plain": [
       "array(['acid', 'acoustic', 'action', 'adult', 'africa', 'afrikaans',\n",
       "       'alternative', 'alternativepunk', 'ambient', 'americana',\n",
       "       'animated', 'anime', 'arabesk', 'arabic', 'arena',\n",
       "       'argentinetango', 'art', 'audiobook', 'author', 'avantgarde',\n",
       "       'axé', 'baile', 'balkan', 'beats', 'bigroom', 'black', 'bluegrass',\n",
       "       'blues', 'bollywood', 'bossa', 'brazilian', 'breakbeat', 'breaks',\n",
       "       'broadway', 'cantautori', 'cantopop', 'canzone', 'caribbean',\n",
       "       'caucasian', 'celtic', 'chamber', 'chanson', 'children', 'chill',\n",
       "       'chinese', 'choral', 'christian', 'christmas', 'classical',\n",
       "       'classicmetal', 'club', 'colombian', 'comedy', 'conjazz',\n",
       "       'contemporary', 'country', 'cuban', 'dance', 'dancehall',\n",
       "       'dancepop', 'dark', 'death', 'deep', 'deutschrock', 'deutschspr',\n",
       "       'dirty', 'disco', 'dnb', 'documentary', 'downbeat', 'downtempo',\n",
       "       'drum', 'dub', 'dubstep', 'eastern', 'easy', 'electronic',\n",
       "       'electropop', 'emo', 'entehno', 'epicmetal', 'estrada', 'ethnic',\n",
       "       'eurofolk', 'european', 'experimental', 'extrememetal', 'fado',\n",
       "       'fairytail', 'film', 'fitness', 'flamenco', 'folk', 'folklore',\n",
       "       'folkmetal', 'folkrock', 'folktronica', 'forró', 'frankreich',\n",
       "       'französisch', 'french', 'funk', 'future', 'gangsta', 'garage',\n",
       "       'german', 'ghazal', 'gitarre', 'glitch', 'gospel', 'gothic',\n",
       "       'grime', 'grunge', 'gypsy', 'handsup', \"hard'n'heavy\", 'hardcore',\n",
       "       'hardstyle', 'hardtechno', 'hiphop', 'historisch', 'holiday',\n",
       "       'horror', 'house', 'hymn', 'idm', 'independent', 'indian', 'indie',\n",
       "       'indipop', 'industrial', 'inspirational', 'instrumental',\n",
       "       'international', 'irish', 'jam', 'japanese', 'jazz', 'jewish',\n",
       "       'jpop', 'jungle', 'k-pop', 'karadeniz', 'karaoke', 'kayokyoku',\n",
       "       'korean', 'laiko', 'latin', 'latino', 'leftfield', 'local',\n",
       "       'lounge', 'loungeelectronic', 'lovers', 'malaysian', 'mandopop',\n",
       "       'marschmusik', 'meditative', 'mediterranean', 'melodic', 'metal',\n",
       "       'metalcore', 'mexican', 'middle', 'minimal', 'miscellaneous',\n",
       "       'modern', 'mood', 'mpb', 'muslim', 'native', 'neoklassik', 'neue',\n",
       "       'new', 'newage', 'newwave', 'nu', 'nujazz', 'numetal', 'oceania',\n",
       "       'old', 'opera', 'orchestral', 'other', 'piano', 'podcasts', 'pop',\n",
       "       'popdance', 'popelectronic', 'popeurodance', 'poprussian', 'post',\n",
       "       'posthardcore', 'postrock', 'power', 'progmetal', 'progressive',\n",
       "       'psychedelic', 'punjabi', 'punk', 'quebecois', 'ragga', 'ram',\n",
       "       'rancheras', 'rap', 'rave', 'reggae', 'reggaeton', 'regional',\n",
       "       'relax', 'religious', 'retro', 'rhythm', 'rnb', 'rnr', 'rock',\n",
       "       'rockabilly', 'rockalternative', 'rockindie', 'rockother',\n",
       "       'romance', 'roots', 'ruspop', 'rusrap', 'rusrock', 'russian',\n",
       "       'salsa', 'samba', 'scenic', 'schlager', 'self', 'sertanejo',\n",
       "       'shanson', 'shoegazing', 'showtunes', 'singer', 'ska', 'skarock',\n",
       "       'slow', 'smooth', 'soft', 'soul', 'soulful', 'sound', 'soundtrack',\n",
       "       'southern', 'specialty', 'speech', 'spiritual', 'sport',\n",
       "       'stonerrock', 'surf', 'swing', 'synthpop', 'synthrock',\n",
       "       'sängerportrait', 'tango', 'tanzorchester', 'taraftar', 'tatar',\n",
       "       'tech', 'techno', 'teen', 'thrash', 'top', 'traditional',\n",
       "       'tradjazz', 'trance', 'tribal', 'trip', 'triphop', 'tropical',\n",
       "       'türk', 'türkçe', 'ukrrock', 'unknown', 'urban', 'uzbek',\n",
       "       'variété', 'vi', 'videogame', 'vocal', 'western', 'world',\n",
       "       'worldbeat', 'ïîï', 'электроника'], dtype=object)"
      ]
     },
     "execution_count": 19,
     "metadata": {},
     "output_type": "execute_result"
    }
   ],
   "source": [
    "df['genre'].sort_values().unique()"
   ]
  },
  {
   "cell_type": "markdown",
   "metadata": {
    "id": "jz6a9-7HQUDd"
   },
   "source": [
    "**Выводы**\n",
    "\n",
    "Предобработка обнаружила три проблемы в данных:\n",
    "\n",
    "- нарушения в стиле заголовков,\n",
    "- пропущенные значения,\n",
    "- дубликаты — явные и неявные.\n",
    "\n",
    "Исправили заголовки, чтобы упростить работу с таблицей. Без дубликатов исследование станет более точным.\n",
    "\n",
    "Пропущенные значения заменили на `unknown`. Ещё предстоит увидеть, не повредят ли исследованию пропуски в колонке `genre`.\n",
    "\n",
    "Теперь можно перейти к проверке гипотез. "
   ]
  },
  {
   "cell_type": "markdown",
   "metadata": {
    "id": "WttZHXH0SqKk"
   },
   "source": [
    "## Проверка гипотез"
   ]
  },
  {
   "cell_type": "markdown",
   "metadata": {
    "id": "Im936VVi_Zcu"
   },
   "source": [
    "### Сравнение поведения пользователей двух столиц"
   ]
  },
  {
   "cell_type": "markdown",
   "metadata": {
    "id": "nwt_MuaL_Zcu"
   },
   "source": [
    "Первая гипотеза утверждает, что пользователи по-разному слушают музыку в Москве и Санкт-Петербурге. Проверим это предположение по данным о трёх днях недели — понедельнике, среде и пятнице. Для этого:\n",
    "\n",
    "* Разделим пользователей Москвы и Санкт-Петербурга\n",
    "* Сравним, сколько треков послушала каждая группа пользователей в понедельник, среду и пятницу.\n"
   ]
  },
  {
   "cell_type": "markdown",
   "metadata": {
    "id": "8Dw_YMmT_Zcu"
   },
   "source": [
    "Для тренировки сначала выполним каждый из расчётов по отдельности. \n",
    "\n",
    "Оценим активность пользователей в каждом городе. Сгруппируем данные по городу и посчитаем прослушивания в каждой группе.\n"
   ]
  },
  {
   "cell_type": "code",
   "execution_count": 20,
   "metadata": {},
   "outputs": [
    {
     "data": {
      "text/html": [
       "<div>\n",
       "<style scoped>\n",
       "    .dataframe tbody tr th:only-of-type {\n",
       "        vertical-align: middle;\n",
       "    }\n",
       "\n",
       "    .dataframe tbody tr th {\n",
       "        vertical-align: top;\n",
       "    }\n",
       "\n",
       "    .dataframe thead th {\n",
       "        text-align: right;\n",
       "    }\n",
       "</style>\n",
       "<table border=\"1\" class=\"dataframe\">\n",
       "  <thead>\n",
       "    <tr style=\"text-align: right;\">\n",
       "      <th></th>\n",
       "      <th>user_id</th>\n",
       "      <th>track</th>\n",
       "      <th>artist</th>\n",
       "      <th>genre</th>\n",
       "      <th>time</th>\n",
       "      <th>weekday</th>\n",
       "    </tr>\n",
       "    <tr>\n",
       "      <th>city</th>\n",
       "      <th></th>\n",
       "      <th></th>\n",
       "      <th></th>\n",
       "      <th></th>\n",
       "      <th></th>\n",
       "      <th></th>\n",
       "    </tr>\n",
       "  </thead>\n",
       "  <tbody>\n",
       "    <tr>\n",
       "      <th>Moscow</th>\n",
       "      <td>42741</td>\n",
       "      <td>42741</td>\n",
       "      <td>42741</td>\n",
       "      <td>42741</td>\n",
       "      <td>42741</td>\n",
       "      <td>42741</td>\n",
       "    </tr>\n",
       "    <tr>\n",
       "      <th>Saint-Petersburg</th>\n",
       "      <td>18512</td>\n",
       "      <td>18512</td>\n",
       "      <td>18512</td>\n",
       "      <td>18512</td>\n",
       "      <td>18512</td>\n",
       "      <td>18512</td>\n",
       "    </tr>\n",
       "  </tbody>\n",
       "</table>\n",
       "</div>"
      ],
      "text/plain": [
       "                  user_id  track  artist  genre   time  weekday\n",
       "city                                                           \n",
       "Moscow              42741  42741   42741  42741  42741    42741\n",
       "Saint-Petersburg    18512  18512   18512  18512  18512    18512"
      ]
     },
     "execution_count": 20,
     "metadata": {},
     "output_type": "execute_result"
    }
   ],
   "source": [
    "df.groupby('city').count()"
   ]
  },
  {
   "cell_type": "markdown",
   "metadata": {
    "id": "dzli3w8o_Zcu"
   },
   "source": [
    "В Москве прослушиваний больше, чем в Петербурге. Из этого не следует, что московские пользователи чаще слушают музыку. Просто самих пользователей в Москве больше.\n",
    "\n",
    "Теперь сгруппируем данные по дню недели и подсчитаем прослушивания в понедельник, среду и пятницу. "
   ]
  },
  {
   "cell_type": "code",
   "execution_count": 21,
   "metadata": {},
   "outputs": [
    {
     "data": {
      "text/html": [
       "<div>\n",
       "<style scoped>\n",
       "    .dataframe tbody tr th:only-of-type {\n",
       "        vertical-align: middle;\n",
       "    }\n",
       "\n",
       "    .dataframe tbody tr th {\n",
       "        vertical-align: top;\n",
       "    }\n",
       "\n",
       "    .dataframe thead th {\n",
       "        text-align: right;\n",
       "    }\n",
       "</style>\n",
       "<table border=\"1\" class=\"dataframe\">\n",
       "  <thead>\n",
       "    <tr style=\"text-align: right;\">\n",
       "      <th></th>\n",
       "      <th>user_id</th>\n",
       "      <th>track</th>\n",
       "      <th>artist</th>\n",
       "      <th>genre</th>\n",
       "      <th>city</th>\n",
       "      <th>time</th>\n",
       "    </tr>\n",
       "    <tr>\n",
       "      <th>weekday</th>\n",
       "      <th></th>\n",
       "      <th></th>\n",
       "      <th></th>\n",
       "      <th></th>\n",
       "      <th></th>\n",
       "      <th></th>\n",
       "    </tr>\n",
       "  </thead>\n",
       "  <tbody>\n",
       "    <tr>\n",
       "      <th>Friday</th>\n",
       "      <td>21840</td>\n",
       "      <td>21840</td>\n",
       "      <td>21840</td>\n",
       "      <td>21840</td>\n",
       "      <td>21840</td>\n",
       "      <td>21840</td>\n",
       "    </tr>\n",
       "    <tr>\n",
       "      <th>Monday</th>\n",
       "      <td>21354</td>\n",
       "      <td>21354</td>\n",
       "      <td>21354</td>\n",
       "      <td>21354</td>\n",
       "      <td>21354</td>\n",
       "      <td>21354</td>\n",
       "    </tr>\n",
       "    <tr>\n",
       "      <th>Wednesday</th>\n",
       "      <td>18059</td>\n",
       "      <td>18059</td>\n",
       "      <td>18059</td>\n",
       "      <td>18059</td>\n",
       "      <td>18059</td>\n",
       "      <td>18059</td>\n",
       "    </tr>\n",
       "  </tbody>\n",
       "</table>\n",
       "</div>"
      ],
      "text/plain": [
       "           user_id  track  artist  genre   city   time\n",
       "weekday                                               \n",
       "Friday       21840  21840   21840  21840  21840  21840\n",
       "Monday       21354  21354   21354  21354  21354  21354\n",
       "Wednesday    18059  18059   18059  18059  18059  18059"
      ]
     },
     "execution_count": 21,
     "metadata": {},
     "output_type": "execute_result"
    }
   ],
   "source": [
    "df.groupby('weekday').count()"
   ]
  },
  {
   "cell_type": "markdown",
   "metadata": {
    "id": "cC2tNrlL_Zcu"
   },
   "source": [
    "В среднем пользователи из двух городов менее активны по средам. Но картина может измениться, если рассмотреть каждый город в отдельности."
   ]
  },
  {
   "cell_type": "markdown",
   "metadata": {
    "id": "POzs8bGa_Zcu"
   },
   "source": [
    "Напишем функцию, которая объединит два эти расчёта.\n",
    "\n",
    "Создадим функцию 'number_tracks()', которая посчитает прослушивания для заданного дня и города. Ей понадобятся два параметра:\n",
    "* день недели,\n",
    "* название города.\n",
    "\n",
    "В функции сохраним в переменную строки исходной таблицы, у которых значение:\n",
    "  * в колонке 'weekday' равно параметру 'weekday',\n",
    "  * в колонке 'city' равно параметру 'city'.\n",
    "\n",
    "Для этого применим последовательную фильтрацию с логической индексацией.\n",
    "\n",
    "Затем посчитаем значения в столбце 'user_id' получившейся таблицы. Результат сохраним в новую переменную."
   ]
  },
  {
   "cell_type": "code",
   "execution_count": 22,
   "metadata": {},
   "outputs": [],
   "source": [
    "def number_tracks(weekday, city):\n",
    "    track_list=df[(df['weekday']==weekday) & (df['city']==city)]\n",
    "    track_list_count = track_list['user_id'].count()\n",
    "    return track_list_count"
   ]
  },
  {
   "cell_type": "markdown",
   "metadata": {
    "id": "ytf7xFrFJQ2r"
   },
   "source": [
    "Вызовем `number_tracks()` шесть раз, меняя значение параметров — так, чтобы получить данные для каждого города в каждый из трёх дней."
   ]
  },
  {
   "cell_type": "markdown",
   "metadata": {
    "id": "rJcRATNQ_Zcu"
   },
   "source": [
    "Количество прослушиваний в Москве по понедельникам"
   ]
  },
  {
   "cell_type": "code",
   "execution_count": 23,
   "metadata": {
    "id": "rJcRATNQ_Zcu"
   },
   "outputs": [
    {
     "data": {
      "text/plain": [
       "15740"
      ]
     },
     "execution_count": 23,
     "metadata": {},
     "output_type": "execute_result"
    }
   ],
   "source": [
    "number_tracks('Monday', 'Moscow')"
   ]
  },
  {
   "cell_type": "markdown",
   "metadata": {
    "id": "rJcRATNQ_Zcu"
   },
   "source": [
    "Количество прослушиваний в Санкт-Петербурге по понедельникам"
   ]
  },
  {
   "cell_type": "code",
   "execution_count": 24,
   "metadata": {
    "id": "rJcRATNQ_Zcu"
   },
   "outputs": [
    {
     "data": {
      "text/plain": [
       "5614"
      ]
     },
     "execution_count": 24,
     "metadata": {},
     "output_type": "execute_result"
    }
   ],
   "source": [
    "number_tracks('Monday', 'Saint-Petersburg')"
   ]
  },
  {
   "cell_type": "markdown",
   "metadata": {
    "id": "rJcRATNQ_Zcu"
   },
   "source": [
    "Количество прослушиваний в Москве по средам"
   ]
  },
  {
   "cell_type": "code",
   "execution_count": 25,
   "metadata": {
    "id": "rJcRATNQ_Zcu"
   },
   "outputs": [
    {
     "data": {
      "text/plain": [
       "11056"
      ]
     },
     "execution_count": 25,
     "metadata": {},
     "output_type": "execute_result"
    }
   ],
   "source": [
    "number_tracks('Wednesday', 'Moscow')"
   ]
  },
  {
   "cell_type": "markdown",
   "metadata": {
    "id": "rJcRATNQ_Zcu"
   },
   "source": [
    "Количество прослушиваний в Санкт-Петербурге по средам"
   ]
  },
  {
   "cell_type": "code",
   "execution_count": 26,
   "metadata": {
    "id": "rJcRATNQ_Zcu"
   },
   "outputs": [
    {
     "data": {
      "text/plain": [
       "7003"
      ]
     },
     "execution_count": 26,
     "metadata": {},
     "output_type": "execute_result"
    }
   ],
   "source": [
    "number_tracks('Wednesday', 'Saint-Petersburg')"
   ]
  },
  {
   "cell_type": "markdown",
   "metadata": {
    "id": "rJcRATNQ_Zcu"
   },
   "source": [
    "Количество прослушиваний в Москве по пятницам"
   ]
  },
  {
   "cell_type": "code",
   "execution_count": 27,
   "metadata": {
    "id": "rJcRATNQ_Zcu"
   },
   "outputs": [
    {
     "data": {
      "text/plain": [
       "15945"
      ]
     },
     "execution_count": 27,
     "metadata": {},
     "output_type": "execute_result"
    }
   ],
   "source": [
    "number_tracks('Friday', 'Moscow')"
   ]
  },
  {
   "cell_type": "markdown",
   "metadata": {
    "id": "rJcRATNQ_Zcu"
   },
   "source": [
    "Количество прослушиваний в Санкт-Петербурге по пятницам"
   ]
  },
  {
   "cell_type": "code",
   "execution_count": 28,
   "metadata": {
    "id": "rJcRATNQ_Zcu"
   },
   "outputs": [
    {
     "data": {
      "text/plain": [
       "5895"
      ]
     },
     "execution_count": 28,
     "metadata": {},
     "output_type": "execute_result"
    }
   ],
   "source": [
    "number_tracks('Friday', 'Saint-Petersburg')"
   ]
  },
  {
   "cell_type": "markdown",
   "metadata": {
    "id": "7QXffbO-_Zcu"
   },
   "source": [
    "Создадим c помощью конструктора `pd.DataFrame` таблицу, где\n",
    "* названия колонок — `['city', 'monday', 'wednesday', 'friday']`;\n",
    "* данные — результаты, которые вы получили с помощью `number_tracks`."
   ]
  },
  {
   "cell_type": "code",
   "execution_count": 29,
   "metadata": {
    "id": "APAcLpOr_Zcu"
   },
   "outputs": [],
   "source": [
    "data = [['Moscow', 15740, 11056, 15945],\n",
    "        ['Saint-Petersburg', 5614, 7003, 5895]] \n",
    "columns = ['city', 'monday', 'wednesday', 'friday'] \n",
    "table = pd.DataFrame(data = data, columns = columns) "
   ]
  },
  {
   "cell_type": "code",
   "execution_count": 30,
   "metadata": {},
   "outputs": [
    {
     "data": {
      "text/html": [
       "<div>\n",
       "<style scoped>\n",
       "    .dataframe tbody tr th:only-of-type {\n",
       "        vertical-align: middle;\n",
       "    }\n",
       "\n",
       "    .dataframe tbody tr th {\n",
       "        vertical-align: top;\n",
       "    }\n",
       "\n",
       "    .dataframe thead th {\n",
       "        text-align: right;\n",
       "    }\n",
       "</style>\n",
       "<table border=\"1\" class=\"dataframe\">\n",
       "  <thead>\n",
       "    <tr style=\"text-align: right;\">\n",
       "      <th></th>\n",
       "      <th>city</th>\n",
       "      <th>monday</th>\n",
       "      <th>wednesday</th>\n",
       "      <th>friday</th>\n",
       "    </tr>\n",
       "  </thead>\n",
       "  <tbody>\n",
       "    <tr>\n",
       "      <th>0</th>\n",
       "      <td>Moscow</td>\n",
       "      <td>15740</td>\n",
       "      <td>11056</td>\n",
       "      <td>15945</td>\n",
       "    </tr>\n",
       "    <tr>\n",
       "      <th>1</th>\n",
       "      <td>Saint-Petersburg</td>\n",
       "      <td>5614</td>\n",
       "      <td>7003</td>\n",
       "      <td>5895</td>\n",
       "    </tr>\n",
       "  </tbody>\n",
       "</table>\n",
       "</div>"
      ],
      "text/plain": [
       "               city  monday  wednesday  friday\n",
       "0            Moscow   15740      11056   15945\n",
       "1  Saint-Petersburg    5614       7003    5895"
      ]
     },
     "execution_count": 30,
     "metadata": {},
     "output_type": "execute_result"
    }
   ],
   "source": [
    "table"
   ]
  },
  {
   "cell_type": "markdown",
   "metadata": {
    "id": "-EgPIHYu_Zcu"
   },
   "source": [
    "**Выводы**\n",
    "\n",
    "Данные показывают разницу поведения пользователей:\n",
    "\n",
    "- В Москве пик прослушиваний приходится на понедельник и пятницу, а в среду заметен спад.\n",
    "- В Петербурге, наоборот, больше слушают музыку по средам. Активность в понедельник и пятницу здесь почти в равной мере уступает среде.\n",
    "\n",
    "Значит, данные говорят в пользу первой гипотезы."
   ]
  },
  {
   "cell_type": "markdown",
   "metadata": {
    "id": "atZAxtq4_Zcu"
   },
   "source": [
    "### Музыка в начале и в конце недели"
   ]
  },
  {
   "cell_type": "markdown",
   "metadata": {
    "id": "eXrQqXFH_Zcu"
   },
   "source": [
    "Согласно второй гипотезе, утром в понедельник в Москве преобладают одни жанры, а в Петербурге — другие. Так же и вечером пятницы преобладают разные жанры — в зависимости от города."
   ]
  },
  {
   "cell_type": "markdown",
   "metadata": {
    "id": "S8UcW6Hw_Zcu"
   },
   "source": [
    "Сохраним таблицы с данными в две переменные:\n",
    "* по Москве — в `moscow_general`;\n",
    "* по Санкт-Петербургу — в `spb_general`."
   ]
  },
  {
   "cell_type": "markdown",
   "metadata": {},
   "source": [
    "Получение таблицы moscow_general из тех строк таблицы df, \n",
    "для которых значение в столбце 'city' равно 'Moscow'"
   ]
  },
  {
   "cell_type": "code",
   "execution_count": 31,
   "metadata": {
    "id": "qeaFfM_P_Zcu"
   },
   "outputs": [
    {
     "data": {
      "text/html": [
       "<div>\n",
       "<style scoped>\n",
       "    .dataframe tbody tr th:only-of-type {\n",
       "        vertical-align: middle;\n",
       "    }\n",
       "\n",
       "    .dataframe tbody tr th {\n",
       "        vertical-align: top;\n",
       "    }\n",
       "\n",
       "    .dataframe thead th {\n",
       "        text-align: right;\n",
       "    }\n",
       "</style>\n",
       "<table border=\"1\" class=\"dataframe\">\n",
       "  <thead>\n",
       "    <tr style=\"text-align: right;\">\n",
       "      <th></th>\n",
       "      <th>user_id</th>\n",
       "      <th>track</th>\n",
       "      <th>artist</th>\n",
       "      <th>genre</th>\n",
       "      <th>city</th>\n",
       "      <th>time</th>\n",
       "      <th>weekday</th>\n",
       "    </tr>\n",
       "  </thead>\n",
       "  <tbody>\n",
       "    <tr>\n",
       "      <th>1</th>\n",
       "      <td>55204538</td>\n",
       "      <td>Delayed Because of Accident</td>\n",
       "      <td>Andreas Rönnberg</td>\n",
       "      <td>rock</td>\n",
       "      <td>Moscow</td>\n",
       "      <td>14:07:09</td>\n",
       "      <td>Friday</td>\n",
       "    </tr>\n",
       "    <tr>\n",
       "      <th>4</th>\n",
       "      <td>E2DC1FAE</td>\n",
       "      <td>Soul People</td>\n",
       "      <td>Space Echo</td>\n",
       "      <td>dance</td>\n",
       "      <td>Moscow</td>\n",
       "      <td>08:34:34</td>\n",
       "      <td>Monday</td>\n",
       "    </tr>\n",
       "    <tr>\n",
       "      <th>6</th>\n",
       "      <td>4CB90AA5</td>\n",
       "      <td>True</td>\n",
       "      <td>Roman Messer</td>\n",
       "      <td>dance</td>\n",
       "      <td>Moscow</td>\n",
       "      <td>13:00:07</td>\n",
       "      <td>Wednesday</td>\n",
       "    </tr>\n",
       "    <tr>\n",
       "      <th>7</th>\n",
       "      <td>F03E1C1F</td>\n",
       "      <td>Feeling This Way</td>\n",
       "      <td>Polina Griffith</td>\n",
       "      <td>dance</td>\n",
       "      <td>Moscow</td>\n",
       "      <td>20:47:49</td>\n",
       "      <td>Wednesday</td>\n",
       "    </tr>\n",
       "    <tr>\n",
       "      <th>8</th>\n",
       "      <td>8FA1D3BE</td>\n",
       "      <td>И вновь продолжается бой</td>\n",
       "      <td>unknown</td>\n",
       "      <td>ruspop</td>\n",
       "      <td>Moscow</td>\n",
       "      <td>09:17:40</td>\n",
       "      <td>Friday</td>\n",
       "    </tr>\n",
       "  </tbody>\n",
       "</table>\n",
       "</div>"
      ],
      "text/plain": [
       "    user_id                        track            artist   genre    city  \\\n",
       "1  55204538  Delayed Because of Accident  Andreas Rönnberg    rock  Moscow   \n",
       "4  E2DC1FAE                  Soul People        Space Echo   dance  Moscow   \n",
       "6  4CB90AA5                         True      Roman Messer   dance  Moscow   \n",
       "7  F03E1C1F             Feeling This Way   Polina Griffith   dance  Moscow   \n",
       "8  8FA1D3BE     И вновь продолжается бой           unknown  ruspop  Moscow   \n",
       "\n",
       "       time    weekday  \n",
       "1  14:07:09     Friday  \n",
       "4  08:34:34     Monday  \n",
       "6  13:00:07  Wednesday  \n",
       "7  20:47:49  Wednesday  \n",
       "8  09:17:40     Friday  "
      ]
     },
     "execution_count": 31,
     "metadata": {},
     "output_type": "execute_result"
    }
   ],
   "source": [
    "moscow_general = df[df['city'] == 'Moscow']\n",
    "moscow_general.head()"
   ]
  },
  {
   "cell_type": "markdown",
   "metadata": {},
   "source": [
    "Получение таблицы spb_general из тех строк таблицы df,\n",
    "для которых значение в столбце 'city' равно 'Saint-Petersburg'"
   ]
  },
  {
   "cell_type": "code",
   "execution_count": 32,
   "metadata": {
    "id": "ORaVRKto_Zcu"
   },
   "outputs": [
    {
     "data": {
      "text/html": [
       "<div>\n",
       "<style scoped>\n",
       "    .dataframe tbody tr th:only-of-type {\n",
       "        vertical-align: middle;\n",
       "    }\n",
       "\n",
       "    .dataframe tbody tr th {\n",
       "        vertical-align: top;\n",
       "    }\n",
       "\n",
       "    .dataframe thead th {\n",
       "        text-align: right;\n",
       "    }\n",
       "</style>\n",
       "<table border=\"1\" class=\"dataframe\">\n",
       "  <thead>\n",
       "    <tr style=\"text-align: right;\">\n",
       "      <th></th>\n",
       "      <th>user_id</th>\n",
       "      <th>track</th>\n",
       "      <th>artist</th>\n",
       "      <th>genre</th>\n",
       "      <th>city</th>\n",
       "      <th>time</th>\n",
       "      <th>weekday</th>\n",
       "    </tr>\n",
       "  </thead>\n",
       "  <tbody>\n",
       "    <tr>\n",
       "      <th>0</th>\n",
       "      <td>FFB692EC</td>\n",
       "      <td>Kamigata To Boots</td>\n",
       "      <td>The Mass Missile</td>\n",
       "      <td>rock</td>\n",
       "      <td>Saint-Petersburg</td>\n",
       "      <td>20:28:33</td>\n",
       "      <td>Wednesday</td>\n",
       "    </tr>\n",
       "    <tr>\n",
       "      <th>2</th>\n",
       "      <td>20EC38</td>\n",
       "      <td>Funiculì funiculà</td>\n",
       "      <td>Mario Lanza</td>\n",
       "      <td>pop</td>\n",
       "      <td>Saint-Petersburg</td>\n",
       "      <td>20:58:07</td>\n",
       "      <td>Wednesday</td>\n",
       "    </tr>\n",
       "    <tr>\n",
       "      <th>3</th>\n",
       "      <td>A3DD03C9</td>\n",
       "      <td>Dragons in the Sunset</td>\n",
       "      <td>Fire + Ice</td>\n",
       "      <td>folk</td>\n",
       "      <td>Saint-Petersburg</td>\n",
       "      <td>08:37:09</td>\n",
       "      <td>Monday</td>\n",
       "    </tr>\n",
       "    <tr>\n",
       "      <th>5</th>\n",
       "      <td>842029A1</td>\n",
       "      <td>Преданная</td>\n",
       "      <td>IMPERVTOR</td>\n",
       "      <td>rusrap</td>\n",
       "      <td>Saint-Petersburg</td>\n",
       "      <td>13:09:41</td>\n",
       "      <td>Friday</td>\n",
       "    </tr>\n",
       "    <tr>\n",
       "      <th>9</th>\n",
       "      <td>E772D5C0</td>\n",
       "      <td>Pessimist</td>\n",
       "      <td>unknown</td>\n",
       "      <td>dance</td>\n",
       "      <td>Saint-Petersburg</td>\n",
       "      <td>21:20:49</td>\n",
       "      <td>Wednesday</td>\n",
       "    </tr>\n",
       "  </tbody>\n",
       "</table>\n",
       "</div>"
      ],
      "text/plain": [
       "    user_id                  track            artist   genre  \\\n",
       "0  FFB692EC      Kamigata To Boots  The Mass Missile    rock   \n",
       "2    20EC38      Funiculì funiculà       Mario Lanza     pop   \n",
       "3  A3DD03C9  Dragons in the Sunset        Fire + Ice    folk   \n",
       "5  842029A1              Преданная         IMPERVTOR  rusrap   \n",
       "9  E772D5C0              Pessimist           unknown   dance   \n",
       "\n",
       "               city      time    weekday  \n",
       "0  Saint-Petersburg  20:28:33  Wednesday  \n",
       "2  Saint-Petersburg  20:58:07  Wednesday  \n",
       "3  Saint-Petersburg  08:37:09     Monday  \n",
       "5  Saint-Petersburg  13:09:41     Friday  \n",
       "9  Saint-Petersburg  21:20:49  Wednesday  "
      ]
     },
     "execution_count": 32,
     "metadata": {},
     "output_type": "execute_result"
    }
   ],
   "source": [
    "spb_general = df[df['city'] == 'Saint-Petersburg']\n",
    "spb_general.head()"
   ]
  },
  {
   "cell_type": "markdown",
   "metadata": {
    "id": "MEJV-CX2_Zcu"
   },
   "source": [
    "Создадим функцию 'genre_weekday()' с четырьмя параметрами:\n",
    "* таблица (датафрейм) с данными,\n",
    "* день недели,\n",
    "* начальная временная метка в формате 'hh:mm', \n",
    "* последняя временная метка в формате 'hh:mm'.\n",
    "\n",
    "Функция должна вернуть информацию о топ-10 жанров тех треков, которые прослушивали в указанный день, в промежутке между двумя отметками времени."
   ]
  },
  {
   "cell_type": "code",
   "execution_count": 33,
   "metadata": {
    "id": "laJT9BYl_Zcu"
   },
   "outputs": [],
   "source": [
    "def genre_weekday(df, day, time1, time2):\n",
    "    # последовательная фильтрация\n",
    "    # оставляем в genre_df только те строки df, у которых день равен day\n",
    "    genre_df = df[(df['weekday'] == day)] # ваш код здесь\n",
    "    # оставляем в genre_df только те строки genre_df, у которых время меньше time2\n",
    "    genre_df = genre_df[(genre_df['time'] < time2)] # ваш код здесь\n",
    "    # оставляем в genre_df только те строки genre_df, у которых время больше time1\n",
    "    genre_df = genre_df[(genre_df['time'] > time1)] # ваш код здесь\n",
    "    # сгруппируем отфильтрованный датафрейм по столбцу с названиями жанров, возьмём столбец genre и посчитаем кол-во строк для каждого жанра методом count()\n",
    "    genre_df_grouped = genre_df.groupby('genre')['genre'].count() # ваш код здесь\n",
    "    # отсортируем результат по убыванию (чтобы в начале Series оказались самые популярные жанры)\n",
    "    genre_df_sorted = genre_df_grouped.sort_values(ascending = False) # ваш код здесь\n",
    "    # вернём Series с 10 самыми популярными жанрами в указанный отрезок времени заданного дня\n",
    "    return genre_df_sorted[:10]"
   ]
  },
  {
   "cell_type": "markdown",
   "metadata": {
    "id": "laJT9BYl_Zcu"
   },
   "source": [
    "Cравним результаты функции genre_weekday() для Москвы и Санкт-Петербурга в понедельник утром (с 7:00 до 11:00) и в пятницу вечером (с 17:00 до 23:00):"
   ]
  },
  {
   "cell_type": "markdown",
   "metadata": {
    "id": "yz7itPUQ_Zcu"
   },
   "source": [
    "Вызов функции для утра понедельника в Москве (вместо df — таблица moscow_general)\n",
    "объекты, хранящие время, являются строками и сравниваются как строки\n",
    "пример вызова: genre_weekday(moscow_general, 'Monday', '07:00', '11:00')"
   ]
  },
  {
   "cell_type": "code",
   "execution_count": 34,
   "metadata": {},
   "outputs": [
    {
     "data": {
      "text/plain": [
       "genre\n",
       "pop            781\n",
       "dance          549\n",
       "electronic     480\n",
       "rock           474\n",
       "hiphop         286\n",
       "ruspop         186\n",
       "world          181\n",
       "rusrap         175\n",
       "alternative    164\n",
       "unknown        161\n",
       "Name: genre, dtype: int64"
      ]
     },
     "execution_count": 34,
     "metadata": {},
     "output_type": "execute_result"
    }
   ],
   "source": [
    "genre_weekday(moscow_general, 'Monday', '07:00', '11:00')"
   ]
  },
  {
   "cell_type": "markdown",
   "metadata": {
    "id": "kwUcHPdy_Zcu"
   },
   "source": [
    "Вызов функции для утра понедельника в Петербурге (вместо df — таблица spb_general)"
   ]
  },
  {
   "cell_type": "code",
   "execution_count": 35,
   "metadata": {},
   "outputs": [
    {
     "data": {
      "text/plain": [
       "genre\n",
       "pop            218\n",
       "dance          182\n",
       "rock           162\n",
       "electronic     147\n",
       "hiphop          80\n",
       "ruspop          64\n",
       "alternative     58\n",
       "rusrap          55\n",
       "jazz            44\n",
       "classical       40\n",
       "Name: genre, dtype: int64"
      ]
     },
     "execution_count": 35,
     "metadata": {},
     "output_type": "execute_result"
    }
   ],
   "source": [
    "genre_weekday(spb_general, 'Monday', '07:00', '11:00')"
   ]
  },
  {
   "cell_type": "markdown",
   "metadata": {
    "id": "EzXVRE1o_Zcu"
   },
   "source": [
    "Вызов функции для вечера пятницы в Москве"
   ]
  },
  {
   "cell_type": "code",
   "execution_count": 36,
   "metadata": {},
   "outputs": [
    {
     "data": {
      "text/plain": [
       "genre\n",
       "pop            717\n",
       "dance          524\n",
       "rock           518\n",
       "electronic     485\n",
       "hiphop         238\n",
       "alternative    182\n",
       "classical      172\n",
       "world          172\n",
       "ruspop         149\n",
       "rusrap         133\n",
       "Name: genre, dtype: int64"
      ]
     },
     "execution_count": 36,
     "metadata": {},
     "output_type": "execute_result"
    }
   ],
   "source": [
    "genre_weekday(moscow_general, 'Monday', '17:00', '23:00')"
   ]
  },
  {
   "cell_type": "markdown",
   "metadata": {
    "id": "JZaEKu5v_Zcu"
   },
   "source": [
    "Вызов функции для вечера пятницы в Петербурге"
   ]
  },
  {
   "cell_type": "code",
   "execution_count": 37,
   "metadata": {},
   "outputs": [
    {
     "data": {
      "text/plain": [
       "genre\n",
       "pop            263\n",
       "rock           208\n",
       "electronic     192\n",
       "dance          191\n",
       "hiphop         104\n",
       "alternative     72\n",
       "classical       71\n",
       "jazz            57\n",
       "rusrap          54\n",
       "ruspop          53\n",
       "Name: genre, dtype: int64"
      ]
     },
     "execution_count": 37,
     "metadata": {},
     "output_type": "execute_result"
    }
   ],
   "source": [
    "genre_weekday(spb_general, 'Monday', '17:00', '23:00')"
   ]
  },
  {
   "cell_type": "markdown",
   "metadata": {
    "id": "wrCe4MNX_Zcu"
   },
   "source": [
    "**Выводы**\n",
    "\n",
    "Если сравнить топ-10 жанров в понедельник утром, можно сделать такие выводы:\n",
    "\n",
    "1. В Москве и Петербурге слушают похожую музыку. Единственное отличие — в московский рейтинг вошёл жанр “world”, а в петербургский — джаз и классика.\n",
    "\n",
    "2. В Москве пропущенных значений оказалось так много, что значение `'unknown'` заняло десятое место среди самых популярных жанров. Значит, пропущенные значения занимают существенную долю в данных и угрожают достоверности исследования.\n",
    "\n",
    "Вечер пятницы не меняет эту картину. Некоторые жанры поднимаются немного выше, другие спускаются, но в целом топ-10 остаётся тем же самым.\n",
    "\n",
    "Таким образом, вторая гипотеза подтвердилась лишь частично:\n",
    "* Пользователи слушают похожую музыку в начале недели и в конце.\n",
    "* Разница между Москвой и Петербургом не слишком выражена. В Москве чаще слушают русскую популярную музыку, в Петербурге — джаз.\n",
    "\n",
    "Однако пропуски в данных ставят под сомнение этот результат. В Москве их так много, что рейтинг топ-10 мог бы выглядеть иначе, если бы не утерянные  данные о жанрах."
   ]
  },
  {
   "cell_type": "markdown",
   "metadata": {
    "id": "JolODAqr_Zcu"
   },
   "source": [
    "### Жанровые предпочтения в Москве и Петербурге\n",
    "\n",
    "Гипотеза: Петербург — столица рэпа, музыку этого жанра там слушают чаще, чем в Москве.  А Москва — город контрастов, в котором, тем не менее, преобладает поп-музыка."
   ]
  },
  {
   "cell_type": "markdown",
   "metadata": {
    "id": "DlegSvaT_Zcu"
   },
   "source": [
    "Сгруппируем таблицу `moscow_general` по жанру и посчитаем прослушивания треков каждого жанра методом `count()`. Затем отсортируем результат в порядке убывания и сохраните его в таблице `moscow_genres`."
   ]
  },
  {
   "cell_type": "markdown",
   "metadata": {
    "id": "r19lIPke_Zcu"
   },
   "source": [
    "Одной строкой: группировка таблицы moscow_general по столбцу 'genre', \n",
    "подсчёт числа значений 'genre' в этой группировке методом count(), \n",
    "сортировка получившегося Series в порядке убывания и сохранение в moscow_genres"
   ]
  },
  {
   "cell_type": "code",
   "execution_count": 38,
   "metadata": {},
   "outputs": [
    {
     "data": {
      "text/html": [
       "<div>\n",
       "<style scoped>\n",
       "    .dataframe tbody tr th:only-of-type {\n",
       "        vertical-align: middle;\n",
       "    }\n",
       "\n",
       "    .dataframe tbody tr th {\n",
       "        vertical-align: top;\n",
       "    }\n",
       "\n",
       "    .dataframe thead th {\n",
       "        text-align: right;\n",
       "    }\n",
       "</style>\n",
       "<table border=\"1\" class=\"dataframe\">\n",
       "  <thead>\n",
       "    <tr style=\"text-align: right;\">\n",
       "      <th></th>\n",
       "      <th>user_id</th>\n",
       "      <th>track</th>\n",
       "      <th>artist</th>\n",
       "      <th>genre</th>\n",
       "      <th>city</th>\n",
       "      <th>time</th>\n",
       "      <th>weekday</th>\n",
       "    </tr>\n",
       "  </thead>\n",
       "  <tbody>\n",
       "    <tr>\n",
       "      <th>1</th>\n",
       "      <td>55204538</td>\n",
       "      <td>Delayed Because of Accident</td>\n",
       "      <td>Andreas Rönnberg</td>\n",
       "      <td>rock</td>\n",
       "      <td>Moscow</td>\n",
       "      <td>14:07:09</td>\n",
       "      <td>Friday</td>\n",
       "    </tr>\n",
       "    <tr>\n",
       "      <th>4</th>\n",
       "      <td>E2DC1FAE</td>\n",
       "      <td>Soul People</td>\n",
       "      <td>Space Echo</td>\n",
       "      <td>dance</td>\n",
       "      <td>Moscow</td>\n",
       "      <td>08:34:34</td>\n",
       "      <td>Monday</td>\n",
       "    </tr>\n",
       "    <tr>\n",
       "      <th>6</th>\n",
       "      <td>4CB90AA5</td>\n",
       "      <td>True</td>\n",
       "      <td>Roman Messer</td>\n",
       "      <td>dance</td>\n",
       "      <td>Moscow</td>\n",
       "      <td>13:00:07</td>\n",
       "      <td>Wednesday</td>\n",
       "    </tr>\n",
       "    <tr>\n",
       "      <th>7</th>\n",
       "      <td>F03E1C1F</td>\n",
       "      <td>Feeling This Way</td>\n",
       "      <td>Polina Griffith</td>\n",
       "      <td>dance</td>\n",
       "      <td>Moscow</td>\n",
       "      <td>20:47:49</td>\n",
       "      <td>Wednesday</td>\n",
       "    </tr>\n",
       "    <tr>\n",
       "      <th>8</th>\n",
       "      <td>8FA1D3BE</td>\n",
       "      <td>И вновь продолжается бой</td>\n",
       "      <td>unknown</td>\n",
       "      <td>ruspop</td>\n",
       "      <td>Moscow</td>\n",
       "      <td>09:17:40</td>\n",
       "      <td>Friday</td>\n",
       "    </tr>\n",
       "    <tr>\n",
       "      <th>...</th>\n",
       "      <td>...</td>\n",
       "      <td>...</td>\n",
       "      <td>...</td>\n",
       "      <td>...</td>\n",
       "      <td>...</td>\n",
       "      <td>...</td>\n",
       "      <td>...</td>\n",
       "    </tr>\n",
       "    <tr>\n",
       "      <th>65073</th>\n",
       "      <td>83A474E7</td>\n",
       "      <td>I Worship Only What You Bleed</td>\n",
       "      <td>The Black Dahlia Murder</td>\n",
       "      <td>extrememetal</td>\n",
       "      <td>Moscow</td>\n",
       "      <td>21:07:12</td>\n",
       "      <td>Monday</td>\n",
       "    </tr>\n",
       "    <tr>\n",
       "      <th>65074</th>\n",
       "      <td>729CBB09</td>\n",
       "      <td>My Name</td>\n",
       "      <td>McLean</td>\n",
       "      <td>rnb</td>\n",
       "      <td>Moscow</td>\n",
       "      <td>13:32:28</td>\n",
       "      <td>Wednesday</td>\n",
       "    </tr>\n",
       "    <tr>\n",
       "      <th>65076</th>\n",
       "      <td>C5E3A0D5</td>\n",
       "      <td>Jalopiina</td>\n",
       "      <td>unknown</td>\n",
       "      <td>industrial</td>\n",
       "      <td>Moscow</td>\n",
       "      <td>20:09:26</td>\n",
       "      <td>Friday</td>\n",
       "    </tr>\n",
       "    <tr>\n",
       "      <th>65077</th>\n",
       "      <td>321D0506</td>\n",
       "      <td>Freight Train</td>\n",
       "      <td>Chas McDevitt</td>\n",
       "      <td>rock</td>\n",
       "      <td>Moscow</td>\n",
       "      <td>21:43:59</td>\n",
       "      <td>Friday</td>\n",
       "    </tr>\n",
       "    <tr>\n",
       "      <th>65078</th>\n",
       "      <td>3A64EF84</td>\n",
       "      <td>Tell Me Sweet Little Lies</td>\n",
       "      <td>Monica Lopez</td>\n",
       "      <td>country</td>\n",
       "      <td>Moscow</td>\n",
       "      <td>21:59:46</td>\n",
       "      <td>Friday</td>\n",
       "    </tr>\n",
       "  </tbody>\n",
       "</table>\n",
       "<p>42741 rows × 7 columns</p>\n",
       "</div>"
      ],
      "text/plain": [
       "        user_id                          track                   artist  \\\n",
       "1      55204538    Delayed Because of Accident         Andreas Rönnberg   \n",
       "4      E2DC1FAE                    Soul People               Space Echo   \n",
       "6      4CB90AA5                           True             Roman Messer   \n",
       "7      F03E1C1F               Feeling This Way          Polina Griffith   \n",
       "8      8FA1D3BE       И вновь продолжается бой                  unknown   \n",
       "...         ...                            ...                      ...   \n",
       "65073  83A474E7  I Worship Only What You Bleed  The Black Dahlia Murder   \n",
       "65074  729CBB09                        My Name                   McLean   \n",
       "65076  C5E3A0D5                      Jalopiina                  unknown   \n",
       "65077  321D0506                  Freight Train            Chas McDevitt   \n",
       "65078  3A64EF84      Tell Me Sweet Little Lies             Monica Lopez   \n",
       "\n",
       "              genre    city      time    weekday  \n",
       "1              rock  Moscow  14:07:09     Friday  \n",
       "4             dance  Moscow  08:34:34     Monday  \n",
       "6             dance  Moscow  13:00:07  Wednesday  \n",
       "7             dance  Moscow  20:47:49  Wednesday  \n",
       "8            ruspop  Moscow  09:17:40     Friday  \n",
       "...             ...     ...       ...        ...  \n",
       "65073  extrememetal  Moscow  21:07:12     Monday  \n",
       "65074           rnb  Moscow  13:32:28  Wednesday  \n",
       "65076    industrial  Moscow  20:09:26     Friday  \n",
       "65077          rock  Moscow  21:43:59     Friday  \n",
       "65078       country  Moscow  21:59:46     Friday  \n",
       "\n",
       "[42741 rows x 7 columns]"
      ]
     },
     "execution_count": 38,
     "metadata": {},
     "output_type": "execute_result"
    }
   ],
   "source": [
    "moscow_general"
   ]
  },
  {
   "cell_type": "code",
   "execution_count": 39,
   "metadata": {},
   "outputs": [],
   "source": [
    "moscow_genres = moscow_general.groupby('genre')['genre'].count().sort_values(ascending = False)"
   ]
  },
  {
   "cell_type": "markdown",
   "metadata": {
    "id": "6kMuomxTiIr8"
   },
   "source": [
    "Выведим на экран первые десять строк `moscow_genres`:"
   ]
  },
  {
   "cell_type": "code",
   "execution_count": 40,
   "metadata": {
    "id": "WhCSooF8_Zcv"
   },
   "outputs": [
    {
     "data": {
      "text/plain": [
       "genre\n",
       "pop            5892\n",
       "dance          4435\n",
       "rock           3965\n",
       "electronic     3786\n",
       "hiphop         2096\n",
       "classical      1616\n",
       "world          1432\n",
       "alternative    1379\n",
       "ruspop         1372\n",
       "rusrap         1161\n",
       "Name: genre, dtype: int64"
      ]
     },
     "execution_count": 40,
     "metadata": {},
     "output_type": "execute_result"
    }
   ],
   "source": [
    "moscow_genres.head(10)"
   ]
  },
  {
   "cell_type": "markdown",
   "metadata": {
    "id": "cnPG2vnN_Zcv"
   },
   "source": [
    "Теперь повторим то же и для Петербурга."
   ]
  },
  {
   "cell_type": "markdown",
   "metadata": {
    "id": "cnPG2vnN_Zcv"
   },
   "source": [
    "Сгруппируем таблицу `spb_general` по жанру. Посчитаем прослушивания треков каждого жанра. Результат отсортируем в порядке убывания и сохраним в таблице `spb_genres`:"
   ]
  },
  {
   "cell_type": "code",
   "execution_count": 41,
   "metadata": {
    "id": "gluLIpE7_Zcv"
   },
   "outputs": [],
   "source": [
    "# одной строкой: группировка таблицы spb_general по столбцу 'genre', \n",
    "# подсчёт числа значений 'genre' в этой группировке методом count(), \n",
    "# сортировка получившегося Series в порядке убывания и сохранение в spb_genres"
   ]
  },
  {
   "cell_type": "code",
   "execution_count": 42,
   "metadata": {},
   "outputs": [],
   "source": [
    "spb_genres = spb_general.groupby('genre')['genre'].count().sort_values(ascending = False)"
   ]
  },
  {
   "cell_type": "markdown",
   "metadata": {
    "id": "5Doha_ODgyQ8"
   },
   "source": [
    "Выведим на экран первые десять строк `spb_genres`:"
   ]
  },
  {
   "cell_type": "code",
   "execution_count": 43,
   "metadata": {
    "id": "uaGJHjVU_Zcv"
   },
   "outputs": [
    {
     "data": {
      "text/plain": [
       "genre\n",
       "pop            2431\n",
       "dance          1932\n",
       "rock           1879\n",
       "electronic     1736\n",
       "hiphop          960\n",
       "alternative     649\n",
       "classical       646\n",
       "rusrap          564\n",
       "ruspop          538\n",
       "world           515\n",
       "Name: genre, dtype: int64"
      ]
     },
     "execution_count": 43,
     "metadata": {},
     "output_type": "execute_result"
    }
   ],
   "source": [
    "spb_genres.head(10)"
   ]
  },
  {
   "cell_type": "markdown",
   "metadata": {
    "id": "RY51YJYu_Zcv"
   },
   "source": [
    "**Выводы**"
   ]
  },
  {
   "cell_type": "markdown",
   "metadata": {
    "id": "nVhnJEm__Zcv"
   },
   "source": [
    "Гипотеза частично подтвердилась:\n",
    "* Поп-музыка — самый популярный жанр в Москве, как и предполагала гипотеза. Более того, в топ-10 жанров встречается близкий жанр — русская популярная музыка.\n",
    "* Вопреки ожиданиям, рэп одинаково популярен в Москве и Петербурге. \n"
   ]
  },
  {
   "cell_type": "markdown",
   "metadata": {
    "id": "ykKQ0N65_Zcv"
   },
   "source": [
    "## Итоги исследования"
   ]
  },
  {
   "cell_type": "markdown",
   "metadata": {
    "id": "tjUwbHb3_Zcv"
   },
   "source": [
    "Проверили три гипотезы и установили:\n",
    "\n",
    "1. День недели по-разному влияет на активность пользователей в Москве и Петербурге. \n",
    "\n",
    "Первая гипотеза полностью подтвердилась.\n",
    "\n",
    "2. Музыкальные предпочтения не сильно меняются в течение недели — будь то Москва или Петербург. Небольшие различия заметны в начале недели, по понедельникам:\n",
    "* в Москве слушают музыку жанра “world”,\n",
    "* в Петербурге — джаз и классику.\n",
    "\n",
    "Таким образом, вторая гипотеза подтвердилась лишь отчасти. Этот результат мог оказаться иным, если бы не пропуски в данных.\n",
    "\n",
    "3. Во вкусах пользователей Москвы и Петербурга больше общего чем различий. Вопреки ожиданиям, предпочтения жанров в Петербурге напоминают московские.\n",
    "\n",
    "Третья гипотеза не подтвердилась. Если различия в предпочтениях и существуют, на основной массе пользователей они незаметны.\n",
    "\n",
    "**На практике исследования содержат проверки статистических гипотез.**\n",
    "Из данных одного сервиса не всегда можно сделать вывод о всех жителях города.\n",
    "Проверки статистических гипотез покажут, насколько они достоверны, исходя из имеющихся данных. \n",
    "С методами проверок гипотез вы ещё познакомитесь в следующих темах."
   ]
  }
 ],
 "metadata": {
  "ExecuteTimeLog": [
   {
    "duration": 4,
    "start_time": "2022-10-02T10:46:41.411Z"
   },
   {
    "duration": 390,
    "start_time": "2022-10-02T10:46:57.466Z"
   },
   {
    "duration": 99,
    "start_time": "2022-10-02T10:49:27.181Z"
   },
   {
    "duration": 237,
    "start_time": "2022-10-02T10:49:46.164Z"
   },
   {
    "duration": 170,
    "start_time": "2022-10-02T10:49:49.348Z"
   },
   {
    "duration": 18,
    "start_time": "2022-10-02T10:50:34.204Z"
   },
   {
    "duration": 9,
    "start_time": "2022-10-02T10:51:13.381Z"
   },
   {
    "duration": 9,
    "start_time": "2022-10-02T10:51:31.660Z"
   },
   {
    "duration": 3,
    "start_time": "2022-10-02T10:52:16.479Z"
   },
   {
    "duration": 12,
    "start_time": "2022-10-02T10:52:17.485Z"
   },
   {
    "duration": 2,
    "start_time": "2022-10-02T10:52:33.230Z"
   },
   {
    "duration": 8,
    "start_time": "2022-10-02T10:52:34.908Z"
   },
   {
    "duration": 12,
    "start_time": "2022-10-02T10:53:20.630Z"
   },
   {
    "duration": 8,
    "start_time": "2022-10-02T10:53:30.614Z"
   },
   {
    "duration": 8,
    "start_time": "2022-10-02T10:53:50.622Z"
   },
   {
    "duration": 43,
    "start_time": "2022-10-02T10:54:34.702Z"
   },
   {
    "duration": 4,
    "start_time": "2022-10-02T10:55:48.367Z"
   },
   {
    "duration": 3,
    "start_time": "2022-10-02T10:57:33.921Z"
   },
   {
    "duration": 3,
    "start_time": "2022-10-02T10:58:30.849Z"
   },
   {
    "duration": 178,
    "start_time": "2022-10-02T10:58:31.680Z"
   },
   {
    "duration": 15,
    "start_time": "2022-10-02T10:58:32.374Z"
   },
   {
    "duration": 27,
    "start_time": "2022-10-02T10:58:34.313Z"
   },
   {
    "duration": 5,
    "start_time": "2022-10-02T10:58:37.960Z"
   },
   {
    "duration": 15,
    "start_time": "2022-10-02T10:58:56.465Z"
   },
   {
    "duration": 3,
    "start_time": "2022-10-02T10:59:35.833Z"
   },
   {
    "duration": 4,
    "start_time": "2022-10-02T10:59:45.106Z"
   },
   {
    "duration": 4,
    "start_time": "2022-10-02T11:00:22.227Z"
   },
   {
    "duration": 171,
    "start_time": "2022-10-02T11:00:22.794Z"
   },
   {
    "duration": 12,
    "start_time": "2022-10-02T11:00:23.274Z"
   },
   {
    "duration": 28,
    "start_time": "2022-10-02T11:00:24.386Z"
   },
   {
    "duration": 4,
    "start_time": "2022-10-02T11:00:27.546Z"
   },
   {
    "duration": 3,
    "start_time": "2022-10-02T11:00:30.562Z"
   },
   {
    "duration": 4,
    "start_time": "2022-10-02T11:00:34.238Z"
   },
   {
    "duration": 4,
    "start_time": "2022-10-02T11:02:27.268Z"
   },
   {
    "duration": 1825,
    "start_time": "2022-10-02T11:02:28.075Z"
   },
   {
    "duration": 2,
    "start_time": "2022-10-02T11:02:46.365Z"
   },
   {
    "duration": 176,
    "start_time": "2022-10-02T11:02:46.884Z"
   },
   {
    "duration": 12,
    "start_time": "2022-10-02T11:02:47.300Z"
   },
   {
    "duration": 49,
    "start_time": "2022-10-02T11:02:47.724Z"
   },
   {
    "duration": 6,
    "start_time": "2022-10-02T11:02:50.327Z"
   },
   {
    "duration": 4,
    "start_time": "2022-10-02T11:02:53.148Z"
   },
   {
    "duration": 1523,
    "start_time": "2022-10-02T11:02:54.892Z"
   },
   {
    "duration": 5,
    "start_time": "2022-10-02T11:05:19.086Z"
   },
   {
    "duration": 4,
    "start_time": "2022-10-02T11:05:24.685Z"
   },
   {
    "duration": 51,
    "start_time": "2022-10-02T11:05:51.213Z"
   },
   {
    "duration": 28,
    "start_time": "2022-10-02T11:06:59.404Z"
   },
   {
    "duration": 50,
    "start_time": "2022-10-02T11:09:35.009Z"
   },
   {
    "duration": 58,
    "start_time": "2022-10-02T11:10:01.826Z"
   },
   {
    "duration": 2,
    "start_time": "2022-10-02T11:10:19.385Z"
   },
   {
    "duration": 1131,
    "start_time": "2022-10-02T11:10:56.075Z"
   },
   {
    "duration": 6,
    "start_time": "2022-10-02T11:11:07.259Z"
   },
   {
    "duration": 13,
    "start_time": "2022-10-02T11:11:11.458Z"
   },
   {
    "duration": 7,
    "start_time": "2022-10-02T11:11:17.074Z"
   },
   {
    "duration": 11,
    "start_time": "2022-10-02T11:13:22.435Z"
   },
   {
    "duration": 7,
    "start_time": "2022-10-02T11:16:51.359Z"
   },
   {
    "duration": 10,
    "start_time": "2022-10-02T11:17:02.918Z"
   },
   {
    "duration": 3,
    "start_time": "2022-10-02T11:18:20.042Z"
   },
   {
    "duration": 13,
    "start_time": "2022-10-02T11:18:20.879Z"
   },
   {
    "duration": 7,
    "start_time": "2022-10-02T11:18:32.398Z"
   },
   {
    "duration": 7,
    "start_time": "2022-10-02T11:19:36.209Z"
   },
   {
    "duration": 7,
    "start_time": "2022-10-02T11:20:19.641Z"
   },
   {
    "duration": 12,
    "start_time": "2022-10-02T11:20:25.704Z"
   },
   {
    "duration": 13,
    "start_time": "2022-10-02T11:20:29.807Z"
   },
   {
    "duration": 36,
    "start_time": "2022-10-02T11:20:40.905Z"
   },
   {
    "duration": 20,
    "start_time": "2022-10-02T11:20:58.122Z"
   },
   {
    "duration": 13,
    "start_time": "2022-10-02T11:25:25.735Z"
   },
   {
    "duration": 23,
    "start_time": "2022-10-02T11:25:55.068Z"
   },
   {
    "duration": 108,
    "start_time": "2022-10-02T11:26:08.164Z"
   },
   {
    "duration": 19,
    "start_time": "2022-10-02T11:26:17.628Z"
   },
   {
    "duration": 7,
    "start_time": "2022-10-02T11:27:20.510Z"
   },
   {
    "duration": 10,
    "start_time": "2022-10-02T11:54:12.762Z"
   },
   {
    "duration": 7,
    "start_time": "2022-10-02T11:54:35.010Z"
   },
   {
    "duration": 8,
    "start_time": "2022-10-02T11:54:49.848Z"
   },
   {
    "duration": 17,
    "start_time": "2022-10-02T11:56:57.131Z"
   },
   {
    "duration": 25,
    "start_time": "2022-10-02T11:57:07.946Z"
   },
   {
    "duration": 67,
    "start_time": "2022-10-02T11:57:32.076Z"
   },
   {
    "duration": 74,
    "start_time": "2022-10-02T11:58:01.716Z"
   },
   {
    "duration": 71,
    "start_time": "2022-10-02T11:58:10.051Z"
   },
   {
    "duration": 10,
    "start_time": "2022-10-02T12:00:31.508Z"
   },
   {
    "duration": 11,
    "start_time": "2022-10-02T12:00:47.767Z"
   },
   {
    "duration": 6,
    "start_time": "2022-10-02T12:01:01.263Z"
   },
   {
    "duration": 7,
    "start_time": "2022-10-02T12:01:06.718Z"
   },
   {
    "duration": 8,
    "start_time": "2022-10-02T12:01:19.670Z"
   },
   {
    "duration": 8,
    "start_time": "2022-10-02T12:01:45.398Z"
   },
   {
    "duration": 10,
    "start_time": "2022-10-02T12:02:32.246Z"
   },
   {
    "duration": 11,
    "start_time": "2022-10-02T12:02:40.023Z"
   },
   {
    "duration": 15,
    "start_time": "2022-10-02T12:04:03.577Z"
   },
   {
    "duration": 14,
    "start_time": "2022-10-02T12:04:36.962Z"
   },
   {
    "duration": 4,
    "start_time": "2022-10-02T12:52:27.089Z"
   },
   {
    "duration": 12,
    "start_time": "2022-10-02T12:55:43.027Z"
   },
   {
    "duration": 4,
    "start_time": "2022-10-02T12:55:49.971Z"
   },
   {
    "duration": 3,
    "start_time": "2022-10-02T12:56:09.814Z"
   },
   {
    "duration": 11,
    "start_time": "2022-10-02T12:56:10.364Z"
   },
   {
    "duration": 3,
    "start_time": "2022-10-02T12:57:16.029Z"
   },
   {
    "duration": 10,
    "start_time": "2022-10-02T12:57:16.629Z"
   },
   {
    "duration": 1103,
    "start_time": "2022-10-02T12:58:04.829Z"
   },
   {
    "duration": 9,
    "start_time": "2022-10-02T12:58:29.014Z"
   },
   {
    "duration": 3,
    "start_time": "2022-10-02T12:58:31.710Z"
   },
   {
    "duration": 3,
    "start_time": "2022-10-02T12:58:33.926Z"
   },
   {
    "duration": 7,
    "start_time": "2022-10-02T12:58:54.159Z"
   },
   {
    "duration": 4,
    "start_time": "2022-10-02T12:59:04.429Z"
   },
   {
    "duration": 3,
    "start_time": "2022-10-02T12:59:05.309Z"
   },
   {
    "duration": 12,
    "start_time": "2022-10-02T12:59:05.776Z"
   },
   {
    "duration": 7,
    "start_time": "2022-10-02T12:59:16.613Z"
   },
   {
    "duration": 397,
    "start_time": "2022-10-02T12:59:41.331Z"
   },
   {
    "duration": 179,
    "start_time": "2022-10-02T12:59:41.730Z"
   },
   {
    "duration": 27,
    "start_time": "2022-10-02T12:59:41.911Z"
   },
   {
    "duration": 31,
    "start_time": "2022-10-02T12:59:41.940Z"
   },
   {
    "duration": 5,
    "start_time": "2022-10-02T12:59:41.974Z"
   },
   {
    "duration": 6,
    "start_time": "2022-10-02T12:59:41.982Z"
   },
   {
    "duration": 32,
    "start_time": "2022-10-02T12:59:41.990Z"
   },
   {
    "duration": 27,
    "start_time": "2022-10-02T12:59:42.024Z"
   },
   {
    "duration": 9,
    "start_time": "2022-10-02T12:59:42.054Z"
   },
   {
    "duration": 30,
    "start_time": "2022-10-02T12:59:42.064Z"
   },
   {
    "duration": 48,
    "start_time": "2022-10-02T12:59:42.096Z"
   },
   {
    "duration": 88,
    "start_time": "2022-10-02T12:59:42.146Z"
   },
   {
    "duration": 102,
    "start_time": "2022-10-02T12:59:42.236Z"
   },
   {
    "duration": 84,
    "start_time": "2022-10-02T12:59:42.342Z"
   },
   {
    "duration": 8,
    "start_time": "2022-10-02T12:59:46.481Z"
   },
   {
    "duration": 3,
    "start_time": "2022-10-02T12:59:50.297Z"
   },
   {
    "duration": 3,
    "start_time": "2022-10-02T12:59:53.553Z"
   },
   {
    "duration": 11,
    "start_time": "2022-10-02T12:59:54.529Z"
   },
   {
    "duration": 7,
    "start_time": "2022-10-02T12:59:56.233Z"
   },
   {
    "duration": 10,
    "start_time": "2022-10-02T13:06:37.351Z"
   },
   {
    "duration": 1092,
    "start_time": "2022-10-02T13:07:14.831Z"
   },
   {
    "duration": 1046,
    "start_time": "2022-10-02T13:07:44.703Z"
   },
   {
    "duration": 11,
    "start_time": "2022-10-02T13:08:35.351Z"
   },
   {
    "duration": 11,
    "start_time": "2022-10-02T13:09:06.864Z"
   },
   {
    "duration": 11,
    "start_time": "2022-10-02T13:09:27.136Z"
   },
   {
    "duration": 363,
    "start_time": "2022-10-02T13:09:38.265Z"
   },
   {
    "duration": 171,
    "start_time": "2022-10-02T13:09:38.630Z"
   },
   {
    "duration": 22,
    "start_time": "2022-10-02T13:09:38.803Z"
   },
   {
    "duration": 35,
    "start_time": "2022-10-02T13:09:38.828Z"
   },
   {
    "duration": 53,
    "start_time": "2022-10-02T13:09:38.865Z"
   },
   {
    "duration": 11,
    "start_time": "2022-10-02T13:09:38.920Z"
   },
   {
    "duration": 22,
    "start_time": "2022-10-02T13:09:38.933Z"
   },
   {
    "duration": 59,
    "start_time": "2022-10-02T13:09:38.958Z"
   },
   {
    "duration": 24,
    "start_time": "2022-10-02T13:09:39.019Z"
   },
   {
    "duration": 49,
    "start_time": "2022-10-02T13:09:39.047Z"
   },
   {
    "duration": 50,
    "start_time": "2022-10-02T13:09:39.099Z"
   },
   {
    "duration": 96,
    "start_time": "2022-10-02T13:09:39.151Z"
   },
   {
    "duration": 83,
    "start_time": "2022-10-02T13:09:39.249Z"
   },
   {
    "duration": 65,
    "start_time": "2022-10-02T13:09:39.334Z"
   },
   {
    "duration": 20,
    "start_time": "2022-10-02T13:09:39.401Z"
   },
   {
    "duration": 3,
    "start_time": "2022-10-02T13:09:39.424Z"
   },
   {
    "duration": 10,
    "start_time": "2022-10-02T13:09:39.428Z"
   },
   {
    "duration": 17,
    "start_time": "2022-10-02T13:09:39.440Z"
   },
   {
    "duration": 25,
    "start_time": "2022-10-02T13:09:39.458Z"
   },
   {
    "duration": 32,
    "start_time": "2022-10-02T13:09:39.485Z"
   },
   {
    "duration": 11,
    "start_time": "2022-10-02T13:09:43.142Z"
   },
   {
    "duration": 68,
    "start_time": "2022-10-02T13:09:44.662Z"
   },
   {
    "duration": 9,
    "start_time": "2022-10-02T13:10:29.768Z"
   },
   {
    "duration": 5,
    "start_time": "2022-10-02T13:10:40.392Z"
   },
   {
    "duration": 361,
    "start_time": "2022-10-02T13:11:17.267Z"
   },
   {
    "duration": 182,
    "start_time": "2022-10-02T13:11:17.630Z"
   },
   {
    "duration": 22,
    "start_time": "2022-10-02T13:11:17.814Z"
   },
   {
    "duration": 44,
    "start_time": "2022-10-02T13:11:17.839Z"
   },
   {
    "duration": 5,
    "start_time": "2022-10-02T13:11:17.885Z"
   },
   {
    "duration": 11,
    "start_time": "2022-10-02T13:11:17.892Z"
   },
   {
    "duration": 16,
    "start_time": "2022-10-02T13:11:17.905Z"
   },
   {
    "duration": 43,
    "start_time": "2022-10-02T13:11:17.923Z"
   },
   {
    "duration": 37,
    "start_time": "2022-10-02T13:11:17.968Z"
   },
   {
    "duration": 41,
    "start_time": "2022-10-02T13:11:18.008Z"
   },
   {
    "duration": 25,
    "start_time": "2022-10-02T13:11:18.051Z"
   },
   {
    "duration": 81,
    "start_time": "2022-10-02T13:11:18.078Z"
   },
   {
    "duration": 77,
    "start_time": "2022-10-02T13:11:18.162Z"
   },
   {
    "duration": 67,
    "start_time": "2022-10-02T13:11:18.241Z"
   },
   {
    "duration": 15,
    "start_time": "2022-10-02T13:11:18.309Z"
   },
   {
    "duration": 8,
    "start_time": "2022-10-02T13:11:18.326Z"
   },
   {
    "duration": 10,
    "start_time": "2022-10-02T13:11:18.336Z"
   },
   {
    "duration": 22,
    "start_time": "2022-10-02T13:11:18.348Z"
   },
   {
    "duration": 10,
    "start_time": "2022-10-02T13:11:18.372Z"
   },
   {
    "duration": 83,
    "start_time": "2022-10-02T13:11:20.703Z"
   },
   {
    "duration": 14,
    "start_time": "2022-10-02T13:11:46.376Z"
   },
   {
    "duration": 4,
    "start_time": "2022-10-02T13:11:58.607Z"
   },
   {
    "duration": 390,
    "start_time": "2022-10-02T13:12:31.464Z"
   },
   {
    "duration": 193,
    "start_time": "2022-10-02T13:12:31.857Z"
   },
   {
    "duration": 18,
    "start_time": "2022-10-02T13:12:32.052Z"
   },
   {
    "duration": 57,
    "start_time": "2022-10-02T13:12:32.072Z"
   },
   {
    "duration": 5,
    "start_time": "2022-10-02T13:12:32.131Z"
   },
   {
    "duration": 9,
    "start_time": "2022-10-02T13:12:32.138Z"
   },
   {
    "duration": 13,
    "start_time": "2022-10-02T13:12:32.149Z"
   },
   {
    "duration": 46,
    "start_time": "2022-10-02T13:12:32.163Z"
   },
   {
    "duration": 14,
    "start_time": "2022-10-02T13:12:32.211Z"
   },
   {
    "duration": 22,
    "start_time": "2022-10-02T13:12:32.227Z"
   },
   {
    "duration": 24,
    "start_time": "2022-10-02T13:12:32.250Z"
   },
   {
    "duration": 86,
    "start_time": "2022-10-02T13:12:32.275Z"
   },
   {
    "duration": 74,
    "start_time": "2022-10-02T13:12:32.363Z"
   },
   {
    "duration": 62,
    "start_time": "2022-10-02T13:12:32.438Z"
   },
   {
    "duration": 22,
    "start_time": "2022-10-02T13:12:32.502Z"
   },
   {
    "duration": 12,
    "start_time": "2022-10-02T13:12:32.525Z"
   },
   {
    "duration": 5,
    "start_time": "2022-10-02T13:12:32.538Z"
   },
   {
    "duration": 17,
    "start_time": "2022-10-02T13:12:32.545Z"
   },
   {
    "duration": 8,
    "start_time": "2022-10-02T13:12:32.563Z"
   },
   {
    "duration": 34,
    "start_time": "2022-10-02T13:12:34.323Z"
   },
   {
    "duration": 34,
    "start_time": "2022-10-02T13:13:58.750Z"
   },
   {
    "duration": 67,
    "start_time": "2022-10-02T13:22:33.203Z"
   },
   {
    "duration": 4,
    "start_time": "2022-10-02T13:22:37.747Z"
   },
   {
    "duration": 790,
    "start_time": "2022-10-02T13:22:39.402Z"
   },
   {
    "duration": 3,
    "start_time": "2022-10-02T13:23:16.020Z"
   },
   {
    "duration": 1103,
    "start_time": "2022-10-02T13:23:17.852Z"
   },
   {
    "duration": 4,
    "start_time": "2022-10-02T13:23:30.603Z"
   },
   {
    "duration": 897,
    "start_time": "2022-10-02T13:23:32.252Z"
   },
   {
    "duration": 441,
    "start_time": "2022-10-02T13:23:43.912Z"
   },
   {
    "duration": 190,
    "start_time": "2022-10-02T13:23:44.355Z"
   },
   {
    "duration": 21,
    "start_time": "2022-10-02T13:23:44.547Z"
   },
   {
    "duration": 31,
    "start_time": "2022-10-02T13:23:44.570Z"
   },
   {
    "duration": 5,
    "start_time": "2022-10-02T13:23:44.621Z"
   },
   {
    "duration": 7,
    "start_time": "2022-10-02T13:23:44.628Z"
   },
   {
    "duration": 16,
    "start_time": "2022-10-02T13:23:44.637Z"
   },
   {
    "duration": 36,
    "start_time": "2022-10-02T13:23:44.655Z"
   },
   {
    "duration": 10,
    "start_time": "2022-10-02T13:23:44.694Z"
   },
   {
    "duration": 35,
    "start_time": "2022-10-02T13:23:44.706Z"
   },
   {
    "duration": 26,
    "start_time": "2022-10-02T13:23:44.742Z"
   },
   {
    "duration": 89,
    "start_time": "2022-10-02T13:23:44.770Z"
   },
   {
    "duration": 85,
    "start_time": "2022-10-02T13:23:44.861Z"
   },
   {
    "duration": 77,
    "start_time": "2022-10-02T13:23:44.948Z"
   },
   {
    "duration": 8,
    "start_time": "2022-10-02T13:23:45.027Z"
   },
   {
    "duration": 18,
    "start_time": "2022-10-02T13:23:45.037Z"
   },
   {
    "duration": 10,
    "start_time": "2022-10-02T13:23:45.057Z"
   },
   {
    "duration": 28,
    "start_time": "2022-10-02T13:23:45.069Z"
   },
   {
    "duration": 11,
    "start_time": "2022-10-02T13:23:45.099Z"
   },
   {
    "duration": 38,
    "start_time": "2022-10-02T13:23:45.112Z"
   },
   {
    "duration": 34,
    "start_time": "2022-10-02T13:23:45.152Z"
   },
   {
    "duration": 4,
    "start_time": "2022-10-02T13:23:49.540Z"
   },
   {
    "duration": 439,
    "start_time": "2022-10-02T13:25:32.500Z"
   },
   {
    "duration": 203,
    "start_time": "2022-10-02T13:25:32.941Z"
   },
   {
    "duration": 21,
    "start_time": "2022-10-02T13:25:33.146Z"
   },
   {
    "duration": 51,
    "start_time": "2022-10-02T13:25:33.170Z"
   },
   {
    "duration": 5,
    "start_time": "2022-10-02T13:25:33.223Z"
   },
   {
    "duration": 6,
    "start_time": "2022-10-02T13:25:33.230Z"
   },
   {
    "duration": 12,
    "start_time": "2022-10-02T13:25:33.238Z"
   },
   {
    "duration": 28,
    "start_time": "2022-10-02T13:25:33.252Z"
   },
   {
    "duration": 9,
    "start_time": "2022-10-02T13:25:33.282Z"
   },
   {
    "duration": 48,
    "start_time": "2022-10-02T13:25:33.294Z"
   },
   {
    "duration": 36,
    "start_time": "2022-10-02T13:25:33.344Z"
   },
   {
    "duration": 83,
    "start_time": "2022-10-02T13:25:33.382Z"
   },
   {
    "duration": 85,
    "start_time": "2022-10-02T13:25:33.467Z"
   },
   {
    "duration": 71,
    "start_time": "2022-10-02T13:25:33.554Z"
   },
   {
    "duration": 9,
    "start_time": "2022-10-02T13:25:33.626Z"
   },
   {
    "duration": 7,
    "start_time": "2022-10-02T13:25:33.636Z"
   },
   {
    "duration": 17,
    "start_time": "2022-10-02T13:25:33.645Z"
   },
   {
    "duration": 16,
    "start_time": "2022-10-02T13:25:33.665Z"
   },
   {
    "duration": 11,
    "start_time": "2022-10-02T13:25:33.682Z"
   },
   {
    "duration": 52,
    "start_time": "2022-10-02T13:25:33.695Z"
   },
   {
    "duration": 32,
    "start_time": "2022-10-02T13:25:33.750Z"
   },
   {
    "duration": 4,
    "start_time": "2022-10-02T13:25:33.783Z"
   },
   {
    "duration": 20,
    "start_time": "2022-10-02T13:25:36.986Z"
   },
   {
    "duration": 21,
    "start_time": "2022-10-02T13:25:38.065Z"
   },
   {
    "duration": 16,
    "start_time": "2022-10-02T13:25:43.569Z"
   },
   {
    "duration": 17,
    "start_time": "2022-10-02T13:25:44.080Z"
   },
   {
    "duration": 25,
    "start_time": "2022-10-02T13:25:44.601Z"
   },
   {
    "duration": 17,
    "start_time": "2022-10-02T13:25:45.113Z"
   },
   {
    "duration": 4,
    "start_time": "2022-10-02T13:27:33.499Z"
   },
   {
    "duration": 3,
    "start_time": "2022-10-02T13:27:46.594Z"
   },
   {
    "duration": 7,
    "start_time": "2022-10-02T13:27:56.651Z"
   },
   {
    "duration": 28,
    "start_time": "2022-10-02T13:28:44.668Z"
   },
   {
    "duration": 17,
    "start_time": "2022-10-02T13:29:53.085Z"
   },
   {
    "duration": 78,
    "start_time": "2022-10-02T13:33:21.263Z"
   },
   {
    "duration": 5,
    "start_time": "2022-10-02T13:33:45.696Z"
   },
   {
    "duration": 93,
    "start_time": "2022-10-02T13:34:08.647Z"
   },
   {
    "duration": 5,
    "start_time": "2022-10-02T13:34:22.287Z"
   },
   {
    "duration": 2,
    "start_time": "2022-10-02T13:34:23.760Z"
   },
   {
    "duration": 21,
    "start_time": "2022-10-02T13:34:25.656Z"
   },
   {
    "duration": 19,
    "start_time": "2022-10-02T13:35:34.089Z"
   },
   {
    "duration": 2,
    "start_time": "2022-10-02T13:35:34.961Z"
   },
   {
    "duration": 14,
    "start_time": "2022-10-02T13:35:35.601Z"
   },
   {
    "duration": 3,
    "start_time": "2022-10-02T13:36:19.785Z"
   },
   {
    "duration": 23,
    "start_time": "2022-10-02T13:36:20.418Z"
   },
   {
    "duration": 3,
    "start_time": "2022-10-02T13:36:20.937Z"
   },
   {
    "duration": 13,
    "start_time": "2022-10-02T13:36:21.496Z"
   },
   {
    "duration": 16,
    "start_time": "2022-10-02T13:36:36.376Z"
   },
   {
    "duration": 3,
    "start_time": "2022-10-02T13:36:36.952Z"
   },
   {
    "duration": 71,
    "start_time": "2022-10-02T13:37:02.217Z"
   },
   {
    "duration": 25,
    "start_time": "2022-10-02T13:37:18.081Z"
   },
   {
    "duration": 15,
    "start_time": "2022-10-02T13:37:18.962Z"
   },
   {
    "duration": 16,
    "start_time": "2022-10-02T13:37:19.442Z"
   },
   {
    "duration": 13,
    "start_time": "2022-10-02T13:37:19.905Z"
   },
   {
    "duration": 412,
    "start_time": "2022-10-02T13:39:47.066Z"
   },
   {
    "duration": 209,
    "start_time": "2022-10-02T13:39:47.481Z"
   },
   {
    "duration": 31,
    "start_time": "2022-10-02T13:39:47.692Z"
   },
   {
    "duration": 46,
    "start_time": "2022-10-02T13:39:47.726Z"
   },
   {
    "duration": 9,
    "start_time": "2022-10-02T13:39:47.774Z"
   },
   {
    "duration": 9,
    "start_time": "2022-10-02T13:39:47.786Z"
   },
   {
    "duration": 6,
    "start_time": "2022-10-02T13:39:47.820Z"
   },
   {
    "duration": 44,
    "start_time": "2022-10-02T13:39:47.828Z"
   },
   {
    "duration": 23,
    "start_time": "2022-10-02T13:39:47.873Z"
   },
   {
    "duration": 26,
    "start_time": "2022-10-02T13:39:47.900Z"
   },
   {
    "duration": 46,
    "start_time": "2022-10-02T13:39:47.928Z"
   },
   {
    "duration": 125,
    "start_time": "2022-10-02T13:39:47.976Z"
   },
   {
    "duration": 122,
    "start_time": "2022-10-02T13:39:48.103Z"
   },
   {
    "duration": 98,
    "start_time": "2022-10-02T13:39:48.228Z"
   },
   {
    "duration": 12,
    "start_time": "2022-10-02T13:39:48.329Z"
   },
   {
    "duration": 6,
    "start_time": "2022-10-02T13:39:48.343Z"
   },
   {
    "duration": 14,
    "start_time": "2022-10-02T13:39:48.351Z"
   },
   {
    "duration": 22,
    "start_time": "2022-10-02T13:39:48.368Z"
   },
   {
    "duration": 22,
    "start_time": "2022-10-02T13:39:48.393Z"
   },
   {
    "duration": 83,
    "start_time": "2022-10-02T13:39:48.420Z"
   },
   {
    "duration": 47,
    "start_time": "2022-10-02T13:39:48.505Z"
   },
   {
    "duration": 4,
    "start_time": "2022-10-02T13:39:48.553Z"
   },
   {
    "duration": 38,
    "start_time": "2022-10-02T13:39:48.558Z"
   },
   {
    "duration": 24,
    "start_time": "2022-10-02T13:39:48.597Z"
   },
   {
    "duration": 16,
    "start_time": "2022-10-02T13:39:48.623Z"
   },
   {
    "duration": 26,
    "start_time": "2022-10-02T13:39:48.641Z"
   },
   {
    "duration": 21,
    "start_time": "2022-10-02T13:39:48.670Z"
   },
   {
    "duration": 22,
    "start_time": "2022-10-02T13:39:48.723Z"
   },
   {
    "duration": 14,
    "start_time": "2022-10-02T13:39:48.747Z"
   },
   {
    "duration": 18,
    "start_time": "2022-10-02T13:39:48.763Z"
   },
   {
    "duration": 19,
    "start_time": "2022-10-02T13:39:48.783Z"
   },
   {
    "duration": 30,
    "start_time": "2022-10-02T13:39:48.804Z"
   },
   {
    "duration": 29,
    "start_time": "2022-10-02T13:39:48.836Z"
   },
   {
    "duration": 17,
    "start_time": "2022-10-02T13:39:48.867Z"
   },
   {
    "duration": 63,
    "start_time": "2022-10-02T13:39:48.886Z"
   },
   {
    "duration": 22,
    "start_time": "2022-10-02T13:39:48.951Z"
   },
   {
    "duration": 37,
    "start_time": "2022-10-02T13:39:48.975Z"
   },
   {
    "duration": 16,
    "start_time": "2022-10-02T13:39:49.014Z"
   },
   {
    "duration": 33,
    "start_time": "2022-10-02T13:39:49.032Z"
   },
   {
    "duration": 21,
    "start_time": "2022-10-02T13:39:49.068Z"
   },
   {
    "duration": 8,
    "start_time": "2022-10-02T13:39:49.092Z"
   },
   {
    "duration": 6,
    "start_time": "2022-10-02T13:39:57.408Z"
   },
   {
    "duration": 27,
    "start_time": "2022-10-02T13:39:58.952Z"
   },
   {
    "duration": 402,
    "start_time": "2022-10-03T06:01:45.753Z"
   },
   {
    "duration": 269,
    "start_time": "2022-10-03T06:01:46.157Z"
   },
   {
    "duration": 22,
    "start_time": "2022-10-03T06:01:46.430Z"
   },
   {
    "duration": 54,
    "start_time": "2022-10-03T06:01:46.454Z"
   },
   {
    "duration": 7,
    "start_time": "2022-10-03T06:01:46.511Z"
   },
   {
    "duration": 4,
    "start_time": "2022-10-03T07:25:41.833Z"
   },
   {
    "duration": 4,
    "start_time": "2022-10-03T07:25:43.995Z"
   },
   {
    "duration": 24,
    "start_time": "2022-10-03T07:25:52.835Z"
   },
   {
    "duration": 7,
    "start_time": "2022-10-03T07:26:11.867Z"
   },
   {
    "duration": 19,
    "start_time": "2022-10-03T07:27:02.636Z"
   },
   {
    "duration": 25,
    "start_time": "2022-10-03T07:27:05.316Z"
   },
   {
    "duration": 18,
    "start_time": "2022-10-03T07:27:40.726Z"
   },
   {
    "duration": 12,
    "start_time": "2022-10-03T07:28:17.782Z"
   },
   {
    "duration": 14,
    "start_time": "2022-10-03T07:28:30.190Z"
   },
   {
    "duration": 26,
    "start_time": "2022-10-03T07:28:40.453Z"
   },
   {
    "duration": 62,
    "start_time": "2022-10-03T07:28:43.662Z"
   },
   {
    "duration": 67,
    "start_time": "2022-10-03T07:28:48.998Z"
   },
   {
    "duration": 57,
    "start_time": "2022-10-03T07:28:51.406Z"
   },
   {
    "duration": 55,
    "start_time": "2022-10-03T07:30:17.655Z"
   },
   {
    "duration": 35,
    "start_time": "2022-10-03T07:30:51.233Z"
   },
   {
    "duration": 8,
    "start_time": "2022-10-03T07:30:59.520Z"
   },
   {
    "duration": 52,
    "start_time": "2022-10-03T07:31:07.015Z"
   },
   {
    "duration": 8,
    "start_time": "2022-10-03T07:31:09.496Z"
   },
   {
    "duration": 47,
    "start_time": "2022-10-03T07:31:20.753Z"
   },
   {
    "duration": 3,
    "start_time": "2022-10-03T09:35:34.944Z"
   },
   {
    "duration": 3,
    "start_time": "2022-10-03T09:35:36.184Z"
   },
   {
    "duration": 10,
    "start_time": "2022-10-03T09:35:36.888Z"
   },
   {
    "duration": 5,
    "start_time": "2022-10-03T09:46:57.666Z"
   },
   {
    "duration": 5,
    "start_time": "2022-10-03T09:47:04.591Z"
   },
   {
    "duration": 5,
    "start_time": "2022-10-03T09:47:08.225Z"
   },
   {
    "duration": 64,
    "start_time": "2022-10-03T09:47:15.098Z"
   },
   {
    "duration": 13,
    "start_time": "2022-10-03T09:47:23.594Z"
   },
   {
    "duration": 11,
    "start_time": "2022-10-03T09:47:29.082Z"
   },
   {
    "duration": 5,
    "start_time": "2022-10-03T09:47:43.278Z"
   },
   {
    "duration": 422,
    "start_time": "2022-10-03T09:48:06.403Z"
   },
   {
    "duration": 167,
    "start_time": "2022-10-03T09:48:06.827Z"
   },
   {
    "duration": 17,
    "start_time": "2022-10-03T09:48:06.995Z"
   },
   {
    "duration": 30,
    "start_time": "2022-10-03T09:48:07.013Z"
   },
   {
    "duration": 6,
    "start_time": "2022-10-03T09:48:07.046Z"
   },
   {
    "duration": 7,
    "start_time": "2022-10-03T09:48:07.053Z"
   },
   {
    "duration": 10,
    "start_time": "2022-10-03T09:48:07.062Z"
   },
   {
    "duration": 30,
    "start_time": "2022-10-03T09:48:07.074Z"
   },
   {
    "duration": 28,
    "start_time": "2022-10-03T09:48:07.105Z"
   },
   {
    "duration": 25,
    "start_time": "2022-10-03T09:48:07.135Z"
   },
   {
    "duration": 23,
    "start_time": "2022-10-03T09:48:07.162Z"
   },
   {
    "duration": 77,
    "start_time": "2022-10-03T09:48:07.187Z"
   },
   {
    "duration": 74,
    "start_time": "2022-10-03T09:48:07.266Z"
   },
   {
    "duration": 67,
    "start_time": "2022-10-03T09:48:07.342Z"
   },
   {
    "duration": 52,
    "start_time": "2022-10-03T09:48:07.411Z"
   },
   {
    "duration": 3,
    "start_time": "2022-10-03T09:48:07.465Z"
   },
   {
    "duration": 24,
    "start_time": "2022-10-03T09:48:07.469Z"
   },
   {
    "duration": 19,
    "start_time": "2022-10-03T09:48:07.495Z"
   },
   {
    "duration": 12,
    "start_time": "2022-10-03T09:48:07.516Z"
   },
   {
    "duration": 7,
    "start_time": "2022-10-03T09:48:36.235Z"
   },
   {
    "duration": 12,
    "start_time": "2022-10-03T09:48:45.707Z"
   },
   {
    "duration": 58,
    "start_time": "2022-10-03T09:49:14.868Z"
   },
   {
    "duration": 94,
    "start_time": "2022-10-03T09:49:16.347Z"
   },
   {
    "duration": 59,
    "start_time": "2022-10-03T09:49:19.460Z"
   },
   {
    "duration": 441,
    "start_time": "2022-10-03T09:49:31.815Z"
   },
   {
    "duration": 164,
    "start_time": "2022-10-03T09:49:32.258Z"
   },
   {
    "duration": 18,
    "start_time": "2022-10-03T09:49:32.423Z"
   },
   {
    "duration": 29,
    "start_time": "2022-10-03T09:49:32.442Z"
   },
   {
    "duration": 4,
    "start_time": "2022-10-03T09:49:32.473Z"
   },
   {
    "duration": 14,
    "start_time": "2022-10-03T09:49:32.478Z"
   },
   {
    "duration": 9,
    "start_time": "2022-10-03T09:49:32.493Z"
   },
   {
    "duration": 44,
    "start_time": "2022-10-03T09:49:32.503Z"
   },
   {
    "duration": 7,
    "start_time": "2022-10-03T09:49:35.619Z"
   },
   {
    "duration": 24,
    "start_time": "2022-10-03T09:49:36.444Z"
   },
   {
    "duration": 24,
    "start_time": "2022-10-03T09:49:37.564Z"
   },
   {
    "duration": 68,
    "start_time": "2022-10-03T09:49:40.499Z"
   },
   {
    "duration": 65,
    "start_time": "2022-10-03T09:49:42.764Z"
   },
   {
    "duration": 59,
    "start_time": "2022-10-03T09:49:43.635Z"
   },
   {
    "duration": 40,
    "start_time": "2022-10-03T09:49:49.307Z"
   },
   {
    "duration": 16,
    "start_time": "2022-10-03T09:49:52.620Z"
   },
   {
    "duration": 4,
    "start_time": "2022-10-03T09:50:03.084Z"
   },
   {
    "duration": 3,
    "start_time": "2022-10-03T09:50:06.059Z"
   },
   {
    "duration": 13,
    "start_time": "2022-10-03T09:50:06.740Z"
   },
   {
    "duration": 19,
    "start_time": "2022-10-03T09:50:08.635Z"
   },
   {
    "duration": 6,
    "start_time": "2022-10-03T09:51:51.909Z"
   },
   {
    "duration": 424,
    "start_time": "2022-10-03T09:52:08.112Z"
   },
   {
    "duration": 185,
    "start_time": "2022-10-03T09:52:08.538Z"
   },
   {
    "duration": 19,
    "start_time": "2022-10-03T09:52:08.727Z"
   },
   {
    "duration": 35,
    "start_time": "2022-10-03T09:52:08.748Z"
   },
   {
    "duration": 14,
    "start_time": "2022-10-03T09:52:08.786Z"
   },
   {
    "duration": 8,
    "start_time": "2022-10-03T09:52:08.804Z"
   },
   {
    "duration": 7,
    "start_time": "2022-10-03T09:52:08.814Z"
   },
   {
    "duration": 36,
    "start_time": "2022-10-03T09:52:08.823Z"
   },
   {
    "duration": 7,
    "start_time": "2022-10-03T09:52:08.861Z"
   },
   {
    "duration": 21,
    "start_time": "2022-10-03T09:52:08.870Z"
   },
   {
    "duration": 41,
    "start_time": "2022-10-03T09:52:08.893Z"
   },
   {
    "duration": 66,
    "start_time": "2022-10-03T09:52:08.936Z"
   },
   {
    "duration": 84,
    "start_time": "2022-10-03T09:52:09.004Z"
   },
   {
    "duration": 69,
    "start_time": "2022-10-03T09:52:09.090Z"
   },
   {
    "duration": 40,
    "start_time": "2022-10-03T09:52:09.161Z"
   },
   {
    "duration": 12,
    "start_time": "2022-10-03T09:52:09.203Z"
   },
   {
    "duration": 3,
    "start_time": "2022-10-03T09:52:16.743Z"
   },
   {
    "duration": 3,
    "start_time": "2022-10-03T09:52:18.349Z"
   },
   {
    "duration": 36,
    "start_time": "2022-10-03T09:52:26.173Z"
   },
   {
    "duration": 14,
    "start_time": "2022-10-03T09:52:33.181Z"
   },
   {
    "duration": 16,
    "start_time": "2022-10-03T09:52:33.822Z"
   },
   {
    "duration": 423,
    "start_time": "2022-10-03T09:53:05.462Z"
   },
   {
    "duration": 176,
    "start_time": "2022-10-03T09:53:05.887Z"
   },
   {
    "duration": 17,
    "start_time": "2022-10-03T09:53:06.065Z"
   },
   {
    "duration": 30,
    "start_time": "2022-10-03T09:53:06.084Z"
   },
   {
    "duration": 18,
    "start_time": "2022-10-03T09:53:06.116Z"
   },
   {
    "duration": 3,
    "start_time": "2022-10-03T09:53:06.136Z"
   },
   {
    "duration": 16,
    "start_time": "2022-10-03T09:53:06.140Z"
   },
   {
    "duration": 31,
    "start_time": "2022-10-03T09:53:06.158Z"
   },
   {
    "duration": 14,
    "start_time": "2022-10-03T09:53:06.190Z"
   },
   {
    "duration": 43,
    "start_time": "2022-10-03T09:53:06.206Z"
   },
   {
    "duration": 59,
    "start_time": "2022-10-03T09:53:06.252Z"
   },
   {
    "duration": 83,
    "start_time": "2022-10-03T09:53:06.313Z"
   },
   {
    "duration": 81,
    "start_time": "2022-10-03T09:53:06.398Z"
   },
   {
    "duration": 104,
    "start_time": "2022-10-03T09:53:06.483Z"
   },
   {
    "duration": 46,
    "start_time": "2022-10-03T09:53:06.589Z"
   },
   {
    "duration": 3,
    "start_time": "2022-10-03T09:53:08.299Z"
   },
   {
    "duration": 3,
    "start_time": "2022-10-03T09:53:09.307Z"
   },
   {
    "duration": 16,
    "start_time": "2022-10-03T09:53:09.836Z"
   },
   {
    "duration": 62,
    "start_time": "2022-10-03T09:53:10.669Z"
   },
   {
    "duration": 9,
    "start_time": "2022-10-03T09:53:35.835Z"
   },
   {
    "duration": 9,
    "start_time": "2022-10-03T09:53:59.532Z"
   },
   {
    "duration": 3,
    "start_time": "2022-10-03T09:54:09.724Z"
   },
   {
    "duration": 3,
    "start_time": "2022-10-03T09:54:10.692Z"
   },
   {
    "duration": 12,
    "start_time": "2022-10-03T09:54:11.204Z"
   },
   {
    "duration": 10,
    "start_time": "2022-10-03T09:54:13.124Z"
   },
   {
    "duration": 10,
    "start_time": "2022-10-03T09:54:26.988Z"
   },
   {
    "duration": 6,
    "start_time": "2022-10-03T09:54:56.205Z"
   },
   {
    "duration": 12,
    "start_time": "2022-10-03T09:55:00.685Z"
   },
   {
    "duration": 408,
    "start_time": "2022-10-03T09:55:14.018Z"
   },
   {
    "duration": 155,
    "start_time": "2022-10-03T09:55:14.428Z"
   },
   {
    "duration": 17,
    "start_time": "2022-10-03T09:55:14.585Z"
   },
   {
    "duration": 38,
    "start_time": "2022-10-03T09:55:14.604Z"
   },
   {
    "duration": 4,
    "start_time": "2022-10-03T09:55:14.643Z"
   },
   {
    "duration": 9,
    "start_time": "2022-10-03T09:55:14.649Z"
   },
   {
    "duration": 13,
    "start_time": "2022-10-03T09:55:14.659Z"
   },
   {
    "duration": 30,
    "start_time": "2022-10-03T09:55:14.673Z"
   },
   {
    "duration": 9,
    "start_time": "2022-10-03T09:55:14.705Z"
   },
   {
    "duration": 34,
    "start_time": "2022-10-03T09:55:14.716Z"
   },
   {
    "duration": 25,
    "start_time": "2022-10-03T09:55:14.752Z"
   },
   {
    "duration": 75,
    "start_time": "2022-10-03T09:55:14.778Z"
   },
   {
    "duration": 65,
    "start_time": "2022-10-03T09:55:14.855Z"
   },
   {
    "duration": 69,
    "start_time": "2022-10-03T09:55:14.921Z"
   },
   {
    "duration": 82,
    "start_time": "2022-10-03T09:55:14.991Z"
   },
   {
    "duration": 3,
    "start_time": "2022-10-03T09:55:19.032Z"
   },
   {
    "duration": 405,
    "start_time": "2022-10-03T11:02:54.433Z"
   },
   {
    "duration": 170,
    "start_time": "2022-10-03T11:02:54.841Z"
   },
   {
    "duration": 20,
    "start_time": "2022-10-03T11:02:55.013Z"
   },
   {
    "duration": 35,
    "start_time": "2022-10-03T11:02:55.036Z"
   },
   {
    "duration": 14,
    "start_time": "2022-10-03T11:02:55.073Z"
   },
   {
    "duration": 13,
    "start_time": "2022-10-03T11:02:55.090Z"
   },
   {
    "duration": 15,
    "start_time": "2022-10-03T11:02:55.105Z"
   },
   {
    "duration": 36,
    "start_time": "2022-10-03T11:02:55.122Z"
   },
   {
    "duration": 26,
    "start_time": "2022-10-03T11:02:55.160Z"
   },
   {
    "duration": 39,
    "start_time": "2022-10-03T11:02:55.188Z"
   },
   {
    "duration": 32,
    "start_time": "2022-10-03T11:02:55.229Z"
   },
   {
    "duration": 89,
    "start_time": "2022-10-03T11:02:55.263Z"
   },
   {
    "duration": 69,
    "start_time": "2022-10-03T11:02:55.354Z"
   },
   {
    "duration": 67,
    "start_time": "2022-10-03T11:02:55.425Z"
   },
   {
    "duration": 55,
    "start_time": "2022-10-03T11:02:55.494Z"
   },
   {
    "duration": 3,
    "start_time": "2022-10-03T11:02:55.551Z"
   },
   {
    "duration": 29,
    "start_time": "2022-10-03T11:02:55.556Z"
   },
   {
    "duration": 29,
    "start_time": "2022-10-03T11:02:55.587Z"
   },
   {
    "duration": 46,
    "start_time": "2022-10-03T11:02:55.617Z"
   },
   {
    "duration": 5,
    "start_time": "2022-10-03T11:05:24.889Z"
   },
   {
    "duration": 13,
    "start_time": "2022-10-03T11:05:31.092Z"
   },
   {
    "duration": 360,
    "start_time": "2022-10-03T11:09:59.272Z"
   },
   {
    "duration": 186,
    "start_time": "2022-10-03T11:09:59.635Z"
   },
   {
    "duration": 28,
    "start_time": "2022-10-03T11:09:59.823Z"
   },
   {
    "duration": 33,
    "start_time": "2022-10-03T11:09:59.853Z"
   },
   {
    "duration": 13,
    "start_time": "2022-10-03T11:09:59.889Z"
   },
   {
    "duration": 30,
    "start_time": "2022-10-03T11:09:59.904Z"
   },
   {
    "duration": 10,
    "start_time": "2022-10-03T11:09:59.936Z"
   },
   {
    "duration": 43,
    "start_time": "2022-10-03T11:09:59.949Z"
   },
   {
    "duration": 26,
    "start_time": "2022-10-03T11:09:59.994Z"
   },
   {
    "duration": 54,
    "start_time": "2022-10-03T11:10:00.024Z"
   },
   {
    "duration": 33,
    "start_time": "2022-10-03T11:10:00.081Z"
   },
   {
    "duration": 121,
    "start_time": "2022-10-03T11:10:00.116Z"
   },
   {
    "duration": 74,
    "start_time": "2022-10-03T11:10:00.239Z"
   },
   {
    "duration": 112,
    "start_time": "2022-10-03T11:10:00.315Z"
   },
   {
    "duration": 65,
    "start_time": "2022-10-03T11:10:00.434Z"
   },
   {
    "duration": 15,
    "start_time": "2022-10-03T11:10:12.055Z"
   },
   {
    "duration": 3,
    "start_time": "2022-10-03T11:10:21.951Z"
   },
   {
    "duration": 4,
    "start_time": "2022-10-03T11:10:23.968Z"
   },
   {
    "duration": 16,
    "start_time": "2022-10-03T11:10:25.208Z"
   },
   {
    "duration": 13,
    "start_time": "2022-10-03T11:10:27.121Z"
   },
   {
    "duration": 387,
    "start_time": "2022-10-03T11:21:14.163Z"
   },
   {
    "duration": 165,
    "start_time": "2022-10-03T11:21:14.552Z"
   },
   {
    "duration": 21,
    "start_time": "2022-10-03T11:21:14.718Z"
   },
   {
    "duration": 29,
    "start_time": "2022-10-03T11:21:14.741Z"
   },
   {
    "duration": 4,
    "start_time": "2022-10-03T11:21:14.771Z"
   },
   {
    "duration": 6,
    "start_time": "2022-10-03T11:21:14.777Z"
   },
   {
    "duration": 9,
    "start_time": "2022-10-03T11:21:14.784Z"
   },
   {
    "duration": 43,
    "start_time": "2022-10-03T11:21:14.795Z"
   },
   {
    "duration": 16,
    "start_time": "2022-10-03T11:21:14.839Z"
   },
   {
    "duration": 34,
    "start_time": "2022-10-03T11:21:14.857Z"
   },
   {
    "duration": 24,
    "start_time": "2022-10-03T11:21:14.893Z"
   },
   {
    "duration": 69,
    "start_time": "2022-10-03T11:21:14.918Z"
   },
   {
    "duration": 72,
    "start_time": "2022-10-03T11:21:14.988Z"
   },
   {
    "duration": 59,
    "start_time": "2022-10-03T11:21:15.062Z"
   },
   {
    "duration": 41,
    "start_time": "2022-10-03T11:21:15.133Z"
   },
   {
    "duration": 3,
    "start_time": "2022-10-03T11:21:18.582Z"
   },
   {
    "duration": 2,
    "start_time": "2022-10-03T11:21:22.392Z"
   },
   {
    "duration": 11,
    "start_time": "2022-10-03T11:21:25.952Z"
   },
   {
    "duration": 12,
    "start_time": "2022-10-03T11:21:27.256Z"
   },
   {
    "duration": 412,
    "start_time": "2022-10-03T11:22:14.492Z"
   },
   {
    "duration": 171,
    "start_time": "2022-10-03T11:22:14.906Z"
   },
   {
    "duration": 17,
    "start_time": "2022-10-03T11:22:15.079Z"
   },
   {
    "duration": 43,
    "start_time": "2022-10-03T11:22:15.098Z"
   },
   {
    "duration": 5,
    "start_time": "2022-10-03T11:22:15.142Z"
   },
   {
    "duration": 6,
    "start_time": "2022-10-03T11:22:15.149Z"
   },
   {
    "duration": 11,
    "start_time": "2022-10-03T11:22:15.157Z"
   },
   {
    "duration": 30,
    "start_time": "2022-10-03T11:22:15.169Z"
   },
   {
    "duration": 12,
    "start_time": "2022-10-03T11:22:15.200Z"
   },
   {
    "duration": 25,
    "start_time": "2022-10-03T11:22:15.233Z"
   },
   {
    "duration": 28,
    "start_time": "2022-10-03T11:22:15.260Z"
   },
   {
    "duration": 79,
    "start_time": "2022-10-03T11:22:15.290Z"
   },
   {
    "duration": 75,
    "start_time": "2022-10-03T11:22:15.370Z"
   },
   {
    "duration": 59,
    "start_time": "2022-10-03T11:22:15.447Z"
   },
   {
    "duration": 59,
    "start_time": "2022-10-03T11:22:15.507Z"
   },
   {
    "duration": 4,
    "start_time": "2022-10-03T11:22:21.112Z"
   },
   {
    "duration": 3,
    "start_time": "2022-10-03T11:22:24.480Z"
   },
   {
    "duration": 9,
    "start_time": "2022-10-03T11:22:26.328Z"
   },
   {
    "duration": 13,
    "start_time": "2022-10-03T11:22:28.193Z"
   },
   {
    "duration": 408,
    "start_time": "2022-10-03T11:23:56.280Z"
   },
   {
    "duration": 171,
    "start_time": "2022-10-03T11:23:56.690Z"
   },
   {
    "duration": 17,
    "start_time": "2022-10-03T11:23:56.862Z"
   },
   {
    "duration": 35,
    "start_time": "2022-10-03T11:23:56.882Z"
   },
   {
    "duration": 17,
    "start_time": "2022-10-03T11:23:56.920Z"
   },
   {
    "duration": 13,
    "start_time": "2022-10-03T11:23:56.939Z"
   },
   {
    "duration": 18,
    "start_time": "2022-10-03T11:23:56.954Z"
   },
   {
    "duration": 52,
    "start_time": "2022-10-03T11:23:56.975Z"
   },
   {
    "duration": 10,
    "start_time": "2022-10-03T11:23:57.029Z"
   },
   {
    "duration": 39,
    "start_time": "2022-10-03T11:23:57.041Z"
   },
   {
    "duration": 57,
    "start_time": "2022-10-03T11:23:57.084Z"
   },
   {
    "duration": 122,
    "start_time": "2022-10-03T11:23:57.143Z"
   },
   {
    "duration": 84,
    "start_time": "2022-10-03T11:23:57.267Z"
   },
   {
    "duration": 85,
    "start_time": "2022-10-03T11:23:57.353Z"
   },
   {
    "duration": 42,
    "start_time": "2022-10-03T11:23:57.440Z"
   },
   {
    "duration": 6,
    "start_time": "2022-10-03T11:23:59.517Z"
   },
   {
    "duration": 13,
    "start_time": "2022-10-03T11:24:03.662Z"
   },
   {
    "duration": 419,
    "start_time": "2022-10-03T11:24:19.116Z"
   },
   {
    "duration": 170,
    "start_time": "2022-10-03T11:24:19.536Z"
   },
   {
    "duration": 28,
    "start_time": "2022-10-03T11:24:19.708Z"
   },
   {
    "duration": 34,
    "start_time": "2022-10-03T11:24:19.739Z"
   },
   {
    "duration": 8,
    "start_time": "2022-10-03T11:24:19.775Z"
   },
   {
    "duration": 10,
    "start_time": "2022-10-03T11:24:19.785Z"
   },
   {
    "duration": 8,
    "start_time": "2022-10-03T11:24:19.797Z"
   },
   {
    "duration": 64,
    "start_time": "2022-10-03T11:24:19.807Z"
   },
   {
    "duration": 13,
    "start_time": "2022-10-03T11:24:19.873Z"
   },
   {
    "duration": 24,
    "start_time": "2022-10-03T11:24:19.889Z"
   },
   {
    "duration": 31,
    "start_time": "2022-10-03T11:24:19.915Z"
   },
   {
    "duration": 76,
    "start_time": "2022-10-03T11:24:19.947Z"
   },
   {
    "duration": 72,
    "start_time": "2022-10-03T11:24:20.024Z"
   },
   {
    "duration": 76,
    "start_time": "2022-10-03T11:24:20.098Z"
   },
   {
    "duration": 78,
    "start_time": "2022-10-03T11:24:20.176Z"
   },
   {
    "duration": 12,
    "start_time": "2022-10-03T11:24:25.827Z"
   },
   {
    "duration": 6,
    "start_time": "2022-10-03T11:24:47.641Z"
   },
   {
    "duration": 12,
    "start_time": "2022-10-03T11:24:50.210Z"
   },
   {
    "duration": 404,
    "start_time": "2022-10-03T11:25:44.743Z"
   },
   {
    "duration": 175,
    "start_time": "2022-10-03T11:25:45.149Z"
   },
   {
    "duration": 16,
    "start_time": "2022-10-03T11:25:45.326Z"
   },
   {
    "duration": 32,
    "start_time": "2022-10-03T11:25:45.344Z"
   },
   {
    "duration": 4,
    "start_time": "2022-10-03T11:25:45.378Z"
   },
   {
    "duration": 6,
    "start_time": "2022-10-03T11:25:45.383Z"
   },
   {
    "duration": 9,
    "start_time": "2022-10-03T11:25:45.390Z"
   },
   {
    "duration": 25,
    "start_time": "2022-10-03T11:25:45.434Z"
   },
   {
    "duration": 8,
    "start_time": "2022-10-03T11:25:45.461Z"
   },
   {
    "duration": 22,
    "start_time": "2022-10-03T11:25:45.471Z"
   },
   {
    "duration": 49,
    "start_time": "2022-10-03T11:25:45.494Z"
   },
   {
    "duration": 69,
    "start_time": "2022-10-03T11:25:45.544Z"
   },
   {
    "duration": 129,
    "start_time": "2022-10-03T11:25:45.614Z"
   },
   {
    "duration": 71,
    "start_time": "2022-10-03T11:25:45.745Z"
   },
   {
    "duration": 68,
    "start_time": "2022-10-03T11:25:45.818Z"
   },
   {
    "duration": 14,
    "start_time": "2022-10-03T11:25:45.888Z"
   },
   {
    "duration": 7,
    "start_time": "2022-10-03T11:25:48.469Z"
   },
   {
    "duration": 12,
    "start_time": "2022-10-03T11:25:51.811Z"
   },
   {
    "duration": 367,
    "start_time": "2022-10-03T11:26:35.366Z"
   },
   {
    "duration": 183,
    "start_time": "2022-10-03T11:26:35.736Z"
   },
   {
    "duration": 21,
    "start_time": "2022-10-03T11:26:35.920Z"
   },
   {
    "duration": 32,
    "start_time": "2022-10-03T11:26:35.943Z"
   },
   {
    "duration": 4,
    "start_time": "2022-10-03T11:26:35.977Z"
   },
   {
    "duration": 6,
    "start_time": "2022-10-03T11:26:35.983Z"
   },
   {
    "duration": 35,
    "start_time": "2022-10-03T11:26:35.991Z"
   },
   {
    "duration": 44,
    "start_time": "2022-10-03T11:26:36.027Z"
   },
   {
    "duration": 34,
    "start_time": "2022-10-03T11:26:36.073Z"
   },
   {
    "duration": 38,
    "start_time": "2022-10-03T11:26:36.110Z"
   },
   {
    "duration": 34,
    "start_time": "2022-10-03T11:26:36.150Z"
   },
   {
    "duration": 105,
    "start_time": "2022-10-03T11:26:36.186Z"
   },
   {
    "duration": 130,
    "start_time": "2022-10-03T11:26:36.293Z"
   },
   {
    "duration": 77,
    "start_time": "2022-10-03T11:26:36.426Z"
   },
   {
    "duration": 67,
    "start_time": "2022-10-03T11:26:36.506Z"
   },
   {
    "duration": 4,
    "start_time": "2022-10-03T11:26:39.531Z"
   },
   {
    "duration": 3,
    "start_time": "2022-10-03T11:26:41.203Z"
   },
   {
    "duration": 14,
    "start_time": "2022-10-03T11:26:41.876Z"
   },
   {
    "duration": 17,
    "start_time": "2022-10-03T11:26:43.969Z"
   },
   {
    "duration": 412,
    "start_time": "2022-10-03T11:27:01.984Z"
   },
   {
    "duration": 167,
    "start_time": "2022-10-03T11:27:02.398Z"
   },
   {
    "duration": 21,
    "start_time": "2022-10-03T11:27:02.566Z"
   },
   {
    "duration": 58,
    "start_time": "2022-10-03T11:27:02.590Z"
   },
   {
    "duration": 10,
    "start_time": "2022-10-03T11:27:02.650Z"
   },
   {
    "duration": 12,
    "start_time": "2022-10-03T11:27:02.662Z"
   },
   {
    "duration": 13,
    "start_time": "2022-10-03T11:27:02.676Z"
   },
   {
    "duration": 60,
    "start_time": "2022-10-03T11:27:02.692Z"
   },
   {
    "duration": 9,
    "start_time": "2022-10-03T11:27:02.754Z"
   },
   {
    "duration": 47,
    "start_time": "2022-10-03T11:27:02.765Z"
   },
   {
    "duration": 87,
    "start_time": "2022-10-03T11:27:02.814Z"
   },
   {
    "duration": 112,
    "start_time": "2022-10-03T11:27:02.904Z"
   },
   {
    "duration": 73,
    "start_time": "2022-10-03T11:27:03.018Z"
   },
   {
    "duration": 74,
    "start_time": "2022-10-03T11:27:03.093Z"
   },
   {
    "duration": 82,
    "start_time": "2022-10-03T11:27:03.169Z"
   },
   {
    "duration": 4,
    "start_time": "2022-10-03T11:27:03.253Z"
   },
   {
    "duration": 15,
    "start_time": "2022-10-03T11:27:03.259Z"
   },
   {
    "duration": 21,
    "start_time": "2022-10-03T11:27:03.276Z"
   },
   {
    "duration": 17,
    "start_time": "2022-10-03T11:27:04.860Z"
   },
   {
    "duration": 42,
    "start_time": "2022-10-03T11:27:29.197Z"
   },
   {
    "duration": 68,
    "start_time": "2022-10-03T13:23:14.182Z"
   },
   {
    "duration": 867,
    "start_time": "2022-10-03T13:23:35.158Z"
   },
   {
    "duration": 57,
    "start_time": "2022-10-03T13:24:00.373Z"
   },
   {
    "duration": 49,
    "start_time": "2022-10-03T13:24:18.390Z"
   },
   {
    "duration": 353,
    "start_time": "2022-10-03T17:05:16.026Z"
   },
   {
    "duration": 216,
    "start_time": "2022-10-03T17:05:16.380Z"
   },
   {
    "duration": 16,
    "start_time": "2022-10-03T17:05:16.598Z"
   },
   {
    "duration": 26,
    "start_time": "2022-10-03T17:05:16.615Z"
   },
   {
    "duration": 4,
    "start_time": "2022-10-03T17:05:16.643Z"
   },
   {
    "duration": 6,
    "start_time": "2022-10-03T17:05:16.648Z"
   },
   {
    "duration": 7,
    "start_time": "2022-10-03T17:05:16.656Z"
   },
   {
    "duration": 45,
    "start_time": "2022-10-03T17:05:16.664Z"
   },
   {
    "duration": 6,
    "start_time": "2022-10-03T17:05:16.711Z"
   },
   {
    "duration": 19,
    "start_time": "2022-10-03T17:05:16.719Z"
   },
   {
    "duration": 19,
    "start_time": "2022-10-03T17:05:16.740Z"
   },
   {
    "duration": 84,
    "start_time": "2022-10-03T17:05:16.761Z"
   },
   {
    "duration": 69,
    "start_time": "2022-10-03T17:05:16.847Z"
   },
   {
    "duration": 52,
    "start_time": "2022-10-03T17:05:16.918Z"
   },
   {
    "duration": 65,
    "start_time": "2022-10-03T17:05:16.972Z"
   },
   {
    "duration": 2,
    "start_time": "2022-10-03T17:05:17.039Z"
   },
   {
    "duration": 5,
    "start_time": "2022-10-03T17:05:17.043Z"
   },
   {
    "duration": 11,
    "start_time": "2022-10-03T17:05:17.050Z"
   },
   {
    "duration": 46,
    "start_time": "2022-10-03T17:05:17.063Z"
   },
   {
    "duration": 30,
    "start_time": "2022-10-03T17:05:21.507Z"
   },
   {
    "duration": 41,
    "start_time": "2022-10-03T17:05:35.313Z"
   },
   {
    "duration": 28,
    "start_time": "2022-10-03T17:07:07.626Z"
   },
   {
    "duration": 3,
    "start_time": "2022-10-03T17:07:56.096Z"
   },
   {
    "duration": 22,
    "start_time": "2022-10-03T17:08:22.113Z"
   },
   {
    "duration": 18,
    "start_time": "2022-10-03T17:08:25.015Z"
   },
   {
    "duration": 21,
    "start_time": "2022-10-03T17:08:30.021Z"
   },
   {
    "duration": 20,
    "start_time": "2022-10-03T17:08:34.908Z"
   },
   {
    "duration": 23,
    "start_time": "2022-10-03T17:08:41.560Z"
   },
   {
    "duration": 13,
    "start_time": "2022-10-03T17:08:43.754Z"
   },
   {
    "duration": 4,
    "start_time": "2022-10-03T17:09:05.633Z"
   },
   {
    "duration": 6,
    "start_time": "2022-10-03T17:09:06.523Z"
   },
   {
    "duration": 17,
    "start_time": "2022-10-03T17:14:51.004Z"
   },
   {
    "duration": 15,
    "start_time": "2022-10-03T17:15:18.311Z"
   },
   {
    "duration": 4,
    "start_time": "2022-10-03T17:17:06.957Z"
   },
   {
    "duration": 66,
    "start_time": "2022-10-03T17:17:11.486Z"
   },
   {
    "duration": 1380,
    "start_time": "2022-10-03T17:17:41.168Z"
   },
   {
    "duration": 3,
    "start_time": "2022-10-03T17:18:37.777Z"
   },
   {
    "duration": 15,
    "start_time": "2022-10-03T17:18:40.550Z"
   },
   {
    "duration": 12,
    "start_time": "2022-10-03T17:18:52.705Z"
   },
   {
    "duration": 19,
    "start_time": "2022-10-03T17:18:54.122Z"
   },
   {
    "duration": 12,
    "start_time": "2022-10-03T17:18:57.291Z"
   },
   {
    "duration": 13,
    "start_time": "2022-10-03T17:44:59.179Z"
   },
   {
    "duration": 10,
    "start_time": "2022-10-03T17:45:14.653Z"
   },
   {
    "duration": 9,
    "start_time": "2022-10-03T17:45:51.919Z"
   },
   {
    "duration": 5,
    "start_time": "2022-10-03T17:45:57.477Z"
   },
   {
    "duration": 2,
    "start_time": "2022-10-03T17:47:00.354Z"
   },
   {
    "duration": 8,
    "start_time": "2022-10-03T17:47:01.578Z"
   },
   {
    "duration": 5,
    "start_time": "2022-10-03T17:47:03.157Z"
   },
   {
    "duration": 6,
    "start_time": "2022-10-03T17:47:18.868Z"
   },
   {
    "duration": 382,
    "start_time": "2022-10-03T17:48:05.789Z"
   },
   {
    "duration": 150,
    "start_time": "2022-10-03T17:48:06.172Z"
   },
   {
    "duration": 17,
    "start_time": "2022-10-03T17:48:06.324Z"
   },
   {
    "duration": 26,
    "start_time": "2022-10-03T17:48:06.343Z"
   },
   {
    "duration": 4,
    "start_time": "2022-10-03T17:48:06.371Z"
   },
   {
    "duration": 26,
    "start_time": "2022-10-03T17:48:06.376Z"
   },
   {
    "duration": 8,
    "start_time": "2022-10-03T17:48:06.403Z"
   },
   {
    "duration": 34,
    "start_time": "2022-10-03T17:48:06.412Z"
   },
   {
    "duration": 6,
    "start_time": "2022-10-03T17:48:06.448Z"
   },
   {
    "duration": 18,
    "start_time": "2022-10-03T17:48:06.456Z"
   },
   {
    "duration": 35,
    "start_time": "2022-10-03T17:48:06.476Z"
   },
   {
    "duration": 67,
    "start_time": "2022-10-03T17:48:06.512Z"
   },
   {
    "duration": 72,
    "start_time": "2022-10-03T17:48:06.580Z"
   },
   {
    "duration": 63,
    "start_time": "2022-10-03T17:48:06.654Z"
   },
   {
    "duration": 32,
    "start_time": "2022-10-03T17:48:06.719Z"
   },
   {
    "duration": 3,
    "start_time": "2022-10-03T17:48:06.752Z"
   },
   {
    "duration": 7,
    "start_time": "2022-10-03T17:48:06.756Z"
   },
   {
    "duration": 16,
    "start_time": "2022-10-03T17:48:06.764Z"
   },
   {
    "duration": 37,
    "start_time": "2022-10-03T17:48:06.782Z"
   },
   {
    "duration": 32,
    "start_time": "2022-10-03T17:48:06.820Z"
   },
   {
    "duration": 48,
    "start_time": "2022-10-03T17:48:06.853Z"
   },
   {
    "duration": 2,
    "start_time": "2022-10-03T17:48:06.903Z"
   },
   {
    "duration": 21,
    "start_time": "2022-10-03T17:48:06.907Z"
   },
   {
    "duration": 13,
    "start_time": "2022-10-03T17:48:06.929Z"
   },
   {
    "duration": 13,
    "start_time": "2022-10-03T17:48:06.943Z"
   },
   {
    "duration": 13,
    "start_time": "2022-10-03T17:48:06.958Z"
   },
   {
    "duration": 37,
    "start_time": "2022-10-03T17:48:06.973Z"
   },
   {
    "duration": 11,
    "start_time": "2022-10-03T17:48:07.014Z"
   },
   {
    "duration": 12,
    "start_time": "2022-10-03T17:48:07.027Z"
   },
   {
    "duration": 15,
    "start_time": "2022-10-03T17:48:07.040Z"
   },
   {
    "duration": 21,
    "start_time": "2022-10-03T17:48:07.056Z"
   },
   {
    "duration": 31,
    "start_time": "2022-10-03T17:48:07.078Z"
   },
   {
    "duration": 4,
    "start_time": "2022-10-03T17:48:07.110Z"
   },
   {
    "duration": 19,
    "start_time": "2022-10-03T17:48:07.116Z"
   },
   {
    "duration": 10,
    "start_time": "2022-10-03T17:48:07.138Z"
   },
   {
    "duration": 26,
    "start_time": "2022-10-03T17:48:07.150Z"
   },
   {
    "duration": 30,
    "start_time": "2022-10-03T17:48:07.178Z"
   },
   {
    "duration": 15,
    "start_time": "2022-10-03T17:48:07.210Z"
   },
   {
    "duration": 15,
    "start_time": "2022-10-03T17:48:07.226Z"
   },
   {
    "duration": 7,
    "start_time": "2022-10-03T17:48:07.242Z"
   },
   {
    "duration": 6,
    "start_time": "2022-10-03T17:48:07.250Z"
   },
   {
    "duration": 9,
    "start_time": "2022-10-03T17:48:07.257Z"
   },
   {
    "duration": 10,
    "start_time": "2022-10-03T17:48:07.267Z"
   }
  ],
  "colab": {
   "collapsed_sections": [
    "E0vqbgi9ay0H",
    "VUC88oWjTJw2"
   ],
   "name": "yandex_music_project.ipynb",
   "provenance": []
  },
  "kernelspec": {
   "display_name": "Python 3 (ipykernel)",
   "language": "python",
   "name": "python3"
  },
  "language_info": {
   "codemirror_mode": {
    "name": "ipython",
    "version": 3
   },
   "file_extension": ".py",
   "mimetype": "text/x-python",
   "name": "python",
   "nbconvert_exporter": "python",
   "pygments_lexer": "ipython3",
   "version": "3.9.5"
  },
  "toc": {
   "base_numbering": 1,
   "nav_menu": {},
   "number_sections": true,
   "sideBar": false,
   "skip_h1_title": true,
   "title_cell": "Table of Contents",
   "title_sidebar": "Contents",
   "toc_cell": false,
   "toc_position": {
    "height": "698px",
    "left": "90px",
    "top": "400.125px",
    "width": "238px"
   },
   "toc_section_display": true,
   "toc_window_display": false
  }
 },
 "nbformat": 4,
 "nbformat_minor": 1
}
