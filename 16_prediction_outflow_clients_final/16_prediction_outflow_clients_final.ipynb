{
 "cells": [
  {
   "cell_type": "markdown",
   "metadata": {},
   "source": [
    "# Прогноз оттока клиентов"
   ]
  },
  {
   "cell_type": "markdown",
   "metadata": {},
   "source": [
    "Отток клиентов\n",
    "Это когда существующий клиент, пользователь, подписчик или любой другой клиент перестает вести бизнес или прекращает отношения с компанией.\n",
    "\n",
    "Типы оттока клиентов:\n",
    "\n",
    "    Контрактный отток - клиент находится под контрактом на услугу и решает отменить услугу, например, кабельное телевидение.\n",
    "    \n",
    "    Добровольный отток - когда пользователь добровольно отменяет услугу, например, сотовую связь.\n",
    "    \n",
    "    Неконтрактный отток - когда клиент не имеет контракта на услугу и решает отменить услугу, например, лояльность потребителей в розничных магазинах.\n",
    "    \n",
    "    Непроизвольный отток - когда отток происходит без какого-либо запроса клиента, например, истечение срока действия кредитной карты."
   ]
  },
  {
   "cell_type": "markdown",
   "metadata": {},
   "source": [
    "Причины добровольного оттока\n",
    "\n",
    "- Отсутствие использования\n",
    "- Плохое обслуживание\n",
    "- Лучшая цена"
   ]
  },
  {
   "cell_type": "markdown",
   "metadata": {},
   "source": [
    "Оператор связи «Ниединогоразрыва.ком» хочет научиться прогнозировать отток клиентов. Если выяснится, что пользователь планирует уйти, ему будут предложены промокоды и специальные условия. Команда оператора собрала персональные данные о некоторых клиентах, информацию об их тарифах и договорах."
   ]
  },
  {
   "cell_type": "markdown",
   "metadata": {},
   "source": [
    "**Оператор предоставляет два основных типа услуг:**\n",
    "\n",
    "1. Стационарную телефонную связь. Возможно подключение телефонного аппарата к нескольким линиям одновременно.\n",
    "2. Интернет. Подключение может быть двух типов: через телефонную линию (DSL*,* от англ. *digital subscriber line*, «цифровая абонентская линия») или оптоволоконный кабель (*Fiber optic*).\n",
    "\n",
    "Также доступны такие услуги:\n",
    "\n",
    "- Интернет-безопасность: антивирус (*DeviceProtection*) и блокировка небезопасных сайтов (*OnlineSecurity*);\n",
    "- Выделенная линия технической поддержки (*TechSupport*);\n",
    "- Облачное хранилище файлов для резервного копирования данных (*OnlineBackup*);\n",
    "- Стриминговое телевидение (*StreamingTV*) и каталог фильмов (*StreamingMovies*)."
   ]
  },
  {
   "cell_type": "markdown",
   "metadata": {},
   "source": [
    "**Описание данных**\n",
    "\n",
    "Данные состоят из файлов, полученных из разных источников:\n",
    "\n",
    "- `contract.csv` — информация о договоре;\n",
    "- `personal.csv` — персональные данные клиента;\n",
    "- `internet.csv` — информация об интернет-услугах;\n",
    "- `phone.csv` — информация об услугах телефонии.\n",
    "\n",
    "Во всех файлах столбец `customerID` содержит код клиента.\n",
    "\n",
    "Информация о договорах актуальна на 1 февраля 2020."
   ]
  },
  {
   "cell_type": "markdown",
   "metadata": {},
   "source": [
    "# План"
   ]
  },
  {
   "cell_type": "markdown",
   "metadata": {},
   "source": [
    "**1. Знакомство с данными**\n",
    "\n",
    "    1.1 Импорт библиотек\n",
    "    \n",
    "    1.2 Загрузка данных\n",
    "    \n",
    "    1.3 Исследовательский анализ данных (размер, признаки, строки, типы данных, пропуски, аномалии, дубликаты, кореляция, распределение)\n",
    "    \n",
    " **2. Предобработка данных**\n",
    "    \n",
    "    2.1 Преобразование типов данных \n",
    "    \n",
    "    2.2 Разбиение на выборки\n",
    "    \n",
    "    2.3 Нормализация значений\n",
    "    \n",
    " **3. Обучение моделей**\n",
    " \n",
    " \n",
    " **4. Вывод**"
   ]
  },
  {
   "cell_type": "markdown",
   "metadata": {},
   "source": [
    "**************"
   ]
  },
  {
   "cell_type": "markdown",
   "metadata": {},
   "source": [
    "## Знакомство с данными"
   ]
  },
  {
   "cell_type": "markdown",
   "metadata": {},
   "source": [
    "### Импорт библиотек"
   ]
  },
  {
   "cell_type": "code",
   "execution_count": 1,
   "metadata": {},
   "outputs": [],
   "source": [
    "import pandas as pd\n",
    "import numpy as np\n",
    "from datetime import datetime, timedelta\n",
    "\n",
    "import matplotlib.pyplot as plt\n",
    "import seaborn as sns\n",
    "\n",
    "from sklearn.preprocessing import OrdinalEncoder, StandardScaler\n",
    "from sklearn.model_selection import train_test_split\n",
    "\n",
    "from sklearn.model_selection import RandomizedSearchCV, cross_val_score\n",
    "\n",
    "from catboost import CatBoostClassifier\n",
    "from sklearn.tree import DecisionTreeClassifier\n",
    "from sklearn.ensemble import RandomForestClassifier\n",
    "from sklearn.linear_model import LogisticRegression\n",
    "\n",
    "from catboost.utils import eval_metric\n",
    "from sklearn.ensemble import GradientBoostingClassifier\n",
    "from sklearn.model_selection import cross_val_score\n",
    "from sklearn.metrics import accuracy_score, recall_score, precision_score, f1_score\n",
    "from sklearn.metrics import roc_auc_score, roc_curve, confusion_matrix\n",
    "\n",
    "import warnings\n",
    "warnings.filterwarnings(\"ignore\")\n",
    "\n",
    "pd.options.mode.chained_assignment = None\n",
    "warnings.simplefilter(action='ignore', category=FutureWarning)"
   ]
  },
  {
   "cell_type": "markdown",
   "metadata": {},
   "source": [
    "**************"
   ]
  },
  {
   "cell_type": "markdown",
   "metadata": {},
   "source": [
    "### Загрузка данных"
   ]
  },
  {
   "cell_type": "code",
   "execution_count": 2,
   "metadata": {},
   "outputs": [],
   "source": [
    "df_contract = pd.read_csv('/datasets/final_provider/contract.csv')"
   ]
  },
  {
   "cell_type": "code",
   "execution_count": 3,
   "metadata": {},
   "outputs": [
    {
     "data": {
      "text/html": [
       "<div>\n",
       "<style scoped>\n",
       "    .dataframe tbody tr th:only-of-type {\n",
       "        vertical-align: middle;\n",
       "    }\n",
       "\n",
       "    .dataframe tbody tr th {\n",
       "        vertical-align: top;\n",
       "    }\n",
       "\n",
       "    .dataframe thead th {\n",
       "        text-align: right;\n",
       "    }\n",
       "</style>\n",
       "<table border=\"1\" class=\"dataframe\">\n",
       "  <thead>\n",
       "    <tr style=\"text-align: right;\">\n",
       "      <th></th>\n",
       "      <th>customerID</th>\n",
       "      <th>BeginDate</th>\n",
       "      <th>EndDate</th>\n",
       "      <th>Type</th>\n",
       "      <th>PaperlessBilling</th>\n",
       "      <th>PaymentMethod</th>\n",
       "      <th>MonthlyCharges</th>\n",
       "      <th>TotalCharges</th>\n",
       "    </tr>\n",
       "  </thead>\n",
       "  <tbody>\n",
       "    <tr>\n",
       "      <th>0</th>\n",
       "      <td>7590-VHVEG</td>\n",
       "      <td>2020-01-01</td>\n",
       "      <td>No</td>\n",
       "      <td>Month-to-month</td>\n",
       "      <td>Yes</td>\n",
       "      <td>Electronic check</td>\n",
       "      <td>29.85</td>\n",
       "      <td>29.85</td>\n",
       "    </tr>\n",
       "    <tr>\n",
       "      <th>1</th>\n",
       "      <td>5575-GNVDE</td>\n",
       "      <td>2017-04-01</td>\n",
       "      <td>No</td>\n",
       "      <td>One year</td>\n",
       "      <td>No</td>\n",
       "      <td>Mailed check</td>\n",
       "      <td>56.95</td>\n",
       "      <td>1889.5</td>\n",
       "    </tr>\n",
       "    <tr>\n",
       "      <th>2</th>\n",
       "      <td>3668-QPYBK</td>\n",
       "      <td>2019-10-01</td>\n",
       "      <td>2019-12-01 00:00:00</td>\n",
       "      <td>Month-to-month</td>\n",
       "      <td>Yes</td>\n",
       "      <td>Mailed check</td>\n",
       "      <td>53.85</td>\n",
       "      <td>108.15</td>\n",
       "    </tr>\n",
       "    <tr>\n",
       "      <th>3</th>\n",
       "      <td>7795-CFOCW</td>\n",
       "      <td>2016-05-01</td>\n",
       "      <td>No</td>\n",
       "      <td>One year</td>\n",
       "      <td>No</td>\n",
       "      <td>Bank transfer (automatic)</td>\n",
       "      <td>42.30</td>\n",
       "      <td>1840.75</td>\n",
       "    </tr>\n",
       "    <tr>\n",
       "      <th>4</th>\n",
       "      <td>9237-HQITU</td>\n",
       "      <td>2019-09-01</td>\n",
       "      <td>2019-11-01 00:00:00</td>\n",
       "      <td>Month-to-month</td>\n",
       "      <td>Yes</td>\n",
       "      <td>Electronic check</td>\n",
       "      <td>70.70</td>\n",
       "      <td>151.65</td>\n",
       "    </tr>\n",
       "  </tbody>\n",
       "</table>\n",
       "</div>"
      ],
      "text/plain": [
       "   customerID   BeginDate              EndDate            Type  \\\n",
       "0  7590-VHVEG  2020-01-01                   No  Month-to-month   \n",
       "1  5575-GNVDE  2017-04-01                   No        One year   \n",
       "2  3668-QPYBK  2019-10-01  2019-12-01 00:00:00  Month-to-month   \n",
       "3  7795-CFOCW  2016-05-01                   No        One year   \n",
       "4  9237-HQITU  2019-09-01  2019-11-01 00:00:00  Month-to-month   \n",
       "\n",
       "  PaperlessBilling              PaymentMethod  MonthlyCharges TotalCharges  \n",
       "0              Yes           Electronic check           29.85        29.85  \n",
       "1               No               Mailed check           56.95       1889.5  \n",
       "2              Yes               Mailed check           53.85       108.15  \n",
       "3               No  Bank transfer (automatic)           42.30      1840.75  \n",
       "4              Yes           Electronic check           70.70       151.65  "
      ]
     },
     "execution_count": 3,
     "metadata": {},
     "output_type": "execute_result"
    }
   ],
   "source": [
    "df_contract.head()"
   ]
  },
  {
   "cell_type": "code",
   "execution_count": 4,
   "metadata": {},
   "outputs": [],
   "source": [
    "df_personal = pd.read_csv('/datasets/final_provider/personal.csv')"
   ]
  },
  {
   "cell_type": "code",
   "execution_count": 5,
   "metadata": {},
   "outputs": [
    {
     "data": {
      "text/html": [
       "<div>\n",
       "<style scoped>\n",
       "    .dataframe tbody tr th:only-of-type {\n",
       "        vertical-align: middle;\n",
       "    }\n",
       "\n",
       "    .dataframe tbody tr th {\n",
       "        vertical-align: top;\n",
       "    }\n",
       "\n",
       "    .dataframe thead th {\n",
       "        text-align: right;\n",
       "    }\n",
       "</style>\n",
       "<table border=\"1\" class=\"dataframe\">\n",
       "  <thead>\n",
       "    <tr style=\"text-align: right;\">\n",
       "      <th></th>\n",
       "      <th>customerID</th>\n",
       "      <th>gender</th>\n",
       "      <th>SeniorCitizen</th>\n",
       "      <th>Partner</th>\n",
       "      <th>Dependents</th>\n",
       "    </tr>\n",
       "  </thead>\n",
       "  <tbody>\n",
       "    <tr>\n",
       "      <th>0</th>\n",
       "      <td>7590-VHVEG</td>\n",
       "      <td>Female</td>\n",
       "      <td>0</td>\n",
       "      <td>Yes</td>\n",
       "      <td>No</td>\n",
       "    </tr>\n",
       "    <tr>\n",
       "      <th>1</th>\n",
       "      <td>5575-GNVDE</td>\n",
       "      <td>Male</td>\n",
       "      <td>0</td>\n",
       "      <td>No</td>\n",
       "      <td>No</td>\n",
       "    </tr>\n",
       "    <tr>\n",
       "      <th>2</th>\n",
       "      <td>3668-QPYBK</td>\n",
       "      <td>Male</td>\n",
       "      <td>0</td>\n",
       "      <td>No</td>\n",
       "      <td>No</td>\n",
       "    </tr>\n",
       "    <tr>\n",
       "      <th>3</th>\n",
       "      <td>7795-CFOCW</td>\n",
       "      <td>Male</td>\n",
       "      <td>0</td>\n",
       "      <td>No</td>\n",
       "      <td>No</td>\n",
       "    </tr>\n",
       "    <tr>\n",
       "      <th>4</th>\n",
       "      <td>9237-HQITU</td>\n",
       "      <td>Female</td>\n",
       "      <td>0</td>\n",
       "      <td>No</td>\n",
       "      <td>No</td>\n",
       "    </tr>\n",
       "  </tbody>\n",
       "</table>\n",
       "</div>"
      ],
      "text/plain": [
       "   customerID  gender  SeniorCitizen Partner Dependents\n",
       "0  7590-VHVEG  Female              0     Yes         No\n",
       "1  5575-GNVDE    Male              0      No         No\n",
       "2  3668-QPYBK    Male              0      No         No\n",
       "3  7795-CFOCW    Male              0      No         No\n",
       "4  9237-HQITU  Female              0      No         No"
      ]
     },
     "execution_count": 5,
     "metadata": {},
     "output_type": "execute_result"
    }
   ],
   "source": [
    "df_personal.head()"
   ]
  },
  {
   "cell_type": "code",
   "execution_count": 6,
   "metadata": {},
   "outputs": [],
   "source": [
    "df_internet = pd.read_csv('/datasets/final_provider/internet.csv')"
   ]
  },
  {
   "cell_type": "code",
   "execution_count": 7,
   "metadata": {},
   "outputs": [
    {
     "data": {
      "text/html": [
       "<div>\n",
       "<style scoped>\n",
       "    .dataframe tbody tr th:only-of-type {\n",
       "        vertical-align: middle;\n",
       "    }\n",
       "\n",
       "    .dataframe tbody tr th {\n",
       "        vertical-align: top;\n",
       "    }\n",
       "\n",
       "    .dataframe thead th {\n",
       "        text-align: right;\n",
       "    }\n",
       "</style>\n",
       "<table border=\"1\" class=\"dataframe\">\n",
       "  <thead>\n",
       "    <tr style=\"text-align: right;\">\n",
       "      <th></th>\n",
       "      <th>customerID</th>\n",
       "      <th>InternetService</th>\n",
       "      <th>OnlineSecurity</th>\n",
       "      <th>OnlineBackup</th>\n",
       "      <th>DeviceProtection</th>\n",
       "      <th>TechSupport</th>\n",
       "      <th>StreamingTV</th>\n",
       "      <th>StreamingMovies</th>\n",
       "    </tr>\n",
       "  </thead>\n",
       "  <tbody>\n",
       "    <tr>\n",
       "      <th>0</th>\n",
       "      <td>7590-VHVEG</td>\n",
       "      <td>DSL</td>\n",
       "      <td>No</td>\n",
       "      <td>Yes</td>\n",
       "      <td>No</td>\n",
       "      <td>No</td>\n",
       "      <td>No</td>\n",
       "      <td>No</td>\n",
       "    </tr>\n",
       "    <tr>\n",
       "      <th>1</th>\n",
       "      <td>5575-GNVDE</td>\n",
       "      <td>DSL</td>\n",
       "      <td>Yes</td>\n",
       "      <td>No</td>\n",
       "      <td>Yes</td>\n",
       "      <td>No</td>\n",
       "      <td>No</td>\n",
       "      <td>No</td>\n",
       "    </tr>\n",
       "    <tr>\n",
       "      <th>2</th>\n",
       "      <td>3668-QPYBK</td>\n",
       "      <td>DSL</td>\n",
       "      <td>Yes</td>\n",
       "      <td>Yes</td>\n",
       "      <td>No</td>\n",
       "      <td>No</td>\n",
       "      <td>No</td>\n",
       "      <td>No</td>\n",
       "    </tr>\n",
       "    <tr>\n",
       "      <th>3</th>\n",
       "      <td>7795-CFOCW</td>\n",
       "      <td>DSL</td>\n",
       "      <td>Yes</td>\n",
       "      <td>No</td>\n",
       "      <td>Yes</td>\n",
       "      <td>Yes</td>\n",
       "      <td>No</td>\n",
       "      <td>No</td>\n",
       "    </tr>\n",
       "    <tr>\n",
       "      <th>4</th>\n",
       "      <td>9237-HQITU</td>\n",
       "      <td>Fiber optic</td>\n",
       "      <td>No</td>\n",
       "      <td>No</td>\n",
       "      <td>No</td>\n",
       "      <td>No</td>\n",
       "      <td>No</td>\n",
       "      <td>No</td>\n",
       "    </tr>\n",
       "  </tbody>\n",
       "</table>\n",
       "</div>"
      ],
      "text/plain": [
       "   customerID InternetService OnlineSecurity OnlineBackup DeviceProtection  \\\n",
       "0  7590-VHVEG             DSL             No          Yes               No   \n",
       "1  5575-GNVDE             DSL            Yes           No              Yes   \n",
       "2  3668-QPYBK             DSL            Yes          Yes               No   \n",
       "3  7795-CFOCW             DSL            Yes           No              Yes   \n",
       "4  9237-HQITU     Fiber optic             No           No               No   \n",
       "\n",
       "  TechSupport StreamingTV StreamingMovies  \n",
       "0          No          No              No  \n",
       "1          No          No              No  \n",
       "2          No          No              No  \n",
       "3         Yes          No              No  \n",
       "4          No          No              No  "
      ]
     },
     "execution_count": 7,
     "metadata": {},
     "output_type": "execute_result"
    }
   ],
   "source": [
    "df_internet.head()"
   ]
  },
  {
   "cell_type": "code",
   "execution_count": 8,
   "metadata": {},
   "outputs": [],
   "source": [
    "df_phone = pd.read_csv('/datasets/final_provider/phone.csv')"
   ]
  },
  {
   "cell_type": "code",
   "execution_count": 9,
   "metadata": {},
   "outputs": [
    {
     "data": {
      "text/html": [
       "<div>\n",
       "<style scoped>\n",
       "    .dataframe tbody tr th:only-of-type {\n",
       "        vertical-align: middle;\n",
       "    }\n",
       "\n",
       "    .dataframe tbody tr th {\n",
       "        vertical-align: top;\n",
       "    }\n",
       "\n",
       "    .dataframe thead th {\n",
       "        text-align: right;\n",
       "    }\n",
       "</style>\n",
       "<table border=\"1\" class=\"dataframe\">\n",
       "  <thead>\n",
       "    <tr style=\"text-align: right;\">\n",
       "      <th></th>\n",
       "      <th>customerID</th>\n",
       "      <th>MultipleLines</th>\n",
       "    </tr>\n",
       "  </thead>\n",
       "  <tbody>\n",
       "    <tr>\n",
       "      <th>0</th>\n",
       "      <td>5575-GNVDE</td>\n",
       "      <td>No</td>\n",
       "    </tr>\n",
       "    <tr>\n",
       "      <th>1</th>\n",
       "      <td>3668-QPYBK</td>\n",
       "      <td>No</td>\n",
       "    </tr>\n",
       "    <tr>\n",
       "      <th>2</th>\n",
       "      <td>9237-HQITU</td>\n",
       "      <td>No</td>\n",
       "    </tr>\n",
       "    <tr>\n",
       "      <th>3</th>\n",
       "      <td>9305-CDSKC</td>\n",
       "      <td>Yes</td>\n",
       "    </tr>\n",
       "    <tr>\n",
       "      <th>4</th>\n",
       "      <td>1452-KIOVK</td>\n",
       "      <td>Yes</td>\n",
       "    </tr>\n",
       "  </tbody>\n",
       "</table>\n",
       "</div>"
      ],
      "text/plain": [
       "   customerID MultipleLines\n",
       "0  5575-GNVDE            No\n",
       "1  3668-QPYBK            No\n",
       "2  9237-HQITU            No\n",
       "3  9305-CDSKC           Yes\n",
       "4  1452-KIOVK           Yes"
      ]
     },
     "execution_count": 9,
     "metadata": {},
     "output_type": "execute_result"
    }
   ],
   "source": [
    "df_phone.head()"
   ]
  },
  {
   "cell_type": "markdown",
   "metadata": {},
   "source": [
    "Загружены 4 дата сета \n",
    "- `contract.csv` — информация о договоре;\n",
    "- `personal.csv` — персональные данные клиента;\n",
    "- `internet.csv` — информация об интернет-услугах;\n",
    "- `phone.csv` — информация об услугах телефонии.\n",
    "\n",
    "Для анализа данных объеденим 4 датасета в один по 'customerID' сохраняя все столбцы"
   ]
  },
  {
   "cell_type": "code",
   "execution_count": 10,
   "metadata": {},
   "outputs": [],
   "source": [
    "df = df_contract.merge(df_personal, 'outer', on = 'customerID').merge(df_internet, 'outer', on = 'customerID').merge(df_phone, 'outer', on = 'customerID')"
   ]
  },
  {
   "cell_type": "code",
   "execution_count": 11,
   "metadata": {},
   "outputs": [
    {
     "data": {
      "text/html": [
       "<div>\n",
       "<style scoped>\n",
       "    .dataframe tbody tr th:only-of-type {\n",
       "        vertical-align: middle;\n",
       "    }\n",
       "\n",
       "    .dataframe tbody tr th {\n",
       "        vertical-align: top;\n",
       "    }\n",
       "\n",
       "    .dataframe thead th {\n",
       "        text-align: right;\n",
       "    }\n",
       "</style>\n",
       "<table border=\"1\" class=\"dataframe\">\n",
       "  <thead>\n",
       "    <tr style=\"text-align: right;\">\n",
       "      <th></th>\n",
       "      <th>customerID</th>\n",
       "      <th>BeginDate</th>\n",
       "      <th>EndDate</th>\n",
       "      <th>Type</th>\n",
       "      <th>PaperlessBilling</th>\n",
       "      <th>PaymentMethod</th>\n",
       "      <th>MonthlyCharges</th>\n",
       "      <th>TotalCharges</th>\n",
       "      <th>gender</th>\n",
       "      <th>SeniorCitizen</th>\n",
       "      <th>Partner</th>\n",
       "      <th>Dependents</th>\n",
       "      <th>InternetService</th>\n",
       "      <th>OnlineSecurity</th>\n",
       "      <th>OnlineBackup</th>\n",
       "      <th>DeviceProtection</th>\n",
       "      <th>TechSupport</th>\n",
       "      <th>StreamingTV</th>\n",
       "      <th>StreamingMovies</th>\n",
       "      <th>MultipleLines</th>\n",
       "    </tr>\n",
       "  </thead>\n",
       "  <tbody>\n",
       "    <tr>\n",
       "      <th>0</th>\n",
       "      <td>7590-VHVEG</td>\n",
       "      <td>2020-01-01</td>\n",
       "      <td>No</td>\n",
       "      <td>Month-to-month</td>\n",
       "      <td>Yes</td>\n",
       "      <td>Electronic check</td>\n",
       "      <td>29.85</td>\n",
       "      <td>29.85</td>\n",
       "      <td>Female</td>\n",
       "      <td>0</td>\n",
       "      <td>Yes</td>\n",
       "      <td>No</td>\n",
       "      <td>DSL</td>\n",
       "      <td>No</td>\n",
       "      <td>Yes</td>\n",
       "      <td>No</td>\n",
       "      <td>No</td>\n",
       "      <td>No</td>\n",
       "      <td>No</td>\n",
       "      <td>NaN</td>\n",
       "    </tr>\n",
       "    <tr>\n",
       "      <th>1</th>\n",
       "      <td>5575-GNVDE</td>\n",
       "      <td>2017-04-01</td>\n",
       "      <td>No</td>\n",
       "      <td>One year</td>\n",
       "      <td>No</td>\n",
       "      <td>Mailed check</td>\n",
       "      <td>56.95</td>\n",
       "      <td>1889.5</td>\n",
       "      <td>Male</td>\n",
       "      <td>0</td>\n",
       "      <td>No</td>\n",
       "      <td>No</td>\n",
       "      <td>DSL</td>\n",
       "      <td>Yes</td>\n",
       "      <td>No</td>\n",
       "      <td>Yes</td>\n",
       "      <td>No</td>\n",
       "      <td>No</td>\n",
       "      <td>No</td>\n",
       "      <td>No</td>\n",
       "    </tr>\n",
       "    <tr>\n",
       "      <th>2</th>\n",
       "      <td>3668-QPYBK</td>\n",
       "      <td>2019-10-01</td>\n",
       "      <td>2019-12-01 00:00:00</td>\n",
       "      <td>Month-to-month</td>\n",
       "      <td>Yes</td>\n",
       "      <td>Mailed check</td>\n",
       "      <td>53.85</td>\n",
       "      <td>108.15</td>\n",
       "      <td>Male</td>\n",
       "      <td>0</td>\n",
       "      <td>No</td>\n",
       "      <td>No</td>\n",
       "      <td>DSL</td>\n",
       "      <td>Yes</td>\n",
       "      <td>Yes</td>\n",
       "      <td>No</td>\n",
       "      <td>No</td>\n",
       "      <td>No</td>\n",
       "      <td>No</td>\n",
       "      <td>No</td>\n",
       "    </tr>\n",
       "    <tr>\n",
       "      <th>3</th>\n",
       "      <td>7795-CFOCW</td>\n",
       "      <td>2016-05-01</td>\n",
       "      <td>No</td>\n",
       "      <td>One year</td>\n",
       "      <td>No</td>\n",
       "      <td>Bank transfer (automatic)</td>\n",
       "      <td>42.30</td>\n",
       "      <td>1840.75</td>\n",
       "      <td>Male</td>\n",
       "      <td>0</td>\n",
       "      <td>No</td>\n",
       "      <td>No</td>\n",
       "      <td>DSL</td>\n",
       "      <td>Yes</td>\n",
       "      <td>No</td>\n",
       "      <td>Yes</td>\n",
       "      <td>Yes</td>\n",
       "      <td>No</td>\n",
       "      <td>No</td>\n",
       "      <td>NaN</td>\n",
       "    </tr>\n",
       "    <tr>\n",
       "      <th>4</th>\n",
       "      <td>9237-HQITU</td>\n",
       "      <td>2019-09-01</td>\n",
       "      <td>2019-11-01 00:00:00</td>\n",
       "      <td>Month-to-month</td>\n",
       "      <td>Yes</td>\n",
       "      <td>Electronic check</td>\n",
       "      <td>70.70</td>\n",
       "      <td>151.65</td>\n",
       "      <td>Female</td>\n",
       "      <td>0</td>\n",
       "      <td>No</td>\n",
       "      <td>No</td>\n",
       "      <td>Fiber optic</td>\n",
       "      <td>No</td>\n",
       "      <td>No</td>\n",
       "      <td>No</td>\n",
       "      <td>No</td>\n",
       "      <td>No</td>\n",
       "      <td>No</td>\n",
       "      <td>No</td>\n",
       "    </tr>\n",
       "  </tbody>\n",
       "</table>\n",
       "</div>"
      ],
      "text/plain": [
       "   customerID   BeginDate              EndDate            Type  \\\n",
       "0  7590-VHVEG  2020-01-01                   No  Month-to-month   \n",
       "1  5575-GNVDE  2017-04-01                   No        One year   \n",
       "2  3668-QPYBK  2019-10-01  2019-12-01 00:00:00  Month-to-month   \n",
       "3  7795-CFOCW  2016-05-01                   No        One year   \n",
       "4  9237-HQITU  2019-09-01  2019-11-01 00:00:00  Month-to-month   \n",
       "\n",
       "  PaperlessBilling              PaymentMethod  MonthlyCharges TotalCharges  \\\n",
       "0              Yes           Electronic check           29.85        29.85   \n",
       "1               No               Mailed check           56.95       1889.5   \n",
       "2              Yes               Mailed check           53.85       108.15   \n",
       "3               No  Bank transfer (automatic)           42.30      1840.75   \n",
       "4              Yes           Electronic check           70.70       151.65   \n",
       "\n",
       "   gender  SeniorCitizen Partner Dependents InternetService OnlineSecurity  \\\n",
       "0  Female              0     Yes         No             DSL             No   \n",
       "1    Male              0      No         No             DSL            Yes   \n",
       "2    Male              0      No         No             DSL            Yes   \n",
       "3    Male              0      No         No             DSL            Yes   \n",
       "4  Female              0      No         No     Fiber optic             No   \n",
       "\n",
       "  OnlineBackup DeviceProtection TechSupport StreamingTV StreamingMovies  \\\n",
       "0          Yes               No          No          No              No   \n",
       "1           No              Yes          No          No              No   \n",
       "2          Yes               No          No          No              No   \n",
       "3           No              Yes         Yes          No              No   \n",
       "4           No               No          No          No              No   \n",
       "\n",
       "  MultipleLines  \n",
       "0           NaN  \n",
       "1            No  \n",
       "2            No  \n",
       "3           NaN  \n",
       "4            No  "
      ]
     },
     "execution_count": 11,
     "metadata": {},
     "output_type": "execute_result"
    }
   ],
   "source": [
    "df.head()"
   ]
  },
  {
   "cell_type": "markdown",
   "metadata": {},
   "source": [
    "**************"
   ]
  },
  {
   "cell_type": "markdown",
   "metadata": {},
   "source": [
    "### Исследовательский анализ данных"
   ]
  },
  {
   "cell_type": "markdown",
   "metadata": {},
   "source": [
    "#### Общая информация"
   ]
  },
  {
   "cell_type": "code",
   "execution_count": 12,
   "metadata": {},
   "outputs": [
    {
     "data": {
      "text/plain": [
       "(7043, 20)"
      ]
     },
     "execution_count": 12,
     "metadata": {},
     "output_type": "execute_result"
    }
   ],
   "source": [
    "df.shape"
   ]
  },
  {
   "cell_type": "markdown",
   "metadata": {},
   "source": [
    "Датасет состоит из 20 столбцов и 7043 строк\n",
    "\n",
    "Названия столбцов состоят из строчных и прописных букв. Т.к. к ним обращаться будем часто, для единообразия всех данных  приведем все буквы к строчным и добавим нижнее подчеркивание для разделения слов."
   ]
  },
  {
   "cell_type": "code",
   "execution_count": 13,
   "metadata": {},
   "outputs": [],
   "source": [
    "df.columns = df.columns.str.lower()"
   ]
  },
  {
   "cell_type": "code",
   "execution_count": 14,
   "metadata": {},
   "outputs": [],
   "source": [
    "df.columns = ['customer_id', 'begin_date', 'end_date', 'type', 'paper_less_billing',\n",
    "       'payment_method', 'monthly_charges', 'total_charges', 'gender',\n",
    "       'senior_citizen', 'partner', 'dependents', 'internet_service',\n",
    "       'online_security', 'online_backup', 'device_protection', 'tech_support',\n",
    "       'streaming_tv', 'streaming_movies', 'multiple_lines']"
   ]
  },
  {
   "cell_type": "markdown",
   "metadata": {},
   "source": [
    "**Отображено 5 первых строк датасета.**\n",
    "\n",
    "Столбцы датасета df:\n",
    "\n",
    "'customer_id' - ID клиента\n",
    "\n",
    "'begin_date' - дата начала обслуживания\n",
    "\n",
    "'end_date' - дата окончания обслуживания\n",
    "\n",
    "'payment_type' - типы платежей - ежемесячно, раз в год\n",
    "\n",
    "'paper_less_billing' - безналичный расчет\n",
    "\n",
    "'payment_method' - способ оплаты\n",
    "\n",
    "'monthly_charges' - размер ежемесяных платежей\n",
    "\n",
    "'total_charges' - общая сумма платежей\n",
    "\n",
    "'gender' - пол\n",
    "       \n",
    "'senior_citizen' - пенсионер\n",
    "\n",
    "'partner' - наличие супруга(и)\n",
    "\n",
    "'dependents' - наличие иждивенцев\n",
    "\n",
    "'internet_service' - интернет-сервис\n",
    "\n",
    "'online_security' - безопасность в Интернете\n",
    "\n",
    "'online_backup' - резервное копирование\n",
    "\n",
    "'device_protection' - защита устройства\n",
    "\n",
    "'tech_support' - техническая поддержка\n",
    "\n",
    "'streaming_tv' - потоковое телевидение\n",
    "\n",
    "'streaming_movies' - потоковое воспроизведение фильмов\n",
    "\n",
    "'multiple_lines' - наличие возможности ведения параллельных линий во время звонка"
   ]
  },
  {
   "cell_type": "code",
   "execution_count": 15,
   "metadata": {},
   "outputs": [
    {
     "name": "stdout",
     "output_type": "stream",
     "text": [
      "<class 'pandas.core.frame.DataFrame'>\n",
      "Int64Index: 7043 entries, 0 to 7042\n",
      "Data columns (total 20 columns):\n",
      " #   Column              Non-Null Count  Dtype  \n",
      "---  ------              --------------  -----  \n",
      " 0   customer_id         7043 non-null   object \n",
      " 1   begin_date          7043 non-null   object \n",
      " 2   end_date            7043 non-null   object \n",
      " 3   type                7043 non-null   object \n",
      " 4   paper_less_billing  7043 non-null   object \n",
      " 5   payment_method      7043 non-null   object \n",
      " 6   monthly_charges     7043 non-null   float64\n",
      " 7   total_charges       7043 non-null   object \n",
      " 8   gender              7043 non-null   object \n",
      " 9   senior_citizen      7043 non-null   int64  \n",
      " 10  partner             7043 non-null   object \n",
      " 11  dependents          7043 non-null   object \n",
      " 12  internet_service    5517 non-null   object \n",
      " 13  online_security     5517 non-null   object \n",
      " 14  online_backup       5517 non-null   object \n",
      " 15  device_protection   5517 non-null   object \n",
      " 16  tech_support        5517 non-null   object \n",
      " 17  streaming_tv        5517 non-null   object \n",
      " 18  streaming_movies    5517 non-null   object \n",
      " 19  multiple_lines      6361 non-null   object \n",
      "dtypes: float64(1), int64(1), object(18)\n",
      "memory usage: 1.1+ MB\n"
     ]
    }
   ],
   "source": [
    "df.info()"
   ]
  },
  {
   "cell_type": "markdown",
   "metadata": {},
   "source": [
    "В датасете 7043 объект с 0 до 7042 и 20 столбцов. Тип  данных float64, int64, object. "
   ]
  },
  {
   "cell_type": "markdown",
   "metadata": {},
   "source": [
    "**************"
   ]
  },
  {
   "cell_type": "markdown",
   "metadata": {},
   "source": [
    "#### Пропуски"
   ]
  },
  {
   "cell_type": "code",
   "execution_count": 16,
   "metadata": {},
   "outputs": [
    {
     "data": {
      "text/plain": [
       "customer_id              0\n",
       "begin_date               0\n",
       "end_date                 0\n",
       "type                     0\n",
       "paper_less_billing       0\n",
       "payment_method           0\n",
       "monthly_charges          0\n",
       "total_charges            0\n",
       "gender                   0\n",
       "senior_citizen           0\n",
       "partner                  0\n",
       "dependents               0\n",
       "internet_service      1526\n",
       "online_security       1526\n",
       "online_backup         1526\n",
       "device_protection     1526\n",
       "tech_support          1526\n",
       "streaming_tv          1526\n",
       "streaming_movies      1526\n",
       "multiple_lines         682\n",
       "dtype: int64"
      ]
     },
     "execution_count": 16,
     "metadata": {},
     "output_type": "execute_result"
    }
   ],
   "source": [
    "df.isna().sum()"
   ]
  },
  {
   "cell_type": "code",
   "execution_count": 17,
   "metadata": {},
   "outputs": [
    {
     "data": {
      "text/html": [
       "<div>\n",
       "<style scoped>\n",
       "    .dataframe tbody tr th:only-of-type {\n",
       "        vertical-align: middle;\n",
       "    }\n",
       "\n",
       "    .dataframe tbody tr th {\n",
       "        vertical-align: top;\n",
       "    }\n",
       "\n",
       "    .dataframe thead th {\n",
       "        text-align: right;\n",
       "    }\n",
       "</style>\n",
       "<table border=\"1\" class=\"dataframe\">\n",
       "  <thead>\n",
       "    <tr style=\"text-align: right;\">\n",
       "      <th></th>\n",
       "      <th>customer_id</th>\n",
       "      <th>begin_date</th>\n",
       "      <th>end_date</th>\n",
       "      <th>type</th>\n",
       "      <th>paper_less_billing</th>\n",
       "      <th>payment_method</th>\n",
       "      <th>monthly_charges</th>\n",
       "      <th>total_charges</th>\n",
       "      <th>gender</th>\n",
       "      <th>senior_citizen</th>\n",
       "      <th>partner</th>\n",
       "      <th>dependents</th>\n",
       "      <th>internet_service</th>\n",
       "      <th>online_security</th>\n",
       "      <th>online_backup</th>\n",
       "      <th>device_protection</th>\n",
       "      <th>tech_support</th>\n",
       "      <th>streaming_tv</th>\n",
       "      <th>streaming_movies</th>\n",
       "      <th>multiple_lines</th>\n",
       "    </tr>\n",
       "  </thead>\n",
       "  <tbody>\n",
       "    <tr>\n",
       "      <th>936</th>\n",
       "      <td>5709-LVOEQ</td>\n",
       "      <td>2020-02-01</td>\n",
       "      <td>No</td>\n",
       "      <td>Two year</td>\n",
       "      <td>No</td>\n",
       "      <td>Mailed check</td>\n",
       "      <td>80.85</td>\n",
       "      <td></td>\n",
       "      <td>Female</td>\n",
       "      <td>0</td>\n",
       "      <td>Yes</td>\n",
       "      <td>Yes</td>\n",
       "      <td>DSL</td>\n",
       "      <td>Yes</td>\n",
       "      <td>Yes</td>\n",
       "      <td>Yes</td>\n",
       "      <td>No</td>\n",
       "      <td>Yes</td>\n",
       "      <td>Yes</td>\n",
       "      <td>No</td>\n",
       "    </tr>\n",
       "    <tr>\n",
       "      <th>3826</th>\n",
       "      <td>3213-VVOLG</td>\n",
       "      <td>2020-02-01</td>\n",
       "      <td>No</td>\n",
       "      <td>Two year</td>\n",
       "      <td>No</td>\n",
       "      <td>Mailed check</td>\n",
       "      <td>25.35</td>\n",
       "      <td></td>\n",
       "      <td>Male</td>\n",
       "      <td>0</td>\n",
       "      <td>Yes</td>\n",
       "      <td>Yes</td>\n",
       "      <td>NaN</td>\n",
       "      <td>NaN</td>\n",
       "      <td>NaN</td>\n",
       "      <td>NaN</td>\n",
       "      <td>NaN</td>\n",
       "      <td>NaN</td>\n",
       "      <td>NaN</td>\n",
       "      <td>Yes</td>\n",
       "    </tr>\n",
       "    <tr>\n",
       "      <th>4380</th>\n",
       "      <td>2520-SGTTA</td>\n",
       "      <td>2020-02-01</td>\n",
       "      <td>No</td>\n",
       "      <td>Two year</td>\n",
       "      <td>No</td>\n",
       "      <td>Mailed check</td>\n",
       "      <td>20.00</td>\n",
       "      <td></td>\n",
       "      <td>Female</td>\n",
       "      <td>0</td>\n",
       "      <td>Yes</td>\n",
       "      <td>Yes</td>\n",
       "      <td>NaN</td>\n",
       "      <td>NaN</td>\n",
       "      <td>NaN</td>\n",
       "      <td>NaN</td>\n",
       "      <td>NaN</td>\n",
       "      <td>NaN</td>\n",
       "      <td>NaN</td>\n",
       "      <td>No</td>\n",
       "    </tr>\n",
       "    <tr>\n",
       "      <th>753</th>\n",
       "      <td>3115-CZMZD</td>\n",
       "      <td>2020-02-01</td>\n",
       "      <td>No</td>\n",
       "      <td>Two year</td>\n",
       "      <td>No</td>\n",
       "      <td>Mailed check</td>\n",
       "      <td>20.25</td>\n",
       "      <td></td>\n",
       "      <td>Male</td>\n",
       "      <td>0</td>\n",
       "      <td>No</td>\n",
       "      <td>Yes</td>\n",
       "      <td>NaN</td>\n",
       "      <td>NaN</td>\n",
       "      <td>NaN</td>\n",
       "      <td>NaN</td>\n",
       "      <td>NaN</td>\n",
       "      <td>NaN</td>\n",
       "      <td>NaN</td>\n",
       "      <td>No</td>\n",
       "    </tr>\n",
       "    <tr>\n",
       "      <th>5218</th>\n",
       "      <td>2923-ARZLG</td>\n",
       "      <td>2020-02-01</td>\n",
       "      <td>No</td>\n",
       "      <td>One year</td>\n",
       "      <td>Yes</td>\n",
       "      <td>Mailed check</td>\n",
       "      <td>19.70</td>\n",
       "      <td></td>\n",
       "      <td>Male</td>\n",
       "      <td>0</td>\n",
       "      <td>Yes</td>\n",
       "      <td>Yes</td>\n",
       "      <td>NaN</td>\n",
       "      <td>NaN</td>\n",
       "      <td>NaN</td>\n",
       "      <td>NaN</td>\n",
       "      <td>NaN</td>\n",
       "      <td>NaN</td>\n",
       "      <td>NaN</td>\n",
       "      <td>No</td>\n",
       "    </tr>\n",
       "    <tr>\n",
       "      <th>3331</th>\n",
       "      <td>7644-OMVMY</td>\n",
       "      <td>2020-02-01</td>\n",
       "      <td>No</td>\n",
       "      <td>Two year</td>\n",
       "      <td>No</td>\n",
       "      <td>Mailed check</td>\n",
       "      <td>19.85</td>\n",
       "      <td></td>\n",
       "      <td>Male</td>\n",
       "      <td>0</td>\n",
       "      <td>Yes</td>\n",
       "      <td>Yes</td>\n",
       "      <td>NaN</td>\n",
       "      <td>NaN</td>\n",
       "      <td>NaN</td>\n",
       "      <td>NaN</td>\n",
       "      <td>NaN</td>\n",
       "      <td>NaN</td>\n",
       "      <td>NaN</td>\n",
       "      <td>No</td>\n",
       "    </tr>\n",
       "    <tr>\n",
       "      <th>6754</th>\n",
       "      <td>2775-SEFEE</td>\n",
       "      <td>2020-02-01</td>\n",
       "      <td>No</td>\n",
       "      <td>Two year</td>\n",
       "      <td>Yes</td>\n",
       "      <td>Bank transfer (automatic)</td>\n",
       "      <td>61.90</td>\n",
       "      <td></td>\n",
       "      <td>Male</td>\n",
       "      <td>0</td>\n",
       "      <td>No</td>\n",
       "      <td>Yes</td>\n",
       "      <td>DSL</td>\n",
       "      <td>Yes</td>\n",
       "      <td>Yes</td>\n",
       "      <td>No</td>\n",
       "      <td>Yes</td>\n",
       "      <td>No</td>\n",
       "      <td>No</td>\n",
       "      <td>Yes</td>\n",
       "    </tr>\n",
       "    <tr>\n",
       "      <th>6670</th>\n",
       "      <td>4075-WKNIU</td>\n",
       "      <td>2020-02-01</td>\n",
       "      <td>No</td>\n",
       "      <td>Two year</td>\n",
       "      <td>No</td>\n",
       "      <td>Mailed check</td>\n",
       "      <td>73.35</td>\n",
       "      <td></td>\n",
       "      <td>Female</td>\n",
       "      <td>0</td>\n",
       "      <td>Yes</td>\n",
       "      <td>Yes</td>\n",
       "      <td>DSL</td>\n",
       "      <td>No</td>\n",
       "      <td>Yes</td>\n",
       "      <td>Yes</td>\n",
       "      <td>Yes</td>\n",
       "      <td>Yes</td>\n",
       "      <td>No</td>\n",
       "      <td>Yes</td>\n",
       "    </tr>\n",
       "    <tr>\n",
       "      <th>1340</th>\n",
       "      <td>1371-DWPAZ</td>\n",
       "      <td>2020-02-01</td>\n",
       "      <td>No</td>\n",
       "      <td>Two year</td>\n",
       "      <td>No</td>\n",
       "      <td>Credit card (automatic)</td>\n",
       "      <td>56.05</td>\n",
       "      <td></td>\n",
       "      <td>Female</td>\n",
       "      <td>0</td>\n",
       "      <td>Yes</td>\n",
       "      <td>Yes</td>\n",
       "      <td>DSL</td>\n",
       "      <td>Yes</td>\n",
       "      <td>Yes</td>\n",
       "      <td>Yes</td>\n",
       "      <td>Yes</td>\n",
       "      <td>Yes</td>\n",
       "      <td>No</td>\n",
       "      <td>NaN</td>\n",
       "    </tr>\n",
       "    <tr>\n",
       "      <th>488</th>\n",
       "      <td>4472-LVYGI</td>\n",
       "      <td>2020-02-01</td>\n",
       "      <td>No</td>\n",
       "      <td>Two year</td>\n",
       "      <td>Yes</td>\n",
       "      <td>Bank transfer (automatic)</td>\n",
       "      <td>52.55</td>\n",
       "      <td></td>\n",
       "      <td>Female</td>\n",
       "      <td>0</td>\n",
       "      <td>Yes</td>\n",
       "      <td>Yes</td>\n",
       "      <td>DSL</td>\n",
       "      <td>Yes</td>\n",
       "      <td>No</td>\n",
       "      <td>Yes</td>\n",
       "      <td>Yes</td>\n",
       "      <td>Yes</td>\n",
       "      <td>No</td>\n",
       "      <td>NaN</td>\n",
       "    </tr>\n",
       "    <tr>\n",
       "      <th>1082</th>\n",
       "      <td>4367-NUYAO</td>\n",
       "      <td>2020-02-01</td>\n",
       "      <td>No</td>\n",
       "      <td>Two year</td>\n",
       "      <td>No</td>\n",
       "      <td>Mailed check</td>\n",
       "      <td>25.75</td>\n",
       "      <td></td>\n",
       "      <td>Male</td>\n",
       "      <td>0</td>\n",
       "      <td>Yes</td>\n",
       "      <td>Yes</td>\n",
       "      <td>NaN</td>\n",
       "      <td>NaN</td>\n",
       "      <td>NaN</td>\n",
       "      <td>NaN</td>\n",
       "      <td>NaN</td>\n",
       "      <td>NaN</td>\n",
       "      <td>NaN</td>\n",
       "      <td>Yes</td>\n",
       "    </tr>\n",
       "    <tr>\n",
       "      <th>105</th>\n",
       "      <td>6180-YBIQI</td>\n",
       "      <td>2019-09-01</td>\n",
       "      <td>No</td>\n",
       "      <td>Month-to-month</td>\n",
       "      <td>No</td>\n",
       "      <td>Mailed check</td>\n",
       "      <td>24.30</td>\n",
       "      <td>100.2</td>\n",
       "      <td>Male</td>\n",
       "      <td>0</td>\n",
       "      <td>No</td>\n",
       "      <td>No</td>\n",
       "      <td>DSL</td>\n",
       "      <td>No</td>\n",
       "      <td>No</td>\n",
       "      <td>No</td>\n",
       "      <td>No</td>\n",
       "      <td>No</td>\n",
       "      <td>No</td>\n",
       "      <td>NaN</td>\n",
       "    </tr>\n",
       "    <tr>\n",
       "      <th>4459</th>\n",
       "      <td>3178-FESZO</td>\n",
       "      <td>2019-11-01</td>\n",
       "      <td>2019-12-01 00:00:00</td>\n",
       "      <td>Month-to-month</td>\n",
       "      <td>Yes</td>\n",
       "      <td>Credit card (automatic)</td>\n",
       "      <td>100.25</td>\n",
       "      <td>100.25</td>\n",
       "      <td>Female</td>\n",
       "      <td>0</td>\n",
       "      <td>No</td>\n",
       "      <td>No</td>\n",
       "      <td>Fiber optic</td>\n",
       "      <td>No</td>\n",
       "      <td>Yes</td>\n",
       "      <td>No</td>\n",
       "      <td>No</td>\n",
       "      <td>Yes</td>\n",
       "      <td>Yes</td>\n",
       "      <td>Yes</td>\n",
       "    </tr>\n",
       "    <tr>\n",
       "      <th>1723</th>\n",
       "      <td>2587-YNLES</td>\n",
       "      <td>2019-08-01</td>\n",
       "      <td>No</td>\n",
       "      <td>Two year</td>\n",
       "      <td>No</td>\n",
       "      <td>Mailed check</td>\n",
       "      <td>20.10</td>\n",
       "      <td>100.35</td>\n",
       "      <td>Female</td>\n",
       "      <td>0</td>\n",
       "      <td>Yes</td>\n",
       "      <td>Yes</td>\n",
       "      <td>NaN</td>\n",
       "      <td>NaN</td>\n",
       "      <td>NaN</td>\n",
       "      <td>NaN</td>\n",
       "      <td>NaN</td>\n",
       "      <td>NaN</td>\n",
       "      <td>NaN</td>\n",
       "      <td>No</td>\n",
       "    </tr>\n",
       "    <tr>\n",
       "      <th>2124</th>\n",
       "      <td>7802-EFKNY</td>\n",
       "      <td>2019-08-01</td>\n",
       "      <td>2020-01-01 00:00:00</td>\n",
       "      <td>Month-to-month</td>\n",
       "      <td>Yes</td>\n",
       "      <td>Electronic check</td>\n",
       "      <td>24.95</td>\n",
       "      <td>100.4</td>\n",
       "      <td>Male</td>\n",
       "      <td>0</td>\n",
       "      <td>Yes</td>\n",
       "      <td>No</td>\n",
       "      <td>DSL</td>\n",
       "      <td>No</td>\n",
       "      <td>No</td>\n",
       "      <td>No</td>\n",
       "      <td>No</td>\n",
       "      <td>No</td>\n",
       "      <td>No</td>\n",
       "      <td>NaN</td>\n",
       "    </tr>\n",
       "  </tbody>\n",
       "</table>\n",
       "</div>"
      ],
      "text/plain": [
       "     customer_id  begin_date             end_date            type  \\\n",
       "936   5709-LVOEQ  2020-02-01                   No        Two year   \n",
       "3826  3213-VVOLG  2020-02-01                   No        Two year   \n",
       "4380  2520-SGTTA  2020-02-01                   No        Two year   \n",
       "753   3115-CZMZD  2020-02-01                   No        Two year   \n",
       "5218  2923-ARZLG  2020-02-01                   No        One year   \n",
       "3331  7644-OMVMY  2020-02-01                   No        Two year   \n",
       "6754  2775-SEFEE  2020-02-01                   No        Two year   \n",
       "6670  4075-WKNIU  2020-02-01                   No        Two year   \n",
       "1340  1371-DWPAZ  2020-02-01                   No        Two year   \n",
       "488   4472-LVYGI  2020-02-01                   No        Two year   \n",
       "1082  4367-NUYAO  2020-02-01                   No        Two year   \n",
       "105   6180-YBIQI  2019-09-01                   No  Month-to-month   \n",
       "4459  3178-FESZO  2019-11-01  2019-12-01 00:00:00  Month-to-month   \n",
       "1723  2587-YNLES  2019-08-01                   No        Two year   \n",
       "2124  7802-EFKNY  2019-08-01  2020-01-01 00:00:00  Month-to-month   \n",
       "\n",
       "     paper_less_billing             payment_method  monthly_charges  \\\n",
       "936                  No               Mailed check            80.85   \n",
       "3826                 No               Mailed check            25.35   \n",
       "4380                 No               Mailed check            20.00   \n",
       "753                  No               Mailed check            20.25   \n",
       "5218                Yes               Mailed check            19.70   \n",
       "3331                 No               Mailed check            19.85   \n",
       "6754                Yes  Bank transfer (automatic)            61.90   \n",
       "6670                 No               Mailed check            73.35   \n",
       "1340                 No    Credit card (automatic)            56.05   \n",
       "488                 Yes  Bank transfer (automatic)            52.55   \n",
       "1082                 No               Mailed check            25.75   \n",
       "105                  No               Mailed check            24.30   \n",
       "4459                Yes    Credit card (automatic)           100.25   \n",
       "1723                 No               Mailed check            20.10   \n",
       "2124                Yes           Electronic check            24.95   \n",
       "\n",
       "     total_charges  gender  senior_citizen partner dependents  \\\n",
       "936                 Female               0     Yes        Yes   \n",
       "3826                  Male               0     Yes        Yes   \n",
       "4380                Female               0     Yes        Yes   \n",
       "753                   Male               0      No        Yes   \n",
       "5218                  Male               0     Yes        Yes   \n",
       "3331                  Male               0     Yes        Yes   \n",
       "6754                  Male               0      No        Yes   \n",
       "6670                Female               0     Yes        Yes   \n",
       "1340                Female               0     Yes        Yes   \n",
       "488                 Female               0     Yes        Yes   \n",
       "1082                  Male               0     Yes        Yes   \n",
       "105          100.2    Male               0      No         No   \n",
       "4459        100.25  Female               0      No         No   \n",
       "1723        100.35  Female               0     Yes        Yes   \n",
       "2124         100.4    Male               0     Yes         No   \n",
       "\n",
       "     internet_service online_security online_backup device_protection  \\\n",
       "936               DSL             Yes           Yes               Yes   \n",
       "3826              NaN             NaN           NaN               NaN   \n",
       "4380              NaN             NaN           NaN               NaN   \n",
       "753               NaN             NaN           NaN               NaN   \n",
       "5218              NaN             NaN           NaN               NaN   \n",
       "3331              NaN             NaN           NaN               NaN   \n",
       "6754              DSL             Yes           Yes                No   \n",
       "6670              DSL              No           Yes               Yes   \n",
       "1340              DSL             Yes           Yes               Yes   \n",
       "488               DSL             Yes            No               Yes   \n",
       "1082              NaN             NaN           NaN               NaN   \n",
       "105               DSL              No            No                No   \n",
       "4459      Fiber optic              No           Yes                No   \n",
       "1723              NaN             NaN           NaN               NaN   \n",
       "2124              DSL              No            No                No   \n",
       "\n",
       "     tech_support streaming_tv streaming_movies multiple_lines  \n",
       "936            No          Yes              Yes             No  \n",
       "3826          NaN          NaN              NaN            Yes  \n",
       "4380          NaN          NaN              NaN             No  \n",
       "753           NaN          NaN              NaN             No  \n",
       "5218          NaN          NaN              NaN             No  \n",
       "3331          NaN          NaN              NaN             No  \n",
       "6754          Yes           No               No            Yes  \n",
       "6670          Yes          Yes               No            Yes  \n",
       "1340          Yes          Yes               No            NaN  \n",
       "488           Yes          Yes               No            NaN  \n",
       "1082          NaN          NaN              NaN            Yes  \n",
       "105            No           No               No            NaN  \n",
       "4459           No          Yes              Yes            Yes  \n",
       "1723          NaN          NaN              NaN             No  \n",
       "2124           No           No               No            NaN  "
      ]
     },
     "execution_count": 17,
     "metadata": {},
     "output_type": "execute_result"
    }
   ],
   "source": [
    "df.sort_values(by = ['total_charges']).head(15)"
   ]
  },
  {
   "cell_type": "code",
   "execution_count": 18,
   "metadata": {},
   "outputs": [
    {
     "data": {
      "text/plain": [
       "[936, 3826, 4380, 753, 5218, 3331, 6754, 6670, 1340, 488, 1082]"
      ]
     },
     "execution_count": 18,
     "metadata": {},
     "output_type": "execute_result"
    }
   ],
   "source": [
    "list_skip_total_charges = list(df['total_charges'].sort_values().head(11).index)\n",
    "list_skip_total_charges"
   ]
  },
  {
   "cell_type": "markdown",
   "metadata": {},
   "source": [
    "Признак 'total_charges' имеет тип данных object, хотя является непрерывной величиной - общие платежи за год, должна быть типом данных float. Сортировка по значению показывает, что строки с индексами [936, 3826, 4380, 753, 5218, 3331, 6754, 6670, 1340, 488, 1082] не имеют информации. Удалим эти строки и преобразуем тип данных object признака 'total_charges' в тип данных float"
   ]
  },
  {
   "cell_type": "code",
   "execution_count": 19,
   "metadata": {},
   "outputs": [],
   "source": [
    "df.drop(index=list_skip_total_charges, inplace=True)"
   ]
  },
  {
   "cell_type": "code",
   "execution_count": 20,
   "metadata": {},
   "outputs": [
    {
     "data": {
      "text/html": [
       "<div>\n",
       "<style scoped>\n",
       "    .dataframe tbody tr th:only-of-type {\n",
       "        vertical-align: middle;\n",
       "    }\n",
       "\n",
       "    .dataframe tbody tr th {\n",
       "        vertical-align: top;\n",
       "    }\n",
       "\n",
       "    .dataframe thead th {\n",
       "        text-align: right;\n",
       "    }\n",
       "</style>\n",
       "<table border=\"1\" class=\"dataframe\">\n",
       "  <thead>\n",
       "    <tr style=\"text-align: right;\">\n",
       "      <th></th>\n",
       "      <th>customer_id</th>\n",
       "      <th>begin_date</th>\n",
       "      <th>end_date</th>\n",
       "      <th>type</th>\n",
       "      <th>paper_less_billing</th>\n",
       "      <th>payment_method</th>\n",
       "      <th>monthly_charges</th>\n",
       "      <th>total_charges</th>\n",
       "      <th>gender</th>\n",
       "      <th>senior_citizen</th>\n",
       "      <th>partner</th>\n",
       "      <th>dependents</th>\n",
       "      <th>internet_service</th>\n",
       "      <th>online_security</th>\n",
       "      <th>online_backup</th>\n",
       "      <th>device_protection</th>\n",
       "      <th>tech_support</th>\n",
       "      <th>streaming_tv</th>\n",
       "      <th>streaming_movies</th>\n",
       "      <th>multiple_lines</th>\n",
       "    </tr>\n",
       "  </thead>\n",
       "  <tbody>\n",
       "    <tr>\n",
       "      <th>0</th>\n",
       "      <td>7590-VHVEG</td>\n",
       "      <td>2020-01-01</td>\n",
       "      <td>No</td>\n",
       "      <td>Month-to-month</td>\n",
       "      <td>Yes</td>\n",
       "      <td>Electronic check</td>\n",
       "      <td>29.85</td>\n",
       "      <td>29.85</td>\n",
       "      <td>Female</td>\n",
       "      <td>0</td>\n",
       "      <td>Yes</td>\n",
       "      <td>No</td>\n",
       "      <td>DSL</td>\n",
       "      <td>No</td>\n",
       "      <td>Yes</td>\n",
       "      <td>No</td>\n",
       "      <td>No</td>\n",
       "      <td>No</td>\n",
       "      <td>No</td>\n",
       "      <td>NaN</td>\n",
       "    </tr>\n",
       "    <tr>\n",
       "      <th>1</th>\n",
       "      <td>5575-GNVDE</td>\n",
       "      <td>2017-04-01</td>\n",
       "      <td>No</td>\n",
       "      <td>One year</td>\n",
       "      <td>No</td>\n",
       "      <td>Mailed check</td>\n",
       "      <td>56.95</td>\n",
       "      <td>1889.5</td>\n",
       "      <td>Male</td>\n",
       "      <td>0</td>\n",
       "      <td>No</td>\n",
       "      <td>No</td>\n",
       "      <td>DSL</td>\n",
       "      <td>Yes</td>\n",
       "      <td>No</td>\n",
       "      <td>Yes</td>\n",
       "      <td>No</td>\n",
       "      <td>No</td>\n",
       "      <td>No</td>\n",
       "      <td>No</td>\n",
       "    </tr>\n",
       "    <tr>\n",
       "      <th>2</th>\n",
       "      <td>3668-QPYBK</td>\n",
       "      <td>2019-10-01</td>\n",
       "      <td>2019-12-01 00:00:00</td>\n",
       "      <td>Month-to-month</td>\n",
       "      <td>Yes</td>\n",
       "      <td>Mailed check</td>\n",
       "      <td>53.85</td>\n",
       "      <td>108.15</td>\n",
       "      <td>Male</td>\n",
       "      <td>0</td>\n",
       "      <td>No</td>\n",
       "      <td>No</td>\n",
       "      <td>DSL</td>\n",
       "      <td>Yes</td>\n",
       "      <td>Yes</td>\n",
       "      <td>No</td>\n",
       "      <td>No</td>\n",
       "      <td>No</td>\n",
       "      <td>No</td>\n",
       "      <td>No</td>\n",
       "    </tr>\n",
       "    <tr>\n",
       "      <th>3</th>\n",
       "      <td>7795-CFOCW</td>\n",
       "      <td>2016-05-01</td>\n",
       "      <td>No</td>\n",
       "      <td>One year</td>\n",
       "      <td>No</td>\n",
       "      <td>Bank transfer (automatic)</td>\n",
       "      <td>42.30</td>\n",
       "      <td>1840.75</td>\n",
       "      <td>Male</td>\n",
       "      <td>0</td>\n",
       "      <td>No</td>\n",
       "      <td>No</td>\n",
       "      <td>DSL</td>\n",
       "      <td>Yes</td>\n",
       "      <td>No</td>\n",
       "      <td>Yes</td>\n",
       "      <td>Yes</td>\n",
       "      <td>No</td>\n",
       "      <td>No</td>\n",
       "      <td>NaN</td>\n",
       "    </tr>\n",
       "    <tr>\n",
       "      <th>4</th>\n",
       "      <td>9237-HQITU</td>\n",
       "      <td>2019-09-01</td>\n",
       "      <td>2019-11-01 00:00:00</td>\n",
       "      <td>Month-to-month</td>\n",
       "      <td>Yes</td>\n",
       "      <td>Electronic check</td>\n",
       "      <td>70.70</td>\n",
       "      <td>151.65</td>\n",
       "      <td>Female</td>\n",
       "      <td>0</td>\n",
       "      <td>No</td>\n",
       "      <td>No</td>\n",
       "      <td>Fiber optic</td>\n",
       "      <td>No</td>\n",
       "      <td>No</td>\n",
       "      <td>No</td>\n",
       "      <td>No</td>\n",
       "      <td>No</td>\n",
       "      <td>No</td>\n",
       "      <td>No</td>\n",
       "    </tr>\n",
       "    <tr>\n",
       "      <th>...</th>\n",
       "      <td>...</td>\n",
       "      <td>...</td>\n",
       "      <td>...</td>\n",
       "      <td>...</td>\n",
       "      <td>...</td>\n",
       "      <td>...</td>\n",
       "      <td>...</td>\n",
       "      <td>...</td>\n",
       "      <td>...</td>\n",
       "      <td>...</td>\n",
       "      <td>...</td>\n",
       "      <td>...</td>\n",
       "      <td>...</td>\n",
       "      <td>...</td>\n",
       "      <td>...</td>\n",
       "      <td>...</td>\n",
       "      <td>...</td>\n",
       "      <td>...</td>\n",
       "      <td>...</td>\n",
       "      <td>...</td>\n",
       "    </tr>\n",
       "    <tr>\n",
       "      <th>7027</th>\n",
       "      <td>6840-RESVB</td>\n",
       "      <td>2018-02-01</td>\n",
       "      <td>No</td>\n",
       "      <td>One year</td>\n",
       "      <td>Yes</td>\n",
       "      <td>Mailed check</td>\n",
       "      <td>84.80</td>\n",
       "      <td>1990.5</td>\n",
       "      <td>Male</td>\n",
       "      <td>0</td>\n",
       "      <td>Yes</td>\n",
       "      <td>Yes</td>\n",
       "      <td>DSL</td>\n",
       "      <td>Yes</td>\n",
       "      <td>No</td>\n",
       "      <td>Yes</td>\n",
       "      <td>Yes</td>\n",
       "      <td>Yes</td>\n",
       "      <td>Yes</td>\n",
       "      <td>Yes</td>\n",
       "    </tr>\n",
       "    <tr>\n",
       "      <th>7028</th>\n",
       "      <td>2234-XADUH</td>\n",
       "      <td>2014-02-01</td>\n",
       "      <td>No</td>\n",
       "      <td>One year</td>\n",
       "      <td>Yes</td>\n",
       "      <td>Credit card (automatic)</td>\n",
       "      <td>103.20</td>\n",
       "      <td>7362.9</td>\n",
       "      <td>Female</td>\n",
       "      <td>0</td>\n",
       "      <td>Yes</td>\n",
       "      <td>Yes</td>\n",
       "      <td>Fiber optic</td>\n",
       "      <td>No</td>\n",
       "      <td>Yes</td>\n",
       "      <td>Yes</td>\n",
       "      <td>No</td>\n",
       "      <td>Yes</td>\n",
       "      <td>Yes</td>\n",
       "      <td>Yes</td>\n",
       "    </tr>\n",
       "    <tr>\n",
       "      <th>7029</th>\n",
       "      <td>4801-JZAZL</td>\n",
       "      <td>2019-03-01</td>\n",
       "      <td>No</td>\n",
       "      <td>Month-to-month</td>\n",
       "      <td>Yes</td>\n",
       "      <td>Electronic check</td>\n",
       "      <td>29.60</td>\n",
       "      <td>346.45</td>\n",
       "      <td>Female</td>\n",
       "      <td>0</td>\n",
       "      <td>Yes</td>\n",
       "      <td>Yes</td>\n",
       "      <td>DSL</td>\n",
       "      <td>Yes</td>\n",
       "      <td>No</td>\n",
       "      <td>No</td>\n",
       "      <td>No</td>\n",
       "      <td>No</td>\n",
       "      <td>No</td>\n",
       "      <td>NaN</td>\n",
       "    </tr>\n",
       "    <tr>\n",
       "      <th>7030</th>\n",
       "      <td>8361-LTMKD</td>\n",
       "      <td>2019-07-01</td>\n",
       "      <td>2019-11-01 00:00:00</td>\n",
       "      <td>Month-to-month</td>\n",
       "      <td>Yes</td>\n",
       "      <td>Mailed check</td>\n",
       "      <td>74.40</td>\n",
       "      <td>306.6</td>\n",
       "      <td>Male</td>\n",
       "      <td>1</td>\n",
       "      <td>Yes</td>\n",
       "      <td>No</td>\n",
       "      <td>Fiber optic</td>\n",
       "      <td>No</td>\n",
       "      <td>No</td>\n",
       "      <td>No</td>\n",
       "      <td>No</td>\n",
       "      <td>No</td>\n",
       "      <td>No</td>\n",
       "      <td>Yes</td>\n",
       "    </tr>\n",
       "    <tr>\n",
       "      <th>7031</th>\n",
       "      <td>3186-AJIEK</td>\n",
       "      <td>2014-08-01</td>\n",
       "      <td>No</td>\n",
       "      <td>Two year</td>\n",
       "      <td>Yes</td>\n",
       "      <td>Bank transfer (automatic)</td>\n",
       "      <td>105.65</td>\n",
       "      <td>6844.5</td>\n",
       "      <td>Male</td>\n",
       "      <td>0</td>\n",
       "      <td>No</td>\n",
       "      <td>No</td>\n",
       "      <td>Fiber optic</td>\n",
       "      <td>Yes</td>\n",
       "      <td>No</td>\n",
       "      <td>Yes</td>\n",
       "      <td>Yes</td>\n",
       "      <td>Yes</td>\n",
       "      <td>Yes</td>\n",
       "      <td>No</td>\n",
       "    </tr>\n",
       "  </tbody>\n",
       "</table>\n",
       "<p>7032 rows × 20 columns</p>\n",
       "</div>"
      ],
      "text/plain": [
       "     customer_id  begin_date             end_date            type  \\\n",
       "0     7590-VHVEG  2020-01-01                   No  Month-to-month   \n",
       "1     5575-GNVDE  2017-04-01                   No        One year   \n",
       "2     3668-QPYBK  2019-10-01  2019-12-01 00:00:00  Month-to-month   \n",
       "3     7795-CFOCW  2016-05-01                   No        One year   \n",
       "4     9237-HQITU  2019-09-01  2019-11-01 00:00:00  Month-to-month   \n",
       "...          ...         ...                  ...             ...   \n",
       "7027  6840-RESVB  2018-02-01                   No        One year   \n",
       "7028  2234-XADUH  2014-02-01                   No        One year   \n",
       "7029  4801-JZAZL  2019-03-01                   No  Month-to-month   \n",
       "7030  8361-LTMKD  2019-07-01  2019-11-01 00:00:00  Month-to-month   \n",
       "7031  3186-AJIEK  2014-08-01                   No        Two year   \n",
       "\n",
       "     paper_less_billing             payment_method  monthly_charges  \\\n",
       "0                   Yes           Electronic check            29.85   \n",
       "1                    No               Mailed check            56.95   \n",
       "2                   Yes               Mailed check            53.85   \n",
       "3                    No  Bank transfer (automatic)            42.30   \n",
       "4                   Yes           Electronic check            70.70   \n",
       "...                 ...                        ...              ...   \n",
       "7027                Yes               Mailed check            84.80   \n",
       "7028                Yes    Credit card (automatic)           103.20   \n",
       "7029                Yes           Electronic check            29.60   \n",
       "7030                Yes               Mailed check            74.40   \n",
       "7031                Yes  Bank transfer (automatic)           105.65   \n",
       "\n",
       "     total_charges  gender  senior_citizen partner dependents  \\\n",
       "0            29.85  Female               0     Yes         No   \n",
       "1           1889.5    Male               0      No         No   \n",
       "2           108.15    Male               0      No         No   \n",
       "3          1840.75    Male               0      No         No   \n",
       "4           151.65  Female               0      No         No   \n",
       "...            ...     ...             ...     ...        ...   \n",
       "7027        1990.5    Male               0     Yes        Yes   \n",
       "7028        7362.9  Female               0     Yes        Yes   \n",
       "7029        346.45  Female               0     Yes        Yes   \n",
       "7030         306.6    Male               1     Yes         No   \n",
       "7031        6844.5    Male               0      No         No   \n",
       "\n",
       "     internet_service online_security online_backup device_protection  \\\n",
       "0                 DSL              No           Yes                No   \n",
       "1                 DSL             Yes            No               Yes   \n",
       "2                 DSL             Yes           Yes                No   \n",
       "3                 DSL             Yes            No               Yes   \n",
       "4         Fiber optic              No            No                No   \n",
       "...               ...             ...           ...               ...   \n",
       "7027              DSL             Yes            No               Yes   \n",
       "7028      Fiber optic              No           Yes               Yes   \n",
       "7029              DSL             Yes            No                No   \n",
       "7030      Fiber optic              No            No                No   \n",
       "7031      Fiber optic             Yes            No               Yes   \n",
       "\n",
       "     tech_support streaming_tv streaming_movies multiple_lines  \n",
       "0              No           No               No            NaN  \n",
       "1              No           No               No             No  \n",
       "2              No           No               No             No  \n",
       "3             Yes           No               No            NaN  \n",
       "4              No           No               No             No  \n",
       "...           ...          ...              ...            ...  \n",
       "7027          Yes          Yes              Yes            Yes  \n",
       "7028           No          Yes              Yes            Yes  \n",
       "7029           No           No               No            NaN  \n",
       "7030           No           No               No            Yes  \n",
       "7031          Yes          Yes              Yes             No  \n",
       "\n",
       "[7032 rows x 20 columns]"
      ]
     },
     "execution_count": 20,
     "metadata": {},
     "output_type": "execute_result"
    }
   ],
   "source": [
    "df.reset_index(drop=True)"
   ]
  },
  {
   "cell_type": "code",
   "execution_count": 21,
   "metadata": {},
   "outputs": [
    {
     "data": {
      "text/plain": [
       "105       100.2\n",
       "4459     100.25\n",
       "1723     100.35\n",
       "2124      100.4\n",
       "2208      100.8\n",
       "460       100.9\n",
       "3883     1001.2\n",
       "2799     1001.5\n",
       "5337    1003.05\n",
       "3644    1004.35\n",
       "5580     1004.5\n",
       "5976    1004.75\n",
       "1156     1005.7\n",
       "6414     1006.9\n",
       "5577     1007.8\n",
       "Name: total_charges, dtype: object"
      ]
     },
     "execution_count": 21,
     "metadata": {},
     "output_type": "execute_result"
    }
   ],
   "source": [
    "df['total_charges'].sort_values().head(15)"
   ]
  },
  {
   "cell_type": "code",
   "execution_count": 22,
   "metadata": {},
   "outputs": [],
   "source": [
    "df['total_charges'] = df['total_charges'].astype(float)"
   ]
  },
  {
   "cell_type": "markdown",
   "metadata": {},
   "source": [
    "Присутствуют пропуски примерно 10% и 20% (из-за объединения датасетов)"
   ]
  },
  {
   "cell_type": "markdown",
   "metadata": {},
   "source": [
    "**************"
   ]
  },
  {
   "cell_type": "markdown",
   "metadata": {},
   "source": [
    "#### Дубликаты"
   ]
  },
  {
   "cell_type": "code",
   "execution_count": 23,
   "metadata": {},
   "outputs": [
    {
     "data": {
      "text/plain": [
       "0"
      ]
     },
     "execution_count": 23,
     "metadata": {},
     "output_type": "execute_result"
    }
   ],
   "source": [
    "df.duplicated().sum()"
   ]
  },
  {
   "cell_type": "markdown",
   "metadata": {},
   "source": [
    "Дубликатов нет"
   ]
  },
  {
   "cell_type": "markdown",
   "metadata": {},
   "source": [
    "**************"
   ]
  },
  {
   "cell_type": "markdown",
   "metadata": {},
   "source": [
    "#### Распределение непрерывных признаков"
   ]
  },
  {
   "cell_type": "markdown",
   "metadata": {},
   "source": [
    "##### Столбец monthly_charges"
   ]
  },
  {
   "cell_type": "code",
   "execution_count": 24,
   "metadata": {},
   "outputs": [
    {
     "data": {
      "text/plain": [
       "count    7032.000000\n",
       "mean       64.798208\n",
       "std        30.085974\n",
       "min        18.250000\n",
       "25%        35.587500\n",
       "50%        70.350000\n",
       "75%        89.862500\n",
       "max       118.750000\n",
       "Name: monthly_charges, dtype: float64"
      ]
     },
     "execution_count": 24,
     "metadata": {},
     "output_type": "execute_result"
    }
   ],
   "source": [
    "df['monthly_charges'].describe()"
   ]
  },
  {
   "cell_type": "code",
   "execution_count": 1,
   "metadata": {},
   "outputs": [
    {
     "ename": "NameError",
     "evalue": "name 'sns' is not defined",
     "output_type": "error",
     "traceback": [
      "\u001b[0;31m---------------------------------------------------------------------------\u001b[0m",
      "\u001b[0;31mNameError\u001b[0m                                 Traceback (most recent call last)",
      "\u001b[0;32m/tmp/ipykernel_138/4001442061.py\u001b[0m in \u001b[0;36m<module>\u001b[0;34m\u001b[0m\n\u001b[0;32m----> 1\u001b[0;31m \u001b[0msns\u001b[0m\u001b[0;34m.\u001b[0m\u001b[0mset\u001b[0m\u001b[0;34m(\u001b[0m\u001b[0mstyle\u001b[0m\u001b[0;34m=\u001b[0m\u001b[0;34m\"ticks\"\u001b[0m\u001b[0;34m)\u001b[0m\u001b[0;34m\u001b[0m\u001b[0;34m\u001b[0m\u001b[0m\n\u001b[0m\u001b[1;32m      2\u001b[0m \u001b[0msns\u001b[0m\u001b[0;34m.\u001b[0m\u001b[0mset_style\u001b[0m\u001b[0;34m(\u001b[0m\u001b[0;34m'whitegrid'\u001b[0m\u001b[0;34m)\u001b[0m\u001b[0;34m\u001b[0m\u001b[0;34m\u001b[0m\u001b[0m\n\u001b[1;32m      3\u001b[0m \u001b[0mx\u001b[0m \u001b[0;34m=\u001b[0m \u001b[0mdf\u001b[0m\u001b[0;34m[\u001b[0m\u001b[0;34m'monthly_charges'\u001b[0m\u001b[0;34m]\u001b[0m\u001b[0;34m\u001b[0m\u001b[0;34m\u001b[0m\u001b[0m\n\u001b[1;32m      4\u001b[0m \u001b[0mf\u001b[0m\u001b[0;34m,\u001b[0m \u001b[0;34m(\u001b[0m\u001b[0max_box\u001b[0m\u001b[0;34m,\u001b[0m \u001b[0max_hist\u001b[0m\u001b[0;34m)\u001b[0m \u001b[0;34m=\u001b[0m \u001b[0mplt\u001b[0m\u001b[0;34m.\u001b[0m\u001b[0msubplots\u001b[0m\u001b[0;34m(\u001b[0m\u001b[0;36m2\u001b[0m\u001b[0;34m,\u001b[0m \u001b[0msharex\u001b[0m\u001b[0;34m=\u001b[0m\u001b[0;32mTrue\u001b[0m\u001b[0;34m,\u001b[0m \u001b[0mgridspec_kw\u001b[0m\u001b[0;34m=\u001b[0m\u001b[0;34m{\u001b[0m\u001b[0;34m\"height_ratios\"\u001b[0m\u001b[0;34m:\u001b[0m \u001b[0;34m(\u001b[0m\u001b[0;36m.3\u001b[0m\u001b[0;34m,\u001b[0m \u001b[0;36m.8\u001b[0m\u001b[0;34m)\u001b[0m\u001b[0;34m}\u001b[0m\u001b[0;34m,\u001b[0m \u001b[0mfigsize\u001b[0m\u001b[0;34m=\u001b[0m\u001b[0;34m(\u001b[0m\u001b[0;36m14\u001b[0m\u001b[0;34m,\u001b[0m\u001b[0;36m4\u001b[0m\u001b[0;34m)\u001b[0m\u001b[0;34m)\u001b[0m\u001b[0;34m\u001b[0m\u001b[0;34m\u001b[0m\u001b[0m\n\u001b[1;32m      5\u001b[0m \u001b[0msns\u001b[0m\u001b[0;34m.\u001b[0m\u001b[0mboxplot\u001b[0m\u001b[0;34m(\u001b[0m\u001b[0mx\u001b[0m\u001b[0;34m,\u001b[0m \u001b[0max\u001b[0m\u001b[0;34m=\u001b[0m\u001b[0max_box\u001b[0m\u001b[0;34m)\u001b[0m\u001b[0;34m\u001b[0m\u001b[0;34m\u001b[0m\u001b[0m\n",
      "\u001b[0;31mNameError\u001b[0m: name 'sns' is not defined"
     ]
    }
   ],
   "source": [
    "sns.set(style=\"ticks\")\n",
    "x = df['monthly_charges']\n",
    "f, (ax_box, ax_hist) = plt.subplots(2, sharex=True, gridspec_kw={\"height_ratios\": (.3, .8)}, figsize=(14,4))\n",
    "sns.boxplot(x, ax=ax_box)\n",
    "sns.distplot(x, ax=ax_hist)\n",
    "ax_box.set(yticks=[])\n",
    "sns.despine(ax=ax_hist)\n",
    "sns.despine(ax=ax_box, left=True)\n",
    "plt.xlabel(\"Размер платежа\", size = 15)"
   ]
  },
  {
   "cell_type": "markdown",
   "metadata": {},
   "source": [
    "Описательная статистика, диаграмма \"ящик с усами\" и гистограмма демонстрирует распределение данных по столбцу monthly_charges \n",
    "\n",
    "- границы от 18 до 119\n",
    "\n",
    "- аномалий и выбросов в данных не наблюдается\n",
    "\n",
    "- среднее и медиана примерно равны из-зи скопления у минимума и в районе значений 60 - 100"
   ]
  },
  {
   "cell_type": "markdown",
   "metadata": {},
   "source": [
    "<div class=\"alert alert-success\" style=\"border-color: green; border-radius: 5px\">\n",
    "гистограмма 'MonthlyCharges' показывает бимодальность - несколько горбов) Это говорит о том, что в самой выборке есть несколько однородных выборок. Здесь, может быть, это завязано на количество услуг, или \"богатый/бедный\" клиент. В общем - можно попробовать выделить ещё фактор, который как раз объясняет эту бимодальность."
   ]
  },
  {
   "cell_type": "markdown",
   "metadata": {},
   "source": [
    "**************"
   ]
  },
  {
   "cell_type": "markdown",
   "metadata": {},
   "source": [
    "##### Столбец total_charges"
   ]
  },
  {
   "cell_type": "code",
   "execution_count": 26,
   "metadata": {},
   "outputs": [
    {
     "data": {
      "text/plain": [
       "count    7032.000000\n",
       "mean     2283.300441\n",
       "std      2266.771362\n",
       "min        18.800000\n",
       "25%       401.450000\n",
       "50%      1397.475000\n",
       "75%      3794.737500\n",
       "max      8684.800000\n",
       "Name: total_charges, dtype: float64"
      ]
     },
     "execution_count": 26,
     "metadata": {},
     "output_type": "execute_result"
    }
   ],
   "source": [
    "df['total_charges'].describe()"
   ]
  },
  {
   "cell_type": "code",
   "execution_count": 27,
   "metadata": {},
   "outputs": [
    {
     "data": {
      "text/plain": [
       "Text(0.5, 0, 'Размер платежа')"
      ]
     },
     "execution_count": 27,
     "metadata": {},
     "output_type": "execute_result"
    },
    {
     "data": {
      "image/png": "[encoded data removed]",
      "text/plain": [
       "<Figure size 1008x288 with 2 Axes>"
      ]
     },
     "metadata": {},
     "output_type": "display_data"
    }
   ],
   "source": [
    "sns.set(style=\"ticks\")\n",
    "x = df['total_charges']\n",
    "f, (ax_box, ax_hist) = plt.subplots(2, sharex=True, gridspec_kw={\"height_ratios\": (.3, .8)}, figsize=(14,4))\n",
    "sns.boxplot(x, ax=ax_box)\n",
    "sns.distplot(x, ax=ax_hist)\n",
    "ax_box.set(yticks=[])\n",
    "sns.despine(ax=ax_hist)\n",
    "sns.despine(ax=ax_box, left=True)\n",
    "plt.xlabel(\"Размер платежа\", size = 15)"
   ]
  },
  {
   "cell_type": "markdown",
   "metadata": {},
   "source": [
    "Описательная статистика, диаграмма \"ящик с усами\" и гистограмма демонстрирует распределение данных по столбцу total_charges \n",
    "\n",
    "- границы от 18 до 9000\n",
    "\n",
    "- аномалий и выбросов в данных не наблюдается\n",
    "\n",
    "- максимальное скопление в районе минимального размера платежей, большинство пользователей предпочитают экономить\n",
    "\n",
    "- данные имеют положительную ассиметрию. Длинный хвост и перекос вправо, вызванные наличием высоких значений. Такие значения смещают среднее значение вправо и оно становится больше медианы"
   ]
  },
  {
   "cell_type": "markdown",
   "metadata": {},
   "source": [
    "**************"
   ]
  },
  {
   "cell_type": "markdown",
   "metadata": {},
   "source": [
    "##### Распределение  категориальных признаков"
   ]
  },
  {
   "cell_type": "code",
   "execution_count": 28,
   "metadata": {},
   "outputs": [
    {
     "data": {
      "text/html": [
       "<div>\n",
       "<style scoped>\n",
       "    .dataframe tbody tr th:only-of-type {\n",
       "        vertical-align: middle;\n",
       "    }\n",
       "\n",
       "    .dataframe tbody tr th {\n",
       "        vertical-align: top;\n",
       "    }\n",
       "\n",
       "    .dataframe thead th {\n",
       "        text-align: right;\n",
       "    }\n",
       "</style>\n",
       "<table border=\"1\" class=\"dataframe\">\n",
       "  <thead>\n",
       "    <tr style=\"text-align: right;\">\n",
       "      <th></th>\n",
       "      <th>monthly_charges</th>\n",
       "      <th>total_charges</th>\n",
       "    </tr>\n",
       "    <tr>\n",
       "      <th>gender</th>\n",
       "      <th></th>\n",
       "      <th></th>\n",
       "    </tr>\n",
       "  </thead>\n",
       "  <tbody>\n",
       "    <tr>\n",
       "      <th>Female</th>\n",
       "      <td>65.216652</td>\n",
       "      <td>2283.190985</td>\n",
       "    </tr>\n",
       "    <tr>\n",
       "      <th>Male</th>\n",
       "      <td>64.387546</td>\n",
       "      <td>2283.407861</td>\n",
       "    </tr>\n",
       "  </tbody>\n",
       "</table>\n",
       "</div>"
      ],
      "text/plain": [
       "        monthly_charges  total_charges\n",
       "gender                                \n",
       "Female        65.216652    2283.190985\n",
       "Male          64.387546    2283.407861"
      ]
     },
     "execution_count": 28,
     "metadata": {},
     "output_type": "execute_result"
    }
   ],
   "source": [
    "df.groupby('gender')[['monthly_charges', 'total_charges']].agg('mean')"
   ]
  },
  {
   "cell_type": "markdown",
   "metadata": {},
   "source": [
    "Мужчины и женщины тратят одинаково"
   ]
  },
  {
   "cell_type": "code",
   "execution_count": 29,
   "metadata": {},
   "outputs": [
    {
     "data": {
      "text/html": [
       "<div>\n",
       "<style scoped>\n",
       "    .dataframe tbody tr th:only-of-type {\n",
       "        vertical-align: middle;\n",
       "    }\n",
       "\n",
       "    .dataframe tbody tr th {\n",
       "        vertical-align: top;\n",
       "    }\n",
       "\n",
       "    .dataframe thead th {\n",
       "        text-align: right;\n",
       "    }\n",
       "</style>\n",
       "<table border=\"1\" class=\"dataframe\">\n",
       "  <thead>\n",
       "    <tr style=\"text-align: right;\">\n",
       "      <th></th>\n",
       "      <th>monthly_charges</th>\n",
       "      <th>total_charges</th>\n",
       "    </tr>\n",
       "    <tr>\n",
       "      <th>senior_citizen</th>\n",
       "      <th></th>\n",
       "      <th></th>\n",
       "    </tr>\n",
       "  </thead>\n",
       "  <tbody>\n",
       "    <tr>\n",
       "      <th>0</th>\n",
       "      <td>61.885594</td>\n",
       "      <td>2181.089550</td>\n",
       "    </tr>\n",
       "    <tr>\n",
       "      <th>1</th>\n",
       "      <td>79.820359</td>\n",
       "      <td>2810.465193</td>\n",
       "    </tr>\n",
       "  </tbody>\n",
       "</table>\n",
       "</div>"
      ],
      "text/plain": [
       "                monthly_charges  total_charges\n",
       "senior_citizen                                \n",
       "0                     61.885594    2181.089550\n",
       "1                     79.820359    2810.465193"
      ]
     },
     "execution_count": 29,
     "metadata": {},
     "output_type": "execute_result"
    }
   ],
   "source": [
    "df.groupby('senior_citizen')[['monthly_charges', 'total_charges']].agg('mean')"
   ]
  },
  {
   "cell_type": "markdown",
   "metadata": {},
   "source": [
    "Ежемесячные платежи пенсионеров выше, видимо они не знают всех способов экономно пользоваться разными видами современной связи."
   ]
  },
  {
   "cell_type": "code",
   "execution_count": 30,
   "metadata": {},
   "outputs": [
    {
     "data": {
      "text/html": [
       "<div>\n",
       "<style scoped>\n",
       "    .dataframe tbody tr th:only-of-type {\n",
       "        vertical-align: middle;\n",
       "    }\n",
       "\n",
       "    .dataframe tbody tr th {\n",
       "        vertical-align: top;\n",
       "    }\n",
       "\n",
       "    .dataframe thead th {\n",
       "        text-align: right;\n",
       "    }\n",
       "</style>\n",
       "<table border=\"1\" class=\"dataframe\">\n",
       "  <thead>\n",
       "    <tr style=\"text-align: right;\">\n",
       "      <th></th>\n",
       "      <th></th>\n",
       "      <th>monthly_charges</th>\n",
       "      <th>total_charges</th>\n",
       "    </tr>\n",
       "    <tr>\n",
       "      <th>partner</th>\n",
       "      <th>dependents</th>\n",
       "      <th></th>\n",
       "      <th></th>\n",
       "    </tr>\n",
       "  </thead>\n",
       "  <tbody>\n",
       "    <tr>\n",
       "      <th>Yes</th>\n",
       "      <th>No</th>\n",
       "      <td>74.977737</td>\n",
       "      <td>3332.647157</td>\n",
       "    </tr>\n",
       "    <tr>\n",
       "      <th>No</th>\n",
       "      <th>No</th>\n",
       "      <td>62.983735</td>\n",
       "      <td>1610.702439</td>\n",
       "    </tr>\n",
       "    <tr>\n",
       "      <th>Yes</th>\n",
       "      <th>Yes</th>\n",
       "      <td>61.070805</td>\n",
       "      <td>2746.914914</td>\n",
       "    </tr>\n",
       "    <tr>\n",
       "      <th>No</th>\n",
       "      <th>Yes</th>\n",
       "      <td>52.570891</td>\n",
       "      <td>1349.768802</td>\n",
       "    </tr>\n",
       "  </tbody>\n",
       "</table>\n",
       "</div>"
      ],
      "text/plain": [
       "                    monthly_charges  total_charges\n",
       "partner dependents                                \n",
       "Yes     No                74.977737    3332.647157\n",
       "No      No                62.983735    1610.702439\n",
       "Yes     Yes               61.070805    2746.914914\n",
       "No      Yes               52.570891    1349.768802"
      ]
     },
     "execution_count": 30,
     "metadata": {},
     "output_type": "execute_result"
    }
   ],
   "source": [
    "df.groupby(['partner', 'dependents'])[['monthly_charges', \n",
    "            'total_charges']].agg('mean').sort_values(by=['monthly_charges'], ascending = False)"
   ]
  },
  {
   "cell_type": "markdown",
   "metadata": {},
   "source": [
    "Самые высокие расходы на связь у супругов без детей, самые экономные - одиночки с детьми. Видимо, такое распределение из-за экономии в пользу детей."
   ]
  },
  {
   "cell_type": "markdown",
   "metadata": {},
   "source": [
    "Распределение остальных категорий"
   ]
  },
  {
   "cell_type": "code",
   "execution_count": 31,
   "metadata": {},
   "outputs": [],
   "source": [
    "list_cat = ['type', 'paper_less_billing',\n",
    "       'payment_method', 'gender',\n",
    "       'senior_citizen', 'partner', 'dependents', 'internet_service',\n",
    "       'online_security', 'online_backup', 'device_protection', 'tech_support',\n",
    "       'streaming_tv', 'streaming_movies', 'multiple_lines']"
   ]
  },
  {
   "cell_type": "code",
   "execution_count": 32,
   "metadata": {},
   "outputs": [
    {
     "name": "stdout",
     "output_type": "stream",
     "text": [
      "                type\n",
      "Month-to-month  3875\n",
      "Two year        1685\n",
      "One year        1472\n",
      "---------------------------------\n",
      "     paper_less_billing\n",
      "Yes                4168\n",
      "No                 2864\n",
      "---------------------------------\n",
      "                           payment_method\n",
      "Electronic check                     2365\n",
      "Mailed check                         1604\n",
      "Bank transfer (automatic)            1542\n",
      "Credit card (automatic)              1521\n",
      "---------------------------------\n",
      "        gender\n",
      "Male      3549\n",
      "Female    3483\n",
      "---------------------------------\n",
      "   senior_citizen\n",
      "0            5890\n",
      "1            1142\n",
      "---------------------------------\n",
      "     partner\n",
      "No      3639\n",
      "Yes     3393\n",
      "---------------------------------\n",
      "     dependents\n",
      "No         4933\n",
      "Yes        2099\n",
      "---------------------------------\n",
      "             internet_service\n",
      "Fiber optic              3096\n",
      "DSL                      2416\n",
      "---------------------------------\n",
      "     online_security\n",
      "No              3497\n",
      "Yes             2015\n",
      "---------------------------------\n",
      "     online_backup\n",
      "No            3087\n",
      "Yes           2425\n",
      "---------------------------------\n",
      "     device_protection\n",
      "No                3094\n",
      "Yes               2418\n",
      "---------------------------------\n",
      "     tech_support\n",
      "No           3472\n",
      "Yes          2040\n",
      "---------------------------------\n",
      "     streaming_tv\n",
      "No           2809\n",
      "Yes          2703\n",
      "---------------------------------\n",
      "     streaming_movies\n",
      "No               2781\n",
      "Yes              2731\n",
      "---------------------------------\n",
      "     multiple_lines\n",
      "No             3385\n",
      "Yes            2967\n",
      "---------------------------------\n"
     ]
    }
   ],
   "source": [
    "for i in list_cat:\n",
    "    print(pd.DataFrame(df[i].value_counts()))\n",
    "    print('---------------------------------')"
   ]
  },
  {
   "cell_type": "markdown",
   "metadata": {},
   "source": [
    "Распределение категориальных признаков\n",
    "\n",
    "Тип ежемесячных платежей более 50%, раз в год и раз в 2 года остатки поровну\n",
    "\n",
    "Больше половины платежей - безналичные\n",
    "\n",
    "Клиенты женщины и мужчины поровну, из них пенсионеров - 16%, клиенты с супругами и без тоже - 50/50\n",
    "\n",
    "Большинство потребителей предпочитают \"эконом\" вариант, остальные клиенты тратят в месяц от 40 до 120."
   ]
  },
  {
   "cell_type": "markdown",
   "metadata": {},
   "source": [
    "**************"
   ]
  },
  {
   "cell_type": "markdown",
   "metadata": {},
   "source": [
    "**Вывод:**\n",
    "\n",
    "1. 4 датасета объеденены в один по столбцу customerID\n",
    "\n",
    "        contract.csv — информация о договоре;\n",
    "\n",
    "        personal.csv — персональные данные клиента;\n",
    "\n",
    "        internet.csv — информация об интернет-услугах;\n",
    "\n",
    "        phone.csv — информация об услугах телефонии.\n",
    "\n",
    "1. В датасете 7033 объект с 0 до 7032 и 20 столбцов \n",
    "\n",
    "    'customer_id' - ID клиента, тип данных object\n",
    "    \n",
    "    'begin_date' и 'end_date'- дата начала и окончания обслуживания, тип данных object\n",
    "    \n",
    "    'payment_type' - типы платежей\n",
    "        - Month-to-month - ежемесячно (больше половины пользователей)\n",
    "        - One year - ежегодно (до 25% пользователей)\n",
    "        - Two year - раз в 2 года (до 25% пользователей)\n",
    "    \n",
    "    'paperless_billing' - безбумажное обслуживание\n",
    "        - да\n",
    "        - нет\n",
    "    \n",
    "    'payment_method' - способ оплаты\n",
    "        - Electronic check - Электронный чек\n",
    "        - Mailed check - Отправленный по почте чек\n",
    "        - Bank transfer (automatic) - Банковский перевод (автоматический)\n",
    "        - Credit card (automatic) - Кредитная карта (автоматически)\n",
    "    \n",
    "    'monthly_charges' - размер ежемесяных платежей,\n",
    "    \n",
    "    'total_charges' - общая сумма платежей\n",
    "    \n",
    "    'gender' - пол\n",
    "       \n",
    "    'senior_citizen' - пенсионер True/False\n",
    "    \n",
    "    'partner' - наличие супруга(и) Yes/No\n",
    "\n",
    "    'dependents' - наличие иждивенцев Yes/No\n",
    "\n",
    "    'internet_service' - интернет-сервис Fiber optic/DSL\n",
    "\n",
    "    'online_security' - безопасность в Интернете Yes/No\n",
    "\n",
    "    'online_backup' - резервное копирование Yes/No\n",
    "\n",
    "    'device_protection' - защита устройства Yes/No\n",
    "\n",
    "    'tech_support' - техническая поддержка Yes/No\n",
    "\n",
    "    'streaming_tv' - потоковое телевидение Yes/No\n",
    "\n",
    "    'streaming_movies' - потоковое воспроизведение фильмов Yes/No\n",
    "\n",
    "    'multiple_lines' - наличие возможности ведения параллельных линий во время звонка Yes/No\n",
    "    \n",
    "\n",
    "2. Все буквы названий столбцов приведены к строчным и добавлено нижнее подчеркивание для разделения слов.\n",
    "    \n",
    "\n",
    "3. Пропуски в присоедененных столбцах (до 20%) заменены на значение 'No' -клиент не пользовался услугой\n",
    "\n",
    "\n",
    "4. Аномалии, выбросы, дубликаты отсутствуют.\n",
    "\n",
    "\n",
    "5. Большинство размеров платежей сосредоточено возле минимумов распределения - большинство пользователей предпочитают экономить.\n",
    "\n",
    "\n",
    "6. 1869 клиентов прекратили пользоваться услугами, 5163- остаются потребителями на 01.02.2020\n",
    "\n",
    "\n",
    "7. Большинство граждан - не пенсионеры, примерно 84%.\n",
    "   \n",
    "   \n",
    "8. Мужчины и женщины тратят одинаково. \n",
    "\n",
    "\n",
    "9. Ежемесячные платежи пенсионеров выше, видимо они не знают всех способов экономно пользоваться разными видами современной связи.\n",
    "\n",
    "\n",
    "10. Самые высокие расходы на связь у супругов без детей, самые экономные - одиночки с детьми.\n",
    "\n",
    "\n",
    "11. Основная доля признаков - категориальные\n",
    "\n",
    "\n",
    "12. Тип ежемесячных платежей более 50%, раз в год и раз в 2 года остатки поровну\n",
    "\n",
    "\n",
    "13. Больше половины платежей - безналичные\n",
    "\n",
    "\n",
    "14. Клиенты женщины и мужчины поровну, из них пенсионеров - 16%, клиенты с супругами и без тоже - 50/50\n",
    "\n",
    "\n",
    "15. Большинство потребителей предпочитают \"эконом\" вариант, остальные клиенты тратят в месяц от 40 до 120.\n",
    "\n",
    "\n",
    "16. Отсутствует однозначный целевой признак - удовлетворенность покупателя. Если не удастся такие данные получить, за целевой признак будет принят 'end_date' - дата окончания обслуживания:\n",
    "\n",
    " - 'No' - клиент удовлетворен\n",
    " \n",
    " - наличие даты - клиент не удовлетворен, прекратил пользоваться услугами.\n",
    " \n",
    " \n",
    "17. Возможно следует добавить дополнительные категории, например:\n",
    " \n",
    "    - total_time - период времени пользования услугами \n",
    "    \n",
    "    - client_off - клиентн ушел '1', клиент продолжает пользоваться услугами '0'"
   ]
  },
  {
   "cell_type": "markdown",
   "metadata": {},
   "source": [
    "**************"
   ]
  },
  {
   "cell_type": "markdown",
   "metadata": {},
   "source": [
    "## Предобработка данных"
   ]
  },
  {
   "cell_type": "markdown",
   "metadata": {},
   "source": [
    "### Преобразование типов данных"
   ]
  },
  {
   "cell_type": "markdown",
   "metadata": {},
   "source": [
    "#### Целевой признак"
   ]
  },
  {
   "cell_type": "markdown",
   "metadata": {},
   "source": [
    "На основании данных 'end_date' добавим признак 'client_off' - клиент ушел(1) или не ушел(0). Признак будет показыват пользуется клиент услугами или нет."
   ]
  },
  {
   "cell_type": "code",
   "execution_count": 33,
   "metadata": {},
   "outputs": [],
   "source": [
    "def add_client_off(state):\n",
    "    if state == 'No':\n",
    "        return 0\n",
    "    else:\n",
    "        return 1"
   ]
  },
  {
   "cell_type": "code",
   "execution_count": 34,
   "metadata": {},
   "outputs": [],
   "source": [
    "df['client_off'] = df.end_date.apply(add_client_off) "
   ]
  },
  {
   "cell_type": "markdown",
   "metadata": {},
   "source": [
    "На основании выводов исследовательского анализа данных для столбцов \n",
    "\n",
    "'internet_service', 'online_security', 'online_backup', 'device_protection', \n",
    "\n",
    "'tech_support', 'streaming_tv', 'streaming_movies', 'multiple_lines'\n",
    "\n",
    "заменим пропуски на значение 'No'. Таким образом сохраним все данные без искажения и избавимся от пропущенных данных.\n",
    "\n",
    "df.fillna('No', inplace=True)"
   ]
  },
  {
   "cell_type": "code",
   "execution_count": 35,
   "metadata": {},
   "outputs": [
    {
     "data": {
      "text/plain": [
       "5163"
      ]
     },
     "execution_count": 35,
     "metadata": {},
     "output_type": "execute_result"
    }
   ],
   "source": [
    "len(df[df['end_date'] == \"No\"])"
   ]
  },
  {
   "cell_type": "code",
   "execution_count": 36,
   "metadata": {},
   "outputs": [
    {
     "data": {
      "text/plain": [
       "1869"
      ]
     },
     "execution_count": 36,
     "metadata": {},
     "output_type": "execute_result"
    }
   ],
   "source": [
    "len(df[df['end_date'] != \"No\"])"
   ]
  },
  {
   "cell_type": "markdown",
   "metadata": {},
   "source": [
    "1869 клиентов прекратили пользоваться услугами, 5163 - остаются потребителями на 01.02.2020"
   ]
  },
  {
   "cell_type": "markdown",
   "metadata": {},
   "source": [
    "**************"
   ]
  },
  {
   "cell_type": "markdown",
   "metadata": {},
   "source": [
    "#### Анализ временных данных "
   ]
  },
  {
   "cell_type": "markdown",
   "metadata": {},
   "source": [
    "Для корректного анализа и оценки распределения времения пользования клиентов услугами, преобразуем тип данных object столбца begin_date в datetime"
   ]
  },
  {
   "cell_type": "code",
   "execution_count": 37,
   "metadata": {},
   "outputs": [],
   "source": [
    "df['begin_date'] = pd.to_datetime(df['begin_date'])"
   ]
  },
  {
   "cell_type": "markdown",
   "metadata": {},
   "source": [
    "Замена значений 'No' на '2020-02-01' - дата выгрузки данных, означает, что клиент продолжил пользоваться услугами"
   ]
  },
  {
   "cell_type": "code",
   "execution_count": 38,
   "metadata": {},
   "outputs": [],
   "source": [
    "df['end_date'] = df['end_date'].replace('No', '2020-02-01')"
   ]
  },
  {
   "cell_type": "code",
   "execution_count": 39,
   "metadata": {},
   "outputs": [],
   "source": [
    "df['end_date'] = pd.to_datetime(df['end_date'])"
   ]
  },
  {
   "cell_type": "markdown",
   "metadata": {},
   "source": [
    "Добавим в датасет признак 'months' - период времени в месяцах, в течении которого клиент пользовался услугами"
   ]
  },
  {
   "cell_type": "code",
   "execution_count": 40,
   "metadata": {},
   "outputs": [],
   "source": [
    "df['months'] = round((df['end_date'] - df['begin_date']) / np.timedelta64(1, 'M'), 1)"
   ]
  },
  {
   "cell_type": "markdown",
   "metadata": {},
   "source": [
    "Разместим новый столбец 'months' рядом с датами "
   ]
  },
  {
   "cell_type": "code",
   "execution_count": 41,
   "metadata": {},
   "outputs": [
    {
     "data": {
      "text/plain": [
       "Index(['customer_id', 'begin_date', 'end_date', 'type', 'paper_less_billing',\n",
       "       'payment_method', 'monthly_charges', 'total_charges', 'gender',\n",
       "       'senior_citizen', 'partner', 'dependents', 'internet_service',\n",
       "       'online_security', 'online_backup', 'device_protection', 'tech_support',\n",
       "       'streaming_tv', 'streaming_movies', 'multiple_lines', 'client_off',\n",
       "       'months'],\n",
       "      dtype='object')"
      ]
     },
     "execution_count": 41,
     "metadata": {},
     "output_type": "execute_result"
    }
   ],
   "source": [
    "df.columns"
   ]
  },
  {
   "cell_type": "code",
   "execution_count": 42,
   "metadata": {},
   "outputs": [],
   "source": [
    "df = df.reindex(columns=['customer_id', 'begin_date', 'end_date', 'months', 'type',\n",
    "       'paper_less_billing', 'payment_method', 'monthly_charges',\n",
    "       'total_charges', 'gender', 'senior_citizen', 'partner', 'dependents',\n",
    "       'internet_service', 'online_security', 'online_backup',\n",
    "       'device_protection', 'tech_support', 'streaming_tv', 'streaming_movies',\n",
    "       'multiple_lines', 'client_off'])"
   ]
  },
  {
   "cell_type": "markdown",
   "metadata": {},
   "source": [
    "Посмотрим на распределение признака 'months'. Но при этом мы имеем 2 вида данных, которые не корректно рассматривать вместе. Это клиенты которые ушли и остались. Могут быть клиенты которые пришли 2 дня назад - мы увидим короткий период, но это не показатель, что клиент не заинтересован."
   ]
  },
  {
   "cell_type": "markdown",
   "metadata": {},
   "source": [
    "Для проверки вывода оценим распределение столбца 'months' на исходном датасете df и на датасете без клиентов df_client_off, тех, которые продолжают пользоваться услугами"
   ]
  },
  {
   "cell_type": "code",
   "execution_count": 43,
   "metadata": {},
   "outputs": [
    {
     "data": {
      "text/plain": [
       "count    7032.000000\n",
       "mean       32.438936\n",
       "std        24.551696\n",
       "min         1.000000\n",
       "25%         9.000000\n",
       "50%        29.000000\n",
       "75%        55.100000\n",
       "max        72.000000\n",
       "Name: months, dtype: float64"
      ]
     },
     "execution_count": 43,
     "metadata": {},
     "output_type": "execute_result"
    }
   ],
   "source": [
    "df['months'].describe()"
   ]
  },
  {
   "cell_type": "code",
   "execution_count": 44,
   "metadata": {},
   "outputs": [
    {
     "data": {
      "text/plain": [
       "Text(0.5, 0, 'Количество месяцев')"
      ]
     },
     "execution_count": 44,
     "metadata": {},
     "output_type": "execute_result"
    },
    {
     "data": {
      "image/png": "[encoded data removed]",
      "text/plain": [
       "<Figure size 1008x288 with 2 Axes>"
      ]
     },
     "metadata": {},
     "output_type": "display_data"
    }
   ],
   "source": [
    "sns.set(style=\"ticks\")\n",
    "x = df['months']\n",
    "f, (ax_box, ax_hist) = plt.subplots(2, sharex=True, gridspec_kw={\"height_ratios\": (.3, .8)}, figsize=(14,4))\n",
    "sns.boxplot(x, ax=ax_box)\n",
    "sns.distplot(x, ax=ax_hist)\n",
    "ax_box.set(yticks=[])\n",
    "sns.despine(ax=ax_hist)\n",
    "sns.despine(ax=ax_box, left=True)\n",
    "plt.xlabel(\"Количество месяцев\", size = 15)"
   ]
  },
  {
   "cell_type": "markdown",
   "metadata": {},
   "source": [
    "Выборка, в которой клиенты ушли"
   ]
  },
  {
   "cell_type": "code",
   "execution_count": 45,
   "metadata": {},
   "outputs": [],
   "source": [
    "df_client_off = df[df['end_date'] != '2020-02-01']"
   ]
  },
  {
   "cell_type": "code",
   "execution_count": 46,
   "metadata": {},
   "outputs": [
    {
     "data": {
      "text/plain": [
       "count    1869.000000\n",
       "mean       17.978598\n",
       "std        19.530460\n",
       "min         1.000000\n",
       "25%         2.000000\n",
       "50%        10.000000\n",
       "75%        29.000000\n",
       "max        72.000000\n",
       "Name: months, dtype: float64"
      ]
     },
     "execution_count": 46,
     "metadata": {},
     "output_type": "execute_result"
    }
   ],
   "source": [
    "df_client_off['months'].describe()"
   ]
  },
  {
   "cell_type": "code",
   "execution_count": 47,
   "metadata": {},
   "outputs": [
    {
     "data": {
      "text/plain": [
       "Text(0.5, 0, 'Количество месяцев')"
      ]
     },
     "execution_count": 47,
     "metadata": {},
     "output_type": "execute_result"
    },
    {
     "data": {
      "image/png": "[encoded data removed]",
      "text/plain": [
       "<Figure size 1008x288 with 2 Axes>"
      ]
     },
     "metadata": {},
     "output_type": "display_data"
    }
   ],
   "source": [
    "sns.set(style=\"ticks\")\n",
    "x = df_client_off['months']\n",
    "f, (ax_box, ax_hist) = plt.subplots(2, sharex=True, gridspec_kw={\"height_ratios\": (.3, .8)}, figsize=(14,4))\n",
    "sns.boxplot(x, ax=ax_box)\n",
    "sns.distplot(x, ax=ax_hist)\n",
    "ax_box.set(yticks=[])\n",
    "sns.despine(ax=ax_hist)\n",
    "sns.despine(ax=ax_box, left=True)\n",
    "plt.xlabel(\"Количество месяцев\", size = 15)"
   ]
  },
  {
   "cell_type": "markdown",
   "metadata": {},
   "source": [
    "Описательная статистика, диаграмма \"ящик с усами\" и гистограмма демонстрирует распределение данных по столбцу months выборки данных с ушедшими клиентами \n",
    "\n",
    "- границы от 1 до 72\n",
    "\n",
    "- аномалий и выбросов в данных не наблюдается\n",
    "\n",
    "- максимальное скопление в районе минимальных сроков пользования, по каким-то причинам клиенты могут уходить в короткий период времени."
   ]
  },
  {
   "cell_type": "markdown",
   "metadata": {},
   "source": [
    "**************"
   ]
  },
  {
   "cell_type": "markdown",
   "metadata": {},
   "source": [
    "#### Кореляция"
   ]
  },
  {
   "cell_type": "code",
   "execution_count": 48,
   "metadata": {},
   "outputs": [
    {
     "data": {
      "image/png": "[encoded data removed]",
      "text/plain": [
       "<Figure size 360x360 with 2 Axes>"
      ]
     },
     "metadata": {},
     "output_type": "display_data"
    }
   ],
   "source": [
    "correlation = df.corr()\n",
    "plt.figure(figsize=(5,5))\n",
    "sns.heatmap(correlation, vmax=1, square=True,annot=True,cmap='cubehelix')\n",
    "\n",
    "plt.title('Корреляция')\n",
    "plt.show()"
   ]
  },
  {
   "cell_type": "code",
   "execution_count": 49,
   "metadata": {},
   "outputs": [
    {
     "data": {
      "text/html": [
       "<div>\n",
       "<style scoped>\n",
       "    .dataframe tbody tr th:only-of-type {\n",
       "        vertical-align: middle;\n",
       "    }\n",
       "\n",
       "    .dataframe tbody tr th {\n",
       "        vertical-align: top;\n",
       "    }\n",
       "\n",
       "    .dataframe thead th {\n",
       "        text-align: right;\n",
       "    }\n",
       "</style>\n",
       "<table border=\"1\" class=\"dataframe\">\n",
       "  <thead>\n",
       "    <tr style=\"text-align: right;\">\n",
       "      <th></th>\n",
       "      <th>months</th>\n",
       "      <th>monthly_charges</th>\n",
       "      <th>total_charges</th>\n",
       "      <th>senior_citizen</th>\n",
       "      <th>client_off</th>\n",
       "    </tr>\n",
       "  </thead>\n",
       "  <tbody>\n",
       "    <tr>\n",
       "      <th>months</th>\n",
       "      <td>1.000000</td>\n",
       "      <td>0.246722</td>\n",
       "      <td>0.825810</td>\n",
       "      <td>0.015647</td>\n",
       "      <td>-0.354390</td>\n",
       "    </tr>\n",
       "    <tr>\n",
       "      <th>monthly_charges</th>\n",
       "      <td>0.246722</td>\n",
       "      <td>1.000000</td>\n",
       "      <td>0.651065</td>\n",
       "      <td>0.219874</td>\n",
       "      <td>0.192858</td>\n",
       "    </tr>\n",
       "    <tr>\n",
       "      <th>total_charges</th>\n",
       "      <td>0.825810</td>\n",
       "      <td>0.651065</td>\n",
       "      <td>1.000000</td>\n",
       "      <td>0.102411</td>\n",
       "      <td>-0.199484</td>\n",
       "    </tr>\n",
       "    <tr>\n",
       "      <th>senior_citizen</th>\n",
       "      <td>0.015647</td>\n",
       "      <td>0.219874</td>\n",
       "      <td>0.102411</td>\n",
       "      <td>1.000000</td>\n",
       "      <td>0.150541</td>\n",
       "    </tr>\n",
       "    <tr>\n",
       "      <th>client_off</th>\n",
       "      <td>-0.354390</td>\n",
       "      <td>0.192858</td>\n",
       "      <td>-0.199484</td>\n",
       "      <td>0.150541</td>\n",
       "      <td>1.000000</td>\n",
       "    </tr>\n",
       "  </tbody>\n",
       "</table>\n",
       "</div>"
      ],
      "text/plain": [
       "                   months  monthly_charges  total_charges  senior_citizen  \\\n",
       "months           1.000000         0.246722       0.825810        0.015647   \n",
       "monthly_charges  0.246722         1.000000       0.651065        0.219874   \n",
       "total_charges    0.825810         0.651065       1.000000        0.102411   \n",
       "senior_citizen   0.015647         0.219874       0.102411        1.000000   \n",
       "client_off      -0.354390         0.192858      -0.199484        0.150541   \n",
       "\n",
       "                 client_off  \n",
       "months            -0.354390  \n",
       "monthly_charges    0.192858  \n",
       "total_charges     -0.199484  \n",
       "senior_citizen     0.150541  \n",
       "client_off         1.000000  "
      ]
     },
     "execution_count": 49,
     "metadata": {},
     "output_type": "execute_result"
    }
   ],
   "source": [
    "df.corr()"
   ]
  },
  {
   "cell_type": "markdown",
   "metadata": {},
   "source": [
    "Проверка корреляции показала отсутствие слишком высокой линейной зависимости между признаками, кроме months и total_charges. Здесь прямая линейная зависимость 0.826"
   ]
  },
  {
   "cell_type": "markdown",
   "metadata": {},
   "source": [
    "**************"
   ]
  },
  {
   "cell_type": "markdown",
   "metadata": {},
   "source": [
    "### Разбиение на выборки"
   ]
  },
  {
   "cell_type": "markdown",
   "metadata": {},
   "source": [
    "Удаляем признаки \n",
    "\n",
    "'customer_id' не дает информации для обучения\n",
    "\n",
    "'begin_date', 'end_date', 'months' - имеют неоднозначное влияние на таргет для выборки с ушедшими клиентами и без них."
   ]
  },
  {
   "cell_type": "code",
   "execution_count": 50,
   "metadata": {},
   "outputs": [],
   "source": [
    "df = df.drop(['customer_id', 'begin_date', 'end_date', 'months'], axis=1)"
   ]
  },
  {
   "cell_type": "markdown",
   "metadata": {},
   "source": [
    "**************"
   ]
  },
  {
   "cell_type": "markdown",
   "metadata": {},
   "source": [
    "#### Кодирование категориальных признаков"
   ]
  },
  {
   "cell_type": "markdown",
   "metadata": {},
   "source": [
    "С целью исключения категориальных признаков для обучения модели преобразовать категориальные признаки в численные поможет техника прямого кодирования, или отображения (англ. One-Hot Encoding, OHE)"
   ]
  },
  {
   "cell_type": "code",
   "execution_count": 51,
   "metadata": {},
   "outputs": [],
   "source": [
    "df = pd.get_dummies(df, drop_first=True)"
   ]
  },
  {
   "cell_type": "code",
   "execution_count": 52,
   "metadata": {},
   "outputs": [
    {
     "data": {
      "text/html": [
       "<div>\n",
       "<style scoped>\n",
       "    .dataframe tbody tr th:only-of-type {\n",
       "        vertical-align: middle;\n",
       "    }\n",
       "\n",
       "    .dataframe tbody tr th {\n",
       "        vertical-align: top;\n",
       "    }\n",
       "\n",
       "    .dataframe thead th {\n",
       "        text-align: right;\n",
       "    }\n",
       "</style>\n",
       "<table border=\"1\" class=\"dataframe\">\n",
       "  <thead>\n",
       "    <tr style=\"text-align: right;\">\n",
       "      <th></th>\n",
       "      <th>monthly_charges</th>\n",
       "      <th>total_charges</th>\n",
       "      <th>senior_citizen</th>\n",
       "      <th>client_off</th>\n",
       "      <th>type_One year</th>\n",
       "      <th>type_Two year</th>\n",
       "      <th>paper_less_billing_Yes</th>\n",
       "      <th>payment_method_Credit card (automatic)</th>\n",
       "      <th>payment_method_Electronic check</th>\n",
       "      <th>payment_method_Mailed check</th>\n",
       "      <th>...</th>\n",
       "      <th>partner_Yes</th>\n",
       "      <th>dependents_Yes</th>\n",
       "      <th>internet_service_Fiber optic</th>\n",
       "      <th>online_security_Yes</th>\n",
       "      <th>online_backup_Yes</th>\n",
       "      <th>device_protection_Yes</th>\n",
       "      <th>tech_support_Yes</th>\n",
       "      <th>streaming_tv_Yes</th>\n",
       "      <th>streaming_movies_Yes</th>\n",
       "      <th>multiple_lines_Yes</th>\n",
       "    </tr>\n",
       "  </thead>\n",
       "  <tbody>\n",
       "    <tr>\n",
       "      <th>0</th>\n",
       "      <td>29.85</td>\n",
       "      <td>29.85</td>\n",
       "      <td>0</td>\n",
       "      <td>0</td>\n",
       "      <td>0</td>\n",
       "      <td>0</td>\n",
       "      <td>1</td>\n",
       "      <td>0</td>\n",
       "      <td>1</td>\n",
       "      <td>0</td>\n",
       "      <td>...</td>\n",
       "      <td>1</td>\n",
       "      <td>0</td>\n",
       "      <td>0</td>\n",
       "      <td>0</td>\n",
       "      <td>1</td>\n",
       "      <td>0</td>\n",
       "      <td>0</td>\n",
       "      <td>0</td>\n",
       "      <td>0</td>\n",
       "      <td>0</td>\n",
       "    </tr>\n",
       "    <tr>\n",
       "      <th>1</th>\n",
       "      <td>56.95</td>\n",
       "      <td>1889.50</td>\n",
       "      <td>0</td>\n",
       "      <td>0</td>\n",
       "      <td>1</td>\n",
       "      <td>0</td>\n",
       "      <td>0</td>\n",
       "      <td>0</td>\n",
       "      <td>0</td>\n",
       "      <td>1</td>\n",
       "      <td>...</td>\n",
       "      <td>0</td>\n",
       "      <td>0</td>\n",
       "      <td>0</td>\n",
       "      <td>1</td>\n",
       "      <td>0</td>\n",
       "      <td>1</td>\n",
       "      <td>0</td>\n",
       "      <td>0</td>\n",
       "      <td>0</td>\n",
       "      <td>0</td>\n",
       "    </tr>\n",
       "    <tr>\n",
       "      <th>2</th>\n",
       "      <td>53.85</td>\n",
       "      <td>108.15</td>\n",
       "      <td>0</td>\n",
       "      <td>1</td>\n",
       "      <td>0</td>\n",
       "      <td>0</td>\n",
       "      <td>1</td>\n",
       "      <td>0</td>\n",
       "      <td>0</td>\n",
       "      <td>1</td>\n",
       "      <td>...</td>\n",
       "      <td>0</td>\n",
       "      <td>0</td>\n",
       "      <td>0</td>\n",
       "      <td>1</td>\n",
       "      <td>1</td>\n",
       "      <td>0</td>\n",
       "      <td>0</td>\n",
       "      <td>0</td>\n",
       "      <td>0</td>\n",
       "      <td>0</td>\n",
       "    </tr>\n",
       "    <tr>\n",
       "      <th>3</th>\n",
       "      <td>42.30</td>\n",
       "      <td>1840.75</td>\n",
       "      <td>0</td>\n",
       "      <td>0</td>\n",
       "      <td>1</td>\n",
       "      <td>0</td>\n",
       "      <td>0</td>\n",
       "      <td>0</td>\n",
       "      <td>0</td>\n",
       "      <td>0</td>\n",
       "      <td>...</td>\n",
       "      <td>0</td>\n",
       "      <td>0</td>\n",
       "      <td>0</td>\n",
       "      <td>1</td>\n",
       "      <td>0</td>\n",
       "      <td>1</td>\n",
       "      <td>1</td>\n",
       "      <td>0</td>\n",
       "      <td>0</td>\n",
       "      <td>0</td>\n",
       "    </tr>\n",
       "    <tr>\n",
       "      <th>4</th>\n",
       "      <td>70.70</td>\n",
       "      <td>151.65</td>\n",
       "      <td>0</td>\n",
       "      <td>1</td>\n",
       "      <td>0</td>\n",
       "      <td>0</td>\n",
       "      <td>1</td>\n",
       "      <td>0</td>\n",
       "      <td>1</td>\n",
       "      <td>0</td>\n",
       "      <td>...</td>\n",
       "      <td>0</td>\n",
       "      <td>0</td>\n",
       "      <td>1</td>\n",
       "      <td>0</td>\n",
       "      <td>0</td>\n",
       "      <td>0</td>\n",
       "      <td>0</td>\n",
       "      <td>0</td>\n",
       "      <td>0</td>\n",
       "      <td>0</td>\n",
       "    </tr>\n",
       "  </tbody>\n",
       "</table>\n",
       "<p>5 rows × 21 columns</p>\n",
       "</div>"
      ],
      "text/plain": [
       "   monthly_charges  total_charges  senior_citizen  client_off  type_One year  \\\n",
       "0            29.85          29.85               0           0              0   \n",
       "1            56.95        1889.50               0           0              1   \n",
       "2            53.85         108.15               0           1              0   \n",
       "3            42.30        1840.75               0           0              1   \n",
       "4            70.70         151.65               0           1              0   \n",
       "\n",
       "   type_Two year  paper_less_billing_Yes  \\\n",
       "0              0                       1   \n",
       "1              0                       0   \n",
       "2              0                       1   \n",
       "3              0                       0   \n",
       "4              0                       1   \n",
       "\n",
       "   payment_method_Credit card (automatic)  payment_method_Electronic check  \\\n",
       "0                                       0                                1   \n",
       "1                                       0                                0   \n",
       "2                                       0                                0   \n",
       "3                                       0                                0   \n",
       "4                                       0                                1   \n",
       "\n",
       "   payment_method_Mailed check  ...  partner_Yes  dependents_Yes  \\\n",
       "0                            0  ...            1               0   \n",
       "1                            1  ...            0               0   \n",
       "2                            1  ...            0               0   \n",
       "3                            0  ...            0               0   \n",
       "4                            0  ...            0               0   \n",
       "\n",
       "   internet_service_Fiber optic  online_security_Yes  online_backup_Yes  \\\n",
       "0                             0                    0                  1   \n",
       "1                             0                    1                  0   \n",
       "2                             0                    1                  1   \n",
       "3                             0                    1                  0   \n",
       "4                             1                    0                  0   \n",
       "\n",
       "   device_protection_Yes  tech_support_Yes  streaming_tv_Yes  \\\n",
       "0                      0                 0                 0   \n",
       "1                      1                 0                 0   \n",
       "2                      0                 0                 0   \n",
       "3                      1                 1                 0   \n",
       "4                      0                 0                 0   \n",
       "\n",
       "   streaming_movies_Yes  multiple_lines_Yes  \n",
       "0                     0                   0  \n",
       "1                     0                   0  \n",
       "2                     0                   0  \n",
       "3                     0                   0  \n",
       "4                     0                   0  \n",
       "\n",
       "[5 rows x 21 columns]"
      ]
     },
     "execution_count": 52,
     "metadata": {},
     "output_type": "execute_result"
    }
   ],
   "source": [
    "df.head()"
   ]
  },
  {
   "cell_type": "markdown",
   "metadata": {},
   "source": [
    "**************"
   ]
  },
  {
   "cell_type": "markdown",
   "metadata": {},
   "source": [
    "#### Разделение данных на обучающую 75% и тестовую выборку 25%"
   ]
  },
  {
   "cell_type": "code",
   "execution_count": 53,
   "metadata": {},
   "outputs": [],
   "source": [
    "train, test = train_test_split(df, test_size=0.25, random_state=42)  "
   ]
  },
  {
   "cell_type": "markdown",
   "metadata": {},
   "source": [
    "Проверка размера выборок"
   ]
  },
  {
   "cell_type": "code",
   "execution_count": 54,
   "metadata": {},
   "outputs": [
    {
     "data": {
      "text/plain": [
       "0"
      ]
     },
     "execution_count": 54,
     "metadata": {},
     "output_type": "execute_result"
    }
   ],
   "source": [
    "len(df) - len(train) - len(test)"
   ]
  },
  {
   "cell_type": "markdown",
   "metadata": {},
   "source": [
    "**************"
   ]
  },
  {
   "cell_type": "markdown",
   "metadata": {},
   "source": [
    "#### Масштабирование признаков\n",
    "\n",
    "Приведение непрерывных значений признаков к единому масштабу."
   ]
  },
  {
   "cell_type": "markdown",
   "metadata": {},
   "source": [
    "<div class=\"alert alert-info\" style=\"border-color: green; border-radius: 5px\">\n",
    "\n",
    "<p>Для выборки train применяется метод fit и transform совместно - fit_transform, а для выборки test - transform\n",
    "</p>\n",
    "</div>"
   ]
  },
  {
   "cell_type": "code",
   "execution_count": 55,
   "metadata": {},
   "outputs": [],
   "source": [
    "numeric = ['monthly_charges', 'total_charges']"
   ]
  },
  {
   "cell_type": "code",
   "execution_count": 56,
   "metadata": {},
   "outputs": [],
   "source": [
    "scaler = StandardScaler()"
   ]
  },
  {
   "cell_type": "code",
   "execution_count": 57,
   "metadata": {},
   "outputs": [],
   "source": [
    "train[numeric] = scaler.fit_transform(train[numeric])"
   ]
  },
  {
   "cell_type": "code",
   "execution_count": 58,
   "metadata": {},
   "outputs": [],
   "source": [
    "test[numeric] = scaler.transform(test[numeric])"
   ]
  },
  {
   "cell_type": "markdown",
   "metadata": {},
   "source": [
    "#### Выделение целевого признака"
   ]
  },
  {
   "cell_type": "markdown",
   "metadata": {},
   "source": [
    "Обучающие признаки"
   ]
  },
  {
   "cell_type": "code",
   "execution_count": 59,
   "metadata": {},
   "outputs": [],
   "source": [
    "x_train = train.drop(['client_off'] , axis=1)"
   ]
  },
  {
   "cell_type": "markdown",
   "metadata": {},
   "source": [
    "Обучающие целевые признаки"
   ]
  },
  {
   "cell_type": "code",
   "execution_count": 60,
   "metadata": {},
   "outputs": [],
   "source": [
    "y_train = train['client_off']"
   ]
  },
  {
   "cell_type": "markdown",
   "metadata": {},
   "source": [
    "Тестовые признаки"
   ]
  },
  {
   "cell_type": "code",
   "execution_count": 61,
   "metadata": {},
   "outputs": [],
   "source": [
    "x_test = test.drop(['client_off'] , axis=1)"
   ]
  },
  {
   "cell_type": "markdown",
   "metadata": {},
   "source": [
    "Тестовый целевой признак"
   ]
  },
  {
   "cell_type": "code",
   "execution_count": 62,
   "metadata": {},
   "outputs": [],
   "source": [
    "y_test = test['client_off']"
   ]
  },
  {
   "cell_type": "markdown",
   "metadata": {},
   "source": [
    "**************"
   ]
  },
  {
   "cell_type": "markdown",
   "metadata": {},
   "source": [
    "## Обучение моделей"
   ]
  },
  {
   "cell_type": "markdown",
   "metadata": {},
   "source": [
    "### Градиентный бустинг"
   ]
  },
  {
   "cell_type": "code",
   "execution_count": 63,
   "metadata": {},
   "outputs": [
    {
     "data": {
      "text/plain": [
       "array([0.86378443, 0.8627742 , 0.83988949, 0.85578509, 0.85357909,\n",
       "       0.81261339, 0.8010061 , 0.85137308, 0.85586729, 0.83460965,\n",
       "       0.83454756, 0.87472059, 0.8512708 , 0.89949499, 0.87091233])"
      ]
     },
     "execution_count": 63,
     "metadata": {},
     "output_type": "execute_result"
    }
   ],
   "source": [
    "model_gb = GradientBoostingClassifier(n_estimators=100, max_depth=2, max_features=20, random_state=42)\n",
    "\n",
    "scores_gb = cross_val_score(model_gb, x_train, y_train, \n",
    "\n",
    "                         scoring=\"roc_auc\", cv=15)\n",
    "\n",
    "scores_gb"
   ]
  },
  {
   "cell_type": "markdown",
   "metadata": {},
   "source": [
    "**************"
   ]
  },
  {
   "cell_type": "markdown",
   "metadata": {},
   "source": [
    "### CatBoost"
   ]
  },
  {
   "cell_type": "code",
   "execution_count": 64,
   "metadata": {},
   "outputs": [
    {
     "data": {
      "application/vnd.jupyter.widget-view+json": {
       "model_id": "",
       "version_major": 2,
       "version_minor": 0
      },
      "text/plain": [
       "MetricVisualizer(layout=Layout(align_self='stretch', height='500px'))"
      ]
     },
     "metadata": {},
     "output_type": "display_data"
    },
    {
     "data": {
      "text/plain": [
       "<catboost.core.CatBoostClassifier at 0x7f2f09a86a30>"
      ]
     },
     "execution_count": 64,
     "metadata": {},
     "output_type": "execute_result"
    }
   ],
   "source": [
    "model_cbc=CatBoostClassifier(iterations=400, depth=1, learning_rate=1, \n",
    "\n",
    "loss_function='Logloss', eval_metric ='AUC', verbose=10, random_state = 42)\n",
    "\n",
    "model_cbc.fit(x_train, y_train,\n",
    "     eval_set=(x_test, y_test),   \n",
    "     verbose = False,\n",
    "     plot=True)"
   ]
  },
  {
   "cell_type": "markdown",
   "metadata": {},
   "source": [
    "**************"
   ]
  },
  {
   "cell_type": "markdown",
   "metadata": {},
   "source": [
    "### Дерево решений"
   ]
  },
  {
   "cell_type": "code",
   "execution_count": 65,
   "metadata": {},
   "outputs": [
    {
     "name": "stdout",
     "output_type": "stream",
     "text": [
      "Score наилучшей модели решающее дерево на валидационной выборке: 0.7929465301478953\n",
      "DecisionTreeClassifier(max_depth=4, random_state=42)\n"
     ]
    }
   ],
   "source": [
    "best_model_dtc = None\n",
    "best_result_dtc = 0\n",
    "for depth in range(1, 10):\n",
    "    \n",
    "    # обучение модели с заданным количеством деревьев est\n",
    "    model_dtc = DecisionTreeClassifier(random_state=42, max_depth=depth)\n",
    "    \n",
    "    # обучение модели на тренировочной выборке\n",
    "    model_dtc.fit(x_train, y_train)\n",
    "    \n",
    "    # рассчет качества модели на валидационной выборке\n",
    "    result_dtc = model_dtc.score(x_test, y_test)\n",
    "    if result_dtc > best_result_dtc:\n",
    "        \n",
    "        # сохраняем наилучшую модель\n",
    "        best_model_dtc =  model_dtc\n",
    "        \n",
    "        #  сохраняем наилучшее значение метрики accuracy на валидационных данных\n",
    "        best_result_dtc = result_dtc \n",
    "\n",
    "print(\"Score наилучшей модели решающее дерево на валидационной выборке:\", best_result_dtc)\n",
    "print(best_model_dtc)"
   ]
  },
  {
   "cell_type": "code",
   "execution_count": 66,
   "metadata": {},
   "outputs": [],
   "source": [
    "predicted_dtc = model_dtc.predict(x_test)"
   ]
  },
  {
   "cell_type": "code",
   "execution_count": 67,
   "metadata": {},
   "outputs": [],
   "source": [
    "roc_auc_dtc = round(roc_auc_score(y_test, predicted_dtc), 3)\n",
    "accuracy_score_dtc = round(accuracy_score(y_test, predicted_dtc), 3)"
   ]
  },
  {
   "cell_type": "code",
   "execution_count": 68,
   "metadata": {},
   "outputs": [
    {
     "name": "stdout",
     "output_type": "stream",
     "text": [
      "AUC-ROC =  0.6793046691299967\n",
      "accuracy_score =  0.7599544937428896\n"
     ]
    }
   ],
   "source": [
    "print (\"AUC-ROC = \", roc_auc_score(y_test, predicted_dtc))\n",
    "print (\"accuracy_score = \", accuracy_score(y_test, predicted_dtc))"
   ]
  },
  {
   "cell_type": "markdown",
   "metadata": {},
   "source": [
    "**************"
   ]
  },
  {
   "cell_type": "markdown",
   "metadata": {},
   "source": [
    "### Случайный лес"
   ]
  },
  {
   "cell_type": "code",
   "execution_count": 69,
   "metadata": {},
   "outputs": [
    {
     "name": "stdout",
     "output_type": "stream",
     "text": [
      "Лучший результат:\n",
      "{'n_estimators': 55, 'min_samples_split': 6, 'min_samples_leaf': 6, 'max_depth': 10}\n"
     ]
    }
   ],
   "source": [
    "model_rfc = RandomForestClassifier(random_state=42)\n",
    "\n",
    "params = {\n",
    "    'n_estimators':[x for x in range(40, 60, 1)],\n",
    "    'min_samples_split':[x for x in range(4, 8, 1)],\n",
    "    'min_samples_leaf':[x for x in range(5, 9, 1)],    \n",
    "    'max_depth':[x for x in range(7, 11, 1)]\n",
    "}\n",
    "\n",
    "grid = RandomizedSearchCV(model_rfc, params, n_iter=10, random_state=42, cv=15)\n",
    "grid.fit(x_train, y_train)\n",
    "print('Лучший результат:')\n",
    "print(grid.best_params_)\n",
    "predicted_rfc = grid.predict(x_test)"
   ]
  },
  {
   "cell_type": "code",
   "execution_count": 70,
   "metadata": {},
   "outputs": [],
   "source": [
    "roc_auc_rfc = round(roc_auc_score(y_test, predicted_rfc), 3)\n",
    "accuracy_score_lrfc = round(accuracy_score(y_test, predicted_rfc), 3)"
   ]
  },
  {
   "cell_type": "code",
   "execution_count": 71,
   "metadata": {},
   "outputs": [
    {
     "name": "stdout",
     "output_type": "stream",
     "text": [
      "AUC-ROC =  0.6857339603627813\n",
      "accuracy_score =  0.7935153583617748\n"
     ]
    }
   ],
   "source": [
    "print (\"AUC-ROC = \", roc_auc_score(y_test, predicted_rfc))\n",
    "print (\"accuracy_score = \", accuracy_score(y_test, predicted_rfc))"
   ]
  },
  {
   "cell_type": "markdown",
   "metadata": {},
   "source": [
    "**************"
   ]
  },
  {
   "cell_type": "markdown",
   "metadata": {},
   "source": [
    "### Логистическая регрессия"
   ]
  },
  {
   "cell_type": "code",
   "execution_count": 72,
   "metadata": {},
   "outputs": [],
   "source": [
    "model_lr  = LogisticRegression(random_state=42)\n",
    "\n",
    "model_lr.fit(x_train, y_train)\n",
    "\n",
    "predicted_lr = model_lr.predict(x_test)"
   ]
  },
  {
   "cell_type": "code",
   "execution_count": 73,
   "metadata": {},
   "outputs": [],
   "source": [
    "roc_auc_lr = round(roc_auc_score(y_test, predicted_lr), 3)\n",
    "accuracy_score_lr = round(accuracy_score(y_test, predicted_lr), 3)"
   ]
  },
  {
   "cell_type": "code",
   "execution_count": 74,
   "metadata": {},
   "outputs": [
    {
     "name": "stdout",
     "output_type": "stream",
     "text": [
      "roc_auc =  0.694\n",
      "accuracy_score =  0.786\n"
     ]
    }
   ],
   "source": [
    "print (\"roc_auc = \", roc_auc_lr)\n",
    "print (\"accuracy_score = \", accuracy_score_lr)"
   ]
  },
  {
   "cell_type": "markdown",
   "metadata": {},
   "source": [
    "### Важность признаков"
   ]
  },
  {
   "cell_type": "markdown",
   "metadata": {},
   "source": [
    "<div class=\"alert alert-info\" style=\"border-color: green; border-radius: 5px\">\n",
    "   \n",
    "<p>Построение графика feature_importances для модели CatBoostClassifier.\n",
    "        \n",
    "Такой анализ позволяет понять насколько признаки способны спрогнозировать целевую переменную. \n",
    "                \n",
    "- лучшее понимание данных\n",
    "        \n",
    "- лучшее понимание модели\n",
    "        \n",
    "- возможность уменьшить количество признаков - особенно важно для большого объема данных, тяжелых моделей, в случаях когда нужна высокая скорость обучения/сокращение времени,\n",
    "        \n",
    "    </p>\n",
    "</div>"
   ]
  },
  {
   "cell_type": "code",
   "execution_count": 75,
   "metadata": {},
   "outputs": [
    {
     "data": {
      "text/html": [
       "<div>\n",
       "<style scoped>\n",
       "    .dataframe tbody tr th:only-of-type {\n",
       "        vertical-align: middle;\n",
       "    }\n",
       "\n",
       "    .dataframe tbody tr th {\n",
       "        vertical-align: top;\n",
       "    }\n",
       "\n",
       "    .dataframe thead th {\n",
       "        text-align: right;\n",
       "    }\n",
       "</style>\n",
       "<table border=\"1\" class=\"dataframe\">\n",
       "  <thead>\n",
       "    <tr style=\"text-align: right;\">\n",
       "      <th></th>\n",
       "      <th>feature</th>\n",
       "      <th>importance</th>\n",
       "    </tr>\n",
       "  </thead>\n",
       "  <tbody>\n",
       "    <tr>\n",
       "      <th>0</th>\n",
       "      <td>total_charges</td>\n",
       "      <td>25.674148</td>\n",
       "    </tr>\n",
       "    <tr>\n",
       "      <th>1</th>\n",
       "      <td>type_Two year</td>\n",
       "      <td>23.811895</td>\n",
       "    </tr>\n",
       "    <tr>\n",
       "      <th>2</th>\n",
       "      <td>internet_service_Fiber optic</td>\n",
       "      <td>19.651871</td>\n",
       "    </tr>\n",
       "    <tr>\n",
       "      <th>3</th>\n",
       "      <td>payment_method_Electronic check</td>\n",
       "      <td>8.923034</td>\n",
       "    </tr>\n",
       "    <tr>\n",
       "      <th>4</th>\n",
       "      <td>type_One year</td>\n",
       "      <td>7.389263</td>\n",
       "    </tr>\n",
       "    <tr>\n",
       "      <th>5</th>\n",
       "      <td>monthly_charges</td>\n",
       "      <td>7.155727</td>\n",
       "    </tr>\n",
       "    <tr>\n",
       "      <th>6</th>\n",
       "      <td>streaming_movies_Yes</td>\n",
       "      <td>3.658564</td>\n",
       "    </tr>\n",
       "    <tr>\n",
       "      <th>7</th>\n",
       "      <td>streaming_tv_Yes</td>\n",
       "      <td>1.058775</td>\n",
       "    </tr>\n",
       "    <tr>\n",
       "      <th>8</th>\n",
       "      <td>senior_citizen</td>\n",
       "      <td>0.710070</td>\n",
       "    </tr>\n",
       "    <tr>\n",
       "      <th>9</th>\n",
       "      <td>paper_less_billing_Yes</td>\n",
       "      <td>0.541210</td>\n",
       "    </tr>\n",
       "    <tr>\n",
       "      <th>10</th>\n",
       "      <td>multiple_lines_Yes</td>\n",
       "      <td>0.447043</td>\n",
       "    </tr>\n",
       "    <tr>\n",
       "      <th>11</th>\n",
       "      <td>online_security_Yes</td>\n",
       "      <td>0.261737</td>\n",
       "    </tr>\n",
       "    <tr>\n",
       "      <th>12</th>\n",
       "      <td>dependents_Yes</td>\n",
       "      <td>0.190903</td>\n",
       "    </tr>\n",
       "    <tr>\n",
       "      <th>13</th>\n",
       "      <td>device_protection_Yes</td>\n",
       "      <td>0.181876</td>\n",
       "    </tr>\n",
       "    <tr>\n",
       "      <th>14</th>\n",
       "      <td>tech_support_Yes</td>\n",
       "      <td>0.146891</td>\n",
       "    </tr>\n",
       "    <tr>\n",
       "      <th>15</th>\n",
       "      <td>partner_Yes</td>\n",
       "      <td>0.113637</td>\n",
       "    </tr>\n",
       "    <tr>\n",
       "      <th>16</th>\n",
       "      <td>payment_method_Mailed check</td>\n",
       "      <td>0.065232</td>\n",
       "    </tr>\n",
       "    <tr>\n",
       "      <th>17</th>\n",
       "      <td>payment_method_Credit card (automatic)</td>\n",
       "      <td>0.018123</td>\n",
       "    </tr>\n",
       "    <tr>\n",
       "      <th>18</th>\n",
       "      <td>gender_Male</td>\n",
       "      <td>0.000000</td>\n",
       "    </tr>\n",
       "    <tr>\n",
       "      <th>19</th>\n",
       "      <td>online_backup_Yes</td>\n",
       "      <td>0.000000</td>\n",
       "    </tr>\n",
       "  </tbody>\n",
       "</table>\n",
       "</div>"
      ],
      "text/plain": [
       "                                   feature  importance\n",
       "0                            total_charges   25.674148\n",
       "1                            type_Two year   23.811895\n",
       "2             internet_service_Fiber optic   19.651871\n",
       "3          payment_method_Electronic check    8.923034\n",
       "4                            type_One year    7.389263\n",
       "5                          monthly_charges    7.155727\n",
       "6                     streaming_movies_Yes    3.658564\n",
       "7                         streaming_tv_Yes    1.058775\n",
       "8                           senior_citizen    0.710070\n",
       "9                   paper_less_billing_Yes    0.541210\n",
       "10                      multiple_lines_Yes    0.447043\n",
       "11                     online_security_Yes    0.261737\n",
       "12                          dependents_Yes    0.190903\n",
       "13                   device_protection_Yes    0.181876\n",
       "14                        tech_support_Yes    0.146891\n",
       "15                             partner_Yes    0.113637\n",
       "16             payment_method_Mailed check    0.065232\n",
       "17  payment_method_Credit card (automatic)    0.018123\n",
       "18                             gender_Male    0.000000\n",
       "19                       online_backup_Yes    0.000000"
      ]
     },
     "execution_count": 75,
     "metadata": {},
     "output_type": "execute_result"
    }
   ],
   "source": [
    "importances_cbc = model_cbc.feature_importances_\n",
    "feature_list = list(x_train.columns)\n",
    "\n",
    "feature_results = pd.DataFrame({'feature': feature_list,\n",
    "                                'importance': importances_cbc,})\n",
    "\n",
    "feature_results = feature_results.sort_values('importance',ascending = False).reset_index(drop=True)\n",
    "feature_results"
   ]
  },
  {
   "cell_type": "code",
   "execution_count": 77,
   "metadata": {},
   "outputs": [
    {
     "data": {
      "image/png": "[encoded data removed]",
      "text/plain": [
       "<Figure size 1152x648 with 1 Axes>"
      ]
     },
     "metadata": {},
     "output_type": "display_data"
    }
   ],
   "source": [
    "importances_cbc = np.sort(importances_cbc)[::-1]\n",
    "fig, ax = plt.subplots(figsize=(16, 9))\n",
    " \n",
    "ax.barh(feature_list, importances_cbc)\n",
    "  \n",
    "for s in ['top', 'bottom', 'left', 'right']:\n",
    "    ax.spines[s].set_visible(False)\n",
    "  \n",
    "ax.xaxis.set_ticks_position('none')\n",
    "ax.yaxis.set_ticks_position('none')\n",
    "  \n",
    "# Add padding between axes and labels\n",
    "ax.xaxis.set_tick_params(pad=5)\n",
    "ax.yaxis.set_tick_params(pad=10)\n",
    "  \n",
    "# Add x, y gridlines\n",
    "ax.grid(b=True, color='grey',\n",
    "        linestyle='-.', linewidth=0.5,\n",
    "        alpha=0.2)\n",
    "  \n",
    "# Show top values\n",
    "ax.invert_yaxis()\n",
    "  \n",
    "# Add annotation to bars\n",
    "for i in ax.patches:\n",
    "    plt.text(i.get_width()+0.2, i.get_y()+0.5,\n",
    "             str(round((i.get_width()), 2)),\n",
    "             fontsize=10, fontweight='bold',\n",
    "             color='grey')\n",
    "\n",
    "ax.set_title('Feature Importances',\n",
    "             loc='left', size=30 )\n",
    "\n",
    "plt.show()"
   ]
  },
  {
   "cell_type": "raw",
   "metadata": {},
   "source": [
    "Анализ Feature Importances на примере модели CatBoost позволил наглядно продемонстрировать степень влияния признаков датасета на целевой и способность прогнозировать его, целевой признак. Сортировка по убывающей помогает визуально отсечь не важные признаки. В данном случае \n",
    "\n",
    "'payment_method_Credit card (automatic)'\n",
    "'payment_method_Electronic check',\n",
    "'payment_method_Mailed check',\n",
    "'gender_Male',\n",
    "'partner_Yes',\n",
    "'dependents_Yes',\n",
    "'internet_service_Fiber optic',\n",
    "'online_security_Yes',\n",
    "'online_backup_Yes',\n",
    "'device_protection_Yes',\n",
    "'tech_support_Yes',\n",
    "'streaming_tv_Yes',\n",
    "'streaming_movies_Yes',\n",
    "'multiple_lines_Yes'\n",
    " \n",
    " Здесь четко видно границу разности влияния."
   ]
  },
  {
   "cell_type": "markdown",
   "metadata": {},
   "source": [
    "**************"
   ]
  },
  {
   "cell_type": "markdown",
   "metadata": {},
   "source": [
    "## Вывод"
   ]
  },
  {
   "cell_type": "markdown",
   "metadata": {},
   "source": [
    "С целью прогнозирования оттока клиентов оператора связи «Ниединогоразрыва.ком», в ходе анализа и обработки персональных данных \n",
    "\n",
    "некоторых клиентов, информацию об их тарифах и договорах, проведено обучение 5ти моделей классификации. Модели оценивалось метриками roc_auc и accuracy. Уровень качества моделей позволяет провести прогноз возможного оттока клиентов и скорректировать его, в случае если он добровольный. Сделать это можно предложив промокоды и специальные условия, что поможет повысить лояльность пользователя.\n",
    "\n",
    "Наивысшее качество оказалось у модели 'Градиентный бустинг' roc_auc = 0.9, далее \n",
    "\n",
    "'CatBoost' 0.84\n",
    "\n",
    "'Дерево решений' 0.704\n",
    "\n",
    "'Случайный лес' 0.687\n",
    "\n",
    "'Логистическая регрессия' 0.664\n",
    "\n",
    "Модели 'Дерево решений', 'Случайный лес' требуют небольшого улучшения. Модели'Градиентный бустинг', 'CatBoost', 'Логистическая регрессия' в разной степени с учетом конкретной ситуации примлемого качества и могут выполнить прогноз оттока."
   ]
  },
  {
   "cell_type": "code",
   "execution_count": 81,
   "metadata": {},
   "outputs": [
    {
     "data": {
      "text/html": [
       "<div>\n",
       "<style scoped>\n",
       "    .dataframe tbody tr th:only-of-type {\n",
       "        vertical-align: middle;\n",
       "    }\n",
       "\n",
       "    .dataframe tbody tr th {\n",
       "        vertical-align: top;\n",
       "    }\n",
       "\n",
       "    .dataframe thead th {\n",
       "        text-align: right;\n",
       "    }\n",
       "</style>\n",
       "<table border=\"1\" class=\"dataframe\">\n",
       "  <thead>\n",
       "    <tr style=\"text-align: right;\">\n",
       "      <th></th>\n",
       "      <th>roc_auc</th>\n",
       "      <th>accuracy</th>\n",
       "    </tr>\n",
       "  </thead>\n",
       "  <tbody>\n",
       "    <tr>\n",
       "      <th>Градиентный бустинг</th>\n",
       "      <td>0.9</td>\n",
       "      <td></td>\n",
       "    </tr>\n",
       "    <tr>\n",
       "      <th>CatBoost</th>\n",
       "      <td>0.84</td>\n",
       "      <td></td>\n",
       "    </tr>\n",
       "    <tr>\n",
       "      <th>Логистическая регрессия</th>\n",
       "      <td>0.694</td>\n",
       "      <td>0.786</td>\n",
       "    </tr>\n",
       "    <tr>\n",
       "      <th>Случайный лес</th>\n",
       "      <td>0.686</td>\n",
       "      <td>0.794</td>\n",
       "    </tr>\n",
       "    <tr>\n",
       "      <th>Дерево решений</th>\n",
       "      <td>0.679</td>\n",
       "      <td>0.76</td>\n",
       "    </tr>\n",
       "  </tbody>\n",
       "</table>\n",
       "</div>"
      ],
      "text/plain": [
       "                        roc_auc accuracy\n",
       "Градиентный бустинг         0.9         \n",
       "CatBoost                   0.84         \n",
       "Логистическая регрессия   0.694    0.786\n",
       "Случайный лес             0.686    0.794\n",
       "Дерево решений            0.679     0.76"
      ]
     },
     "execution_count": 81,
     "metadata": {},
     "output_type": "execute_result"
    }
   ],
   "source": [
    "tab = pd.DataFrame(np.array([\n",
    "                             [0.9, ''],\n",
    "                             [0.84, ''],\n",
    "                             [roc_auc_dtc, accuracy_score_dtc],\n",
    "                             [roc_auc_rfc, accuracy_score_lrfc],\n",
    "                             [roc_auc_lr, accuracy_score_lr]\n",
    "                            ]),\n",
    "                   columns=['roc_auc', 'accuracy'],\n",
    "                   index =['Градиентный бустинг','CatBoost','Дерево решений','Случайный лес', 'Логистическая регрессия'])\n",
    "tab.sort_values(ascending=False, by = 'roc_auc')"
   ]
  },
  {
   "cell_type": "markdown",
   "metadata": {},
   "source": [
    "**************"
   ]
  }
 ],
 "metadata": {
  "ExecuteTimeLog": [
   {
    "duration": 9724,
    "start_time": "2022-05-22T15:13:50.449Z"
   },
   {
    "duration": 1523,
    "start_time": "2022-05-22T15:28:28.179Z"
   },
   {
    "duration": 56,
    "start_time": "2022-05-22T15:28:59.097Z"
   },
   {
    "duration": 25,
    "start_time": "2022-05-22T15:28:59.370Z"
   },
   {
    "duration": 53,
    "start_time": "2022-05-22T15:28:59.641Z"
   },
   {
    "duration": 20,
    "start_time": "2022-05-22T15:28:59.888Z"
   },
   {
    "duration": 42,
    "start_time": "2022-05-22T15:29:00.184Z"
   },
   {
    "duration": 18,
    "start_time": "2022-05-22T15:29:00.465Z"
   },
   {
    "duration": 66,
    "start_time": "2022-05-22T15:29:03.524Z"
   },
   {
    "duration": 7,
    "start_time": "2022-05-22T15:29:04.132Z"
   },
   {
    "duration": 48,
    "start_time": "2022-05-22T15:29:11.540Z"
   },
   {
    "duration": 17,
    "start_time": "2022-05-22T15:29:14.789Z"
   },
   {
    "duration": 4,
    "start_time": "2022-05-22T15:29:23.506Z"
   },
   {
    "duration": 3,
    "start_time": "2022-05-22T15:29:29.505Z"
   },
   {
    "duration": 4,
    "start_time": "2022-05-22T15:29:29.772Z"
   },
   {
    "duration": 18,
    "start_time": "2022-05-22T15:29:37.819Z"
   },
   {
    "duration": 12,
    "start_time": "2022-05-22T15:29:59.193Z"
   },
   {
    "duration": 10,
    "start_time": "2022-05-22T15:29:59.694Z"
   },
   {
    "duration": 9,
    "start_time": "2022-05-22T15:30:02.168Z"
   },
   {
    "duration": 11,
    "start_time": "2022-05-22T15:30:31.760Z"
   },
   {
    "duration": 30,
    "start_time": "2022-05-22T15:30:32.222Z"
   },
   {
    "duration": 10,
    "start_time": "2022-05-22T15:30:32.618Z"
   },
   {
    "duration": 6,
    "start_time": "2022-05-22T15:30:33.400Z"
   },
   {
    "duration": 16,
    "start_time": "2022-05-22T15:30:41.320Z"
   },
   {
    "duration": 8,
    "start_time": "2022-05-22T15:30:50.277Z"
   },
   {
    "duration": 419,
    "start_time": "2022-05-22T15:30:53.074Z"
   },
   {
    "duration": 8,
    "start_time": "2022-05-22T15:31:02.269Z"
   },
   {
    "duration": 278,
    "start_time": "2022-05-22T15:31:04.497Z"
   },
   {
    "duration": 12,
    "start_time": "2022-05-22T15:32:06.292Z"
   },
   {
    "duration": 9,
    "start_time": "2022-05-22T15:32:09.765Z"
   },
   {
    "duration": 18,
    "start_time": "2022-05-22T15:32:12.823Z"
   },
   {
    "duration": 3,
    "start_time": "2022-05-22T15:32:17.330Z"
   },
   {
    "duration": 39,
    "start_time": "2022-05-22T15:32:19.565Z"
   },
   {
    "duration": 3,
    "start_time": "2022-05-22T15:32:33.698Z"
   },
   {
    "duration": 6,
    "start_time": "2022-05-22T15:32:36.265Z"
   },
   {
    "duration": 7,
    "start_time": "2022-05-22T15:32:41.767Z"
   },
   {
    "duration": 5,
    "start_time": "2022-05-22T15:32:44.968Z"
   },
   {
    "duration": 9,
    "start_time": "2022-05-22T15:32:53.168Z"
   },
   {
    "duration": 5,
    "start_time": "2022-05-22T15:33:28.630Z"
   },
   {
    "duration": 6,
    "start_time": "2022-05-22T15:33:29.086Z"
   },
   {
    "duration": 6,
    "start_time": "2022-05-22T15:33:30.627Z"
   },
   {
    "duration": 4,
    "start_time": "2022-05-22T15:33:31.684Z"
   },
   {
    "duration": 14,
    "start_time": "2022-05-22T15:33:33.660Z"
   },
   {
    "duration": 10,
    "start_time": "2022-05-22T15:33:38.670Z"
   },
   {
    "duration": 280,
    "start_time": "2022-05-22T15:33:40.746Z"
   },
   {
    "duration": 7,
    "start_time": "2022-05-22T15:33:46.569Z"
   },
   {
    "duration": 10,
    "start_time": "2022-05-22T15:33:48.578Z"
   },
   {
    "duration": 260,
    "start_time": "2022-05-22T15:33:51.569Z"
   },
   {
    "duration": 400,
    "start_time": "2022-05-22T15:33:57.928Z"
   },
   {
    "duration": 14,
    "start_time": "2022-05-22T15:34:04.265Z"
   },
   {
    "duration": 6,
    "start_time": "2022-05-22T15:34:37.869Z"
   },
   {
    "duration": 32,
    "start_time": "2022-05-22T15:34:41.204Z"
   },
   {
    "duration": 3,
    "start_time": "2022-05-22T15:34:46.769Z"
   },
   {
    "duration": 3,
    "start_time": "2022-05-22T15:34:47.325Z"
   },
   {
    "duration": 8,
    "start_time": "2022-05-22T15:34:47.828Z"
   },
   {
    "duration": 9,
    "start_time": "2022-05-22T15:34:48.528Z"
   },
   {
    "duration": 22,
    "start_time": "2022-05-22T15:34:57.680Z"
   },
   {
    "duration": 18,
    "start_time": "2022-05-22T15:34:59.602Z"
   },
   {
    "duration": 6,
    "start_time": "2022-05-22T15:35:08.698Z"
   },
   {
    "duration": 5,
    "start_time": "2022-05-22T15:35:12.969Z"
   },
   {
    "duration": 7,
    "start_time": "2022-05-22T15:35:20.714Z"
   },
   {
    "duration": 3,
    "start_time": "2022-05-22T15:35:22.768Z"
   },
   {
    "duration": 4,
    "start_time": "2022-05-22T15:35:26.035Z"
   },
   {
    "duration": 3,
    "start_time": "2022-05-22T15:35:30.107Z"
   },
   {
    "duration": 6812,
    "start_time": "2022-05-22T15:35:52.867Z"
   },
   {
    "duration": 1913,
    "start_time": "2022-05-22T15:35:59.813Z"
   },
   {
    "duration": 119,
    "start_time": "2022-05-22T15:36:08.392Z"
   },
   {
    "duration": 139,
    "start_time": "2022-05-22T15:36:13.788Z"
   },
   {
    "duration": 10,
    "start_time": "2022-05-22T15:36:21.237Z"
   },
   {
    "duration": 10,
    "start_time": "2022-05-22T15:36:21.739Z"
   },
   {
    "duration": 7,
    "start_time": "2022-05-22T15:36:24.704Z"
   },
   {
    "duration": 27649,
    "start_time": "2022-05-22T15:36:30.671Z"
   },
   {
    "duration": 6,
    "start_time": "2022-05-22T15:36:58.322Z"
   },
   {
    "duration": 57,
    "start_time": "2022-05-22T15:36:58.330Z"
   },
   {
    "duration": 886,
    "start_time": "2022-05-22T15:36:58.389Z"
   },
   {
    "duration": 20,
    "start_time": "2022-05-22T15:36:59.350Z"
   },
   {
    "duration": 6,
    "start_time": "2022-05-22T15:36:59.442Z"
   },
   {
    "duration": 10,
    "start_time": "2022-05-22T15:37:04.122Z"
   },
   {
    "duration": 1409,
    "start_time": "2022-05-22T19:02:49.348Z"
   },
   {
    "duration": 94,
    "start_time": "2022-05-22T19:02:53.879Z"
   },
   {
    "duration": 16,
    "start_time": "2022-05-22T19:02:54.092Z"
   },
   {
    "duration": 36,
    "start_time": "2022-05-22T19:02:54.268Z"
   },
   {
    "duration": 10,
    "start_time": "2022-05-22T19:02:54.400Z"
   },
   {
    "duration": 38,
    "start_time": "2022-05-22T19:02:54.591Z"
   },
   {
    "duration": 12,
    "start_time": "2022-05-22T19:02:54.962Z"
   },
   {
    "duration": 43,
    "start_time": "2022-05-22T19:02:55.547Z"
   },
   {
    "duration": 8,
    "start_time": "2022-05-22T19:02:56.550Z"
   },
   {
    "duration": 29,
    "start_time": "2022-05-22T19:02:57.413Z"
   },
   {
    "duration": 19,
    "start_time": "2022-05-22T19:02:57.682Z"
   },
   {
    "duration": 3,
    "start_time": "2022-05-22T19:03:42.863Z"
   },
   {
    "duration": 3,
    "start_time": "2022-05-22T19:03:44.906Z"
   },
   {
    "duration": 3,
    "start_time": "2022-05-22T19:03:45.844Z"
   },
   {
    "duration": 21,
    "start_time": "2022-05-22T19:03:47.599Z"
   },
   {
    "duration": 13,
    "start_time": "2022-05-22T19:04:06.285Z"
   },
   {
    "duration": 10,
    "start_time": "2022-05-22T19:04:07.156Z"
   },
   {
    "duration": 10,
    "start_time": "2022-05-22T19:04:07.850Z"
   },
   {
    "duration": 7,
    "start_time": "2022-05-22T19:04:09.616Z"
   },
   {
    "duration": 22,
    "start_time": "2022-05-22T19:04:09.799Z"
   },
   {
    "duration": 9,
    "start_time": "2022-05-22T19:04:09.992Z"
   },
   {
    "duration": 6,
    "start_time": "2022-05-22T19:04:10.648Z"
   },
   {
    "duration": 16,
    "start_time": "2022-05-22T19:04:13.212Z"
   },
   {
    "duration": 8,
    "start_time": "2022-05-22T19:05:22.610Z"
   },
   {
    "duration": 926,
    "start_time": "2022-05-22T19:05:23.454Z"
   },
   {
    "duration": 9,
    "start_time": "2022-05-22T19:06:41.407Z"
   },
   {
    "duration": 239,
    "start_time": "2022-05-22T19:06:42.147Z"
   },
   {
    "duration": 12,
    "start_time": "2022-05-22T19:07:03.091Z"
   },
   {
    "duration": 10,
    "start_time": "2022-05-22T19:07:04.694Z"
   },
   {
    "duration": 12,
    "start_time": "2022-05-22T19:07:05.145Z"
   },
   {
    "duration": 3,
    "start_time": "2022-05-22T19:07:06.031Z"
   },
   {
    "duration": 35,
    "start_time": "2022-05-22T19:07:06.580Z"
   },
   {
    "duration": 4,
    "start_time": "2022-05-22T19:07:47.659Z"
   },
   {
    "duration": 6,
    "start_time": "2022-05-22T19:07:48.247Z"
   },
   {
    "duration": 7,
    "start_time": "2022-05-22T19:07:54.978Z"
   },
   {
    "duration": 6,
    "start_time": "2022-05-22T19:07:56.075Z"
   },
   {
    "duration": 6,
    "start_time": "2022-05-22T19:08:19.108Z"
   },
   {
    "duration": 4,
    "start_time": "2022-05-22T19:08:20.682Z"
   },
   {
    "duration": 7,
    "start_time": "2022-05-22T19:08:21.274Z"
   },
   {
    "duration": 5,
    "start_time": "2022-05-22T19:08:22.294Z"
   },
   {
    "duration": 4,
    "start_time": "2022-05-22T19:08:22.905Z"
   },
   {
    "duration": 6,
    "start_time": "2022-05-22T19:08:23.118Z"
   },
   {
    "duration": 9,
    "start_time": "2022-05-22T19:08:24.349Z"
   },
   {
    "duration": 218,
    "start_time": "2022-05-22T19:08:24.601Z"
   },
   {
    "duration": 5,
    "start_time": "2022-05-22T19:08:25.253Z"
   },
   {
    "duration": 8,
    "start_time": "2022-05-22T19:08:25.457Z"
   },
   {
    "duration": 210,
    "start_time": "2022-05-22T19:08:25.687Z"
   },
   {
    "duration": 398,
    "start_time": "2022-05-22T19:08:27.391Z"
   },
   {
    "duration": 12,
    "start_time": "2022-05-22T19:08:27.791Z"
   },
   {
    "duration": 5,
    "start_time": "2022-05-22T19:08:38.405Z"
   },
   {
    "duration": 3,
    "start_time": "2022-05-22T19:10:13.693Z"
   },
   {
    "duration": 4,
    "start_time": "2022-05-22T19:10:14.417Z"
   },
   {
    "duration": 9,
    "start_time": "2022-05-22T19:10:15.005Z"
   },
   {
    "duration": 10,
    "start_time": "2022-05-22T19:10:15.768Z"
   },
   {
    "duration": 20,
    "start_time": "2022-05-22T19:10:25.847Z"
   },
   {
    "duration": 15,
    "start_time": "2022-05-22T19:10:26.376Z"
   },
   {
    "duration": 6,
    "start_time": "2022-05-22T19:11:48.609Z"
   },
   {
    "duration": 4,
    "start_time": "2022-05-22T19:11:49.714Z"
   },
   {
    "duration": 4,
    "start_time": "2022-05-22T19:11:51.358Z"
   },
   {
    "duration": 3,
    "start_time": "2022-05-22T19:11:51.967Z"
   },
   {
    "duration": 4,
    "start_time": "2022-05-22T19:11:52.471Z"
   },
   {
    "duration": 3,
    "start_time": "2022-05-22T19:11:53.578Z"
   },
   {
    "duration": 6351,
    "start_time": "2022-05-22T19:12:34.725Z"
   },
   {
    "duration": 1151,
    "start_time": "2022-05-22T19:12:41.096Z"
   },
   {
    "duration": 116,
    "start_time": "2022-05-22T19:12:45.357Z"
   },
   {
    "duration": 5,
    "start_time": "2022-05-22T19:12:46.021Z"
   },
   {
    "duration": 6,
    "start_time": "2022-05-22T19:12:46.752Z"
   },
   {
    "duration": 6,
    "start_time": "2022-05-22T19:12:47.356Z"
   },
   {
    "duration": 24471,
    "start_time": "2022-05-22T19:12:49.415Z"
   },
   {
    "duration": 4,
    "start_time": "2022-05-22T19:13:13.888Z"
   },
   {
    "duration": 7,
    "start_time": "2022-05-22T19:13:13.894Z"
   },
   {
    "duration": 830,
    "start_time": "2022-05-22T19:13:13.903Z"
   },
   {
    "duration": 96,
    "start_time": "2022-05-22T19:13:14.735Z"
   },
   {
    "duration": 95,
    "start_time": "2022-05-22T19:13:14.833Z"
   },
   {
    "duration": 23,
    "start_time": "2022-05-22T19:13:14.930Z"
   },
   {
    "duration": 1586,
    "start_time": "2022-05-23T12:14:58.801Z"
   },
   {
    "duration": 94,
    "start_time": "2022-05-23T12:15:00.389Z"
   },
   {
    "duration": 16,
    "start_time": "2022-05-23T12:15:00.485Z"
   },
   {
    "duration": 38,
    "start_time": "2022-05-23T12:15:00.503Z"
   },
   {
    "duration": 9,
    "start_time": "2022-05-23T12:15:00.543Z"
   },
   {
    "duration": 61,
    "start_time": "2022-05-23T12:15:00.554Z"
   },
   {
    "duration": 12,
    "start_time": "2022-05-23T12:15:00.618Z"
   },
   {
    "duration": 60,
    "start_time": "2022-05-23T12:15:00.632Z"
   },
   {
    "duration": 6,
    "start_time": "2022-05-23T12:15:00.694Z"
   },
   {
    "duration": 48,
    "start_time": "2022-05-23T12:15:00.703Z"
   },
   {
    "duration": 31,
    "start_time": "2022-05-23T12:15:00.752Z"
   },
   {
    "duration": 25,
    "start_time": "2022-05-23T12:15:00.785Z"
   },
   {
    "duration": 24,
    "start_time": "2022-05-23T12:15:00.812Z"
   },
   {
    "duration": 14,
    "start_time": "2022-05-23T12:15:00.838Z"
   },
   {
    "duration": 33,
    "start_time": "2022-05-23T12:15:00.853Z"
   },
   {
    "duration": 20,
    "start_time": "2022-05-23T12:15:00.888Z"
   },
   {
    "duration": 10,
    "start_time": "2022-05-23T12:15:04.501Z"
   },
   {
    "duration": 30,
    "start_time": "2022-05-23T12:15:53.883Z"
   },
   {
    "duration": 10,
    "start_time": "2022-05-23T12:16:51.279Z"
   },
   {
    "duration": 6,
    "start_time": "2022-05-23T12:39:24.645Z"
   },
   {
    "duration": 51,
    "start_time": "2022-05-23T12:39:24.653Z"
   },
   {
    "duration": 11,
    "start_time": "2022-05-23T12:39:24.706Z"
   },
   {
    "duration": 16,
    "start_time": "2022-05-23T12:39:24.720Z"
   },
   {
    "duration": 9,
    "start_time": "2022-05-23T12:39:24.739Z"
   },
   {
    "duration": 27,
    "start_time": "2022-05-23T12:39:24.751Z"
   },
   {
    "duration": 11,
    "start_time": "2022-05-23T12:39:24.782Z"
   },
   {
    "duration": 17,
    "start_time": "2022-05-23T12:39:24.795Z"
   },
   {
    "duration": 8,
    "start_time": "2022-05-23T12:39:24.814Z"
   },
   {
    "duration": 51,
    "start_time": "2022-05-23T12:39:24.823Z"
   },
   {
    "duration": 30,
    "start_time": "2022-05-23T12:39:24.878Z"
   },
   {
    "duration": 6,
    "start_time": "2022-05-23T12:39:24.910Z"
   },
   {
    "duration": 9,
    "start_time": "2022-05-23T12:39:24.918Z"
   },
   {
    "duration": 7,
    "start_time": "2022-05-23T12:39:24.930Z"
   },
   {
    "duration": 61,
    "start_time": "2022-05-23T12:39:24.938Z"
   },
   {
    "duration": 18,
    "start_time": "2022-05-23T12:39:25.001Z"
   },
   {
    "duration": 38,
    "start_time": "2022-05-23T12:39:25.022Z"
   },
   {
    "duration": 16,
    "start_time": "2022-05-23T12:39:25.061Z"
   },
   {
    "duration": 18,
    "start_time": "2022-05-23T12:39:25.079Z"
   },
   {
    "duration": 29,
    "start_time": "2022-05-23T12:39:25.099Z"
   },
   {
    "duration": 12,
    "start_time": "2022-05-23T12:39:25.130Z"
   },
   {
    "duration": 34,
    "start_time": "2022-05-23T12:39:25.144Z"
   },
   {
    "duration": 32,
    "start_time": "2022-05-23T12:39:25.180Z"
   },
   {
    "duration": 12,
    "start_time": "2022-05-23T12:39:25.214Z"
   },
   {
    "duration": 720,
    "start_time": "2022-05-23T12:39:25.229Z"
   },
   {
    "duration": 7,
    "start_time": "2022-05-23T12:40:00.377Z"
   },
   {
    "duration": 56,
    "start_time": "2022-05-23T12:40:00.386Z"
   },
   {
    "duration": 13,
    "start_time": "2022-05-23T12:40:00.444Z"
   },
   {
    "duration": 41,
    "start_time": "2022-05-23T12:40:00.460Z"
   },
   {
    "duration": 11,
    "start_time": "2022-05-23T12:40:00.503Z"
   },
   {
    "duration": 32,
    "start_time": "2022-05-23T12:40:00.516Z"
   },
   {
    "duration": 29,
    "start_time": "2022-05-23T12:40:00.550Z"
   },
   {
    "duration": 42,
    "start_time": "2022-05-23T12:40:00.582Z"
   },
   {
    "duration": 21,
    "start_time": "2022-05-23T12:40:00.627Z"
   },
   {
    "duration": 64,
    "start_time": "2022-05-23T12:40:00.650Z"
   },
   {
    "duration": 24,
    "start_time": "2022-05-23T12:40:00.716Z"
   },
   {
    "duration": 17,
    "start_time": "2022-05-23T12:40:00.742Z"
   },
   {
    "duration": 40,
    "start_time": "2022-05-23T12:40:00.760Z"
   },
   {
    "duration": 33,
    "start_time": "2022-05-23T12:40:00.802Z"
   },
   {
    "duration": 46,
    "start_time": "2022-05-23T12:40:00.837Z"
   },
   {
    "duration": 30,
    "start_time": "2022-05-23T12:40:00.885Z"
   },
   {
    "duration": 74,
    "start_time": "2022-05-23T12:40:00.917Z"
   },
   {
    "duration": 40,
    "start_time": "2022-05-23T12:40:00.993Z"
   },
   {
    "duration": 55,
    "start_time": "2022-05-23T12:40:01.035Z"
   },
   {
    "duration": 41,
    "start_time": "2022-05-23T12:40:01.092Z"
   },
   {
    "duration": 11,
    "start_time": "2022-05-23T12:40:01.135Z"
   },
   {
    "duration": 44,
    "start_time": "2022-05-23T12:40:01.148Z"
   },
   {
    "duration": 38,
    "start_time": "2022-05-23T12:40:01.194Z"
   },
   {
    "duration": 18,
    "start_time": "2022-05-23T12:40:01.238Z"
   },
   {
    "duration": 358,
    "start_time": "2022-05-23T12:40:01.259Z"
   },
   {
    "duration": 11,
    "start_time": "2022-05-23T12:40:01.619Z"
   },
   {
    "duration": 352,
    "start_time": "2022-05-23T12:40:01.632Z"
   },
   {
    "duration": 15,
    "start_time": "2022-05-23T12:40:01.986Z"
   },
   {
    "duration": 12,
    "start_time": "2022-05-23T12:40:02.004Z"
   },
   {
    "duration": 23,
    "start_time": "2022-05-23T12:40:02.018Z"
   },
   {
    "duration": 43,
    "start_time": "2022-05-23T12:40:02.043Z"
   },
   {
    "duration": 59,
    "start_time": "2022-05-23T12:40:02.088Z"
   },
   {
    "duration": 5,
    "start_time": "2022-05-23T12:40:02.149Z"
   },
   {
    "duration": 10,
    "start_time": "2022-05-23T12:40:02.155Z"
   },
   {
    "duration": 31,
    "start_time": "2022-05-23T12:40:02.166Z"
   },
   {
    "duration": 10,
    "start_time": "2022-05-23T12:40:02.199Z"
   },
   {
    "duration": 24,
    "start_time": "2022-05-23T12:40:02.212Z"
   },
   {
    "duration": 22,
    "start_time": "2022-05-23T12:40:02.238Z"
   },
   {
    "duration": 28,
    "start_time": "2022-05-23T12:40:02.262Z"
   },
   {
    "duration": 20,
    "start_time": "2022-05-23T12:40:02.292Z"
   },
   {
    "duration": 10,
    "start_time": "2022-05-23T12:40:02.314Z"
   },
   {
    "duration": 19,
    "start_time": "2022-05-23T12:40:02.326Z"
   },
   {
    "duration": 20,
    "start_time": "2022-05-23T12:40:02.347Z"
   },
   {
    "duration": 327,
    "start_time": "2022-05-23T12:40:02.369Z"
   },
   {
    "duration": 5,
    "start_time": "2022-05-23T12:40:02.698Z"
   },
   {
    "duration": 14,
    "start_time": "2022-05-23T12:40:02.705Z"
   },
   {
    "duration": 298,
    "start_time": "2022-05-23T12:40:02.721Z"
   },
   {
    "duration": 595,
    "start_time": "2022-05-23T12:40:03.021Z"
   },
   {
    "duration": 12,
    "start_time": "2022-05-23T12:40:03.618Z"
   },
   {
    "duration": 6,
    "start_time": "2022-05-23T12:40:03.632Z"
   },
   {
    "duration": 16,
    "start_time": "2022-05-23T12:40:03.639Z"
   },
   {
    "duration": 22,
    "start_time": "2022-05-23T12:40:03.664Z"
   },
   {
    "duration": 26,
    "start_time": "2022-05-23T12:40:03.688Z"
   },
   {
    "duration": 16,
    "start_time": "2022-05-23T12:40:03.716Z"
   },
   {
    "duration": 28,
    "start_time": "2022-05-23T12:40:03.734Z"
   },
   {
    "duration": 26,
    "start_time": "2022-05-23T12:40:03.764Z"
   },
   {
    "duration": 26,
    "start_time": "2022-05-23T12:40:03.792Z"
   },
   {
    "duration": 5,
    "start_time": "2022-05-23T12:40:03.820Z"
   },
   {
    "duration": 10,
    "start_time": "2022-05-23T12:40:03.827Z"
   },
   {
    "duration": 10,
    "start_time": "2022-05-23T12:40:03.839Z"
   },
   {
    "duration": 12,
    "start_time": "2022-05-23T12:40:03.851Z"
   },
   {
    "duration": 20,
    "start_time": "2022-05-23T12:40:03.866Z"
   },
   {
    "duration": 7371,
    "start_time": "2022-05-23T12:40:03.888Z"
   },
   {
    "duration": 1350,
    "start_time": "2022-05-23T12:40:11.261Z"
   },
   {
    "duration": 138,
    "start_time": "2022-05-23T12:40:12.612Z"
   },
   {
    "duration": 12,
    "start_time": "2022-05-23T12:40:12.752Z"
   },
   {
    "duration": 12,
    "start_time": "2022-05-23T12:40:12.771Z"
   },
   {
    "duration": 12,
    "start_time": "2022-05-23T12:40:12.784Z"
   },
   {
    "duration": 29743,
    "start_time": "2022-05-23T12:40:12.801Z"
   },
   {
    "duration": 8,
    "start_time": "2022-05-23T12:40:42.546Z"
   },
   {
    "duration": 10,
    "start_time": "2022-05-23T12:40:42.574Z"
   },
   {
    "duration": 301,
    "start_time": "2022-05-23T12:40:42.587Z"
   },
   {
    "duration": 22,
    "start_time": "2022-05-23T12:40:42.967Z"
   },
   {
    "duration": 19,
    "start_time": "2022-05-23T12:40:43.069Z"
   },
   {
    "duration": 12,
    "start_time": "2022-05-23T12:40:43.090Z"
   },
   {
    "duration": 12,
    "start_time": "2022-05-23T12:44:20.562Z"
   },
   {
    "duration": 3,
    "start_time": "2022-05-23T12:44:21.263Z"
   },
   {
    "duration": 10,
    "start_time": "2022-05-23T12:44:21.787Z"
   },
   {
    "duration": 10,
    "start_time": "2022-05-23T12:44:22.343Z"
   },
   {
    "duration": 1454,
    "start_time": "2022-05-23T12:46:34.126Z"
   },
   {
    "duration": 45,
    "start_time": "2022-05-23T12:46:35.583Z"
   },
   {
    "duration": 17,
    "start_time": "2022-05-23T12:46:35.630Z"
   },
   {
    "duration": 20,
    "start_time": "2022-05-23T12:46:35.650Z"
   },
   {
    "duration": 27,
    "start_time": "2022-05-23T12:46:35.673Z"
   },
   {
    "duration": 30,
    "start_time": "2022-05-23T12:46:35.702Z"
   },
   {
    "duration": 17,
    "start_time": "2022-05-23T12:46:35.734Z"
   },
   {
    "duration": 29,
    "start_time": "2022-05-23T12:46:35.753Z"
   },
   {
    "duration": 13,
    "start_time": "2022-05-23T12:46:35.790Z"
   },
   {
    "duration": 37,
    "start_time": "2022-05-23T12:46:35.806Z"
   },
   {
    "duration": 22,
    "start_time": "2022-05-23T12:46:35.846Z"
   },
   {
    "duration": 28,
    "start_time": "2022-05-23T12:46:35.870Z"
   },
   {
    "duration": 9,
    "start_time": "2022-05-23T12:46:35.900Z"
   },
   {
    "duration": 9,
    "start_time": "2022-05-23T12:46:35.911Z"
   },
   {
    "duration": 27,
    "start_time": "2022-05-23T12:46:35.921Z"
   },
   {
    "duration": 13,
    "start_time": "2022-05-23T12:46:35.950Z"
   },
   {
    "duration": 56,
    "start_time": "2022-05-23T12:46:35.966Z"
   },
   {
    "duration": 11,
    "start_time": "2022-05-23T12:46:36.024Z"
   },
   {
    "duration": 19,
    "start_time": "2022-05-23T12:46:36.037Z"
   },
   {
    "duration": 35,
    "start_time": "2022-05-23T12:46:36.058Z"
   },
   {
    "duration": 16,
    "start_time": "2022-05-23T12:46:36.095Z"
   },
   {
    "duration": 10,
    "start_time": "2022-05-23T12:46:36.113Z"
   },
   {
    "duration": 46,
    "start_time": "2022-05-23T12:46:36.124Z"
   },
   {
    "duration": 12,
    "start_time": "2022-05-23T12:46:36.174Z"
   },
   {
    "duration": 333,
    "start_time": "2022-05-23T12:46:36.188Z"
   },
   {
    "duration": 9,
    "start_time": "2022-05-23T12:46:36.523Z"
   },
   {
    "duration": 357,
    "start_time": "2022-05-23T12:46:36.534Z"
   },
   {
    "duration": 15,
    "start_time": "2022-05-23T12:46:36.895Z"
   },
   {
    "duration": 14,
    "start_time": "2022-05-23T12:46:36.912Z"
   },
   {
    "duration": 52,
    "start_time": "2022-05-23T12:46:36.928Z"
   },
   {
    "duration": 9,
    "start_time": "2022-05-23T12:46:36.982Z"
   },
   {
    "duration": 47,
    "start_time": "2022-05-23T12:46:36.993Z"
   },
   {
    "duration": 3,
    "start_time": "2022-05-23T12:46:37.042Z"
   },
   {
    "duration": 12,
    "start_time": "2022-05-23T12:46:37.070Z"
   },
   {
    "duration": 22,
    "start_time": "2022-05-23T12:46:37.084Z"
   },
   {
    "duration": 8,
    "start_time": "2022-05-23T12:46:37.108Z"
   },
   {
    "duration": 7,
    "start_time": "2022-05-23T12:46:37.118Z"
   },
   {
    "duration": 10,
    "start_time": "2022-05-23T12:46:37.127Z"
   },
   {
    "duration": 10,
    "start_time": "2022-05-23T12:46:37.139Z"
   },
   {
    "duration": 18,
    "start_time": "2022-05-23T12:46:37.151Z"
   },
   {
    "duration": 8,
    "start_time": "2022-05-23T12:46:37.172Z"
   },
   {
    "duration": 8,
    "start_time": "2022-05-23T12:46:37.183Z"
   },
   {
    "duration": 9,
    "start_time": "2022-05-23T12:46:37.193Z"
   },
   {
    "duration": 343,
    "start_time": "2022-05-23T12:46:37.204Z"
   },
   {
    "duration": 5,
    "start_time": "2022-05-23T12:46:37.549Z"
   },
   {
    "duration": 19,
    "start_time": "2022-05-23T12:46:37.555Z"
   },
   {
    "duration": 317,
    "start_time": "2022-05-23T12:46:37.576Z"
   },
   {
    "duration": 401,
    "start_time": "2022-05-23T12:46:37.894Z"
   },
   {
    "duration": 14,
    "start_time": "2022-05-23T12:46:38.297Z"
   },
   {
    "duration": 6,
    "start_time": "2022-05-23T12:46:38.312Z"
   },
   {
    "duration": 169,
    "start_time": "2022-05-23T12:46:38.320Z"
   },
   {
    "duration": 0,
    "start_time": "2022-05-23T12:46:38.491Z"
   },
   {
    "duration": 0,
    "start_time": "2022-05-23T12:46:38.492Z"
   },
   {
    "duration": 0,
    "start_time": "2022-05-23T12:46:38.493Z"
   },
   {
    "duration": 0,
    "start_time": "2022-05-23T12:46:38.495Z"
   },
   {
    "duration": 5,
    "start_time": "2022-05-23T12:49:17.145Z"
   },
   {
    "duration": 50,
    "start_time": "2022-05-23T12:49:17.156Z"
   },
   {
    "duration": 12,
    "start_time": "2022-05-23T12:49:17.208Z"
   },
   {
    "duration": 21,
    "start_time": "2022-05-23T12:49:17.222Z"
   },
   {
    "duration": 9,
    "start_time": "2022-05-23T12:49:17.245Z"
   },
   {
    "duration": 26,
    "start_time": "2022-05-23T12:49:17.257Z"
   },
   {
    "duration": 12,
    "start_time": "2022-05-23T12:49:17.286Z"
   },
   {
    "duration": 18,
    "start_time": "2022-05-23T12:49:17.300Z"
   },
   {
    "duration": 8,
    "start_time": "2022-05-23T12:49:17.319Z"
   },
   {
    "duration": 56,
    "start_time": "2022-05-23T12:49:17.329Z"
   },
   {
    "duration": 20,
    "start_time": "2022-05-23T12:49:17.388Z"
   },
   {
    "duration": 16,
    "start_time": "2022-05-23T12:49:17.410Z"
   },
   {
    "duration": 9,
    "start_time": "2022-05-23T12:49:17.428Z"
   },
   {
    "duration": 11,
    "start_time": "2022-05-23T12:49:17.439Z"
   },
   {
    "duration": 30,
    "start_time": "2022-05-23T12:49:17.468Z"
   },
   {
    "duration": 23,
    "start_time": "2022-05-23T12:49:17.500Z"
   },
   {
    "duration": 64,
    "start_time": "2022-05-23T12:49:17.525Z"
   },
   {
    "duration": 11,
    "start_time": "2022-05-23T12:49:17.590Z"
   },
   {
    "duration": 9,
    "start_time": "2022-05-23T12:49:17.603Z"
   },
   {
    "duration": 27,
    "start_time": "2022-05-23T12:49:17.614Z"
   },
   {
    "duration": 23,
    "start_time": "2022-05-23T12:49:17.643Z"
   },
   {
    "duration": 11,
    "start_time": "2022-05-23T12:49:17.669Z"
   },
   {
    "duration": 22,
    "start_time": "2022-05-23T12:49:17.683Z"
   },
   {
    "duration": 9,
    "start_time": "2022-05-23T12:49:17.706Z"
   },
   {
    "duration": 431,
    "start_time": "2022-05-23T12:49:17.717Z"
   },
   {
    "duration": 16,
    "start_time": "2022-05-23T12:49:18.150Z"
   },
   {
    "duration": 302,
    "start_time": "2022-05-23T12:49:18.168Z"
   },
   {
    "duration": 16,
    "start_time": "2022-05-23T12:49:18.473Z"
   },
   {
    "duration": 11,
    "start_time": "2022-05-23T12:49:18.491Z"
   },
   {
    "duration": 15,
    "start_time": "2022-05-23T12:49:18.504Z"
   },
   {
    "duration": 3,
    "start_time": "2022-05-23T12:49:18.521Z"
   },
   {
    "duration": 102,
    "start_time": "2022-05-23T12:49:18.525Z"
   },
   {
    "duration": 4,
    "start_time": "2022-05-23T12:49:18.629Z"
   },
   {
    "duration": 14,
    "start_time": "2022-05-23T12:49:18.635Z"
   },
   {
    "duration": 15,
    "start_time": "2022-05-23T12:49:18.651Z"
   },
   {
    "duration": 8,
    "start_time": "2022-05-23T12:49:18.668Z"
   },
   {
    "duration": 20,
    "start_time": "2022-05-23T12:49:18.678Z"
   },
   {
    "duration": 5,
    "start_time": "2022-05-23T12:49:18.700Z"
   },
   {
    "duration": 8,
    "start_time": "2022-05-23T12:49:18.707Z"
   },
   {
    "duration": 6,
    "start_time": "2022-05-23T12:49:18.716Z"
   },
   {
    "duration": 7,
    "start_time": "2022-05-23T12:49:18.724Z"
   },
   {
    "duration": 31,
    "start_time": "2022-05-23T12:49:18.734Z"
   },
   {
    "duration": 26,
    "start_time": "2022-05-23T12:49:18.768Z"
   },
   {
    "duration": 334,
    "start_time": "2022-05-23T12:49:18.796Z"
   },
   {
    "duration": 6,
    "start_time": "2022-05-23T12:49:19.133Z"
   },
   {
    "duration": 33,
    "start_time": "2022-05-23T12:49:19.141Z"
   },
   {
    "duration": 346,
    "start_time": "2022-05-23T12:49:19.176Z"
   },
   {
    "duration": 478,
    "start_time": "2022-05-23T12:49:19.523Z"
   },
   {
    "duration": 13,
    "start_time": "2022-05-23T12:49:20.003Z"
   },
   {
    "duration": 5,
    "start_time": "2022-05-23T12:49:20.018Z"
   },
   {
    "duration": 51,
    "start_time": "2022-05-23T12:49:20.025Z"
   },
   {
    "duration": 20,
    "start_time": "2022-05-23T12:49:20.079Z"
   },
   {
    "duration": 9,
    "start_time": "2022-05-23T12:49:20.101Z"
   },
   {
    "duration": 9,
    "start_time": "2022-05-23T12:49:20.112Z"
   },
   {
    "duration": 3,
    "start_time": "2022-05-23T12:50:21.080Z"
   },
   {
    "duration": 3,
    "start_time": "2022-05-23T12:50:21.520Z"
   },
   {
    "duration": 12,
    "start_time": "2022-05-23T12:50:21.982Z"
   },
   {
    "duration": 11,
    "start_time": "2022-05-23T12:50:22.375Z"
   },
   {
    "duration": 38,
    "start_time": "2022-05-23T12:50:22.829Z"
   },
   {
    "duration": 24,
    "start_time": "2022-05-23T12:50:23.288Z"
   },
   {
    "duration": 3,
    "start_time": "2022-05-23T12:53:33.298Z"
   },
   {
    "duration": 3,
    "start_time": "2022-05-23T12:53:33.683Z"
   },
   {
    "duration": 11,
    "start_time": "2022-05-23T12:53:34.057Z"
   },
   {
    "duration": 3,
    "start_time": "2022-05-23T12:54:27.844Z"
   },
   {
    "duration": 4,
    "start_time": "2022-05-23T12:54:28.257Z"
   },
   {
    "duration": 12,
    "start_time": "2022-05-23T12:54:28.679Z"
   },
   {
    "duration": 8,
    "start_time": "2022-05-23T12:54:29.506Z"
   },
   {
    "duration": 5,
    "start_time": "2022-05-23T12:54:42.105Z"
   },
   {
    "duration": 10,
    "start_time": "2022-05-23T12:54:59.819Z"
   },
   {
    "duration": 1543,
    "start_time": "2022-05-23T14:53:08.060Z"
   },
   {
    "duration": 155,
    "start_time": "2022-05-23T14:53:09.606Z"
   },
   {
    "duration": 21,
    "start_time": "2022-05-23T14:53:09.763Z"
   },
   {
    "duration": 109,
    "start_time": "2022-05-23T14:53:09.786Z"
   },
   {
    "duration": 10,
    "start_time": "2022-05-23T14:53:09.898Z"
   },
   {
    "duration": 116,
    "start_time": "2022-05-23T14:53:09.910Z"
   },
   {
    "duration": 11,
    "start_time": "2022-05-23T14:53:10.029Z"
   },
   {
    "duration": 75,
    "start_time": "2022-05-23T14:53:10.042Z"
   },
   {
    "duration": 7,
    "start_time": "2022-05-23T14:53:10.119Z"
   },
   {
    "duration": 39,
    "start_time": "2022-05-23T14:53:10.129Z"
   },
   {
    "duration": 18,
    "start_time": "2022-05-23T14:53:10.169Z"
   },
   {
    "duration": 20,
    "start_time": "2022-05-23T14:53:10.189Z"
   },
   {
    "duration": 8,
    "start_time": "2022-05-23T14:53:10.211Z"
   },
   {
    "duration": 30,
    "start_time": "2022-05-23T14:53:10.221Z"
   },
   {
    "duration": 21,
    "start_time": "2022-05-23T14:53:10.253Z"
   },
   {
    "duration": 15,
    "start_time": "2022-05-23T14:53:10.276Z"
   },
   {
    "duration": 41,
    "start_time": "2022-05-23T14:53:10.293Z"
   },
   {
    "duration": 12,
    "start_time": "2022-05-23T14:53:10.336Z"
   },
   {
    "duration": 24,
    "start_time": "2022-05-23T14:53:10.350Z"
   },
   {
    "duration": 36,
    "start_time": "2022-05-23T14:53:10.376Z"
   },
   {
    "duration": 11,
    "start_time": "2022-05-23T14:53:10.414Z"
   },
   {
    "duration": 22,
    "start_time": "2022-05-23T14:53:10.427Z"
   },
   {
    "duration": 32,
    "start_time": "2022-05-23T14:53:10.451Z"
   },
   {
    "duration": 23,
    "start_time": "2022-05-23T14:53:10.485Z"
   },
   {
    "duration": 273,
    "start_time": "2022-05-23T14:53:10.510Z"
   },
   {
    "duration": 10,
    "start_time": "2022-05-23T14:53:10.785Z"
   },
   {
    "duration": 398,
    "start_time": "2022-05-23T14:53:10.797Z"
   },
   {
    "duration": 14,
    "start_time": "2022-05-23T14:53:11.199Z"
   },
   {
    "duration": 32,
    "start_time": "2022-05-23T14:53:11.214Z"
   },
   {
    "duration": 40,
    "start_time": "2022-05-23T14:53:11.248Z"
   },
   {
    "duration": 31,
    "start_time": "2022-05-23T14:53:11.290Z"
   },
   {
    "duration": 66,
    "start_time": "2022-05-23T14:53:11.323Z"
   },
   {
    "duration": 31,
    "start_time": "2022-05-23T14:53:18.428Z"
   },
   {
    "duration": 5,
    "start_time": "2022-05-23T14:53:24.679Z"
   },
   {
    "duration": 6,
    "start_time": "2022-05-23T14:53:25.467Z"
   },
   {
    "duration": 43,
    "start_time": "2022-05-23T14:53:29.421Z"
   },
   {
    "duration": 8,
    "start_time": "2022-05-23T14:54:02.945Z"
   },
   {
    "duration": 8,
    "start_time": "2022-05-23T14:54:04.986Z"
   },
   {
    "duration": 5,
    "start_time": "2022-05-23T14:58:52.024Z"
   },
   {
    "duration": 78,
    "start_time": "2022-05-23T14:58:52.031Z"
   },
   {
    "duration": 11,
    "start_time": "2022-05-23T14:58:52.111Z"
   },
   {
    "duration": 41,
    "start_time": "2022-05-23T14:58:52.123Z"
   },
   {
    "duration": 19,
    "start_time": "2022-05-23T14:58:52.166Z"
   },
   {
    "duration": 48,
    "start_time": "2022-05-23T14:58:52.186Z"
   },
   {
    "duration": 27,
    "start_time": "2022-05-23T14:58:52.236Z"
   },
   {
    "duration": 45,
    "start_time": "2022-05-23T14:58:52.265Z"
   },
   {
    "duration": 8,
    "start_time": "2022-05-23T14:58:52.312Z"
   },
   {
    "duration": 57,
    "start_time": "2022-05-23T14:58:52.321Z"
   },
   {
    "duration": 20,
    "start_time": "2022-05-23T14:58:52.381Z"
   },
   {
    "duration": 41,
    "start_time": "2022-05-23T14:58:52.403Z"
   },
   {
    "duration": 14,
    "start_time": "2022-05-23T14:58:52.446Z"
   },
   {
    "duration": 44,
    "start_time": "2022-05-23T14:58:52.461Z"
   },
   {
    "duration": 56,
    "start_time": "2022-05-23T14:58:52.507Z"
   },
   {
    "duration": 16,
    "start_time": "2022-05-23T14:58:52.565Z"
   },
   {
    "duration": 58,
    "start_time": "2022-05-23T14:58:52.583Z"
   },
   {
    "duration": 10,
    "start_time": "2022-05-23T14:58:52.643Z"
   },
   {
    "duration": 29,
    "start_time": "2022-05-23T14:58:52.654Z"
   },
   {
    "duration": 45,
    "start_time": "2022-05-23T14:58:52.685Z"
   },
   {
    "duration": 25,
    "start_time": "2022-05-23T14:58:52.732Z"
   },
   {
    "duration": 48,
    "start_time": "2022-05-23T14:58:52.759Z"
   },
   {
    "duration": 38,
    "start_time": "2022-05-23T14:58:52.809Z"
   },
   {
    "duration": 23,
    "start_time": "2022-05-23T14:58:52.849Z"
   },
   {
    "duration": 260,
    "start_time": "2022-05-23T14:58:52.873Z"
   },
   {
    "duration": 9,
    "start_time": "2022-05-23T14:58:53.134Z"
   },
   {
    "duration": 237,
    "start_time": "2022-05-23T14:58:53.144Z"
   },
   {
    "duration": 12,
    "start_time": "2022-05-23T14:58:53.382Z"
   },
   {
    "duration": 14,
    "start_time": "2022-05-23T14:58:53.398Z"
   },
   {
    "duration": 18,
    "start_time": "2022-05-23T14:58:53.414Z"
   },
   {
    "duration": 17,
    "start_time": "2022-05-23T14:58:53.434Z"
   },
   {
    "duration": 56,
    "start_time": "2022-05-23T14:58:53.453Z"
   },
   {
    "duration": 13,
    "start_time": "2022-05-23T14:58:53.510Z"
   },
   {
    "duration": 25,
    "start_time": "2022-05-23T14:58:53.525Z"
   },
   {
    "duration": 24,
    "start_time": "2022-05-23T14:58:53.551Z"
   },
   {
    "duration": 42,
    "start_time": "2022-05-23T14:58:53.577Z"
   },
   {
    "duration": 25,
    "start_time": "2022-05-23T14:58:53.621Z"
   },
   {
    "duration": 21,
    "start_time": "2022-05-23T14:58:53.648Z"
   },
   {
    "duration": 34,
    "start_time": "2022-05-23T14:58:53.670Z"
   },
   {
    "duration": 113,
    "start_time": "2022-05-23T14:58:53.706Z"
   },
   {
    "duration": 29,
    "start_time": "2022-05-23T14:58:53.821Z"
   },
   {
    "duration": 35,
    "start_time": "2022-05-23T14:58:53.851Z"
   },
   {
    "duration": 47,
    "start_time": "2022-05-23T14:58:53.888Z"
   },
   {
    "duration": 248,
    "start_time": "2022-05-23T14:58:53.937Z"
   },
   {
    "duration": 5,
    "start_time": "2022-05-23T14:58:54.187Z"
   },
   {
    "duration": 32,
    "start_time": "2022-05-23T14:58:54.194Z"
   },
   {
    "duration": 224,
    "start_time": "2022-05-23T14:58:54.228Z"
   },
   {
    "duration": 386,
    "start_time": "2022-05-23T14:58:54.453Z"
   },
   {
    "duration": 9,
    "start_time": "2022-05-23T14:58:54.841Z"
   },
   {
    "duration": 9,
    "start_time": "2022-05-23T14:58:54.859Z"
   },
   {
    "duration": 46,
    "start_time": "2022-05-23T14:58:54.870Z"
   },
   {
    "duration": 24,
    "start_time": "2022-05-23T14:58:54.918Z"
   },
   {
    "duration": 25,
    "start_time": "2022-05-23T14:58:54.944Z"
   },
   {
    "duration": 16,
    "start_time": "2022-05-23T14:58:54.970Z"
   },
   {
    "duration": 2,
    "start_time": "2022-05-23T14:58:59.349Z"
   },
   {
    "duration": 2,
    "start_time": "2022-05-23T14:59:00.087Z"
   },
   {
    "duration": 9,
    "start_time": "2022-05-23T14:59:00.615Z"
   },
   {
    "duration": 9,
    "start_time": "2022-05-23T14:59:12.253Z"
   },
   {
    "duration": 6,
    "start_time": "2022-05-23T14:59:13.058Z"
   },
   {
    "duration": 7,
    "start_time": "2022-05-23T14:59:13.589Z"
   },
   {
    "duration": 24,
    "start_time": "2022-05-23T14:59:27.270Z"
   },
   {
    "duration": 1295,
    "start_time": "2022-05-23T15:08:17.858Z"
   },
   {
    "duration": 49,
    "start_time": "2022-05-23T15:08:19.155Z"
   },
   {
    "duration": 14,
    "start_time": "2022-05-23T15:08:19.206Z"
   },
   {
    "duration": 38,
    "start_time": "2022-05-23T15:08:19.222Z"
   },
   {
    "duration": 13,
    "start_time": "2022-05-23T15:08:19.262Z"
   },
   {
    "duration": 35,
    "start_time": "2022-05-23T15:08:19.276Z"
   },
   {
    "duration": 10,
    "start_time": "2022-05-23T15:08:19.312Z"
   },
   {
    "duration": 21,
    "start_time": "2022-05-23T15:08:19.323Z"
   },
   {
    "duration": 6,
    "start_time": "2022-05-23T15:08:19.345Z"
   },
   {
    "duration": 33,
    "start_time": "2022-05-23T15:08:19.354Z"
   },
   {
    "duration": 21,
    "start_time": "2022-05-23T15:08:19.389Z"
   },
   {
    "duration": 17,
    "start_time": "2022-05-23T15:08:19.411Z"
   },
   {
    "duration": 14,
    "start_time": "2022-05-23T15:08:19.430Z"
   },
   {
    "duration": 10,
    "start_time": "2022-05-23T15:08:19.445Z"
   },
   {
    "duration": 29,
    "start_time": "2022-05-23T15:08:19.457Z"
   },
   {
    "duration": 26,
    "start_time": "2022-05-23T15:08:19.487Z"
   },
   {
    "duration": 51,
    "start_time": "2022-05-23T15:08:19.515Z"
   },
   {
    "duration": 12,
    "start_time": "2022-05-23T15:08:19.568Z"
   },
   {
    "duration": 6,
    "start_time": "2022-05-23T15:08:19.581Z"
   },
   {
    "duration": 24,
    "start_time": "2022-05-23T15:08:19.588Z"
   },
   {
    "duration": 21,
    "start_time": "2022-05-23T15:08:19.614Z"
   },
   {
    "duration": 31,
    "start_time": "2022-05-23T15:08:19.637Z"
   },
   {
    "duration": 19,
    "start_time": "2022-05-23T15:08:19.670Z"
   },
   {
    "duration": 9,
    "start_time": "2022-05-23T15:08:19.691Z"
   },
   {
    "duration": 278,
    "start_time": "2022-05-23T15:08:19.702Z"
   },
   {
    "duration": 9,
    "start_time": "2022-05-23T15:08:19.982Z"
   },
   {
    "duration": 275,
    "start_time": "2022-05-23T15:08:19.993Z"
   },
   {
    "duration": 11,
    "start_time": "2022-05-23T15:08:20.272Z"
   },
   {
    "duration": 11,
    "start_time": "2022-05-23T15:08:20.285Z"
   },
   {
    "duration": 14,
    "start_time": "2022-05-23T15:08:20.298Z"
   },
   {
    "duration": 4,
    "start_time": "2022-05-23T15:08:20.313Z"
   },
   {
    "duration": 72,
    "start_time": "2022-05-23T15:08:20.319Z"
   },
   {
    "duration": 3,
    "start_time": "2022-05-23T15:08:20.393Z"
   },
   {
    "duration": 14,
    "start_time": "2022-05-23T15:08:20.398Z"
   },
   {
    "duration": 23,
    "start_time": "2022-05-23T15:08:20.414Z"
   },
   {
    "duration": 14,
    "start_time": "2022-05-23T15:08:20.440Z"
   },
   {
    "duration": 20,
    "start_time": "2022-05-23T15:08:20.456Z"
   },
   {
    "duration": 10,
    "start_time": "2022-05-23T15:08:20.478Z"
   },
   {
    "duration": 32,
    "start_time": "2022-05-23T15:08:20.490Z"
   },
   {
    "duration": 20,
    "start_time": "2022-05-23T15:08:20.524Z"
   },
   {
    "duration": 13,
    "start_time": "2022-05-23T15:08:20.545Z"
   },
   {
    "duration": 15,
    "start_time": "2022-05-23T15:08:20.560Z"
   },
   {
    "duration": 36,
    "start_time": "2022-05-23T15:08:20.577Z"
   },
   {
    "duration": 238,
    "start_time": "2022-05-23T15:08:20.615Z"
   },
   {
    "duration": 9,
    "start_time": "2022-05-23T15:08:20.854Z"
   },
   {
    "duration": 21,
    "start_time": "2022-05-23T15:08:20.864Z"
   },
   {
    "duration": 244,
    "start_time": "2022-05-23T15:08:20.887Z"
   },
   {
    "duration": 402,
    "start_time": "2022-05-23T15:08:21.133Z"
   },
   {
    "duration": 11,
    "start_time": "2022-05-23T15:08:21.537Z"
   },
   {
    "duration": 10,
    "start_time": "2022-05-23T15:08:21.560Z"
   },
   {
    "duration": 38,
    "start_time": "2022-05-23T15:08:21.572Z"
   },
   {
    "duration": 18,
    "start_time": "2022-05-23T15:08:21.612Z"
   },
   {
    "duration": 22,
    "start_time": "2022-05-23T15:08:21.631Z"
   },
   {
    "duration": 50,
    "start_time": "2022-05-23T15:08:21.655Z"
   },
   {
    "duration": 4,
    "start_time": "2022-05-23T15:08:27.702Z"
   },
   {
    "duration": 3,
    "start_time": "2022-05-23T15:08:28.359Z"
   },
   {
    "duration": 13,
    "start_time": "2022-05-23T15:08:29.069Z"
   },
   {
    "duration": 27,
    "start_time": "2022-05-23T15:08:29.666Z"
   },
   {
    "duration": 1358,
    "start_time": "2022-05-23T15:09:05.259Z"
   },
   {
    "duration": 50,
    "start_time": "2022-05-23T15:09:06.619Z"
   },
   {
    "duration": 14,
    "start_time": "2022-05-23T15:09:06.670Z"
   },
   {
    "duration": 20,
    "start_time": "2022-05-23T15:09:06.686Z"
   },
   {
    "duration": 14,
    "start_time": "2022-05-23T15:09:06.708Z"
   },
   {
    "duration": 26,
    "start_time": "2022-05-23T15:09:06.723Z"
   },
   {
    "duration": 12,
    "start_time": "2022-05-23T15:09:06.750Z"
   },
   {
    "duration": 29,
    "start_time": "2022-05-23T15:09:06.765Z"
   },
   {
    "duration": 9,
    "start_time": "2022-05-23T15:09:06.796Z"
   },
   {
    "duration": 31,
    "start_time": "2022-05-23T15:09:06.806Z"
   },
   {
    "duration": 20,
    "start_time": "2022-05-23T15:09:06.839Z"
   },
   {
    "duration": 9,
    "start_time": "2022-05-23T15:09:06.861Z"
   },
   {
    "duration": 7,
    "start_time": "2022-05-23T15:09:06.872Z"
   },
   {
    "duration": 11,
    "start_time": "2022-05-23T15:09:06.882Z"
   },
   {
    "duration": 26,
    "start_time": "2022-05-23T15:09:06.896Z"
   },
   {
    "duration": 13,
    "start_time": "2022-05-23T15:09:06.924Z"
   },
   {
    "duration": 39,
    "start_time": "2022-05-23T15:09:06.939Z"
   },
   {
    "duration": 12,
    "start_time": "2022-05-23T15:09:06.981Z"
   },
   {
    "duration": 9,
    "start_time": "2022-05-23T15:09:06.995Z"
   },
   {
    "duration": 23,
    "start_time": "2022-05-23T15:09:07.006Z"
   },
   {
    "duration": 33,
    "start_time": "2022-05-23T15:09:07.031Z"
   },
   {
    "duration": 7,
    "start_time": "2022-05-23T15:09:07.067Z"
   },
   {
    "duration": 25,
    "start_time": "2022-05-23T15:09:07.075Z"
   },
   {
    "duration": 8,
    "start_time": "2022-05-23T15:09:07.101Z"
   },
   {
    "duration": 292,
    "start_time": "2022-05-23T15:09:07.110Z"
   },
   {
    "duration": 8,
    "start_time": "2022-05-23T15:09:07.403Z"
   },
   {
    "duration": 258,
    "start_time": "2022-05-23T15:09:07.413Z"
   },
   {
    "duration": 13,
    "start_time": "2022-05-23T15:09:07.673Z"
   },
   {
    "duration": 24,
    "start_time": "2022-05-23T15:09:07.688Z"
   },
   {
    "duration": 17,
    "start_time": "2022-05-23T15:09:07.714Z"
   },
   {
    "duration": 5,
    "start_time": "2022-05-23T15:09:07.732Z"
   },
   {
    "duration": 55,
    "start_time": "2022-05-23T15:09:07.738Z"
   },
   {
    "duration": 3,
    "start_time": "2022-05-23T15:09:07.795Z"
   },
   {
    "duration": 24,
    "start_time": "2022-05-23T15:09:07.800Z"
   },
   {
    "duration": 16,
    "start_time": "2022-05-23T15:09:07.827Z"
   },
   {
    "duration": 46,
    "start_time": "2022-05-23T15:09:07.845Z"
   },
   {
    "duration": 24,
    "start_time": "2022-05-23T15:09:07.893Z"
   },
   {
    "duration": 8,
    "start_time": "2022-05-23T15:09:07.919Z"
   },
   {
    "duration": 21,
    "start_time": "2022-05-23T15:09:07.929Z"
   },
   {
    "duration": 15,
    "start_time": "2022-05-23T15:09:07.952Z"
   },
   {
    "duration": 10,
    "start_time": "2022-05-23T15:09:07.972Z"
   },
   {
    "duration": 16,
    "start_time": "2022-05-23T15:09:07.984Z"
   },
   {
    "duration": 23,
    "start_time": "2022-05-23T15:09:08.002Z"
   },
   {
    "duration": 310,
    "start_time": "2022-05-23T15:09:08.027Z"
   },
   {
    "duration": 6,
    "start_time": "2022-05-23T15:09:08.339Z"
   },
   {
    "duration": 22,
    "start_time": "2022-05-23T15:09:08.347Z"
   },
   {
    "duration": 255,
    "start_time": "2022-05-23T15:09:08.370Z"
   },
   {
    "duration": 411,
    "start_time": "2022-05-23T15:09:08.627Z"
   },
   {
    "duration": 19,
    "start_time": "2022-05-23T15:09:09.041Z"
   },
   {
    "duration": 9,
    "start_time": "2022-05-23T15:09:09.062Z"
   },
   {
    "duration": 40,
    "start_time": "2022-05-23T15:09:09.073Z"
   },
   {
    "duration": 16,
    "start_time": "2022-05-23T15:09:09.115Z"
   },
   {
    "duration": 12,
    "start_time": "2022-05-23T15:09:09.133Z"
   },
   {
    "duration": 20,
    "start_time": "2022-05-23T15:09:09.146Z"
   },
   {
    "duration": 29,
    "start_time": "2022-05-23T15:09:12.358Z"
   },
   {
    "duration": 14,
    "start_time": "2022-05-23T15:09:20.611Z"
   },
   {
    "duration": 33,
    "start_time": "2022-05-23T15:09:29.927Z"
   },
   {
    "duration": 8,
    "start_time": "2022-05-23T15:10:15.019Z"
   },
   {
    "duration": 105,
    "start_time": "2022-05-23T15:10:15.029Z"
   },
   {
    "duration": 20,
    "start_time": "2022-05-23T15:10:15.136Z"
   },
   {
    "duration": 40,
    "start_time": "2022-05-23T15:10:15.158Z"
   },
   {
    "duration": 11,
    "start_time": "2022-05-23T15:10:15.202Z"
   },
   {
    "duration": 43,
    "start_time": "2022-05-23T15:10:15.215Z"
   },
   {
    "duration": 26,
    "start_time": "2022-05-23T15:10:15.261Z"
   },
   {
    "duration": 41,
    "start_time": "2022-05-23T15:10:15.289Z"
   },
   {
    "duration": 11,
    "start_time": "2022-05-23T15:10:15.332Z"
   },
   {
    "duration": 52,
    "start_time": "2022-05-23T15:10:15.346Z"
   },
   {
    "duration": 26,
    "start_time": "2022-05-23T15:10:15.400Z"
   },
   {
    "duration": 35,
    "start_time": "2022-05-23T15:10:15.428Z"
   },
   {
    "duration": 36,
    "start_time": "2022-05-23T15:10:15.464Z"
   },
   {
    "duration": 17,
    "start_time": "2022-05-23T15:10:15.504Z"
   },
   {
    "duration": 52,
    "start_time": "2022-05-23T15:10:15.523Z"
   },
   {
    "duration": 28,
    "start_time": "2022-05-23T15:10:15.577Z"
   },
   {
    "duration": 38,
    "start_time": "2022-05-23T15:10:15.608Z"
   },
   {
    "duration": 71,
    "start_time": "2022-05-23T15:10:15.648Z"
   },
   {
    "duration": 28,
    "start_time": "2022-05-23T15:10:15.721Z"
   },
   {
    "duration": 52,
    "start_time": "2022-05-23T15:10:15.751Z"
   },
   {
    "duration": 30,
    "start_time": "2022-05-23T15:10:15.805Z"
   },
   {
    "duration": 33,
    "start_time": "2022-05-23T15:10:15.837Z"
   },
   {
    "duration": 50,
    "start_time": "2022-05-23T15:10:15.873Z"
   },
   {
    "duration": 33,
    "start_time": "2022-05-23T15:10:15.925Z"
   },
   {
    "duration": 407,
    "start_time": "2022-05-23T15:10:15.962Z"
   },
   {
    "duration": 8,
    "start_time": "2022-05-23T15:10:16.371Z"
   },
   {
    "duration": 280,
    "start_time": "2022-05-23T15:10:16.381Z"
   },
   {
    "duration": 15,
    "start_time": "2022-05-23T15:10:16.663Z"
   },
   {
    "duration": 29,
    "start_time": "2022-05-23T15:10:16.680Z"
   },
   {
    "duration": 26,
    "start_time": "2022-05-23T15:10:16.711Z"
   },
   {
    "duration": 18,
    "start_time": "2022-05-23T15:10:16.741Z"
   },
   {
    "duration": 57,
    "start_time": "2022-05-23T15:10:16.761Z"
   },
   {
    "duration": 7,
    "start_time": "2022-05-23T15:10:16.820Z"
   },
   {
    "duration": 22,
    "start_time": "2022-05-23T15:10:16.829Z"
   },
   {
    "duration": 40,
    "start_time": "2022-05-23T15:10:16.853Z"
   },
   {
    "duration": 16,
    "start_time": "2022-05-23T15:10:16.894Z"
   },
   {
    "duration": 29,
    "start_time": "2022-05-23T15:10:16.911Z"
   },
   {
    "duration": 29,
    "start_time": "2022-05-23T15:10:16.941Z"
   },
   {
    "duration": 38,
    "start_time": "2022-05-23T15:10:16.972Z"
   },
   {
    "duration": 16,
    "start_time": "2022-05-23T15:10:17.013Z"
   },
   {
    "duration": 31,
    "start_time": "2022-05-23T15:10:17.032Z"
   },
   {
    "duration": 30,
    "start_time": "2022-05-23T15:10:17.065Z"
   },
   {
    "duration": 13,
    "start_time": "2022-05-23T15:10:17.097Z"
   },
   {
    "duration": 273,
    "start_time": "2022-05-23T15:10:17.113Z"
   },
   {
    "duration": 5,
    "start_time": "2022-05-23T15:10:17.388Z"
   },
   {
    "duration": 26,
    "start_time": "2022-05-23T15:10:17.394Z"
   },
   {
    "duration": 262,
    "start_time": "2022-05-23T15:10:17.422Z"
   },
   {
    "duration": 487,
    "start_time": "2022-05-23T15:10:17.686Z"
   },
   {
    "duration": 14,
    "start_time": "2022-05-23T15:10:18.176Z"
   },
   {
    "duration": 56,
    "start_time": "2022-05-23T15:10:18.192Z"
   },
   {
    "duration": 55,
    "start_time": "2022-05-23T15:10:18.250Z"
   },
   {
    "duration": 21,
    "start_time": "2022-05-23T15:10:18.307Z"
   },
   {
    "duration": 22,
    "start_time": "2022-05-23T15:10:18.330Z"
   },
   {
    "duration": 44,
    "start_time": "2022-05-23T15:10:18.354Z"
   },
   {
    "duration": 1347,
    "start_time": "2022-05-23T15:10:26.177Z"
   },
   {
    "duration": 52,
    "start_time": "2022-05-23T15:10:27.526Z"
   },
   {
    "duration": 17,
    "start_time": "2022-05-23T15:10:27.580Z"
   },
   {
    "duration": 37,
    "start_time": "2022-05-23T15:10:27.598Z"
   },
   {
    "duration": 11,
    "start_time": "2022-05-23T15:10:27.638Z"
   },
   {
    "duration": 44,
    "start_time": "2022-05-23T15:10:27.651Z"
   },
   {
    "duration": 11,
    "start_time": "2022-05-23T15:10:27.696Z"
   },
   {
    "duration": 34,
    "start_time": "2022-05-23T15:10:27.708Z"
   },
   {
    "duration": 7,
    "start_time": "2022-05-23T15:10:27.744Z"
   },
   {
    "duration": 50,
    "start_time": "2022-05-23T15:10:27.753Z"
   },
   {
    "duration": 19,
    "start_time": "2022-05-23T15:10:27.805Z"
   },
   {
    "duration": 40,
    "start_time": "2022-05-23T15:10:27.826Z"
   },
   {
    "duration": 57,
    "start_time": "2022-05-23T15:10:27.868Z"
   },
   {
    "duration": 27,
    "start_time": "2022-05-23T15:10:27.930Z"
   },
   {
    "duration": 56,
    "start_time": "2022-05-23T15:10:27.960Z"
   },
   {
    "duration": 40,
    "start_time": "2022-05-23T15:10:28.018Z"
   },
   {
    "duration": 68,
    "start_time": "2022-05-23T15:10:28.061Z"
   },
   {
    "duration": 23,
    "start_time": "2022-05-23T15:10:28.132Z"
   },
   {
    "duration": 38,
    "start_time": "2022-05-23T15:10:28.157Z"
   },
   {
    "duration": 66,
    "start_time": "2022-05-23T15:10:28.197Z"
   },
   {
    "duration": 102,
    "start_time": "2022-05-23T15:10:28.265Z"
   },
   {
    "duration": 31,
    "start_time": "2022-05-23T15:10:28.369Z"
   },
   {
    "duration": 56,
    "start_time": "2022-05-23T15:10:28.402Z"
   },
   {
    "duration": 26,
    "start_time": "2022-05-23T15:10:28.459Z"
   },
   {
    "duration": 326,
    "start_time": "2022-05-23T15:10:28.487Z"
   },
   {
    "duration": 8,
    "start_time": "2022-05-23T15:10:28.815Z"
   },
   {
    "duration": 274,
    "start_time": "2022-05-23T15:10:28.825Z"
   },
   {
    "duration": 11,
    "start_time": "2022-05-23T15:10:29.101Z"
   },
   {
    "duration": 19,
    "start_time": "2022-05-23T15:10:29.114Z"
   },
   {
    "duration": 42,
    "start_time": "2022-05-23T15:10:29.134Z"
   },
   {
    "duration": 31,
    "start_time": "2022-05-23T15:10:29.178Z"
   },
   {
    "duration": 68,
    "start_time": "2022-05-23T15:10:29.212Z"
   },
   {
    "duration": 3,
    "start_time": "2022-05-23T15:10:29.282Z"
   },
   {
    "duration": 59,
    "start_time": "2022-05-23T15:10:29.287Z"
   },
   {
    "duration": 25,
    "start_time": "2022-05-23T15:10:29.348Z"
   },
   {
    "duration": 49,
    "start_time": "2022-05-23T15:10:29.375Z"
   },
   {
    "duration": 30,
    "start_time": "2022-05-23T15:10:29.426Z"
   },
   {
    "duration": 34,
    "start_time": "2022-05-23T15:10:29.458Z"
   },
   {
    "duration": 30,
    "start_time": "2022-05-23T15:10:29.494Z"
   },
   {
    "duration": 22,
    "start_time": "2022-05-23T15:10:29.526Z"
   },
   {
    "duration": 19,
    "start_time": "2022-05-23T15:10:29.553Z"
   },
   {
    "duration": 28,
    "start_time": "2022-05-23T15:10:29.574Z"
   },
   {
    "duration": 56,
    "start_time": "2022-05-23T15:10:29.604Z"
   },
   {
    "duration": 351,
    "start_time": "2022-05-23T15:10:29.663Z"
   },
   {
    "duration": 5,
    "start_time": "2022-05-23T15:10:30.016Z"
   },
   {
    "duration": 38,
    "start_time": "2022-05-23T15:10:30.023Z"
   },
   {
    "duration": 261,
    "start_time": "2022-05-23T15:10:30.063Z"
   },
   {
    "duration": 427,
    "start_time": "2022-05-23T15:10:30.327Z"
   },
   {
    "duration": 16,
    "start_time": "2022-05-23T15:10:30.755Z"
   },
   {
    "duration": 27,
    "start_time": "2022-05-23T15:10:30.773Z"
   },
   {
    "duration": 49,
    "start_time": "2022-05-23T15:10:30.802Z"
   },
   {
    "duration": 33,
    "start_time": "2022-05-23T15:10:30.853Z"
   },
   {
    "duration": 32,
    "start_time": "2022-05-23T15:10:30.888Z"
   },
   {
    "duration": 28,
    "start_time": "2022-05-23T15:10:30.922Z"
   },
   {
    "duration": 3,
    "start_time": "2022-05-23T15:10:35.897Z"
   },
   {
    "duration": 2,
    "start_time": "2022-05-23T15:10:36.403Z"
   },
   {
    "duration": 10,
    "start_time": "2022-05-23T15:10:36.905Z"
   },
   {
    "duration": 19,
    "start_time": "2022-05-23T15:10:37.656Z"
   },
   {
    "duration": 7,
    "start_time": "2022-05-23T15:10:41.399Z"
   },
   {
    "duration": 19,
    "start_time": "2022-05-23T15:36:24.636Z"
   },
   {
    "duration": 1311,
    "start_time": "2022-05-23T15:37:28.443Z"
   },
   {
    "duration": 123,
    "start_time": "2022-05-23T15:37:29.756Z"
   },
   {
    "duration": 0,
    "start_time": "2022-05-23T15:37:29.883Z"
   },
   {
    "duration": 0,
    "start_time": "2022-05-23T15:37:29.884Z"
   },
   {
    "duration": 0,
    "start_time": "2022-05-23T15:37:29.886Z"
   },
   {
    "duration": 0,
    "start_time": "2022-05-23T15:37:29.887Z"
   },
   {
    "duration": 0,
    "start_time": "2022-05-23T15:37:29.889Z"
   },
   {
    "duration": 0,
    "start_time": "2022-05-23T15:37:29.890Z"
   },
   {
    "duration": 0,
    "start_time": "2022-05-23T15:37:29.891Z"
   },
   {
    "duration": 0,
    "start_time": "2022-05-23T15:37:29.893Z"
   },
   {
    "duration": 0,
    "start_time": "2022-05-23T15:37:29.894Z"
   },
   {
    "duration": 0,
    "start_time": "2022-05-23T15:37:29.896Z"
   },
   {
    "duration": 0,
    "start_time": "2022-05-23T15:37:29.897Z"
   },
   {
    "duration": 0,
    "start_time": "2022-05-23T15:37:29.898Z"
   },
   {
    "duration": 0,
    "start_time": "2022-05-23T15:37:29.899Z"
   },
   {
    "duration": 0,
    "start_time": "2022-05-23T15:37:29.900Z"
   },
   {
    "duration": 0,
    "start_time": "2022-05-23T15:37:29.901Z"
   },
   {
    "duration": 0,
    "start_time": "2022-05-23T15:37:29.902Z"
   },
   {
    "duration": 0,
    "start_time": "2022-05-23T15:37:29.903Z"
   },
   {
    "duration": 0,
    "start_time": "2022-05-23T15:37:29.904Z"
   },
   {
    "duration": 0,
    "start_time": "2022-05-23T15:37:29.905Z"
   },
   {
    "duration": 0,
    "start_time": "2022-05-23T15:37:29.906Z"
   },
   {
    "duration": 0,
    "start_time": "2022-05-23T15:37:29.906Z"
   },
   {
    "duration": 0,
    "start_time": "2022-05-23T15:37:29.909Z"
   },
   {
    "duration": 0,
    "start_time": "2022-05-23T15:37:29.910Z"
   },
   {
    "duration": 0,
    "start_time": "2022-05-23T15:37:29.911Z"
   },
   {
    "duration": 0,
    "start_time": "2022-05-23T15:37:29.960Z"
   },
   {
    "duration": 0,
    "start_time": "2022-05-23T15:37:29.961Z"
   },
   {
    "duration": 0,
    "start_time": "2022-05-23T15:37:29.962Z"
   },
   {
    "duration": 0,
    "start_time": "2022-05-23T15:37:29.963Z"
   },
   {
    "duration": 0,
    "start_time": "2022-05-23T15:37:29.964Z"
   },
   {
    "duration": 0,
    "start_time": "2022-05-23T15:37:29.965Z"
   },
   {
    "duration": 0,
    "start_time": "2022-05-23T15:37:29.966Z"
   },
   {
    "duration": 0,
    "start_time": "2022-05-23T15:37:29.966Z"
   },
   {
    "duration": 0,
    "start_time": "2022-05-23T15:37:29.967Z"
   },
   {
    "duration": 0,
    "start_time": "2022-05-23T15:37:29.969Z"
   },
   {
    "duration": 0,
    "start_time": "2022-05-23T15:37:29.971Z"
   },
   {
    "duration": 0,
    "start_time": "2022-05-23T15:37:29.972Z"
   },
   {
    "duration": 0,
    "start_time": "2022-05-23T15:37:29.973Z"
   },
   {
    "duration": 0,
    "start_time": "2022-05-23T15:37:29.975Z"
   },
   {
    "duration": 0,
    "start_time": "2022-05-23T15:37:29.976Z"
   },
   {
    "duration": 0,
    "start_time": "2022-05-23T15:37:29.977Z"
   },
   {
    "duration": 0,
    "start_time": "2022-05-23T15:37:29.979Z"
   },
   {
    "duration": 0,
    "start_time": "2022-05-23T15:37:29.980Z"
   },
   {
    "duration": 0,
    "start_time": "2022-05-23T15:37:29.982Z"
   },
   {
    "duration": 0,
    "start_time": "2022-05-23T15:37:29.982Z"
   },
   {
    "duration": 0,
    "start_time": "2022-05-23T15:37:29.984Z"
   },
   {
    "duration": 0,
    "start_time": "2022-05-23T15:37:29.985Z"
   },
   {
    "duration": 0,
    "start_time": "2022-05-23T15:37:29.986Z"
   },
   {
    "duration": 0,
    "start_time": "2022-05-23T15:37:29.987Z"
   },
   {
    "duration": 0,
    "start_time": "2022-05-23T15:37:29.988Z"
   },
   {
    "duration": 0,
    "start_time": "2022-05-23T15:37:29.989Z"
   },
   {
    "duration": 0,
    "start_time": "2022-05-23T15:37:29.990Z"
   },
   {
    "duration": 0,
    "start_time": "2022-05-23T15:37:29.991Z"
   },
   {
    "duration": 0,
    "start_time": "2022-05-23T15:37:29.992Z"
   },
   {
    "duration": 0,
    "start_time": "2022-05-23T15:37:29.993Z"
   },
   {
    "duration": 0,
    "start_time": "2022-05-23T15:37:29.994Z"
   },
   {
    "duration": 0,
    "start_time": "2022-05-23T15:37:29.996Z"
   },
   {
    "duration": 0,
    "start_time": "2022-05-23T15:37:29.997Z"
   },
   {
    "duration": 0,
    "start_time": "2022-05-23T15:37:29.998Z"
   },
   {
    "duration": 0,
    "start_time": "2022-05-23T15:37:30.060Z"
   },
   {
    "duration": 0,
    "start_time": "2022-05-23T15:37:30.062Z"
   },
   {
    "duration": 0,
    "start_time": "2022-05-23T15:37:30.063Z"
   },
   {
    "duration": 0,
    "start_time": "2022-05-23T15:37:30.065Z"
   },
   {
    "duration": 0,
    "start_time": "2022-05-23T15:37:30.066Z"
   },
   {
    "duration": 0,
    "start_time": "2022-05-23T15:37:30.067Z"
   },
   {
    "duration": 0,
    "start_time": "2022-05-23T15:37:30.070Z"
   },
   {
    "duration": 0,
    "start_time": "2022-05-23T15:37:30.074Z"
   },
   {
    "duration": 0,
    "start_time": "2022-05-23T15:37:30.077Z"
   },
   {
    "duration": 0,
    "start_time": "2022-05-23T15:37:30.080Z"
   },
   {
    "duration": 0,
    "start_time": "2022-05-23T15:37:30.082Z"
   },
   {
    "duration": 0,
    "start_time": "2022-05-23T15:37:30.084Z"
   },
   {
    "duration": 0,
    "start_time": "2022-05-23T15:37:30.088Z"
   },
   {
    "duration": 0,
    "start_time": "2022-05-23T15:37:30.091Z"
   },
   {
    "duration": 0,
    "start_time": "2022-05-23T15:37:30.095Z"
   },
   {
    "duration": 1453,
    "start_time": "2022-05-23T15:38:03.342Z"
   },
   {
    "duration": 120,
    "start_time": "2022-05-23T15:38:04.797Z"
   },
   {
    "duration": 0,
    "start_time": "2022-05-23T15:38:04.920Z"
   },
   {
    "duration": 0,
    "start_time": "2022-05-23T15:38:04.921Z"
   },
   {
    "duration": 0,
    "start_time": "2022-05-23T15:38:04.922Z"
   },
   {
    "duration": 0,
    "start_time": "2022-05-23T15:38:04.924Z"
   },
   {
    "duration": 0,
    "start_time": "2022-05-23T15:38:04.924Z"
   },
   {
    "duration": 0,
    "start_time": "2022-05-23T15:38:04.925Z"
   },
   {
    "duration": 0,
    "start_time": "2022-05-23T15:38:04.926Z"
   },
   {
    "duration": 0,
    "start_time": "2022-05-23T15:38:04.928Z"
   },
   {
    "duration": 0,
    "start_time": "2022-05-23T15:38:04.928Z"
   },
   {
    "duration": 0,
    "start_time": "2022-05-23T15:38:04.930Z"
   },
   {
    "duration": 0,
    "start_time": "2022-05-23T15:38:04.931Z"
   },
   {
    "duration": 0,
    "start_time": "2022-05-23T15:38:04.932Z"
   },
   {
    "duration": 0,
    "start_time": "2022-05-23T15:38:04.933Z"
   },
   {
    "duration": 0,
    "start_time": "2022-05-23T15:38:04.934Z"
   },
   {
    "duration": 0,
    "start_time": "2022-05-23T15:38:04.959Z"
   },
   {
    "duration": 0,
    "start_time": "2022-05-23T15:38:04.960Z"
   },
   {
    "duration": 0,
    "start_time": "2022-05-23T15:38:04.961Z"
   },
   {
    "duration": 0,
    "start_time": "2022-05-23T15:38:04.962Z"
   },
   {
    "duration": 0,
    "start_time": "2022-05-23T15:38:04.963Z"
   },
   {
    "duration": 0,
    "start_time": "2022-05-23T15:38:04.964Z"
   },
   {
    "duration": 0,
    "start_time": "2022-05-23T15:38:04.964Z"
   },
   {
    "duration": 0,
    "start_time": "2022-05-23T15:38:04.965Z"
   },
   {
    "duration": 0,
    "start_time": "2022-05-23T15:38:04.966Z"
   },
   {
    "duration": 0,
    "start_time": "2022-05-23T15:38:04.969Z"
   },
   {
    "duration": 0,
    "start_time": "2022-05-23T15:38:04.970Z"
   },
   {
    "duration": 0,
    "start_time": "2022-05-23T15:38:04.971Z"
   },
   {
    "duration": 0,
    "start_time": "2022-05-23T15:38:04.972Z"
   },
   {
    "duration": 0,
    "start_time": "2022-05-23T15:38:04.972Z"
   },
   {
    "duration": 0,
    "start_time": "2022-05-23T15:38:04.973Z"
   },
   {
    "duration": 0,
    "start_time": "2022-05-23T15:38:04.974Z"
   },
   {
    "duration": 0,
    "start_time": "2022-05-23T15:38:04.976Z"
   },
   {
    "duration": 0,
    "start_time": "2022-05-23T15:38:04.977Z"
   },
   {
    "duration": 0,
    "start_time": "2022-05-23T15:38:04.978Z"
   },
   {
    "duration": 0,
    "start_time": "2022-05-23T15:38:04.979Z"
   },
   {
    "duration": 0,
    "start_time": "2022-05-23T15:38:04.980Z"
   },
   {
    "duration": 0,
    "start_time": "2022-05-23T15:38:04.980Z"
   },
   {
    "duration": 0,
    "start_time": "2022-05-23T15:38:04.981Z"
   },
   {
    "duration": 0,
    "start_time": "2022-05-23T15:38:04.982Z"
   },
   {
    "duration": 0,
    "start_time": "2022-05-23T15:38:04.983Z"
   },
   {
    "duration": 0,
    "start_time": "2022-05-23T15:38:04.984Z"
   },
   {
    "duration": 0,
    "start_time": "2022-05-23T15:38:04.985Z"
   },
   {
    "duration": 0,
    "start_time": "2022-05-23T15:38:04.986Z"
   },
   {
    "duration": 0,
    "start_time": "2022-05-23T15:38:04.987Z"
   },
   {
    "duration": 0,
    "start_time": "2022-05-23T15:38:04.988Z"
   },
   {
    "duration": 0,
    "start_time": "2022-05-23T15:38:04.989Z"
   },
   {
    "duration": 0,
    "start_time": "2022-05-23T15:38:04.990Z"
   },
   {
    "duration": 0,
    "start_time": "2022-05-23T15:38:04.991Z"
   },
   {
    "duration": 0,
    "start_time": "2022-05-23T15:38:04.992Z"
   },
   {
    "duration": 0,
    "start_time": "2022-05-23T15:38:04.993Z"
   },
   {
    "duration": 0,
    "start_time": "2022-05-23T15:38:04.994Z"
   },
   {
    "duration": 0,
    "start_time": "2022-05-23T15:38:05.059Z"
   },
   {
    "duration": 0,
    "start_time": "2022-05-23T15:38:05.060Z"
   },
   {
    "duration": 0,
    "start_time": "2022-05-23T15:38:05.062Z"
   },
   {
    "duration": 0,
    "start_time": "2022-05-23T15:38:05.063Z"
   },
   {
    "duration": 0,
    "start_time": "2022-05-23T15:38:05.064Z"
   },
   {
    "duration": 0,
    "start_time": "2022-05-23T15:38:05.065Z"
   },
   {
    "duration": 0,
    "start_time": "2022-05-23T15:38:05.065Z"
   },
   {
    "duration": 0,
    "start_time": "2022-05-23T15:38:05.066Z"
   },
   {
    "duration": 0,
    "start_time": "2022-05-23T15:38:05.068Z"
   },
   {
    "duration": 0,
    "start_time": "2022-05-23T15:38:05.069Z"
   },
   {
    "duration": 0,
    "start_time": "2022-05-23T15:38:05.070Z"
   },
   {
    "duration": 0,
    "start_time": "2022-05-23T15:38:05.071Z"
   },
   {
    "duration": 0,
    "start_time": "2022-05-23T15:38:05.073Z"
   },
   {
    "duration": 0,
    "start_time": "2022-05-23T15:38:05.074Z"
   },
   {
    "duration": 0,
    "start_time": "2022-05-23T15:38:05.076Z"
   },
   {
    "duration": 0,
    "start_time": "2022-05-23T15:38:05.077Z"
   },
   {
    "duration": 0,
    "start_time": "2022-05-23T15:38:05.079Z"
   },
   {
    "duration": 0,
    "start_time": "2022-05-23T15:38:05.080Z"
   },
   {
    "duration": 0,
    "start_time": "2022-05-23T15:38:05.081Z"
   },
   {
    "duration": 0,
    "start_time": "2022-05-23T15:38:05.083Z"
   },
   {
    "duration": 0,
    "start_time": "2022-05-23T15:38:05.084Z"
   },
   {
    "duration": 0,
    "start_time": "2022-05-23T15:38:05.085Z"
   },
   {
    "duration": 0,
    "start_time": "2022-05-23T15:38:05.087Z"
   },
   {
    "duration": 70,
    "start_time": "2022-05-23T17:06:11.269Z"
   },
   {
    "duration": 1721,
    "start_time": "2022-05-23T17:06:15.048Z"
   },
   {
    "duration": 141,
    "start_time": "2022-05-23T17:06:19.384Z"
   },
   {
    "duration": 1324,
    "start_time": "2022-05-23T17:07:56.076Z"
   },
   {
    "duration": 47,
    "start_time": "2022-05-23T17:07:57.402Z"
   },
   {
    "duration": 14,
    "start_time": "2022-05-23T17:07:57.451Z"
   },
   {
    "duration": 44,
    "start_time": "2022-05-23T17:07:57.467Z"
   },
   {
    "duration": 8,
    "start_time": "2022-05-23T17:07:57.512Z"
   },
   {
    "duration": 93,
    "start_time": "2022-05-23T17:07:57.521Z"
   },
   {
    "duration": 9,
    "start_time": "2022-05-23T17:07:57.616Z"
   },
   {
    "duration": 39,
    "start_time": "2022-05-23T17:07:57.627Z"
   },
   {
    "duration": 7,
    "start_time": "2022-05-23T17:07:57.668Z"
   },
   {
    "duration": 27,
    "start_time": "2022-05-23T17:07:57.677Z"
   },
   {
    "duration": 15,
    "start_time": "2022-05-23T17:07:57.706Z"
   },
   {
    "duration": 6,
    "start_time": "2022-05-23T17:07:57.722Z"
   },
   {
    "duration": 5,
    "start_time": "2022-05-23T17:07:57.729Z"
   },
   {
    "duration": 4,
    "start_time": "2022-05-23T17:07:57.736Z"
   },
   {
    "duration": 20,
    "start_time": "2022-05-23T17:07:57.741Z"
   },
   {
    "duration": 11,
    "start_time": "2022-05-23T17:07:57.763Z"
   },
   {
    "duration": 51,
    "start_time": "2022-05-23T17:07:57.775Z"
   },
   {
    "duration": 8,
    "start_time": "2022-05-23T17:07:57.827Z"
   },
   {
    "duration": 7,
    "start_time": "2022-05-23T17:07:57.836Z"
   },
   {
    "duration": 21,
    "start_time": "2022-05-23T17:07:57.844Z"
   },
   {
    "duration": 12,
    "start_time": "2022-05-23T17:07:57.866Z"
   },
   {
    "duration": 23,
    "start_time": "2022-05-23T17:07:57.880Z"
   },
   {
    "duration": 17,
    "start_time": "2022-05-23T17:07:57.905Z"
   },
   {
    "duration": 9,
    "start_time": "2022-05-23T17:07:57.923Z"
   },
   {
    "duration": 296,
    "start_time": "2022-05-23T17:07:57.933Z"
   },
   {
    "duration": 8,
    "start_time": "2022-05-23T17:07:58.230Z"
   },
   {
    "duration": 278,
    "start_time": "2022-05-23T17:07:58.239Z"
   },
   {
    "duration": 10,
    "start_time": "2022-05-23T17:07:58.520Z"
   },
   {
    "duration": 8,
    "start_time": "2022-05-23T17:07:58.532Z"
   },
   {
    "duration": 12,
    "start_time": "2022-05-23T17:07:58.542Z"
   },
   {
    "duration": 3,
    "start_time": "2022-05-23T17:07:58.556Z"
   },
   {
    "duration": 68,
    "start_time": "2022-05-23T17:07:58.560Z"
   },
   {
    "duration": 3,
    "start_time": "2022-05-23T17:07:58.629Z"
   },
   {
    "duration": 10,
    "start_time": "2022-05-23T17:07:58.633Z"
   },
   {
    "duration": 12,
    "start_time": "2022-05-23T17:07:58.645Z"
   },
   {
    "duration": 5,
    "start_time": "2022-05-23T17:07:58.659Z"
   },
   {
    "duration": 9,
    "start_time": "2022-05-23T17:07:58.666Z"
   },
   {
    "duration": 10,
    "start_time": "2022-05-23T17:07:58.676Z"
   },
   {
    "duration": 14,
    "start_time": "2022-05-23T17:07:58.688Z"
   },
   {
    "duration": 9,
    "start_time": "2022-05-23T17:07:58.704Z"
   },
   {
    "duration": 9,
    "start_time": "2022-05-23T17:07:58.714Z"
   },
   {
    "duration": 8,
    "start_time": "2022-05-23T17:07:58.724Z"
   },
   {
    "duration": 8,
    "start_time": "2022-05-23T17:07:58.733Z"
   },
   {
    "duration": 269,
    "start_time": "2022-05-23T17:07:58.742Z"
   },
   {
    "duration": 5,
    "start_time": "2022-05-23T17:07:59.013Z"
   },
   {
    "duration": 13,
    "start_time": "2022-05-23T17:07:59.019Z"
   },
   {
    "duration": 253,
    "start_time": "2022-05-23T17:07:59.033Z"
   },
   {
    "duration": 395,
    "start_time": "2022-05-23T17:07:59.288Z"
   },
   {
    "duration": 24,
    "start_time": "2022-05-23T17:07:59.685Z"
   },
   {
    "duration": 5,
    "start_time": "2022-05-23T17:07:59.711Z"
   },
   {
    "duration": 25,
    "start_time": "2022-05-23T17:07:59.718Z"
   },
   {
    "duration": 17,
    "start_time": "2022-05-23T17:07:59.744Z"
   },
   {
    "duration": 6,
    "start_time": "2022-05-23T17:07:59.763Z"
   },
   {
    "duration": 10,
    "start_time": "2022-05-23T17:07:59.771Z"
   },
   {
    "duration": 3,
    "start_time": "2022-05-23T17:08:08.769Z"
   },
   {
    "duration": 2,
    "start_time": "2022-05-23T17:08:09.600Z"
   },
   {
    "duration": 13,
    "start_time": "2022-05-23T17:08:10.258Z"
   },
   {
    "duration": 9,
    "start_time": "2022-05-23T17:08:22.776Z"
   },
   {
    "duration": 18,
    "start_time": "2022-05-23T17:08:31.775Z"
   },
   {
    "duration": 8,
    "start_time": "2022-05-23T17:08:53.191Z"
   },
   {
    "duration": 5,
    "start_time": "2022-05-23T17:08:53.927Z"
   },
   {
    "duration": 3,
    "start_time": "2022-05-23T17:08:54.505Z"
   },
   {
    "duration": 4,
    "start_time": "2022-05-23T17:08:55.355Z"
   },
   {
    "duration": 3,
    "start_time": "2022-05-23T17:08:55.950Z"
   },
   {
    "duration": 5956,
    "start_time": "2022-05-23T17:09:02.728Z"
   },
   {
    "duration": 1248,
    "start_time": "2022-05-23T17:09:15.562Z"
   },
   {
    "duration": 107,
    "start_time": "2022-05-23T17:09:23.868Z"
   },
   {
    "duration": 6,
    "start_time": "2022-05-23T17:09:31.829Z"
   },
   {
    "duration": 6,
    "start_time": "2022-05-23T17:09:32.288Z"
   },
   {
    "duration": 5,
    "start_time": "2022-05-23T17:09:32.801Z"
   },
   {
    "duration": 24749,
    "start_time": "2022-05-23T17:09:37.300Z"
   },
   {
    "duration": 5,
    "start_time": "2022-05-23T17:10:02.050Z"
   },
   {
    "duration": 24,
    "start_time": "2022-05-23T17:10:02.057Z"
   },
   {
    "duration": 427,
    "start_time": "2022-05-23T17:10:02.082Z"
   },
   {
    "duration": 92,
    "start_time": "2022-05-23T17:10:02.511Z"
   },
   {
    "duration": 98,
    "start_time": "2022-05-23T17:10:02.610Z"
   },
   {
    "duration": 2,
    "start_time": "2022-05-23T17:21:03.139Z"
   },
   {
    "duration": 2,
    "start_time": "2022-05-23T17:21:03.590Z"
   },
   {
    "duration": 10,
    "start_time": "2022-05-23T17:21:03.949Z"
   },
   {
    "duration": 6,
    "start_time": "2022-05-23T17:21:04.227Z"
   },
   {
    "duration": 9,
    "start_time": "2022-05-23T17:21:19.959Z"
   },
   {
    "duration": 118,
    "start_time": "2022-05-23T17:22:03.479Z"
   },
   {
    "duration": 10,
    "start_time": "2022-05-23T17:22:34.961Z"
   },
   {
    "duration": 11,
    "start_time": "2022-05-23T17:31:53.201Z"
   },
   {
    "duration": 6273,
    "start_time": "2022-05-23T17:33:20.374Z"
   },
   {
    "duration": 11,
    "start_time": "2022-05-23T17:33:29.204Z"
   },
   {
    "duration": 18,
    "start_time": "2022-05-23T17:33:41.496Z"
   },
   {
    "duration": 1343,
    "start_time": "2022-05-23T17:34:53.978Z"
   },
   {
    "duration": 47,
    "start_time": "2022-05-23T17:34:55.322Z"
   },
   {
    "duration": 14,
    "start_time": "2022-05-23T17:34:55.370Z"
   },
   {
    "duration": 20,
    "start_time": "2022-05-23T17:34:55.386Z"
   },
   {
    "duration": 8,
    "start_time": "2022-05-23T17:34:55.407Z"
   },
   {
    "duration": 23,
    "start_time": "2022-05-23T17:34:55.416Z"
   },
   {
    "duration": 10,
    "start_time": "2022-05-23T17:34:55.441Z"
   },
   {
    "duration": 21,
    "start_time": "2022-05-23T17:34:55.454Z"
   },
   {
    "duration": 11,
    "start_time": "2022-05-23T17:34:55.477Z"
   },
   {
    "duration": 30,
    "start_time": "2022-05-23T17:34:55.490Z"
   },
   {
    "duration": 16,
    "start_time": "2022-05-23T17:34:55.522Z"
   },
   {
    "duration": 6,
    "start_time": "2022-05-23T17:34:55.540Z"
   },
   {
    "duration": 7,
    "start_time": "2022-05-23T17:34:55.547Z"
   },
   {
    "duration": 5,
    "start_time": "2022-05-23T17:34:55.556Z"
   },
   {
    "duration": 40,
    "start_time": "2022-05-23T17:34:55.562Z"
   },
   {
    "duration": 12,
    "start_time": "2022-05-23T17:34:55.604Z"
   },
   {
    "duration": 26,
    "start_time": "2022-05-23T17:34:55.618Z"
   },
   {
    "duration": 8,
    "start_time": "2022-05-23T17:34:55.646Z"
   },
   {
    "duration": 5,
    "start_time": "2022-05-23T17:34:55.656Z"
   },
   {
    "duration": 51,
    "start_time": "2022-05-23T17:34:55.663Z"
   },
   {
    "duration": 10,
    "start_time": "2022-05-23T17:34:55.716Z"
   },
   {
    "duration": 19,
    "start_time": "2022-05-23T17:34:55.728Z"
   },
   {
    "duration": 23,
    "start_time": "2022-05-23T17:34:55.748Z"
   },
   {
    "duration": 8,
    "start_time": "2022-05-23T17:34:55.773Z"
   },
   {
    "duration": 268,
    "start_time": "2022-05-23T17:34:55.783Z"
   },
   {
    "duration": 8,
    "start_time": "2022-05-23T17:34:56.053Z"
   },
   {
    "duration": 243,
    "start_time": "2022-05-23T17:34:56.063Z"
   },
   {
    "duration": 10,
    "start_time": "2022-05-23T17:34:56.310Z"
   },
   {
    "duration": 10,
    "start_time": "2022-05-23T17:34:56.322Z"
   },
   {
    "duration": 11,
    "start_time": "2022-05-23T17:34:56.333Z"
   },
   {
    "duration": 2,
    "start_time": "2022-05-23T17:34:56.345Z"
   },
   {
    "duration": 63,
    "start_time": "2022-05-23T17:34:56.349Z"
   },
   {
    "duration": 3,
    "start_time": "2022-05-23T17:34:56.413Z"
   },
   {
    "duration": 7,
    "start_time": "2022-05-23T17:34:56.417Z"
   },
   {
    "duration": 9,
    "start_time": "2022-05-23T17:34:56.426Z"
   },
   {
    "duration": 6,
    "start_time": "2022-05-23T17:34:56.436Z"
   },
   {
    "duration": 6,
    "start_time": "2022-05-23T17:34:56.443Z"
   },
   {
    "duration": 5,
    "start_time": "2022-05-23T17:34:56.451Z"
   },
   {
    "duration": 7,
    "start_time": "2022-05-23T17:34:56.457Z"
   },
   {
    "duration": 6,
    "start_time": "2022-05-23T17:34:56.465Z"
   },
   {
    "duration": 5,
    "start_time": "2022-05-23T17:34:56.501Z"
   },
   {
    "duration": 7,
    "start_time": "2022-05-23T17:34:56.507Z"
   },
   {
    "duration": 8,
    "start_time": "2022-05-23T17:34:56.516Z"
   },
   {
    "duration": 260,
    "start_time": "2022-05-23T17:34:56.526Z"
   },
   {
    "duration": 14,
    "start_time": "2022-05-23T17:34:56.788Z"
   },
   {
    "duration": 12,
    "start_time": "2022-05-23T17:34:56.804Z"
   },
   {
    "duration": 234,
    "start_time": "2022-05-23T17:34:56.818Z"
   },
   {
    "duration": 404,
    "start_time": "2022-05-23T17:34:57.053Z"
   },
   {
    "duration": 10,
    "start_time": "2022-05-23T17:34:57.458Z"
   },
   {
    "duration": 5,
    "start_time": "2022-05-23T17:34:57.469Z"
   },
   {
    "duration": 47,
    "start_time": "2022-05-23T17:34:57.475Z"
   },
   {
    "duration": 18,
    "start_time": "2022-05-23T17:34:57.524Z"
   },
   {
    "duration": 5,
    "start_time": "2022-05-23T17:34:57.544Z"
   },
   {
    "duration": 7,
    "start_time": "2022-05-23T17:34:57.550Z"
   },
   {
    "duration": 6,
    "start_time": "2022-05-23T17:34:57.559Z"
   },
   {
    "duration": 4,
    "start_time": "2022-05-23T17:34:57.567Z"
   },
   {
    "duration": 29,
    "start_time": "2022-05-23T17:34:57.573Z"
   },
   {
    "duration": 7,
    "start_time": "2022-05-23T17:34:57.603Z"
   },
   {
    "duration": 7,
    "start_time": "2022-05-23T17:34:57.611Z"
   },
   {
    "duration": 5,
    "start_time": "2022-05-23T17:34:57.619Z"
   },
   {
    "duration": 6,
    "start_time": "2022-05-23T17:34:57.625Z"
   },
   {
    "duration": 5,
    "start_time": "2022-05-23T17:34:57.632Z"
   },
   {
    "duration": 6192,
    "start_time": "2022-05-23T17:34:57.638Z"
   },
   {
    "duration": 135,
    "start_time": "2022-05-23T17:35:05.799Z"
   },
   {
    "duration": 9,
    "start_time": "2022-05-23T17:35:27.599Z"
   },
   {
    "duration": 2296,
    "start_time": "2022-05-23T17:35:33.892Z"
   },
   {
    "duration": 19,
    "start_time": "2022-05-23T17:35:45.198Z"
   },
   {
    "duration": 116,
    "start_time": "2022-05-23T17:36:46.808Z"
   },
   {
    "duration": 6,
    "start_time": "2022-05-23T17:36:48.044Z"
   },
   {
    "duration": 5,
    "start_time": "2022-05-23T17:36:48.813Z"
   },
   {
    "duration": 6,
    "start_time": "2022-05-23T17:36:49.468Z"
   },
   {
    "duration": 13,
    "start_time": "2022-05-23T17:36:50.452Z"
   },
   {
    "duration": 13,
    "start_time": "2022-05-23T17:38:59.593Z"
   },
   {
    "duration": 10,
    "start_time": "2022-05-23T17:39:09.740Z"
   },
   {
    "duration": 10,
    "start_time": "2022-05-23T17:39:59.587Z"
   },
   {
    "duration": 1392,
    "start_time": "2022-05-23T17:42:00.944Z"
   },
   {
    "duration": 11,
    "start_time": "2022-05-23T17:42:12.068Z"
   },
   {
    "duration": 11,
    "start_time": "2022-05-23T17:42:34.270Z"
   },
   {
    "duration": 11,
    "start_time": "2022-05-23T17:42:37.858Z"
   },
   {
    "duration": 12,
    "start_time": "2022-05-23T17:42:38.481Z"
   },
   {
    "duration": 11,
    "start_time": "2022-05-23T17:44:02.521Z"
   },
   {
    "duration": 11,
    "start_time": "2022-05-23T17:48:51.862Z"
   },
   {
    "duration": 1413,
    "start_time": "2022-05-23T17:49:23.309Z"
   },
   {
    "duration": 51,
    "start_time": "2022-05-23T17:49:24.724Z"
   },
   {
    "duration": 16,
    "start_time": "2022-05-23T17:49:24.777Z"
   },
   {
    "duration": 21,
    "start_time": "2022-05-23T17:49:24.796Z"
   },
   {
    "duration": 9,
    "start_time": "2022-05-23T17:49:24.819Z"
   },
   {
    "duration": 23,
    "start_time": "2022-05-23T17:49:24.829Z"
   },
   {
    "duration": 12,
    "start_time": "2022-05-23T17:49:24.853Z"
   },
   {
    "duration": 24,
    "start_time": "2022-05-23T17:49:24.866Z"
   },
   {
    "duration": 7,
    "start_time": "2022-05-23T17:49:24.892Z"
   },
   {
    "duration": 28,
    "start_time": "2022-05-23T17:49:24.904Z"
   },
   {
    "duration": 19,
    "start_time": "2022-05-23T17:49:24.934Z"
   },
   {
    "duration": 6,
    "start_time": "2022-05-23T17:49:24.955Z"
   },
   {
    "duration": 8,
    "start_time": "2022-05-23T17:49:24.962Z"
   },
   {
    "duration": 30,
    "start_time": "2022-05-23T17:49:24.972Z"
   },
   {
    "duration": 18,
    "start_time": "2022-05-23T17:49:25.004Z"
   },
   {
    "duration": 11,
    "start_time": "2022-05-23T17:49:25.024Z"
   },
   {
    "duration": 31,
    "start_time": "2022-05-23T17:49:25.036Z"
   },
   {
    "duration": 36,
    "start_time": "2022-05-23T17:49:25.069Z"
   },
   {
    "duration": 6,
    "start_time": "2022-05-23T17:49:25.107Z"
   },
   {
    "duration": 24,
    "start_time": "2022-05-23T17:49:25.114Z"
   },
   {
    "duration": 10,
    "start_time": "2022-05-23T17:49:25.140Z"
   },
   {
    "duration": 7,
    "start_time": "2022-05-23T17:49:25.152Z"
   },
   {
    "duration": 47,
    "start_time": "2022-05-23T17:49:25.161Z"
   },
   {
    "duration": 9,
    "start_time": "2022-05-23T17:49:25.209Z"
   },
   {
    "duration": 298,
    "start_time": "2022-05-23T17:49:25.219Z"
   },
   {
    "duration": 8,
    "start_time": "2022-05-23T17:49:25.519Z"
   },
   {
    "duration": 270,
    "start_time": "2022-05-23T17:49:25.529Z"
   },
   {
    "duration": 10,
    "start_time": "2022-05-23T17:49:25.803Z"
   },
   {
    "duration": 10,
    "start_time": "2022-05-23T17:49:25.815Z"
   },
   {
    "duration": 13,
    "start_time": "2022-05-23T17:49:25.826Z"
   },
   {
    "duration": 2,
    "start_time": "2022-05-23T17:49:25.841Z"
   },
   {
    "duration": 74,
    "start_time": "2022-05-23T17:49:25.845Z"
   },
   {
    "duration": 3,
    "start_time": "2022-05-23T17:49:25.921Z"
   },
   {
    "duration": 8,
    "start_time": "2022-05-23T17:49:25.925Z"
   },
   {
    "duration": 10,
    "start_time": "2022-05-23T17:49:25.935Z"
   },
   {
    "duration": 6,
    "start_time": "2022-05-23T17:49:25.947Z"
   },
   {
    "duration": 6,
    "start_time": "2022-05-23T17:49:25.955Z"
   },
   {
    "duration": 4,
    "start_time": "2022-05-23T17:49:25.963Z"
   },
   {
    "duration": 33,
    "start_time": "2022-05-23T17:49:25.969Z"
   },
   {
    "duration": 11,
    "start_time": "2022-05-23T17:49:26.004Z"
   },
   {
    "duration": 16,
    "start_time": "2022-05-23T17:49:26.017Z"
   },
   {
    "duration": 18,
    "start_time": "2022-05-23T17:49:26.035Z"
   },
   {
    "duration": 9,
    "start_time": "2022-05-23T17:49:26.054Z"
   },
   {
    "duration": 251,
    "start_time": "2022-05-23T17:49:26.065Z"
   },
   {
    "duration": 6,
    "start_time": "2022-05-23T17:49:26.318Z"
   },
   {
    "duration": 8,
    "start_time": "2022-05-23T17:49:26.326Z"
   },
   {
    "duration": 281,
    "start_time": "2022-05-23T17:49:26.336Z"
   },
   {
    "duration": 372,
    "start_time": "2022-05-23T17:49:26.618Z"
   },
   {
    "duration": 17,
    "start_time": "2022-05-23T17:49:26.992Z"
   },
   {
    "duration": 5,
    "start_time": "2022-05-23T17:49:27.011Z"
   },
   {
    "duration": 24,
    "start_time": "2022-05-23T17:49:27.017Z"
   },
   {
    "duration": 27,
    "start_time": "2022-05-23T17:49:27.043Z"
   },
   {
    "duration": 6,
    "start_time": "2022-05-23T17:49:27.072Z"
   },
   {
    "duration": 28,
    "start_time": "2022-05-23T17:49:27.079Z"
   },
   {
    "duration": 4,
    "start_time": "2022-05-23T17:49:27.109Z"
   },
   {
    "duration": 4,
    "start_time": "2022-05-23T17:49:27.115Z"
   },
   {
    "duration": 11,
    "start_time": "2022-05-23T17:49:27.121Z"
   },
   {
    "duration": 7,
    "start_time": "2022-05-23T17:49:27.133Z"
   },
   {
    "duration": 8,
    "start_time": "2022-05-23T17:49:27.141Z"
   },
   {
    "duration": 4,
    "start_time": "2022-05-23T17:49:27.150Z"
   },
   {
    "duration": 4,
    "start_time": "2022-05-23T17:49:27.156Z"
   },
   {
    "duration": 4,
    "start_time": "2022-05-23T17:49:27.162Z"
   },
   {
    "duration": 6618,
    "start_time": "2022-05-23T17:49:27.167Z"
   },
   {
    "duration": 1114,
    "start_time": "2022-05-23T17:49:33.787Z"
   },
   {
    "duration": 127,
    "start_time": "2022-05-23T17:49:34.903Z"
   },
   {
    "duration": 4,
    "start_time": "2022-05-23T17:49:35.032Z"
   },
   {
    "duration": 14,
    "start_time": "2022-05-23T17:49:35.038Z"
   },
   {
    "duration": 13,
    "start_time": "2022-05-23T17:49:35.053Z"
   },
   {
    "duration": 27187,
    "start_time": "2022-05-23T17:49:35.067Z"
   },
   {
    "duration": 6,
    "start_time": "2022-05-23T17:50:02.255Z"
   },
   {
    "duration": 8,
    "start_time": "2022-05-23T17:50:02.263Z"
   },
   {
    "duration": 1030,
    "start_time": "2022-05-23T17:50:02.273Z"
   },
   {
    "duration": 92,
    "start_time": "2022-05-23T17:50:03.314Z"
   },
   {
    "duration": 10,
    "start_time": "2022-05-23T17:50:03.408Z"
   },
   {
    "duration": 4,
    "start_time": "2022-05-23T17:53:56.670Z"
   },
   {
    "duration": 143,
    "start_time": "2022-05-23T17:54:08.315Z"
   },
   {
    "duration": 11,
    "start_time": "2022-05-23T17:54:57.076Z"
   },
   {
    "duration": 12,
    "start_time": "2022-05-23T17:55:18.964Z"
   },
   {
    "duration": 11,
    "start_time": "2022-05-23T17:58:20.694Z"
   },
   {
    "duration": 14,
    "start_time": "2022-05-23T17:59:16.822Z"
   },
   {
    "duration": 4,
    "start_time": "2022-05-23T17:59:49.150Z"
   },
   {
    "duration": 3,
    "start_time": "2022-05-23T17:59:49.871Z"
   },
   {
    "duration": 11,
    "start_time": "2022-05-23T17:59:50.397Z"
   },
   {
    "duration": 12,
    "start_time": "2022-05-23T17:59:50.850Z"
   },
   {
    "duration": 17,
    "start_time": "2022-05-23T18:00:34.011Z"
   },
   {
    "duration": 13,
    "start_time": "2022-05-23T18:01:19.001Z"
   },
   {
    "duration": 16,
    "start_time": "2022-05-23T18:01:35.797Z"
   },
   {
    "duration": 10,
    "start_time": "2022-05-23T18:02:39.428Z"
   },
   {
    "duration": 12,
    "start_time": "2022-05-23T18:03:56.793Z"
   },
   {
    "duration": 1536,
    "start_time": "2022-05-23T18:06:25.721Z"
   },
   {
    "duration": 52,
    "start_time": "2022-05-23T18:06:27.259Z"
   },
   {
    "duration": 17,
    "start_time": "2022-05-23T18:06:27.313Z"
   },
   {
    "duration": 20,
    "start_time": "2022-05-23T18:06:27.332Z"
   },
   {
    "duration": 8,
    "start_time": "2022-05-23T18:06:27.354Z"
   },
   {
    "duration": 23,
    "start_time": "2022-05-23T18:06:27.364Z"
   },
   {
    "duration": 21,
    "start_time": "2022-05-23T18:06:27.388Z"
   },
   {
    "duration": 31,
    "start_time": "2022-05-23T18:06:27.411Z"
   },
   {
    "duration": 7,
    "start_time": "2022-05-23T18:06:27.444Z"
   },
   {
    "duration": 31,
    "start_time": "2022-05-23T18:06:27.454Z"
   },
   {
    "duration": 26,
    "start_time": "2022-05-23T18:06:27.487Z"
   },
   {
    "duration": 6,
    "start_time": "2022-05-23T18:06:27.517Z"
   },
   {
    "duration": 6,
    "start_time": "2022-05-23T18:06:27.525Z"
   },
   {
    "duration": 6,
    "start_time": "2022-05-23T18:06:27.533Z"
   },
   {
    "duration": 22,
    "start_time": "2022-05-23T18:06:27.541Z"
   },
   {
    "duration": 12,
    "start_time": "2022-05-23T18:06:27.564Z"
   },
   {
    "duration": 55,
    "start_time": "2022-05-23T18:06:27.577Z"
   },
   {
    "duration": 10,
    "start_time": "2022-05-23T18:06:27.633Z"
   },
   {
    "duration": 7,
    "start_time": "2022-05-23T18:06:27.644Z"
   },
   {
    "duration": 50,
    "start_time": "2022-05-23T18:06:27.653Z"
   },
   {
    "duration": 16,
    "start_time": "2022-05-23T18:06:27.705Z"
   },
   {
    "duration": 8,
    "start_time": "2022-05-23T18:06:27.724Z"
   },
   {
    "duration": 20,
    "start_time": "2022-05-23T18:06:27.733Z"
   },
   {
    "duration": 8,
    "start_time": "2022-05-23T18:06:27.754Z"
   },
   {
    "duration": 325,
    "start_time": "2022-05-23T18:06:27.764Z"
   },
   {
    "duration": 12,
    "start_time": "2022-05-23T18:06:28.091Z"
   },
   {
    "duration": 305,
    "start_time": "2022-05-23T18:06:28.106Z"
   },
   {
    "duration": 14,
    "start_time": "2022-05-23T18:06:28.419Z"
   },
   {
    "duration": 10,
    "start_time": "2022-05-23T18:06:28.435Z"
   },
   {
    "duration": 23,
    "start_time": "2022-05-23T18:06:28.448Z"
   },
   {
    "duration": 23,
    "start_time": "2022-05-23T18:06:28.474Z"
   },
   {
    "duration": 52,
    "start_time": "2022-05-23T18:06:28.502Z"
   },
   {
    "duration": 3,
    "start_time": "2022-05-23T18:06:28.556Z"
   },
   {
    "duration": 13,
    "start_time": "2022-05-23T18:06:28.561Z"
   },
   {
    "duration": 28,
    "start_time": "2022-05-23T18:06:28.576Z"
   },
   {
    "duration": 12,
    "start_time": "2022-05-23T18:06:28.605Z"
   },
   {
    "duration": 19,
    "start_time": "2022-05-23T18:06:28.620Z"
   },
   {
    "duration": 8,
    "start_time": "2022-05-23T18:06:28.641Z"
   },
   {
    "duration": 11,
    "start_time": "2022-05-23T18:06:28.650Z"
   },
   {
    "duration": 7,
    "start_time": "2022-05-23T18:06:28.663Z"
   },
   {
    "duration": 7,
    "start_time": "2022-05-23T18:06:28.672Z"
   },
   {
    "duration": 21,
    "start_time": "2022-05-23T18:06:28.681Z"
   },
   {
    "duration": 11,
    "start_time": "2022-05-23T18:06:28.705Z"
   },
   {
    "duration": 278,
    "start_time": "2022-05-23T18:06:28.719Z"
   },
   {
    "duration": 5,
    "start_time": "2022-05-23T18:06:29.002Z"
   },
   {
    "duration": 28,
    "start_time": "2022-05-23T18:06:29.010Z"
   },
   {
    "duration": 246,
    "start_time": "2022-05-23T18:06:29.040Z"
   },
   {
    "duration": 404,
    "start_time": "2022-05-23T18:06:29.288Z"
   },
   {
    "duration": 24,
    "start_time": "2022-05-23T18:06:29.693Z"
   },
   {
    "duration": 7,
    "start_time": "2022-05-23T18:06:29.719Z"
   },
   {
    "duration": 25,
    "start_time": "2022-05-23T18:06:29.728Z"
   },
   {
    "duration": 18,
    "start_time": "2022-05-23T18:06:29.755Z"
   },
   {
    "duration": 36,
    "start_time": "2022-05-23T18:06:29.775Z"
   },
   {
    "duration": 12,
    "start_time": "2022-05-23T18:06:29.813Z"
   },
   {
    "duration": 7,
    "start_time": "2022-05-23T18:06:29.827Z"
   },
   {
    "duration": 6,
    "start_time": "2022-05-23T18:06:29.835Z"
   },
   {
    "duration": 12,
    "start_time": "2022-05-23T18:06:29.842Z"
   },
   {
    "duration": 7,
    "start_time": "2022-05-23T18:06:29.856Z"
   },
   {
    "duration": 4,
    "start_time": "2022-05-23T18:06:29.865Z"
   },
   {
    "duration": 4,
    "start_time": "2022-05-23T18:06:29.871Z"
   },
   {
    "duration": 6,
    "start_time": "2022-05-23T18:06:29.902Z"
   },
   {
    "duration": 14,
    "start_time": "2022-05-23T18:06:29.912Z"
   },
   {
    "duration": 7019,
    "start_time": "2022-05-23T18:06:29.927Z"
   },
   {
    "duration": 1236,
    "start_time": "2022-05-23T18:06:36.948Z"
   },
   {
    "duration": 137,
    "start_time": "2022-05-23T18:06:38.186Z"
   },
   {
    "duration": 6,
    "start_time": "2022-05-23T18:06:38.325Z"
   },
   {
    "duration": 7,
    "start_time": "2022-05-23T18:06:38.332Z"
   },
   {
    "duration": 11,
    "start_time": "2022-05-23T18:06:38.341Z"
   },
   {
    "duration": 28386,
    "start_time": "2022-05-23T18:06:38.353Z"
   },
   {
    "duration": 7,
    "start_time": "2022-05-23T18:07:06.741Z"
   },
   {
    "duration": 7,
    "start_time": "2022-05-23T18:07:06.749Z"
   },
   {
    "duration": 353,
    "start_time": "2022-05-23T18:07:06.758Z"
   },
   {
    "duration": 88,
    "start_time": "2022-05-23T18:07:07.114Z"
   },
   {
    "duration": 8,
    "start_time": "2022-05-23T18:07:07.205Z"
   },
   {
    "duration": 123,
    "start_time": "2022-05-23T18:24:06.252Z"
   },
   {
    "duration": 14,
    "start_time": "2022-05-23T18:24:10.227Z"
   },
   {
    "duration": 8,
    "start_time": "2022-05-23T18:25:48.405Z"
   },
   {
    "duration": 11,
    "start_time": "2022-05-23T18:26:10.250Z"
   },
   {
    "duration": 150,
    "start_time": "2022-05-23T18:41:56.858Z"
   },
   {
    "duration": 257,
    "start_time": "2022-05-23T18:42:16.162Z"
   },
   {
    "duration": 228,
    "start_time": "2022-05-23T18:42:30.094Z"
   },
   {
    "duration": 11,
    "start_time": "2022-05-23T18:43:08.759Z"
   },
   {
    "duration": 13,
    "start_time": "2022-05-23T18:55:56.765Z"
   },
   {
    "duration": 46,
    "start_time": "2022-05-23T19:01:03.268Z"
   },
   {
    "duration": 259,
    "start_time": "2022-05-23T19:03:58.269Z"
   },
   {
    "duration": 241,
    "start_time": "2022-05-23T19:04:51.665Z"
   },
   {
    "duration": 452,
    "start_time": "2022-05-23T19:04:56.487Z"
   },
   {
    "duration": 233,
    "start_time": "2022-05-23T19:05:04.055Z"
   },
   {
    "duration": 222,
    "start_time": "2022-05-23T19:05:09.421Z"
   },
   {
    "duration": 148,
    "start_time": "2022-05-23T19:05:37.998Z"
   },
   {
    "duration": 124,
    "start_time": "2022-05-23T19:06:13.517Z"
   },
   {
    "duration": 219,
    "start_time": "2022-05-23T19:06:19.054Z"
   },
   {
    "duration": 221,
    "start_time": "2022-05-23T19:07:12.066Z"
   },
   {
    "duration": 111,
    "start_time": "2022-05-23T19:07:22.095Z"
   },
   {
    "duration": 234,
    "start_time": "2022-05-23T19:07:55.597Z"
   },
   {
    "duration": 46,
    "start_time": "2022-05-23T19:08:22.692Z"
   },
   {
    "duration": 264,
    "start_time": "2022-05-23T19:08:28.471Z"
   },
   {
    "duration": 27,
    "start_time": "2022-05-23T19:09:19.857Z"
   },
   {
    "duration": 30,
    "start_time": "2022-05-23T19:09:45.821Z"
   },
   {
    "duration": 155,
    "start_time": "2022-05-23T19:10:07.778Z"
   },
   {
    "duration": 262,
    "start_time": "2022-05-23T19:10:31.914Z"
   },
   {
    "duration": 223,
    "start_time": "2022-05-23T19:10:43.864Z"
   },
   {
    "duration": 151,
    "start_time": "2022-05-23T19:11:54.567Z"
   },
   {
    "duration": 168,
    "start_time": "2022-05-23T19:12:31.393Z"
   },
   {
    "duration": 150,
    "start_time": "2022-05-23T19:12:58.994Z"
   },
   {
    "duration": 150,
    "start_time": "2022-05-23T19:13:10.572Z"
   },
   {
    "duration": 266,
    "start_time": "2022-05-23T19:14:24.901Z"
   },
   {
    "duration": 175,
    "start_time": "2022-05-23T19:14:45.609Z"
   },
   {
    "duration": 11,
    "start_time": "2022-05-23T19:17:02.288Z"
   },
   {
    "duration": 6,
    "start_time": "2022-05-23T19:17:08.563Z"
   },
   {
    "duration": 345,
    "start_time": "2022-05-23T19:17:09.801Z"
   },
   {
    "duration": 11,
    "start_time": "2022-05-23T19:34:18.463Z"
   },
   {
    "duration": 231,
    "start_time": "2022-05-23T19:36:06.782Z"
   },
   {
    "duration": 498,
    "start_time": "2022-05-23T19:39:08.165Z"
   },
   {
    "duration": 423,
    "start_time": "2022-05-23T19:39:25.457Z"
   },
   {
    "duration": 183,
    "start_time": "2022-05-23T19:40:54.170Z"
   },
   {
    "duration": 142,
    "start_time": "2022-05-23T19:41:16.865Z"
   },
   {
    "duration": 6,
    "start_time": "2022-05-23T19:41:45.803Z"
   },
   {
    "duration": 156,
    "start_time": "2022-05-23T19:42:47.678Z"
   },
   {
    "duration": 4,
    "start_time": "2022-05-23T19:43:18.557Z"
   },
   {
    "duration": 195,
    "start_time": "2022-05-23T19:44:09.183Z"
   },
   {
    "duration": 161,
    "start_time": "2022-05-23T19:44:15.764Z"
   },
   {
    "duration": 151,
    "start_time": "2022-05-23T19:44:23.063Z"
   },
   {
    "duration": 4,
    "start_time": "2022-05-23T19:44:53.136Z"
   },
   {
    "duration": 4,
    "start_time": "2022-05-23T19:45:00.656Z"
   },
   {
    "duration": 385,
    "start_time": "2022-05-23T19:45:01.313Z"
   },
   {
    "duration": 15,
    "start_time": "2022-05-23T19:45:47.677Z"
   },
   {
    "duration": 384,
    "start_time": "2022-05-23T19:45:50.705Z"
   },
   {
    "duration": 353,
    "start_time": "2022-05-23T19:46:39.158Z"
   },
   {
    "duration": 3,
    "start_time": "2022-05-23T19:47:11.424Z"
   },
   {
    "duration": 3,
    "start_time": "2022-05-23T19:47:21.558Z"
   },
   {
    "duration": 388,
    "start_time": "2022-05-23T19:47:22.954Z"
   },
   {
    "duration": 3,
    "start_time": "2022-05-23T19:51:06.127Z"
   },
   {
    "duration": 503,
    "start_time": "2022-05-23T19:51:08.967Z"
   },
   {
    "duration": 354,
    "start_time": "2022-05-23T19:51:39.567Z"
   },
   {
    "duration": 11,
    "start_time": "2022-05-23T19:53:16.987Z"
   },
   {
    "duration": 3,
    "start_time": "2022-05-23T19:53:19.678Z"
   },
   {
    "duration": 12,
    "start_time": "2022-05-23T19:53:31.464Z"
   },
   {
    "duration": 357,
    "start_time": "2022-05-23T19:53:38.177Z"
   },
   {
    "duration": 348,
    "start_time": "2022-05-23T19:53:55.887Z"
   },
   {
    "duration": 3,
    "start_time": "2022-05-23T19:54:05.202Z"
   },
   {
    "duration": 349,
    "start_time": "2022-05-23T19:54:06.064Z"
   },
   {
    "duration": 3,
    "start_time": "2022-05-23T19:54:17.195Z"
   },
   {
    "duration": 343,
    "start_time": "2022-05-23T19:54:17.868Z"
   },
   {
    "duration": 360,
    "start_time": "2022-05-23T19:54:53.159Z"
   },
   {
    "duration": 372,
    "start_time": "2022-05-23T19:55:52.358Z"
   },
   {
    "duration": 385,
    "start_time": "2022-05-23T19:55:58.425Z"
   },
   {
    "duration": 5,
    "start_time": "2022-05-23T20:01:24.228Z"
   },
   {
    "duration": 1368,
    "start_time": "2022-05-23T20:06:34.870Z"
   },
   {
    "duration": 133,
    "start_time": "2022-05-23T20:06:36.241Z"
   },
   {
    "duration": 14,
    "start_time": "2022-05-23T20:06:36.376Z"
   },
   {
    "duration": 42,
    "start_time": "2022-05-23T20:06:36.392Z"
   },
   {
    "duration": 9,
    "start_time": "2022-05-23T20:06:36.435Z"
   },
   {
    "duration": 92,
    "start_time": "2022-05-23T20:06:36.445Z"
   },
   {
    "duration": 10,
    "start_time": "2022-05-23T20:06:36.539Z"
   },
   {
    "duration": 40,
    "start_time": "2022-05-23T20:06:36.551Z"
   },
   {
    "duration": 6,
    "start_time": "2022-05-23T20:06:36.593Z"
   },
   {
    "duration": 26,
    "start_time": "2022-05-23T20:06:36.602Z"
   },
   {
    "duration": 19,
    "start_time": "2022-05-23T20:06:36.629Z"
   },
   {
    "duration": 6,
    "start_time": "2022-05-23T20:06:36.650Z"
   },
   {
    "duration": 7,
    "start_time": "2022-05-23T20:06:36.658Z"
   },
   {
    "duration": 6,
    "start_time": "2022-05-23T20:06:36.666Z"
   },
   {
    "duration": 39,
    "start_time": "2022-05-23T20:06:36.674Z"
   },
   {
    "duration": 12,
    "start_time": "2022-05-23T20:06:36.714Z"
   },
   {
    "duration": 31,
    "start_time": "2022-05-23T20:06:36.728Z"
   },
   {
    "duration": 10,
    "start_time": "2022-05-23T20:06:36.761Z"
   },
   {
    "duration": 32,
    "start_time": "2022-05-23T20:06:36.773Z"
   },
   {
    "duration": 24,
    "start_time": "2022-05-23T20:06:36.807Z"
   },
   {
    "duration": 11,
    "start_time": "2022-05-23T20:06:36.833Z"
   },
   {
    "duration": 8,
    "start_time": "2022-05-23T20:06:36.846Z"
   },
   {
    "duration": 47,
    "start_time": "2022-05-23T20:06:36.855Z"
   },
   {
    "duration": 10,
    "start_time": "2022-05-23T20:06:36.904Z"
   },
   {
    "duration": 278,
    "start_time": "2022-05-23T20:06:36.916Z"
   },
   {
    "duration": 10,
    "start_time": "2022-05-23T20:06:37.201Z"
   },
   {
    "duration": 257,
    "start_time": "2022-05-23T20:06:37.213Z"
   },
   {
    "duration": 11,
    "start_time": "2022-05-23T20:06:37.474Z"
   },
   {
    "duration": 20,
    "start_time": "2022-05-23T20:06:37.487Z"
   },
   {
    "duration": 13,
    "start_time": "2022-05-23T20:06:37.508Z"
   },
   {
    "duration": 3,
    "start_time": "2022-05-23T20:06:37.523Z"
   },
   {
    "duration": 37,
    "start_time": "2022-05-23T20:06:37.528Z"
   },
   {
    "duration": 3,
    "start_time": "2022-05-23T20:06:37.567Z"
   },
   {
    "duration": 36,
    "start_time": "2022-05-23T20:06:37.572Z"
   },
   {
    "duration": 11,
    "start_time": "2022-05-23T20:06:37.609Z"
   },
   {
    "duration": 13,
    "start_time": "2022-05-23T20:06:37.622Z"
   },
   {
    "duration": 7,
    "start_time": "2022-05-23T20:06:37.636Z"
   },
   {
    "duration": 5,
    "start_time": "2022-05-23T20:06:37.645Z"
   },
   {
    "duration": 7,
    "start_time": "2022-05-23T20:06:37.651Z"
   },
   {
    "duration": 5,
    "start_time": "2022-05-23T20:06:37.659Z"
   },
   {
    "duration": 4,
    "start_time": "2022-05-23T20:06:37.666Z"
   },
   {
    "duration": 32,
    "start_time": "2022-05-23T20:06:37.672Z"
   },
   {
    "duration": 8,
    "start_time": "2022-05-23T20:06:37.706Z"
   },
   {
    "duration": 254,
    "start_time": "2022-05-23T20:06:37.715Z"
   },
   {
    "duration": 5,
    "start_time": "2022-05-23T20:06:37.971Z"
   },
   {
    "duration": 12,
    "start_time": "2022-05-23T20:06:37.977Z"
   },
   {
    "duration": 245,
    "start_time": "2022-05-23T20:06:37.990Z"
   },
   {
    "duration": 357,
    "start_time": "2022-05-23T20:06:38.237Z"
   },
   {
    "duration": 21,
    "start_time": "2022-05-23T20:06:38.595Z"
   },
   {
    "duration": 6,
    "start_time": "2022-05-23T20:06:38.618Z"
   },
   {
    "duration": 23,
    "start_time": "2022-05-23T20:06:38.626Z"
   },
   {
    "duration": 16,
    "start_time": "2022-05-23T20:06:38.650Z"
   },
   {
    "duration": 34,
    "start_time": "2022-05-23T20:06:38.668Z"
   },
   {
    "duration": 3,
    "start_time": "2022-05-23T20:06:38.704Z"
   },
   {
    "duration": 7,
    "start_time": "2022-05-23T20:06:38.709Z"
   },
   {
    "duration": 5,
    "start_time": "2022-05-23T20:06:38.717Z"
   },
   {
    "duration": 12,
    "start_time": "2022-05-23T20:06:38.724Z"
   },
   {
    "duration": 7,
    "start_time": "2022-05-23T20:06:38.738Z"
   },
   {
    "duration": 4,
    "start_time": "2022-05-23T20:06:38.746Z"
   },
   {
    "duration": 5,
    "start_time": "2022-05-23T20:06:38.752Z"
   },
   {
    "duration": 5,
    "start_time": "2022-05-23T20:06:38.759Z"
   },
   {
    "duration": 6,
    "start_time": "2022-05-23T20:06:38.765Z"
   },
   {
    "duration": 6029,
    "start_time": "2022-05-23T20:06:38.773Z"
   },
   {
    "duration": 1419,
    "start_time": "2022-05-23T20:06:44.803Z"
   },
   {
    "duration": 117,
    "start_time": "2022-05-23T20:06:46.224Z"
   },
   {
    "duration": 5,
    "start_time": "2022-05-23T20:06:46.343Z"
   },
   {
    "duration": 7,
    "start_time": "2022-05-23T20:06:46.349Z"
   },
   {
    "duration": 8,
    "start_time": "2022-05-23T20:06:46.358Z"
   },
   {
    "duration": 25351,
    "start_time": "2022-05-23T20:06:46.367Z"
   },
   {
    "duration": 6,
    "start_time": "2022-05-23T20:07:11.720Z"
   },
   {
    "duration": 7,
    "start_time": "2022-05-23T20:07:11.727Z"
   },
   {
    "duration": 180,
    "start_time": "2022-05-23T20:07:11.736Z"
   },
   {
    "duration": 10,
    "start_time": "2022-05-23T20:07:12.003Z"
   },
   {
    "duration": 92,
    "start_time": "2022-05-23T20:07:12.016Z"
   },
   {
    "duration": 11,
    "start_time": "2022-05-23T20:07:12.110Z"
   },
   {
    "duration": 8,
    "start_time": "2022-05-23T20:07:12.122Z"
   },
   {
    "duration": 408,
    "start_time": "2022-05-23T20:07:12.131Z"
   },
   {
    "duration": 649,
    "start_time": "2022-05-23T20:11:23.351Z"
   },
   {
    "duration": 4,
    "start_time": "2022-05-23T20:11:33.408Z"
   },
   {
    "duration": 290,
    "start_time": "2022-05-23T20:11:36.163Z"
   },
   {
    "duration": 10,
    "start_time": "2022-05-23T20:13:07.237Z"
   },
   {
    "duration": 56,
    "start_time": "2022-09-07T06:08:28.676Z"
   }
  ],
  "kernelspec": {
   "display_name": "Python 3 (ipykernel)",
   "language": "python",
   "name": "python3"
  },
  "language_info": {
   "codemirror_mode": {
    "name": "ipython",
    "version": 3
   },
   "file_extension": ".py",
   "mimetype": "text/x-python",
   "name": "python",
   "nbconvert_exporter": "python",
   "pygments_lexer": "ipython3",
   "version": "3.9.5"
  },
  "toc": {
   "base_numbering": 1,
   "nav_menu": {},
   "number_sections": true,
   "sideBar": true,
   "skip_h1_title": true,
   "title_cell": "Table of Contents",
   "title_sidebar": "Contents",
   "toc_cell": false,
   "toc_position": {},
   "toc_section_display": true,
   "toc_window_display": false
  }
 },
 "nbformat": 4,
 "nbformat_minor": 2
}
