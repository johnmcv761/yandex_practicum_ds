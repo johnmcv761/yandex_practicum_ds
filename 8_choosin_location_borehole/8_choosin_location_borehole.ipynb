{
 "cells": [
  {
   "cell_type": "markdown",
   "metadata": {},
   "source": [
    "# Выбор локации для скважины"
   ]
  },
  {
   "cell_type": "markdown",
   "metadata": {},
   "source": [
    "Добывающая компания «ГлавРосГосНефть». Нужно решить, где бурить новую скважину.\n",
    "\n",
    "Предоставлены пробы нефти в трёх регионах: в каждом 10 000 месторождений, где измерили качество нефти и объём её запасов. Необходима модель машинного обучения, которая поможет определить регион, где добыча принесёт наибольшую прибыль. Проведем анализе возможной прибыли и рисков техникой *Bootstrap.*\n",
    "\n",
    "Шаги для выбора локации:\n",
    "\n",
    "- В избранном регионе ищут месторождения, для каждого определяют значения признаков;\n",
    "- Строят модель и оценивают объём запасов;\n",
    "- Выбирают месторождения с самым высокими оценками значений. Количество месторождений зависит от бюджета компании и стоимости разработки одной скважины;\n",
    "- Прибыль равна суммарной прибыли отобранных месторождений."
   ]
  },
  {
   "cell_type": "markdown",
   "metadata": {},
   "source": [
    "**Для анализа предоставлены следующие данные.**\n",
    "\n",
    "Данные геологоразведки трёх регионов находятся в файлах:\n",
    "\n",
    "/datasets/geo_data_0.csv. Скачать датасет\n",
    "\n",
    "/datasets/geo_data_1.csv. Скачать датасет\n",
    "\n",
    "/datasets/geo_data_2.csv. Скачать датасет\n",
    "\n",
    "id — уникальный идентификатор скважины\n",
    "\n",
    "f0, f1, f2 — три признака точек (неважно, что они означают, но сами признаки значимы)\n",
    "\n",
    "product — объём запасов в скважине (тыс. баррелей)\n",
    "\n",
    "Для обучения модели подходит только линейная регрессия (остальные — недостаточно предсказуемые)\n",
    "\n",
    "При разведке региона исследуют 500 точек, из которых с помощью машинного обучения выбирают 200 лучших для разработки\n",
    "\n",
    "Бюджет на разработку скважин в регионе — 10 млрд рублей\n",
    "\n",
    "Один баррель сырья приносит 450 рублей дохода\n",
    "\n",
    "Интересуют регионы, в которых вероятность убытков меньше 2.5%"
   ]
  },
  {
   "cell_type": "markdown",
   "metadata": {},
   "source": [
    "## Загрузка и подготовка данных"
   ]
  },
  {
   "cell_type": "code",
   "execution_count": 1,
   "metadata": {},
   "outputs": [],
   "source": [
    "import pandas as pd\n",
    "import numpy as np\n",
    "\n",
    "from sklearn.model_selection import train_test_split\n",
    "from sklearn.metrics import mean_squared_error\n",
    "from sklearn.linear_model import LinearRegression\n",
    "\n",
    "import scipy.stats as stats\n",
    "\n",
    "import matplotlib.pyplot as plt"
   ]
  },
  {
   "cell_type": "code",
   "execution_count": 2,
   "metadata": {},
   "outputs": [],
   "source": [
    "df_0 = pd.read_csv('/datasets/geo_data_0.csv')"
   ]
  },
  {
   "cell_type": "code",
   "execution_count": 3,
   "metadata": {},
   "outputs": [],
   "source": [
    "df_1 = pd.read_csv('/datasets/geo_data_1.csv')"
   ]
  },
  {
   "cell_type": "code",
   "execution_count": 4,
   "metadata": {},
   "outputs": [],
   "source": [
    "df_2 = pd.read_csv('/datasets/geo_data_2.csv')"
   ]
  },
  {
   "cell_type": "markdown",
   "metadata": {},
   "source": [
    "### Общая информация"
   ]
  },
  {
   "cell_type": "code",
   "execution_count": 5,
   "metadata": {},
   "outputs": [],
   "source": [
    "# функция вывода информации о датасете\n",
    "def df_info(df):\n",
    "    display('общая информация с признаками')\n",
    "    display(df.head())\n",
    "    display('_______________________________________________________________')\n",
    "    display('информация о типах данныx')\n",
    "    display()\n",
    "    display(df.info())\n",
    "    display('_______________________________________________________________')\n",
    "    display('описание')\n",
    "    display()\n",
    "    display(df.describe())\n",
    "    display('_______________________________________________________________')\n",
    "    display('пропуски')\n",
    "    display()\n",
    "    display(df.isna().sum())\n",
    "    display('_______________________________________________________________')\n",
    "    display('дубликаты')\n",
    "    display()\n",
    "    display(df.duplicated().sum())\n",
    "    display('_______________________________________________________________')\n",
    "    display('корреляция')\n",
    "    display()\n",
    "    display(df.corr()) "
   ]
  },
  {
   "cell_type": "code",
   "execution_count": 6,
   "metadata": {},
   "outputs": [
    {
     "data": {
      "text/plain": [
       "'общая информация с признаками'"
      ]
     },
     "metadata": {},
     "output_type": "display_data"
    },
    {
     "data": {
      "text/html": [
       "<div>\n",
       "<style scoped>\n",
       "    .dataframe tbody tr th:only-of-type {\n",
       "        vertical-align: middle;\n",
       "    }\n",
       "\n",
       "    .dataframe tbody tr th {\n",
       "        vertical-align: top;\n",
       "    }\n",
       "\n",
       "    .dataframe thead th {\n",
       "        text-align: right;\n",
       "    }\n",
       "</style>\n",
       "<table border=\"1\" class=\"dataframe\">\n",
       "  <thead>\n",
       "    <tr style=\"text-align: right;\">\n",
       "      <th></th>\n",
       "      <th>id</th>\n",
       "      <th>f0</th>\n",
       "      <th>f1</th>\n",
       "      <th>f2</th>\n",
       "      <th>product</th>\n",
       "    </tr>\n",
       "  </thead>\n",
       "  <tbody>\n",
       "    <tr>\n",
       "      <th>0</th>\n",
       "      <td>txEyH</td>\n",
       "      <td>0.705745</td>\n",
       "      <td>-0.497823</td>\n",
       "      <td>1.221170</td>\n",
       "      <td>105.280062</td>\n",
       "    </tr>\n",
       "    <tr>\n",
       "      <th>1</th>\n",
       "      <td>2acmU</td>\n",
       "      <td>1.334711</td>\n",
       "      <td>-0.340164</td>\n",
       "      <td>4.365080</td>\n",
       "      <td>73.037750</td>\n",
       "    </tr>\n",
       "    <tr>\n",
       "      <th>2</th>\n",
       "      <td>409Wp</td>\n",
       "      <td>1.022732</td>\n",
       "      <td>0.151990</td>\n",
       "      <td>1.419926</td>\n",
       "      <td>85.265647</td>\n",
       "    </tr>\n",
       "    <tr>\n",
       "      <th>3</th>\n",
       "      <td>iJLyR</td>\n",
       "      <td>-0.032172</td>\n",
       "      <td>0.139033</td>\n",
       "      <td>2.978566</td>\n",
       "      <td>168.620776</td>\n",
       "    </tr>\n",
       "    <tr>\n",
       "      <th>4</th>\n",
       "      <td>Xdl7t</td>\n",
       "      <td>1.988431</td>\n",
       "      <td>0.155413</td>\n",
       "      <td>4.751769</td>\n",
       "      <td>154.036647</td>\n",
       "    </tr>\n",
       "  </tbody>\n",
       "</table>\n",
       "</div>"
      ],
      "text/plain": [
       "      id        f0        f1        f2     product\n",
       "0  txEyH  0.705745 -0.497823  1.221170  105.280062\n",
       "1  2acmU  1.334711 -0.340164  4.365080   73.037750\n",
       "2  409Wp  1.022732  0.151990  1.419926   85.265647\n",
       "3  iJLyR -0.032172  0.139033  2.978566  168.620776\n",
       "4  Xdl7t  1.988431  0.155413  4.751769  154.036647"
      ]
     },
     "metadata": {},
     "output_type": "display_data"
    },
    {
     "data": {
      "text/plain": [
       "'_______________________________________________________________'"
      ]
     },
     "metadata": {},
     "output_type": "display_data"
    },
    {
     "data": {
      "text/plain": [
       "'информация о типах данныx'"
      ]
     },
     "metadata": {},
     "output_type": "display_data"
    },
    {
     "name": "stdout",
     "output_type": "stream",
     "text": [
      "<class 'pandas.core.frame.DataFrame'>\n",
      "RangeIndex: 100000 entries, 0 to 99999\n",
      "Data columns (total 5 columns):\n",
      " #   Column   Non-Null Count   Dtype  \n",
      "---  ------   --------------   -----  \n",
      " 0   id       100000 non-null  object \n",
      " 1   f0       100000 non-null  float64\n",
      " 2   f1       100000 non-null  float64\n",
      " 3   f2       100000 non-null  float64\n",
      " 4   product  100000 non-null  float64\n",
      "dtypes: float64(4), object(1)\n",
      "memory usage: 3.8+ MB\n"
     ]
    },
    {
     "data": {
      "text/plain": [
       "None"
      ]
     },
     "metadata": {},
     "output_type": "display_data"
    },
    {
     "data": {
      "text/plain": [
       "'_______________________________________________________________'"
      ]
     },
     "metadata": {},
     "output_type": "display_data"
    },
    {
     "data": {
      "text/plain": [
       "'описание'"
      ]
     },
     "metadata": {},
     "output_type": "display_data"
    },
    {
     "data": {
      "text/html": [
       "<div>\n",
       "<style scoped>\n",
       "    .dataframe tbody tr th:only-of-type {\n",
       "        vertical-align: middle;\n",
       "    }\n",
       "\n",
       "    .dataframe tbody tr th {\n",
       "        vertical-align: top;\n",
       "    }\n",
       "\n",
       "    .dataframe thead th {\n",
       "        text-align: right;\n",
       "    }\n",
       "</style>\n",
       "<table border=\"1\" class=\"dataframe\">\n",
       "  <thead>\n",
       "    <tr style=\"text-align: right;\">\n",
       "      <th></th>\n",
       "      <th>f0</th>\n",
       "      <th>f1</th>\n",
       "      <th>f2</th>\n",
       "      <th>product</th>\n",
       "    </tr>\n",
       "  </thead>\n",
       "  <tbody>\n",
       "    <tr>\n",
       "      <th>count</th>\n",
       "      <td>100000.000000</td>\n",
       "      <td>100000.000000</td>\n",
       "      <td>100000.000000</td>\n",
       "      <td>100000.000000</td>\n",
       "    </tr>\n",
       "    <tr>\n",
       "      <th>mean</th>\n",
       "      <td>0.500419</td>\n",
       "      <td>0.250143</td>\n",
       "      <td>2.502647</td>\n",
       "      <td>92.500000</td>\n",
       "    </tr>\n",
       "    <tr>\n",
       "      <th>std</th>\n",
       "      <td>0.871832</td>\n",
       "      <td>0.504433</td>\n",
       "      <td>3.248248</td>\n",
       "      <td>44.288691</td>\n",
       "    </tr>\n",
       "    <tr>\n",
       "      <th>min</th>\n",
       "      <td>-1.408605</td>\n",
       "      <td>-0.848218</td>\n",
       "      <td>-12.088328</td>\n",
       "      <td>0.000000</td>\n",
       "    </tr>\n",
       "    <tr>\n",
       "      <th>25%</th>\n",
       "      <td>-0.072580</td>\n",
       "      <td>-0.200881</td>\n",
       "      <td>0.287748</td>\n",
       "      <td>56.497507</td>\n",
       "    </tr>\n",
       "    <tr>\n",
       "      <th>50%</th>\n",
       "      <td>0.502360</td>\n",
       "      <td>0.250252</td>\n",
       "      <td>2.515969</td>\n",
       "      <td>91.849972</td>\n",
       "    </tr>\n",
       "    <tr>\n",
       "      <th>75%</th>\n",
       "      <td>1.073581</td>\n",
       "      <td>0.700646</td>\n",
       "      <td>4.715088</td>\n",
       "      <td>128.564089</td>\n",
       "    </tr>\n",
       "    <tr>\n",
       "      <th>max</th>\n",
       "      <td>2.362331</td>\n",
       "      <td>1.343769</td>\n",
       "      <td>16.003790</td>\n",
       "      <td>185.364347</td>\n",
       "    </tr>\n",
       "  </tbody>\n",
       "</table>\n",
       "</div>"
      ],
      "text/plain": [
       "                  f0             f1             f2        product\n",
       "count  100000.000000  100000.000000  100000.000000  100000.000000\n",
       "mean        0.500419       0.250143       2.502647      92.500000\n",
       "std         0.871832       0.504433       3.248248      44.288691\n",
       "min        -1.408605      -0.848218     -12.088328       0.000000\n",
       "25%        -0.072580      -0.200881       0.287748      56.497507\n",
       "50%         0.502360       0.250252       2.515969      91.849972\n",
       "75%         1.073581       0.700646       4.715088     128.564089\n",
       "max         2.362331       1.343769      16.003790     185.364347"
      ]
     },
     "metadata": {},
     "output_type": "display_data"
    },
    {
     "data": {
      "text/plain": [
       "'_______________________________________________________________'"
      ]
     },
     "metadata": {},
     "output_type": "display_data"
    },
    {
     "data": {
      "text/plain": [
       "'пропуски'"
      ]
     },
     "metadata": {},
     "output_type": "display_data"
    },
    {
     "data": {
      "text/plain": [
       "id         0\n",
       "f0         0\n",
       "f1         0\n",
       "f2         0\n",
       "product    0\n",
       "dtype: int64"
      ]
     },
     "metadata": {},
     "output_type": "display_data"
    },
    {
     "data": {
      "text/plain": [
       "'_______________________________________________________________'"
      ]
     },
     "metadata": {},
     "output_type": "display_data"
    },
    {
     "data": {
      "text/plain": [
       "'дубликаты'"
      ]
     },
     "metadata": {},
     "output_type": "display_data"
    },
    {
     "data": {
      "text/plain": [
       "0"
      ]
     },
     "metadata": {},
     "output_type": "display_data"
    },
    {
     "data": {
      "text/plain": [
       "'_______________________________________________________________'"
      ]
     },
     "metadata": {},
     "output_type": "display_data"
    },
    {
     "data": {
      "text/plain": [
       "'корреляция'"
      ]
     },
     "metadata": {},
     "output_type": "display_data"
    },
    {
     "data": {
      "text/html": [
       "<div>\n",
       "<style scoped>\n",
       "    .dataframe tbody tr th:only-of-type {\n",
       "        vertical-align: middle;\n",
       "    }\n",
       "\n",
       "    .dataframe tbody tr th {\n",
       "        vertical-align: top;\n",
       "    }\n",
       "\n",
       "    .dataframe thead th {\n",
       "        text-align: right;\n",
       "    }\n",
       "</style>\n",
       "<table border=\"1\" class=\"dataframe\">\n",
       "  <thead>\n",
       "    <tr style=\"text-align: right;\">\n",
       "      <th></th>\n",
       "      <th>f0</th>\n",
       "      <th>f1</th>\n",
       "      <th>f2</th>\n",
       "      <th>product</th>\n",
       "    </tr>\n",
       "  </thead>\n",
       "  <tbody>\n",
       "    <tr>\n",
       "      <th>f0</th>\n",
       "      <td>1.000000</td>\n",
       "      <td>-0.440723</td>\n",
       "      <td>-0.003153</td>\n",
       "      <td>0.143536</td>\n",
       "    </tr>\n",
       "    <tr>\n",
       "      <th>f1</th>\n",
       "      <td>-0.440723</td>\n",
       "      <td>1.000000</td>\n",
       "      <td>0.001724</td>\n",
       "      <td>-0.192356</td>\n",
       "    </tr>\n",
       "    <tr>\n",
       "      <th>f2</th>\n",
       "      <td>-0.003153</td>\n",
       "      <td>0.001724</td>\n",
       "      <td>1.000000</td>\n",
       "      <td>0.483663</td>\n",
       "    </tr>\n",
       "    <tr>\n",
       "      <th>product</th>\n",
       "      <td>0.143536</td>\n",
       "      <td>-0.192356</td>\n",
       "      <td>0.483663</td>\n",
       "      <td>1.000000</td>\n",
       "    </tr>\n",
       "  </tbody>\n",
       "</table>\n",
       "</div>"
      ],
      "text/plain": [
       "               f0        f1        f2   product\n",
       "f0       1.000000 -0.440723 -0.003153  0.143536\n",
       "f1      -0.440723  1.000000  0.001724 -0.192356\n",
       "f2      -0.003153  0.001724  1.000000  0.483663\n",
       "product  0.143536 -0.192356  0.483663  1.000000"
      ]
     },
     "metadata": {},
     "output_type": "display_data"
    }
   ],
   "source": [
    "df_info(df_0)"
   ]
  },
  {
   "cell_type": "markdown",
   "metadata": {},
   "source": [
    "Таблица df_0 содержат \n",
    "\n",
    "- 100000 объектов и 5 признаков\n",
    "\n",
    "- Типы данных object - 'id' и float64 - 'f0', 'f1', 'f2', 'product'\n",
    "\n",
    "- Категориальный признак: id - удален\n",
    "\n",
    "- Пропуски типа NaN отсутствуют\n",
    "\n",
    "- Полные дубликаты отсутствуют\n",
    "\n",
    "- Высокая линейная зависимость между признаками отсутствует\n",
    "\n",
    "- Требуется масштабирование признаковне \n",
    "\n",
    "- Кодировка категориальных признаков не требуется - их нет"
   ]
  },
  {
   "cell_type": "code",
   "execution_count": null,
   "metadata": {},
   "outputs": [],
   "source": [
    "df_info(df_1)"
   ]
  },
  {
   "cell_type": "markdown",
   "metadata": {},
   "source": [
    "**Вывод:**\n",
    "\n",
    "1. Данные df_0, df_1, df_2 содержат 100000 объектов и 4 признака \n",
    "\n",
    "2. Типы данных object и float64\n",
    "\n",
    "3. Количественные признаки: 'f0', 'f1', 'f2', 'product'\n",
    "\n",
    "4. Категориальный признак: id - удален\n",
    "\n",
    "5. Пропуски типа NaN отсутствуют\n",
    "\n",
    "6. Полные дубликаты отсутствуют\n",
    "\n",
    "7. Объекты разделены на 2 выборки: обучающую - 75%, валидационную - 20% и тестовую - 20% с присвоением переменных.\n",
    "\n",
    "8. Высокая линейная зависимость между признаками отсутствует\n",
    "\n",
    "9. Масштабирование признаковне требуется\n",
    "\n",
    "10. Кодировка категориальных признаков не требуется - их нет"
   ]
  },
  {
   "cell_type": "code",
   "execution_count": null,
   "metadata": {},
   "outputs": [],
   "source": [
    "df_info(df_2)"
   ]
  },
  {
   "cell_type": "markdown",
   "metadata": {},
   "source": [
    "**Вывод:**\n",
    "\n",
    "1. Данные df_0, df_1, df_2 содержат 100000 объектов и 4 признака \n",
    "\n",
    "2. Типы данных object и float64\n",
    "\n",
    "3. Количественные признаки: 'f0', 'f1', 'f2', 'product'\n",
    "\n",
    "4. Категориальный признак: id - удален\n",
    "\n",
    "5. Пропуски типа NaN отсутствуют\n",
    "\n",
    "6. Полные дубликаты отсутствуют\n",
    "\n",
    "7. Объекты разделены на 2 выборки: обучающую - 75%, валидационную - 20% и тестовую - 20% с присвоением переменных.\n",
    "\n",
    "8. Высокая линейная зависимость между признаками отсутствует\n",
    "\n",
    "9. Масштабирование признаковне требуется\n",
    "\n",
    "10. Кодировка категориальных признаков не требуется - их нет"
   ]
  },
  {
   "cell_type": "code",
   "execution_count": null,
   "metadata": {},
   "outputs": [],
   "source": [
    "def df_hist(data):\n",
    "    \n",
    "    data.hist(bins = 30, figsize = (18, 6))\n",
    "    plt.suptitle('Распределение признаков', size = 20)"
   ]
  },
  {
   "cell_type": "code",
   "execution_count": null,
   "metadata": {},
   "outputs": [],
   "source": [
    "df_hist(df_0)"
   ]
  },
  {
   "cell_type": "code",
   "execution_count": null,
   "metadata": {},
   "outputs": [],
   "source": [
    "df_hist(df_1)"
   ]
  },
  {
   "cell_type": "code",
   "execution_count": null,
   "metadata": {},
   "outputs": [],
   "source": [
    "df_hist(df_2)"
   ]
  },
  {
   "cell_type": "markdown",
   "metadata": {},
   "source": [
    "из всех датасетов удалим сважины с запасом нефти = 0\n",
    "\n",
    "df_0 = df_0.query('product != 0')\n",
    "len(df_0)\n",
    "\n",
    "df_1 = df_1.query('product != 0')\n",
    "len(df_1)\n",
    "\n",
    "df_2 = df_2.query('product != 0')\n",
    "len(df_2)\n",
    "\n",
    "Удаление нулевых сважин пока закомментировал"
   ]
  },
  {
   "cell_type": "markdown",
   "metadata": {},
   "source": [
    "Признак id на целевой влияния не оказывает - удаляем"
   ]
  },
  {
   "cell_type": "code",
   "execution_count": null,
   "metadata": {},
   "outputs": [],
   "source": [
    "df_0 = df_0.drop('id', axis = 1)"
   ]
  },
  {
   "cell_type": "code",
   "execution_count": null,
   "metadata": {},
   "outputs": [],
   "source": [
    "df_1 = df_1.drop('id', axis = 1)"
   ]
  },
  {
   "cell_type": "code",
   "execution_count": null,
   "metadata": {},
   "outputs": [],
   "source": [
    "df_2 = df_2.drop('id', axis = 1)"
   ]
  },
  {
   "cell_type": "markdown",
   "metadata": {},
   "source": [
    "**Вывод:**\n",
    "\n",
    "1. Данные df_0, df_1, df_2 содержат 100000 объектов и 4 признака \n",
    "\n",
    "2. Типы данных object и float64\n",
    "\n",
    "3. Количественные признаки: 'f0', 'f1', 'f2', 'product'\n",
    "\n",
    "4. Категориальный признак: id - удален\n",
    "\n",
    "5. Пропуски типа NaN отсутствуют\n",
    "\n",
    "6. Полные дубликаты отсутствуют\n",
    "\n",
    "7. Объекты разделены на 2 выборки: обучающую - 75%, валидационную - 20% и тестовую - 20% с присвоением переменных.\n",
    "\n",
    "8. Высокая линейная зависимость между признаками отсутствует\n",
    "\n",
    "9. Масштабирование признаковне требуется\n",
    "\n",
    "10. Кодировка категориальных признаков не требуется - их нет"
   ]
  },
  {
   "cell_type": "markdown",
   "metadata": {},
   "source": [
    "## Обучение и проверка модели для каждого региона"
   ]
  },
  {
   "cell_type": "markdown",
   "metadata": {},
   "source": [
    "### Разбиение данных на обучающую и валидационную выборки в соотношении 75:25"
   ]
  },
  {
   "cell_type": "code",
   "execution_count": null,
   "metadata": {},
   "outputs": [],
   "source": [
    "STATE = np.random.RandomState(42)"
   ]
  },
  {
   "cell_type": "markdown",
   "metadata": {},
   "source": [
    "Выделение целевого признака"
   ]
  },
  {
   "cell_type": "code",
   "execution_count": null,
   "metadata": {},
   "outputs": [],
   "source": [
    "x_0 = df_0.drop('product', axis = 1)\n",
    "y_0 = df_0['product']"
   ]
  },
  {
   "cell_type": "code",
   "execution_count": null,
   "metadata": {},
   "outputs": [],
   "source": [
    "x_1 = df_1.drop('product', axis = 1)\n",
    "y_1 = df_1['product']    "
   ]
  },
  {
   "cell_type": "code",
   "execution_count": null,
   "metadata": {},
   "outputs": [],
   "source": [
    "x_2 = df_2.drop('product', axis = 1)\n",
    "y_2 = df_2['product']"
   ]
  },
  {
   "cell_type": "markdown",
   "metadata": {},
   "source": [
    "Разбиение данных на обучающую и валидационную выборки в соотношении 0.75:0.25"
   ]
  },
  {
   "cell_type": "code",
   "execution_count": null,
   "metadata": {},
   "outputs": [],
   "source": [
    "x_0_train, x_0_valid, y_0_train, y_0_valid = train_test_split(x_0, y_0, test_size=0.25, random_state=STATE)"
   ]
  },
  {
   "cell_type": "code",
   "execution_count": null,
   "metadata": {},
   "outputs": [],
   "source": [
    "x_1_train, x_1_valid, y_1_train, y_1_valid = train_test_split(x_1, y_1, test_size=0.25, random_state=STATE)"
   ]
  },
  {
   "cell_type": "code",
   "execution_count": null,
   "metadata": {},
   "outputs": [],
   "source": [
    "x_2_train, x_2_valid, y_2_train, y_2_valid = train_test_split(x_2, y_2, test_size=0.25, random_state=STATE)"
   ]
  },
  {
   "cell_type": "markdown",
   "metadata": {},
   "source": [
    "### Обучение модели и предсказание на валидационной выборке."
   ]
  },
  {
   "cell_type": "markdown",
   "metadata": {},
   "source": [
    "инициализация модели LinearRegression\n",
    "\n",
    "model = LinearRegression()\n",
    "\n",
    "обучение модели на тренировочной выборке\n",
    "\n",
    "model_0 = model.fit(x_0_train, y_0_train)\n",
    "model_0\n",
    "\n",
    "model_1 = model.fit(x_1_train, y_1_train)\n",
    "\n",
    "model_2 = model.fit(x_2_train, y_2_train)\n",
    "\n",
    "предсказание модели на валидационной выборке\n",
    "\n",
    "predictions_valid_0 = model_0.predict(x_0_valid)\n",
    "\n",
    "predictions_valid_1 = model_1.predict(x_1_valid)\n",
    "\n",
    "predictions_valid_2 = model_2.predict(x_2_valid)"
   ]
  },
  {
   "cell_type": "markdown",
   "metadata": {},
   "source": [
    "инициализация модели LinearRegression\n",
    "\n",
    "обучение модели на тренировочной выборке\n",
    "\n",
    "предсказание модели на валидационной выборке"
   ]
  },
  {
   "cell_type": "code",
   "execution_count": null,
   "metadata": {},
   "outputs": [],
   "source": [
    "model_0 = LinearRegression()\n",
    "model_0 = model_0.fit(x_0_train, y_0_train)\n",
    "predictions_valid_0 = model_0.predict(x_0_valid)"
   ]
  },
  {
   "cell_type": "code",
   "execution_count": null,
   "metadata": {},
   "outputs": [],
   "source": [
    "model_1 = LinearRegression()\n",
    "model_1 = model_1.fit(x_1_train, y_1_train)\n",
    "predictions_valid_1 = model_1.predict(x_1_valid)"
   ]
  },
  {
   "cell_type": "code",
   "execution_count": null,
   "metadata": {},
   "outputs": [],
   "source": [
    "model_2 = LinearRegression()\n",
    "model_2 = model_2.fit(x_2_train, y_2_train)\n",
    "predictions_valid_2 = model_2.predict(x_2_valid)"
   ]
  },
  {
   "cell_type": "markdown",
   "metadata": {},
   "source": [
    "### Предсказания и правильные ответы на валидационной выборке"
   ]
  },
  {
   "cell_type": "code",
   "execution_count": null,
   "metadata": {},
   "outputs": [],
   "source": [
    "result_0 = pd.DataFrame(y_0_valid)\n",
    "result_0['predictions_valid_0'] = predictions_valid_0\n",
    "result_0"
   ]
  },
  {
   "cell_type": "code",
   "execution_count": null,
   "metadata": {},
   "outputs": [],
   "source": [
    "result_1 = pd.DataFrame(y_1_valid)\n",
    "result_1['predictions_valid_1'] = predictions_valid_1\n",
    "result_1"
   ]
  },
  {
   "cell_type": "code",
   "execution_count": null,
   "metadata": {},
   "outputs": [],
   "source": [
    "result_2 = pd.DataFrame(y_2_valid)\n",
    "result_2['predictions_valid_2'] = predictions_valid_2\n",
    "result_2"
   ]
  },
  {
   "cell_type": "markdown",
   "metadata": {},
   "source": [
    "### Cредний запас предсказанного сырья и RMSE модели."
   ]
  },
  {
   "cell_type": "markdown",
   "metadata": {},
   "source": [
    "Функция расчета среднего запаса предсказанного сырья и RMSE модели"
   ]
  },
  {
   "cell_type": "code",
   "execution_count": null,
   "metadata": {},
   "outputs": [],
   "source": [
    "def result_rmse(predictions_valid, y_valid):\n",
    "    result_mean = predictions_valid.mean()\n",
    "    rmse = mean_squared_error(y_valid,predictions_valid)**.5\n",
    "    return result_mean, rmse"
   ]
  },
  {
   "cell_type": "markdown",
   "metadata": {},
   "source": [
    "Cредний запас предсказанного сырья"
   ]
  },
  {
   "cell_type": "code",
   "execution_count": null,
   "metadata": {},
   "outputs": [],
   "source": [
    "result_0_mean = result_rmse(y_0_valid,predictions_valid_0)[0]\n",
    "result_0_mean"
   ]
  },
  {
   "cell_type": "code",
   "execution_count": null,
   "metadata": {},
   "outputs": [],
   "source": [
    "result_1_mean = result_rmse(y_1_valid,predictions_valid_1)[0]\n",
    "result_1_mean"
   ]
  },
  {
   "cell_type": "code",
   "execution_count": null,
   "metadata": {},
   "outputs": [],
   "source": [
    "result_2_mean = result_rmse(y_2_valid,predictions_valid_2)[0]\n",
    "result_2_mean"
   ]
  },
  {
   "cell_type": "markdown",
   "metadata": {},
   "source": [
    "RMSE модели"
   ]
  },
  {
   "cell_type": "code",
   "execution_count": null,
   "metadata": {},
   "outputs": [],
   "source": [
    "rmse_0 = result_rmse(y_0_valid,predictions_valid_0)[1]\n",
    "rmse_0"
   ]
  },
  {
   "cell_type": "code",
   "execution_count": null,
   "metadata": {},
   "outputs": [],
   "source": [
    "rmse_1 = result_rmse(y_1_valid,predictions_valid_1)[1]\n",
    "rmse_1"
   ]
  },
  {
   "cell_type": "code",
   "execution_count": null,
   "metadata": {},
   "outputs": [],
   "source": [
    "rmse_2 = result_rmse(y_2_valid,predictions_valid_2)[1]\n",
    "rmse_2"
   ]
  },
  {
   "cell_type": "code",
   "execution_count": null,
   "metadata": {},
   "outputs": [],
   "source": [
    "result_2_mean, rmse_2 = result_rmse(y_2_valid,predictions_valid_2)\n",
    "result_2_mean, rmse_2"
   ]
  },
  {
   "cell_type": "markdown",
   "metadata": {},
   "source": [
    "**Вывод:**\n",
    "\n",
    "\n",
    "Средний запас предсказанного сырья нименьний (68.7 тыс. баррелей) в регионе \"1\",\n",
    "\n",
    "в регионе \"0\" и регионе \"2\" - 92.3 и 95.1 соответственно.\n",
    "\n",
    "Квадрат средней квадратичной ошибки у моделей для каждого региона отличается. \n",
    "\n",
    "Наиболее точная модель model_1 (RMSE = 0.89 тыс.бар.) - отличается сильно от остальных\n",
    "\n",
    "далее  - model_0 (RMSE = 37.75 тыс.бар.) и model_2 (RMSE = 40.14 тыс.бар.) - точность очень низкая - ошибки более 40%"
   ]
  },
  {
   "cell_type": "markdown",
   "metadata": {},
   "source": [
    "## Подготовка к расчёту прибыли"
   ]
  },
  {
   "cell_type": "markdown",
   "metadata": {},
   "source": [
    "### Все ключевые значения для расчётов сохраните в отдельных переменных."
   ]
  },
  {
   "cell_type": "markdown",
   "metadata": {},
   "source": [
    "При разведке региона исследуют 500 точек"
   ]
  },
  {
   "cell_type": "code",
   "execution_count": null,
   "metadata": {},
   "outputs": [],
   "source": [
    "TOTAL_POINTS = 500"
   ]
  },
  {
   "cell_type": "markdown",
   "metadata": {},
   "source": [
    "выбирают 200 лучших точек для разработки по данным ML"
   ]
  },
  {
   "cell_type": "code",
   "execution_count": null,
   "metadata": {},
   "outputs": [],
   "source": [
    "BEST_TOTAL_POINTS = 200"
   ]
  },
  {
   "cell_type": "markdown",
   "metadata": {},
   "source": [
    "Бюджет на разработку скважин в регионе"
   ]
  },
  {
   "cell_type": "code",
   "execution_count": null,
   "metadata": {},
   "outputs": [],
   "source": [
    "TOTAL_BUDGET = 10_000_000_000"
   ]
  },
  {
   "cell_type": "markdown",
   "metadata": {},
   "source": [
    "Бюджет на разработку одной выбранной скважины в регионе"
   ]
  },
  {
   "cell_type": "code",
   "execution_count": null,
   "metadata": {},
   "outputs": [],
   "source": [
    "POINT_BUDGET = TOTAL_BUDGET / BEST_TOTAL_POINTS"
   ]
  },
  {
   "cell_type": "markdown",
   "metadata": {},
   "source": [
    "одна тысяча баррелей сырья приносит доход"
   ]
  },
  {
   "cell_type": "code",
   "execution_count": null,
   "metadata": {},
   "outputs": [],
   "source": [
    "PROFIT_BARR = 450_000"
   ]
  },
  {
   "cell_type": "markdown",
   "metadata": {},
   "source": [
    "Нижний квантиль"
   ]
  },
  {
   "cell_type": "code",
   "execution_count": null,
   "metadata": {},
   "outputs": [],
   "source": [
    "LOWER = .025"
   ]
  },
  {
   "cell_type": "markdown",
   "metadata": {},
   "source": [
    "Верхний квантиль"
   ]
  },
  {
   "cell_type": "code",
   "execution_count": null,
   "metadata": {},
   "outputs": [],
   "source": [
    "UPPER = .975"
   ]
  },
  {
   "cell_type": "markdown",
   "metadata": {},
   "source": [
    "### Рассчитайте достаточный объём сырья для безубыточной разработки новой скважины. Сравните полученный объём сырья со средним запасом в каждом регионе."
   ]
  },
  {
   "cell_type": "code",
   "execution_count": null,
   "metadata": {},
   "outputs": [],
   "source": [
    "value_point_min = POINT_BUDGET / PROFIT_BARR\n",
    "value_point_min"
   ]
  },
  {
   "cell_type": "markdown",
   "metadata": {},
   "source": [
    "Разница среднего запаса в регионе и достаточного объём сырья "
   ]
  },
  {
   "cell_type": "code",
   "execution_count": null,
   "metadata": {},
   "outputs": [],
   "source": [
    "result_0_mean - value_point_min"
   ]
  },
  {
   "cell_type": "code",
   "execution_count": null,
   "metadata": {},
   "outputs": [],
   "source": [
    "result_1_mean - value_point_min"
   ]
  },
  {
   "cell_type": "code",
   "execution_count": null,
   "metadata": {},
   "outputs": [],
   "source": [
    "result_2_mean - value_point_min"
   ]
  },
  {
   "cell_type": "markdown",
   "metadata": {},
   "source": [
    "**Вывод:**\n",
    "\n",
    "\n",
    "Средняя скважина во всех регионах будет убыточной."
   ]
  },
  {
   "cell_type": "markdown",
   "metadata": {},
   "source": [
    "##  Функция для расчёта прибыли по выбранным скважинам и предсказаниям модели"
   ]
  },
  {
   "cell_type": "markdown",
   "metadata": {},
   "source": [
    "def revenue(target, probabilities, count):    \n",
    "    pred = pd.Series(probabilities)\n",
    "    pred.index = target.index  \n",
    "    \n",
    "    probs_sorted = pred.sort_values(ascending=False) \n",
    "    selected = target[probs_sorted.index][:count]\n",
    "    return selected.sum() * PROFIT_BARR - TOTAL_BUDGET"
   ]
  },
  {
   "cell_type": "code",
   "execution_count": null,
   "metadata": {},
   "outputs": [],
   "source": [
    "def revenue(target, probabilities, count):    \n",
    "   \n",
    "    probs_sorted = probabilities.sort_values(ascending=False) \n",
    "    selected = target[probs_sorted.index][:count]\n",
    "    return selected.sum() * PROFIT_BARR - TOTAL_BUDGET"
   ]
  },
  {
   "cell_type": "markdown",
   "metadata": {},
   "source": [
    "<div class=\"alert alert-info\"> <b>\n",
    "\n",
    "Устранил недочеты по индексации\n",
    "    \n",
    "Код сделал более емким, удалил лишние принты\n",
    "    \n",
    "Результаты приобрели логический вид   \n",
    "\n",
    "</div>"
   ]
  },
  {
   "cell_type": "markdown",
   "metadata": {},
   "source": [
    "**Вывод:**\n",
    "\n",
    "\n",
    "В регионе \"0\" выбранные по предсказаниям модели (model_0) 200 скважин из 25000 дают наибольшую из 3х регионов прибыль 3_359_141_114 руб"
   ]
  },
  {
   "cell_type": "markdown",
   "metadata": {},
   "source": [
    "## Риски и прибыль для каждого региона"
   ]
  },
  {
   "cell_type": "markdown",
   "metadata": {},
   "source": [
    "функция расчета метрик: средней прибыли, дов. интервала и риска убытков."
   ]
  },
  {
   "cell_type": "markdown",
   "metadata": {},
   "source": [
    "def profit_info(target, probabilities, count):\n",
    "    values = [] \n",
    "    target = target.reset_index(drop=True)\n",
    "    \n",
    "    for i in range(1000):\n",
    "        \n",
    "        target_subsample = target.sample(n=500, replace=True, random_state=STATE)\n",
    "        probs_subsample = pd.Series(probabilities)[target_subsample.index]\n",
    "        \n",
    "        values.append(revenue(target_subsample, probs_subsample, count))\n",
    "        \n",
    "    return values"
   ]
  },
  {
   "cell_type": "markdown",
   "metadata": {},
   "source": [
    "функция вывода информации о регионах"
   ]
  },
  {
   "cell_type": "markdown",
   "metadata": {},
   "source": [
    "def total_info(values):\n",
    "    \n",
    "    values = pd.Series(values)\n",
    "    lower = values.quantile(LOWER)\n",
    "    upper = values.quantile(UPPER)\n",
    "    risk_loss = stats.percentileofscore(values, 0)\n",
    "\n",
    "    mean = values.mean()\n",
    "    \n",
    "    print('Средняя прибыль: {:_.2f}'. format(mean))\n",
    "    print(\"2.5%-квантиль:  {:_.2f}\". format(lower))\n",
    "    print(\"97.5%-квантиль: {:_.2f}\". format(upper))\n",
    "    print(\"Риск убытков: {:.2} %\". format(risk_loss))"
   ]
  },
  {
   "cell_type": "code",
   "execution_count": null,
   "metadata": {},
   "outputs": [],
   "source": [
    "def total_info(target, probabilities, count):\n",
    "            \n",
    "    values = [] \n",
    "    target = target.reset_index(drop=True)\n",
    "    \n",
    "    for i in range(1000):\n",
    "        target_subsample = target.sample(n=500, replace=True, random_state=STATE)\n",
    "        probs_subsample = pd.Series(probabilities)[target_subsample.index]\n",
    "        values.append(revenue(target_subsample, probs_subsample, count))\n",
    "        \n",
    "    values = pd.Series(values)\n",
    "            \n",
    "    print('Средняя прибыль: {:_.2f}'. format(pd.Series(values).mean()))\n",
    "    print(\"2.5%-квантиль:  {:_.2f}\". format(values.quantile(LOWER)))\n",
    "    print(\"97.5%-квантиль: {:_.2f}\". format(values.quantile(UPPER)))\n",
    "    print(\"Риск убытков: {:.4} %\". format(stats.percentileofscore(values, 0)))"
   ]
  },
  {
   "cell_type": "markdown",
   "metadata": {},
   "source": [
    "<div class=\"alert alert-info\"> <b>\n",
    "\n",
    "Да, при каждо вызове profit_info, длина списка values увеличивается на 1000\n",
    "    \n",
    "Изменил, объявил переменную внутри функции values = [ ]\n",
    "    \n",
    "Объединил 2 функции в одну, return values при этом не добавляю\n",
    "    \n",
    "Теперь при каждом вызове total_info(target, probabilities, count), результаты немного колеблются, но их значения мне нравяться больше.\n",
    "\n",
    "</div>"
   ]
  },
  {
   "cell_type": "markdown",
   "metadata": {},
   "source": [
    "<div class=\"alert alert-block alert-warning\">\n",
    "\n",
    "Также в функцию revenue из функции profit_info и так передаются сириес с правильными индексами, то есть дополнительно переводить в сириес probabilities в функции revenue не нужно.\n",
    "\n",
    "</div>\n"
   ]
  },
  {
   "cell_type": "markdown",
   "metadata": {},
   "source": [
    "<div class=\"alert alert-info\"> <b>\n",
    "    \n",
    "Устранил недочеты по индексации функции profit_info сбросом индексации target = target.reset_index(drop=True)\n",
    "       \n",
    "Удалил перевод в сириес в функции revenue\n",
    "    \n",
    "Удалил промежуточные расчеты прибыли функцией revenue\n",
    "\n",
    "</div>"
   ]
  },
  {
   "cell_type": "markdown",
   "metadata": {},
   "source": [
    "Регион \"0\":  средняя прибыль, 95%-й доверительный интервал и риск убытков"
   ]
  },
  {
   "cell_type": "code",
   "execution_count": null,
   "metadata": {},
   "outputs": [],
   "source": [
    "total_info(y_0_valid, predictions_valid_0, BEST_TOTAL_POINTS)"
   ]
  },
  {
   "cell_type": "markdown",
   "metadata": {},
   "source": [
    "Регион \"1\":  средняя прибыль, 95%-й доверительный интервал и риск убытков"
   ]
  },
  {
   "cell_type": "code",
   "execution_count": null,
   "metadata": {},
   "outputs": [],
   "source": [
    "total_info(y_1_valid, predictions_valid_1, BEST_TOTAL_POINTS)"
   ]
  },
  {
   "cell_type": "markdown",
   "metadata": {},
   "source": [
    "Регион \"2\":  средняя прибыль, 95%-й доверительный интервал и риск убытков"
   ]
  },
  {
   "cell_type": "code",
   "execution_count": null,
   "metadata": {},
   "outputs": [],
   "source": [
    "total_info(y_2_valid, predictions_valid_2, BEST_TOTAL_POINTS)"
   ]
  },
  {
   "cell_type": "markdown",
   "metadata": {},
   "source": [
    "**Вывод:**\n",
    "\n",
    "\n",
    "Модель определения наиболее прибыльного региона и анализ рисков техникой Bootstrap, на основании представленных к анализу данных о регионах показали следующее:\n",
    "\n",
    "1. Наибольшую среднюю прибыль имеет регион \"1\" 485_513_458.54 баррелей нефти    \n",
    "\n",
    "2. Наименьшая вероятность быть убыточным менее 2.0% - регион \"1\"\n",
    "\n",
    "3. Регион \"1\" выбран, как регион выполнивший условие - риск убытков менее 2.5% и рекомендован к разработке."
   ]
  },
  {
   "cell_type": "markdown",
   "metadata": {},
   "source": [
    "<div class=\"alert alert-block alert-warning\">\n",
    "\n",
    "Также для расчета рисков можно использовать такой метод `stats.percentileofscore(values, 0)`.\n",
    "\n",
    "</div>\n"
   ]
  }
 ],
 "metadata": {
  "ExecuteTimeLog": [
   {
    "duration": 1467,
    "start_time": "2022-09-05T08:14:13.776Z"
   },
   {
    "duration": 492,
    "start_time": "2022-09-05T08:14:18.176Z"
   },
   {
    "duration": 579,
    "start_time": "2022-09-05T08:14:18.670Z"
   },
   {
    "duration": 534,
    "start_time": "2022-09-05T08:14:19.250Z"
   },
   {
    "duration": 4,
    "start_time": "2022-09-05T08:14:22.504Z"
   },
   {
    "duration": 113,
    "start_time": "2022-09-05T08:14:26.411Z"
   },
   {
    "duration": 4,
    "start_time": "2022-09-05T08:14:47.713Z"
   },
   {
    "duration": 103,
    "start_time": "2022-09-05T08:21:25.205Z"
   },
   {
    "duration": 111,
    "start_time": "2022-09-05T08:21:31.692Z"
   },
   {
    "duration": 1267,
    "start_time": "2022-09-05T08:23:40.674Z"
   },
   {
    "duration": 117,
    "start_time": "2022-09-05T08:23:41.942Z"
   },
   {
    "duration": 99,
    "start_time": "2022-09-05T08:23:42.674Z"
   },
   {
    "duration": 153,
    "start_time": "2022-09-05T08:23:43.802Z"
   },
   {
    "duration": 5,
    "start_time": "2022-09-05T08:23:45.402Z"
   },
   {
    "duration": 4,
    "start_time": "2022-09-05T08:25:17.292Z"
   },
   {
    "duration": 533,
    "start_time": "2022-09-05T08:25:20.660Z"
   },
   {
    "duration": 549,
    "start_time": "2022-09-05T08:25:25.028Z"
   },
   {
    "duration": 527,
    "start_time": "2022-09-05T08:25:26.251Z"
   },
   {
    "duration": 6,
    "start_time": "2022-09-05T08:25:39.435Z"
   },
   {
    "duration": 8,
    "start_time": "2022-09-05T08:25:40.243Z"
   },
   {
    "duration": 7,
    "start_time": "2022-09-05T08:25:40.779Z"
   },
   {
    "duration": 3,
    "start_time": "2022-09-05T08:26:27.539Z"
   },
   {
    "duration": 6,
    "start_time": "2022-09-05T08:26:29.930Z"
   },
   {
    "duration": 6,
    "start_time": "2022-09-05T08:26:30.459Z"
   },
   {
    "duration": 7,
    "start_time": "2022-09-05T08:26:31.028Z"
   },
   {
    "duration": 6,
    "start_time": "2022-09-05T08:27:53.008Z"
   },
   {
    "duration": 4,
    "start_time": "2022-09-05T08:27:53.725Z"
   },
   {
    "duration": 5,
    "start_time": "2022-09-05T08:27:54.389Z"
   },
   {
    "duration": 9,
    "start_time": "2022-09-05T08:27:57.108Z"
   },
   {
    "duration": 11,
    "start_time": "2022-09-05T08:27:57.676Z"
   },
   {
    "duration": 13,
    "start_time": "2022-09-05T08:27:58.132Z"
   },
   {
    "duration": 15,
    "start_time": "2022-09-05T08:28:53.205Z"
   },
   {
    "duration": 11,
    "start_time": "2022-09-05T08:28:53.669Z"
   },
   {
    "duration": 11,
    "start_time": "2022-09-05T08:28:54.085Z"
   },
   {
    "duration": 12,
    "start_time": "2022-09-05T08:29:00.357Z"
   },
   {
    "duration": 9,
    "start_time": "2022-09-05T08:29:19.705Z"
   },
   {
    "duration": 9,
    "start_time": "2022-09-05T08:29:30.581Z"
   },
   {
    "duration": 8,
    "start_time": "2022-09-05T08:29:38.581Z"
   },
   {
    "duration": 2,
    "start_time": "2022-09-05T08:30:25.802Z"
   },
   {
    "duration": 5,
    "start_time": "2022-09-05T08:30:40.093Z"
   },
   {
    "duration": 5,
    "start_time": "2022-09-05T08:30:41.094Z"
   },
   {
    "duration": 5,
    "start_time": "2022-09-05T08:30:41.931Z"
   },
   {
    "duration": 5,
    "start_time": "2022-09-05T08:30:46.618Z"
   },
   {
    "duration": 5,
    "start_time": "2022-09-05T08:30:47.853Z"
   },
   {
    "duration": 5,
    "start_time": "2022-09-05T08:30:49.350Z"
   },
   {
    "duration": 1341,
    "start_time": "2022-09-05T08:31:16.285Z"
   },
   {
    "duration": 122,
    "start_time": "2022-09-05T08:31:17.628Z"
   },
   {
    "duration": 106,
    "start_time": "2022-09-05T08:31:17.752Z"
   },
   {
    "duration": 105,
    "start_time": "2022-09-05T08:31:17.860Z"
   },
   {
    "duration": 5,
    "start_time": "2022-09-05T08:31:17.966Z"
   },
   {
    "duration": 146,
    "start_time": "2022-09-05T08:31:17.972Z"
   },
   {
    "duration": 146,
    "start_time": "2022-09-05T08:31:18.119Z"
   },
   {
    "duration": 135,
    "start_time": "2022-09-05T08:31:18.266Z"
   },
   {
    "duration": 3,
    "start_time": "2022-09-05T08:31:18.402Z"
   },
   {
    "duration": 529,
    "start_time": "2022-09-05T08:31:18.407Z"
   },
   {
    "duration": 513,
    "start_time": "2022-09-05T08:31:18.938Z"
   },
   {
    "duration": 653,
    "start_time": "2022-09-05T08:31:19.454Z"
   },
   {
    "duration": 7,
    "start_time": "2022-09-05T08:31:20.109Z"
   },
   {
    "duration": 23,
    "start_time": "2022-09-05T08:31:20.117Z"
   },
   {
    "duration": 15,
    "start_time": "2022-09-05T08:31:20.142Z"
   },
   {
    "duration": 10,
    "start_time": "2022-09-05T08:31:20.158Z"
   },
   {
    "duration": 13,
    "start_time": "2022-09-05T08:31:20.170Z"
   },
   {
    "duration": 18,
    "start_time": "2022-09-05T08:31:20.185Z"
   },
   {
    "duration": 26,
    "start_time": "2022-09-05T08:31:20.205Z"
   },
   {
    "duration": 31,
    "start_time": "2022-09-05T08:31:20.232Z"
   },
   {
    "duration": 11,
    "start_time": "2022-09-05T08:31:20.264Z"
   },
   {
    "duration": 11,
    "start_time": "2022-09-05T08:31:20.276Z"
   },
   {
    "duration": 69,
    "start_time": "2022-09-05T08:31:20.288Z"
   },
   {
    "duration": 105,
    "start_time": "2022-09-05T08:31:20.359Z"
   },
   {
    "duration": 187,
    "start_time": "2022-09-05T08:31:20.468Z"
   },
   {
    "duration": 99,
    "start_time": "2022-09-05T08:31:20.657Z"
   },
   {
    "duration": 23,
    "start_time": "2022-09-05T08:31:20.758Z"
   },
   {
    "duration": 10,
    "start_time": "2022-09-05T08:31:20.783Z"
   },
   {
    "duration": 6,
    "start_time": "2022-09-05T08:31:20.794Z"
   },
   {
    "duration": 8,
    "start_time": "2022-09-05T08:31:20.801Z"
   },
   {
    "duration": 9,
    "start_time": "2022-09-05T08:31:20.811Z"
   },
   {
    "duration": 8,
    "start_time": "2022-09-05T08:31:20.821Z"
   },
   {
    "duration": 7,
    "start_time": "2022-09-05T08:31:20.830Z"
   },
   {
    "duration": 17,
    "start_time": "2022-09-05T08:31:20.839Z"
   },
   {
    "duration": 6,
    "start_time": "2022-09-05T08:31:20.857Z"
   },
   {
    "duration": 5,
    "start_time": "2022-09-05T08:31:33.793Z"
   },
   {
    "duration": 3,
    "start_time": "2022-09-05T08:53:43.104Z"
   },
   {
    "duration": 107,
    "start_time": "2022-09-05T08:53:43.858Z"
   },
   {
    "duration": 2,
    "start_time": "2022-09-05T08:54:22.409Z"
   },
   {
    "duration": 11,
    "start_time": "2022-09-05T08:54:24.152Z"
   },
   {
    "duration": 8,
    "start_time": "2022-09-05T18:02:29.033Z"
   },
   {
    "duration": 8,
    "start_time": "2022-09-05T18:02:34.354Z"
   },
   {
    "duration": 3,
    "start_time": "2022-09-05T18:02:40.996Z"
   },
   {
    "duration": 3,
    "start_time": "2022-09-05T18:02:46.585Z"
   },
   {
    "duration": 5,
    "start_time": "2022-09-05T18:02:47.329Z"
   }
  ],
  "kernelspec": {
   "display_name": "Python 3 (ipykernel)",
   "language": "python",
   "name": "python3"
  },
  "language_info": {
   "codemirror_mode": {
    "name": "ipython",
    "version": 3
   },
   "file_extension": ".py",
   "mimetype": "text/x-python",
   "name": "python",
   "nbconvert_exporter": "python",
   "pygments_lexer": "ipython3",
   "version": "3.9.5"
  },
  "toc": {
   "base_numbering": 1,
   "nav_menu": {},
   "number_sections": true,
   "sideBar": true,
   "skip_h1_title": true,
   "title_cell": "Table of Contents",
   "title_sidebar": "Contents",
   "toc_cell": false,
   "toc_position": {},
   "toc_section_display": true,
   "toc_window_display": false
  }
 },
 "nbformat": 4,
 "nbformat_minor": 2
}
